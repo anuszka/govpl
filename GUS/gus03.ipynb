{
 "cells": [
  {
   "cell_type": "markdown",
   "metadata": {},
   "source": [
    "# Zgony według lat (roczne sumy), GUS\n",
    "## W podziale na powiaty, płeć i 5-letnie grupy wiekowe\n",
    "\n",
    "C.d. gus02.ipynb\n",
    "\n"
   ]
  },
  {
   "cell_type": "code",
   "execution_count": 1,
   "metadata": {},
   "outputs": [],
   "source": [
    "\"\"\"\n",
    "Set PYTHONPATH for modules in parallel directory\n",
    "\n",
    "https://stackoverflow.com/questions/3108285/in-python-script-how-do-i-set-pythonpath/3108301\n",
    "\n",
    "\"\"\"\n",
    "\n",
    "import sys\n",
    "\n",
    "try:\n",
    "    sys.path.index('..') # Or os.getcwd() for this directory\n",
    "except ValueError:\n",
    "    sys.path.append('..') # Or os.getcwd() for this directory\n",
    "\n",
    "#--------------------------------------------------------------\n",
    "\n",
    "from share.helper_functions import (\n",
    "    getfile, \n",
    "    unzip, \n",
    "    xlsx2xls, \n",
    "    display_all,\n",
    "    set_legend_right,\n",
    "    plot\n",
    "\n",
    ")\n",
    "from typing import NamedTuple\n",
    "from share.gus_functions import (\n",
    "    GUSparams,\n",
    "    Analysis\n",
    "    )\n",
    "# import govpl_functions as govpl\n",
    "import pandas as pd\n",
    "import importlib\n",
    "import glob\n",
    "import os\n",
    "from sorcery import dict_of\n",
    "import matplotlib.pyplot as plt\n"
   ]
  },
  {
   "cell_type": "code",
   "execution_count": 17,
   "metadata": {},
   "outputs": [],
   "source": [
    "dfK = pd.read_csv('./gus_data/DlaAnety/zgony_kobiety_lata.csv')\n",
    "dfK['Płeć'] = 'K'\n",
    "dfM = pd.read_csv('./gus_data/DlaAnety/zgony_mezczyzni_lata.csv')\n",
    "dfM['Płeć'] = 'M'\n",
    "df = pd.concat([dfK, dfM])\n",
    "# df.to_csv('./gus_data/DlaAnety/zgony_powiaty_grupy_wiekowe_lata.csv', index=False)"
   ]
  },
  {
   "cell_type": "code",
   "execution_count": 18,
   "metadata": {},
   "outputs": [],
   "source": [
    "numlist = range(1,54)\n",
    "collist = [f\"T{x:02d}\" for x in numlist]\n",
    "df.drop(collist, axis=1, inplace=True)\n",
    "df.to_csv('./gus_data/DlaAnety/zgony_powiaty_grupy_wiekowe_lata.csv', index=False)"
   ]
  },
  {
   "cell_type": "code",
   "execution_count": null,
   "metadata": {},
   "outputs": [],
   "source": []
  }
 ],
 "metadata": {
  "interpreter": {
   "hash": "77fe7f2921fd5ac1420359629674904b142848c704bee1cb7ff35390d0c22cc9"
  },
  "kernelspec": {
   "display_name": "Python 3.6.10 ('python3.6')",
   "language": "python",
   "name": "python3"
  },
  "language_info": {
   "codemirror_mode": {
    "name": "ipython",
    "version": 3
   },
   "file_extension": ".py",
   "mimetype": "text/x-python",
   "name": "python",
   "nbconvert_exporter": "python",
   "pygments_lexer": "ipython3",
   "version": "3.6.10"
  },
  "orig_nbformat": 4
 },
 "nbformat": 4,
 "nbformat_minor": 2
}
