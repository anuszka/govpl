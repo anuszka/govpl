{
 "cells": [
  {
   "cell_type": "markdown",
   "metadata": {},
   "source": [
    "# Use modules from shared directory"
   ]
  },
  {
   "cell_type": "code",
   "execution_count": 1,
   "metadata": {},
   "outputs": [
    {
     "data": {
      "text/plain": [
       "'/home/ochab/koronawirus_PAN/gov.pl/bitbucket/govpl/test'"
      ]
     },
     "execution_count": 1,
     "metadata": {},
     "output_type": "execute_result"
    }
   ],
   "source": [
    "pwd"
   ]
  },
  {
   "cell_type": "code",
   "execution_count": 2,
   "metadata": {},
   "outputs": [],
   "source": [
    "\"\"\"\n",
    "https://stackoverflow.com/questions/3108285/in-python-script-how-do-i-set-pythonpath/3108301\n",
    "\n",
    "\"\"\"\n",
    "import sys\n",
    "import os # if you want this directory\n",
    "\n",
    "try:\n",
    "    sys.path.index('..') # Or os.getcwd() for this directory\n",
    "except ValueError:\n",
    "    sys.path.append('..') # Or os.getcwd() for this directory\n"
   ]
  },
  {
   "cell_type": "code",
   "execution_count": 3,
   "metadata": {},
   "outputs": [
    {
     "name": "stdout",
     "output_type": "stream",
     "text": [
      "['/home/ochab/koronawirus_PAN/gov.pl/bitbucket/govpl/test', '/home/ochab/.vscode/extensions/ms-toolsai.jupyter-2021.10.1101450599/pythonFiles', '/home/ochab/.vscode/extensions/ms-toolsai.jupyter-2021.10.1101450599/pythonFiles/lib/python', '/home/ochab/anaconda2/envs/python3.6/lib/python36.zip', '/home/ochab/anaconda2/envs/python3.6/lib/python3.6', '/home/ochab/anaconda2/envs/python3.6/lib/python3.6/lib-dynload', '', '/home/ochab/anaconda2/envs/python3.6/lib/python3.6/site-packages', '/home/ochab/anaconda2/envs/python3.6/lib/python3.6/site-packages/locket-0.2.1-py3.6.egg', '/home/ochab/anaconda2/envs/python3.6/lib/python3.6/site-packages/IPython/extensions', '/home/ochab/.ipython', '..']\n"
     ]
    }
   ],
   "source": [
    "print(sys.path)"
   ]
  },
  {
   "cell_type": "code",
   "execution_count": 4,
   "metadata": {},
   "outputs": [],
   "source": [
    "from share.hello import hello"
   ]
  },
  {
   "cell_type": "code",
   "execution_count": 5,
   "metadata": {},
   "outputs": [
    {
     "name": "stdout",
     "output_type": "stream",
     "text": [
      "hello\n"
     ]
    }
   ],
   "source": [
    "hello()"
   ]
  },
  {
   "cell_type": "code",
   "execution_count": 6,
   "metadata": {},
   "outputs": [
    {
     "name": "stdout",
     "output_type": "stream",
     "text": [
      "hello\n"
     ]
    }
   ],
   "source": [
    "hello()"
   ]
  },
  {
   "cell_type": "code",
   "execution_count": null,
   "metadata": {},
   "outputs": [],
   "source": []
  }
 ],
 "metadata": {
  "interpreter": {
   "hash": "77fe7f2921fd5ac1420359629674904b142848c704bee1cb7ff35390d0c22cc9"
  },
  "kernelspec": {
   "display_name": "Python 3.6.10 64-bit ('python3.6': conda)",
   "language": "python",
   "name": "python3"
  },
  "language_info": {
   "codemirror_mode": {
    "name": "ipython",
    "version": 3
   },
   "file_extension": ".py",
   "mimetype": "text/x-python",
   "name": "python",
   "nbconvert_exporter": "python",
   "pygments_lexer": "ipython3",
   "version": "3.6.10"
  },
  "orig_nbformat": 4
 },
 "nbformat": 4,
 "nbformat_minor": 2
}
