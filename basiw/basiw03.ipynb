{
 "cells": [
  {
   "cell_type": "markdown",
   "metadata": {},
   "source": [
    "# Baza BASiW\n",
    "Przypadki i zgony w podziale na:\n",
    "* Datę\n",
    "* Województwo\n",
    "* Powiat\n",
    "* Wiek\n",
    "* Płeć\n",
    "* Stan zaszczepienia\n",
    "* Choroby współistniejące\n",
    "* Upośledzenie odporności\n",
    "* Więcej...\n",
    "\n",
    "## ŚCIĄGNIJ AKTUALNE DANE RĘCZNIE!!!\n",
    "https://basiw.mz.gov.pl/index.html#/visualization?id=3761"
   ]
  },
  {
   "cell_type": "code",
   "execution_count": 1,
   "metadata": {},
   "outputs": [],
   "source": [
    "\"\"\"\n",
    "Set PYTHONPATH for modules in parallel directory\n",
    "\n",
    "https://stackoverflow.com/questions/3108285/in-python-script-how-do-i-set-pythonpath/3108301\n",
    "\n",
    "\"\"\"\n",
    "\n",
    "import sys\n",
    "\n",
    "try:\n",
    "    sys.path.index('..') # Or os.getcwd() for this directory\n",
    "except ValueError:\n",
    "    sys.path.append('..') # Or os.getcwd() for this directory\n",
    "\n",
    "#--------------------------------------------------------------\n",
    "import pandas as pd\n",
    "from share.helper_functions import was_modified_today, display_all\n",
    "import plotly.express as px\n",
    "import plotly.graph_objects as go\n",
    "import os\n",
    "import datetime\n"
   ]
  },
  {
   "cell_type": "code",
   "execution_count": 2,
   "metadata": {},
   "outputs": [],
   "source": [
    "class RawDf:\n",
    "    df : pd.DataFrame\n",
    "    def __init__(self, df : pd.DataFrame) -> None:\n",
    "        self.df=df\n",
    "\n",
    "class BASiWformat:\n",
    "    image_dir : str\n",
    "    data_dir : str\n",
    "    data_file_deaths : str\n",
    "    data_file_cases : str\n",
    "    teryt_file : str\n",
    "    path_deaths : str\n",
    "    path_cases : str\n",
    "    path_teryt : str\n",
    "    _dfd_raw : RawDf\n",
    "    _dfc_raw : RawDf\n",
    "    _df_teryt_raw : RawDf\n",
    "    df_woj : pd.DataFrame\n",
    "    teryt_dict : dict\n",
    "    dfd : pd.DataFrame\n",
    "\n",
    "    def __init__(self,\n",
    "        image_dir : str,\n",
    "        data_dir : str,\n",
    "        data_file_deaths : str,\n",
    "        data_file_cases : str,\n",
    "        teryt_file : str\n",
    "        ) -> None:\n",
    "\n",
    "        self.image_dir=image_dir\n",
    "        self.data_dir=data_dir\n",
    "        self.data_file_deaths=data_file_deaths\n",
    "        self.data_file_cases=data_file_cases\n",
    "        self.teryt_file=teryt_file\n",
    "        self.path_deaths = os.sep.join([self.data_dir,self.data_file_deaths])\n",
    "        self.path_cases = os.sep.join([self.data_dir,self.data_file_cases])\n",
    "        self.path_teryt = os.sep.join([self.data_dir,self.teryt_file])\n",
    "        self.read_data()\n",
    "        self.make_teryt_dict()\n",
    "        self.dfd = self.format_df('data_rap_zgonu', self._dfd_raw)\n",
    "        return\n",
    "\n",
    "\n",
    "    def read_data(self) -> None:\n",
    "        # if was_modified_today(path_deaths):\n",
    "        #     print('Data up to date')\n",
    "        #     dfd = pd.read_csv(path_deaths, encoding = 'cp1250', sep = ';')\n",
    "        #     dfc = pd.read_csv(path_cases, encoding = 'cp1250', sep = ';')\n",
    "        # else:\n",
    "        #     print('Old data, need to download new data!')\n",
    "        self._dfd_raw = RawDf(pd.read_csv(self.path_deaths, encoding = 'cp1250', sep = ';',low_memory=False))\n",
    "        self._dfc_raw= RawDf(pd.read_csv(self.path_cases, encoding = 'cp1250', sep = ';', low_memory=False))\n",
    "        self._df_teryt_raw= RawDf(pd.read_csv(self.path_teryt, sep = ';'))\n",
    "        return\n",
    "        \n",
    "    def make_teryt_dict(self) -> None:\n",
    "        self.df_woj = self._df_teryt_raw.df.query('NAZWA_DOD == \"województwo\"')[['WOJ', 'NAZWA']]\n",
    "        self.df_woj['NAZWA'] = self.df_woj['NAZWA'].str.title()\n",
    "        self.df_woj.index = self.df_woj.pop('WOJ')\n",
    "        self.teryt_dict = self.df_woj.to_dict()['NAZWA']\n",
    "        return\n",
    "\n",
    "    def format_df(self, col : str, df_raw : RawDf) -> pd.DataFrame:\n",
    "        df = df_raw.df.copy(deep=True)\n",
    "        df[col] = pd.to_datetime(df[col], format = \"%Y-%m-%d\")\n",
    "        df['Województwo'] = df['teryt_woj']\n",
    "        df['Województwo'].replace(self.teryt_dict, inplace=True)\n",
    "        return df\n",
    "\n",
    "    def dfd_from(self, start_date : datetime.date) -> pd.DataFrame:\n",
    "        return self.dfd[self.dfd['data_rap_zgonu'] >= pd.to_datetime(start_date)]\n",
    "        "
   ]
  },
  {
   "cell_type": "code",
   "execution_count": 3,
   "metadata": {},
   "outputs": [
    {
     "data": {
      "text/html": [
       "<div>\n",
       "<style scoped>\n",
       "    .dataframe tbody tr th:only-of-type {\n",
       "        vertical-align: middle;\n",
       "    }\n",
       "\n",
       "    .dataframe tbody tr th {\n",
       "        vertical-align: top;\n",
       "    }\n",
       "\n",
       "    .dataframe thead th {\n",
       "        text-align: right;\n",
       "    }\n",
       "</style>\n",
       "<table border=\"1\" class=\"dataframe\">\n",
       "  <thead>\n",
       "    <tr style=\"text-align: right;\">\n",
       "      <th></th>\n",
       "      <th>data_rap_zgonu</th>\n",
       "      <th>teryt_woj</th>\n",
       "      <th>teryt_pow</th>\n",
       "      <th>plec</th>\n",
       "      <th>wiek</th>\n",
       "      <th>kat_wiek</th>\n",
       "      <th>czy_wspolistniejace</th>\n",
       "      <th>producent</th>\n",
       "      <th>dawka_ost</th>\n",
       "      <th>obniz_odpornosc</th>\n",
       "      <th>liczba_zaraportowanych_zgonow</th>\n",
       "      <th>w_pelni_zaszczepiony</th>\n",
       "      <th>Województwo</th>\n",
       "    </tr>\n",
       "  </thead>\n",
       "  <tbody>\n",
       "    <tr>\n",
       "      <th>0</th>\n",
       "      <td>2021-01-02</td>\n",
       "      <td>4</td>\n",
       "      <td>407</td>\n",
       "      <td>K</td>\n",
       "      <td>67.0</td>\n",
       "      <td>65-74</td>\n",
       "      <td>T</td>\n",
       "      <td>NaN</td>\n",
       "      <td>NaN</td>\n",
       "      <td>N</td>\n",
       "      <td>1</td>\n",
       "      <td>N</td>\n",
       "      <td>Kujawsko-Pomorskie</td>\n",
       "    </tr>\n",
       "    <tr>\n",
       "      <th>1</th>\n",
       "      <td>2021-01-02</td>\n",
       "      <td>4</td>\n",
       "      <td>407</td>\n",
       "      <td>K</td>\n",
       "      <td>90.0</td>\n",
       "      <td>85-94</td>\n",
       "      <td>T</td>\n",
       "      <td>NaN</td>\n",
       "      <td>NaN</td>\n",
       "      <td>N</td>\n",
       "      <td>1</td>\n",
       "      <td>N</td>\n",
       "      <td>Kujawsko-Pomorskie</td>\n",
       "    </tr>\n",
       "    <tr>\n",
       "      <th>2</th>\n",
       "      <td>2021-01-02</td>\n",
       "      <td>4</td>\n",
       "      <td>407</td>\n",
       "      <td>M</td>\n",
       "      <td>69.0</td>\n",
       "      <td>65-74</td>\n",
       "      <td>T</td>\n",
       "      <td>NaN</td>\n",
       "      <td>NaN</td>\n",
       "      <td>N</td>\n",
       "      <td>1</td>\n",
       "      <td>N</td>\n",
       "      <td>Kujawsko-Pomorskie</td>\n",
       "    </tr>\n",
       "    <tr>\n",
       "      <th>3</th>\n",
       "      <td>2021-01-02</td>\n",
       "      <td>4</td>\n",
       "      <td>415</td>\n",
       "      <td>M</td>\n",
       "      <td>72.0</td>\n",
       "      <td>65-74</td>\n",
       "      <td>T</td>\n",
       "      <td>NaN</td>\n",
       "      <td>NaN</td>\n",
       "      <td>N</td>\n",
       "      <td>1</td>\n",
       "      <td>N</td>\n",
       "      <td>Kujawsko-Pomorskie</td>\n",
       "    </tr>\n",
       "    <tr>\n",
       "      <th>4</th>\n",
       "      <td>2021-01-02</td>\n",
       "      <td>4</td>\n",
       "      <td>415</td>\n",
       "      <td>M</td>\n",
       "      <td>77.0</td>\n",
       "      <td>75-84</td>\n",
       "      <td>T</td>\n",
       "      <td>NaN</td>\n",
       "      <td>NaN</td>\n",
       "      <td>N</td>\n",
       "      <td>1</td>\n",
       "      <td>N</td>\n",
       "      <td>Kujawsko-Pomorskie</td>\n",
       "    </tr>\n",
       "    <tr>\n",
       "      <th>...</th>\n",
       "      <td>...</td>\n",
       "      <td>...</td>\n",
       "      <td>...</td>\n",
       "      <td>...</td>\n",
       "      <td>...</td>\n",
       "      <td>...</td>\n",
       "      <td>...</td>\n",
       "      <td>...</td>\n",
       "      <td>...</td>\n",
       "      <td>...</td>\n",
       "      <td>...</td>\n",
       "      <td>...</td>\n",
       "      <td>...</td>\n",
       "    </tr>\n",
       "    <tr>\n",
       "      <th>58975</th>\n",
       "      <td>2021-12-13</td>\n",
       "      <td>32</td>\n",
       "      <td>3261</td>\n",
       "      <td>M</td>\n",
       "      <td>83.0</td>\n",
       "      <td>75-84</td>\n",
       "      <td>T</td>\n",
       "      <td>NaN</td>\n",
       "      <td>NaN</td>\n",
       "      <td>N</td>\n",
       "      <td>1</td>\n",
       "      <td>N</td>\n",
       "      <td>Zachodniopomorskie</td>\n",
       "    </tr>\n",
       "    <tr>\n",
       "      <th>58976</th>\n",
       "      <td>2021-12-13</td>\n",
       "      <td>32</td>\n",
       "      <td>3261</td>\n",
       "      <td>M</td>\n",
       "      <td>85.0</td>\n",
       "      <td>85-94</td>\n",
       "      <td>T</td>\n",
       "      <td>Pfizer</td>\n",
       "      <td>pelna_dawka</td>\n",
       "      <td>N</td>\n",
       "      <td>1</td>\n",
       "      <td>T</td>\n",
       "      <td>Zachodniopomorskie</td>\n",
       "    </tr>\n",
       "    <tr>\n",
       "      <th>58977</th>\n",
       "      <td>2021-12-13</td>\n",
       "      <td>32</td>\n",
       "      <td>3262</td>\n",
       "      <td>M</td>\n",
       "      <td>73.0</td>\n",
       "      <td>65-74</td>\n",
       "      <td>T</td>\n",
       "      <td>Pfizer</td>\n",
       "      <td>pelna_dawka</td>\n",
       "      <td>N</td>\n",
       "      <td>1</td>\n",
       "      <td>T</td>\n",
       "      <td>Zachodniopomorskie</td>\n",
       "    </tr>\n",
       "    <tr>\n",
       "      <th>58978</th>\n",
       "      <td>2021-12-13</td>\n",
       "      <td>32</td>\n",
       "      <td>3262</td>\n",
       "      <td>M</td>\n",
       "      <td>78.0</td>\n",
       "      <td>75-84</td>\n",
       "      <td>T</td>\n",
       "      <td>Pfizer</td>\n",
       "      <td>pelna_dawka</td>\n",
       "      <td>N</td>\n",
       "      <td>1</td>\n",
       "      <td>T</td>\n",
       "      <td>Zachodniopomorskie</td>\n",
       "    </tr>\n",
       "    <tr>\n",
       "      <th>58979</th>\n",
       "      <td>2021-12-13</td>\n",
       "      <td>32</td>\n",
       "      <td>3262</td>\n",
       "      <td>M</td>\n",
       "      <td>81.0</td>\n",
       "      <td>75-84</td>\n",
       "      <td>T</td>\n",
       "      <td>Pfizer</td>\n",
       "      <td>pelna_dawka</td>\n",
       "      <td>N</td>\n",
       "      <td>1</td>\n",
       "      <td>T</td>\n",
       "      <td>Zachodniopomorskie</td>\n",
       "    </tr>\n",
       "  </tbody>\n",
       "</table>\n",
       "<p>58980 rows × 13 columns</p>\n",
       "</div>"
      ],
      "text/plain": [
       "      data_rap_zgonu  teryt_woj  teryt_pow plec  wiek kat_wiek  \\\n",
       "0         2021-01-02          4        407    K  67.0    65-74   \n",
       "1         2021-01-02          4        407    K  90.0    85-94   \n",
       "2         2021-01-02          4        407    M  69.0    65-74   \n",
       "3         2021-01-02          4        415    M  72.0    65-74   \n",
       "4         2021-01-02          4        415    M  77.0    75-84   \n",
       "...              ...        ...        ...  ...   ...      ...   \n",
       "58975     2021-12-13         32       3261    M  83.0    75-84   \n",
       "58976     2021-12-13         32       3261    M  85.0    85-94   \n",
       "58977     2021-12-13         32       3262    M  73.0    65-74   \n",
       "58978     2021-12-13         32       3262    M  78.0    75-84   \n",
       "58979     2021-12-13         32       3262    M  81.0    75-84   \n",
       "\n",
       "      czy_wspolistniejace producent    dawka_ost obniz_odpornosc  \\\n",
       "0                       T       NaN          NaN               N   \n",
       "1                       T       NaN          NaN               N   \n",
       "2                       T       NaN          NaN               N   \n",
       "3                       T       NaN          NaN               N   \n",
       "4                       T       NaN          NaN               N   \n",
       "...                   ...       ...          ...             ...   \n",
       "58975                   T       NaN          NaN               N   \n",
       "58976                   T    Pfizer  pelna_dawka               N   \n",
       "58977                   T    Pfizer  pelna_dawka               N   \n",
       "58978                   T    Pfizer  pelna_dawka               N   \n",
       "58979                   T    Pfizer  pelna_dawka               N   \n",
       "\n",
       "       liczba_zaraportowanych_zgonow w_pelni_zaszczepiony         Województwo  \n",
       "0                                  1                    N  Kujawsko-Pomorskie  \n",
       "1                                  1                    N  Kujawsko-Pomorskie  \n",
       "2                                  1                    N  Kujawsko-Pomorskie  \n",
       "3                                  1                    N  Kujawsko-Pomorskie  \n",
       "4                                  1                    N  Kujawsko-Pomorskie  \n",
       "...                              ...                  ...                 ...  \n",
       "58975                              1                    N  Zachodniopomorskie  \n",
       "58976                              1                    T  Zachodniopomorskie  \n",
       "58977                              1                    T  Zachodniopomorskie  \n",
       "58978                              1                    T  Zachodniopomorskie  \n",
       "58979                              1                    T  Zachodniopomorskie  \n",
       "\n",
       "[58980 rows x 13 columns]"
      ]
     },
     "execution_count": 3,
     "metadata": {},
     "output_type": "execute_result"
    }
   ],
   "source": [
    "basiw = BASiWformat(\n",
    "    image_dir = './images',\n",
    "    data_dir = './basiw_data',\n",
    "    data_file_deaths = 'zgony.csv',\n",
    "    data_file_cases = 'zakazenia.csv',\n",
    "    teryt_file = 'TERC_Urzedowy_2021-12-14.csv'\n",
    "    )\n",
    "\n",
    "basiw.dfd\n"
   ]
  },
  {
   "cell_type": "code",
   "execution_count": 4,
   "metadata": {},
   "outputs": [
    {
     "data": {
      "text/html": [
       "<div>\n",
       "<style scoped>\n",
       "    .dataframe tbody tr th:only-of-type {\n",
       "        vertical-align: middle;\n",
       "    }\n",
       "\n",
       "    .dataframe tbody tr th {\n",
       "        vertical-align: top;\n",
       "    }\n",
       "\n",
       "    .dataframe thead th {\n",
       "        text-align: right;\n",
       "    }\n",
       "</style>\n",
       "<table border=\"1\" class=\"dataframe\">\n",
       "  <thead>\n",
       "    <tr style=\"text-align: right;\">\n",
       "      <th></th>\n",
       "      <th>data_rap_zgonu</th>\n",
       "      <th>teryt_woj</th>\n",
       "      <th>teryt_pow</th>\n",
       "      <th>plec</th>\n",
       "      <th>wiek</th>\n",
       "      <th>kat_wiek</th>\n",
       "      <th>czy_wspolistniejace</th>\n",
       "      <th>producent</th>\n",
       "      <th>dawka_ost</th>\n",
       "      <th>obniz_odpornosc</th>\n",
       "      <th>liczba_zaraportowanych_zgonow</th>\n",
       "      <th>w_pelni_zaszczepiony</th>\n",
       "      <th>Województwo</th>\n",
       "    </tr>\n",
       "  </thead>\n",
       "  <tbody>\n",
       "    <tr>\n",
       "      <th>45248</th>\n",
       "      <td>2021-07-14</td>\n",
       "      <td>2</td>\n",
       "      <td>201</td>\n",
       "      <td>K</td>\n",
       "      <td>95.0</td>\n",
       "      <td>95+</td>\n",
       "      <td>N</td>\n",
       "      <td>NaN</td>\n",
       "      <td>NaN</td>\n",
       "      <td>N</td>\n",
       "      <td>1</td>\n",
       "      <td>N</td>\n",
       "      <td>Dolnośląskie</td>\n",
       "    </tr>\n",
       "    <tr>\n",
       "      <th>45249</th>\n",
       "      <td>2021-07-14</td>\n",
       "      <td>4</td>\n",
       "      <td>410</td>\n",
       "      <td>K</td>\n",
       "      <td>89.0</td>\n",
       "      <td>85-94</td>\n",
       "      <td>T</td>\n",
       "      <td>NaN</td>\n",
       "      <td>NaN</td>\n",
       "      <td>N</td>\n",
       "      <td>1</td>\n",
       "      <td>N</td>\n",
       "      <td>Kujawsko-Pomorskie</td>\n",
       "    </tr>\n",
       "    <tr>\n",
       "      <th>45250</th>\n",
       "      <td>2021-07-14</td>\n",
       "      <td>14</td>\n",
       "      <td>1412</td>\n",
       "      <td>K</td>\n",
       "      <td>45.0</td>\n",
       "      <td>45-54</td>\n",
       "      <td>N</td>\n",
       "      <td>NaN</td>\n",
       "      <td>NaN</td>\n",
       "      <td>N</td>\n",
       "      <td>1</td>\n",
       "      <td>N</td>\n",
       "      <td>Mazowieckie</td>\n",
       "    </tr>\n",
       "    <tr>\n",
       "      <th>45251</th>\n",
       "      <td>2021-07-14</td>\n",
       "      <td>16</td>\n",
       "      <td>1610</td>\n",
       "      <td>M</td>\n",
       "      <td>65.0</td>\n",
       "      <td>65-74</td>\n",
       "      <td>T</td>\n",
       "      <td>Astra Zeneca</td>\n",
       "      <td>jedna_dawka</td>\n",
       "      <td>N</td>\n",
       "      <td>1</td>\n",
       "      <td>N</td>\n",
       "      <td>Opolskie</td>\n",
       "    </tr>\n",
       "    <tr>\n",
       "      <th>45252</th>\n",
       "      <td>2021-07-14</td>\n",
       "      <td>18</td>\n",
       "      <td>1808</td>\n",
       "      <td>M</td>\n",
       "      <td>74.0</td>\n",
       "      <td>65-74</td>\n",
       "      <td>T</td>\n",
       "      <td>NaN</td>\n",
       "      <td>NaN</td>\n",
       "      <td>N</td>\n",
       "      <td>1</td>\n",
       "      <td>N</td>\n",
       "      <td>Podkarpackie</td>\n",
       "    </tr>\n",
       "    <tr>\n",
       "      <th>...</th>\n",
       "      <td>...</td>\n",
       "      <td>...</td>\n",
       "      <td>...</td>\n",
       "      <td>...</td>\n",
       "      <td>...</td>\n",
       "      <td>...</td>\n",
       "      <td>...</td>\n",
       "      <td>...</td>\n",
       "      <td>...</td>\n",
       "      <td>...</td>\n",
       "      <td>...</td>\n",
       "      <td>...</td>\n",
       "      <td>...</td>\n",
       "    </tr>\n",
       "    <tr>\n",
       "      <th>58975</th>\n",
       "      <td>2021-12-13</td>\n",
       "      <td>32</td>\n",
       "      <td>3261</td>\n",
       "      <td>M</td>\n",
       "      <td>83.0</td>\n",
       "      <td>75-84</td>\n",
       "      <td>T</td>\n",
       "      <td>NaN</td>\n",
       "      <td>NaN</td>\n",
       "      <td>N</td>\n",
       "      <td>1</td>\n",
       "      <td>N</td>\n",
       "      <td>Zachodniopomorskie</td>\n",
       "    </tr>\n",
       "    <tr>\n",
       "      <th>58976</th>\n",
       "      <td>2021-12-13</td>\n",
       "      <td>32</td>\n",
       "      <td>3261</td>\n",
       "      <td>M</td>\n",
       "      <td>85.0</td>\n",
       "      <td>85-94</td>\n",
       "      <td>T</td>\n",
       "      <td>Pfizer</td>\n",
       "      <td>pelna_dawka</td>\n",
       "      <td>N</td>\n",
       "      <td>1</td>\n",
       "      <td>T</td>\n",
       "      <td>Zachodniopomorskie</td>\n",
       "    </tr>\n",
       "    <tr>\n",
       "      <th>58977</th>\n",
       "      <td>2021-12-13</td>\n",
       "      <td>32</td>\n",
       "      <td>3262</td>\n",
       "      <td>M</td>\n",
       "      <td>73.0</td>\n",
       "      <td>65-74</td>\n",
       "      <td>T</td>\n",
       "      <td>Pfizer</td>\n",
       "      <td>pelna_dawka</td>\n",
       "      <td>N</td>\n",
       "      <td>1</td>\n",
       "      <td>T</td>\n",
       "      <td>Zachodniopomorskie</td>\n",
       "    </tr>\n",
       "    <tr>\n",
       "      <th>58978</th>\n",
       "      <td>2021-12-13</td>\n",
       "      <td>32</td>\n",
       "      <td>3262</td>\n",
       "      <td>M</td>\n",
       "      <td>78.0</td>\n",
       "      <td>75-84</td>\n",
       "      <td>T</td>\n",
       "      <td>Pfizer</td>\n",
       "      <td>pelna_dawka</td>\n",
       "      <td>N</td>\n",
       "      <td>1</td>\n",
       "      <td>T</td>\n",
       "      <td>Zachodniopomorskie</td>\n",
       "    </tr>\n",
       "    <tr>\n",
       "      <th>58979</th>\n",
       "      <td>2021-12-13</td>\n",
       "      <td>32</td>\n",
       "      <td>3262</td>\n",
       "      <td>M</td>\n",
       "      <td>81.0</td>\n",
       "      <td>75-84</td>\n",
       "      <td>T</td>\n",
       "      <td>Pfizer</td>\n",
       "      <td>pelna_dawka</td>\n",
       "      <td>N</td>\n",
       "      <td>1</td>\n",
       "      <td>T</td>\n",
       "      <td>Zachodniopomorskie</td>\n",
       "    </tr>\n",
       "  </tbody>\n",
       "</table>\n",
       "<p>13732 rows × 13 columns</p>\n",
       "</div>"
      ],
      "text/plain": [
       "      data_rap_zgonu  teryt_woj  teryt_pow plec  wiek kat_wiek  \\\n",
       "45248     2021-07-14          2        201    K  95.0      95+   \n",
       "45249     2021-07-14          4        410    K  89.0    85-94   \n",
       "45250     2021-07-14         14       1412    K  45.0    45-54   \n",
       "45251     2021-07-14         16       1610    M  65.0    65-74   \n",
       "45252     2021-07-14         18       1808    M  74.0    65-74   \n",
       "...              ...        ...        ...  ...   ...      ...   \n",
       "58975     2021-12-13         32       3261    M  83.0    75-84   \n",
       "58976     2021-12-13         32       3261    M  85.0    85-94   \n",
       "58977     2021-12-13         32       3262    M  73.0    65-74   \n",
       "58978     2021-12-13         32       3262    M  78.0    75-84   \n",
       "58979     2021-12-13         32       3262    M  81.0    75-84   \n",
       "\n",
       "      czy_wspolistniejace     producent    dawka_ost obniz_odpornosc  \\\n",
       "45248                   N           NaN          NaN               N   \n",
       "45249                   T           NaN          NaN               N   \n",
       "45250                   N           NaN          NaN               N   \n",
       "45251                   T  Astra Zeneca  jedna_dawka               N   \n",
       "45252                   T           NaN          NaN               N   \n",
       "...                   ...           ...          ...             ...   \n",
       "58975                   T           NaN          NaN               N   \n",
       "58976                   T        Pfizer  pelna_dawka               N   \n",
       "58977                   T        Pfizer  pelna_dawka               N   \n",
       "58978                   T        Pfizer  pelna_dawka               N   \n",
       "58979                   T        Pfizer  pelna_dawka               N   \n",
       "\n",
       "       liczba_zaraportowanych_zgonow w_pelni_zaszczepiony         Województwo  \n",
       "45248                              1                    N        Dolnośląskie  \n",
       "45249                              1                    N  Kujawsko-Pomorskie  \n",
       "45250                              1                    N         Mazowieckie  \n",
       "45251                              1                    N            Opolskie  \n",
       "45252                              1                    N        Podkarpackie  \n",
       "...                              ...                  ...                 ...  \n",
       "58975                              1                    N  Zachodniopomorskie  \n",
       "58976                              1                    T  Zachodniopomorskie  \n",
       "58977                              1                    T  Zachodniopomorskie  \n",
       "58978                              1                    T  Zachodniopomorskie  \n",
       "58979                              1                    T  Zachodniopomorskie  \n",
       "\n",
       "[13732 rows x 13 columns]"
      ]
     },
     "execution_count": 4,
     "metadata": {},
     "output_type": "execute_result"
    }
   ],
   "source": [
    "wave4_date = datetime.date(2021, 7, 14)\n",
    "dfd4 = basiw.dfd_from(wave4_date)\n",
    "dfd4\n"
   ]
  },
  {
   "cell_type": "markdown",
   "metadata": {},
   "source": [
    "### Liczba zgonów na COVID-19 w województwach na 100 tys. mieszkańców<br> w podziale na w pełni zaszczepionych i nie w pełni zaszczepionych<br> (Od 14.07.2021)"
   ]
  },
  {
   "cell_type": "code",
   "execution_count": 5,
   "metadata": {},
   "outputs": [],
   "source": [
    "dfpopwoj = pd.read_csv('/home/ochab/koronawirus_PAN/gov.pl/bitbucket/govpl/GUS/gus_data/wojewodztwa_ludnosc_2021_GUS.csv')\n",
    "dfpopwoj = pd.read_csv('/home/ochab/koronawirus_PAN/gov.pl/bitbucket/govpl/GUS/gus_data/wojewodztwa_ludnosc_2021_GUS.csv')\n",
    "dfpopwoj['Województwo'] = dfpopwoj['Województwo'].str.title()\n",
    "dfpopwoj.drop(['TERYT'], axis='columns', inplace=True)\n",
    "dfpopwoj.index = dfpopwoj['Województwo']\n",
    "dfpopwoj.drop(['Województwo'], axis='columns' , inplace = True)\n",
    "pop_dict = dfpopwoj.to_dict()['Ludność']\n",
    "# pop_dict"
   ]
  },
  {
   "cell_type": "code",
   "execution_count": 6,
   "metadata": {},
   "outputs": [],
   "source": [
    " def prepare_df(deaths_df: pd.DataFrame, from_date : datetime.date) -> pd.DataFrame:\n",
    "    base_df = deaths_df[deaths_df['data_rap_zgonu'] >= pd.to_datetime(from_date)]\n",
    "\n",
    "    df = base_df.groupby('Województwo').sum()\n",
    "    df.drop(['wiek', 'teryt_pow', 'teryt_woj'], axis = 'columns' , inplace=True)\n",
    "    df['Województwo'] = df.index\n",
    "    df['Ludność'] = df['Województwo'].replace(pop_dict)\n",
    "    # df\n",
    "\n",
    "    Q = f'(w_pelni_zaszczepiony == \"N\")'\n",
    "\n",
    "    df1 = base_df.query(Q).groupby('Województwo').sum()\n",
    "    df1.drop(['wiek', 'teryt_pow', 'teryt_woj'], axis = 'columns' , inplace=True)\n",
    "    df['Zgony nie w pełni zaszczepionych'] = df1\n",
    "\n",
    "    Q = f'(w_pelni_zaszczepiony == \"T\")'\n",
    "\n",
    "    df1 = base_df.query(Q).groupby('Województwo').sum()\n",
    "    df1.drop(['wiek', 'teryt_pow', 'teryt_woj'], axis = 'columns' , inplace=True)\n",
    "    df['Zgony w pełni zaszczepionych'] = df1\n",
    "\n",
    "\n",
    "\n",
    "\n",
    "    df['Zgony nie w pełni zaszczepionych na 100 tys. mieszkańców'] = df['Zgony nie w pełni zaszczepionych'] / df['Ludność'] * 1e5\n",
    "    df['Zgony w pełni zaszczepionych na 100 tys. mieszkańców'] = df['Zgony w pełni zaszczepionych'] / df['Ludność'] * 1e5\n",
    "\n",
    "    df = df.sort_values(['Zgony nie w pełni zaszczepionych na 100 tys. mieszkańców'], ascending=False)\n",
    "    return df\n",
    "\n",
    "    \n",
    "def plot_df(from_date : datetime.date, df : pd.DataFrame, image_dir : str) -> pd.DataFrame:\n",
    "    nie = 'Zgony nie w pełni zaszczepionych na 100 tys. mieszkańców'\n",
    "    tak = 'Zgony w pełni zaszczepionych na 100 tys. mieszkańców'\n",
    "\n",
    "    fig = go.Figure(\n",
    "        data=[\n",
    "            go.Bar(\n",
    "                name = nie, \n",
    "                x=df['Województwo'], \n",
    "                y=df[nie], \n",
    "                offsetgroup=1,\n",
    "                text = df[nie]\n",
    "                ),\n",
    "            go.Bar(\n",
    "                name = tak, \n",
    "                x=df['Województwo'], \n",
    "                y=df[tak], \n",
    "                offsetgroup=2,\n",
    "                text = df[tak]\n",
    "                )\n",
    "        ]\n",
    "    )\n",
    "\n",
    "    fig.update_traces(\n",
    "        texttemplate='%{text:2.1f}', \n",
    "        textposition='outside',\n",
    "        )\n",
    "\n",
    "    fig.update_layout(\n",
    "        barmode='group', \n",
    "        width=800, \n",
    "        height=500,\n",
    "        title = \"Liczba zgonów na COVID-19 w województwach na 100 tys. mieszkańców<br>\\\n",
    "        w podziale na w pełni zaszczepionych i nie w pełni zaszczepionych<br>(Od \" + str(from_date) + \")\",\n",
    "        yaxis_title=\"Liczba zgonów na 100 tys.\",\n",
    "        legend_title=\"\",\n",
    "        uniformtext_minsize=6, \n",
    "        uniformtext_mode='show',\n",
    "        legend=dict(\n",
    "            y=-0.5,\n",
    "            xanchor=\"center\",\n",
    "            x=0.5\n",
    "            ),\n",
    "        title_xanchor='center',\n",
    "        title_x = 0.5,\n",
    "        title_font_size=16\n",
    "        )\n",
    "    fig.update_xaxes(tickangle=33)\n",
    "    fig.show()\n",
    "    fig.write_image(os.sep.join([image_dir, 'zgony_szczep_1e5_woj_od'+str(from_date)+'.jpg']), scale=4)\n",
    "    return\n"
   ]
  },
  {
   "cell_type": "code",
   "execution_count": 7,
   "metadata": {},
   "outputs": [
    {
     "data": {
      "application/vnd.plotly.v1+json": {
       "config": {
        "plotlyServerURL": "https://plot.ly"
       },
       "data": [
        {
         "name": "Zgony nie w pełni zaszczepionych na 100 tys. mieszkańców",
         "offsetgroup": "1",
         "text": [
          71.49477534508877,
          58.1273449099367,
          36.72399349622318,
          32.453771292028655,
          28.42528825211139,
          27.92689359853539,
          26.193413195286734,
          25.838425126809483,
          25.461433929761363,
          23.4280551987265,
          21.267180356945037,
          18.564976304056025,
          17.872302399356595,
          15.701640235095597,
          15.494647602255164,
          14.318155378406262
         ],
         "textposition": "outside",
         "texttemplate": "%{text:2.1f}",
         "type": "bar",
         "x": [
          "Lubelskie",
          "Podlaskie",
          "Podkarpackie",
          "Opolskie",
          "Łódzkie",
          "Świętokrzyskie",
          "Mazowieckie",
          "Warmińsko-Mazurskie",
          "Kujawsko-Pomorskie",
          "Małopolskie",
          "Zachodniopomorskie",
          "Śląskie",
          "Lubuskie",
          "Wielkopolskie",
          "Dolnośląskie",
          "Pomorskie"
         ],
         "y": [
          71.49477534508877,
          58.1273449099367,
          36.72399349622318,
          32.453771292028655,
          28.42528825211139,
          27.92689359853539,
          26.193413195286734,
          25.838425126809483,
          25.461433929761363,
          23.4280551987265,
          21.267180356945037,
          18.564976304056025,
          17.872302399356595,
          15.701640235095597,
          15.494647602255164,
          14.318155378406262
         ]
        },
        {
         "name": "Zgony w pełni zaszczepionych na 100 tys. mieszkańców",
         "offsetgroup": "2",
         "text": [
          20.188444573412916,
          16.193835092211106,
          7.731367051836458,
          12.080583635518554,
          8.941865568485257,
          9.717252450952373,
          10.525291298035697,
          11.154292814305734,
          11.736508592385237,
          9.441594210250228,
          9.537649129437748,
          8.859545046779733,
          6.95033982197201,
          6.892705458393514,
          5.637561515999088,
          7.627826823615241
         ],
         "textposition": "outside",
         "texttemplate": "%{text:2.1f}",
         "type": "bar",
         "x": [
          "Lubelskie",
          "Podlaskie",
          "Podkarpackie",
          "Opolskie",
          "Łódzkie",
          "Świętokrzyskie",
          "Mazowieckie",
          "Warmińsko-Mazurskie",
          "Kujawsko-Pomorskie",
          "Małopolskie",
          "Zachodniopomorskie",
          "Śląskie",
          "Lubuskie",
          "Wielkopolskie",
          "Dolnośląskie",
          "Pomorskie"
         ],
         "y": [
          20.188444573412916,
          16.193835092211106,
          7.731367051836458,
          12.080583635518554,
          8.941865568485257,
          9.717252450952373,
          10.525291298035697,
          11.154292814305734,
          11.736508592385237,
          9.441594210250228,
          9.537649129437748,
          8.859545046779733,
          6.95033982197201,
          6.892705458393514,
          5.637561515999088,
          7.627826823615241
         ]
        }
       ],
       "layout": {
        "barmode": "group",
        "height": 500,
        "legend": {
         "title": {
          "text": ""
         },
         "x": 0.5,
         "xanchor": "center",
         "y": -0.5
        },
        "template": {
         "data": {
          "bar": [
           {
            "error_x": {
             "color": "#2a3f5f"
            },
            "error_y": {
             "color": "#2a3f5f"
            },
            "marker": {
             "line": {
              "color": "#E5ECF6",
              "width": 0.5
             }
            },
            "type": "bar"
           }
          ],
          "barpolar": [
           {
            "marker": {
             "line": {
              "color": "#E5ECF6",
              "width": 0.5
             }
            },
            "type": "barpolar"
           }
          ],
          "carpet": [
           {
            "aaxis": {
             "endlinecolor": "#2a3f5f",
             "gridcolor": "white",
             "linecolor": "white",
             "minorgridcolor": "white",
             "startlinecolor": "#2a3f5f"
            },
            "baxis": {
             "endlinecolor": "#2a3f5f",
             "gridcolor": "white",
             "linecolor": "white",
             "minorgridcolor": "white",
             "startlinecolor": "#2a3f5f"
            },
            "type": "carpet"
           }
          ],
          "choropleth": [
           {
            "colorbar": {
             "outlinewidth": 0,
             "ticks": ""
            },
            "type": "choropleth"
           }
          ],
          "contour": [
           {
            "colorbar": {
             "outlinewidth": 0,
             "ticks": ""
            },
            "colorscale": [
             [
              0,
              "#0d0887"
             ],
             [
              0.1111111111111111,
              "#46039f"
             ],
             [
              0.2222222222222222,
              "#7201a8"
             ],
             [
              0.3333333333333333,
              "#9c179e"
             ],
             [
              0.4444444444444444,
              "#bd3786"
             ],
             [
              0.5555555555555556,
              "#d8576b"
             ],
             [
              0.6666666666666666,
              "#ed7953"
             ],
             [
              0.7777777777777778,
              "#fb9f3a"
             ],
             [
              0.8888888888888888,
              "#fdca26"
             ],
             [
              1,
              "#f0f921"
             ]
            ],
            "type": "contour"
           }
          ],
          "contourcarpet": [
           {
            "colorbar": {
             "outlinewidth": 0,
             "ticks": ""
            },
            "type": "contourcarpet"
           }
          ],
          "heatmap": [
           {
            "colorbar": {
             "outlinewidth": 0,
             "ticks": ""
            },
            "colorscale": [
             [
              0,
              "#0d0887"
             ],
             [
              0.1111111111111111,
              "#46039f"
             ],
             [
              0.2222222222222222,
              "#7201a8"
             ],
             [
              0.3333333333333333,
              "#9c179e"
             ],
             [
              0.4444444444444444,
              "#bd3786"
             ],
             [
              0.5555555555555556,
              "#d8576b"
             ],
             [
              0.6666666666666666,
              "#ed7953"
             ],
             [
              0.7777777777777778,
              "#fb9f3a"
             ],
             [
              0.8888888888888888,
              "#fdca26"
             ],
             [
              1,
              "#f0f921"
             ]
            ],
            "type": "heatmap"
           }
          ],
          "heatmapgl": [
           {
            "colorbar": {
             "outlinewidth": 0,
             "ticks": ""
            },
            "colorscale": [
             [
              0,
              "#0d0887"
             ],
             [
              0.1111111111111111,
              "#46039f"
             ],
             [
              0.2222222222222222,
              "#7201a8"
             ],
             [
              0.3333333333333333,
              "#9c179e"
             ],
             [
              0.4444444444444444,
              "#bd3786"
             ],
             [
              0.5555555555555556,
              "#d8576b"
             ],
             [
              0.6666666666666666,
              "#ed7953"
             ],
             [
              0.7777777777777778,
              "#fb9f3a"
             ],
             [
              0.8888888888888888,
              "#fdca26"
             ],
             [
              1,
              "#f0f921"
             ]
            ],
            "type": "heatmapgl"
           }
          ],
          "histogram": [
           {
            "marker": {
             "colorbar": {
              "outlinewidth": 0,
              "ticks": ""
             }
            },
            "type": "histogram"
           }
          ],
          "histogram2d": [
           {
            "colorbar": {
             "outlinewidth": 0,
             "ticks": ""
            },
            "colorscale": [
             [
              0,
              "#0d0887"
             ],
             [
              0.1111111111111111,
              "#46039f"
             ],
             [
              0.2222222222222222,
              "#7201a8"
             ],
             [
              0.3333333333333333,
              "#9c179e"
             ],
             [
              0.4444444444444444,
              "#bd3786"
             ],
             [
              0.5555555555555556,
              "#d8576b"
             ],
             [
              0.6666666666666666,
              "#ed7953"
             ],
             [
              0.7777777777777778,
              "#fb9f3a"
             ],
             [
              0.8888888888888888,
              "#fdca26"
             ],
             [
              1,
              "#f0f921"
             ]
            ],
            "type": "histogram2d"
           }
          ],
          "histogram2dcontour": [
           {
            "colorbar": {
             "outlinewidth": 0,
             "ticks": ""
            },
            "colorscale": [
             [
              0,
              "#0d0887"
             ],
             [
              0.1111111111111111,
              "#46039f"
             ],
             [
              0.2222222222222222,
              "#7201a8"
             ],
             [
              0.3333333333333333,
              "#9c179e"
             ],
             [
              0.4444444444444444,
              "#bd3786"
             ],
             [
              0.5555555555555556,
              "#d8576b"
             ],
             [
              0.6666666666666666,
              "#ed7953"
             ],
             [
              0.7777777777777778,
              "#fb9f3a"
             ],
             [
              0.8888888888888888,
              "#fdca26"
             ],
             [
              1,
              "#f0f921"
             ]
            ],
            "type": "histogram2dcontour"
           }
          ],
          "mesh3d": [
           {
            "colorbar": {
             "outlinewidth": 0,
             "ticks": ""
            },
            "type": "mesh3d"
           }
          ],
          "parcoords": [
           {
            "line": {
             "colorbar": {
              "outlinewidth": 0,
              "ticks": ""
             }
            },
            "type": "parcoords"
           }
          ],
          "pie": [
           {
            "automargin": true,
            "type": "pie"
           }
          ],
          "scatter": [
           {
            "marker": {
             "colorbar": {
              "outlinewidth": 0,
              "ticks": ""
             }
            },
            "type": "scatter"
           }
          ],
          "scatter3d": [
           {
            "line": {
             "colorbar": {
              "outlinewidth": 0,
              "ticks": ""
             }
            },
            "marker": {
             "colorbar": {
              "outlinewidth": 0,
              "ticks": ""
             }
            },
            "type": "scatter3d"
           }
          ],
          "scattercarpet": [
           {
            "marker": {
             "colorbar": {
              "outlinewidth": 0,
              "ticks": ""
             }
            },
            "type": "scattercarpet"
           }
          ],
          "scattergeo": [
           {
            "marker": {
             "colorbar": {
              "outlinewidth": 0,
              "ticks": ""
             }
            },
            "type": "scattergeo"
           }
          ],
          "scattergl": [
           {
            "marker": {
             "colorbar": {
              "outlinewidth": 0,
              "ticks": ""
             }
            },
            "type": "scattergl"
           }
          ],
          "scattermapbox": [
           {
            "marker": {
             "colorbar": {
              "outlinewidth": 0,
              "ticks": ""
             }
            },
            "type": "scattermapbox"
           }
          ],
          "scatterpolar": [
           {
            "marker": {
             "colorbar": {
              "outlinewidth": 0,
              "ticks": ""
             }
            },
            "type": "scatterpolar"
           }
          ],
          "scatterpolargl": [
           {
            "marker": {
             "colorbar": {
              "outlinewidth": 0,
              "ticks": ""
             }
            },
            "type": "scatterpolargl"
           }
          ],
          "scatterternary": [
           {
            "marker": {
             "colorbar": {
              "outlinewidth": 0,
              "ticks": ""
             }
            },
            "type": "scatterternary"
           }
          ],
          "surface": [
           {
            "colorbar": {
             "outlinewidth": 0,
             "ticks": ""
            },
            "colorscale": [
             [
              0,
              "#0d0887"
             ],
             [
              0.1111111111111111,
              "#46039f"
             ],
             [
              0.2222222222222222,
              "#7201a8"
             ],
             [
              0.3333333333333333,
              "#9c179e"
             ],
             [
              0.4444444444444444,
              "#bd3786"
             ],
             [
              0.5555555555555556,
              "#d8576b"
             ],
             [
              0.6666666666666666,
              "#ed7953"
             ],
             [
              0.7777777777777778,
              "#fb9f3a"
             ],
             [
              0.8888888888888888,
              "#fdca26"
             ],
             [
              1,
              "#f0f921"
             ]
            ],
            "type": "surface"
           }
          ],
          "table": [
           {
            "cells": {
             "fill": {
              "color": "#EBF0F8"
             },
             "line": {
              "color": "white"
             }
            },
            "header": {
             "fill": {
              "color": "#C8D4E3"
             },
             "line": {
              "color": "white"
             }
            },
            "type": "table"
           }
          ]
         },
         "layout": {
          "annotationdefaults": {
           "arrowcolor": "#2a3f5f",
           "arrowhead": 0,
           "arrowwidth": 1
          },
          "coloraxis": {
           "colorbar": {
            "outlinewidth": 0,
            "ticks": ""
           }
          },
          "colorscale": {
           "diverging": [
            [
             0,
             "#8e0152"
            ],
            [
             0.1,
             "#c51b7d"
            ],
            [
             0.2,
             "#de77ae"
            ],
            [
             0.3,
             "#f1b6da"
            ],
            [
             0.4,
             "#fde0ef"
            ],
            [
             0.5,
             "#f7f7f7"
            ],
            [
             0.6,
             "#e6f5d0"
            ],
            [
             0.7,
             "#b8e186"
            ],
            [
             0.8,
             "#7fbc41"
            ],
            [
             0.9,
             "#4d9221"
            ],
            [
             1,
             "#276419"
            ]
           ],
           "sequential": [
            [
             0,
             "#0d0887"
            ],
            [
             0.1111111111111111,
             "#46039f"
            ],
            [
             0.2222222222222222,
             "#7201a8"
            ],
            [
             0.3333333333333333,
             "#9c179e"
            ],
            [
             0.4444444444444444,
             "#bd3786"
            ],
            [
             0.5555555555555556,
             "#d8576b"
            ],
            [
             0.6666666666666666,
             "#ed7953"
            ],
            [
             0.7777777777777778,
             "#fb9f3a"
            ],
            [
             0.8888888888888888,
             "#fdca26"
            ],
            [
             1,
             "#f0f921"
            ]
           ],
           "sequentialminus": [
            [
             0,
             "#0d0887"
            ],
            [
             0.1111111111111111,
             "#46039f"
            ],
            [
             0.2222222222222222,
             "#7201a8"
            ],
            [
             0.3333333333333333,
             "#9c179e"
            ],
            [
             0.4444444444444444,
             "#bd3786"
            ],
            [
             0.5555555555555556,
             "#d8576b"
            ],
            [
             0.6666666666666666,
             "#ed7953"
            ],
            [
             0.7777777777777778,
             "#fb9f3a"
            ],
            [
             0.8888888888888888,
             "#fdca26"
            ],
            [
             1,
             "#f0f921"
            ]
           ]
          },
          "colorway": [
           "#636efa",
           "#EF553B",
           "#00cc96",
           "#ab63fa",
           "#FFA15A",
           "#19d3f3",
           "#FF6692",
           "#B6E880",
           "#FF97FF",
           "#FECB52"
          ],
          "font": {
           "color": "#2a3f5f"
          },
          "geo": {
           "bgcolor": "white",
           "lakecolor": "white",
           "landcolor": "#E5ECF6",
           "showlakes": true,
           "showland": true,
           "subunitcolor": "white"
          },
          "hoverlabel": {
           "align": "left"
          },
          "hovermode": "closest",
          "mapbox": {
           "style": "light"
          },
          "paper_bgcolor": "white",
          "plot_bgcolor": "#E5ECF6",
          "polar": {
           "angularaxis": {
            "gridcolor": "white",
            "linecolor": "white",
            "ticks": ""
           },
           "bgcolor": "#E5ECF6",
           "radialaxis": {
            "gridcolor": "white",
            "linecolor": "white",
            "ticks": ""
           }
          },
          "scene": {
           "xaxis": {
            "backgroundcolor": "#E5ECF6",
            "gridcolor": "white",
            "gridwidth": 2,
            "linecolor": "white",
            "showbackground": true,
            "ticks": "",
            "zerolinecolor": "white"
           },
           "yaxis": {
            "backgroundcolor": "#E5ECF6",
            "gridcolor": "white",
            "gridwidth": 2,
            "linecolor": "white",
            "showbackground": true,
            "ticks": "",
            "zerolinecolor": "white"
           },
           "zaxis": {
            "backgroundcolor": "#E5ECF6",
            "gridcolor": "white",
            "gridwidth": 2,
            "linecolor": "white",
            "showbackground": true,
            "ticks": "",
            "zerolinecolor": "white"
           }
          },
          "shapedefaults": {
           "line": {
            "color": "#2a3f5f"
           }
          },
          "ternary": {
           "aaxis": {
            "gridcolor": "white",
            "linecolor": "white",
            "ticks": ""
           },
           "baxis": {
            "gridcolor": "white",
            "linecolor": "white",
            "ticks": ""
           },
           "bgcolor": "#E5ECF6",
           "caxis": {
            "gridcolor": "white",
            "linecolor": "white",
            "ticks": ""
           }
          },
          "title": {
           "x": 0.05
          },
          "xaxis": {
           "automargin": true,
           "gridcolor": "white",
           "linecolor": "white",
           "ticks": "",
           "title": {
            "standoff": 15
           },
           "zerolinecolor": "white",
           "zerolinewidth": 2
          },
          "yaxis": {
           "automargin": true,
           "gridcolor": "white",
           "linecolor": "white",
           "ticks": "",
           "title": {
            "standoff": 15
           },
           "zerolinecolor": "white",
           "zerolinewidth": 2
          }
         }
        },
        "title": {
         "font": {
          "size": 16
         },
         "text": "Liczba zgonów na COVID-19 w województwach na 100 tys. mieszkańców<br>       w podziale na w pełni zaszczepionych i nie w pełni zaszczepionych<br>(Od 2021-07-14)",
         "x": 0.5,
         "xanchor": "center"
        },
        "uniformtext": {
         "minsize": 6,
         "mode": "show"
        },
        "width": 800,
        "xaxis": {
         "tickangle": 33
        },
        "yaxis": {
         "title": {
          "text": "Liczba zgonów na 100 tys."
         }
        }
       }
      }
     },
     "metadata": {},
     "output_type": "display_data"
    }
   ],
   "source": [
    "from_date = datetime.date(2021,7,14)\n",
    "\n",
    "df = prepare_df(basiw.dfd, from_date)\n",
    "plot_df(from_date, df, basiw.image_dir)"
   ]
  },
  {
   "cell_type": "markdown",
   "metadata": {},
   "source": [
    "### Liczba zgonów na COVID-19 w Polsce na 100 tys. mieszkańców<br> w podziale na grupy wiekowe<br> (Od 14.07.2021)"
   ]
  },
  {
   "cell_type": "markdown",
   "metadata": {},
   "source": [
    "Potem dla województw"
   ]
  },
  {
   "cell_type": "markdown",
   "metadata": {},
   "source": [
    "**Potrzebny jest słownik z danymi: Populacja Polski / regionu wg grup wiekowych !!!**"
   ]
  },
  {
   "cell_type": "code",
   "execution_count": 28,
   "metadata": {},
   "outputs": [],
   "source": [
    "def group_by(base_df: pd.DataFrame, col: str) -> pd.DataFrame:\n",
    "   df = base_df.groupby(col).sum()\n",
    "   df.drop(['wiek', 'teryt_pow', 'teryt_woj'], axis = 'columns' , inplace=True)\n",
    "   # df[col] = df.index\n",
    "   # df['Ludność'] = df[col].replace(pop_dict)   ##################### !!!\n",
    "   # df\n",
    "\n",
    "   Q = f'(w_pelni_zaszczepiony == \"N\")'\n",
    "\n",
    "   df1 = base_df.query(Q).groupby(col).sum()\n",
    "   df1.drop(['wiek', 'teryt_pow', 'teryt_woj'], axis = 'columns' , inplace=True)\n",
    "   df['Zgony nie w pełni zaszczepionych'] = df1\n",
    "\n",
    "   Q = f'(w_pelni_zaszczepiony == \"T\")'\n",
    "\n",
    "   df1 = base_df.query(Q).groupby(col).sum()\n",
    "   df1.drop(['wiek', 'teryt_pow', 'teryt_woj'], axis = 'columns' , inplace=True)\n",
    "   df['Zgony w pełni zaszczepionych'] = df1\n",
    "   return df\n",
    " \n",
    " \n",
    "def prepare_df2(deaths_df: pd.DataFrame, col: str, from_date : datetime.date) -> pd.DataFrame:\n",
    "   base_df = deaths_df[deaths_df['data_rap_zgonu'] >= pd.to_datetime(from_date)]\n",
    "\n",
    "   df = group_by(base_df, col)\n",
    "   display(df)\n",
    "\n",
    "   df['Zgony nie w pełni zaszczepionych na 100 tys. mieszkańców'] = df['Zgony nie w pełni zaszczepionych'].to_numpy() / df['Ludność'].to_numpy() * 1e5\n",
    "   # display(df)\n",
    "   \n",
    "   # df['Zgony w pełni zaszczepionych na 100 tys. mieszkańców'] = df['Zgony w pełni zaszczepionych'].to_numpy() / df['Ludność'] * 1e5\n",
    "\n",
    "   # df = df.sort_values(['Zgony nie w pełni zaszczepionych na 100 tys. mieszkańców'], ascending=False)\n",
    "   return df"
   ]
  },
  {
   "cell_type": "code",
   "execution_count": 27,
   "metadata": {},
   "outputs": [
    {
     "data": {
      "text/html": [
       "<div>\n",
       "<style scoped>\n",
       "    .dataframe tbody tr th:only-of-type {\n",
       "        vertical-align: middle;\n",
       "    }\n",
       "\n",
       "    .dataframe tbody tr th {\n",
       "        vertical-align: top;\n",
       "    }\n",
       "\n",
       "    .dataframe thead th {\n",
       "        text-align: right;\n",
       "    }\n",
       "</style>\n",
       "<table border=\"1\" class=\"dataframe\">\n",
       "  <thead>\n",
       "    <tr style=\"text-align: right;\">\n",
       "      <th></th>\n",
       "      <th>liczba_zaraportowanych_zgonow</th>\n",
       "      <th>kat_wiek</th>\n",
       "      <th>Ludność</th>\n",
       "      <th>Zgony nie w pełni zaszczepionych</th>\n",
       "      <th>Zgony w pełni zaszczepionych</th>\n",
       "    </tr>\n",
       "    <tr>\n",
       "      <th>kat_wiek</th>\n",
       "      <th></th>\n",
       "      <th></th>\n",
       "      <th></th>\n",
       "      <th></th>\n",
       "      <th></th>\n",
       "    </tr>\n",
       "  </thead>\n",
       "  <tbody>\n",
       "    <tr>\n",
       "      <th>0-18</th>\n",
       "      <td>9</td>\n",
       "      <td>0-18</td>\n",
       "      <td>0-18</td>\n",
       "      <td>8</td>\n",
       "      <td>1.0</td>\n",
       "    </tr>\n",
       "    <tr>\n",
       "      <th>19-24</th>\n",
       "      <td>18</td>\n",
       "      <td>19-24</td>\n",
       "      <td>19-24</td>\n",
       "      <td>17</td>\n",
       "      <td>1.0</td>\n",
       "    </tr>\n",
       "    <tr>\n",
       "      <th>25-34</th>\n",
       "      <td>99</td>\n",
       "      <td>25-34</td>\n",
       "      <td>25-34</td>\n",
       "      <td>92</td>\n",
       "      <td>7.0</td>\n",
       "    </tr>\n",
       "    <tr>\n",
       "      <th>35-44</th>\n",
       "      <td>253</td>\n",
       "      <td>35-44</td>\n",
       "      <td>35-44</td>\n",
       "      <td>228</td>\n",
       "      <td>25.0</td>\n",
       "    </tr>\n",
       "    <tr>\n",
       "      <th>45-54</th>\n",
       "      <td>622</td>\n",
       "      <td>45-54</td>\n",
       "      <td>45-54</td>\n",
       "      <td>542</td>\n",
       "      <td>80.0</td>\n",
       "    </tr>\n",
       "    <tr>\n",
       "      <th>55-64</th>\n",
       "      <td>1465</td>\n",
       "      <td>55-64</td>\n",
       "      <td>55-64</td>\n",
       "      <td>1172</td>\n",
       "      <td>293.0</td>\n",
       "    </tr>\n",
       "    <tr>\n",
       "      <th>65-74</th>\n",
       "      <td>3565</td>\n",
       "      <td>65-74</td>\n",
       "      <td>65-74</td>\n",
       "      <td>2432</td>\n",
       "      <td>1133.0</td>\n",
       "    </tr>\n",
       "    <tr>\n",
       "      <th>75-84</th>\n",
       "      <td>3929</td>\n",
       "      <td>75-84</td>\n",
       "      <td>75-84</td>\n",
       "      <td>2714</td>\n",
       "      <td>1215.0</td>\n",
       "    </tr>\n",
       "    <tr>\n",
       "      <th>85-94</th>\n",
       "      <td>3536</td>\n",
       "      <td>85-94</td>\n",
       "      <td>85-94</td>\n",
       "      <td>2622</td>\n",
       "      <td>914.0</td>\n",
       "    </tr>\n",
       "    <tr>\n",
       "      <th>95+</th>\n",
       "      <td>367</td>\n",
       "      <td>95+</td>\n",
       "      <td>95+</td>\n",
       "      <td>299</td>\n",
       "      <td>68.0</td>\n",
       "    </tr>\n",
       "    <tr>\n",
       "      <th>BD</th>\n",
       "      <td>2</td>\n",
       "      <td>BD</td>\n",
       "      <td>BD</td>\n",
       "      <td>2</td>\n",
       "      <td>NaN</td>\n",
       "    </tr>\n",
       "  </tbody>\n",
       "</table>\n",
       "</div>"
      ],
      "text/plain": [
       "          liczba_zaraportowanych_zgonow kat_wiek Ludność  \\\n",
       "kat_wiek                                                   \n",
       "0-18                                  9     0-18    0-18   \n",
       "19-24                                18    19-24   19-24   \n",
       "25-34                                99    25-34   25-34   \n",
       "35-44                               253    35-44   35-44   \n",
       "45-54                               622    45-54   45-54   \n",
       "55-64                              1465    55-64   55-64   \n",
       "65-74                              3565    65-74   65-74   \n",
       "75-84                              3929    75-84   75-84   \n",
       "85-94                              3536    85-94   85-94   \n",
       "95+                                 367      95+     95+   \n",
       "BD                                    2       BD      BD   \n",
       "\n",
       "          Zgony nie w pełni zaszczepionych  Zgony w pełni zaszczepionych  \n",
       "kat_wiek                                                                  \n",
       "0-18                                     8                           1.0  \n",
       "19-24                                   17                           1.0  \n",
       "25-34                                   92                           7.0  \n",
       "35-44                                  228                          25.0  \n",
       "45-54                                  542                          80.0  \n",
       "55-64                                 1172                         293.0  \n",
       "65-74                                 2432                        1133.0  \n",
       "75-84                                 2714                        1215.0  \n",
       "85-94                                 2622                         914.0  \n",
       "95+                                    299                          68.0  \n",
       "BD                                       2                           NaN  "
      ]
     },
     "metadata": {},
     "output_type": "display_data"
    },
    {
     "ename": "TypeError",
     "evalue": "unsupported operand type(s) for /: 'int' and 'str'",
     "output_type": "error",
     "traceback": [
      "\u001b[0;31m---------------------------------------------------------------------------\u001b[0m",
      "\u001b[0;31mTypeError\u001b[0m                                 Traceback (most recent call last)",
      "\u001b[0;32m<ipython-input-27-7c7eed7b6beb>\u001b[0m in \u001b[0;36m<module>\u001b[0;34m\u001b[0m\n\u001b[1;32m      1\u001b[0m \u001b[0mfrom_date\u001b[0m \u001b[0;34m=\u001b[0m \u001b[0mdatetime\u001b[0m\u001b[0;34m.\u001b[0m\u001b[0mdate\u001b[0m\u001b[0;34m(\u001b[0m\u001b[0;36m2021\u001b[0m\u001b[0;34m,\u001b[0m\u001b[0;36m7\u001b[0m\u001b[0;34m,\u001b[0m\u001b[0;36m14\u001b[0m\u001b[0;34m)\u001b[0m\u001b[0;34m\u001b[0m\u001b[0;34m\u001b[0m\u001b[0m\n\u001b[1;32m      2\u001b[0m \u001b[0;34m\u001b[0m\u001b[0m\n\u001b[0;32m----> 3\u001b[0;31m \u001b[0mdf\u001b[0m \u001b[0;34m=\u001b[0m \u001b[0mprepare_df2\u001b[0m\u001b[0;34m(\u001b[0m\u001b[0mbasiw\u001b[0m\u001b[0;34m.\u001b[0m\u001b[0mdfd\u001b[0m\u001b[0;34m,\u001b[0m \u001b[0;34m'kat_wiek'\u001b[0m\u001b[0;34m,\u001b[0m \u001b[0mfrom_date\u001b[0m\u001b[0;34m)\u001b[0m\u001b[0;34m\u001b[0m\u001b[0;34m\u001b[0m\u001b[0m\n\u001b[0m",
      "\u001b[0;32m<ipython-input-26-9071d5e79cb4>\u001b[0m in \u001b[0;36mprepare_df2\u001b[0;34m(deaths_df, col, from_date)\u001b[0m\n\u001b[1;32m     26\u001b[0m    \u001b[0mdisplay\u001b[0m\u001b[0;34m(\u001b[0m\u001b[0mdf\u001b[0m\u001b[0;34m)\u001b[0m\u001b[0;34m\u001b[0m\u001b[0;34m\u001b[0m\u001b[0m\n\u001b[1;32m     27\u001b[0m \u001b[0;34m\u001b[0m\u001b[0m\n\u001b[0;32m---> 28\u001b[0;31m    \u001b[0mdf\u001b[0m\u001b[0;34m[\u001b[0m\u001b[0;34m'Zgony nie w pełni zaszczepionych na 100 tys. mieszkańców'\u001b[0m\u001b[0;34m]\u001b[0m \u001b[0;34m=\u001b[0m \u001b[0mdf\u001b[0m\u001b[0;34m[\u001b[0m\u001b[0;34m'Zgony nie w pełni zaszczepionych'\u001b[0m\u001b[0;34m]\u001b[0m\u001b[0;34m.\u001b[0m\u001b[0mto_numpy\u001b[0m\u001b[0;34m(\u001b[0m\u001b[0;34m)\u001b[0m \u001b[0;34m/\u001b[0m \u001b[0mdf\u001b[0m\u001b[0;34m[\u001b[0m\u001b[0;34m'Ludność'\u001b[0m\u001b[0;34m]\u001b[0m\u001b[0;34m.\u001b[0m\u001b[0mto_numpy\u001b[0m\u001b[0;34m(\u001b[0m\u001b[0;34m)\u001b[0m \u001b[0;34m*\u001b[0m \u001b[0;36m1e5\u001b[0m\u001b[0;34m\u001b[0m\u001b[0;34m\u001b[0m\u001b[0m\n\u001b[0m\u001b[1;32m     29\u001b[0m    \u001b[0;31m# display(df)\u001b[0m\u001b[0;34m\u001b[0m\u001b[0;34m\u001b[0m\u001b[0;34m\u001b[0m\u001b[0m\n\u001b[1;32m     30\u001b[0m \u001b[0;34m\u001b[0m\u001b[0m\n",
      "\u001b[0;31mTypeError\u001b[0m: unsupported operand type(s) for /: 'int' and 'str'"
     ]
    }
   ],
   "source": [
    "from_date = datetime.date(2021,7,14)\n",
    "\n",
    "df = prepare_df2(basiw.dfd, 'kat_wiek', from_date)"
   ]
  },
  {
   "cell_type": "code",
   "execution_count": null,
   "metadata": {},
   "outputs": [],
   "source": []
  }
 ],
 "metadata": {
  "interpreter": {
   "hash": "77fe7f2921fd5ac1420359629674904b142848c704bee1cb7ff35390d0c22cc9"
  },
  "kernelspec": {
   "display_name": "Python 3.6.10 64-bit ('python3.6': conda)",
   "language": "python",
   "name": "python3"
  },
  "language_info": {
   "codemirror_mode": {
    "name": "ipython",
    "version": 3
   },
   "file_extension": ".py",
   "mimetype": "text/x-python",
   "name": "python",
   "nbconvert_exporter": "python",
   "pygments_lexer": "ipython3",
   "version": "3.6.10"
  },
  "orig_nbformat": 4
 },
 "nbformat": 4,
 "nbformat_minor": 2
}
