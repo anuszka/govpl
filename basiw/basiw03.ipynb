{
 "cells": [
  {
   "cell_type": "markdown",
   "metadata": {},
   "source": [
    "# Baza BASiW\n",
    "Przypadki i zgony w podziale na:\n",
    "* Datę\n",
    "* Województwo\n",
    "* Powiat\n",
    "* Wiek\n",
    "* Płeć\n",
    "* Stan zaszczepienia\n",
    "* Choroby współistniejące\n",
    "* Upośledzenie odporności\n",
    "* Więcej...\n",
    "\n",
    "## ŚCIĄGNIJ AKTUALNE DANE RĘCZNIE!!!\n",
    "https://basiw.mz.gov.pl/index.html#/visualization?id=3761"
   ]
  },
  {
   "cell_type": "markdown",
   "metadata": {},
   "source": [
    "W formatowaniu danych doklejam kolumnę z nazwą województwa, bo jest to dla mnie wygodniejsze do czytania, gdy wyświetlam tabelę dla kontroli."
   ]
  },
  {
   "cell_type": "code",
   "execution_count": 1,
   "metadata": {},
   "outputs": [],
   "source": [
    "\"\"\"\n",
    "Set PYTHONPATH for modules in parallel directory\n",
    "\n",
    "https://stackoverflow.com/questions/3108285/in-python-script-how-do-i-set-pythonpath/3108301\n",
    "\n",
    "\"\"\"\n",
    "\n",
    "import sys\n",
    "\n",
    "try:\n",
    "    sys.path.index('..') # Or os.getcwd() for this directory\n",
    "except ValueError:\n",
    "    sys.path.append('..') # Or os.getcwd() for this directory\n",
    "\n",
    "#--------------------------------------------------------------\n",
    "import pandas as pd\n",
    "import plotly.express as px\n",
    "import plotly.graph_objects as go\n",
    "import os\n",
    "import datetime\n",
    "from share.helper_functions import was_modified_today, display_all\n",
    "# from share.basiw_functions import BASiWformat"
   ]
  },
  {
   "cell_type": "code",
   "execution_count": 2,
   "metadata": {},
   "outputs": [],
   "source": [
    "\n",
    "class RawDf:\n",
    "    df : pd.DataFrame\n",
    "    def __init__(self, df : pd.DataFrame) -> None:\n",
    "        self.df=df\n",
    "\n",
    "class BASiWformat:\n",
    "    image_dir : str\n",
    "    data_dir : str\n",
    "    data_file_deaths : str\n",
    "    data_file_cases : str\n",
    "    teryt_file : str\n",
    "    path_deaths : str\n",
    "    path_cases : str\n",
    "    path_teryt : str\n",
    "    _dfd_raw : RawDf\n",
    "    _dfc_raw : RawDf\n",
    "    _df_teryt_raw : RawDf\n",
    "    df_woj : pd.DataFrame\n",
    "    teryt_dict : dict\n",
    "    dfd : pd.DataFrame\n",
    "\n",
    "    def __init__(self,\n",
    "        image_dir : str,\n",
    "        data_dir : str,\n",
    "        data_file_deaths : str,\n",
    "        data_file_cases : str,\n",
    "        teryt_file : str\n",
    "        ) -> None:\n",
    "\n",
    "        self.image_dir=image_dir\n",
    "        self.data_dir=data_dir\n",
    "        self.data_file_deaths=data_file_deaths\n",
    "        self.data_file_cases=data_file_cases\n",
    "        self.teryt_file=teryt_file\n",
    "        self.path_deaths = os.sep.join([self.data_dir,self.data_file_deaths])\n",
    "        self.path_cases = os.sep.join([self.data_dir,self.data_file_cases])\n",
    "        self.path_teryt = os.sep.join([self.data_dir,self.teryt_file])\n",
    "        self.read_data()\n",
    "        self.make_teryt_dict()\n",
    "        self.dfd = self.format_df('data_rap_zgonu', self._dfd_raw)\n",
    "        return\n",
    "\n",
    "\n",
    "    def read_data(self) -> None:\n",
    "        # if was_modified_today(path_deaths):\n",
    "        #     print('Data up to date')\n",
    "        #     dfd = pd.read_csv(path_deaths, encoding = 'cp1250', sep = ';')\n",
    "        #     dfc = pd.read_csv(path_cases, encoding = 'cp1250', sep = ';')\n",
    "        # else:\n",
    "        #     print('Old data, need to download new data!')\n",
    "        self._dfd_raw = RawDf(pd.read_csv(self.path_deaths, encoding = 'cp1250', sep = ';',low_memory=False))\n",
    "        self._dfc_raw= RawDf(pd.read_csv(self.path_cases, encoding = 'cp1250', sep = ';', low_memory=False))\n",
    "        self._df_teryt_raw= RawDf(pd.read_csv(self.path_teryt, sep = ';'))\n",
    "        return\n",
    "        \n",
    "    def make_teryt_dict(self) -> None:\n",
    "        self.df_woj = self._df_teryt_raw.df.query('NAZWA_DOD == \"województwo\"')[['WOJ', 'NAZWA']]\n",
    "        self.df_woj['NAZWA'] = self.df_woj['NAZWA'].str.title()\n",
    "        self.df_woj.index = self.df_woj.pop('WOJ')\n",
    "        self.teryt_dict = self.df_woj.to_dict()['NAZWA']\n",
    "        return\n",
    "\n",
    "    def format_df(self, col : str, df_raw : RawDf) -> pd.DataFrame:\n",
    "        df = df_raw.df.copy(deep=True)\n",
    "        df[col] = pd.to_datetime(df[col], format = \"%Y-%m-%d\")\n",
    "        df['Województwo'] = df['teryt_woj']\n",
    "        df['Województwo'].replace(self.teryt_dict, inplace=True)\n",
    "        return df\n",
    "\n",
    "    def dfd_from(self, start_date : datetime.date) -> pd.DataFrame:\n",
    "        return self.dfd[self.dfd['data_rap_zgonu'] >= pd.to_datetime(start_date)]"
   ]
  },
  {
   "cell_type": "code",
   "execution_count": 3,
   "metadata": {},
   "outputs": [
    {
     "data": {
      "text/html": [
       "<div>\n",
       "<style scoped>\n",
       "    .dataframe tbody tr th:only-of-type {\n",
       "        vertical-align: middle;\n",
       "    }\n",
       "\n",
       "    .dataframe tbody tr th {\n",
       "        vertical-align: top;\n",
       "    }\n",
       "\n",
       "    .dataframe thead th {\n",
       "        text-align: right;\n",
       "    }\n",
       "</style>\n",
       "<table border=\"1\" class=\"dataframe\">\n",
       "  <thead>\n",
       "    <tr style=\"text-align: right;\">\n",
       "      <th></th>\n",
       "      <th>data_rap_zgonu</th>\n",
       "      <th>teryt_woj</th>\n",
       "      <th>teryt_pow</th>\n",
       "      <th>plec</th>\n",
       "      <th>wiek</th>\n",
       "      <th>kat_wiek</th>\n",
       "      <th>czy_wspolistniejace</th>\n",
       "      <th>producent</th>\n",
       "      <th>dawka_ost</th>\n",
       "      <th>obniz_odpornosc</th>\n",
       "      <th>liczba_zaraportowanych_zgonow</th>\n",
       "      <th>w_pelni_zaszczepiony</th>\n",
       "      <th>Województwo</th>\n",
       "    </tr>\n",
       "  </thead>\n",
       "  <tbody>\n",
       "    <tr>\n",
       "      <th>0</th>\n",
       "      <td>2021-01-02</td>\n",
       "      <td>4</td>\n",
       "      <td>407</td>\n",
       "      <td>K</td>\n",
       "      <td>67.0</td>\n",
       "      <td>65-74</td>\n",
       "      <td>T</td>\n",
       "      <td>NaN</td>\n",
       "      <td>NaN</td>\n",
       "      <td>N</td>\n",
       "      <td>1</td>\n",
       "      <td>N</td>\n",
       "      <td>Kujawsko-Pomorskie</td>\n",
       "    </tr>\n",
       "    <tr>\n",
       "      <th>1</th>\n",
       "      <td>2021-01-02</td>\n",
       "      <td>4</td>\n",
       "      <td>407</td>\n",
       "      <td>K</td>\n",
       "      <td>90.0</td>\n",
       "      <td>85-94</td>\n",
       "      <td>T</td>\n",
       "      <td>NaN</td>\n",
       "      <td>NaN</td>\n",
       "      <td>N</td>\n",
       "      <td>1</td>\n",
       "      <td>N</td>\n",
       "      <td>Kujawsko-Pomorskie</td>\n",
       "    </tr>\n",
       "    <tr>\n",
       "      <th>2</th>\n",
       "      <td>2021-01-02</td>\n",
       "      <td>4</td>\n",
       "      <td>407</td>\n",
       "      <td>M</td>\n",
       "      <td>69.0</td>\n",
       "      <td>65-74</td>\n",
       "      <td>T</td>\n",
       "      <td>NaN</td>\n",
       "      <td>NaN</td>\n",
       "      <td>N</td>\n",
       "      <td>1</td>\n",
       "      <td>N</td>\n",
       "      <td>Kujawsko-Pomorskie</td>\n",
       "    </tr>\n",
       "    <tr>\n",
       "      <th>3</th>\n",
       "      <td>2021-01-02</td>\n",
       "      <td>4</td>\n",
       "      <td>415</td>\n",
       "      <td>M</td>\n",
       "      <td>72.0</td>\n",
       "      <td>65-74</td>\n",
       "      <td>T</td>\n",
       "      <td>NaN</td>\n",
       "      <td>NaN</td>\n",
       "      <td>N</td>\n",
       "      <td>1</td>\n",
       "      <td>N</td>\n",
       "      <td>Kujawsko-Pomorskie</td>\n",
       "    </tr>\n",
       "    <tr>\n",
       "      <th>4</th>\n",
       "      <td>2021-01-02</td>\n",
       "      <td>4</td>\n",
       "      <td>415</td>\n",
       "      <td>M</td>\n",
       "      <td>77.0</td>\n",
       "      <td>75-84</td>\n",
       "      <td>T</td>\n",
       "      <td>NaN</td>\n",
       "      <td>NaN</td>\n",
       "      <td>N</td>\n",
       "      <td>1</td>\n",
       "      <td>N</td>\n",
       "      <td>Kujawsko-Pomorskie</td>\n",
       "    </tr>\n",
       "    <tr>\n",
       "      <th>...</th>\n",
       "      <td>...</td>\n",
       "      <td>...</td>\n",
       "      <td>...</td>\n",
       "      <td>...</td>\n",
       "      <td>...</td>\n",
       "      <td>...</td>\n",
       "      <td>...</td>\n",
       "      <td>...</td>\n",
       "      <td>...</td>\n",
       "      <td>...</td>\n",
       "      <td>...</td>\n",
       "      <td>...</td>\n",
       "      <td>...</td>\n",
       "    </tr>\n",
       "    <tr>\n",
       "      <th>58975</th>\n",
       "      <td>2021-12-13</td>\n",
       "      <td>32</td>\n",
       "      <td>3261</td>\n",
       "      <td>M</td>\n",
       "      <td>83.0</td>\n",
       "      <td>75-84</td>\n",
       "      <td>T</td>\n",
       "      <td>NaN</td>\n",
       "      <td>NaN</td>\n",
       "      <td>N</td>\n",
       "      <td>1</td>\n",
       "      <td>N</td>\n",
       "      <td>Zachodniopomorskie</td>\n",
       "    </tr>\n",
       "    <tr>\n",
       "      <th>58976</th>\n",
       "      <td>2021-12-13</td>\n",
       "      <td>32</td>\n",
       "      <td>3261</td>\n",
       "      <td>M</td>\n",
       "      <td>85.0</td>\n",
       "      <td>85-94</td>\n",
       "      <td>T</td>\n",
       "      <td>Pfizer</td>\n",
       "      <td>pelna_dawka</td>\n",
       "      <td>N</td>\n",
       "      <td>1</td>\n",
       "      <td>T</td>\n",
       "      <td>Zachodniopomorskie</td>\n",
       "    </tr>\n",
       "    <tr>\n",
       "      <th>58977</th>\n",
       "      <td>2021-12-13</td>\n",
       "      <td>32</td>\n",
       "      <td>3262</td>\n",
       "      <td>M</td>\n",
       "      <td>73.0</td>\n",
       "      <td>65-74</td>\n",
       "      <td>T</td>\n",
       "      <td>Pfizer</td>\n",
       "      <td>pelna_dawka</td>\n",
       "      <td>N</td>\n",
       "      <td>1</td>\n",
       "      <td>T</td>\n",
       "      <td>Zachodniopomorskie</td>\n",
       "    </tr>\n",
       "    <tr>\n",
       "      <th>58978</th>\n",
       "      <td>2021-12-13</td>\n",
       "      <td>32</td>\n",
       "      <td>3262</td>\n",
       "      <td>M</td>\n",
       "      <td>78.0</td>\n",
       "      <td>75-84</td>\n",
       "      <td>T</td>\n",
       "      <td>Pfizer</td>\n",
       "      <td>pelna_dawka</td>\n",
       "      <td>N</td>\n",
       "      <td>1</td>\n",
       "      <td>T</td>\n",
       "      <td>Zachodniopomorskie</td>\n",
       "    </tr>\n",
       "    <tr>\n",
       "      <th>58979</th>\n",
       "      <td>2021-12-13</td>\n",
       "      <td>32</td>\n",
       "      <td>3262</td>\n",
       "      <td>M</td>\n",
       "      <td>81.0</td>\n",
       "      <td>75-84</td>\n",
       "      <td>T</td>\n",
       "      <td>Pfizer</td>\n",
       "      <td>pelna_dawka</td>\n",
       "      <td>N</td>\n",
       "      <td>1</td>\n",
       "      <td>T</td>\n",
       "      <td>Zachodniopomorskie</td>\n",
       "    </tr>\n",
       "  </tbody>\n",
       "</table>\n",
       "<p>58980 rows × 13 columns</p>\n",
       "</div>"
      ],
      "text/plain": [
       "      data_rap_zgonu  teryt_woj  teryt_pow plec  wiek kat_wiek  \\\n",
       "0         2021-01-02          4        407    K  67.0    65-74   \n",
       "1         2021-01-02          4        407    K  90.0    85-94   \n",
       "2         2021-01-02          4        407    M  69.0    65-74   \n",
       "3         2021-01-02          4        415    M  72.0    65-74   \n",
       "4         2021-01-02          4        415    M  77.0    75-84   \n",
       "...              ...        ...        ...  ...   ...      ...   \n",
       "58975     2021-12-13         32       3261    M  83.0    75-84   \n",
       "58976     2021-12-13         32       3261    M  85.0    85-94   \n",
       "58977     2021-12-13         32       3262    M  73.0    65-74   \n",
       "58978     2021-12-13         32       3262    M  78.0    75-84   \n",
       "58979     2021-12-13         32       3262    M  81.0    75-84   \n",
       "\n",
       "      czy_wspolistniejace producent    dawka_ost obniz_odpornosc  \\\n",
       "0                       T       NaN          NaN               N   \n",
       "1                       T       NaN          NaN               N   \n",
       "2                       T       NaN          NaN               N   \n",
       "3                       T       NaN          NaN               N   \n",
       "4                       T       NaN          NaN               N   \n",
       "...                   ...       ...          ...             ...   \n",
       "58975                   T       NaN          NaN               N   \n",
       "58976                   T    Pfizer  pelna_dawka               N   \n",
       "58977                   T    Pfizer  pelna_dawka               N   \n",
       "58978                   T    Pfizer  pelna_dawka               N   \n",
       "58979                   T    Pfizer  pelna_dawka               N   \n",
       "\n",
       "       liczba_zaraportowanych_zgonow w_pelni_zaszczepiony         Województwo  \n",
       "0                                  1                    N  Kujawsko-Pomorskie  \n",
       "1                                  1                    N  Kujawsko-Pomorskie  \n",
       "2                                  1                    N  Kujawsko-Pomorskie  \n",
       "3                                  1                    N  Kujawsko-Pomorskie  \n",
       "4                                  1                    N  Kujawsko-Pomorskie  \n",
       "...                              ...                  ...                 ...  \n",
       "58975                              1                    N  Zachodniopomorskie  \n",
       "58976                              1                    T  Zachodniopomorskie  \n",
       "58977                              1                    T  Zachodniopomorskie  \n",
       "58978                              1                    T  Zachodniopomorskie  \n",
       "58979                              1                    T  Zachodniopomorskie  \n",
       "\n",
       "[58980 rows x 13 columns]"
      ]
     },
     "execution_count": 3,
     "metadata": {},
     "output_type": "execute_result"
    }
   ],
   "source": [
    "basiw = BASiWformat(\n",
    "    image_dir = './images',\n",
    "    data_dir = './basiw_data',\n",
    "    data_file_deaths = 'zgony.csv',\n",
    "    data_file_cases = 'zakazenia.csv',\n",
    "    teryt_file = 'TERC_Urzedowy_2021-12-14.csv'\n",
    "    )\n",
    "\n",
    "basiw.dfd\n"
   ]
  },
  {
   "cell_type": "code",
   "execution_count": 4,
   "metadata": {},
   "outputs": [
    {
     "data": {
      "text/html": [
       "<div>\n",
       "<style scoped>\n",
       "    .dataframe tbody tr th:only-of-type {\n",
       "        vertical-align: middle;\n",
       "    }\n",
       "\n",
       "    .dataframe tbody tr th {\n",
       "        vertical-align: top;\n",
       "    }\n",
       "\n",
       "    .dataframe thead th {\n",
       "        text-align: right;\n",
       "    }\n",
       "</style>\n",
       "<table border=\"1\" class=\"dataframe\">\n",
       "  <thead>\n",
       "    <tr style=\"text-align: right;\">\n",
       "      <th></th>\n",
       "      <th>data_rap_zgonu</th>\n",
       "      <th>teryt_woj</th>\n",
       "      <th>teryt_pow</th>\n",
       "      <th>plec</th>\n",
       "      <th>wiek</th>\n",
       "      <th>kat_wiek</th>\n",
       "      <th>czy_wspolistniejace</th>\n",
       "      <th>producent</th>\n",
       "      <th>dawka_ost</th>\n",
       "      <th>obniz_odpornosc</th>\n",
       "      <th>liczba_zaraportowanych_zgonow</th>\n",
       "      <th>w_pelni_zaszczepiony</th>\n",
       "      <th>Województwo</th>\n",
       "    </tr>\n",
       "  </thead>\n",
       "  <tbody>\n",
       "    <tr>\n",
       "      <th>45248</th>\n",
       "      <td>2021-07-14</td>\n",
       "      <td>2</td>\n",
       "      <td>201</td>\n",
       "      <td>K</td>\n",
       "      <td>95.0</td>\n",
       "      <td>95+</td>\n",
       "      <td>N</td>\n",
       "      <td>NaN</td>\n",
       "      <td>NaN</td>\n",
       "      <td>N</td>\n",
       "      <td>1</td>\n",
       "      <td>N</td>\n",
       "      <td>Dolnośląskie</td>\n",
       "    </tr>\n",
       "    <tr>\n",
       "      <th>45249</th>\n",
       "      <td>2021-07-14</td>\n",
       "      <td>4</td>\n",
       "      <td>410</td>\n",
       "      <td>K</td>\n",
       "      <td>89.0</td>\n",
       "      <td>85-94</td>\n",
       "      <td>T</td>\n",
       "      <td>NaN</td>\n",
       "      <td>NaN</td>\n",
       "      <td>N</td>\n",
       "      <td>1</td>\n",
       "      <td>N</td>\n",
       "      <td>Kujawsko-Pomorskie</td>\n",
       "    </tr>\n",
       "    <tr>\n",
       "      <th>45250</th>\n",
       "      <td>2021-07-14</td>\n",
       "      <td>14</td>\n",
       "      <td>1412</td>\n",
       "      <td>K</td>\n",
       "      <td>45.0</td>\n",
       "      <td>45-54</td>\n",
       "      <td>N</td>\n",
       "      <td>NaN</td>\n",
       "      <td>NaN</td>\n",
       "      <td>N</td>\n",
       "      <td>1</td>\n",
       "      <td>N</td>\n",
       "      <td>Mazowieckie</td>\n",
       "    </tr>\n",
       "    <tr>\n",
       "      <th>45251</th>\n",
       "      <td>2021-07-14</td>\n",
       "      <td>16</td>\n",
       "      <td>1610</td>\n",
       "      <td>M</td>\n",
       "      <td>65.0</td>\n",
       "      <td>65-74</td>\n",
       "      <td>T</td>\n",
       "      <td>Astra Zeneca</td>\n",
       "      <td>jedna_dawka</td>\n",
       "      <td>N</td>\n",
       "      <td>1</td>\n",
       "      <td>N</td>\n",
       "      <td>Opolskie</td>\n",
       "    </tr>\n",
       "    <tr>\n",
       "      <th>45252</th>\n",
       "      <td>2021-07-14</td>\n",
       "      <td>18</td>\n",
       "      <td>1808</td>\n",
       "      <td>M</td>\n",
       "      <td>74.0</td>\n",
       "      <td>65-74</td>\n",
       "      <td>T</td>\n",
       "      <td>NaN</td>\n",
       "      <td>NaN</td>\n",
       "      <td>N</td>\n",
       "      <td>1</td>\n",
       "      <td>N</td>\n",
       "      <td>Podkarpackie</td>\n",
       "    </tr>\n",
       "    <tr>\n",
       "      <th>...</th>\n",
       "      <td>...</td>\n",
       "      <td>...</td>\n",
       "      <td>...</td>\n",
       "      <td>...</td>\n",
       "      <td>...</td>\n",
       "      <td>...</td>\n",
       "      <td>...</td>\n",
       "      <td>...</td>\n",
       "      <td>...</td>\n",
       "      <td>...</td>\n",
       "      <td>...</td>\n",
       "      <td>...</td>\n",
       "      <td>...</td>\n",
       "    </tr>\n",
       "    <tr>\n",
       "      <th>58975</th>\n",
       "      <td>2021-12-13</td>\n",
       "      <td>32</td>\n",
       "      <td>3261</td>\n",
       "      <td>M</td>\n",
       "      <td>83.0</td>\n",
       "      <td>75-84</td>\n",
       "      <td>T</td>\n",
       "      <td>NaN</td>\n",
       "      <td>NaN</td>\n",
       "      <td>N</td>\n",
       "      <td>1</td>\n",
       "      <td>N</td>\n",
       "      <td>Zachodniopomorskie</td>\n",
       "    </tr>\n",
       "    <tr>\n",
       "      <th>58976</th>\n",
       "      <td>2021-12-13</td>\n",
       "      <td>32</td>\n",
       "      <td>3261</td>\n",
       "      <td>M</td>\n",
       "      <td>85.0</td>\n",
       "      <td>85-94</td>\n",
       "      <td>T</td>\n",
       "      <td>Pfizer</td>\n",
       "      <td>pelna_dawka</td>\n",
       "      <td>N</td>\n",
       "      <td>1</td>\n",
       "      <td>T</td>\n",
       "      <td>Zachodniopomorskie</td>\n",
       "    </tr>\n",
       "    <tr>\n",
       "      <th>58977</th>\n",
       "      <td>2021-12-13</td>\n",
       "      <td>32</td>\n",
       "      <td>3262</td>\n",
       "      <td>M</td>\n",
       "      <td>73.0</td>\n",
       "      <td>65-74</td>\n",
       "      <td>T</td>\n",
       "      <td>Pfizer</td>\n",
       "      <td>pelna_dawka</td>\n",
       "      <td>N</td>\n",
       "      <td>1</td>\n",
       "      <td>T</td>\n",
       "      <td>Zachodniopomorskie</td>\n",
       "    </tr>\n",
       "    <tr>\n",
       "      <th>58978</th>\n",
       "      <td>2021-12-13</td>\n",
       "      <td>32</td>\n",
       "      <td>3262</td>\n",
       "      <td>M</td>\n",
       "      <td>78.0</td>\n",
       "      <td>75-84</td>\n",
       "      <td>T</td>\n",
       "      <td>Pfizer</td>\n",
       "      <td>pelna_dawka</td>\n",
       "      <td>N</td>\n",
       "      <td>1</td>\n",
       "      <td>T</td>\n",
       "      <td>Zachodniopomorskie</td>\n",
       "    </tr>\n",
       "    <tr>\n",
       "      <th>58979</th>\n",
       "      <td>2021-12-13</td>\n",
       "      <td>32</td>\n",
       "      <td>3262</td>\n",
       "      <td>M</td>\n",
       "      <td>81.0</td>\n",
       "      <td>75-84</td>\n",
       "      <td>T</td>\n",
       "      <td>Pfizer</td>\n",
       "      <td>pelna_dawka</td>\n",
       "      <td>N</td>\n",
       "      <td>1</td>\n",
       "      <td>T</td>\n",
       "      <td>Zachodniopomorskie</td>\n",
       "    </tr>\n",
       "  </tbody>\n",
       "</table>\n",
       "<p>13732 rows × 13 columns</p>\n",
       "</div>"
      ],
      "text/plain": [
       "      data_rap_zgonu  teryt_woj  teryt_pow plec  wiek kat_wiek  \\\n",
       "45248     2021-07-14          2        201    K  95.0      95+   \n",
       "45249     2021-07-14          4        410    K  89.0    85-94   \n",
       "45250     2021-07-14         14       1412    K  45.0    45-54   \n",
       "45251     2021-07-14         16       1610    M  65.0    65-74   \n",
       "45252     2021-07-14         18       1808    M  74.0    65-74   \n",
       "...              ...        ...        ...  ...   ...      ...   \n",
       "58975     2021-12-13         32       3261    M  83.0    75-84   \n",
       "58976     2021-12-13         32       3261    M  85.0    85-94   \n",
       "58977     2021-12-13         32       3262    M  73.0    65-74   \n",
       "58978     2021-12-13         32       3262    M  78.0    75-84   \n",
       "58979     2021-12-13         32       3262    M  81.0    75-84   \n",
       "\n",
       "      czy_wspolistniejace     producent    dawka_ost obniz_odpornosc  \\\n",
       "45248                   N           NaN          NaN               N   \n",
       "45249                   T           NaN          NaN               N   \n",
       "45250                   N           NaN          NaN               N   \n",
       "45251                   T  Astra Zeneca  jedna_dawka               N   \n",
       "45252                   T           NaN          NaN               N   \n",
       "...                   ...           ...          ...             ...   \n",
       "58975                   T           NaN          NaN               N   \n",
       "58976                   T        Pfizer  pelna_dawka               N   \n",
       "58977                   T        Pfizer  pelna_dawka               N   \n",
       "58978                   T        Pfizer  pelna_dawka               N   \n",
       "58979                   T        Pfizer  pelna_dawka               N   \n",
       "\n",
       "       liczba_zaraportowanych_zgonow w_pelni_zaszczepiony         Województwo  \n",
       "45248                              1                    N        Dolnośląskie  \n",
       "45249                              1                    N  Kujawsko-Pomorskie  \n",
       "45250                              1                    N         Mazowieckie  \n",
       "45251                              1                    N            Opolskie  \n",
       "45252                              1                    N        Podkarpackie  \n",
       "...                              ...                  ...                 ...  \n",
       "58975                              1                    N  Zachodniopomorskie  \n",
       "58976                              1                    T  Zachodniopomorskie  \n",
       "58977                              1                    T  Zachodniopomorskie  \n",
       "58978                              1                    T  Zachodniopomorskie  \n",
       "58979                              1                    T  Zachodniopomorskie  \n",
       "\n",
       "[13732 rows x 13 columns]"
      ]
     },
     "execution_count": 4,
     "metadata": {},
     "output_type": "execute_result"
    }
   ],
   "source": [
    "wave4_date = datetime.date(2021, 7, 14)\n",
    "dfd4 = basiw.dfd_from(wave4_date)\n",
    "dfd4\n"
   ]
  },
  {
   "cell_type": "markdown",
   "metadata": {},
   "source": [
    "### Liczba zgonów na COVID-19 w województwach na 100 tys. mieszkańców<br> w podziale na w pełni zaszczepionych i nie w pełni zaszczepionych<br> (Od 14.07.2021)"
   ]
  },
  {
   "cell_type": "markdown",
   "metadata": {},
   "source": [
    "**Potrzebny jest słownik z danymi: Populacja Polski / regionu wg wojwództw !!!**\n",
    "/home/ochab/koronawirus_PAN/gov.pl/bitbucket/govpl/GUS/gus_data/wojewodztwa_ludnosc_plec_30.06.2021_GUS.csv"
   ]
  },
  {
   "cell_type": "code",
   "execution_count": 5,
   "metadata": {},
   "outputs": [],
   "source": [
    "def get_popwoj_df() -> pd.DataFrame:\n",
    "    dfpopwoj = pd.read_csv('/home/ochab/koronawirus_PAN/gov.pl/bitbucket/govpl/GUS/gus_data/wojewodztwa_ludnosc_plec_30.06.2021_GUS.csv')\n",
    "    dfpopwoj['Województwo'] = dfpopwoj['Województwo'].str.title()\n",
    "    dfpopwoj.drop(['TERYT'], axis='columns', inplace=True)\n",
    "    dfpopwoj.index = dfpopwoj['Województwo']\n",
    "    dfpopwoj.drop(['Województwo'], axis='columns' , inplace = True)\n",
    "    return dfpopwoj\n",
    "\n",
    "dfpopwoj  = get_popwoj_df()\n",
    "dfpopwoj = dfpopwoj[['Ludność']]\n",
    "\n",
    "# dfpopwoj\n",
    "\n",
    "# dfpopwoj.to_dict()['Ludność']"
   ]
  },
  {
   "cell_type": "code",
   "execution_count": 6,
   "metadata": {},
   "outputs": [],
   "source": [
    " def prepare_df(deaths_df: pd.DataFrame, from_date : datetime.date) -> pd.DataFrame:\n",
    "    base_df = deaths_df[deaths_df['data_rap_zgonu'] >= pd.to_datetime(from_date)]\n",
    "\n",
    "    df = base_df.groupby('Województwo').sum()\n",
    "    df.drop(['wiek', 'teryt_pow', 'teryt_woj'], axis = 'columns' , inplace=True)\n",
    "    df['Województwo'] = df.index\n",
    "    df['Ludność'] = df['Województwo'].replace(dfpopwoj.to_dict()['Ludność'])\n",
    "    df\n",
    "\n",
    "    Q = f'(w_pelni_zaszczepiony == \"N\")'\n",
    "\n",
    "    df1 = base_df.query(Q).groupby('Województwo').sum()\n",
    "    df1.drop(['wiek', 'teryt_pow', 'teryt_woj'], axis = 'columns' , inplace=True)\n",
    "    df['Zgony nie w pełni zaszczepionych'] = df1\n",
    "\n",
    "    Q = f'(w_pelni_zaszczepiony == \"T\")'\n",
    "\n",
    "    df1 = base_df.query(Q).groupby('Województwo').sum()\n",
    "    df1.drop(['wiek', 'teryt_pow', 'teryt_woj'], axis = 'columns' , inplace=True)\n",
    "    df['Zgony w pełni zaszczepionych'] = df1\n",
    "\n",
    "\n",
    "\n",
    "\n",
    "    df['Zgony nie w pełni zaszczepionych na 100 tys. mieszkańców'] = df['Zgony nie w pełni zaszczepionych'] / df['Ludność'] * 1e5\n",
    "    df['Zgony w pełni zaszczepionych na 100 tys. mieszkańców'] = df['Zgony w pełni zaszczepionych'] / df['Ludność'] * 1e5\n",
    "\n",
    "    df = df.sort_values(['Zgony nie w pełni zaszczepionych na 100 tys. mieszkańców'], ascending=False)\n",
    "    return df\n",
    "\n",
    "    \n",
    "def plot_df(from_date : datetime.date, df : pd.DataFrame, image_dir : str) -> pd.DataFrame:\n",
    "    nie = 'Zgony nie w pełni zaszczepionych na 100 tys. mieszkańców'\n",
    "    tak = 'Zgony w pełni zaszczepionych na 100 tys. mieszkańców'\n",
    "\n",
    "    fig = go.Figure(\n",
    "        data=[\n",
    "            go.Bar(\n",
    "                name = nie, \n",
    "                x=df['Województwo'], \n",
    "                y=df[nie], \n",
    "                offsetgroup=1,\n",
    "                text = df[nie]\n",
    "                ),\n",
    "            go.Bar(\n",
    "                name = tak, \n",
    "                x=df['Województwo'], \n",
    "                y=df[tak], \n",
    "                offsetgroup=2,\n",
    "                text = df[tak]\n",
    "                )\n",
    "        ]\n",
    "    )\n",
    "\n",
    "    fig.update_traces(\n",
    "        texttemplate='%{text:2.1f}', \n",
    "        textposition='outside',\n",
    "        )\n",
    "\n",
    "    fig.update_layout(\n",
    "        barmode='group', \n",
    "        width=800, \n",
    "        height=500,\n",
    "        title = \"Liczba zgonów na COVID-19 w województwach na 100 tys. mieszkańców<br>\\\n",
    "        w podziale na w pełni zaszczepionych i nie w pełni zaszczepionych<br>(Od \" + str(from_date) + \")\",\n",
    "        yaxis_title=\"Liczba zgonów na 100 tys.\",\n",
    "        legend_title=\"\",\n",
    "        uniformtext_minsize=6, \n",
    "        uniformtext_mode='show',\n",
    "        legend=dict(\n",
    "            y=-0.5,\n",
    "            xanchor=\"center\",\n",
    "            x=0.5\n",
    "            ),\n",
    "        title_xanchor='center',\n",
    "        title_x = 0.5,\n",
    "        title_font_size=16\n",
    "        )\n",
    "    fig.update_xaxes(tickangle=33)\n",
    "    fig.show()\n",
    "    fig.write_image(os.sep.join([image_dir, 'zgony_szczep_1e5_woj_od'+str(from_date)+'.jpg']), scale=4)\n",
    "    return\n"
   ]
  },
  {
   "cell_type": "code",
   "execution_count": 7,
   "metadata": {},
   "outputs": [
    {
     "data": {
      "application/vnd.plotly.v1+json": {
       "config": {
        "plotlyServerURL": "https://plot.ly"
       },
       "data": [
        {
         "name": "Zgony nie w pełni zaszczepionych na 100 tys. mieszkańców",
         "offsetgroup": "1",
         "text": [
          71.79820964597923,
          58.31881063830879,
          36.82208833708802,
          32.56967547452065,
          28.556052688183566,
          28.076766147629606,
          26.217891155345523,
          25.94561487208316,
          25.557854951140683,
          23.441362122103385,
          21.343600457311908,
          18.646442654475383,
          17.94347804416089,
          15.724306225851448,
          15.533921333864539,
          14.321853827579373
         ],
         "textposition": "outside",
         "texttemplate": "%{text:2.1f}",
         "type": "bar",
         "x": [
          "Lubelskie",
          "Podlaskie",
          "Podkarpackie",
          "Opolskie",
          "Łódzkie",
          "Świętokrzyskie",
          "Mazowieckie",
          "Warmińsko-Mazurskie",
          "Kujawsko-Pomorskie",
          "Małopolskie",
          "Zachodniopomorskie",
          "Śląskie",
          "Lubuskie",
          "Wielkopolskie",
          "Dolnośląskie",
          "Pomorskie"
         ],
         "y": [
          71.79820964597923,
          58.31881063830879,
          36.82208833708802,
          32.56967547452065,
          28.556052688183566,
          28.076766147629606,
          26.217891155345523,
          25.94561487208316,
          25.557854951140683,
          23.441362122103385,
          21.343600457311908,
          18.646442654475383,
          17.94347804416089,
          15.724306225851448,
          15.533921333864539,
          14.321853827579373
         ]
        },
        {
         "name": "Zgony w pełni zaszczepionych na 100 tys. mieszkańców",
         "offsetgroup": "2",
         "text": [
          20.274127289885993,
          16.247175984279576,
          7.752018597281689,
          12.123727779159106,
          8.983000701333356,
          9.769401086455916,
          10.535127269318997,
          11.200565983030433,
          11.780954091763897,
          9.446956950334531,
          9.571921096454643,
          8.898422273958277,
          6.978019239395903,
          6.902655374189797,
          5.651850842455178,
          7.629797128383059
         ],
         "textposition": "outside",
         "texttemplate": "%{text:2.1f}",
         "type": "bar",
         "x": [
          "Lubelskie",
          "Podlaskie",
          "Podkarpackie",
          "Opolskie",
          "Łódzkie",
          "Świętokrzyskie",
          "Mazowieckie",
          "Warmińsko-Mazurskie",
          "Kujawsko-Pomorskie",
          "Małopolskie",
          "Zachodniopomorskie",
          "Śląskie",
          "Lubuskie",
          "Wielkopolskie",
          "Dolnośląskie",
          "Pomorskie"
         ],
         "y": [
          20.274127289885993,
          16.247175984279576,
          7.752018597281689,
          12.123727779159106,
          8.983000701333356,
          9.769401086455916,
          10.535127269318997,
          11.200565983030433,
          11.780954091763897,
          9.446956950334531,
          9.571921096454643,
          8.898422273958277,
          6.978019239395903,
          6.902655374189797,
          5.651850842455178,
          7.629797128383059
         ]
        }
       ],
       "layout": {
        "barmode": "group",
        "height": 500,
        "legend": {
         "title": {
          "text": ""
         },
         "x": 0.5,
         "xanchor": "center",
         "y": -0.5
        },
        "template": {
         "data": {
          "bar": [
           {
            "error_x": {
             "color": "#2a3f5f"
            },
            "error_y": {
             "color": "#2a3f5f"
            },
            "marker": {
             "line": {
              "color": "#E5ECF6",
              "width": 0.5
             }
            },
            "type": "bar"
           }
          ],
          "barpolar": [
           {
            "marker": {
             "line": {
              "color": "#E5ECF6",
              "width": 0.5
             }
            },
            "type": "barpolar"
           }
          ],
          "carpet": [
           {
            "aaxis": {
             "endlinecolor": "#2a3f5f",
             "gridcolor": "white",
             "linecolor": "white",
             "minorgridcolor": "white",
             "startlinecolor": "#2a3f5f"
            },
            "baxis": {
             "endlinecolor": "#2a3f5f",
             "gridcolor": "white",
             "linecolor": "white",
             "minorgridcolor": "white",
             "startlinecolor": "#2a3f5f"
            },
            "type": "carpet"
           }
          ],
          "choropleth": [
           {
            "colorbar": {
             "outlinewidth": 0,
             "ticks": ""
            },
            "type": "choropleth"
           }
          ],
          "contour": [
           {
            "colorbar": {
             "outlinewidth": 0,
             "ticks": ""
            },
            "colorscale": [
             [
              0,
              "#0d0887"
             ],
             [
              0.1111111111111111,
              "#46039f"
             ],
             [
              0.2222222222222222,
              "#7201a8"
             ],
             [
              0.3333333333333333,
              "#9c179e"
             ],
             [
              0.4444444444444444,
              "#bd3786"
             ],
             [
              0.5555555555555556,
              "#d8576b"
             ],
             [
              0.6666666666666666,
              "#ed7953"
             ],
             [
              0.7777777777777778,
              "#fb9f3a"
             ],
             [
              0.8888888888888888,
              "#fdca26"
             ],
             [
              1,
              "#f0f921"
             ]
            ],
            "type": "contour"
           }
          ],
          "contourcarpet": [
           {
            "colorbar": {
             "outlinewidth": 0,
             "ticks": ""
            },
            "type": "contourcarpet"
           }
          ],
          "heatmap": [
           {
            "colorbar": {
             "outlinewidth": 0,
             "ticks": ""
            },
            "colorscale": [
             [
              0,
              "#0d0887"
             ],
             [
              0.1111111111111111,
              "#46039f"
             ],
             [
              0.2222222222222222,
              "#7201a8"
             ],
             [
              0.3333333333333333,
              "#9c179e"
             ],
             [
              0.4444444444444444,
              "#bd3786"
             ],
             [
              0.5555555555555556,
              "#d8576b"
             ],
             [
              0.6666666666666666,
              "#ed7953"
             ],
             [
              0.7777777777777778,
              "#fb9f3a"
             ],
             [
              0.8888888888888888,
              "#fdca26"
             ],
             [
              1,
              "#f0f921"
             ]
            ],
            "type": "heatmap"
           }
          ],
          "heatmapgl": [
           {
            "colorbar": {
             "outlinewidth": 0,
             "ticks": ""
            },
            "colorscale": [
             [
              0,
              "#0d0887"
             ],
             [
              0.1111111111111111,
              "#46039f"
             ],
             [
              0.2222222222222222,
              "#7201a8"
             ],
             [
              0.3333333333333333,
              "#9c179e"
             ],
             [
              0.4444444444444444,
              "#bd3786"
             ],
             [
              0.5555555555555556,
              "#d8576b"
             ],
             [
              0.6666666666666666,
              "#ed7953"
             ],
             [
              0.7777777777777778,
              "#fb9f3a"
             ],
             [
              0.8888888888888888,
              "#fdca26"
             ],
             [
              1,
              "#f0f921"
             ]
            ],
            "type": "heatmapgl"
           }
          ],
          "histogram": [
           {
            "marker": {
             "colorbar": {
              "outlinewidth": 0,
              "ticks": ""
             }
            },
            "type": "histogram"
           }
          ],
          "histogram2d": [
           {
            "colorbar": {
             "outlinewidth": 0,
             "ticks": ""
            },
            "colorscale": [
             [
              0,
              "#0d0887"
             ],
             [
              0.1111111111111111,
              "#46039f"
             ],
             [
              0.2222222222222222,
              "#7201a8"
             ],
             [
              0.3333333333333333,
              "#9c179e"
             ],
             [
              0.4444444444444444,
              "#bd3786"
             ],
             [
              0.5555555555555556,
              "#d8576b"
             ],
             [
              0.6666666666666666,
              "#ed7953"
             ],
             [
              0.7777777777777778,
              "#fb9f3a"
             ],
             [
              0.8888888888888888,
              "#fdca26"
             ],
             [
              1,
              "#f0f921"
             ]
            ],
            "type": "histogram2d"
           }
          ],
          "histogram2dcontour": [
           {
            "colorbar": {
             "outlinewidth": 0,
             "ticks": ""
            },
            "colorscale": [
             [
              0,
              "#0d0887"
             ],
             [
              0.1111111111111111,
              "#46039f"
             ],
             [
              0.2222222222222222,
              "#7201a8"
             ],
             [
              0.3333333333333333,
              "#9c179e"
             ],
             [
              0.4444444444444444,
              "#bd3786"
             ],
             [
              0.5555555555555556,
              "#d8576b"
             ],
             [
              0.6666666666666666,
              "#ed7953"
             ],
             [
              0.7777777777777778,
              "#fb9f3a"
             ],
             [
              0.8888888888888888,
              "#fdca26"
             ],
             [
              1,
              "#f0f921"
             ]
            ],
            "type": "histogram2dcontour"
           }
          ],
          "mesh3d": [
           {
            "colorbar": {
             "outlinewidth": 0,
             "ticks": ""
            },
            "type": "mesh3d"
           }
          ],
          "parcoords": [
           {
            "line": {
             "colorbar": {
              "outlinewidth": 0,
              "ticks": ""
             }
            },
            "type": "parcoords"
           }
          ],
          "pie": [
           {
            "automargin": true,
            "type": "pie"
           }
          ],
          "scatter": [
           {
            "marker": {
             "colorbar": {
              "outlinewidth": 0,
              "ticks": ""
             }
            },
            "type": "scatter"
           }
          ],
          "scatter3d": [
           {
            "line": {
             "colorbar": {
              "outlinewidth": 0,
              "ticks": ""
             }
            },
            "marker": {
             "colorbar": {
              "outlinewidth": 0,
              "ticks": ""
             }
            },
            "type": "scatter3d"
           }
          ],
          "scattercarpet": [
           {
            "marker": {
             "colorbar": {
              "outlinewidth": 0,
              "ticks": ""
             }
            },
            "type": "scattercarpet"
           }
          ],
          "scattergeo": [
           {
            "marker": {
             "colorbar": {
              "outlinewidth": 0,
              "ticks": ""
             }
            },
            "type": "scattergeo"
           }
          ],
          "scattergl": [
           {
            "marker": {
             "colorbar": {
              "outlinewidth": 0,
              "ticks": ""
             }
            },
            "type": "scattergl"
           }
          ],
          "scattermapbox": [
           {
            "marker": {
             "colorbar": {
              "outlinewidth": 0,
              "ticks": ""
             }
            },
            "type": "scattermapbox"
           }
          ],
          "scatterpolar": [
           {
            "marker": {
             "colorbar": {
              "outlinewidth": 0,
              "ticks": ""
             }
            },
            "type": "scatterpolar"
           }
          ],
          "scatterpolargl": [
           {
            "marker": {
             "colorbar": {
              "outlinewidth": 0,
              "ticks": ""
             }
            },
            "type": "scatterpolargl"
           }
          ],
          "scatterternary": [
           {
            "marker": {
             "colorbar": {
              "outlinewidth": 0,
              "ticks": ""
             }
            },
            "type": "scatterternary"
           }
          ],
          "surface": [
           {
            "colorbar": {
             "outlinewidth": 0,
             "ticks": ""
            },
            "colorscale": [
             [
              0,
              "#0d0887"
             ],
             [
              0.1111111111111111,
              "#46039f"
             ],
             [
              0.2222222222222222,
              "#7201a8"
             ],
             [
              0.3333333333333333,
              "#9c179e"
             ],
             [
              0.4444444444444444,
              "#bd3786"
             ],
             [
              0.5555555555555556,
              "#d8576b"
             ],
             [
              0.6666666666666666,
              "#ed7953"
             ],
             [
              0.7777777777777778,
              "#fb9f3a"
             ],
             [
              0.8888888888888888,
              "#fdca26"
             ],
             [
              1,
              "#f0f921"
             ]
            ],
            "type": "surface"
           }
          ],
          "table": [
           {
            "cells": {
             "fill": {
              "color": "#EBF0F8"
             },
             "line": {
              "color": "white"
             }
            },
            "header": {
             "fill": {
              "color": "#C8D4E3"
             },
             "line": {
              "color": "white"
             }
            },
            "type": "table"
           }
          ]
         },
         "layout": {
          "annotationdefaults": {
           "arrowcolor": "#2a3f5f",
           "arrowhead": 0,
           "arrowwidth": 1
          },
          "coloraxis": {
           "colorbar": {
            "outlinewidth": 0,
            "ticks": ""
           }
          },
          "colorscale": {
           "diverging": [
            [
             0,
             "#8e0152"
            ],
            [
             0.1,
             "#c51b7d"
            ],
            [
             0.2,
             "#de77ae"
            ],
            [
             0.3,
             "#f1b6da"
            ],
            [
             0.4,
             "#fde0ef"
            ],
            [
             0.5,
             "#f7f7f7"
            ],
            [
             0.6,
             "#e6f5d0"
            ],
            [
             0.7,
             "#b8e186"
            ],
            [
             0.8,
             "#7fbc41"
            ],
            [
             0.9,
             "#4d9221"
            ],
            [
             1,
             "#276419"
            ]
           ],
           "sequential": [
            [
             0,
             "#0d0887"
            ],
            [
             0.1111111111111111,
             "#46039f"
            ],
            [
             0.2222222222222222,
             "#7201a8"
            ],
            [
             0.3333333333333333,
             "#9c179e"
            ],
            [
             0.4444444444444444,
             "#bd3786"
            ],
            [
             0.5555555555555556,
             "#d8576b"
            ],
            [
             0.6666666666666666,
             "#ed7953"
            ],
            [
             0.7777777777777778,
             "#fb9f3a"
            ],
            [
             0.8888888888888888,
             "#fdca26"
            ],
            [
             1,
             "#f0f921"
            ]
           ],
           "sequentialminus": [
            [
             0,
             "#0d0887"
            ],
            [
             0.1111111111111111,
             "#46039f"
            ],
            [
             0.2222222222222222,
             "#7201a8"
            ],
            [
             0.3333333333333333,
             "#9c179e"
            ],
            [
             0.4444444444444444,
             "#bd3786"
            ],
            [
             0.5555555555555556,
             "#d8576b"
            ],
            [
             0.6666666666666666,
             "#ed7953"
            ],
            [
             0.7777777777777778,
             "#fb9f3a"
            ],
            [
             0.8888888888888888,
             "#fdca26"
            ],
            [
             1,
             "#f0f921"
            ]
           ]
          },
          "colorway": [
           "#636efa",
           "#EF553B",
           "#00cc96",
           "#ab63fa",
           "#FFA15A",
           "#19d3f3",
           "#FF6692",
           "#B6E880",
           "#FF97FF",
           "#FECB52"
          ],
          "font": {
           "color": "#2a3f5f"
          },
          "geo": {
           "bgcolor": "white",
           "lakecolor": "white",
           "landcolor": "#E5ECF6",
           "showlakes": true,
           "showland": true,
           "subunitcolor": "white"
          },
          "hoverlabel": {
           "align": "left"
          },
          "hovermode": "closest",
          "mapbox": {
           "style": "light"
          },
          "paper_bgcolor": "white",
          "plot_bgcolor": "#E5ECF6",
          "polar": {
           "angularaxis": {
            "gridcolor": "white",
            "linecolor": "white",
            "ticks": ""
           },
           "bgcolor": "#E5ECF6",
           "radialaxis": {
            "gridcolor": "white",
            "linecolor": "white",
            "ticks": ""
           }
          },
          "scene": {
           "xaxis": {
            "backgroundcolor": "#E5ECF6",
            "gridcolor": "white",
            "gridwidth": 2,
            "linecolor": "white",
            "showbackground": true,
            "ticks": "",
            "zerolinecolor": "white"
           },
           "yaxis": {
            "backgroundcolor": "#E5ECF6",
            "gridcolor": "white",
            "gridwidth": 2,
            "linecolor": "white",
            "showbackground": true,
            "ticks": "",
            "zerolinecolor": "white"
           },
           "zaxis": {
            "backgroundcolor": "#E5ECF6",
            "gridcolor": "white",
            "gridwidth": 2,
            "linecolor": "white",
            "showbackground": true,
            "ticks": "",
            "zerolinecolor": "white"
           }
          },
          "shapedefaults": {
           "line": {
            "color": "#2a3f5f"
           }
          },
          "ternary": {
           "aaxis": {
            "gridcolor": "white",
            "linecolor": "white",
            "ticks": ""
           },
           "baxis": {
            "gridcolor": "white",
            "linecolor": "white",
            "ticks": ""
           },
           "bgcolor": "#E5ECF6",
           "caxis": {
            "gridcolor": "white",
            "linecolor": "white",
            "ticks": ""
           }
          },
          "title": {
           "x": 0.05
          },
          "xaxis": {
           "automargin": true,
           "gridcolor": "white",
           "linecolor": "white",
           "ticks": "",
           "title": {
            "standoff": 15
           },
           "zerolinecolor": "white",
           "zerolinewidth": 2
          },
          "yaxis": {
           "automargin": true,
           "gridcolor": "white",
           "linecolor": "white",
           "ticks": "",
           "title": {
            "standoff": 15
           },
           "zerolinecolor": "white",
           "zerolinewidth": 2
          }
         }
        },
        "title": {
         "font": {
          "size": 16
         },
         "text": "Liczba zgonów na COVID-19 w województwach na 100 tys. mieszkańców<br>       w podziale na w pełni zaszczepionych i nie w pełni zaszczepionych<br>(Od 2021-07-14)",
         "x": 0.5,
         "xanchor": "center"
        },
        "uniformtext": {
         "minsize": 6,
         "mode": "show"
        },
        "width": 800,
        "xaxis": {
         "tickangle": 33
        },
        "yaxis": {
         "title": {
          "text": "Liczba zgonów na 100 tys."
         }
        }
       }
      }
     },
     "metadata": {},
     "output_type": "display_data"
    }
   ],
   "source": [
    "from_date = datetime.date(2021,7,14)\n",
    "\n",
    "\n",
    "\n",
    "df = prepare_df(basiw.dfd, from_date)\n",
    "plot_df(from_date, df, basiw.image_dir)"
   ]
  },
  {
   "cell_type": "markdown",
   "metadata": {},
   "source": [
    "### Liczba zgonów na COVID-19 w Polsce na 100 tys. mieszkańców<br> w podziale na grupy wiekowe<br> (Od 14.07.2021)"
   ]
  },
  {
   "cell_type": "markdown",
   "metadata": {},
   "source": [
    "**Potrzebny jest słownik z danymi: Populacja Polski / regionu wg grup wiekowych !!!**\n",
    "/home/ochab/koronawirus_PAN/gov.pl/bitbucket/govpl/Eurostat/eurostat_data/Poland_2020_population.csv"
   ]
  },
  {
   "cell_type": "code",
   "execution_count": 8,
   "metadata": {},
   "outputs": [
    {
     "data": {
      "text/html": [
       "<div>\n",
       "<style scoped>\n",
       "    .dataframe tbody tr th:only-of-type {\n",
       "        vertical-align: middle;\n",
       "    }\n",
       "\n",
       "    .dataframe tbody tr th {\n",
       "        vertical-align: top;\n",
       "    }\n",
       "\n",
       "    .dataframe thead th {\n",
       "        text-align: right;\n",
       "    }\n",
       "</style>\n",
       "<table border=\"1\" class=\"dataframe\">\n",
       "  <thead>\n",
       "    <tr style=\"text-align: right;\">\n",
       "      <th></th>\n",
       "      <th>mieszkańców w danej grupie wiekowej</th>\n",
       "      <th>kobiet w danej grupie wiekowej</th>\n",
       "      <th>mężczyzn w danej grupie wiekowej</th>\n",
       "    </tr>\n",
       "    <tr>\n",
       "      <th>Age group</th>\n",
       "      <th></th>\n",
       "      <th></th>\n",
       "      <th></th>\n",
       "    </tr>\n",
       "  </thead>\n",
       "  <tbody>\n",
       "    <tr>\n",
       "      <th>0-18</th>\n",
       "      <td>6909092.0</td>\n",
       "      <td>3362871.0</td>\n",
       "      <td>3546221.0</td>\n",
       "    </tr>\n",
       "    <tr>\n",
       "      <th>19-24</th>\n",
       "      <td>2391135.0</td>\n",
       "      <td>1169959.0</td>\n",
       "      <td>1221176.0</td>\n",
       "    </tr>\n",
       "    <tr>\n",
       "      <th>25-34</th>\n",
       "      <td>5378329.0</td>\n",
       "      <td>2637687.0</td>\n",
       "      <td>2740642.0</td>\n",
       "    </tr>\n",
       "    <tr>\n",
       "      <th>35-44</th>\n",
       "      <td>6101624.0</td>\n",
       "      <td>3008948.0</td>\n",
       "      <td>3092676.0</td>\n",
       "    </tr>\n",
       "    <tr>\n",
       "      <th>45-54</th>\n",
       "      <td>4789676.0</td>\n",
       "      <td>2395882.0</td>\n",
       "      <td>2393794.0</td>\n",
       "    </tr>\n",
       "    <tr>\n",
       "      <th>55-64</th>\n",
       "      <td>5104262.0</td>\n",
       "      <td>2668881.0</td>\n",
       "      <td>2435381.0</td>\n",
       "    </tr>\n",
       "    <tr>\n",
       "      <th>65-74</th>\n",
       "      <td>4195973.0</td>\n",
       "      <td>2362488.0</td>\n",
       "      <td>1833485.0</td>\n",
       "    </tr>\n",
       "    <tr>\n",
       "      <th>75-84</th>\n",
       "      <td>1912001.0</td>\n",
       "      <td>1218241.0</td>\n",
       "      <td>693760.0</td>\n",
       "    </tr>\n",
       "    <tr>\n",
       "      <th>85-94</th>\n",
       "      <td>756428.0</td>\n",
       "      <td>540453.0</td>\n",
       "      <td>215975.0</td>\n",
       "    </tr>\n",
       "    <tr>\n",
       "      <th>95+</th>\n",
       "      <td>52344.0</td>\n",
       "      <td>40781.0</td>\n",
       "      <td>11563.0</td>\n",
       "    </tr>\n",
       "  </tbody>\n",
       "</table>\n",
       "</div>"
      ],
      "text/plain": [
       "           mieszkańców w danej grupie wiekowej  \\\n",
       "Age group                                        \n",
       "0-18                                 6909092.0   \n",
       "19-24                                2391135.0   \n",
       "25-34                                5378329.0   \n",
       "35-44                                6101624.0   \n",
       "45-54                                4789676.0   \n",
       "55-64                                5104262.0   \n",
       "65-74                                4195973.0   \n",
       "75-84                                1912001.0   \n",
       "85-94                                 756428.0   \n",
       "95+                                    52344.0   \n",
       "\n",
       "           kobiet w danej grupie wiekowej  mężczyzn w danej grupie wiekowej  \n",
       "Age group                                                                    \n",
       "0-18                            3362871.0                         3546221.0  \n",
       "19-24                           1169959.0                         1221176.0  \n",
       "25-34                           2637687.0                         2740642.0  \n",
       "35-44                           3008948.0                         3092676.0  \n",
       "45-54                           2395882.0                         2393794.0  \n",
       "55-64                           2668881.0                         2435381.0  \n",
       "65-74                           2362488.0                         1833485.0  \n",
       "75-84                           1218241.0                          693760.0  \n",
       "85-94                            540453.0                          215975.0  \n",
       "95+                               40781.0                           11563.0  "
      ]
     },
     "execution_count": 8,
     "metadata": {},
     "output_type": "execute_result"
    }
   ],
   "source": [
    "pop_file = \"../Eurostat/eurostat_data/Poland_2020_population.csv\"\n",
    "pop_df = pd.read_csv(pop_file , index_col=0)\n",
    "# print(pop_df['Population 2020 F'].sum() + pop_df['Population 2020 M'].sum())\n",
    "# pop_df['Population 2020 T'].sum()\n",
    "\n",
    "pop_df.rename(\n",
    "    columns = {\n",
    "        'Population 2020 T' : 'mieszkańców w danej grupie wiekowej',\n",
    "        'Population 2020 F' : 'kobiet w danej grupie wiekowej',\n",
    "        'Population 2020 M' : 'mężczyzn w danej grupie wiekowej'\n",
    "        }, inplace = True\n",
    "    )\n",
    "pop_df"
   ]
  },
  {
   "cell_type": "code",
   "execution_count": 9,
   "metadata": {},
   "outputs": [
    {
     "data": {
      "text/html": [
       "<div>\n",
       "<style scoped>\n",
       "    .dataframe tbody tr th:only-of-type {\n",
       "        vertical-align: middle;\n",
       "    }\n",
       "\n",
       "    .dataframe tbody tr th {\n",
       "        vertical-align: top;\n",
       "    }\n",
       "\n",
       "    .dataframe thead th {\n",
       "        text-align: right;\n",
       "    }\n",
       "</style>\n",
       "<table border=\"1\" class=\"dataframe\">\n",
       "  <thead>\n",
       "    <tr style=\"text-align: right;\">\n",
       "      <th></th>\n",
       "      <th>mieszkańców w województwie</th>\n",
       "    </tr>\n",
       "    <tr>\n",
       "      <th>Województwo</th>\n",
       "      <th></th>\n",
       "    </tr>\n",
       "  </thead>\n",
       "  <tbody>\n",
       "    <tr>\n",
       "      <th>Dolnośląskie</th>\n",
       "      <td>2884011</td>\n",
       "    </tr>\n",
       "    <tr>\n",
       "      <th>Kujawsko-Pomorskie</th>\n",
       "      <td>2054163</td>\n",
       "    </tr>\n",
       "    <tr>\n",
       "      <th>Lubelskie</th>\n",
       "      <td>2086403</td>\n",
       "    </tr>\n",
       "    <tr>\n",
       "      <th>Lubuskie</th>\n",
       "      <td>1003150</td>\n",
       "    </tr>\n",
       "    <tr>\n",
       "      <th>Łódzkie</th>\n",
       "      <td>2426806</td>\n",
       "    </tr>\n",
       "    <tr>\n",
       "      <th>Małopolskie</th>\n",
       "      <td>3408505</td>\n",
       "    </tr>\n",
       "    <tr>\n",
       "      <th>Mazowieckie</th>\n",
       "      <td>5419963</td>\n",
       "    </tr>\n",
       "    <tr>\n",
       "      <th>Opolskie</th>\n",
       "      <td>973298</td>\n",
       "    </tr>\n",
       "    <tr>\n",
       "      <th>Podkarpackie</th>\n",
       "      <td>2115578</td>\n",
       "    </tr>\n",
       "    <tr>\n",
       "      <th>Podlaskie</th>\n",
       "      <td>1169434</td>\n",
       "    </tr>\n",
       "    <tr>\n",
       "      <th>Pomorskie</th>\n",
       "      <td>2346065</td>\n",
       "    </tr>\n",
       "    <tr>\n",
       "      <th>Śląskie</th>\n",
       "      <td>4472703</td>\n",
       "    </tr>\n",
       "    <tr>\n",
       "      <th>Świętokrzyskie</th>\n",
       "      <td>1218089</td>\n",
       "    </tr>\n",
       "    <tr>\n",
       "      <th>Warmińsko-Mazurskie</th>\n",
       "      <td>1410643</td>\n",
       "    </tr>\n",
       "    <tr>\n",
       "      <th>Wielkopolskie</th>\n",
       "      <td>3491410</td>\n",
       "    </tr>\n",
       "    <tr>\n",
       "      <th>Zachodniopomorskie</th>\n",
       "      <td>1682003</td>\n",
       "    </tr>\n",
       "  </tbody>\n",
       "</table>\n",
       "</div>"
      ],
      "text/plain": [
       "                     mieszkańców w województwie\n",
       "Województwo                                    \n",
       "Dolnośląskie                            2884011\n",
       "Kujawsko-Pomorskie                      2054163\n",
       "Lubelskie                               2086403\n",
       "Lubuskie                                1003150\n",
       "Łódzkie                                 2426806\n",
       "Małopolskie                             3408505\n",
       "Mazowieckie                             5419963\n",
       "Opolskie                                 973298\n",
       "Podkarpackie                            2115578\n",
       "Podlaskie                               1169434\n",
       "Pomorskie                               2346065\n",
       "Śląskie                                 4472703\n",
       "Świętokrzyskie                          1218089\n",
       "Warmińsko-Mazurskie                     1410643\n",
       "Wielkopolskie                           3491410\n",
       "Zachodniopomorskie                      1682003"
      ]
     },
     "execution_count": 9,
     "metadata": {},
     "output_type": "execute_result"
    }
   ],
   "source": [
    "pop_woj_df = dfpopwoj\n",
    "pop_woj_df.rename(\n",
    "    columns = {\n",
    "        'Ludność' : 'mieszkańców w województwie',\n",
    "        'Kobiety' : 'kobiet w województwie',\n",
    "        'Mężczyźni' : 'mężczyzn w województwie'\n",
    "        }, inplace = True\n",
    "    )\n",
    "pop_woj_df"
   ]
  },
  {
   "cell_type": "code",
   "execution_count": 10,
   "metadata": {},
   "outputs": [],
   "source": [
    "def group_by(base_df: pd.DataFrame, x_col: str, x_col_name : str, denominator_df: pd.DataFrame, denominator_col : str) -> pd.DataFrame:\n",
    "   df = base_df.groupby(x_col).sum()\n",
    "   df.drop(['wiek', 'teryt_pow', 'teryt_woj'], axis = 'columns' , inplace=True)\n",
    "   df = pd.concat([df,denominator_df[denominator_col]], axis='columns')\n",
    "   # display(df)\n",
    "\n",
    "   Q = f'(w_pelni_zaszczepiony == \"N\")'\n",
    "\n",
    "   df1 = base_df.query(Q).groupby(x_col).sum()\n",
    "   df1.drop(['wiek', 'teryt_pow', 'teryt_woj'], axis = 'columns' , inplace=True)\n",
    "   df['Zgony nie w pełni zaszczepionych '  + denominator_col] = df1\n",
    "   \n",
    "   \n",
    "   Q = f'(w_pelni_zaszczepiony == \"T\")'\n",
    "\n",
    "   df1 = base_df.query(Q).groupby(x_col).sum()\n",
    "   df1.drop(['wiek', 'teryt_pow', 'teryt_woj'], axis = 'columns' , inplace=True)\n",
    "   df['Zgony w pełni zaszczepionych '  + denominator_col] = df1\n",
    "   df[x_col]=df.index\n",
    "   df.rename({x_col : x_col_name}, axis=1, inplace=True)\n",
    "   return df\n",
    " \n",
    " \n",
    "def prepare_df2(deaths_df: pd.DataFrame, x_col: str, x_col_name : str, denominator_df: pd.DataFrame, denominator_col : str, from_date : datetime.date) -> pd.DataFrame:\n",
    "   base_df = deaths_df[deaths_df['data_rap_zgonu'] >= pd.to_datetime(from_date)]\n",
    "\n",
    "   df = group_by(base_df, x_col, x_col_name, denominator_df, denominator_col)\n",
    "   # display(df)\n",
    "\n",
    "   df['Zgony nie w pełni zaszczepionych ' + denominator_col + ' na 100 tys. ' + denominator_col] =\\\n",
    "      df['Zgony nie w pełni zaszczepionych '  + denominator_col].to_numpy() / df[denominator_col].to_numpy() * 1e5\n",
    "   # display(df)\n",
    "   \n",
    "   df['Zgony w pełni zaszczepionych ' + denominator_col + ' na 100 tys. ' + denominator_col] =\\\n",
    "      df['Zgony w pełni zaszczepionych '  + denominator_col].to_numpy() / df[denominator_col].to_numpy() * 1e5\n",
    "\n",
    "   # df = df.sort_values(['Zgony nie w pełni zaszczepionych na 100 tys. mieszkańców'], ascending=False)\n",
    "   return df\n",
    "   "
   ]
  },
  {
   "cell_type": "code",
   "execution_count": 11,
   "metadata": {},
   "outputs": [
    {
     "data": {
      "text/html": [
       "<div>\n",
       "<style scoped>\n",
       "    .dataframe tbody tr th:only-of-type {\n",
       "        vertical-align: middle;\n",
       "    }\n",
       "\n",
       "    .dataframe tbody tr th {\n",
       "        vertical-align: top;\n",
       "    }\n",
       "\n",
       "    .dataframe thead th {\n",
       "        text-align: right;\n",
       "    }\n",
       "</style>\n",
       "<table border=\"1\" class=\"dataframe\">\n",
       "  <thead>\n",
       "    <tr style=\"text-align: right;\">\n",
       "      <th></th>\n",
       "      <th>liczba_zaraportowanych_zgonow</th>\n",
       "      <th>mieszkańców w danej grupie wiekowej</th>\n",
       "      <th>Zgony nie w pełni zaszczepionych mieszkańców w danej grupie wiekowej</th>\n",
       "      <th>Zgony w pełni zaszczepionych mieszkańców w danej grupie wiekowej</th>\n",
       "      <th>Grupa wiekowa</th>\n",
       "      <th>Zgony nie w pełni zaszczepionych mieszkańców w danej grupie wiekowej na 100 tys. mieszkańców w danej grupie wiekowej</th>\n",
       "      <th>Zgony w pełni zaszczepionych mieszkańców w danej grupie wiekowej na 100 tys. mieszkańców w danej grupie wiekowej</th>\n",
       "    </tr>\n",
       "  </thead>\n",
       "  <tbody>\n",
       "    <tr>\n",
       "      <th>0-18</th>\n",
       "      <td>9</td>\n",
       "      <td>6909092.0</td>\n",
       "      <td>8</td>\n",
       "      <td>1.0</td>\n",
       "      <td>0-18</td>\n",
       "      <td>0.115789</td>\n",
       "      <td>0.014474</td>\n",
       "    </tr>\n",
       "    <tr>\n",
       "      <th>19-24</th>\n",
       "      <td>18</td>\n",
       "      <td>2391135.0</td>\n",
       "      <td>17</td>\n",
       "      <td>1.0</td>\n",
       "      <td>19-24</td>\n",
       "      <td>0.710959</td>\n",
       "      <td>0.041821</td>\n",
       "    </tr>\n",
       "    <tr>\n",
       "      <th>25-34</th>\n",
       "      <td>99</td>\n",
       "      <td>5378329.0</td>\n",
       "      <td>92</td>\n",
       "      <td>7.0</td>\n",
       "      <td>25-34</td>\n",
       "      <td>1.710568</td>\n",
       "      <td>0.130152</td>\n",
       "    </tr>\n",
       "    <tr>\n",
       "      <th>35-44</th>\n",
       "      <td>253</td>\n",
       "      <td>6101624.0</td>\n",
       "      <td>228</td>\n",
       "      <td>25.0</td>\n",
       "      <td>35-44</td>\n",
       "      <td>3.736710</td>\n",
       "      <td>0.409727</td>\n",
       "    </tr>\n",
       "    <tr>\n",
       "      <th>45-54</th>\n",
       "      <td>622</td>\n",
       "      <td>4789676.0</td>\n",
       "      <td>542</td>\n",
       "      <td>80.0</td>\n",
       "      <td>45-54</td>\n",
       "      <td>11.316006</td>\n",
       "      <td>1.670259</td>\n",
       "    </tr>\n",
       "    <tr>\n",
       "      <th>55-64</th>\n",
       "      <td>1465</td>\n",
       "      <td>5104262.0</td>\n",
       "      <td>1172</td>\n",
       "      <td>293.0</td>\n",
       "      <td>55-64</td>\n",
       "      <td>22.961204</td>\n",
       "      <td>5.740301</td>\n",
       "    </tr>\n",
       "    <tr>\n",
       "      <th>65-74</th>\n",
       "      <td>3565</td>\n",
       "      <td>4195973.0</td>\n",
       "      <td>2432</td>\n",
       "      <td>1133.0</td>\n",
       "      <td>65-74</td>\n",
       "      <td>57.960335</td>\n",
       "      <td>27.002080</td>\n",
       "    </tr>\n",
       "    <tr>\n",
       "      <th>75-84</th>\n",
       "      <td>3929</td>\n",
       "      <td>1912001.0</td>\n",
       "      <td>2714</td>\n",
       "      <td>1215.0</td>\n",
       "      <td>75-84</td>\n",
       "      <td>141.945532</td>\n",
       "      <td>63.545992</td>\n",
       "    </tr>\n",
       "    <tr>\n",
       "      <th>85-94</th>\n",
       "      <td>3536</td>\n",
       "      <td>756428.0</td>\n",
       "      <td>2622</td>\n",
       "      <td>914.0</td>\n",
       "      <td>85-94</td>\n",
       "      <td>346.629157</td>\n",
       "      <td>120.831064</td>\n",
       "    </tr>\n",
       "    <tr>\n",
       "      <th>95+</th>\n",
       "      <td>367</td>\n",
       "      <td>52344.0</td>\n",
       "      <td>299</td>\n",
       "      <td>68.0</td>\n",
       "      <td>95+</td>\n",
       "      <td>571.221152</td>\n",
       "      <td>129.909827</td>\n",
       "    </tr>\n",
       "    <tr>\n",
       "      <th>BD</th>\n",
       "      <td>2</td>\n",
       "      <td>NaN</td>\n",
       "      <td>2</td>\n",
       "      <td>NaN</td>\n",
       "      <td>BD</td>\n",
       "      <td>NaN</td>\n",
       "      <td>NaN</td>\n",
       "    </tr>\n",
       "  </tbody>\n",
       "</table>\n",
       "</div>"
      ],
      "text/plain": [
       "       liczba_zaraportowanych_zgonow  mieszkańców w danej grupie wiekowej  \\\n",
       "0-18                               9                            6909092.0   \n",
       "19-24                             18                            2391135.0   \n",
       "25-34                             99                            5378329.0   \n",
       "35-44                            253                            6101624.0   \n",
       "45-54                            622                            4789676.0   \n",
       "55-64                           1465                            5104262.0   \n",
       "65-74                           3565                            4195973.0   \n",
       "75-84                           3929                            1912001.0   \n",
       "85-94                           3536                             756428.0   \n",
       "95+                              367                              52344.0   \n",
       "BD                                 2                                  NaN   \n",
       "\n",
       "       Zgony nie w pełni zaszczepionych mieszkańców w danej grupie wiekowej  \\\n",
       "0-18                                                   8                      \n",
       "19-24                                                 17                      \n",
       "25-34                                                 92                      \n",
       "35-44                                                228                      \n",
       "45-54                                                542                      \n",
       "55-64                                               1172                      \n",
       "65-74                                               2432                      \n",
       "75-84                                               2714                      \n",
       "85-94                                               2622                      \n",
       "95+                                                  299                      \n",
       "BD                                                     2                      \n",
       "\n",
       "       Zgony w pełni zaszczepionych mieszkańców w danej grupie wiekowej  \\\n",
       "0-18                                                 1.0                  \n",
       "19-24                                                1.0                  \n",
       "25-34                                                7.0                  \n",
       "35-44                                               25.0                  \n",
       "45-54                                               80.0                  \n",
       "55-64                                              293.0                  \n",
       "65-74                                             1133.0                  \n",
       "75-84                                             1215.0                  \n",
       "85-94                                              914.0                  \n",
       "95+                                                 68.0                  \n",
       "BD                                                   NaN                  \n",
       "\n",
       "      Grupa wiekowa  \\\n",
       "0-18           0-18   \n",
       "19-24         19-24   \n",
       "25-34         25-34   \n",
       "35-44         35-44   \n",
       "45-54         45-54   \n",
       "55-64         55-64   \n",
       "65-74         65-74   \n",
       "75-84         75-84   \n",
       "85-94         85-94   \n",
       "95+             95+   \n",
       "BD               BD   \n",
       "\n",
       "       Zgony nie w pełni zaszczepionych mieszkańców w danej grupie wiekowej na 100 tys. mieszkańców w danej grupie wiekowej  \\\n",
       "0-18                                            0.115789                                                                      \n",
       "19-24                                           0.710959                                                                      \n",
       "25-34                                           1.710568                                                                      \n",
       "35-44                                           3.736710                                                                      \n",
       "45-54                                          11.316006                                                                      \n",
       "55-64                                          22.961204                                                                      \n",
       "65-74                                          57.960335                                                                      \n",
       "75-84                                         141.945532                                                                      \n",
       "85-94                                         346.629157                                                                      \n",
       "95+                                           571.221152                                                                      \n",
       "BD                                                   NaN                                                                      \n",
       "\n",
       "       Zgony w pełni zaszczepionych mieszkańców w danej grupie wiekowej na 100 tys. mieszkańców w danej grupie wiekowej  \n",
       "0-18                                            0.014474                                                                 \n",
       "19-24                                           0.041821                                                                 \n",
       "25-34                                           0.130152                                                                 \n",
       "35-44                                           0.409727                                                                 \n",
       "45-54                                           1.670259                                                                 \n",
       "55-64                                           5.740301                                                                 \n",
       "65-74                                          27.002080                                                                 \n",
       "75-84                                          63.545992                                                                 \n",
       "85-94                                         120.831064                                                                 \n",
       "95+                                           129.909827                                                                 \n",
       "BD                                                   NaN                                                                 "
      ]
     },
     "execution_count": 11,
     "metadata": {},
     "output_type": "execute_result"
    }
   ],
   "source": [
    "from_date = datetime.date(2021,7,14)\n",
    "\n",
    "df = prepare_df2(\n",
    "    deaths_df = basiw.dfd, \n",
    "    x_col ='kat_wiek', \n",
    "    x_col_name = 'Grupa wiekowa',\n",
    "    denominator_df=pop_df,  \n",
    "    denominator_col='mieszkańców w danej grupie wiekowej', \n",
    "    from_date=from_date\n",
    "    )\n",
    "\n",
    "df"
   ]
  },
  {
   "cell_type": "code",
   "execution_count": 12,
   "metadata": {},
   "outputs": [],
   "source": [
    "def plot_df2(\n",
    "    x_col : str, \n",
    "    denominator_col : str, \n",
    "    title : str, \n",
    "    filename_str : str,  \n",
    "    from_date : datetime.date, \n",
    "    df : pd.DataFrame, \n",
    "    image_dir : str,\n",
    "    width=800, \n",
    "    height=500,\n",
    "    legend_y=-0.25\n",
    "    ) -> pd.DataFrame:\n",
    "\n",
    "    nie = 'Zgony nie w pełni zaszczepionych ' + denominator_col + ' na 100 tys. ' + denominator_col\n",
    "    tak = 'Zgony w pełni zaszczepionych ' + denominator_col + ' na 100 tys. ' + denominator_col\n",
    "\n",
    "    fig = go.Figure(\n",
    "        data=[\n",
    "            go.Bar(\n",
    "                name = nie, \n",
    "                x=df[x_col], \n",
    "                y=df[nie], \n",
    "                offsetgroup=1,\n",
    "                text = df[nie]\n",
    "                ),\n",
    "            go.Bar(\n",
    "                name = tak, \n",
    "                x=df[x_col], \n",
    "                y=df[tak], \n",
    "                offsetgroup=2,\n",
    "                text = df[tak]\n",
    "                )\n",
    "        ]\n",
    "    )\n",
    "\n",
    "    fig.update_traces(\n",
    "        texttemplate='%{text:2.1f}', \n",
    "        textposition='outside',\n",
    "        )\n",
    "\n",
    "    fig.update_layout(\n",
    "        barmode='group', \n",
    "        width=width, \n",
    "        height=height,\n",
    "        title = title , #\"Liczba zgonów \" + denominator_col + \" na COVID-19 \" + title_str + \" na 100 tys. \"+ denominator_col +\n",
    "        # \"<br>w podziale na w pełni zaszczepionych i nie w pełni zaszczepionych<br>(od \" + str(from_date) + \")\",\n",
    "        yaxis_title=\"Liczba zgonów na 100 tys.\",\n",
    "        legend_title=\"\",\n",
    "        uniformtext_minsize=6, \n",
    "        uniformtext_mode='show',\n",
    "        legend=dict(\n",
    "            y=legend_y,\n",
    "            xanchor=\"center\",\n",
    "            x=0.5\n",
    "            ),\n",
    "        title_xanchor='center',\n",
    "        title_x = 0.5,\n",
    "        title_font_size=16\n",
    "        )\n",
    "    fig.update_xaxes(tickangle=33)\n",
    "    fig.show()\n",
    "    fig.write_image(os.sep.join([image_dir, 'zgony_szczep_1e5_'+ filename_str + '_od'+str(from_date)+'.jpg']), scale=4)\n",
    "    return"
   ]
  },
  {
   "cell_type": "code",
   "execution_count": 13,
   "metadata": {},
   "outputs": [
    {
     "data": {
      "application/vnd.plotly.v1+json": {
       "config": {
        "plotlyServerURL": "https://plot.ly"
       },
       "data": [
        {
         "name": "Zgony nie w pełni zaszczepionych mieszkańców w danej grupie wiekowej na 100 tys. mieszkańców w danej grupie wiekowej",
         "offsetgroup": "1",
         "text": [
          0.11578945540166494,
          0.7109594397639615,
          1.7105684683848832,
          3.7367100955417767,
          11.316005508514564,
          22.961203794005872,
          57.96033482579607,
          141.94553245526546,
          346.629157038079,
          571.2211523765857
         ],
         "textposition": "outside",
         "texttemplate": "%{text:2.1f}",
         "type": "bar",
         "x": [
          "0-18",
          "19-24",
          "25-34",
          "35-44",
          "45-54",
          "55-64",
          "65-74",
          "75-84",
          "85-94",
          "95+"
         ],
         "y": [
          0.11578945540166494,
          0.7109594397639615,
          1.7105684683848832,
          3.7367100955417767,
          11.316005508514564,
          22.961203794005872,
          57.96033482579607,
          141.94553245526546,
          346.629157038079,
          571.2211523765857
         ]
        },
        {
         "name": "Zgony w pełni zaszczepionych mieszkańców w danej grupie wiekowej na 100 tys. mieszkańców w danej grupie wiekowej",
         "offsetgroup": "2",
         "text": [
          0.014473681925208117,
          0.04182114351552715,
          0.1301519486814585,
          0.4097269841602826,
          1.670259115647906,
          5.740300948501468,
          27.002080327971605,
          63.54599186925112,
          120.83106389504356,
          129.90982729634723
         ],
         "textposition": "outside",
         "texttemplate": "%{text:2.1f}",
         "type": "bar",
         "x": [
          "0-18",
          "19-24",
          "25-34",
          "35-44",
          "45-54",
          "55-64",
          "65-74",
          "75-84",
          "85-94",
          "95+"
         ],
         "y": [
          0.014473681925208117,
          0.04182114351552715,
          0.1301519486814585,
          0.4097269841602826,
          1.670259115647906,
          5.740300948501468,
          27.002080327971605,
          63.54599186925112,
          120.83106389504356,
          129.90982729634723
         ]
        }
       ],
       "layout": {
        "barmode": "group",
        "height": 500,
        "legend": {
         "title": {
          "text": ""
         },
         "x": 0.5,
         "xanchor": "center",
         "y": -0.25
        },
        "template": {
         "data": {
          "bar": [
           {
            "error_x": {
             "color": "#2a3f5f"
            },
            "error_y": {
             "color": "#2a3f5f"
            },
            "marker": {
             "line": {
              "color": "#E5ECF6",
              "width": 0.5
             }
            },
            "type": "bar"
           }
          ],
          "barpolar": [
           {
            "marker": {
             "line": {
              "color": "#E5ECF6",
              "width": 0.5
             }
            },
            "type": "barpolar"
           }
          ],
          "carpet": [
           {
            "aaxis": {
             "endlinecolor": "#2a3f5f",
             "gridcolor": "white",
             "linecolor": "white",
             "minorgridcolor": "white",
             "startlinecolor": "#2a3f5f"
            },
            "baxis": {
             "endlinecolor": "#2a3f5f",
             "gridcolor": "white",
             "linecolor": "white",
             "minorgridcolor": "white",
             "startlinecolor": "#2a3f5f"
            },
            "type": "carpet"
           }
          ],
          "choropleth": [
           {
            "colorbar": {
             "outlinewidth": 0,
             "ticks": ""
            },
            "type": "choropleth"
           }
          ],
          "contour": [
           {
            "colorbar": {
             "outlinewidth": 0,
             "ticks": ""
            },
            "colorscale": [
             [
              0,
              "#0d0887"
             ],
             [
              0.1111111111111111,
              "#46039f"
             ],
             [
              0.2222222222222222,
              "#7201a8"
             ],
             [
              0.3333333333333333,
              "#9c179e"
             ],
             [
              0.4444444444444444,
              "#bd3786"
             ],
             [
              0.5555555555555556,
              "#d8576b"
             ],
             [
              0.6666666666666666,
              "#ed7953"
             ],
             [
              0.7777777777777778,
              "#fb9f3a"
             ],
             [
              0.8888888888888888,
              "#fdca26"
             ],
             [
              1,
              "#f0f921"
             ]
            ],
            "type": "contour"
           }
          ],
          "contourcarpet": [
           {
            "colorbar": {
             "outlinewidth": 0,
             "ticks": ""
            },
            "type": "contourcarpet"
           }
          ],
          "heatmap": [
           {
            "colorbar": {
             "outlinewidth": 0,
             "ticks": ""
            },
            "colorscale": [
             [
              0,
              "#0d0887"
             ],
             [
              0.1111111111111111,
              "#46039f"
             ],
             [
              0.2222222222222222,
              "#7201a8"
             ],
             [
              0.3333333333333333,
              "#9c179e"
             ],
             [
              0.4444444444444444,
              "#bd3786"
             ],
             [
              0.5555555555555556,
              "#d8576b"
             ],
             [
              0.6666666666666666,
              "#ed7953"
             ],
             [
              0.7777777777777778,
              "#fb9f3a"
             ],
             [
              0.8888888888888888,
              "#fdca26"
             ],
             [
              1,
              "#f0f921"
             ]
            ],
            "type": "heatmap"
           }
          ],
          "heatmapgl": [
           {
            "colorbar": {
             "outlinewidth": 0,
             "ticks": ""
            },
            "colorscale": [
             [
              0,
              "#0d0887"
             ],
             [
              0.1111111111111111,
              "#46039f"
             ],
             [
              0.2222222222222222,
              "#7201a8"
             ],
             [
              0.3333333333333333,
              "#9c179e"
             ],
             [
              0.4444444444444444,
              "#bd3786"
             ],
             [
              0.5555555555555556,
              "#d8576b"
             ],
             [
              0.6666666666666666,
              "#ed7953"
             ],
             [
              0.7777777777777778,
              "#fb9f3a"
             ],
             [
              0.8888888888888888,
              "#fdca26"
             ],
             [
              1,
              "#f0f921"
             ]
            ],
            "type": "heatmapgl"
           }
          ],
          "histogram": [
           {
            "marker": {
             "colorbar": {
              "outlinewidth": 0,
              "ticks": ""
             }
            },
            "type": "histogram"
           }
          ],
          "histogram2d": [
           {
            "colorbar": {
             "outlinewidth": 0,
             "ticks": ""
            },
            "colorscale": [
             [
              0,
              "#0d0887"
             ],
             [
              0.1111111111111111,
              "#46039f"
             ],
             [
              0.2222222222222222,
              "#7201a8"
             ],
             [
              0.3333333333333333,
              "#9c179e"
             ],
             [
              0.4444444444444444,
              "#bd3786"
             ],
             [
              0.5555555555555556,
              "#d8576b"
             ],
             [
              0.6666666666666666,
              "#ed7953"
             ],
             [
              0.7777777777777778,
              "#fb9f3a"
             ],
             [
              0.8888888888888888,
              "#fdca26"
             ],
             [
              1,
              "#f0f921"
             ]
            ],
            "type": "histogram2d"
           }
          ],
          "histogram2dcontour": [
           {
            "colorbar": {
             "outlinewidth": 0,
             "ticks": ""
            },
            "colorscale": [
             [
              0,
              "#0d0887"
             ],
             [
              0.1111111111111111,
              "#46039f"
             ],
             [
              0.2222222222222222,
              "#7201a8"
             ],
             [
              0.3333333333333333,
              "#9c179e"
             ],
             [
              0.4444444444444444,
              "#bd3786"
             ],
             [
              0.5555555555555556,
              "#d8576b"
             ],
             [
              0.6666666666666666,
              "#ed7953"
             ],
             [
              0.7777777777777778,
              "#fb9f3a"
             ],
             [
              0.8888888888888888,
              "#fdca26"
             ],
             [
              1,
              "#f0f921"
             ]
            ],
            "type": "histogram2dcontour"
           }
          ],
          "mesh3d": [
           {
            "colorbar": {
             "outlinewidth": 0,
             "ticks": ""
            },
            "type": "mesh3d"
           }
          ],
          "parcoords": [
           {
            "line": {
             "colorbar": {
              "outlinewidth": 0,
              "ticks": ""
             }
            },
            "type": "parcoords"
           }
          ],
          "pie": [
           {
            "automargin": true,
            "type": "pie"
           }
          ],
          "scatter": [
           {
            "marker": {
             "colorbar": {
              "outlinewidth": 0,
              "ticks": ""
             }
            },
            "type": "scatter"
           }
          ],
          "scatter3d": [
           {
            "line": {
             "colorbar": {
              "outlinewidth": 0,
              "ticks": ""
             }
            },
            "marker": {
             "colorbar": {
              "outlinewidth": 0,
              "ticks": ""
             }
            },
            "type": "scatter3d"
           }
          ],
          "scattercarpet": [
           {
            "marker": {
             "colorbar": {
              "outlinewidth": 0,
              "ticks": ""
             }
            },
            "type": "scattercarpet"
           }
          ],
          "scattergeo": [
           {
            "marker": {
             "colorbar": {
              "outlinewidth": 0,
              "ticks": ""
             }
            },
            "type": "scattergeo"
           }
          ],
          "scattergl": [
           {
            "marker": {
             "colorbar": {
              "outlinewidth": 0,
              "ticks": ""
             }
            },
            "type": "scattergl"
           }
          ],
          "scattermapbox": [
           {
            "marker": {
             "colorbar": {
              "outlinewidth": 0,
              "ticks": ""
             }
            },
            "type": "scattermapbox"
           }
          ],
          "scatterpolar": [
           {
            "marker": {
             "colorbar": {
              "outlinewidth": 0,
              "ticks": ""
             }
            },
            "type": "scatterpolar"
           }
          ],
          "scatterpolargl": [
           {
            "marker": {
             "colorbar": {
              "outlinewidth": 0,
              "ticks": ""
             }
            },
            "type": "scatterpolargl"
           }
          ],
          "scatterternary": [
           {
            "marker": {
             "colorbar": {
              "outlinewidth": 0,
              "ticks": ""
             }
            },
            "type": "scatterternary"
           }
          ],
          "surface": [
           {
            "colorbar": {
             "outlinewidth": 0,
             "ticks": ""
            },
            "colorscale": [
             [
              0,
              "#0d0887"
             ],
             [
              0.1111111111111111,
              "#46039f"
             ],
             [
              0.2222222222222222,
              "#7201a8"
             ],
             [
              0.3333333333333333,
              "#9c179e"
             ],
             [
              0.4444444444444444,
              "#bd3786"
             ],
             [
              0.5555555555555556,
              "#d8576b"
             ],
             [
              0.6666666666666666,
              "#ed7953"
             ],
             [
              0.7777777777777778,
              "#fb9f3a"
             ],
             [
              0.8888888888888888,
              "#fdca26"
             ],
             [
              1,
              "#f0f921"
             ]
            ],
            "type": "surface"
           }
          ],
          "table": [
           {
            "cells": {
             "fill": {
              "color": "#EBF0F8"
             },
             "line": {
              "color": "white"
             }
            },
            "header": {
             "fill": {
              "color": "#C8D4E3"
             },
             "line": {
              "color": "white"
             }
            },
            "type": "table"
           }
          ]
         },
         "layout": {
          "annotationdefaults": {
           "arrowcolor": "#2a3f5f",
           "arrowhead": 0,
           "arrowwidth": 1
          },
          "coloraxis": {
           "colorbar": {
            "outlinewidth": 0,
            "ticks": ""
           }
          },
          "colorscale": {
           "diverging": [
            [
             0,
             "#8e0152"
            ],
            [
             0.1,
             "#c51b7d"
            ],
            [
             0.2,
             "#de77ae"
            ],
            [
             0.3,
             "#f1b6da"
            ],
            [
             0.4,
             "#fde0ef"
            ],
            [
             0.5,
             "#f7f7f7"
            ],
            [
             0.6,
             "#e6f5d0"
            ],
            [
             0.7,
             "#b8e186"
            ],
            [
             0.8,
             "#7fbc41"
            ],
            [
             0.9,
             "#4d9221"
            ],
            [
             1,
             "#276419"
            ]
           ],
           "sequential": [
            [
             0,
             "#0d0887"
            ],
            [
             0.1111111111111111,
             "#46039f"
            ],
            [
             0.2222222222222222,
             "#7201a8"
            ],
            [
             0.3333333333333333,
             "#9c179e"
            ],
            [
             0.4444444444444444,
             "#bd3786"
            ],
            [
             0.5555555555555556,
             "#d8576b"
            ],
            [
             0.6666666666666666,
             "#ed7953"
            ],
            [
             0.7777777777777778,
             "#fb9f3a"
            ],
            [
             0.8888888888888888,
             "#fdca26"
            ],
            [
             1,
             "#f0f921"
            ]
           ],
           "sequentialminus": [
            [
             0,
             "#0d0887"
            ],
            [
             0.1111111111111111,
             "#46039f"
            ],
            [
             0.2222222222222222,
             "#7201a8"
            ],
            [
             0.3333333333333333,
             "#9c179e"
            ],
            [
             0.4444444444444444,
             "#bd3786"
            ],
            [
             0.5555555555555556,
             "#d8576b"
            ],
            [
             0.6666666666666666,
             "#ed7953"
            ],
            [
             0.7777777777777778,
             "#fb9f3a"
            ],
            [
             0.8888888888888888,
             "#fdca26"
            ],
            [
             1,
             "#f0f921"
            ]
           ]
          },
          "colorway": [
           "#636efa",
           "#EF553B",
           "#00cc96",
           "#ab63fa",
           "#FFA15A",
           "#19d3f3",
           "#FF6692",
           "#B6E880",
           "#FF97FF",
           "#FECB52"
          ],
          "font": {
           "color": "#2a3f5f"
          },
          "geo": {
           "bgcolor": "white",
           "lakecolor": "white",
           "landcolor": "#E5ECF6",
           "showlakes": true,
           "showland": true,
           "subunitcolor": "white"
          },
          "hoverlabel": {
           "align": "left"
          },
          "hovermode": "closest",
          "mapbox": {
           "style": "light"
          },
          "paper_bgcolor": "white",
          "plot_bgcolor": "#E5ECF6",
          "polar": {
           "angularaxis": {
            "gridcolor": "white",
            "linecolor": "white",
            "ticks": ""
           },
           "bgcolor": "#E5ECF6",
           "radialaxis": {
            "gridcolor": "white",
            "linecolor": "white",
            "ticks": ""
           }
          },
          "scene": {
           "xaxis": {
            "backgroundcolor": "#E5ECF6",
            "gridcolor": "white",
            "gridwidth": 2,
            "linecolor": "white",
            "showbackground": true,
            "ticks": "",
            "zerolinecolor": "white"
           },
           "yaxis": {
            "backgroundcolor": "#E5ECF6",
            "gridcolor": "white",
            "gridwidth": 2,
            "linecolor": "white",
            "showbackground": true,
            "ticks": "",
            "zerolinecolor": "white"
           },
           "zaxis": {
            "backgroundcolor": "#E5ECF6",
            "gridcolor": "white",
            "gridwidth": 2,
            "linecolor": "white",
            "showbackground": true,
            "ticks": "",
            "zerolinecolor": "white"
           }
          },
          "shapedefaults": {
           "line": {
            "color": "#2a3f5f"
           }
          },
          "ternary": {
           "aaxis": {
            "gridcolor": "white",
            "linecolor": "white",
            "ticks": ""
           },
           "baxis": {
            "gridcolor": "white",
            "linecolor": "white",
            "ticks": ""
           },
           "bgcolor": "#E5ECF6",
           "caxis": {
            "gridcolor": "white",
            "linecolor": "white",
            "ticks": ""
           }
          },
          "title": {
           "x": 0.05
          },
          "xaxis": {
           "automargin": true,
           "gridcolor": "white",
           "linecolor": "white",
           "ticks": "",
           "title": {
            "standoff": 15
           },
           "zerolinecolor": "white",
           "zerolinewidth": 2
          },
          "yaxis": {
           "automargin": true,
           "gridcolor": "white",
           "linecolor": "white",
           "ticks": "",
           "title": {
            "standoff": 15
           },
           "zerolinecolor": "white",
           "zerolinewidth": 2
          }
         }
        },
        "title": {
         "font": {
          "size": 16
         },
         "text": "Liczba zgonów na COVID-19 mieszkańców w danej grupie wiekowej w Polsce<br>na 100 tys. mieszkańców w danej grupie wiekowej<br>w podziale na w pełni zaszczepionych i nie w pełni zaszczepionych (od 2021-07-14)",
         "x": 0.5,
         "xanchor": "center"
        },
        "uniformtext": {
         "minsize": 6,
         "mode": "show"
        },
        "width": 800,
        "xaxis": {
         "tickangle": 33
        },
        "yaxis": {
         "title": {
          "text": "Liczba zgonów na 100 tys."
         }
        }
       }
      }
     },
     "metadata": {},
     "output_type": "display_data"
    }
   ],
   "source": [
    "x_col = \"Grupa wiekowa\"\n",
    "title_str = \"w Polsce\" #\"w województwach\"\n",
    "filename_str = \"wiek_ogolem\"\n",
    "denominator_col = \"mieszkańców w danej grupie wiekowej\"\n",
    "title = \"Liczba zgonów na COVID-19 \" + denominator_col + \" \" + title_str + \"<br>na 100 tys. \"+ denominator_col +\\\n",
    "        \"<br>w podziale na w pełni zaszczepionych i nie w pełni zaszczepionych (od \" + str(from_date) + \")\"\n",
    "df_to_plot = df[:-1]\n",
    "\n",
    "plot_df2(\n",
    "    x_col=x_col, \n",
    "    denominator_col=denominator_col, \n",
    "    title=title , \n",
    "    filename_str=filename_str,  \n",
    "    from_date = from_date, \n",
    "    df = df_to_plot, \n",
    "    image_dir = basiw.image_dir\n",
    "    )"
   ]
  },
  {
   "cell_type": "markdown",
   "metadata": {},
   "source": [
    "### Liczba zgonów na COVID-19 w Polsce, według płci, na 100 tys. mieszkańców<br> w podziale na grupy wiekowe<br> (Od 14.07.2021) "
   ]
  },
  {
   "cell_type": "code",
   "execution_count": 14,
   "metadata": {},
   "outputs": [
    {
     "data": {
      "text/html": [
       "<div>\n",
       "<style scoped>\n",
       "    .dataframe tbody tr th:only-of-type {\n",
       "        vertical-align: middle;\n",
       "    }\n",
       "\n",
       "    .dataframe tbody tr th {\n",
       "        vertical-align: top;\n",
       "    }\n",
       "\n",
       "    .dataframe thead th {\n",
       "        text-align: right;\n",
       "    }\n",
       "</style>\n",
       "<table border=\"1\" class=\"dataframe\">\n",
       "  <thead>\n",
       "    <tr style=\"text-align: right;\">\n",
       "      <th></th>\n",
       "      <th>data_rap_zgonu</th>\n",
       "      <th>teryt_woj</th>\n",
       "      <th>teryt_pow</th>\n",
       "      <th>plec</th>\n",
       "      <th>wiek</th>\n",
       "      <th>kat_wiek</th>\n",
       "      <th>czy_wspolistniejace</th>\n",
       "      <th>producent</th>\n",
       "      <th>dawka_ost</th>\n",
       "      <th>obniz_odpornosc</th>\n",
       "      <th>liczba_zaraportowanych_zgonow</th>\n",
       "      <th>w_pelni_zaszczepiony</th>\n",
       "      <th>Województwo</th>\n",
       "    </tr>\n",
       "  </thead>\n",
       "  <tbody>\n",
       "    <tr>\n",
       "      <th>2</th>\n",
       "      <td>2021-01-02</td>\n",
       "      <td>4</td>\n",
       "      <td>407</td>\n",
       "      <td>M</td>\n",
       "      <td>69.0</td>\n",
       "      <td>65-74</td>\n",
       "      <td>T</td>\n",
       "      <td>NaN</td>\n",
       "      <td>NaN</td>\n",
       "      <td>N</td>\n",
       "      <td>1</td>\n",
       "      <td>N</td>\n",
       "      <td>Kujawsko-Pomorskie</td>\n",
       "    </tr>\n",
       "    <tr>\n",
       "      <th>3</th>\n",
       "      <td>2021-01-02</td>\n",
       "      <td>4</td>\n",
       "      <td>415</td>\n",
       "      <td>M</td>\n",
       "      <td>72.0</td>\n",
       "      <td>65-74</td>\n",
       "      <td>T</td>\n",
       "      <td>NaN</td>\n",
       "      <td>NaN</td>\n",
       "      <td>N</td>\n",
       "      <td>1</td>\n",
       "      <td>N</td>\n",
       "      <td>Kujawsko-Pomorskie</td>\n",
       "    </tr>\n",
       "    <tr>\n",
       "      <th>4</th>\n",
       "      <td>2021-01-02</td>\n",
       "      <td>4</td>\n",
       "      <td>415</td>\n",
       "      <td>M</td>\n",
       "      <td>77.0</td>\n",
       "      <td>75-84</td>\n",
       "      <td>T</td>\n",
       "      <td>NaN</td>\n",
       "      <td>NaN</td>\n",
       "      <td>N</td>\n",
       "      <td>1</td>\n",
       "      <td>N</td>\n",
       "      <td>Kujawsko-Pomorskie</td>\n",
       "    </tr>\n",
       "    <tr>\n",
       "      <th>5</th>\n",
       "      <td>2021-01-02</td>\n",
       "      <td>4</td>\n",
       "      <td>418</td>\n",
       "      <td>M</td>\n",
       "      <td>76.0</td>\n",
       "      <td>75-84</td>\n",
       "      <td>T</td>\n",
       "      <td>NaN</td>\n",
       "      <td>NaN</td>\n",
       "      <td>N</td>\n",
       "      <td>1</td>\n",
       "      <td>N</td>\n",
       "      <td>Kujawsko-Pomorskie</td>\n",
       "    </tr>\n",
       "    <tr>\n",
       "      <th>7</th>\n",
       "      <td>2021-01-02</td>\n",
       "      <td>4</td>\n",
       "      <td>464</td>\n",
       "      <td>M</td>\n",
       "      <td>67.0</td>\n",
       "      <td>65-74</td>\n",
       "      <td>T</td>\n",
       "      <td>NaN</td>\n",
       "      <td>NaN</td>\n",
       "      <td>N</td>\n",
       "      <td>1</td>\n",
       "      <td>N</td>\n",
       "      <td>Kujawsko-Pomorskie</td>\n",
       "    </tr>\n",
       "    <tr>\n",
       "      <th>...</th>\n",
       "      <td>...</td>\n",
       "      <td>...</td>\n",
       "      <td>...</td>\n",
       "      <td>...</td>\n",
       "      <td>...</td>\n",
       "      <td>...</td>\n",
       "      <td>...</td>\n",
       "      <td>...</td>\n",
       "      <td>...</td>\n",
       "      <td>...</td>\n",
       "      <td>...</td>\n",
       "      <td>...</td>\n",
       "      <td>...</td>\n",
       "    </tr>\n",
       "    <tr>\n",
       "      <th>58975</th>\n",
       "      <td>2021-12-13</td>\n",
       "      <td>32</td>\n",
       "      <td>3261</td>\n",
       "      <td>M</td>\n",
       "      <td>83.0</td>\n",
       "      <td>75-84</td>\n",
       "      <td>T</td>\n",
       "      <td>NaN</td>\n",
       "      <td>NaN</td>\n",
       "      <td>N</td>\n",
       "      <td>1</td>\n",
       "      <td>N</td>\n",
       "      <td>Zachodniopomorskie</td>\n",
       "    </tr>\n",
       "    <tr>\n",
       "      <th>58976</th>\n",
       "      <td>2021-12-13</td>\n",
       "      <td>32</td>\n",
       "      <td>3261</td>\n",
       "      <td>M</td>\n",
       "      <td>85.0</td>\n",
       "      <td>85-94</td>\n",
       "      <td>T</td>\n",
       "      <td>Pfizer</td>\n",
       "      <td>pelna_dawka</td>\n",
       "      <td>N</td>\n",
       "      <td>1</td>\n",
       "      <td>T</td>\n",
       "      <td>Zachodniopomorskie</td>\n",
       "    </tr>\n",
       "    <tr>\n",
       "      <th>58977</th>\n",
       "      <td>2021-12-13</td>\n",
       "      <td>32</td>\n",
       "      <td>3262</td>\n",
       "      <td>M</td>\n",
       "      <td>73.0</td>\n",
       "      <td>65-74</td>\n",
       "      <td>T</td>\n",
       "      <td>Pfizer</td>\n",
       "      <td>pelna_dawka</td>\n",
       "      <td>N</td>\n",
       "      <td>1</td>\n",
       "      <td>T</td>\n",
       "      <td>Zachodniopomorskie</td>\n",
       "    </tr>\n",
       "    <tr>\n",
       "      <th>58978</th>\n",
       "      <td>2021-12-13</td>\n",
       "      <td>32</td>\n",
       "      <td>3262</td>\n",
       "      <td>M</td>\n",
       "      <td>78.0</td>\n",
       "      <td>75-84</td>\n",
       "      <td>T</td>\n",
       "      <td>Pfizer</td>\n",
       "      <td>pelna_dawka</td>\n",
       "      <td>N</td>\n",
       "      <td>1</td>\n",
       "      <td>T</td>\n",
       "      <td>Zachodniopomorskie</td>\n",
       "    </tr>\n",
       "    <tr>\n",
       "      <th>58979</th>\n",
       "      <td>2021-12-13</td>\n",
       "      <td>32</td>\n",
       "      <td>3262</td>\n",
       "      <td>M</td>\n",
       "      <td>81.0</td>\n",
       "      <td>75-84</td>\n",
       "      <td>T</td>\n",
       "      <td>Pfizer</td>\n",
       "      <td>pelna_dawka</td>\n",
       "      <td>N</td>\n",
       "      <td>1</td>\n",
       "      <td>T</td>\n",
       "      <td>Zachodniopomorskie</td>\n",
       "    </tr>\n",
       "  </tbody>\n",
       "</table>\n",
       "<p>32005 rows × 13 columns</p>\n",
       "</div>"
      ],
      "text/plain": [
       "      data_rap_zgonu  teryt_woj  teryt_pow plec  wiek kat_wiek  \\\n",
       "2         2021-01-02          4        407    M  69.0    65-74   \n",
       "3         2021-01-02          4        415    M  72.0    65-74   \n",
       "4         2021-01-02          4        415    M  77.0    75-84   \n",
       "5         2021-01-02          4        418    M  76.0    75-84   \n",
       "7         2021-01-02          4        464    M  67.0    65-74   \n",
       "...              ...        ...        ...  ...   ...      ...   \n",
       "58975     2021-12-13         32       3261    M  83.0    75-84   \n",
       "58976     2021-12-13         32       3261    M  85.0    85-94   \n",
       "58977     2021-12-13         32       3262    M  73.0    65-74   \n",
       "58978     2021-12-13         32       3262    M  78.0    75-84   \n",
       "58979     2021-12-13         32       3262    M  81.0    75-84   \n",
       "\n",
       "      czy_wspolistniejace producent    dawka_ost obniz_odpornosc  \\\n",
       "2                       T       NaN          NaN               N   \n",
       "3                       T       NaN          NaN               N   \n",
       "4                       T       NaN          NaN               N   \n",
       "5                       T       NaN          NaN               N   \n",
       "7                       T       NaN          NaN               N   \n",
       "...                   ...       ...          ...             ...   \n",
       "58975                   T       NaN          NaN               N   \n",
       "58976                   T    Pfizer  pelna_dawka               N   \n",
       "58977                   T    Pfizer  pelna_dawka               N   \n",
       "58978                   T    Pfizer  pelna_dawka               N   \n",
       "58979                   T    Pfizer  pelna_dawka               N   \n",
       "\n",
       "       liczba_zaraportowanych_zgonow w_pelni_zaszczepiony         Województwo  \n",
       "2                                  1                    N  Kujawsko-Pomorskie  \n",
       "3                                  1                    N  Kujawsko-Pomorskie  \n",
       "4                                  1                    N  Kujawsko-Pomorskie  \n",
       "5                                  1                    N  Kujawsko-Pomorskie  \n",
       "7                                  1                    N  Kujawsko-Pomorskie  \n",
       "...                              ...                  ...                 ...  \n",
       "58975                              1                    N  Zachodniopomorskie  \n",
       "58976                              1                    T  Zachodniopomorskie  \n",
       "58977                              1                    T  Zachodniopomorskie  \n",
       "58978                              1                    T  Zachodniopomorskie  \n",
       "58979                              1                    T  Zachodniopomorskie  \n",
       "\n",
       "[32005 rows x 13 columns]"
      ]
     },
     "execution_count": 14,
     "metadata": {},
     "output_type": "execute_result"
    }
   ],
   "source": [
    "basiw.dfd.query('plec==\"M\"')"
   ]
  },
  {
   "cell_type": "code",
   "execution_count": 15,
   "metadata": {},
   "outputs": [
    {
     "data": {
      "text/html": [
       "<div>\n",
       "<style scoped>\n",
       "    .dataframe tbody tr th:only-of-type {\n",
       "        vertical-align: middle;\n",
       "    }\n",
       "\n",
       "    .dataframe tbody tr th {\n",
       "        vertical-align: top;\n",
       "    }\n",
       "\n",
       "    .dataframe thead th {\n",
       "        text-align: right;\n",
       "    }\n",
       "</style>\n",
       "<table border=\"1\" class=\"dataframe\">\n",
       "  <thead>\n",
       "    <tr style=\"text-align: right;\">\n",
       "      <th></th>\n",
       "      <th>liczba_zaraportowanych_zgonow</th>\n",
       "      <th>mężczyzn w danej grupie wiekowej</th>\n",
       "      <th>Zgony nie w pełni zaszczepionych mężczyzn w danej grupie wiekowej</th>\n",
       "      <th>Zgony w pełni zaszczepionych mężczyzn w danej grupie wiekowej</th>\n",
       "      <th>Grupa wiekowa</th>\n",
       "      <th>Zgony nie w pełni zaszczepionych mężczyzn w danej grupie wiekowej na 100 tys. mężczyzn w danej grupie wiekowej</th>\n",
       "      <th>Zgony w pełni zaszczepionych mężczyzn w danej grupie wiekowej na 100 tys. mężczyzn w danej grupie wiekowej</th>\n",
       "    </tr>\n",
       "  </thead>\n",
       "  <tbody>\n",
       "    <tr>\n",
       "      <th>0-18</th>\n",
       "      <td>7</td>\n",
       "      <td>3546221.0</td>\n",
       "      <td>7</td>\n",
       "      <td>0.0</td>\n",
       "      <td>0-18</td>\n",
       "      <td>0.197393</td>\n",
       "      <td>0.000000</td>\n",
       "    </tr>\n",
       "    <tr>\n",
       "      <th>19-24</th>\n",
       "      <td>10</td>\n",
       "      <td>1221176.0</td>\n",
       "      <td>10</td>\n",
       "      <td>0.0</td>\n",
       "      <td>19-24</td>\n",
       "      <td>0.818883</td>\n",
       "      <td>0.000000</td>\n",
       "    </tr>\n",
       "    <tr>\n",
       "      <th>25-34</th>\n",
       "      <td>71</td>\n",
       "      <td>2740642.0</td>\n",
       "      <td>66</td>\n",
       "      <td>5.0</td>\n",
       "      <td>25-34</td>\n",
       "      <td>2.408195</td>\n",
       "      <td>0.182439</td>\n",
       "    </tr>\n",
       "    <tr>\n",
       "      <th>35-44</th>\n",
       "      <td>163</td>\n",
       "      <td>3092676.0</td>\n",
       "      <td>147</td>\n",
       "      <td>16.0</td>\n",
       "      <td>35-44</td>\n",
       "      <td>4.753165</td>\n",
       "      <td>0.517351</td>\n",
       "    </tr>\n",
       "    <tr>\n",
       "      <th>45-54</th>\n",
       "      <td>427</td>\n",
       "      <td>2393794.0</td>\n",
       "      <td>370</td>\n",
       "      <td>57.0</td>\n",
       "      <td>45-54</td>\n",
       "      <td>15.456635</td>\n",
       "      <td>2.381157</td>\n",
       "    </tr>\n",
       "    <tr>\n",
       "      <th>55-64</th>\n",
       "      <td>862</td>\n",
       "      <td>2435381.0</td>\n",
       "      <td>664</td>\n",
       "      <td>198.0</td>\n",
       "      <td>55-64</td>\n",
       "      <td>27.264728</td>\n",
       "      <td>8.130145</td>\n",
       "    </tr>\n",
       "    <tr>\n",
       "      <th>65-74</th>\n",
       "      <td>2032</td>\n",
       "      <td>1833485.0</td>\n",
       "      <td>1292</td>\n",
       "      <td>740.0</td>\n",
       "      <td>65-74</td>\n",
       "      <td>70.466898</td>\n",
       "      <td>40.360297</td>\n",
       "    </tr>\n",
       "    <tr>\n",
       "      <th>75-84</th>\n",
       "      <td>1898</td>\n",
       "      <td>693760.0</td>\n",
       "      <td>1176</td>\n",
       "      <td>722.0</td>\n",
       "      <td>75-84</td>\n",
       "      <td>169.511070</td>\n",
       "      <td>104.070572</td>\n",
       "    </tr>\n",
       "    <tr>\n",
       "      <th>85-94</th>\n",
       "      <td>1355</td>\n",
       "      <td>215975.0</td>\n",
       "      <td>878</td>\n",
       "      <td>477.0</td>\n",
       "      <td>85-94</td>\n",
       "      <td>406.528533</td>\n",
       "      <td>220.858896</td>\n",
       "    </tr>\n",
       "    <tr>\n",
       "      <th>95+</th>\n",
       "      <td>103</td>\n",
       "      <td>11563.0</td>\n",
       "      <td>80</td>\n",
       "      <td>23.0</td>\n",
       "      <td>95+</td>\n",
       "      <td>691.861974</td>\n",
       "      <td>198.910317</td>\n",
       "    </tr>\n",
       "  </tbody>\n",
       "</table>\n",
       "</div>"
      ],
      "text/plain": [
       "       liczba_zaraportowanych_zgonow  mężczyzn w danej grupie wiekowej  \\\n",
       "0-18                               7                         3546221.0   \n",
       "19-24                             10                         1221176.0   \n",
       "25-34                             71                         2740642.0   \n",
       "35-44                            163                         3092676.0   \n",
       "45-54                            427                         2393794.0   \n",
       "55-64                            862                         2435381.0   \n",
       "65-74                           2032                         1833485.0   \n",
       "75-84                           1898                          693760.0   \n",
       "85-94                           1355                          215975.0   \n",
       "95+                              103                           11563.0   \n",
       "\n",
       "       Zgony nie w pełni zaszczepionych mężczyzn w danej grupie wiekowej  \\\n",
       "0-18                                                   7                   \n",
       "19-24                                                 10                   \n",
       "25-34                                                 66                   \n",
       "35-44                                                147                   \n",
       "45-54                                                370                   \n",
       "55-64                                                664                   \n",
       "65-74                                               1292                   \n",
       "75-84                                               1176                   \n",
       "85-94                                                878                   \n",
       "95+                                                   80                   \n",
       "\n",
       "       Zgony w pełni zaszczepionych mężczyzn w danej grupie wiekowej  \\\n",
       "0-18                                                 0.0               \n",
       "19-24                                                0.0               \n",
       "25-34                                                5.0               \n",
       "35-44                                               16.0               \n",
       "45-54                                               57.0               \n",
       "55-64                                              198.0               \n",
       "65-74                                              740.0               \n",
       "75-84                                              722.0               \n",
       "85-94                                              477.0               \n",
       "95+                                                 23.0               \n",
       "\n",
       "      Grupa wiekowa  \\\n",
       "0-18           0-18   \n",
       "19-24         19-24   \n",
       "25-34         25-34   \n",
       "35-44         35-44   \n",
       "45-54         45-54   \n",
       "55-64         55-64   \n",
       "65-74         65-74   \n",
       "75-84         75-84   \n",
       "85-94         85-94   \n",
       "95+             95+   \n",
       "\n",
       "       Zgony nie w pełni zaszczepionych mężczyzn w danej grupie wiekowej na 100 tys. mężczyzn w danej grupie wiekowej  \\\n",
       "0-18                                            0.197393                                                                \n",
       "19-24                                           0.818883                                                                \n",
       "25-34                                           2.408195                                                                \n",
       "35-44                                           4.753165                                                                \n",
       "45-54                                          15.456635                                                                \n",
       "55-64                                          27.264728                                                                \n",
       "65-74                                          70.466898                                                                \n",
       "75-84                                         169.511070                                                                \n",
       "85-94                                         406.528533                                                                \n",
       "95+                                           691.861974                                                                \n",
       "\n",
       "       Zgony w pełni zaszczepionych mężczyzn w danej grupie wiekowej na 100 tys. mężczyzn w danej grupie wiekowej  \n",
       "0-18                                            0.000000                                                           \n",
       "19-24                                           0.000000                                                           \n",
       "25-34                                           0.182439                                                           \n",
       "35-44                                           0.517351                                                           \n",
       "45-54                                           2.381157                                                           \n",
       "55-64                                           8.130145                                                           \n",
       "65-74                                          40.360297                                                           \n",
       "75-84                                         104.070572                                                           \n",
       "85-94                                         220.858896                                                           \n",
       "95+                                           198.910317                                                           "
      ]
     },
     "execution_count": 15,
     "metadata": {},
     "output_type": "execute_result"
    }
   ],
   "source": [
    "from_date = datetime.date(2021,7,14)\n",
    "\n",
    "dfM = prepare_df2(\n",
    "    deaths_df = basiw.dfd.query('plec==\"M\"'), \n",
    "    x_col ='kat_wiek', \n",
    "    x_col_name = 'Grupa wiekowa',  \n",
    "    denominator_df=pop_df,\n",
    "    denominator_col='mężczyzn w danej grupie wiekowej', \n",
    "    from_date=from_date\n",
    "    )\n",
    "\n",
    "dfM = dfM[:-1].fillna(0)\n",
    "dfM"
   ]
  },
  {
   "cell_type": "code",
   "execution_count": 16,
   "metadata": {},
   "outputs": [
    {
     "data": {
      "application/vnd.plotly.v1+json": {
       "config": {
        "plotlyServerURL": "https://plot.ly"
       },
       "data": [
        {
         "name": "Zgony nie w pełni zaszczepionych mężczyzn w danej grupie wiekowej na 100 tys. mężczyzn w danej grupie wiekowej",
         "offsetgroup": "1",
         "text": [
          0.19739322506972917,
          0.8188827818430758,
          2.4081948682097116,
          4.753165220023048,
          15.45663494853776,
          27.26472777770706,
          70.46689773845982,
          169.5110701107011,
          406.52853339506885,
          691.8619735362795
         ],
         "textposition": "outside",
         "texttemplate": "%{text:2.1f}",
         "type": "bar",
         "x": [
          "0-18",
          "19-24",
          "25-34",
          "35-44",
          "45-54",
          "55-64",
          "65-74",
          "75-84",
          "85-94",
          "95+"
         ],
         "y": [
          0.19739322506972917,
          0.8188827818430758,
          2.4081948682097116,
          4.753165220023048,
          15.45663494853776,
          27.26472777770706,
          70.46689773845982,
          169.5110701107011,
          406.52853339506885,
          691.8619735362795
         ]
        },
        {
         "name": "Zgony w pełni zaszczepionych mężczyzn w danej grupie wiekowej na 100 tys. mężczyzn w danej grupie wiekowej",
         "offsetgroup": "2",
         "text": [
          0,
          0,
          0.18243900516740238,
          0.5173513164650937,
          2.3811572758558173,
          8.130144728894575,
          40.360297466300516,
          104.07057195571956,
          220.85889570552146,
          198.91031739168037
         ],
         "textposition": "outside",
         "texttemplate": "%{text:2.1f}",
         "type": "bar",
         "x": [
          "0-18",
          "19-24",
          "25-34",
          "35-44",
          "45-54",
          "55-64",
          "65-74",
          "75-84",
          "85-94",
          "95+"
         ],
         "y": [
          0,
          0,
          0.18243900516740238,
          0.5173513164650937,
          2.3811572758558173,
          8.130144728894575,
          40.360297466300516,
          104.07057195571956,
          220.85889570552146,
          198.91031739168037
         ]
        }
       ],
       "layout": {
        "barmode": "group",
        "height": 500,
        "legend": {
         "title": {
          "text": ""
         },
         "x": 0.5,
         "xanchor": "center",
         "y": -0.25
        },
        "template": {
         "data": {
          "bar": [
           {
            "error_x": {
             "color": "#2a3f5f"
            },
            "error_y": {
             "color": "#2a3f5f"
            },
            "marker": {
             "line": {
              "color": "#E5ECF6",
              "width": 0.5
             }
            },
            "type": "bar"
           }
          ],
          "barpolar": [
           {
            "marker": {
             "line": {
              "color": "#E5ECF6",
              "width": 0.5
             }
            },
            "type": "barpolar"
           }
          ],
          "carpet": [
           {
            "aaxis": {
             "endlinecolor": "#2a3f5f",
             "gridcolor": "white",
             "linecolor": "white",
             "minorgridcolor": "white",
             "startlinecolor": "#2a3f5f"
            },
            "baxis": {
             "endlinecolor": "#2a3f5f",
             "gridcolor": "white",
             "linecolor": "white",
             "minorgridcolor": "white",
             "startlinecolor": "#2a3f5f"
            },
            "type": "carpet"
           }
          ],
          "choropleth": [
           {
            "colorbar": {
             "outlinewidth": 0,
             "ticks": ""
            },
            "type": "choropleth"
           }
          ],
          "contour": [
           {
            "colorbar": {
             "outlinewidth": 0,
             "ticks": ""
            },
            "colorscale": [
             [
              0,
              "#0d0887"
             ],
             [
              0.1111111111111111,
              "#46039f"
             ],
             [
              0.2222222222222222,
              "#7201a8"
             ],
             [
              0.3333333333333333,
              "#9c179e"
             ],
             [
              0.4444444444444444,
              "#bd3786"
             ],
             [
              0.5555555555555556,
              "#d8576b"
             ],
             [
              0.6666666666666666,
              "#ed7953"
             ],
             [
              0.7777777777777778,
              "#fb9f3a"
             ],
             [
              0.8888888888888888,
              "#fdca26"
             ],
             [
              1,
              "#f0f921"
             ]
            ],
            "type": "contour"
           }
          ],
          "contourcarpet": [
           {
            "colorbar": {
             "outlinewidth": 0,
             "ticks": ""
            },
            "type": "contourcarpet"
           }
          ],
          "heatmap": [
           {
            "colorbar": {
             "outlinewidth": 0,
             "ticks": ""
            },
            "colorscale": [
             [
              0,
              "#0d0887"
             ],
             [
              0.1111111111111111,
              "#46039f"
             ],
             [
              0.2222222222222222,
              "#7201a8"
             ],
             [
              0.3333333333333333,
              "#9c179e"
             ],
             [
              0.4444444444444444,
              "#bd3786"
             ],
             [
              0.5555555555555556,
              "#d8576b"
             ],
             [
              0.6666666666666666,
              "#ed7953"
             ],
             [
              0.7777777777777778,
              "#fb9f3a"
             ],
             [
              0.8888888888888888,
              "#fdca26"
             ],
             [
              1,
              "#f0f921"
             ]
            ],
            "type": "heatmap"
           }
          ],
          "heatmapgl": [
           {
            "colorbar": {
             "outlinewidth": 0,
             "ticks": ""
            },
            "colorscale": [
             [
              0,
              "#0d0887"
             ],
             [
              0.1111111111111111,
              "#46039f"
             ],
             [
              0.2222222222222222,
              "#7201a8"
             ],
             [
              0.3333333333333333,
              "#9c179e"
             ],
             [
              0.4444444444444444,
              "#bd3786"
             ],
             [
              0.5555555555555556,
              "#d8576b"
             ],
             [
              0.6666666666666666,
              "#ed7953"
             ],
             [
              0.7777777777777778,
              "#fb9f3a"
             ],
             [
              0.8888888888888888,
              "#fdca26"
             ],
             [
              1,
              "#f0f921"
             ]
            ],
            "type": "heatmapgl"
           }
          ],
          "histogram": [
           {
            "marker": {
             "colorbar": {
              "outlinewidth": 0,
              "ticks": ""
             }
            },
            "type": "histogram"
           }
          ],
          "histogram2d": [
           {
            "colorbar": {
             "outlinewidth": 0,
             "ticks": ""
            },
            "colorscale": [
             [
              0,
              "#0d0887"
             ],
             [
              0.1111111111111111,
              "#46039f"
             ],
             [
              0.2222222222222222,
              "#7201a8"
             ],
             [
              0.3333333333333333,
              "#9c179e"
             ],
             [
              0.4444444444444444,
              "#bd3786"
             ],
             [
              0.5555555555555556,
              "#d8576b"
             ],
             [
              0.6666666666666666,
              "#ed7953"
             ],
             [
              0.7777777777777778,
              "#fb9f3a"
             ],
             [
              0.8888888888888888,
              "#fdca26"
             ],
             [
              1,
              "#f0f921"
             ]
            ],
            "type": "histogram2d"
           }
          ],
          "histogram2dcontour": [
           {
            "colorbar": {
             "outlinewidth": 0,
             "ticks": ""
            },
            "colorscale": [
             [
              0,
              "#0d0887"
             ],
             [
              0.1111111111111111,
              "#46039f"
             ],
             [
              0.2222222222222222,
              "#7201a8"
             ],
             [
              0.3333333333333333,
              "#9c179e"
             ],
             [
              0.4444444444444444,
              "#bd3786"
             ],
             [
              0.5555555555555556,
              "#d8576b"
             ],
             [
              0.6666666666666666,
              "#ed7953"
             ],
             [
              0.7777777777777778,
              "#fb9f3a"
             ],
             [
              0.8888888888888888,
              "#fdca26"
             ],
             [
              1,
              "#f0f921"
             ]
            ],
            "type": "histogram2dcontour"
           }
          ],
          "mesh3d": [
           {
            "colorbar": {
             "outlinewidth": 0,
             "ticks": ""
            },
            "type": "mesh3d"
           }
          ],
          "parcoords": [
           {
            "line": {
             "colorbar": {
              "outlinewidth": 0,
              "ticks": ""
             }
            },
            "type": "parcoords"
           }
          ],
          "pie": [
           {
            "automargin": true,
            "type": "pie"
           }
          ],
          "scatter": [
           {
            "marker": {
             "colorbar": {
              "outlinewidth": 0,
              "ticks": ""
             }
            },
            "type": "scatter"
           }
          ],
          "scatter3d": [
           {
            "line": {
             "colorbar": {
              "outlinewidth": 0,
              "ticks": ""
             }
            },
            "marker": {
             "colorbar": {
              "outlinewidth": 0,
              "ticks": ""
             }
            },
            "type": "scatter3d"
           }
          ],
          "scattercarpet": [
           {
            "marker": {
             "colorbar": {
              "outlinewidth": 0,
              "ticks": ""
             }
            },
            "type": "scattercarpet"
           }
          ],
          "scattergeo": [
           {
            "marker": {
             "colorbar": {
              "outlinewidth": 0,
              "ticks": ""
             }
            },
            "type": "scattergeo"
           }
          ],
          "scattergl": [
           {
            "marker": {
             "colorbar": {
              "outlinewidth": 0,
              "ticks": ""
             }
            },
            "type": "scattergl"
           }
          ],
          "scattermapbox": [
           {
            "marker": {
             "colorbar": {
              "outlinewidth": 0,
              "ticks": ""
             }
            },
            "type": "scattermapbox"
           }
          ],
          "scatterpolar": [
           {
            "marker": {
             "colorbar": {
              "outlinewidth": 0,
              "ticks": ""
             }
            },
            "type": "scatterpolar"
           }
          ],
          "scatterpolargl": [
           {
            "marker": {
             "colorbar": {
              "outlinewidth": 0,
              "ticks": ""
             }
            },
            "type": "scatterpolargl"
           }
          ],
          "scatterternary": [
           {
            "marker": {
             "colorbar": {
              "outlinewidth": 0,
              "ticks": ""
             }
            },
            "type": "scatterternary"
           }
          ],
          "surface": [
           {
            "colorbar": {
             "outlinewidth": 0,
             "ticks": ""
            },
            "colorscale": [
             [
              0,
              "#0d0887"
             ],
             [
              0.1111111111111111,
              "#46039f"
             ],
             [
              0.2222222222222222,
              "#7201a8"
             ],
             [
              0.3333333333333333,
              "#9c179e"
             ],
             [
              0.4444444444444444,
              "#bd3786"
             ],
             [
              0.5555555555555556,
              "#d8576b"
             ],
             [
              0.6666666666666666,
              "#ed7953"
             ],
             [
              0.7777777777777778,
              "#fb9f3a"
             ],
             [
              0.8888888888888888,
              "#fdca26"
             ],
             [
              1,
              "#f0f921"
             ]
            ],
            "type": "surface"
           }
          ],
          "table": [
           {
            "cells": {
             "fill": {
              "color": "#EBF0F8"
             },
             "line": {
              "color": "white"
             }
            },
            "header": {
             "fill": {
              "color": "#C8D4E3"
             },
             "line": {
              "color": "white"
             }
            },
            "type": "table"
           }
          ]
         },
         "layout": {
          "annotationdefaults": {
           "arrowcolor": "#2a3f5f",
           "arrowhead": 0,
           "arrowwidth": 1
          },
          "coloraxis": {
           "colorbar": {
            "outlinewidth": 0,
            "ticks": ""
           }
          },
          "colorscale": {
           "diverging": [
            [
             0,
             "#8e0152"
            ],
            [
             0.1,
             "#c51b7d"
            ],
            [
             0.2,
             "#de77ae"
            ],
            [
             0.3,
             "#f1b6da"
            ],
            [
             0.4,
             "#fde0ef"
            ],
            [
             0.5,
             "#f7f7f7"
            ],
            [
             0.6,
             "#e6f5d0"
            ],
            [
             0.7,
             "#b8e186"
            ],
            [
             0.8,
             "#7fbc41"
            ],
            [
             0.9,
             "#4d9221"
            ],
            [
             1,
             "#276419"
            ]
           ],
           "sequential": [
            [
             0,
             "#0d0887"
            ],
            [
             0.1111111111111111,
             "#46039f"
            ],
            [
             0.2222222222222222,
             "#7201a8"
            ],
            [
             0.3333333333333333,
             "#9c179e"
            ],
            [
             0.4444444444444444,
             "#bd3786"
            ],
            [
             0.5555555555555556,
             "#d8576b"
            ],
            [
             0.6666666666666666,
             "#ed7953"
            ],
            [
             0.7777777777777778,
             "#fb9f3a"
            ],
            [
             0.8888888888888888,
             "#fdca26"
            ],
            [
             1,
             "#f0f921"
            ]
           ],
           "sequentialminus": [
            [
             0,
             "#0d0887"
            ],
            [
             0.1111111111111111,
             "#46039f"
            ],
            [
             0.2222222222222222,
             "#7201a8"
            ],
            [
             0.3333333333333333,
             "#9c179e"
            ],
            [
             0.4444444444444444,
             "#bd3786"
            ],
            [
             0.5555555555555556,
             "#d8576b"
            ],
            [
             0.6666666666666666,
             "#ed7953"
            ],
            [
             0.7777777777777778,
             "#fb9f3a"
            ],
            [
             0.8888888888888888,
             "#fdca26"
            ],
            [
             1,
             "#f0f921"
            ]
           ]
          },
          "colorway": [
           "#636efa",
           "#EF553B",
           "#00cc96",
           "#ab63fa",
           "#FFA15A",
           "#19d3f3",
           "#FF6692",
           "#B6E880",
           "#FF97FF",
           "#FECB52"
          ],
          "font": {
           "color": "#2a3f5f"
          },
          "geo": {
           "bgcolor": "white",
           "lakecolor": "white",
           "landcolor": "#E5ECF6",
           "showlakes": true,
           "showland": true,
           "subunitcolor": "white"
          },
          "hoverlabel": {
           "align": "left"
          },
          "hovermode": "closest",
          "mapbox": {
           "style": "light"
          },
          "paper_bgcolor": "white",
          "plot_bgcolor": "#E5ECF6",
          "polar": {
           "angularaxis": {
            "gridcolor": "white",
            "linecolor": "white",
            "ticks": ""
           },
           "bgcolor": "#E5ECF6",
           "radialaxis": {
            "gridcolor": "white",
            "linecolor": "white",
            "ticks": ""
           }
          },
          "scene": {
           "xaxis": {
            "backgroundcolor": "#E5ECF6",
            "gridcolor": "white",
            "gridwidth": 2,
            "linecolor": "white",
            "showbackground": true,
            "ticks": "",
            "zerolinecolor": "white"
           },
           "yaxis": {
            "backgroundcolor": "#E5ECF6",
            "gridcolor": "white",
            "gridwidth": 2,
            "linecolor": "white",
            "showbackground": true,
            "ticks": "",
            "zerolinecolor": "white"
           },
           "zaxis": {
            "backgroundcolor": "#E5ECF6",
            "gridcolor": "white",
            "gridwidth": 2,
            "linecolor": "white",
            "showbackground": true,
            "ticks": "",
            "zerolinecolor": "white"
           }
          },
          "shapedefaults": {
           "line": {
            "color": "#2a3f5f"
           }
          },
          "ternary": {
           "aaxis": {
            "gridcolor": "white",
            "linecolor": "white",
            "ticks": ""
           },
           "baxis": {
            "gridcolor": "white",
            "linecolor": "white",
            "ticks": ""
           },
           "bgcolor": "#E5ECF6",
           "caxis": {
            "gridcolor": "white",
            "linecolor": "white",
            "ticks": ""
           }
          },
          "title": {
           "x": 0.05
          },
          "xaxis": {
           "automargin": true,
           "gridcolor": "white",
           "linecolor": "white",
           "ticks": "",
           "title": {
            "standoff": 15
           },
           "zerolinecolor": "white",
           "zerolinewidth": 2
          },
          "yaxis": {
           "automargin": true,
           "gridcolor": "white",
           "linecolor": "white",
           "ticks": "",
           "title": {
            "standoff": 15
           },
           "zerolinecolor": "white",
           "zerolinewidth": 2
          }
         }
        },
        "title": {
         "font": {
          "size": 16
         },
         "text": "Liczba zgonów na COVID-19 mężczyzn w danej grupie wiekowej w Polsce<br>na 100 tys. mężczyzn w danej grupie wiekowej<br>w podziale na w pełni zaszczepionych i nie w pełni zaszczepionych (od 2021-07-14)",
         "x": 0.5,
         "xanchor": "center"
        },
        "uniformtext": {
         "minsize": 6,
         "mode": "show"
        },
        "width": 800,
        "xaxis": {
         "tickangle": 33
        },
        "yaxis": {
         "title": {
          "text": "Liczba zgonów na 100 tys."
         }
        }
       }
      }
     },
     "metadata": {},
     "output_type": "display_data"
    }
   ],
   "source": [
    "x_col = \"Grupa wiekowa\"\n",
    "title_str = \"w Polsce\" #\"w województwach\"\n",
    "filename_str = \"wiek_M\"\n",
    "denominator_col = \"mężczyzn w danej grupie wiekowej\"\n",
    "title = \"Liczba zgonów na COVID-19 \" + denominator_col + \" \" + title_str + \"<br>na 100 tys. \"+ denominator_col +\\\n",
    "        \"<br>w podziale na w pełni zaszczepionych i nie w pełni zaszczepionych (od \" + str(from_date) + \")\"\n",
    "df_to_plot = dfM\n",
    "\n",
    "\n",
    "plot_df2(\n",
    "    x_col=x_col, \n",
    "    denominator_col=denominator_col, \n",
    "    title=title, \n",
    "    filename_str=filename_str,  \n",
    "    from_date = from_date, \n",
    "    df = df_to_plot, \n",
    "    image_dir = basiw.image_dir\n",
    "    )"
   ]
  },
  {
   "cell_type": "code",
   "execution_count": 17,
   "metadata": {},
   "outputs": [
    {
     "data": {
      "text/html": [
       "<div>\n",
       "<style scoped>\n",
       "    .dataframe tbody tr th:only-of-type {\n",
       "        vertical-align: middle;\n",
       "    }\n",
       "\n",
       "    .dataframe tbody tr th {\n",
       "        vertical-align: top;\n",
       "    }\n",
       "\n",
       "    .dataframe thead th {\n",
       "        text-align: right;\n",
       "    }\n",
       "</style>\n",
       "<table border=\"1\" class=\"dataframe\">\n",
       "  <thead>\n",
       "    <tr style=\"text-align: right;\">\n",
       "      <th></th>\n",
       "      <th>liczba_zaraportowanych_zgonow</th>\n",
       "      <th>kobiet w danej grupie wiekowej</th>\n",
       "      <th>Zgony nie w pełni zaszczepionych kobiet w danej grupie wiekowej</th>\n",
       "      <th>Zgony w pełni zaszczepionych kobiet w danej grupie wiekowej</th>\n",
       "      <th>Grupa wiekowa</th>\n",
       "      <th>Zgony nie w pełni zaszczepionych kobiet w danej grupie wiekowej na 100 tys. kobiet w danej grupie wiekowej</th>\n",
       "      <th>Zgony w pełni zaszczepionych kobiet w danej grupie wiekowej na 100 tys. kobiet w danej grupie wiekowej</th>\n",
       "    </tr>\n",
       "  </thead>\n",
       "  <tbody>\n",
       "    <tr>\n",
       "      <th>0-18</th>\n",
       "      <td>2</td>\n",
       "      <td>3362871.0</td>\n",
       "      <td>1</td>\n",
       "      <td>1.0</td>\n",
       "      <td>0-18</td>\n",
       "      <td>0.029736</td>\n",
       "      <td>0.029736</td>\n",
       "    </tr>\n",
       "    <tr>\n",
       "      <th>19-24</th>\n",
       "      <td>8</td>\n",
       "      <td>1169959.0</td>\n",
       "      <td>7</td>\n",
       "      <td>1.0</td>\n",
       "      <td>19-24</td>\n",
       "      <td>0.598312</td>\n",
       "      <td>0.085473</td>\n",
       "    </tr>\n",
       "    <tr>\n",
       "      <th>25-34</th>\n",
       "      <td>28</td>\n",
       "      <td>2637687.0</td>\n",
       "      <td>26</td>\n",
       "      <td>2.0</td>\n",
       "      <td>25-34</td>\n",
       "      <td>0.985712</td>\n",
       "      <td>0.075824</td>\n",
       "    </tr>\n",
       "    <tr>\n",
       "      <th>35-44</th>\n",
       "      <td>85</td>\n",
       "      <td>3008948.0</td>\n",
       "      <td>76</td>\n",
       "      <td>9.0</td>\n",
       "      <td>35-44</td>\n",
       "      <td>2.525800</td>\n",
       "      <td>0.299108</td>\n",
       "    </tr>\n",
       "    <tr>\n",
       "      <th>45-54</th>\n",
       "      <td>192</td>\n",
       "      <td>2395882.0</td>\n",
       "      <td>169</td>\n",
       "      <td>23.0</td>\n",
       "      <td>45-54</td>\n",
       "      <td>7.053770</td>\n",
       "      <td>0.959980</td>\n",
       "    </tr>\n",
       "    <tr>\n",
       "      <th>55-64</th>\n",
       "      <td>598</td>\n",
       "      <td>2668881.0</td>\n",
       "      <td>503</td>\n",
       "      <td>95.0</td>\n",
       "      <td>55-64</td>\n",
       "      <td>18.846850</td>\n",
       "      <td>3.559544</td>\n",
       "    </tr>\n",
       "    <tr>\n",
       "      <th>65-74</th>\n",
       "      <td>1526</td>\n",
       "      <td>2362488.0</td>\n",
       "      <td>1133</td>\n",
       "      <td>393.0</td>\n",
       "      <td>65-74</td>\n",
       "      <td>47.957916</td>\n",
       "      <td>16.635005</td>\n",
       "    </tr>\n",
       "    <tr>\n",
       "      <th>75-84</th>\n",
       "      <td>2022</td>\n",
       "      <td>1218241.0</td>\n",
       "      <td>1529</td>\n",
       "      <td>493.0</td>\n",
       "      <td>75-84</td>\n",
       "      <td>125.508828</td>\n",
       "      <td>40.468183</td>\n",
       "    </tr>\n",
       "    <tr>\n",
       "      <th>85-94</th>\n",
       "      <td>2176</td>\n",
       "      <td>540453.0</td>\n",
       "      <td>1739</td>\n",
       "      <td>437.0</td>\n",
       "      <td>85-94</td>\n",
       "      <td>321.767110</td>\n",
       "      <td>80.858095</td>\n",
       "    </tr>\n",
       "    <tr>\n",
       "      <th>95+</th>\n",
       "      <td>264</td>\n",
       "      <td>40781.0</td>\n",
       "      <td>219</td>\n",
       "      <td>45.0</td>\n",
       "      <td>95+</td>\n",
       "      <td>537.014786</td>\n",
       "      <td>110.345504</td>\n",
       "    </tr>\n",
       "  </tbody>\n",
       "</table>\n",
       "</div>"
      ],
      "text/plain": [
       "       liczba_zaraportowanych_zgonow  kobiet w danej grupie wiekowej  \\\n",
       "0-18                               2                       3362871.0   \n",
       "19-24                              8                       1169959.0   \n",
       "25-34                             28                       2637687.0   \n",
       "35-44                             85                       3008948.0   \n",
       "45-54                            192                       2395882.0   \n",
       "55-64                            598                       2668881.0   \n",
       "65-74                           1526                       2362488.0   \n",
       "75-84                           2022                       1218241.0   \n",
       "85-94                           2176                        540453.0   \n",
       "95+                              264                         40781.0   \n",
       "\n",
       "       Zgony nie w pełni zaszczepionych kobiet w danej grupie wiekowej  \\\n",
       "0-18                                                   1                 \n",
       "19-24                                                  7                 \n",
       "25-34                                                 26                 \n",
       "35-44                                                 76                 \n",
       "45-54                                                169                 \n",
       "55-64                                                503                 \n",
       "65-74                                               1133                 \n",
       "75-84                                               1529                 \n",
       "85-94                                               1739                 \n",
       "95+                                                  219                 \n",
       "\n",
       "       Zgony w pełni zaszczepionych kobiet w danej grupie wiekowej  \\\n",
       "0-18                                                 1.0             \n",
       "19-24                                                1.0             \n",
       "25-34                                                2.0             \n",
       "35-44                                                9.0             \n",
       "45-54                                               23.0             \n",
       "55-64                                               95.0             \n",
       "65-74                                              393.0             \n",
       "75-84                                              493.0             \n",
       "85-94                                              437.0             \n",
       "95+                                                 45.0             \n",
       "\n",
       "      Grupa wiekowa  \\\n",
       "0-18           0-18   \n",
       "19-24         19-24   \n",
       "25-34         25-34   \n",
       "35-44         35-44   \n",
       "45-54         45-54   \n",
       "55-64         55-64   \n",
       "65-74         65-74   \n",
       "75-84         75-84   \n",
       "85-94         85-94   \n",
       "95+             95+   \n",
       "\n",
       "       Zgony nie w pełni zaszczepionych kobiet w danej grupie wiekowej na 100 tys. kobiet w danej grupie wiekowej  \\\n",
       "0-18                                            0.029736                                                            \n",
       "19-24                                           0.598312                                                            \n",
       "25-34                                           0.985712                                                            \n",
       "35-44                                           2.525800                                                            \n",
       "45-54                                           7.053770                                                            \n",
       "55-64                                          18.846850                                                            \n",
       "65-74                                          47.957916                                                            \n",
       "75-84                                         125.508828                                                            \n",
       "85-94                                         321.767110                                                            \n",
       "95+                                           537.014786                                                            \n",
       "\n",
       "       Zgony w pełni zaszczepionych kobiet w danej grupie wiekowej na 100 tys. kobiet w danej grupie wiekowej  \n",
       "0-18                                            0.029736                                                       \n",
       "19-24                                           0.085473                                                       \n",
       "25-34                                           0.075824                                                       \n",
       "35-44                                           0.299108                                                       \n",
       "45-54                                           0.959980                                                       \n",
       "55-64                                           3.559544                                                       \n",
       "65-74                                          16.635005                                                       \n",
       "75-84                                          40.468183                                                       \n",
       "85-94                                          80.858095                                                       \n",
       "95+                                           110.345504                                                       "
      ]
     },
     "execution_count": 17,
     "metadata": {},
     "output_type": "execute_result"
    }
   ],
   "source": [
    "from_date = datetime.date(2021,7,14)\n",
    "\n",
    "dfK = prepare_df2(\n",
    "    deaths_df = basiw.dfd.query('plec==\"K\"'), \n",
    "    x_col ='kat_wiek', \n",
    "    x_col_name = 'Grupa wiekowa',\n",
    "    denominator_df=pop_df,\n",
    "    denominator_col='kobiet w danej grupie wiekowej', \n",
    "    from_date=from_date\n",
    "    )\n",
    "\n",
    "dfK = dfK[:-1].fillna(0)\n",
    "dfK"
   ]
  },
  {
   "cell_type": "code",
   "execution_count": 18,
   "metadata": {},
   "outputs": [
    {
     "data": {
      "application/vnd.plotly.v1+json": {
       "config": {
        "plotlyServerURL": "https://plot.ly"
       },
       "data": [
        {
         "name": "Zgony nie w pełni zaszczepionych kobiet w danej grupie wiekowej na 100 tys. kobiet w danej grupie wiekowej",
         "offsetgroup": "1",
         "text": [
          0.029736495988100645,
          0.5983115647642353,
          0.9857121030660575,
          2.5257997147175693,
          7.053769759946442,
          18.846850046892314,
          47.957915553433494,
          125.50882789201809,
          321.7671101834942,
          537.0147862975405
         ],
         "textposition": "outside",
         "texttemplate": "%{text:2.1f}",
         "type": "bar",
         "x": [
          "0-18",
          "19-24",
          "25-34",
          "35-44",
          "45-54",
          "55-64",
          "65-74",
          "75-84",
          "85-94",
          "95+"
         ],
         "y": [
          0.029736495988100645,
          0.5983115647642353,
          0.9857121030660575,
          2.5257997147175693,
          7.053769759946442,
          18.846850046892314,
          47.957915553433494,
          125.50882789201809,
          321.7671101834942,
          537.0147862975405
         ]
        },
        {
         "name": "Zgony w pełni zaszczepionych kobiet w danej grupie wiekowej na 100 tys. kobiet w danej grupie wiekowej",
         "offsetgroup": "2",
         "text": [
          0.029736495988100645,
          0.08547308068060505,
          0.07582400792815827,
          0.29910786095339637,
          0.9599804998743678,
          3.5595442434488462,
          16.63500513018479,
          40.4681832248299,
          80.85809496848015,
          110.3455040337412
         ],
         "textposition": "outside",
         "texttemplate": "%{text:2.1f}",
         "type": "bar",
         "x": [
          "0-18",
          "19-24",
          "25-34",
          "35-44",
          "45-54",
          "55-64",
          "65-74",
          "75-84",
          "85-94",
          "95+"
         ],
         "y": [
          0.029736495988100645,
          0.08547308068060505,
          0.07582400792815827,
          0.29910786095339637,
          0.9599804998743678,
          3.5595442434488462,
          16.63500513018479,
          40.4681832248299,
          80.85809496848015,
          110.3455040337412
         ]
        }
       ],
       "layout": {
        "barmode": "group",
        "height": 500,
        "legend": {
         "title": {
          "text": ""
         },
         "x": 0.5,
         "xanchor": "center",
         "y": -0.25
        },
        "template": {
         "data": {
          "bar": [
           {
            "error_x": {
             "color": "#2a3f5f"
            },
            "error_y": {
             "color": "#2a3f5f"
            },
            "marker": {
             "line": {
              "color": "#E5ECF6",
              "width": 0.5
             }
            },
            "type": "bar"
           }
          ],
          "barpolar": [
           {
            "marker": {
             "line": {
              "color": "#E5ECF6",
              "width": 0.5
             }
            },
            "type": "barpolar"
           }
          ],
          "carpet": [
           {
            "aaxis": {
             "endlinecolor": "#2a3f5f",
             "gridcolor": "white",
             "linecolor": "white",
             "minorgridcolor": "white",
             "startlinecolor": "#2a3f5f"
            },
            "baxis": {
             "endlinecolor": "#2a3f5f",
             "gridcolor": "white",
             "linecolor": "white",
             "minorgridcolor": "white",
             "startlinecolor": "#2a3f5f"
            },
            "type": "carpet"
           }
          ],
          "choropleth": [
           {
            "colorbar": {
             "outlinewidth": 0,
             "ticks": ""
            },
            "type": "choropleth"
           }
          ],
          "contour": [
           {
            "colorbar": {
             "outlinewidth": 0,
             "ticks": ""
            },
            "colorscale": [
             [
              0,
              "#0d0887"
             ],
             [
              0.1111111111111111,
              "#46039f"
             ],
             [
              0.2222222222222222,
              "#7201a8"
             ],
             [
              0.3333333333333333,
              "#9c179e"
             ],
             [
              0.4444444444444444,
              "#bd3786"
             ],
             [
              0.5555555555555556,
              "#d8576b"
             ],
             [
              0.6666666666666666,
              "#ed7953"
             ],
             [
              0.7777777777777778,
              "#fb9f3a"
             ],
             [
              0.8888888888888888,
              "#fdca26"
             ],
             [
              1,
              "#f0f921"
             ]
            ],
            "type": "contour"
           }
          ],
          "contourcarpet": [
           {
            "colorbar": {
             "outlinewidth": 0,
             "ticks": ""
            },
            "type": "contourcarpet"
           }
          ],
          "heatmap": [
           {
            "colorbar": {
             "outlinewidth": 0,
             "ticks": ""
            },
            "colorscale": [
             [
              0,
              "#0d0887"
             ],
             [
              0.1111111111111111,
              "#46039f"
             ],
             [
              0.2222222222222222,
              "#7201a8"
             ],
             [
              0.3333333333333333,
              "#9c179e"
             ],
             [
              0.4444444444444444,
              "#bd3786"
             ],
             [
              0.5555555555555556,
              "#d8576b"
             ],
             [
              0.6666666666666666,
              "#ed7953"
             ],
             [
              0.7777777777777778,
              "#fb9f3a"
             ],
             [
              0.8888888888888888,
              "#fdca26"
             ],
             [
              1,
              "#f0f921"
             ]
            ],
            "type": "heatmap"
           }
          ],
          "heatmapgl": [
           {
            "colorbar": {
             "outlinewidth": 0,
             "ticks": ""
            },
            "colorscale": [
             [
              0,
              "#0d0887"
             ],
             [
              0.1111111111111111,
              "#46039f"
             ],
             [
              0.2222222222222222,
              "#7201a8"
             ],
             [
              0.3333333333333333,
              "#9c179e"
             ],
             [
              0.4444444444444444,
              "#bd3786"
             ],
             [
              0.5555555555555556,
              "#d8576b"
             ],
             [
              0.6666666666666666,
              "#ed7953"
             ],
             [
              0.7777777777777778,
              "#fb9f3a"
             ],
             [
              0.8888888888888888,
              "#fdca26"
             ],
             [
              1,
              "#f0f921"
             ]
            ],
            "type": "heatmapgl"
           }
          ],
          "histogram": [
           {
            "marker": {
             "colorbar": {
              "outlinewidth": 0,
              "ticks": ""
             }
            },
            "type": "histogram"
           }
          ],
          "histogram2d": [
           {
            "colorbar": {
             "outlinewidth": 0,
             "ticks": ""
            },
            "colorscale": [
             [
              0,
              "#0d0887"
             ],
             [
              0.1111111111111111,
              "#46039f"
             ],
             [
              0.2222222222222222,
              "#7201a8"
             ],
             [
              0.3333333333333333,
              "#9c179e"
             ],
             [
              0.4444444444444444,
              "#bd3786"
             ],
             [
              0.5555555555555556,
              "#d8576b"
             ],
             [
              0.6666666666666666,
              "#ed7953"
             ],
             [
              0.7777777777777778,
              "#fb9f3a"
             ],
             [
              0.8888888888888888,
              "#fdca26"
             ],
             [
              1,
              "#f0f921"
             ]
            ],
            "type": "histogram2d"
           }
          ],
          "histogram2dcontour": [
           {
            "colorbar": {
             "outlinewidth": 0,
             "ticks": ""
            },
            "colorscale": [
             [
              0,
              "#0d0887"
             ],
             [
              0.1111111111111111,
              "#46039f"
             ],
             [
              0.2222222222222222,
              "#7201a8"
             ],
             [
              0.3333333333333333,
              "#9c179e"
             ],
             [
              0.4444444444444444,
              "#bd3786"
             ],
             [
              0.5555555555555556,
              "#d8576b"
             ],
             [
              0.6666666666666666,
              "#ed7953"
             ],
             [
              0.7777777777777778,
              "#fb9f3a"
             ],
             [
              0.8888888888888888,
              "#fdca26"
             ],
             [
              1,
              "#f0f921"
             ]
            ],
            "type": "histogram2dcontour"
           }
          ],
          "mesh3d": [
           {
            "colorbar": {
             "outlinewidth": 0,
             "ticks": ""
            },
            "type": "mesh3d"
           }
          ],
          "parcoords": [
           {
            "line": {
             "colorbar": {
              "outlinewidth": 0,
              "ticks": ""
             }
            },
            "type": "parcoords"
           }
          ],
          "pie": [
           {
            "automargin": true,
            "type": "pie"
           }
          ],
          "scatter": [
           {
            "marker": {
             "colorbar": {
              "outlinewidth": 0,
              "ticks": ""
             }
            },
            "type": "scatter"
           }
          ],
          "scatter3d": [
           {
            "line": {
             "colorbar": {
              "outlinewidth": 0,
              "ticks": ""
             }
            },
            "marker": {
             "colorbar": {
              "outlinewidth": 0,
              "ticks": ""
             }
            },
            "type": "scatter3d"
           }
          ],
          "scattercarpet": [
           {
            "marker": {
             "colorbar": {
              "outlinewidth": 0,
              "ticks": ""
             }
            },
            "type": "scattercarpet"
           }
          ],
          "scattergeo": [
           {
            "marker": {
             "colorbar": {
              "outlinewidth": 0,
              "ticks": ""
             }
            },
            "type": "scattergeo"
           }
          ],
          "scattergl": [
           {
            "marker": {
             "colorbar": {
              "outlinewidth": 0,
              "ticks": ""
             }
            },
            "type": "scattergl"
           }
          ],
          "scattermapbox": [
           {
            "marker": {
             "colorbar": {
              "outlinewidth": 0,
              "ticks": ""
             }
            },
            "type": "scattermapbox"
           }
          ],
          "scatterpolar": [
           {
            "marker": {
             "colorbar": {
              "outlinewidth": 0,
              "ticks": ""
             }
            },
            "type": "scatterpolar"
           }
          ],
          "scatterpolargl": [
           {
            "marker": {
             "colorbar": {
              "outlinewidth": 0,
              "ticks": ""
             }
            },
            "type": "scatterpolargl"
           }
          ],
          "scatterternary": [
           {
            "marker": {
             "colorbar": {
              "outlinewidth": 0,
              "ticks": ""
             }
            },
            "type": "scatterternary"
           }
          ],
          "surface": [
           {
            "colorbar": {
             "outlinewidth": 0,
             "ticks": ""
            },
            "colorscale": [
             [
              0,
              "#0d0887"
             ],
             [
              0.1111111111111111,
              "#46039f"
             ],
             [
              0.2222222222222222,
              "#7201a8"
             ],
             [
              0.3333333333333333,
              "#9c179e"
             ],
             [
              0.4444444444444444,
              "#bd3786"
             ],
             [
              0.5555555555555556,
              "#d8576b"
             ],
             [
              0.6666666666666666,
              "#ed7953"
             ],
             [
              0.7777777777777778,
              "#fb9f3a"
             ],
             [
              0.8888888888888888,
              "#fdca26"
             ],
             [
              1,
              "#f0f921"
             ]
            ],
            "type": "surface"
           }
          ],
          "table": [
           {
            "cells": {
             "fill": {
              "color": "#EBF0F8"
             },
             "line": {
              "color": "white"
             }
            },
            "header": {
             "fill": {
              "color": "#C8D4E3"
             },
             "line": {
              "color": "white"
             }
            },
            "type": "table"
           }
          ]
         },
         "layout": {
          "annotationdefaults": {
           "arrowcolor": "#2a3f5f",
           "arrowhead": 0,
           "arrowwidth": 1
          },
          "coloraxis": {
           "colorbar": {
            "outlinewidth": 0,
            "ticks": ""
           }
          },
          "colorscale": {
           "diverging": [
            [
             0,
             "#8e0152"
            ],
            [
             0.1,
             "#c51b7d"
            ],
            [
             0.2,
             "#de77ae"
            ],
            [
             0.3,
             "#f1b6da"
            ],
            [
             0.4,
             "#fde0ef"
            ],
            [
             0.5,
             "#f7f7f7"
            ],
            [
             0.6,
             "#e6f5d0"
            ],
            [
             0.7,
             "#b8e186"
            ],
            [
             0.8,
             "#7fbc41"
            ],
            [
             0.9,
             "#4d9221"
            ],
            [
             1,
             "#276419"
            ]
           ],
           "sequential": [
            [
             0,
             "#0d0887"
            ],
            [
             0.1111111111111111,
             "#46039f"
            ],
            [
             0.2222222222222222,
             "#7201a8"
            ],
            [
             0.3333333333333333,
             "#9c179e"
            ],
            [
             0.4444444444444444,
             "#bd3786"
            ],
            [
             0.5555555555555556,
             "#d8576b"
            ],
            [
             0.6666666666666666,
             "#ed7953"
            ],
            [
             0.7777777777777778,
             "#fb9f3a"
            ],
            [
             0.8888888888888888,
             "#fdca26"
            ],
            [
             1,
             "#f0f921"
            ]
           ],
           "sequentialminus": [
            [
             0,
             "#0d0887"
            ],
            [
             0.1111111111111111,
             "#46039f"
            ],
            [
             0.2222222222222222,
             "#7201a8"
            ],
            [
             0.3333333333333333,
             "#9c179e"
            ],
            [
             0.4444444444444444,
             "#bd3786"
            ],
            [
             0.5555555555555556,
             "#d8576b"
            ],
            [
             0.6666666666666666,
             "#ed7953"
            ],
            [
             0.7777777777777778,
             "#fb9f3a"
            ],
            [
             0.8888888888888888,
             "#fdca26"
            ],
            [
             1,
             "#f0f921"
            ]
           ]
          },
          "colorway": [
           "#636efa",
           "#EF553B",
           "#00cc96",
           "#ab63fa",
           "#FFA15A",
           "#19d3f3",
           "#FF6692",
           "#B6E880",
           "#FF97FF",
           "#FECB52"
          ],
          "font": {
           "color": "#2a3f5f"
          },
          "geo": {
           "bgcolor": "white",
           "lakecolor": "white",
           "landcolor": "#E5ECF6",
           "showlakes": true,
           "showland": true,
           "subunitcolor": "white"
          },
          "hoverlabel": {
           "align": "left"
          },
          "hovermode": "closest",
          "mapbox": {
           "style": "light"
          },
          "paper_bgcolor": "white",
          "plot_bgcolor": "#E5ECF6",
          "polar": {
           "angularaxis": {
            "gridcolor": "white",
            "linecolor": "white",
            "ticks": ""
           },
           "bgcolor": "#E5ECF6",
           "radialaxis": {
            "gridcolor": "white",
            "linecolor": "white",
            "ticks": ""
           }
          },
          "scene": {
           "xaxis": {
            "backgroundcolor": "#E5ECF6",
            "gridcolor": "white",
            "gridwidth": 2,
            "linecolor": "white",
            "showbackground": true,
            "ticks": "",
            "zerolinecolor": "white"
           },
           "yaxis": {
            "backgroundcolor": "#E5ECF6",
            "gridcolor": "white",
            "gridwidth": 2,
            "linecolor": "white",
            "showbackground": true,
            "ticks": "",
            "zerolinecolor": "white"
           },
           "zaxis": {
            "backgroundcolor": "#E5ECF6",
            "gridcolor": "white",
            "gridwidth": 2,
            "linecolor": "white",
            "showbackground": true,
            "ticks": "",
            "zerolinecolor": "white"
           }
          },
          "shapedefaults": {
           "line": {
            "color": "#2a3f5f"
           }
          },
          "ternary": {
           "aaxis": {
            "gridcolor": "white",
            "linecolor": "white",
            "ticks": ""
           },
           "baxis": {
            "gridcolor": "white",
            "linecolor": "white",
            "ticks": ""
           },
           "bgcolor": "#E5ECF6",
           "caxis": {
            "gridcolor": "white",
            "linecolor": "white",
            "ticks": ""
           }
          },
          "title": {
           "x": 0.05
          },
          "xaxis": {
           "automargin": true,
           "gridcolor": "white",
           "linecolor": "white",
           "ticks": "",
           "title": {
            "standoff": 15
           },
           "zerolinecolor": "white",
           "zerolinewidth": 2
          },
          "yaxis": {
           "automargin": true,
           "gridcolor": "white",
           "linecolor": "white",
           "ticks": "",
           "title": {
            "standoff": 15
           },
           "zerolinecolor": "white",
           "zerolinewidth": 2
          }
         }
        },
        "title": {
         "font": {
          "size": 16
         },
         "text": "Liczba zgonów na COVID-19 kobiet w danej grupie wiekowej w Polsce<br>na 100 tys. kobiet w danej grupie wiekowej<br>w podziale na w pełni zaszczepione i nie w pełni zaszczepione (od 2021-07-14)",
         "x": 0.5,
         "xanchor": "center"
        },
        "uniformtext": {
         "minsize": 6,
         "mode": "show"
        },
        "width": 800,
        "xaxis": {
         "tickangle": 33
        },
        "yaxis": {
         "title": {
          "text": "Liczba zgonów na 100 tys."
         }
        }
       }
      }
     },
     "metadata": {},
     "output_type": "display_data"
    }
   ],
   "source": [
    "x_col = \"Grupa wiekowa\"\n",
    "title_str = \"w Polsce\" #\"w województwach\"\n",
    "filename_str = \"wiek_K\"\n",
    "denominator_col = \"kobiet w danej grupie wiekowej\"\n",
    "df_to_plot = dfK\n",
    "title = \"Liczba zgonów na COVID-19 \" + denominator_col + \" \" + title_str + \"<br>na 100 tys. \"+ denominator_col +\\\n",
    "        \"<br>w podziale na w pełni zaszczepione i nie w pełni zaszczepione (od \" + str(from_date) + \")\"\n",
    "plot_df2(\n",
    "    x_col=x_col, \n",
    "    denominator_col=denominator_col, \n",
    "    title=title, \n",
    "    filename_str=filename_str,  \n",
    "    from_date = from_date, \n",
    "    df = df_to_plot, \n",
    "    image_dir = basiw.image_dir\n",
    "    )"
   ]
  },
  {
   "cell_type": "markdown",
   "metadata": {},
   "source": [
    "### Zgony zaszczepionych i nie zaszczepionych w grupach wiekowych, z występowaniem chorób współistniejących i bez, na 100 tys. mieszkańców Polski w danej grupie wiekowej."
   ]
  },
  {
   "cell_type": "code",
   "execution_count": 19,
   "metadata": {},
   "outputs": [
    {
     "data": {
      "text/html": [
       "<div>\n",
       "<style scoped>\n",
       "    .dataframe tbody tr th:only-of-type {\n",
       "        vertical-align: middle;\n",
       "    }\n",
       "\n",
       "    .dataframe tbody tr th {\n",
       "        vertical-align: top;\n",
       "    }\n",
       "\n",
       "    .dataframe thead th {\n",
       "        text-align: right;\n",
       "    }\n",
       "</style>\n",
       "<table border=\"1\" class=\"dataframe\">\n",
       "  <thead>\n",
       "    <tr style=\"text-align: right;\">\n",
       "      <th></th>\n",
       "      <th>data_rap_zgonu</th>\n",
       "      <th>teryt_woj</th>\n",
       "      <th>teryt_pow</th>\n",
       "      <th>plec</th>\n",
       "      <th>wiek</th>\n",
       "      <th>kat_wiek</th>\n",
       "      <th>czy_wspolistniejace</th>\n",
       "      <th>producent</th>\n",
       "      <th>dawka_ost</th>\n",
       "      <th>obniz_odpornosc</th>\n",
       "      <th>liczba_zaraportowanych_zgonow</th>\n",
       "      <th>w_pelni_zaszczepiony</th>\n",
       "      <th>Województwo</th>\n",
       "    </tr>\n",
       "  </thead>\n",
       "  <tbody>\n",
       "    <tr>\n",
       "      <th>0</th>\n",
       "      <td>2021-01-02</td>\n",
       "      <td>4</td>\n",
       "      <td>407</td>\n",
       "      <td>K</td>\n",
       "      <td>67.0</td>\n",
       "      <td>65-74</td>\n",
       "      <td>T</td>\n",
       "      <td>NaN</td>\n",
       "      <td>NaN</td>\n",
       "      <td>N</td>\n",
       "      <td>1</td>\n",
       "      <td>N</td>\n",
       "      <td>Kujawsko-Pomorskie</td>\n",
       "    </tr>\n",
       "    <tr>\n",
       "      <th>1</th>\n",
       "      <td>2021-01-02</td>\n",
       "      <td>4</td>\n",
       "      <td>407</td>\n",
       "      <td>K</td>\n",
       "      <td>90.0</td>\n",
       "      <td>85-94</td>\n",
       "      <td>T</td>\n",
       "      <td>NaN</td>\n",
       "      <td>NaN</td>\n",
       "      <td>N</td>\n",
       "      <td>1</td>\n",
       "      <td>N</td>\n",
       "      <td>Kujawsko-Pomorskie</td>\n",
       "    </tr>\n",
       "    <tr>\n",
       "      <th>2</th>\n",
       "      <td>2021-01-02</td>\n",
       "      <td>4</td>\n",
       "      <td>407</td>\n",
       "      <td>M</td>\n",
       "      <td>69.0</td>\n",
       "      <td>65-74</td>\n",
       "      <td>T</td>\n",
       "      <td>NaN</td>\n",
       "      <td>NaN</td>\n",
       "      <td>N</td>\n",
       "      <td>1</td>\n",
       "      <td>N</td>\n",
       "      <td>Kujawsko-Pomorskie</td>\n",
       "    </tr>\n",
       "    <tr>\n",
       "      <th>3</th>\n",
       "      <td>2021-01-02</td>\n",
       "      <td>4</td>\n",
       "      <td>415</td>\n",
       "      <td>M</td>\n",
       "      <td>72.0</td>\n",
       "      <td>65-74</td>\n",
       "      <td>T</td>\n",
       "      <td>NaN</td>\n",
       "      <td>NaN</td>\n",
       "      <td>N</td>\n",
       "      <td>1</td>\n",
       "      <td>N</td>\n",
       "      <td>Kujawsko-Pomorskie</td>\n",
       "    </tr>\n",
       "    <tr>\n",
       "      <th>4</th>\n",
       "      <td>2021-01-02</td>\n",
       "      <td>4</td>\n",
       "      <td>415</td>\n",
       "      <td>M</td>\n",
       "      <td>77.0</td>\n",
       "      <td>75-84</td>\n",
       "      <td>T</td>\n",
       "      <td>NaN</td>\n",
       "      <td>NaN</td>\n",
       "      <td>N</td>\n",
       "      <td>1</td>\n",
       "      <td>N</td>\n",
       "      <td>Kujawsko-Pomorskie</td>\n",
       "    </tr>\n",
       "    <tr>\n",
       "      <th>...</th>\n",
       "      <td>...</td>\n",
       "      <td>...</td>\n",
       "      <td>...</td>\n",
       "      <td>...</td>\n",
       "      <td>...</td>\n",
       "      <td>...</td>\n",
       "      <td>...</td>\n",
       "      <td>...</td>\n",
       "      <td>...</td>\n",
       "      <td>...</td>\n",
       "      <td>...</td>\n",
       "      <td>...</td>\n",
       "      <td>...</td>\n",
       "    </tr>\n",
       "    <tr>\n",
       "      <th>58975</th>\n",
       "      <td>2021-12-13</td>\n",
       "      <td>32</td>\n",
       "      <td>3261</td>\n",
       "      <td>M</td>\n",
       "      <td>83.0</td>\n",
       "      <td>75-84</td>\n",
       "      <td>T</td>\n",
       "      <td>NaN</td>\n",
       "      <td>NaN</td>\n",
       "      <td>N</td>\n",
       "      <td>1</td>\n",
       "      <td>N</td>\n",
       "      <td>Zachodniopomorskie</td>\n",
       "    </tr>\n",
       "    <tr>\n",
       "      <th>58976</th>\n",
       "      <td>2021-12-13</td>\n",
       "      <td>32</td>\n",
       "      <td>3261</td>\n",
       "      <td>M</td>\n",
       "      <td>85.0</td>\n",
       "      <td>85-94</td>\n",
       "      <td>T</td>\n",
       "      <td>Pfizer</td>\n",
       "      <td>pelna_dawka</td>\n",
       "      <td>N</td>\n",
       "      <td>1</td>\n",
       "      <td>T</td>\n",
       "      <td>Zachodniopomorskie</td>\n",
       "    </tr>\n",
       "    <tr>\n",
       "      <th>58977</th>\n",
       "      <td>2021-12-13</td>\n",
       "      <td>32</td>\n",
       "      <td>3262</td>\n",
       "      <td>M</td>\n",
       "      <td>73.0</td>\n",
       "      <td>65-74</td>\n",
       "      <td>T</td>\n",
       "      <td>Pfizer</td>\n",
       "      <td>pelna_dawka</td>\n",
       "      <td>N</td>\n",
       "      <td>1</td>\n",
       "      <td>T</td>\n",
       "      <td>Zachodniopomorskie</td>\n",
       "    </tr>\n",
       "    <tr>\n",
       "      <th>58978</th>\n",
       "      <td>2021-12-13</td>\n",
       "      <td>32</td>\n",
       "      <td>3262</td>\n",
       "      <td>M</td>\n",
       "      <td>78.0</td>\n",
       "      <td>75-84</td>\n",
       "      <td>T</td>\n",
       "      <td>Pfizer</td>\n",
       "      <td>pelna_dawka</td>\n",
       "      <td>N</td>\n",
       "      <td>1</td>\n",
       "      <td>T</td>\n",
       "      <td>Zachodniopomorskie</td>\n",
       "    </tr>\n",
       "    <tr>\n",
       "      <th>58979</th>\n",
       "      <td>2021-12-13</td>\n",
       "      <td>32</td>\n",
       "      <td>3262</td>\n",
       "      <td>M</td>\n",
       "      <td>81.0</td>\n",
       "      <td>75-84</td>\n",
       "      <td>T</td>\n",
       "      <td>Pfizer</td>\n",
       "      <td>pelna_dawka</td>\n",
       "      <td>N</td>\n",
       "      <td>1</td>\n",
       "      <td>T</td>\n",
       "      <td>Zachodniopomorskie</td>\n",
       "    </tr>\n",
       "  </tbody>\n",
       "</table>\n",
       "<p>44254 rows × 13 columns</p>\n",
       "</div>"
      ],
      "text/plain": [
       "      data_rap_zgonu  teryt_woj  teryt_pow plec  wiek kat_wiek  \\\n",
       "0         2021-01-02          4        407    K  67.0    65-74   \n",
       "1         2021-01-02          4        407    K  90.0    85-94   \n",
       "2         2021-01-02          4        407    M  69.0    65-74   \n",
       "3         2021-01-02          4        415    M  72.0    65-74   \n",
       "4         2021-01-02          4        415    M  77.0    75-84   \n",
       "...              ...        ...        ...  ...   ...      ...   \n",
       "58975     2021-12-13         32       3261    M  83.0    75-84   \n",
       "58976     2021-12-13         32       3261    M  85.0    85-94   \n",
       "58977     2021-12-13         32       3262    M  73.0    65-74   \n",
       "58978     2021-12-13         32       3262    M  78.0    75-84   \n",
       "58979     2021-12-13         32       3262    M  81.0    75-84   \n",
       "\n",
       "      czy_wspolistniejace producent    dawka_ost obniz_odpornosc  \\\n",
       "0                       T       NaN          NaN               N   \n",
       "1                       T       NaN          NaN               N   \n",
       "2                       T       NaN          NaN               N   \n",
       "3                       T       NaN          NaN               N   \n",
       "4                       T       NaN          NaN               N   \n",
       "...                   ...       ...          ...             ...   \n",
       "58975                   T       NaN          NaN               N   \n",
       "58976                   T    Pfizer  pelna_dawka               N   \n",
       "58977                   T    Pfizer  pelna_dawka               N   \n",
       "58978                   T    Pfizer  pelna_dawka               N   \n",
       "58979                   T    Pfizer  pelna_dawka               N   \n",
       "\n",
       "       liczba_zaraportowanych_zgonow w_pelni_zaszczepiony         Województwo  \n",
       "0                                  1                    N  Kujawsko-Pomorskie  \n",
       "1                                  1                    N  Kujawsko-Pomorskie  \n",
       "2                                  1                    N  Kujawsko-Pomorskie  \n",
       "3                                  1                    N  Kujawsko-Pomorskie  \n",
       "4                                  1                    N  Kujawsko-Pomorskie  \n",
       "...                              ...                  ...                 ...  \n",
       "58975                              1                    N  Zachodniopomorskie  \n",
       "58976                              1                    T  Zachodniopomorskie  \n",
       "58977                              1                    T  Zachodniopomorskie  \n",
       "58978                              1                    T  Zachodniopomorskie  \n",
       "58979                              1                    T  Zachodniopomorskie  \n",
       "\n",
       "[44254 rows x 13 columns]"
      ]
     },
     "execution_count": 19,
     "metadata": {},
     "output_type": "execute_result"
    }
   ],
   "source": [
    "basiw.dfd.query('czy_wspolistniejace == \"T\"')"
   ]
  },
  {
   "cell_type": "code",
   "execution_count": 20,
   "metadata": {},
   "outputs": [
    {
     "data": {
      "text/html": [
       "<div>\n",
       "<style scoped>\n",
       "    .dataframe tbody tr th:only-of-type {\n",
       "        vertical-align: middle;\n",
       "    }\n",
       "\n",
       "    .dataframe tbody tr th {\n",
       "        vertical-align: top;\n",
       "    }\n",
       "\n",
       "    .dataframe thead th {\n",
       "        text-align: right;\n",
       "    }\n",
       "</style>\n",
       "<table border=\"1\" class=\"dataframe\">\n",
       "  <thead>\n",
       "    <tr style=\"text-align: right;\">\n",
       "      <th></th>\n",
       "      <th>liczba_zaraportowanych_zgonow</th>\n",
       "      <th>mieszkańców w danej grupie wiekowej</th>\n",
       "      <th>Zgony nie w pełni zaszczepionych mieszkańców w danej grupie wiekowej</th>\n",
       "      <th>Zgony w pełni zaszczepionych mieszkańców w danej grupie wiekowej</th>\n",
       "      <th>Grupa wiekowa</th>\n",
       "      <th>Zgony nie w pełni zaszczepionych mieszkańców w danej grupie wiekowej na 100 tys. mieszkańców w danej grupie wiekowej</th>\n",
       "      <th>Zgony w pełni zaszczepionych mieszkańców w danej grupie wiekowej na 100 tys. mieszkańców w danej grupie wiekowej</th>\n",
       "    </tr>\n",
       "  </thead>\n",
       "  <tbody>\n",
       "    <tr>\n",
       "      <th>0-18</th>\n",
       "      <td>3</td>\n",
       "      <td>6909092.0</td>\n",
       "      <td>3</td>\n",
       "      <td>0.0</td>\n",
       "      <td>0-18</td>\n",
       "      <td>0.043421</td>\n",
       "      <td>0.000000</td>\n",
       "    </tr>\n",
       "    <tr>\n",
       "      <th>19-24</th>\n",
       "      <td>13</td>\n",
       "      <td>2391135.0</td>\n",
       "      <td>12</td>\n",
       "      <td>1.0</td>\n",
       "      <td>19-24</td>\n",
       "      <td>0.501854</td>\n",
       "      <td>0.041821</td>\n",
       "    </tr>\n",
       "    <tr>\n",
       "      <th>25-34</th>\n",
       "      <td>62</td>\n",
       "      <td>5378329.0</td>\n",
       "      <td>59</td>\n",
       "      <td>3.0</td>\n",
       "      <td>25-34</td>\n",
       "      <td>1.096995</td>\n",
       "      <td>0.055779</td>\n",
       "    </tr>\n",
       "    <tr>\n",
       "      <th>35-44</th>\n",
       "      <td>142</td>\n",
       "      <td>6101624.0</td>\n",
       "      <td>125</td>\n",
       "      <td>17.0</td>\n",
       "      <td>35-44</td>\n",
       "      <td>2.048635</td>\n",
       "      <td>0.278614</td>\n",
       "    </tr>\n",
       "    <tr>\n",
       "      <th>45-54</th>\n",
       "      <td>406</td>\n",
       "      <td>4789676.0</td>\n",
       "      <td>350</td>\n",
       "      <td>56.0</td>\n",
       "      <td>45-54</td>\n",
       "      <td>7.307384</td>\n",
       "      <td>1.169181</td>\n",
       "    </tr>\n",
       "    <tr>\n",
       "      <th>55-64</th>\n",
       "      <td>1014</td>\n",
       "      <td>5104262.0</td>\n",
       "      <td>788</td>\n",
       "      <td>226.0</td>\n",
       "      <td>55-64</td>\n",
       "      <td>15.438079</td>\n",
       "      <td>4.427672</td>\n",
       "    </tr>\n",
       "    <tr>\n",
       "      <th>65-74</th>\n",
       "      <td>2568</td>\n",
       "      <td>4195973.0</td>\n",
       "      <td>1730</td>\n",
       "      <td>838.0</td>\n",
       "      <td>65-74</td>\n",
       "      <td>41.230008</td>\n",
       "      <td>19.971530</td>\n",
       "    </tr>\n",
       "    <tr>\n",
       "      <th>75-84</th>\n",
       "      <td>2959</td>\n",
       "      <td>1912001.0</td>\n",
       "      <td>2014</td>\n",
       "      <td>945.0</td>\n",
       "      <td>75-84</td>\n",
       "      <td>105.334673</td>\n",
       "      <td>49.424660</td>\n",
       "    </tr>\n",
       "    <tr>\n",
       "      <th>85-94</th>\n",
       "      <td>2630</td>\n",
       "      <td>756428.0</td>\n",
       "      <td>1956</td>\n",
       "      <td>674.0</td>\n",
       "      <td>85-94</td>\n",
       "      <td>258.583765</td>\n",
       "      <td>89.102995</td>\n",
       "    </tr>\n",
       "    <tr>\n",
       "      <th>95+</th>\n",
       "      <td>252</td>\n",
       "      <td>52344.0</td>\n",
       "      <td>202</td>\n",
       "      <td>50.0</td>\n",
       "      <td>95+</td>\n",
       "      <td>385.908605</td>\n",
       "      <td>95.521932</td>\n",
       "    </tr>\n",
       "  </tbody>\n",
       "</table>\n",
       "</div>"
      ],
      "text/plain": [
       "       liczba_zaraportowanych_zgonow  mieszkańców w danej grupie wiekowej  \\\n",
       "0-18                               3                            6909092.0   \n",
       "19-24                             13                            2391135.0   \n",
       "25-34                             62                            5378329.0   \n",
       "35-44                            142                            6101624.0   \n",
       "45-54                            406                            4789676.0   \n",
       "55-64                           1014                            5104262.0   \n",
       "65-74                           2568                            4195973.0   \n",
       "75-84                           2959                            1912001.0   \n",
       "85-94                           2630                             756428.0   \n",
       "95+                              252                              52344.0   \n",
       "\n",
       "       Zgony nie w pełni zaszczepionych mieszkańców w danej grupie wiekowej  \\\n",
       "0-18                                                   3                      \n",
       "19-24                                                 12                      \n",
       "25-34                                                 59                      \n",
       "35-44                                                125                      \n",
       "45-54                                                350                      \n",
       "55-64                                                788                      \n",
       "65-74                                               1730                      \n",
       "75-84                                               2014                      \n",
       "85-94                                               1956                      \n",
       "95+                                                  202                      \n",
       "\n",
       "       Zgony w pełni zaszczepionych mieszkańców w danej grupie wiekowej  \\\n",
       "0-18                                                 0.0                  \n",
       "19-24                                                1.0                  \n",
       "25-34                                                3.0                  \n",
       "35-44                                               17.0                  \n",
       "45-54                                               56.0                  \n",
       "55-64                                              226.0                  \n",
       "65-74                                              838.0                  \n",
       "75-84                                              945.0                  \n",
       "85-94                                              674.0                  \n",
       "95+                                                 50.0                  \n",
       "\n",
       "      Grupa wiekowa  \\\n",
       "0-18           0-18   \n",
       "19-24         19-24   \n",
       "25-34         25-34   \n",
       "35-44         35-44   \n",
       "45-54         45-54   \n",
       "55-64         55-64   \n",
       "65-74         65-74   \n",
       "75-84         75-84   \n",
       "85-94         85-94   \n",
       "95+             95+   \n",
       "\n",
       "       Zgony nie w pełni zaszczepionych mieszkańców w danej grupie wiekowej na 100 tys. mieszkańców w danej grupie wiekowej  \\\n",
       "0-18                                            0.043421                                                                      \n",
       "19-24                                           0.501854                                                                      \n",
       "25-34                                           1.096995                                                                      \n",
       "35-44                                           2.048635                                                                      \n",
       "45-54                                           7.307384                                                                      \n",
       "55-64                                          15.438079                                                                      \n",
       "65-74                                          41.230008                                                                      \n",
       "75-84                                         105.334673                                                                      \n",
       "85-94                                         258.583765                                                                      \n",
       "95+                                           385.908605                                                                      \n",
       "\n",
       "       Zgony w pełni zaszczepionych mieszkańców w danej grupie wiekowej na 100 tys. mieszkańców w danej grupie wiekowej  \n",
       "0-18                                            0.000000                                                                 \n",
       "19-24                                           0.041821                                                                 \n",
       "25-34                                           0.055779                                                                 \n",
       "35-44                                           0.278614                                                                 \n",
       "45-54                                           1.169181                                                                 \n",
       "55-64                                           4.427672                                                                 \n",
       "65-74                                          19.971530                                                                 \n",
       "75-84                                          49.424660                                                                 \n",
       "85-94                                          89.102995                                                                 \n",
       "95+                                            95.521932                                                                 "
      ]
     },
     "execution_count": 20,
     "metadata": {},
     "output_type": "execute_result"
    }
   ],
   "source": [
    "from_date = datetime.date(2021,7,14)\n",
    "\n",
    "df_wspol = prepare_df2(\n",
    "    deaths_df = basiw.dfd.query('czy_wspolistniejace == \"T\"'), \n",
    "    x_col ='kat_wiek', \n",
    "    x_col_name = 'Grupa wiekowa',\n",
    "    denominator_df=pop_df,\n",
    "    denominator_col='mieszkańców w danej grupie wiekowej', \n",
    "    from_date=from_date\n",
    "    )\n",
    "\n",
    "df_wspol[:-1].fillna(0)"
   ]
  },
  {
   "cell_type": "code",
   "execution_count": 21,
   "metadata": {},
   "outputs": [
    {
     "data": {
      "application/vnd.plotly.v1+json": {
       "config": {
        "plotlyServerURL": "https://plot.ly"
       },
       "data": [
        {
         "name": "Zgony nie w pełni zaszczepionych mieszkańców w danej grupie wiekowej na 100 tys. mieszkańców w danej grupie wiekowej",
         "offsetgroup": "1",
         "text": [
          0.04342104577562435,
          0.5018537221863257,
          1.096994996029436,
          2.0486349208014127,
          7.307383630959588,
          15.438079001430568,
          41.23000791473157,
          105.33467294211667,
          258.5837647469422,
          385.90860461561977
         ],
         "textposition": "outside",
         "texttemplate": "%{text:2.1f}",
         "type": "bar",
         "x": [
          "0-18",
          "19-24",
          "25-34",
          "35-44",
          "45-54",
          "55-64",
          "65-74",
          "75-84",
          "85-94",
          "95+"
         ],
         "y": [
          0.04342104577562435,
          0.5018537221863257,
          1.096994996029436,
          2.0486349208014127,
          7.307383630959588,
          15.438079001430568,
          41.23000791473157,
          105.33467294211667,
          258.5837647469422,
          385.90860461561977
         ]
        },
        {
         "name": "Zgony w pełni zaszczepionych mieszkańców w danej grupie wiekowej na 100 tys. mieszkańców w danej grupie wiekowej",
         "offsetgroup": "2",
         "text": [
          0,
          0.04182114351552715,
          0.055779406577767934,
          0.27861434922899214,
          1.169181380953534,
          4.42767240396359,
          19.971529845401772,
          49.42466034275086,
          89.1029946009402,
          95.52193183554944
         ],
         "textposition": "outside",
         "texttemplate": "%{text:2.1f}",
         "type": "bar",
         "x": [
          "0-18",
          "19-24",
          "25-34",
          "35-44",
          "45-54",
          "55-64",
          "65-74",
          "75-84",
          "85-94",
          "95+"
         ],
         "y": [
          0,
          0.04182114351552715,
          0.055779406577767934,
          0.27861434922899214,
          1.169181380953534,
          4.42767240396359,
          19.971529845401772,
          49.42466034275086,
          89.1029946009402,
          95.52193183554944
         ]
        }
       ],
       "layout": {
        "barmode": "group",
        "height": 500,
        "legend": {
         "title": {
          "text": ""
         },
         "x": 0.5,
         "xanchor": "center",
         "y": -0.25
        },
        "template": {
         "data": {
          "bar": [
           {
            "error_x": {
             "color": "#2a3f5f"
            },
            "error_y": {
             "color": "#2a3f5f"
            },
            "marker": {
             "line": {
              "color": "#E5ECF6",
              "width": 0.5
             }
            },
            "type": "bar"
           }
          ],
          "barpolar": [
           {
            "marker": {
             "line": {
              "color": "#E5ECF6",
              "width": 0.5
             }
            },
            "type": "barpolar"
           }
          ],
          "carpet": [
           {
            "aaxis": {
             "endlinecolor": "#2a3f5f",
             "gridcolor": "white",
             "linecolor": "white",
             "minorgridcolor": "white",
             "startlinecolor": "#2a3f5f"
            },
            "baxis": {
             "endlinecolor": "#2a3f5f",
             "gridcolor": "white",
             "linecolor": "white",
             "minorgridcolor": "white",
             "startlinecolor": "#2a3f5f"
            },
            "type": "carpet"
           }
          ],
          "choropleth": [
           {
            "colorbar": {
             "outlinewidth": 0,
             "ticks": ""
            },
            "type": "choropleth"
           }
          ],
          "contour": [
           {
            "colorbar": {
             "outlinewidth": 0,
             "ticks": ""
            },
            "colorscale": [
             [
              0,
              "#0d0887"
             ],
             [
              0.1111111111111111,
              "#46039f"
             ],
             [
              0.2222222222222222,
              "#7201a8"
             ],
             [
              0.3333333333333333,
              "#9c179e"
             ],
             [
              0.4444444444444444,
              "#bd3786"
             ],
             [
              0.5555555555555556,
              "#d8576b"
             ],
             [
              0.6666666666666666,
              "#ed7953"
             ],
             [
              0.7777777777777778,
              "#fb9f3a"
             ],
             [
              0.8888888888888888,
              "#fdca26"
             ],
             [
              1,
              "#f0f921"
             ]
            ],
            "type": "contour"
           }
          ],
          "contourcarpet": [
           {
            "colorbar": {
             "outlinewidth": 0,
             "ticks": ""
            },
            "type": "contourcarpet"
           }
          ],
          "heatmap": [
           {
            "colorbar": {
             "outlinewidth": 0,
             "ticks": ""
            },
            "colorscale": [
             [
              0,
              "#0d0887"
             ],
             [
              0.1111111111111111,
              "#46039f"
             ],
             [
              0.2222222222222222,
              "#7201a8"
             ],
             [
              0.3333333333333333,
              "#9c179e"
             ],
             [
              0.4444444444444444,
              "#bd3786"
             ],
             [
              0.5555555555555556,
              "#d8576b"
             ],
             [
              0.6666666666666666,
              "#ed7953"
             ],
             [
              0.7777777777777778,
              "#fb9f3a"
             ],
             [
              0.8888888888888888,
              "#fdca26"
             ],
             [
              1,
              "#f0f921"
             ]
            ],
            "type": "heatmap"
           }
          ],
          "heatmapgl": [
           {
            "colorbar": {
             "outlinewidth": 0,
             "ticks": ""
            },
            "colorscale": [
             [
              0,
              "#0d0887"
             ],
             [
              0.1111111111111111,
              "#46039f"
             ],
             [
              0.2222222222222222,
              "#7201a8"
             ],
             [
              0.3333333333333333,
              "#9c179e"
             ],
             [
              0.4444444444444444,
              "#bd3786"
             ],
             [
              0.5555555555555556,
              "#d8576b"
             ],
             [
              0.6666666666666666,
              "#ed7953"
             ],
             [
              0.7777777777777778,
              "#fb9f3a"
             ],
             [
              0.8888888888888888,
              "#fdca26"
             ],
             [
              1,
              "#f0f921"
             ]
            ],
            "type": "heatmapgl"
           }
          ],
          "histogram": [
           {
            "marker": {
             "colorbar": {
              "outlinewidth": 0,
              "ticks": ""
             }
            },
            "type": "histogram"
           }
          ],
          "histogram2d": [
           {
            "colorbar": {
             "outlinewidth": 0,
             "ticks": ""
            },
            "colorscale": [
             [
              0,
              "#0d0887"
             ],
             [
              0.1111111111111111,
              "#46039f"
             ],
             [
              0.2222222222222222,
              "#7201a8"
             ],
             [
              0.3333333333333333,
              "#9c179e"
             ],
             [
              0.4444444444444444,
              "#bd3786"
             ],
             [
              0.5555555555555556,
              "#d8576b"
             ],
             [
              0.6666666666666666,
              "#ed7953"
             ],
             [
              0.7777777777777778,
              "#fb9f3a"
             ],
             [
              0.8888888888888888,
              "#fdca26"
             ],
             [
              1,
              "#f0f921"
             ]
            ],
            "type": "histogram2d"
           }
          ],
          "histogram2dcontour": [
           {
            "colorbar": {
             "outlinewidth": 0,
             "ticks": ""
            },
            "colorscale": [
             [
              0,
              "#0d0887"
             ],
             [
              0.1111111111111111,
              "#46039f"
             ],
             [
              0.2222222222222222,
              "#7201a8"
             ],
             [
              0.3333333333333333,
              "#9c179e"
             ],
             [
              0.4444444444444444,
              "#bd3786"
             ],
             [
              0.5555555555555556,
              "#d8576b"
             ],
             [
              0.6666666666666666,
              "#ed7953"
             ],
             [
              0.7777777777777778,
              "#fb9f3a"
             ],
             [
              0.8888888888888888,
              "#fdca26"
             ],
             [
              1,
              "#f0f921"
             ]
            ],
            "type": "histogram2dcontour"
           }
          ],
          "mesh3d": [
           {
            "colorbar": {
             "outlinewidth": 0,
             "ticks": ""
            },
            "type": "mesh3d"
           }
          ],
          "parcoords": [
           {
            "line": {
             "colorbar": {
              "outlinewidth": 0,
              "ticks": ""
             }
            },
            "type": "parcoords"
           }
          ],
          "pie": [
           {
            "automargin": true,
            "type": "pie"
           }
          ],
          "scatter": [
           {
            "marker": {
             "colorbar": {
              "outlinewidth": 0,
              "ticks": ""
             }
            },
            "type": "scatter"
           }
          ],
          "scatter3d": [
           {
            "line": {
             "colorbar": {
              "outlinewidth": 0,
              "ticks": ""
             }
            },
            "marker": {
             "colorbar": {
              "outlinewidth": 0,
              "ticks": ""
             }
            },
            "type": "scatter3d"
           }
          ],
          "scattercarpet": [
           {
            "marker": {
             "colorbar": {
              "outlinewidth": 0,
              "ticks": ""
             }
            },
            "type": "scattercarpet"
           }
          ],
          "scattergeo": [
           {
            "marker": {
             "colorbar": {
              "outlinewidth": 0,
              "ticks": ""
             }
            },
            "type": "scattergeo"
           }
          ],
          "scattergl": [
           {
            "marker": {
             "colorbar": {
              "outlinewidth": 0,
              "ticks": ""
             }
            },
            "type": "scattergl"
           }
          ],
          "scattermapbox": [
           {
            "marker": {
             "colorbar": {
              "outlinewidth": 0,
              "ticks": ""
             }
            },
            "type": "scattermapbox"
           }
          ],
          "scatterpolar": [
           {
            "marker": {
             "colorbar": {
              "outlinewidth": 0,
              "ticks": ""
             }
            },
            "type": "scatterpolar"
           }
          ],
          "scatterpolargl": [
           {
            "marker": {
             "colorbar": {
              "outlinewidth": 0,
              "ticks": ""
             }
            },
            "type": "scatterpolargl"
           }
          ],
          "scatterternary": [
           {
            "marker": {
             "colorbar": {
              "outlinewidth": 0,
              "ticks": ""
             }
            },
            "type": "scatterternary"
           }
          ],
          "surface": [
           {
            "colorbar": {
             "outlinewidth": 0,
             "ticks": ""
            },
            "colorscale": [
             [
              0,
              "#0d0887"
             ],
             [
              0.1111111111111111,
              "#46039f"
             ],
             [
              0.2222222222222222,
              "#7201a8"
             ],
             [
              0.3333333333333333,
              "#9c179e"
             ],
             [
              0.4444444444444444,
              "#bd3786"
             ],
             [
              0.5555555555555556,
              "#d8576b"
             ],
             [
              0.6666666666666666,
              "#ed7953"
             ],
             [
              0.7777777777777778,
              "#fb9f3a"
             ],
             [
              0.8888888888888888,
              "#fdca26"
             ],
             [
              1,
              "#f0f921"
             ]
            ],
            "type": "surface"
           }
          ],
          "table": [
           {
            "cells": {
             "fill": {
              "color": "#EBF0F8"
             },
             "line": {
              "color": "white"
             }
            },
            "header": {
             "fill": {
              "color": "#C8D4E3"
             },
             "line": {
              "color": "white"
             }
            },
            "type": "table"
           }
          ]
         },
         "layout": {
          "annotationdefaults": {
           "arrowcolor": "#2a3f5f",
           "arrowhead": 0,
           "arrowwidth": 1
          },
          "coloraxis": {
           "colorbar": {
            "outlinewidth": 0,
            "ticks": ""
           }
          },
          "colorscale": {
           "diverging": [
            [
             0,
             "#8e0152"
            ],
            [
             0.1,
             "#c51b7d"
            ],
            [
             0.2,
             "#de77ae"
            ],
            [
             0.3,
             "#f1b6da"
            ],
            [
             0.4,
             "#fde0ef"
            ],
            [
             0.5,
             "#f7f7f7"
            ],
            [
             0.6,
             "#e6f5d0"
            ],
            [
             0.7,
             "#b8e186"
            ],
            [
             0.8,
             "#7fbc41"
            ],
            [
             0.9,
             "#4d9221"
            ],
            [
             1,
             "#276419"
            ]
           ],
           "sequential": [
            [
             0,
             "#0d0887"
            ],
            [
             0.1111111111111111,
             "#46039f"
            ],
            [
             0.2222222222222222,
             "#7201a8"
            ],
            [
             0.3333333333333333,
             "#9c179e"
            ],
            [
             0.4444444444444444,
             "#bd3786"
            ],
            [
             0.5555555555555556,
             "#d8576b"
            ],
            [
             0.6666666666666666,
             "#ed7953"
            ],
            [
             0.7777777777777778,
             "#fb9f3a"
            ],
            [
             0.8888888888888888,
             "#fdca26"
            ],
            [
             1,
             "#f0f921"
            ]
           ],
           "sequentialminus": [
            [
             0,
             "#0d0887"
            ],
            [
             0.1111111111111111,
             "#46039f"
            ],
            [
             0.2222222222222222,
             "#7201a8"
            ],
            [
             0.3333333333333333,
             "#9c179e"
            ],
            [
             0.4444444444444444,
             "#bd3786"
            ],
            [
             0.5555555555555556,
             "#d8576b"
            ],
            [
             0.6666666666666666,
             "#ed7953"
            ],
            [
             0.7777777777777778,
             "#fb9f3a"
            ],
            [
             0.8888888888888888,
             "#fdca26"
            ],
            [
             1,
             "#f0f921"
            ]
           ]
          },
          "colorway": [
           "#636efa",
           "#EF553B",
           "#00cc96",
           "#ab63fa",
           "#FFA15A",
           "#19d3f3",
           "#FF6692",
           "#B6E880",
           "#FF97FF",
           "#FECB52"
          ],
          "font": {
           "color": "#2a3f5f"
          },
          "geo": {
           "bgcolor": "white",
           "lakecolor": "white",
           "landcolor": "#E5ECF6",
           "showlakes": true,
           "showland": true,
           "subunitcolor": "white"
          },
          "hoverlabel": {
           "align": "left"
          },
          "hovermode": "closest",
          "mapbox": {
           "style": "light"
          },
          "paper_bgcolor": "white",
          "plot_bgcolor": "#E5ECF6",
          "polar": {
           "angularaxis": {
            "gridcolor": "white",
            "linecolor": "white",
            "ticks": ""
           },
           "bgcolor": "#E5ECF6",
           "radialaxis": {
            "gridcolor": "white",
            "linecolor": "white",
            "ticks": ""
           }
          },
          "scene": {
           "xaxis": {
            "backgroundcolor": "#E5ECF6",
            "gridcolor": "white",
            "gridwidth": 2,
            "linecolor": "white",
            "showbackground": true,
            "ticks": "",
            "zerolinecolor": "white"
           },
           "yaxis": {
            "backgroundcolor": "#E5ECF6",
            "gridcolor": "white",
            "gridwidth": 2,
            "linecolor": "white",
            "showbackground": true,
            "ticks": "",
            "zerolinecolor": "white"
           },
           "zaxis": {
            "backgroundcolor": "#E5ECF6",
            "gridcolor": "white",
            "gridwidth": 2,
            "linecolor": "white",
            "showbackground": true,
            "ticks": "",
            "zerolinecolor": "white"
           }
          },
          "shapedefaults": {
           "line": {
            "color": "#2a3f5f"
           }
          },
          "ternary": {
           "aaxis": {
            "gridcolor": "white",
            "linecolor": "white",
            "ticks": ""
           },
           "baxis": {
            "gridcolor": "white",
            "linecolor": "white",
            "ticks": ""
           },
           "bgcolor": "#E5ECF6",
           "caxis": {
            "gridcolor": "white",
            "linecolor": "white",
            "ticks": ""
           }
          },
          "title": {
           "x": 0.05
          },
          "xaxis": {
           "automargin": true,
           "gridcolor": "white",
           "linecolor": "white",
           "ticks": "",
           "title": {
            "standoff": 15
           },
           "zerolinecolor": "white",
           "zerolinewidth": 2
          },
          "yaxis": {
           "automargin": true,
           "gridcolor": "white",
           "linecolor": "white",
           "ticks": "",
           "title": {
            "standoff": 15
           },
           "zerolinecolor": "white",
           "zerolinewidth": 2
          }
         }
        },
        "title": {
         "font": {
          "size": 16
         },
         "text": "Liczba zgonów na COVID-19 mieszkańców w danej grupie wiekowej z chorobami współistniejącymi<br>na 100 tys. mieszkańców w danej grupie wiekowej<br>w podziale na w pełni zaszczepionych i nie w pełni zaszczepionych (od 2021-07-14)",
         "x": 0.5,
         "xanchor": "center"
        },
        "uniformtext": {
         "minsize": 6,
         "mode": "show"
        },
        "width": 800,
        "xaxis": {
         "tickangle": 33
        },
        "yaxis": {
         "title": {
          "text": "Liczba zgonów na 100 tys."
         }
        }
       }
      }
     },
     "metadata": {},
     "output_type": "display_data"
    }
   ],
   "source": [
    "x_col = \"Grupa wiekowa\"\n",
    "title_str = \"z chorobami współistniejącymi\" #\"w Polsce\" #\"w województwach\"\n",
    "filename_str = \"wiek_ogolem_wspol\"\n",
    "denominator_col = \"mieszkańców w danej grupie wiekowej\"\n",
    "title = \"Liczba zgonów na COVID-19 \" + denominator_col + \" \" + title_str + \"<br>na 100 tys. \"+ denominator_col +\\\n",
    "        \"<br>w podziale na w pełni zaszczepionych i nie w pełni zaszczepionych (od \" + str(from_date) + \")\"\n",
    "df_to_plot = df_wspol[:-1].fillna(0)\n",
    "\n",
    "plot_df2(\n",
    "    x_col=x_col, \n",
    "    denominator_col=denominator_col, \n",
    "    title=title , \n",
    "    filename_str=filename_str,  \n",
    "    from_date = from_date, \n",
    "    df = df_to_plot, \n",
    "    image_dir = basiw.image_dir\n",
    "    )"
   ]
  },
  {
   "cell_type": "code",
   "execution_count": 22,
   "metadata": {},
   "outputs": [
    {
     "data": {
      "text/html": [
       "<div>\n",
       "<style scoped>\n",
       "    .dataframe tbody tr th:only-of-type {\n",
       "        vertical-align: middle;\n",
       "    }\n",
       "\n",
       "    .dataframe tbody tr th {\n",
       "        vertical-align: top;\n",
       "    }\n",
       "\n",
       "    .dataframe thead th {\n",
       "        text-align: right;\n",
       "    }\n",
       "</style>\n",
       "<table border=\"1\" class=\"dataframe\">\n",
       "  <thead>\n",
       "    <tr style=\"text-align: right;\">\n",
       "      <th></th>\n",
       "      <th>liczba_zaraportowanych_zgonow</th>\n",
       "      <th>mieszkańców w danej grupie wiekowej</th>\n",
       "      <th>Zgony nie w pełni zaszczepionych mieszkańców w danej grupie wiekowej</th>\n",
       "      <th>Zgony w pełni zaszczepionych mieszkańców w danej grupie wiekowej</th>\n",
       "      <th>Grupa wiekowa</th>\n",
       "      <th>Zgony nie w pełni zaszczepionych mieszkańców w danej grupie wiekowej na 100 tys. mieszkańców w danej grupie wiekowej</th>\n",
       "      <th>Zgony w pełni zaszczepionych mieszkańców w danej grupie wiekowej na 100 tys. mieszkańców w danej grupie wiekowej</th>\n",
       "    </tr>\n",
       "  </thead>\n",
       "  <tbody>\n",
       "    <tr>\n",
       "      <th>0-18</th>\n",
       "      <td>6</td>\n",
       "      <td>6909092.0</td>\n",
       "      <td>5</td>\n",
       "      <td>1.0</td>\n",
       "      <td>0-18</td>\n",
       "      <td>0.072368</td>\n",
       "      <td>0.014474</td>\n",
       "    </tr>\n",
       "    <tr>\n",
       "      <th>19-24</th>\n",
       "      <td>5</td>\n",
       "      <td>2391135.0</td>\n",
       "      <td>5</td>\n",
       "      <td>0.0</td>\n",
       "      <td>19-24</td>\n",
       "      <td>0.209106</td>\n",
       "      <td>0.000000</td>\n",
       "    </tr>\n",
       "    <tr>\n",
       "      <th>25-34</th>\n",
       "      <td>37</td>\n",
       "      <td>5378329.0</td>\n",
       "      <td>33</td>\n",
       "      <td>4.0</td>\n",
       "      <td>25-34</td>\n",
       "      <td>0.613573</td>\n",
       "      <td>0.074373</td>\n",
       "    </tr>\n",
       "    <tr>\n",
       "      <th>35-44</th>\n",
       "      <td>111</td>\n",
       "      <td>6101624.0</td>\n",
       "      <td>103</td>\n",
       "      <td>8.0</td>\n",
       "      <td>35-44</td>\n",
       "      <td>1.688075</td>\n",
       "      <td>0.131113</td>\n",
       "    </tr>\n",
       "    <tr>\n",
       "      <th>45-54</th>\n",
       "      <td>216</td>\n",
       "      <td>4789676.0</td>\n",
       "      <td>192</td>\n",
       "      <td>24.0</td>\n",
       "      <td>45-54</td>\n",
       "      <td>4.008622</td>\n",
       "      <td>0.501078</td>\n",
       "    </tr>\n",
       "    <tr>\n",
       "      <th>55-64</th>\n",
       "      <td>451</td>\n",
       "      <td>5104262.0</td>\n",
       "      <td>384</td>\n",
       "      <td>67.0</td>\n",
       "      <td>55-64</td>\n",
       "      <td>7.523125</td>\n",
       "      <td>1.312629</td>\n",
       "    </tr>\n",
       "    <tr>\n",
       "      <th>65-74</th>\n",
       "      <td>997</td>\n",
       "      <td>4195973.0</td>\n",
       "      <td>702</td>\n",
       "      <td>295.0</td>\n",
       "      <td>65-74</td>\n",
       "      <td>16.730327</td>\n",
       "      <td>7.030550</td>\n",
       "    </tr>\n",
       "    <tr>\n",
       "      <th>75-84</th>\n",
       "      <td>970</td>\n",
       "      <td>1912001.0</td>\n",
       "      <td>700</td>\n",
       "      <td>270.0</td>\n",
       "      <td>75-84</td>\n",
       "      <td>36.610860</td>\n",
       "      <td>14.121332</td>\n",
       "    </tr>\n",
       "    <tr>\n",
       "      <th>85-94</th>\n",
       "      <td>906</td>\n",
       "      <td>756428.0</td>\n",
       "      <td>666</td>\n",
       "      <td>240.0</td>\n",
       "      <td>85-94</td>\n",
       "      <td>88.045392</td>\n",
       "      <td>31.728069</td>\n",
       "    </tr>\n",
       "  </tbody>\n",
       "</table>\n",
       "</div>"
      ],
      "text/plain": [
       "       liczba_zaraportowanych_zgonow  mieszkańców w danej grupie wiekowej  \\\n",
       "0-18                               6                            6909092.0   \n",
       "19-24                              5                            2391135.0   \n",
       "25-34                             37                            5378329.0   \n",
       "35-44                            111                            6101624.0   \n",
       "45-54                            216                            4789676.0   \n",
       "55-64                            451                            5104262.0   \n",
       "65-74                            997                            4195973.0   \n",
       "75-84                            970                            1912001.0   \n",
       "85-94                            906                             756428.0   \n",
       "\n",
       "       Zgony nie w pełni zaszczepionych mieszkańców w danej grupie wiekowej  \\\n",
       "0-18                                                   5                      \n",
       "19-24                                                  5                      \n",
       "25-34                                                 33                      \n",
       "35-44                                                103                      \n",
       "45-54                                                192                      \n",
       "55-64                                                384                      \n",
       "65-74                                                702                      \n",
       "75-84                                                700                      \n",
       "85-94                                                666                      \n",
       "\n",
       "       Zgony w pełni zaszczepionych mieszkańców w danej grupie wiekowej  \\\n",
       "0-18                                                 1.0                  \n",
       "19-24                                                0.0                  \n",
       "25-34                                                4.0                  \n",
       "35-44                                                8.0                  \n",
       "45-54                                               24.0                  \n",
       "55-64                                               67.0                  \n",
       "65-74                                              295.0                  \n",
       "75-84                                              270.0                  \n",
       "85-94                                              240.0                  \n",
       "\n",
       "      Grupa wiekowa  \\\n",
       "0-18           0-18   \n",
       "19-24         19-24   \n",
       "25-34         25-34   \n",
       "35-44         35-44   \n",
       "45-54         45-54   \n",
       "55-64         55-64   \n",
       "65-74         65-74   \n",
       "75-84         75-84   \n",
       "85-94         85-94   \n",
       "\n",
       "       Zgony nie w pełni zaszczepionych mieszkańców w danej grupie wiekowej na 100 tys. mieszkańców w danej grupie wiekowej  \\\n",
       "0-18                                            0.072368                                                                      \n",
       "19-24                                           0.209106                                                                      \n",
       "25-34                                           0.613573                                                                      \n",
       "35-44                                           1.688075                                                                      \n",
       "45-54                                           4.008622                                                                      \n",
       "55-64                                           7.523125                                                                      \n",
       "65-74                                          16.730327                                                                      \n",
       "75-84                                          36.610860                                                                      \n",
       "85-94                                          88.045392                                                                      \n",
       "\n",
       "       Zgony w pełni zaszczepionych mieszkańców w danej grupie wiekowej na 100 tys. mieszkańców w danej grupie wiekowej  \n",
       "0-18                                            0.014474                                                                 \n",
       "19-24                                           0.000000                                                                 \n",
       "25-34                                           0.074373                                                                 \n",
       "35-44                                           0.131113                                                                 \n",
       "45-54                                           0.501078                                                                 \n",
       "55-64                                           1.312629                                                                 \n",
       "65-74                                           7.030550                                                                 \n",
       "75-84                                          14.121332                                                                 \n",
       "85-94                                          31.728069                                                                 "
      ]
     },
     "execution_count": 22,
     "metadata": {},
     "output_type": "execute_result"
    }
   ],
   "source": [
    "from_date = datetime.date(2021,7,14)\n",
    "\n",
    "df_bez_wspol = prepare_df2(\n",
    "    deaths_df = basiw.dfd.query('czy_wspolistniejace == \"N\"'), \n",
    "    x_col ='kat_wiek', \n",
    "    x_col_name = 'Grupa wiekowa',\n",
    "    denominator_df=pop_df, \n",
    "    denominator_col='mieszkańców w danej grupie wiekowej', \n",
    "    from_date=from_date\n",
    "    )\n",
    "\n",
    "df_bez_wspol[:-1].fillna(0)"
   ]
  },
  {
   "cell_type": "code",
   "execution_count": 23,
   "metadata": {},
   "outputs": [
    {
     "data": {
      "application/vnd.plotly.v1+json": {
       "config": {
        "plotlyServerURL": "https://plot.ly"
       },
       "data": [
        {
         "name": "Zgony nie w pełni zaszczepionych mieszkańców w danej grupie wiekowej na 100 tys. mieszkańców w danej grupie wiekowej",
         "offsetgroup": "1",
         "text": [
          0.07236840962604059,
          0.20910571757763574,
          0.6135734723554472,
          1.6880751747403644,
          4.008621877554975,
          7.523124792575303,
          16.73032691106449,
          36.61085951314879,
          88.04539229113676
         ],
         "textposition": "outside",
         "texttemplate": "%{text:2.1f}",
         "type": "bar",
         "x": [
          "0-18",
          "19-24",
          "25-34",
          "35-44",
          "45-54",
          "55-64",
          "65-74",
          "75-84",
          "85-94"
         ],
         "y": [
          0.07236840962604059,
          0.20910571757763574,
          0.6135734723554472,
          1.6880751747403644,
          4.008621877554975,
          7.523124792575303,
          16.73032691106449,
          36.61085951314879,
          88.04539229113676
         ]
        },
        {
         "name": "Zgony w pełni zaszczepionych mieszkańców w danej grupie wiekowej na 100 tys. mieszkańców w danej grupie wiekowej",
         "offsetgroup": "2",
         "text": [
          0.014473681925208117,
          0,
          0.07437254210369057,
          0.1311126349312904,
          0.5010777346943719,
          1.3126285445378785,
          7.030550482569836,
          14.121331526500247,
          31.728069294103342
         ],
         "textposition": "outside",
         "texttemplate": "%{text:2.1f}",
         "type": "bar",
         "x": [
          "0-18",
          "19-24",
          "25-34",
          "35-44",
          "45-54",
          "55-64",
          "65-74",
          "75-84",
          "85-94"
         ],
         "y": [
          0.014473681925208117,
          0,
          0.07437254210369057,
          0.1311126349312904,
          0.5010777346943719,
          1.3126285445378785,
          7.030550482569836,
          14.121331526500247,
          31.728069294103342
         ]
        }
       ],
       "layout": {
        "barmode": "group",
        "height": 500,
        "legend": {
         "title": {
          "text": ""
         },
         "x": 0.5,
         "xanchor": "center",
         "y": -0.25
        },
        "template": {
         "data": {
          "bar": [
           {
            "error_x": {
             "color": "#2a3f5f"
            },
            "error_y": {
             "color": "#2a3f5f"
            },
            "marker": {
             "line": {
              "color": "#E5ECF6",
              "width": 0.5
             }
            },
            "type": "bar"
           }
          ],
          "barpolar": [
           {
            "marker": {
             "line": {
              "color": "#E5ECF6",
              "width": 0.5
             }
            },
            "type": "barpolar"
           }
          ],
          "carpet": [
           {
            "aaxis": {
             "endlinecolor": "#2a3f5f",
             "gridcolor": "white",
             "linecolor": "white",
             "minorgridcolor": "white",
             "startlinecolor": "#2a3f5f"
            },
            "baxis": {
             "endlinecolor": "#2a3f5f",
             "gridcolor": "white",
             "linecolor": "white",
             "minorgridcolor": "white",
             "startlinecolor": "#2a3f5f"
            },
            "type": "carpet"
           }
          ],
          "choropleth": [
           {
            "colorbar": {
             "outlinewidth": 0,
             "ticks": ""
            },
            "type": "choropleth"
           }
          ],
          "contour": [
           {
            "colorbar": {
             "outlinewidth": 0,
             "ticks": ""
            },
            "colorscale": [
             [
              0,
              "#0d0887"
             ],
             [
              0.1111111111111111,
              "#46039f"
             ],
             [
              0.2222222222222222,
              "#7201a8"
             ],
             [
              0.3333333333333333,
              "#9c179e"
             ],
             [
              0.4444444444444444,
              "#bd3786"
             ],
             [
              0.5555555555555556,
              "#d8576b"
             ],
             [
              0.6666666666666666,
              "#ed7953"
             ],
             [
              0.7777777777777778,
              "#fb9f3a"
             ],
             [
              0.8888888888888888,
              "#fdca26"
             ],
             [
              1,
              "#f0f921"
             ]
            ],
            "type": "contour"
           }
          ],
          "contourcarpet": [
           {
            "colorbar": {
             "outlinewidth": 0,
             "ticks": ""
            },
            "type": "contourcarpet"
           }
          ],
          "heatmap": [
           {
            "colorbar": {
             "outlinewidth": 0,
             "ticks": ""
            },
            "colorscale": [
             [
              0,
              "#0d0887"
             ],
             [
              0.1111111111111111,
              "#46039f"
             ],
             [
              0.2222222222222222,
              "#7201a8"
             ],
             [
              0.3333333333333333,
              "#9c179e"
             ],
             [
              0.4444444444444444,
              "#bd3786"
             ],
             [
              0.5555555555555556,
              "#d8576b"
             ],
             [
              0.6666666666666666,
              "#ed7953"
             ],
             [
              0.7777777777777778,
              "#fb9f3a"
             ],
             [
              0.8888888888888888,
              "#fdca26"
             ],
             [
              1,
              "#f0f921"
             ]
            ],
            "type": "heatmap"
           }
          ],
          "heatmapgl": [
           {
            "colorbar": {
             "outlinewidth": 0,
             "ticks": ""
            },
            "colorscale": [
             [
              0,
              "#0d0887"
             ],
             [
              0.1111111111111111,
              "#46039f"
             ],
             [
              0.2222222222222222,
              "#7201a8"
             ],
             [
              0.3333333333333333,
              "#9c179e"
             ],
             [
              0.4444444444444444,
              "#bd3786"
             ],
             [
              0.5555555555555556,
              "#d8576b"
             ],
             [
              0.6666666666666666,
              "#ed7953"
             ],
             [
              0.7777777777777778,
              "#fb9f3a"
             ],
             [
              0.8888888888888888,
              "#fdca26"
             ],
             [
              1,
              "#f0f921"
             ]
            ],
            "type": "heatmapgl"
           }
          ],
          "histogram": [
           {
            "marker": {
             "colorbar": {
              "outlinewidth": 0,
              "ticks": ""
             }
            },
            "type": "histogram"
           }
          ],
          "histogram2d": [
           {
            "colorbar": {
             "outlinewidth": 0,
             "ticks": ""
            },
            "colorscale": [
             [
              0,
              "#0d0887"
             ],
             [
              0.1111111111111111,
              "#46039f"
             ],
             [
              0.2222222222222222,
              "#7201a8"
             ],
             [
              0.3333333333333333,
              "#9c179e"
             ],
             [
              0.4444444444444444,
              "#bd3786"
             ],
             [
              0.5555555555555556,
              "#d8576b"
             ],
             [
              0.6666666666666666,
              "#ed7953"
             ],
             [
              0.7777777777777778,
              "#fb9f3a"
             ],
             [
              0.8888888888888888,
              "#fdca26"
             ],
             [
              1,
              "#f0f921"
             ]
            ],
            "type": "histogram2d"
           }
          ],
          "histogram2dcontour": [
           {
            "colorbar": {
             "outlinewidth": 0,
             "ticks": ""
            },
            "colorscale": [
             [
              0,
              "#0d0887"
             ],
             [
              0.1111111111111111,
              "#46039f"
             ],
             [
              0.2222222222222222,
              "#7201a8"
             ],
             [
              0.3333333333333333,
              "#9c179e"
             ],
             [
              0.4444444444444444,
              "#bd3786"
             ],
             [
              0.5555555555555556,
              "#d8576b"
             ],
             [
              0.6666666666666666,
              "#ed7953"
             ],
             [
              0.7777777777777778,
              "#fb9f3a"
             ],
             [
              0.8888888888888888,
              "#fdca26"
             ],
             [
              1,
              "#f0f921"
             ]
            ],
            "type": "histogram2dcontour"
           }
          ],
          "mesh3d": [
           {
            "colorbar": {
             "outlinewidth": 0,
             "ticks": ""
            },
            "type": "mesh3d"
           }
          ],
          "parcoords": [
           {
            "line": {
             "colorbar": {
              "outlinewidth": 0,
              "ticks": ""
             }
            },
            "type": "parcoords"
           }
          ],
          "pie": [
           {
            "automargin": true,
            "type": "pie"
           }
          ],
          "scatter": [
           {
            "marker": {
             "colorbar": {
              "outlinewidth": 0,
              "ticks": ""
             }
            },
            "type": "scatter"
           }
          ],
          "scatter3d": [
           {
            "line": {
             "colorbar": {
              "outlinewidth": 0,
              "ticks": ""
             }
            },
            "marker": {
             "colorbar": {
              "outlinewidth": 0,
              "ticks": ""
             }
            },
            "type": "scatter3d"
           }
          ],
          "scattercarpet": [
           {
            "marker": {
             "colorbar": {
              "outlinewidth": 0,
              "ticks": ""
             }
            },
            "type": "scattercarpet"
           }
          ],
          "scattergeo": [
           {
            "marker": {
             "colorbar": {
              "outlinewidth": 0,
              "ticks": ""
             }
            },
            "type": "scattergeo"
           }
          ],
          "scattergl": [
           {
            "marker": {
             "colorbar": {
              "outlinewidth": 0,
              "ticks": ""
             }
            },
            "type": "scattergl"
           }
          ],
          "scattermapbox": [
           {
            "marker": {
             "colorbar": {
              "outlinewidth": 0,
              "ticks": ""
             }
            },
            "type": "scattermapbox"
           }
          ],
          "scatterpolar": [
           {
            "marker": {
             "colorbar": {
              "outlinewidth": 0,
              "ticks": ""
             }
            },
            "type": "scatterpolar"
           }
          ],
          "scatterpolargl": [
           {
            "marker": {
             "colorbar": {
              "outlinewidth": 0,
              "ticks": ""
             }
            },
            "type": "scatterpolargl"
           }
          ],
          "scatterternary": [
           {
            "marker": {
             "colorbar": {
              "outlinewidth": 0,
              "ticks": ""
             }
            },
            "type": "scatterternary"
           }
          ],
          "surface": [
           {
            "colorbar": {
             "outlinewidth": 0,
             "ticks": ""
            },
            "colorscale": [
             [
              0,
              "#0d0887"
             ],
             [
              0.1111111111111111,
              "#46039f"
             ],
             [
              0.2222222222222222,
              "#7201a8"
             ],
             [
              0.3333333333333333,
              "#9c179e"
             ],
             [
              0.4444444444444444,
              "#bd3786"
             ],
             [
              0.5555555555555556,
              "#d8576b"
             ],
             [
              0.6666666666666666,
              "#ed7953"
             ],
             [
              0.7777777777777778,
              "#fb9f3a"
             ],
             [
              0.8888888888888888,
              "#fdca26"
             ],
             [
              1,
              "#f0f921"
             ]
            ],
            "type": "surface"
           }
          ],
          "table": [
           {
            "cells": {
             "fill": {
              "color": "#EBF0F8"
             },
             "line": {
              "color": "white"
             }
            },
            "header": {
             "fill": {
              "color": "#C8D4E3"
             },
             "line": {
              "color": "white"
             }
            },
            "type": "table"
           }
          ]
         },
         "layout": {
          "annotationdefaults": {
           "arrowcolor": "#2a3f5f",
           "arrowhead": 0,
           "arrowwidth": 1
          },
          "coloraxis": {
           "colorbar": {
            "outlinewidth": 0,
            "ticks": ""
           }
          },
          "colorscale": {
           "diverging": [
            [
             0,
             "#8e0152"
            ],
            [
             0.1,
             "#c51b7d"
            ],
            [
             0.2,
             "#de77ae"
            ],
            [
             0.3,
             "#f1b6da"
            ],
            [
             0.4,
             "#fde0ef"
            ],
            [
             0.5,
             "#f7f7f7"
            ],
            [
             0.6,
             "#e6f5d0"
            ],
            [
             0.7,
             "#b8e186"
            ],
            [
             0.8,
             "#7fbc41"
            ],
            [
             0.9,
             "#4d9221"
            ],
            [
             1,
             "#276419"
            ]
           ],
           "sequential": [
            [
             0,
             "#0d0887"
            ],
            [
             0.1111111111111111,
             "#46039f"
            ],
            [
             0.2222222222222222,
             "#7201a8"
            ],
            [
             0.3333333333333333,
             "#9c179e"
            ],
            [
             0.4444444444444444,
             "#bd3786"
            ],
            [
             0.5555555555555556,
             "#d8576b"
            ],
            [
             0.6666666666666666,
             "#ed7953"
            ],
            [
             0.7777777777777778,
             "#fb9f3a"
            ],
            [
             0.8888888888888888,
             "#fdca26"
            ],
            [
             1,
             "#f0f921"
            ]
           ],
           "sequentialminus": [
            [
             0,
             "#0d0887"
            ],
            [
             0.1111111111111111,
             "#46039f"
            ],
            [
             0.2222222222222222,
             "#7201a8"
            ],
            [
             0.3333333333333333,
             "#9c179e"
            ],
            [
             0.4444444444444444,
             "#bd3786"
            ],
            [
             0.5555555555555556,
             "#d8576b"
            ],
            [
             0.6666666666666666,
             "#ed7953"
            ],
            [
             0.7777777777777778,
             "#fb9f3a"
            ],
            [
             0.8888888888888888,
             "#fdca26"
            ],
            [
             1,
             "#f0f921"
            ]
           ]
          },
          "colorway": [
           "#636efa",
           "#EF553B",
           "#00cc96",
           "#ab63fa",
           "#FFA15A",
           "#19d3f3",
           "#FF6692",
           "#B6E880",
           "#FF97FF",
           "#FECB52"
          ],
          "font": {
           "color": "#2a3f5f"
          },
          "geo": {
           "bgcolor": "white",
           "lakecolor": "white",
           "landcolor": "#E5ECF6",
           "showlakes": true,
           "showland": true,
           "subunitcolor": "white"
          },
          "hoverlabel": {
           "align": "left"
          },
          "hovermode": "closest",
          "mapbox": {
           "style": "light"
          },
          "paper_bgcolor": "white",
          "plot_bgcolor": "#E5ECF6",
          "polar": {
           "angularaxis": {
            "gridcolor": "white",
            "linecolor": "white",
            "ticks": ""
           },
           "bgcolor": "#E5ECF6",
           "radialaxis": {
            "gridcolor": "white",
            "linecolor": "white",
            "ticks": ""
           }
          },
          "scene": {
           "xaxis": {
            "backgroundcolor": "#E5ECF6",
            "gridcolor": "white",
            "gridwidth": 2,
            "linecolor": "white",
            "showbackground": true,
            "ticks": "",
            "zerolinecolor": "white"
           },
           "yaxis": {
            "backgroundcolor": "#E5ECF6",
            "gridcolor": "white",
            "gridwidth": 2,
            "linecolor": "white",
            "showbackground": true,
            "ticks": "",
            "zerolinecolor": "white"
           },
           "zaxis": {
            "backgroundcolor": "#E5ECF6",
            "gridcolor": "white",
            "gridwidth": 2,
            "linecolor": "white",
            "showbackground": true,
            "ticks": "",
            "zerolinecolor": "white"
           }
          },
          "shapedefaults": {
           "line": {
            "color": "#2a3f5f"
           }
          },
          "ternary": {
           "aaxis": {
            "gridcolor": "white",
            "linecolor": "white",
            "ticks": ""
           },
           "baxis": {
            "gridcolor": "white",
            "linecolor": "white",
            "ticks": ""
           },
           "bgcolor": "#E5ECF6",
           "caxis": {
            "gridcolor": "white",
            "linecolor": "white",
            "ticks": ""
           }
          },
          "title": {
           "x": 0.05
          },
          "xaxis": {
           "automargin": true,
           "gridcolor": "white",
           "linecolor": "white",
           "ticks": "",
           "title": {
            "standoff": 15
           },
           "zerolinecolor": "white",
           "zerolinewidth": 2
          },
          "yaxis": {
           "automargin": true,
           "gridcolor": "white",
           "linecolor": "white",
           "ticks": "",
           "title": {
            "standoff": 15
           },
           "zerolinecolor": "white",
           "zerolinewidth": 2
          }
         }
        },
        "title": {
         "font": {
          "size": 16
         },
         "text": "Liczba zgonów na COVID-19 mieszkańców w danej grupie wiekowej bez chorób współistniejących<br>na 100 tys. mieszkańców w danej grupie wiekowej<br>w podziale na w pełni zaszczepionych i nie w pełni zaszczepionych (od 2021-07-14)",
         "x": 0.5,
         "xanchor": "center"
        },
        "uniformtext": {
         "minsize": 6,
         "mode": "show"
        },
        "width": 800,
        "xaxis": {
         "tickangle": 33
        },
        "yaxis": {
         "title": {
          "text": "Liczba zgonów na 100 tys."
         }
        }
       }
      }
     },
     "metadata": {},
     "output_type": "display_data"
    }
   ],
   "source": [
    "x_col = \"Grupa wiekowa\"\n",
    "title_str = \"bez chorób współistniejących\" #\"w Polsce\" #\"w województwach\"\n",
    "filename_str = \"wiek_ogolem_bez_wspol\"\n",
    "denominator_col = \"mieszkańców w danej grupie wiekowej\"\n",
    "title = \"Liczba zgonów na COVID-19 \" + denominator_col + \" \" + title_str + \"<br>na 100 tys. \"+ denominator_col +\\\n",
    "        \"<br>w podziale na w pełni zaszczepionych i nie w pełni zaszczepionych (od \" + str(from_date) + \")\"\n",
    "df_to_plot = df_bez_wspol[:-1].fillna(0)\n",
    "\n",
    "plot_df2(\n",
    "    x_col=x_col, \n",
    "    denominator_col=denominator_col, \n",
    "    title=title , \n",
    "    filename_str=filename_str,  \n",
    "    from_date = from_date, \n",
    "    df = df_to_plot, \n",
    "    image_dir = basiw.image_dir\n",
    "    )"
   ]
  },
  {
   "cell_type": "markdown",
   "metadata": {},
   "source": [
    "## Udział współistniejących wg województw"
   ]
  },
  {
   "cell_type": "markdown",
   "metadata": {},
   "source": []
  },
  {
   "cell_type": "code",
   "execution_count": 24,
   "metadata": {},
   "outputs": [],
   "source": [
    "def plot_df3(df : pd.DataFrame, image_dir : str, filename : str) -> None:\n",
    "    tak = 'Współistniejące [%]'\n",
    "    nie = 'Brak współistniejących [%]'\n",
    "\n",
    "    fig = go.Figure(\n",
    "        data=[\n",
    "            go.Bar(\n",
    "                name = tak, \n",
    "                x=df['Województwo'], \n",
    "                y=df[tak], \n",
    "                offsetgroup=1,\n",
    "                text = df[tak]\n",
    "                ),\n",
    "            go.Bar(\n",
    "                name = nie, \n",
    "                x=df['Województwo'], \n",
    "                y=df[nie], \n",
    "                offsetgroup=2,\n",
    "                text = df[nie]\n",
    "                )\n",
    "        ]\n",
    "    )\n",
    "\n",
    "    fig.update_traces(\n",
    "        texttemplate='%{text:2.1f}', \n",
    "        textposition='outside',\n",
    "        )\n",
    "\n",
    "    fig.update_layout(\n",
    "        barmode='group', \n",
    "        width=800, \n",
    "        height=500,\n",
    "        title = \"Procent zgonów na COVID-19 w województwach w podziale na występowanie chorób współistniejących<br>(Od 14.07.2021)\",\n",
    "        yaxis_title=\"Procent zgonów\",\n",
    "        legend_title=\"\",\n",
    "        uniformtext_minsize=8, \n",
    "        uniformtext_mode='show',\n",
    "        legend=dict(\n",
    "            y=-0.5,\n",
    "            xanchor=\"center\",\n",
    "            x=0.5\n",
    "            ),\n",
    "        title_xanchor='center',\n",
    "        title_x = 0.5,\n",
    "        title_font_size=16\n",
    "        )\n",
    "    fig.update_xaxes(tickangle=33)\n",
    "    fig.show()\n",
    "    fig.write_image(os.sep.join([image_dir, filename]), scale=4) #zgony_wspolist_4fala.jpg\n",
    "    return\n",
    "\n",
    "\n"
   ]
  },
  {
   "cell_type": "code",
   "execution_count": 25,
   "metadata": {},
   "outputs": [
    {
     "data": {
      "text/html": [
       "<div>\n",
       "<style scoped>\n",
       "    .dataframe tbody tr th:only-of-type {\n",
       "        vertical-align: middle;\n",
       "    }\n",
       "\n",
       "    .dataframe tbody tr th {\n",
       "        vertical-align: top;\n",
       "    }\n",
       "\n",
       "    .dataframe thead th {\n",
       "        text-align: right;\n",
       "    }\n",
       "</style>\n",
       "<table border=\"1\" class=\"dataframe\">\n",
       "  <thead>\n",
       "    <tr style=\"text-align: right;\">\n",
       "      <th></th>\n",
       "      <th>liczba_zaraportowanych_zgonow</th>\n",
       "      <th>Współistniejące</th>\n",
       "      <th>Brak współistniejących</th>\n",
       "      <th>Współistniejące [%]</th>\n",
       "      <th>Brak współistniejących [%]</th>\n",
       "      <th>Województwo</th>\n",
       "    </tr>\n",
       "    <tr>\n",
       "      <th>Województwo</th>\n",
       "      <th></th>\n",
       "      <th></th>\n",
       "      <th></th>\n",
       "      <th></th>\n",
       "      <th></th>\n",
       "      <th></th>\n",
       "    </tr>\n",
       "  </thead>\n",
       "  <tbody>\n",
       "    <tr>\n",
       "      <th>Podlaskie</th>\n",
       "      <td>872</td>\n",
       "      <td>809</td>\n",
       "      <td>63</td>\n",
       "      <td>92.775229</td>\n",
       "      <td>7.224771</td>\n",
       "      <td>Podlaskie</td>\n",
       "    </tr>\n",
       "    <tr>\n",
       "      <th>Zachodniopomorskie</th>\n",
       "      <td>520</td>\n",
       "      <td>476</td>\n",
       "      <td>44</td>\n",
       "      <td>91.538462</td>\n",
       "      <td>8.461538</td>\n",
       "      <td>Zachodniopomorskie</td>\n",
       "    </tr>\n",
       "    <tr>\n",
       "      <th>Podkarpackie</th>\n",
       "      <td>943</td>\n",
       "      <td>832</td>\n",
       "      <td>111</td>\n",
       "      <td>88.229056</td>\n",
       "      <td>11.770944</td>\n",
       "      <td>Podkarpackie</td>\n",
       "    </tr>\n",
       "    <tr>\n",
       "      <th>Opolskie</th>\n",
       "      <td>435</td>\n",
       "      <td>378</td>\n",
       "      <td>57</td>\n",
       "      <td>86.896552</td>\n",
       "      <td>13.103448</td>\n",
       "      <td>Opolskie</td>\n",
       "    </tr>\n",
       "    <tr>\n",
       "      <th>Pomorskie</th>\n",
       "      <td>515</td>\n",
       "      <td>445</td>\n",
       "      <td>70</td>\n",
       "      <td>86.407767</td>\n",
       "      <td>13.592233</td>\n",
       "      <td>Pomorskie</td>\n",
       "    </tr>\n",
       "    <tr>\n",
       "      <th>Świętokrzyskie</th>\n",
       "      <td>461</td>\n",
       "      <td>392</td>\n",
       "      <td>69</td>\n",
       "      <td>85.032538</td>\n",
       "      <td>14.967462</td>\n",
       "      <td>Świętokrzyskie</td>\n",
       "    </tr>\n",
       "    <tr>\n",
       "      <th>Kujawsko-Pomorskie</th>\n",
       "      <td>767</td>\n",
       "      <td>608</td>\n",
       "      <td>159</td>\n",
       "      <td>79.269883</td>\n",
       "      <td>20.730117</td>\n",
       "      <td>Kujawsko-Pomorskie</td>\n",
       "    </tr>\n",
       "    <tr>\n",
       "      <th>Lubelskie</th>\n",
       "      <td>1921</td>\n",
       "      <td>1507</td>\n",
       "      <td>414</td>\n",
       "      <td>78.448725</td>\n",
       "      <td>21.551275</td>\n",
       "      <td>Lubelskie</td>\n",
       "    </tr>\n",
       "    <tr>\n",
       "      <th>Łódzkie</th>\n",
       "      <td>911</td>\n",
       "      <td>645</td>\n",
       "      <td>266</td>\n",
       "      <td>70.801317</td>\n",
       "      <td>29.198683</td>\n",
       "      <td>Łódzkie</td>\n",
       "    </tr>\n",
       "    <tr>\n",
       "      <th>Mazowieckie</th>\n",
       "      <td>1992</td>\n",
       "      <td>1408</td>\n",
       "      <td>584</td>\n",
       "      <td>70.682731</td>\n",
       "      <td>29.317269</td>\n",
       "      <td>Mazowieckie</td>\n",
       "    </tr>\n",
       "    <tr>\n",
       "      <th>Śląskie</th>\n",
       "      <td>1232</td>\n",
       "      <td>831</td>\n",
       "      <td>401</td>\n",
       "      <td>67.451299</td>\n",
       "      <td>32.548701</td>\n",
       "      <td>Śląskie</td>\n",
       "    </tr>\n",
       "    <tr>\n",
       "      <th>Warmińsko-Mazurskie</th>\n",
       "      <td>524</td>\n",
       "      <td>327</td>\n",
       "      <td>197</td>\n",
       "      <td>62.404580</td>\n",
       "      <td>37.595420</td>\n",
       "      <td>Warmińsko-Mazurskie</td>\n",
       "    </tr>\n",
       "    <tr>\n",
       "      <th>Wielkopolskie</th>\n",
       "      <td>790</td>\n",
       "      <td>489</td>\n",
       "      <td>301</td>\n",
       "      <td>61.898734</td>\n",
       "      <td>38.101266</td>\n",
       "      <td>Wielkopolskie</td>\n",
       "    </tr>\n",
       "    <tr>\n",
       "      <th>Lubuskie</th>\n",
       "      <td>250</td>\n",
       "      <td>120</td>\n",
       "      <td>130</td>\n",
       "      <td>48.000000</td>\n",
       "      <td>52.000000</td>\n",
       "      <td>Lubuskie</td>\n",
       "    </tr>\n",
       "    <tr>\n",
       "      <th>Małopolskie</th>\n",
       "      <td>1121</td>\n",
       "      <td>538</td>\n",
       "      <td>583</td>\n",
       "      <td>47.992864</td>\n",
       "      <td>52.007136</td>\n",
       "      <td>Małopolskie</td>\n",
       "    </tr>\n",
       "    <tr>\n",
       "      <th>Dolnośląskie</th>\n",
       "      <td>611</td>\n",
       "      <td>246</td>\n",
       "      <td>365</td>\n",
       "      <td>40.261866</td>\n",
       "      <td>59.738134</td>\n",
       "      <td>Dolnośląskie</td>\n",
       "    </tr>\n",
       "  </tbody>\n",
       "</table>\n",
       "</div>"
      ],
      "text/plain": [
       "                     liczba_zaraportowanych_zgonow  Współistniejące  \\\n",
       "Województwo                                                           \n",
       "Podlaskie                                      872              809   \n",
       "Zachodniopomorskie                             520              476   \n",
       "Podkarpackie                                   943              832   \n",
       "Opolskie                                       435              378   \n",
       "Pomorskie                                      515              445   \n",
       "Świętokrzyskie                                 461              392   \n",
       "Kujawsko-Pomorskie                             767              608   \n",
       "Lubelskie                                     1921             1507   \n",
       "Łódzkie                                        911              645   \n",
       "Mazowieckie                                   1992             1408   \n",
       "Śląskie                                       1232              831   \n",
       "Warmińsko-Mazurskie                            524              327   \n",
       "Wielkopolskie                                  790              489   \n",
       "Lubuskie                                       250              120   \n",
       "Małopolskie                                   1121              538   \n",
       "Dolnośląskie                                   611              246   \n",
       "\n",
       "                     Brak współistniejących  Współistniejące [%]  \\\n",
       "Województwo                                                        \n",
       "Podlaskie                                63            92.775229   \n",
       "Zachodniopomorskie                       44            91.538462   \n",
       "Podkarpackie                            111            88.229056   \n",
       "Opolskie                                 57            86.896552   \n",
       "Pomorskie                                70            86.407767   \n",
       "Świętokrzyskie                           69            85.032538   \n",
       "Kujawsko-Pomorskie                      159            79.269883   \n",
       "Lubelskie                               414            78.448725   \n",
       "Łódzkie                                 266            70.801317   \n",
       "Mazowieckie                             584            70.682731   \n",
       "Śląskie                                 401            67.451299   \n",
       "Warmińsko-Mazurskie                     197            62.404580   \n",
       "Wielkopolskie                           301            61.898734   \n",
       "Lubuskie                                130            48.000000   \n",
       "Małopolskie                             583            47.992864   \n",
       "Dolnośląskie                            365            40.261866   \n",
       "\n",
       "                     Brak współistniejących [%]          Województwo  \n",
       "Województwo                                                           \n",
       "Podlaskie                              7.224771            Podlaskie  \n",
       "Zachodniopomorskie                     8.461538   Zachodniopomorskie  \n",
       "Podkarpackie                          11.770944         Podkarpackie  \n",
       "Opolskie                              13.103448             Opolskie  \n",
       "Pomorskie                             13.592233            Pomorskie  \n",
       "Świętokrzyskie                        14.967462       Świętokrzyskie  \n",
       "Kujawsko-Pomorskie                    20.730117   Kujawsko-Pomorskie  \n",
       "Lubelskie                             21.551275            Lubelskie  \n",
       "Łódzkie                               29.198683              Łódzkie  \n",
       "Mazowieckie                           29.317269          Mazowieckie  \n",
       "Śląskie                               32.548701              Śląskie  \n",
       "Warmińsko-Mazurskie                   37.595420  Warmińsko-Mazurskie  \n",
       "Wielkopolskie                         38.101266        Wielkopolskie  \n",
       "Lubuskie                              52.000000             Lubuskie  \n",
       "Małopolskie                           52.007136          Małopolskie  \n",
       "Dolnośląskie                          59.738134         Dolnośląskie  "
      ]
     },
     "execution_count": 25,
     "metadata": {},
     "output_type": "execute_result"
    }
   ],
   "source": [
    "wave4_date = datetime.date(2021, 7, 14)\n",
    "dfd4 = basiw.dfd_from(wave4_date)\n",
    "\n",
    "df = dfd4.groupby('Województwo').sum().drop(columns=['teryt_woj', 'teryt_pow', 'wiek'])\n",
    "\n",
    "Q = f'(czy_wspolistniejace == \"T\")'\n",
    "dfwt = dfd4.query(Q)\n",
    "\n",
    "df['Współistniejące'] = dfwt.groupby('Województwo').sum().drop(columns=['teryt_woj', 'teryt_pow', 'wiek'])\n",
    "\n",
    "\n",
    "Q = f'(czy_wspolistniejace == \"N\")'\n",
    "dfwt = dfd4.query(Q)\n",
    "df['Brak współistniejących'] = dfwt.groupby('Województwo').sum().drop(columns=['teryt_woj', 'teryt_pow', 'wiek'])\n",
    "df['Współistniejące [%]'] = df['Współistniejące'] / df['liczba_zaraportowanych_zgonow'] *100\n",
    "df['Brak współistniejących [%]'] = df['Brak współistniejących'] / df['liczba_zaraportowanych_zgonow'] *100\n",
    "df = df.sort_values(['Współistniejące [%]'], ascending=False)\n",
    "df['Województwo'] = df.index\n",
    "\n",
    "df"
   ]
  },
  {
   "cell_type": "code",
   "execution_count": 26,
   "metadata": {},
   "outputs": [
    {
     "data": {
      "application/vnd.plotly.v1+json": {
       "config": {
        "plotlyServerURL": "https://plot.ly"
       },
       "data": [
        {
         "name": "Współistniejące [%]",
         "offsetgroup": "1",
         "text": [
          92.77522935779817,
          91.53846153846153,
          88.22905620360551,
          86.89655172413792,
          86.40776699029125,
          85.03253796095444,
          79.26988265971316,
          78.44872462259241,
          70.801317233809,
          70.68273092369478,
          67.4512987012987,
          62.40458015267175,
          61.89873417721519,
          48,
          47.992863514719005,
          40.261865793780686
         ],
         "textposition": "outside",
         "texttemplate": "%{text:2.1f}",
         "type": "bar",
         "x": [
          "Podlaskie",
          "Zachodniopomorskie",
          "Podkarpackie",
          "Opolskie",
          "Pomorskie",
          "Świętokrzyskie",
          "Kujawsko-Pomorskie",
          "Lubelskie",
          "Łódzkie",
          "Mazowieckie",
          "Śląskie",
          "Warmińsko-Mazurskie",
          "Wielkopolskie",
          "Lubuskie",
          "Małopolskie",
          "Dolnośląskie"
         ],
         "y": [
          92.77522935779817,
          91.53846153846153,
          88.22905620360551,
          86.89655172413792,
          86.40776699029125,
          85.03253796095444,
          79.26988265971316,
          78.44872462259241,
          70.801317233809,
          70.68273092369478,
          67.4512987012987,
          62.40458015267175,
          61.89873417721519,
          48,
          47.992863514719005,
          40.261865793780686
         ]
        },
        {
         "name": "Brak współistniejących [%]",
         "offsetgroup": "2",
         "text": [
          7.224770642201834,
          8.461538461538462,
          11.770943796394485,
          13.10344827586207,
          13.592233009708737,
          14.967462039045554,
          20.73011734028683,
          21.5512753774076,
          29.198682766191,
          29.31726907630522,
          32.548701298701296,
          37.595419847328245,
          38.10126582278481,
          52,
          52.007136485281,
          59.738134206219314
         ],
         "textposition": "outside",
         "texttemplate": "%{text:2.1f}",
         "type": "bar",
         "x": [
          "Podlaskie",
          "Zachodniopomorskie",
          "Podkarpackie",
          "Opolskie",
          "Pomorskie",
          "Świętokrzyskie",
          "Kujawsko-Pomorskie",
          "Lubelskie",
          "Łódzkie",
          "Mazowieckie",
          "Śląskie",
          "Warmińsko-Mazurskie",
          "Wielkopolskie",
          "Lubuskie",
          "Małopolskie",
          "Dolnośląskie"
         ],
         "y": [
          7.224770642201834,
          8.461538461538462,
          11.770943796394485,
          13.10344827586207,
          13.592233009708737,
          14.967462039045554,
          20.73011734028683,
          21.5512753774076,
          29.198682766191,
          29.31726907630522,
          32.548701298701296,
          37.595419847328245,
          38.10126582278481,
          52,
          52.007136485281,
          59.738134206219314
         ]
        }
       ],
       "layout": {
        "barmode": "group",
        "height": 500,
        "legend": {
         "title": {
          "text": ""
         },
         "x": 0.5,
         "xanchor": "center",
         "y": -0.5
        },
        "template": {
         "data": {
          "bar": [
           {
            "error_x": {
             "color": "#2a3f5f"
            },
            "error_y": {
             "color": "#2a3f5f"
            },
            "marker": {
             "line": {
              "color": "#E5ECF6",
              "width": 0.5
             }
            },
            "type": "bar"
           }
          ],
          "barpolar": [
           {
            "marker": {
             "line": {
              "color": "#E5ECF6",
              "width": 0.5
             }
            },
            "type": "barpolar"
           }
          ],
          "carpet": [
           {
            "aaxis": {
             "endlinecolor": "#2a3f5f",
             "gridcolor": "white",
             "linecolor": "white",
             "minorgridcolor": "white",
             "startlinecolor": "#2a3f5f"
            },
            "baxis": {
             "endlinecolor": "#2a3f5f",
             "gridcolor": "white",
             "linecolor": "white",
             "minorgridcolor": "white",
             "startlinecolor": "#2a3f5f"
            },
            "type": "carpet"
           }
          ],
          "choropleth": [
           {
            "colorbar": {
             "outlinewidth": 0,
             "ticks": ""
            },
            "type": "choropleth"
           }
          ],
          "contour": [
           {
            "colorbar": {
             "outlinewidth": 0,
             "ticks": ""
            },
            "colorscale": [
             [
              0,
              "#0d0887"
             ],
             [
              0.1111111111111111,
              "#46039f"
             ],
             [
              0.2222222222222222,
              "#7201a8"
             ],
             [
              0.3333333333333333,
              "#9c179e"
             ],
             [
              0.4444444444444444,
              "#bd3786"
             ],
             [
              0.5555555555555556,
              "#d8576b"
             ],
             [
              0.6666666666666666,
              "#ed7953"
             ],
             [
              0.7777777777777778,
              "#fb9f3a"
             ],
             [
              0.8888888888888888,
              "#fdca26"
             ],
             [
              1,
              "#f0f921"
             ]
            ],
            "type": "contour"
           }
          ],
          "contourcarpet": [
           {
            "colorbar": {
             "outlinewidth": 0,
             "ticks": ""
            },
            "type": "contourcarpet"
           }
          ],
          "heatmap": [
           {
            "colorbar": {
             "outlinewidth": 0,
             "ticks": ""
            },
            "colorscale": [
             [
              0,
              "#0d0887"
             ],
             [
              0.1111111111111111,
              "#46039f"
             ],
             [
              0.2222222222222222,
              "#7201a8"
             ],
             [
              0.3333333333333333,
              "#9c179e"
             ],
             [
              0.4444444444444444,
              "#bd3786"
             ],
             [
              0.5555555555555556,
              "#d8576b"
             ],
             [
              0.6666666666666666,
              "#ed7953"
             ],
             [
              0.7777777777777778,
              "#fb9f3a"
             ],
             [
              0.8888888888888888,
              "#fdca26"
             ],
             [
              1,
              "#f0f921"
             ]
            ],
            "type": "heatmap"
           }
          ],
          "heatmapgl": [
           {
            "colorbar": {
             "outlinewidth": 0,
             "ticks": ""
            },
            "colorscale": [
             [
              0,
              "#0d0887"
             ],
             [
              0.1111111111111111,
              "#46039f"
             ],
             [
              0.2222222222222222,
              "#7201a8"
             ],
             [
              0.3333333333333333,
              "#9c179e"
             ],
             [
              0.4444444444444444,
              "#bd3786"
             ],
             [
              0.5555555555555556,
              "#d8576b"
             ],
             [
              0.6666666666666666,
              "#ed7953"
             ],
             [
              0.7777777777777778,
              "#fb9f3a"
             ],
             [
              0.8888888888888888,
              "#fdca26"
             ],
             [
              1,
              "#f0f921"
             ]
            ],
            "type": "heatmapgl"
           }
          ],
          "histogram": [
           {
            "marker": {
             "colorbar": {
              "outlinewidth": 0,
              "ticks": ""
             }
            },
            "type": "histogram"
           }
          ],
          "histogram2d": [
           {
            "colorbar": {
             "outlinewidth": 0,
             "ticks": ""
            },
            "colorscale": [
             [
              0,
              "#0d0887"
             ],
             [
              0.1111111111111111,
              "#46039f"
             ],
             [
              0.2222222222222222,
              "#7201a8"
             ],
             [
              0.3333333333333333,
              "#9c179e"
             ],
             [
              0.4444444444444444,
              "#bd3786"
             ],
             [
              0.5555555555555556,
              "#d8576b"
             ],
             [
              0.6666666666666666,
              "#ed7953"
             ],
             [
              0.7777777777777778,
              "#fb9f3a"
             ],
             [
              0.8888888888888888,
              "#fdca26"
             ],
             [
              1,
              "#f0f921"
             ]
            ],
            "type": "histogram2d"
           }
          ],
          "histogram2dcontour": [
           {
            "colorbar": {
             "outlinewidth": 0,
             "ticks": ""
            },
            "colorscale": [
             [
              0,
              "#0d0887"
             ],
             [
              0.1111111111111111,
              "#46039f"
             ],
             [
              0.2222222222222222,
              "#7201a8"
             ],
             [
              0.3333333333333333,
              "#9c179e"
             ],
             [
              0.4444444444444444,
              "#bd3786"
             ],
             [
              0.5555555555555556,
              "#d8576b"
             ],
             [
              0.6666666666666666,
              "#ed7953"
             ],
             [
              0.7777777777777778,
              "#fb9f3a"
             ],
             [
              0.8888888888888888,
              "#fdca26"
             ],
             [
              1,
              "#f0f921"
             ]
            ],
            "type": "histogram2dcontour"
           }
          ],
          "mesh3d": [
           {
            "colorbar": {
             "outlinewidth": 0,
             "ticks": ""
            },
            "type": "mesh3d"
           }
          ],
          "parcoords": [
           {
            "line": {
             "colorbar": {
              "outlinewidth": 0,
              "ticks": ""
             }
            },
            "type": "parcoords"
           }
          ],
          "pie": [
           {
            "automargin": true,
            "type": "pie"
           }
          ],
          "scatter": [
           {
            "marker": {
             "colorbar": {
              "outlinewidth": 0,
              "ticks": ""
             }
            },
            "type": "scatter"
           }
          ],
          "scatter3d": [
           {
            "line": {
             "colorbar": {
              "outlinewidth": 0,
              "ticks": ""
             }
            },
            "marker": {
             "colorbar": {
              "outlinewidth": 0,
              "ticks": ""
             }
            },
            "type": "scatter3d"
           }
          ],
          "scattercarpet": [
           {
            "marker": {
             "colorbar": {
              "outlinewidth": 0,
              "ticks": ""
             }
            },
            "type": "scattercarpet"
           }
          ],
          "scattergeo": [
           {
            "marker": {
             "colorbar": {
              "outlinewidth": 0,
              "ticks": ""
             }
            },
            "type": "scattergeo"
           }
          ],
          "scattergl": [
           {
            "marker": {
             "colorbar": {
              "outlinewidth": 0,
              "ticks": ""
             }
            },
            "type": "scattergl"
           }
          ],
          "scattermapbox": [
           {
            "marker": {
             "colorbar": {
              "outlinewidth": 0,
              "ticks": ""
             }
            },
            "type": "scattermapbox"
           }
          ],
          "scatterpolar": [
           {
            "marker": {
             "colorbar": {
              "outlinewidth": 0,
              "ticks": ""
             }
            },
            "type": "scatterpolar"
           }
          ],
          "scatterpolargl": [
           {
            "marker": {
             "colorbar": {
              "outlinewidth": 0,
              "ticks": ""
             }
            },
            "type": "scatterpolargl"
           }
          ],
          "scatterternary": [
           {
            "marker": {
             "colorbar": {
              "outlinewidth": 0,
              "ticks": ""
             }
            },
            "type": "scatterternary"
           }
          ],
          "surface": [
           {
            "colorbar": {
             "outlinewidth": 0,
             "ticks": ""
            },
            "colorscale": [
             [
              0,
              "#0d0887"
             ],
             [
              0.1111111111111111,
              "#46039f"
             ],
             [
              0.2222222222222222,
              "#7201a8"
             ],
             [
              0.3333333333333333,
              "#9c179e"
             ],
             [
              0.4444444444444444,
              "#bd3786"
             ],
             [
              0.5555555555555556,
              "#d8576b"
             ],
             [
              0.6666666666666666,
              "#ed7953"
             ],
             [
              0.7777777777777778,
              "#fb9f3a"
             ],
             [
              0.8888888888888888,
              "#fdca26"
             ],
             [
              1,
              "#f0f921"
             ]
            ],
            "type": "surface"
           }
          ],
          "table": [
           {
            "cells": {
             "fill": {
              "color": "#EBF0F8"
             },
             "line": {
              "color": "white"
             }
            },
            "header": {
             "fill": {
              "color": "#C8D4E3"
             },
             "line": {
              "color": "white"
             }
            },
            "type": "table"
           }
          ]
         },
         "layout": {
          "annotationdefaults": {
           "arrowcolor": "#2a3f5f",
           "arrowhead": 0,
           "arrowwidth": 1
          },
          "coloraxis": {
           "colorbar": {
            "outlinewidth": 0,
            "ticks": ""
           }
          },
          "colorscale": {
           "diverging": [
            [
             0,
             "#8e0152"
            ],
            [
             0.1,
             "#c51b7d"
            ],
            [
             0.2,
             "#de77ae"
            ],
            [
             0.3,
             "#f1b6da"
            ],
            [
             0.4,
             "#fde0ef"
            ],
            [
             0.5,
             "#f7f7f7"
            ],
            [
             0.6,
             "#e6f5d0"
            ],
            [
             0.7,
             "#b8e186"
            ],
            [
             0.8,
             "#7fbc41"
            ],
            [
             0.9,
             "#4d9221"
            ],
            [
             1,
             "#276419"
            ]
           ],
           "sequential": [
            [
             0,
             "#0d0887"
            ],
            [
             0.1111111111111111,
             "#46039f"
            ],
            [
             0.2222222222222222,
             "#7201a8"
            ],
            [
             0.3333333333333333,
             "#9c179e"
            ],
            [
             0.4444444444444444,
             "#bd3786"
            ],
            [
             0.5555555555555556,
             "#d8576b"
            ],
            [
             0.6666666666666666,
             "#ed7953"
            ],
            [
             0.7777777777777778,
             "#fb9f3a"
            ],
            [
             0.8888888888888888,
             "#fdca26"
            ],
            [
             1,
             "#f0f921"
            ]
           ],
           "sequentialminus": [
            [
             0,
             "#0d0887"
            ],
            [
             0.1111111111111111,
             "#46039f"
            ],
            [
             0.2222222222222222,
             "#7201a8"
            ],
            [
             0.3333333333333333,
             "#9c179e"
            ],
            [
             0.4444444444444444,
             "#bd3786"
            ],
            [
             0.5555555555555556,
             "#d8576b"
            ],
            [
             0.6666666666666666,
             "#ed7953"
            ],
            [
             0.7777777777777778,
             "#fb9f3a"
            ],
            [
             0.8888888888888888,
             "#fdca26"
            ],
            [
             1,
             "#f0f921"
            ]
           ]
          },
          "colorway": [
           "#636efa",
           "#EF553B",
           "#00cc96",
           "#ab63fa",
           "#FFA15A",
           "#19d3f3",
           "#FF6692",
           "#B6E880",
           "#FF97FF",
           "#FECB52"
          ],
          "font": {
           "color": "#2a3f5f"
          },
          "geo": {
           "bgcolor": "white",
           "lakecolor": "white",
           "landcolor": "#E5ECF6",
           "showlakes": true,
           "showland": true,
           "subunitcolor": "white"
          },
          "hoverlabel": {
           "align": "left"
          },
          "hovermode": "closest",
          "mapbox": {
           "style": "light"
          },
          "paper_bgcolor": "white",
          "plot_bgcolor": "#E5ECF6",
          "polar": {
           "angularaxis": {
            "gridcolor": "white",
            "linecolor": "white",
            "ticks": ""
           },
           "bgcolor": "#E5ECF6",
           "radialaxis": {
            "gridcolor": "white",
            "linecolor": "white",
            "ticks": ""
           }
          },
          "scene": {
           "xaxis": {
            "backgroundcolor": "#E5ECF6",
            "gridcolor": "white",
            "gridwidth": 2,
            "linecolor": "white",
            "showbackground": true,
            "ticks": "",
            "zerolinecolor": "white"
           },
           "yaxis": {
            "backgroundcolor": "#E5ECF6",
            "gridcolor": "white",
            "gridwidth": 2,
            "linecolor": "white",
            "showbackground": true,
            "ticks": "",
            "zerolinecolor": "white"
           },
           "zaxis": {
            "backgroundcolor": "#E5ECF6",
            "gridcolor": "white",
            "gridwidth": 2,
            "linecolor": "white",
            "showbackground": true,
            "ticks": "",
            "zerolinecolor": "white"
           }
          },
          "shapedefaults": {
           "line": {
            "color": "#2a3f5f"
           }
          },
          "ternary": {
           "aaxis": {
            "gridcolor": "white",
            "linecolor": "white",
            "ticks": ""
           },
           "baxis": {
            "gridcolor": "white",
            "linecolor": "white",
            "ticks": ""
           },
           "bgcolor": "#E5ECF6",
           "caxis": {
            "gridcolor": "white",
            "linecolor": "white",
            "ticks": ""
           }
          },
          "title": {
           "x": 0.05
          },
          "xaxis": {
           "automargin": true,
           "gridcolor": "white",
           "linecolor": "white",
           "ticks": "",
           "title": {
            "standoff": 15
           },
           "zerolinecolor": "white",
           "zerolinewidth": 2
          },
          "yaxis": {
           "automargin": true,
           "gridcolor": "white",
           "linecolor": "white",
           "ticks": "",
           "title": {
            "standoff": 15
           },
           "zerolinecolor": "white",
           "zerolinewidth": 2
          }
         }
        },
        "title": {
         "font": {
          "size": 16
         },
         "text": "Procent zgonów na COVID-19 w województwach w podziale na występowanie chorób współistniejących<br>(Od 14.07.2021)",
         "x": 0.5,
         "xanchor": "center"
        },
        "uniformtext": {
         "minsize": 8,
         "mode": "show"
        },
        "width": 800,
        "xaxis": {
         "tickangle": 33
        },
        "yaxis": {
         "title": {
          "text": "Procent zgonów"
         }
        }
       }
      }
     },
     "metadata": {},
     "output_type": "display_data"
    }
   ],
   "source": [
    "plot_df3(df,basiw.image_dir, 'zgony_wspol_procent_od2021-07-14.jpg')"
   ]
  },
  {
   "cell_type": "markdown",
   "metadata": {},
   "source": [
    "Sprawdzenie:"
   ]
  },
  {
   "cell_type": "code",
   "execution_count": 27,
   "metadata": {},
   "outputs": [],
   "source": [
    "# print('brak współistniejących: ', dfd4.query('(Województwo == \"Podlaskie\") & (czy_wspolistniejace == \"N\")').shape[0])\n",
    "# print('współistniejące: ', dfd4.query('(Województwo == \"Podlaskie\") & (czy_wspolistniejace == \"T\")').shape[0])\n",
    "\n",
    "# display(dfd4.query('(Województwo == \"Podlaskie\") & (czy_wspolistniejace == \"N\")').sum())\n",
    "# display(dfd4.query('(Województwo == \"Podlaskie\") & (czy_wspolistniejace == \"T\")').sum())\n",
    "\n",
    "# display(dfd4.query('(Województwo == \"Podlaskie\") & (czy_wspolistniejace == \"N\")').groupby('Województwo').sum())\n",
    "# display(dfd4.query('(Województwo == \"Podlaskie\") & (czy_wspolistniejace == \"T\")').groupby('Województwo').sum())"
   ]
  },
  {
   "cell_type": "markdown",
   "metadata": {},
   "source": [
    "OK, są drobne różnice, bo liczba zaraportowanych zgonów w danej komórce nie zawsze jest równa 1."
   ]
  },
  {
   "cell_type": "markdown",
   "metadata": {},
   "source": [
    "W związku z powyższym rysunkiem, nie ma sensu robić rysunków poniżej, bo choroby towarzyszące są raportowane jak bądź."
   ]
  },
  {
   "cell_type": "code",
   "execution_count": 28,
   "metadata": {},
   "outputs": [
    {
     "data": {
      "text/html": [
       "<div>\n",
       "<style scoped>\n",
       "    .dataframe tbody tr th:only-of-type {\n",
       "        vertical-align: middle;\n",
       "    }\n",
       "\n",
       "    .dataframe tbody tr th {\n",
       "        vertical-align: top;\n",
       "    }\n",
       "\n",
       "    .dataframe thead th {\n",
       "        text-align: right;\n",
       "    }\n",
       "</style>\n",
       "<table border=\"1\" class=\"dataframe\">\n",
       "  <thead>\n",
       "    <tr style=\"text-align: right;\">\n",
       "      <th></th>\n",
       "      <th>mieszkańców w danej grupie wiekowej</th>\n",
       "      <th>kobiet w danej grupie wiekowej</th>\n",
       "      <th>mężczyzn w danej grupie wiekowej</th>\n",
       "    </tr>\n",
       "    <tr>\n",
       "      <th>Age group</th>\n",
       "      <th></th>\n",
       "      <th></th>\n",
       "      <th></th>\n",
       "    </tr>\n",
       "  </thead>\n",
       "  <tbody>\n",
       "    <tr>\n",
       "      <th>0-18</th>\n",
       "      <td>6909092.0</td>\n",
       "      <td>3362871.0</td>\n",
       "      <td>3546221.0</td>\n",
       "    </tr>\n",
       "    <tr>\n",
       "      <th>19-24</th>\n",
       "      <td>2391135.0</td>\n",
       "      <td>1169959.0</td>\n",
       "      <td>1221176.0</td>\n",
       "    </tr>\n",
       "    <tr>\n",
       "      <th>25-34</th>\n",
       "      <td>5378329.0</td>\n",
       "      <td>2637687.0</td>\n",
       "      <td>2740642.0</td>\n",
       "    </tr>\n",
       "    <tr>\n",
       "      <th>35-44</th>\n",
       "      <td>6101624.0</td>\n",
       "      <td>3008948.0</td>\n",
       "      <td>3092676.0</td>\n",
       "    </tr>\n",
       "    <tr>\n",
       "      <th>45-54</th>\n",
       "      <td>4789676.0</td>\n",
       "      <td>2395882.0</td>\n",
       "      <td>2393794.0</td>\n",
       "    </tr>\n",
       "    <tr>\n",
       "      <th>55-64</th>\n",
       "      <td>5104262.0</td>\n",
       "      <td>2668881.0</td>\n",
       "      <td>2435381.0</td>\n",
       "    </tr>\n",
       "    <tr>\n",
       "      <th>65-74</th>\n",
       "      <td>4195973.0</td>\n",
       "      <td>2362488.0</td>\n",
       "      <td>1833485.0</td>\n",
       "    </tr>\n",
       "    <tr>\n",
       "      <th>75-84</th>\n",
       "      <td>1912001.0</td>\n",
       "      <td>1218241.0</td>\n",
       "      <td>693760.0</td>\n",
       "    </tr>\n",
       "    <tr>\n",
       "      <th>85-94</th>\n",
       "      <td>756428.0</td>\n",
       "      <td>540453.0</td>\n",
       "      <td>215975.0</td>\n",
       "    </tr>\n",
       "    <tr>\n",
       "      <th>95+</th>\n",
       "      <td>52344.0</td>\n",
       "      <td>40781.0</td>\n",
       "      <td>11563.0</td>\n",
       "    </tr>\n",
       "  </tbody>\n",
       "</table>\n",
       "</div>"
      ],
      "text/plain": [
       "           mieszkańców w danej grupie wiekowej  \\\n",
       "Age group                                        \n",
       "0-18                                 6909092.0   \n",
       "19-24                                2391135.0   \n",
       "25-34                                5378329.0   \n",
       "35-44                                6101624.0   \n",
       "45-54                                4789676.0   \n",
       "55-64                                5104262.0   \n",
       "65-74                                4195973.0   \n",
       "75-84                                1912001.0   \n",
       "85-94                                 756428.0   \n",
       "95+                                    52344.0   \n",
       "\n",
       "           kobiet w danej grupie wiekowej  mężczyzn w danej grupie wiekowej  \n",
       "Age group                                                                    \n",
       "0-18                            3362871.0                         3546221.0  \n",
       "19-24                           1169959.0                         1221176.0  \n",
       "25-34                           2637687.0                         2740642.0  \n",
       "35-44                           3008948.0                         3092676.0  \n",
       "45-54                           2395882.0                         2393794.0  \n",
       "55-64                           2668881.0                         2435381.0  \n",
       "65-74                           2362488.0                         1833485.0  \n",
       "75-84                           1218241.0                          693760.0  \n",
       "85-94                            540453.0                          215975.0  \n",
       "95+                               40781.0                           11563.0  "
      ]
     },
     "execution_count": 28,
     "metadata": {},
     "output_type": "execute_result"
    }
   ],
   "source": [
    "pop_df"
   ]
  },
  {
   "cell_type": "code",
   "execution_count": 29,
   "metadata": {},
   "outputs": [
    {
     "data": {
      "text/html": [
       "<div>\n",
       "<style scoped>\n",
       "    .dataframe tbody tr th:only-of-type {\n",
       "        vertical-align: middle;\n",
       "    }\n",
       "\n",
       "    .dataframe tbody tr th {\n",
       "        vertical-align: top;\n",
       "    }\n",
       "\n",
       "    .dataframe thead th {\n",
       "        text-align: right;\n",
       "    }\n",
       "</style>\n",
       "<table border=\"1\" class=\"dataframe\">\n",
       "  <thead>\n",
       "    <tr style=\"text-align: right;\">\n",
       "      <th></th>\n",
       "      <th>mieszkańców w województwie</th>\n",
       "    </tr>\n",
       "    <tr>\n",
       "      <th>Województwo</th>\n",
       "      <th></th>\n",
       "    </tr>\n",
       "  </thead>\n",
       "  <tbody>\n",
       "    <tr>\n",
       "      <th>Dolnośląskie</th>\n",
       "      <td>2884011</td>\n",
       "    </tr>\n",
       "    <tr>\n",
       "      <th>Kujawsko-Pomorskie</th>\n",
       "      <td>2054163</td>\n",
       "    </tr>\n",
       "    <tr>\n",
       "      <th>Lubelskie</th>\n",
       "      <td>2086403</td>\n",
       "    </tr>\n",
       "    <tr>\n",
       "      <th>Lubuskie</th>\n",
       "      <td>1003150</td>\n",
       "    </tr>\n",
       "    <tr>\n",
       "      <th>Łódzkie</th>\n",
       "      <td>2426806</td>\n",
       "    </tr>\n",
       "    <tr>\n",
       "      <th>Małopolskie</th>\n",
       "      <td>3408505</td>\n",
       "    </tr>\n",
       "    <tr>\n",
       "      <th>Mazowieckie</th>\n",
       "      <td>5419963</td>\n",
       "    </tr>\n",
       "    <tr>\n",
       "      <th>Opolskie</th>\n",
       "      <td>973298</td>\n",
       "    </tr>\n",
       "    <tr>\n",
       "      <th>Podkarpackie</th>\n",
       "      <td>2115578</td>\n",
       "    </tr>\n",
       "    <tr>\n",
       "      <th>Podlaskie</th>\n",
       "      <td>1169434</td>\n",
       "    </tr>\n",
       "    <tr>\n",
       "      <th>Pomorskie</th>\n",
       "      <td>2346065</td>\n",
       "    </tr>\n",
       "    <tr>\n",
       "      <th>Śląskie</th>\n",
       "      <td>4472703</td>\n",
       "    </tr>\n",
       "    <tr>\n",
       "      <th>Świętokrzyskie</th>\n",
       "      <td>1218089</td>\n",
       "    </tr>\n",
       "    <tr>\n",
       "      <th>Warmińsko-Mazurskie</th>\n",
       "      <td>1410643</td>\n",
       "    </tr>\n",
       "    <tr>\n",
       "      <th>Wielkopolskie</th>\n",
       "      <td>3491410</td>\n",
       "    </tr>\n",
       "    <tr>\n",
       "      <th>Zachodniopomorskie</th>\n",
       "      <td>1682003</td>\n",
       "    </tr>\n",
       "  </tbody>\n",
       "</table>\n",
       "</div>"
      ],
      "text/plain": [
       "                     mieszkańców w województwie\n",
       "Województwo                                    \n",
       "Dolnośląskie                            2884011\n",
       "Kujawsko-Pomorskie                      2054163\n",
       "Lubelskie                               2086403\n",
       "Lubuskie                                1003150\n",
       "Łódzkie                                 2426806\n",
       "Małopolskie                             3408505\n",
       "Mazowieckie                             5419963\n",
       "Opolskie                                 973298\n",
       "Podkarpackie                            2115578\n",
       "Podlaskie                               1169434\n",
       "Pomorskie                               2346065\n",
       "Śląskie                                 4472703\n",
       "Świętokrzyskie                          1218089\n",
       "Warmińsko-Mazurskie                     1410643\n",
       "Wielkopolskie                           3491410\n",
       "Zachodniopomorskie                      1682003"
      ]
     },
     "execution_count": 29,
     "metadata": {},
     "output_type": "execute_result"
    }
   ],
   "source": [
    "# dfpopwoj.to_dict()['Ludność']\n",
    "pop_woj_df"
   ]
  },
  {
   "cell_type": "code",
   "execution_count": 30,
   "metadata": {},
   "outputs": [],
   "source": [
    "from_date = datetime.date(2021,7,14)\n",
    "\n",
    "df_wspol_woj = prepare_df2(\n",
    "    deaths_df = basiw.dfd.query('czy_wspolistniejace == \"T\"'), \n",
    "    x_col ='Województwo', \n",
    "    x_col_name = 'Województwo',\n",
    "    denominator_df=pop_woj_df,\n",
    "    denominator_col='mieszkańców w województwie', # Ma być: 'mieszkańców w województwie'\n",
    "    from_date=from_date\n",
    "    )\n",
    "\n",
    "# df_wspol_woj"
   ]
  },
  {
   "cell_type": "code",
   "execution_count": 31,
   "metadata": {},
   "outputs": [
    {
     "data": {
      "application/vnd.plotly.v1+json": {
       "config": {
        "plotlyServerURL": "https://plot.ly"
       },
       "data": [
        {
         "name": "Zgony nie w pełni zaszczepionych mieszkańców w województwie na 100 tys. mieszkańców w województwie",
         "offsetgroup": "1",
         "text": [
          55.26257391309349,
          53.1881234853784,
          32.00071091682746,
          28.254450332786053,
          24.05407158261835,
          19.82029053826305,
          19.667377905258736,
          19.143842192909286,
          18.08130424506588,
          16.446400683943423,
          12.453319614559696,
          12.105376449501613,
          11.148582736419632,
          9.509052216726195,
          7.675821163335494,
          5.963916226394421
         ],
         "textposition": "outside",
         "texttemplate": "%{text:2.1f}",
         "type": "bar",
         "x": [
          "Lubelskie",
          "Podlaskie",
          "Podkarpackie",
          "Opolskie",
          "Świętokrzyskie",
          "Łódzkie",
          "Kujawsko-Pomorskie",
          "Zachodniopomorskie",
          "Mazowieckie",
          "Warmińsko-Mazurskie",
          "Śląskie",
          "Pomorskie",
          "Małopolskie",
          "Wielkopolskie",
          "Lubuskie",
          "Dolnośląskie"
         ],
         "y": [
          55.26257391309349,
          53.1881234853784,
          32.00071091682746,
          28.254450332786053,
          24.05407158261835,
          19.82029053826305,
          19.667377905258736,
          19.143842192909286,
          18.08130424506588,
          16.446400683943423,
          12.453319614559696,
          12.105376449501613,
          11.148582736419632,
          9.509052216726195,
          7.675821163335494,
          5.963916226394421
         ]
        },
        {
         "name": "Zgony w pełni zaszczepionych mieszkańców w województwie na 100 tys. mieszkańców w województwie",
         "offsetgroup": "2",
         "text": [
          16.96700014330884,
          15.990641626633053,
          7.326602942552815,
          10.582575942825322,
          8.127484937471728,
          6.757853738617756,
          9.931052209586094,
          9.155750614000095,
          7.896732874375711,
          6.734517521442349,
          6.126049505187355,
          6.862554959048449,
          4.635463348300794,
          4.496750596463892,
          4.286497532771769,
          2.5658709346115534
         ],
         "textposition": "outside",
         "texttemplate": "%{text:2.1f}",
         "type": "bar",
         "x": [
          "Lubelskie",
          "Podlaskie",
          "Podkarpackie",
          "Opolskie",
          "Świętokrzyskie",
          "Łódzkie",
          "Kujawsko-Pomorskie",
          "Zachodniopomorskie",
          "Mazowieckie",
          "Warmińsko-Mazurskie",
          "Śląskie",
          "Pomorskie",
          "Małopolskie",
          "Wielkopolskie",
          "Lubuskie",
          "Dolnośląskie"
         ],
         "y": [
          16.96700014330884,
          15.990641626633053,
          7.326602942552815,
          10.582575942825322,
          8.127484937471728,
          6.757853738617756,
          9.931052209586094,
          9.155750614000095,
          7.896732874375711,
          6.734517521442349,
          6.126049505187355,
          6.862554959048449,
          4.635463348300794,
          4.496750596463892,
          4.286497532771769,
          2.5658709346115534
         ]
        }
       ],
       "layout": {
        "barmode": "group",
        "height": 500,
        "legend": {
         "title": {
          "text": ""
         },
         "x": 0.5,
         "xanchor": "center",
         "y": -0.5
        },
        "template": {
         "data": {
          "bar": [
           {
            "error_x": {
             "color": "#2a3f5f"
            },
            "error_y": {
             "color": "#2a3f5f"
            },
            "marker": {
             "line": {
              "color": "#E5ECF6",
              "width": 0.5
             }
            },
            "type": "bar"
           }
          ],
          "barpolar": [
           {
            "marker": {
             "line": {
              "color": "#E5ECF6",
              "width": 0.5
             }
            },
            "type": "barpolar"
           }
          ],
          "carpet": [
           {
            "aaxis": {
             "endlinecolor": "#2a3f5f",
             "gridcolor": "white",
             "linecolor": "white",
             "minorgridcolor": "white",
             "startlinecolor": "#2a3f5f"
            },
            "baxis": {
             "endlinecolor": "#2a3f5f",
             "gridcolor": "white",
             "linecolor": "white",
             "minorgridcolor": "white",
             "startlinecolor": "#2a3f5f"
            },
            "type": "carpet"
           }
          ],
          "choropleth": [
           {
            "colorbar": {
             "outlinewidth": 0,
             "ticks": ""
            },
            "type": "choropleth"
           }
          ],
          "contour": [
           {
            "colorbar": {
             "outlinewidth": 0,
             "ticks": ""
            },
            "colorscale": [
             [
              0,
              "#0d0887"
             ],
             [
              0.1111111111111111,
              "#46039f"
             ],
             [
              0.2222222222222222,
              "#7201a8"
             ],
             [
              0.3333333333333333,
              "#9c179e"
             ],
             [
              0.4444444444444444,
              "#bd3786"
             ],
             [
              0.5555555555555556,
              "#d8576b"
             ],
             [
              0.6666666666666666,
              "#ed7953"
             ],
             [
              0.7777777777777778,
              "#fb9f3a"
             ],
             [
              0.8888888888888888,
              "#fdca26"
             ],
             [
              1,
              "#f0f921"
             ]
            ],
            "type": "contour"
           }
          ],
          "contourcarpet": [
           {
            "colorbar": {
             "outlinewidth": 0,
             "ticks": ""
            },
            "type": "contourcarpet"
           }
          ],
          "heatmap": [
           {
            "colorbar": {
             "outlinewidth": 0,
             "ticks": ""
            },
            "colorscale": [
             [
              0,
              "#0d0887"
             ],
             [
              0.1111111111111111,
              "#46039f"
             ],
             [
              0.2222222222222222,
              "#7201a8"
             ],
             [
              0.3333333333333333,
              "#9c179e"
             ],
             [
              0.4444444444444444,
              "#bd3786"
             ],
             [
              0.5555555555555556,
              "#d8576b"
             ],
             [
              0.6666666666666666,
              "#ed7953"
             ],
             [
              0.7777777777777778,
              "#fb9f3a"
             ],
             [
              0.8888888888888888,
              "#fdca26"
             ],
             [
              1,
              "#f0f921"
             ]
            ],
            "type": "heatmap"
           }
          ],
          "heatmapgl": [
           {
            "colorbar": {
             "outlinewidth": 0,
             "ticks": ""
            },
            "colorscale": [
             [
              0,
              "#0d0887"
             ],
             [
              0.1111111111111111,
              "#46039f"
             ],
             [
              0.2222222222222222,
              "#7201a8"
             ],
             [
              0.3333333333333333,
              "#9c179e"
             ],
             [
              0.4444444444444444,
              "#bd3786"
             ],
             [
              0.5555555555555556,
              "#d8576b"
             ],
             [
              0.6666666666666666,
              "#ed7953"
             ],
             [
              0.7777777777777778,
              "#fb9f3a"
             ],
             [
              0.8888888888888888,
              "#fdca26"
             ],
             [
              1,
              "#f0f921"
             ]
            ],
            "type": "heatmapgl"
           }
          ],
          "histogram": [
           {
            "marker": {
             "colorbar": {
              "outlinewidth": 0,
              "ticks": ""
             }
            },
            "type": "histogram"
           }
          ],
          "histogram2d": [
           {
            "colorbar": {
             "outlinewidth": 0,
             "ticks": ""
            },
            "colorscale": [
             [
              0,
              "#0d0887"
             ],
             [
              0.1111111111111111,
              "#46039f"
             ],
             [
              0.2222222222222222,
              "#7201a8"
             ],
             [
              0.3333333333333333,
              "#9c179e"
             ],
             [
              0.4444444444444444,
              "#bd3786"
             ],
             [
              0.5555555555555556,
              "#d8576b"
             ],
             [
              0.6666666666666666,
              "#ed7953"
             ],
             [
              0.7777777777777778,
              "#fb9f3a"
             ],
             [
              0.8888888888888888,
              "#fdca26"
             ],
             [
              1,
              "#f0f921"
             ]
            ],
            "type": "histogram2d"
           }
          ],
          "histogram2dcontour": [
           {
            "colorbar": {
             "outlinewidth": 0,
             "ticks": ""
            },
            "colorscale": [
             [
              0,
              "#0d0887"
             ],
             [
              0.1111111111111111,
              "#46039f"
             ],
             [
              0.2222222222222222,
              "#7201a8"
             ],
             [
              0.3333333333333333,
              "#9c179e"
             ],
             [
              0.4444444444444444,
              "#bd3786"
             ],
             [
              0.5555555555555556,
              "#d8576b"
             ],
             [
              0.6666666666666666,
              "#ed7953"
             ],
             [
              0.7777777777777778,
              "#fb9f3a"
             ],
             [
              0.8888888888888888,
              "#fdca26"
             ],
             [
              1,
              "#f0f921"
             ]
            ],
            "type": "histogram2dcontour"
           }
          ],
          "mesh3d": [
           {
            "colorbar": {
             "outlinewidth": 0,
             "ticks": ""
            },
            "type": "mesh3d"
           }
          ],
          "parcoords": [
           {
            "line": {
             "colorbar": {
              "outlinewidth": 0,
              "ticks": ""
             }
            },
            "type": "parcoords"
           }
          ],
          "pie": [
           {
            "automargin": true,
            "type": "pie"
           }
          ],
          "scatter": [
           {
            "marker": {
             "colorbar": {
              "outlinewidth": 0,
              "ticks": ""
             }
            },
            "type": "scatter"
           }
          ],
          "scatter3d": [
           {
            "line": {
             "colorbar": {
              "outlinewidth": 0,
              "ticks": ""
             }
            },
            "marker": {
             "colorbar": {
              "outlinewidth": 0,
              "ticks": ""
             }
            },
            "type": "scatter3d"
           }
          ],
          "scattercarpet": [
           {
            "marker": {
             "colorbar": {
              "outlinewidth": 0,
              "ticks": ""
             }
            },
            "type": "scattercarpet"
           }
          ],
          "scattergeo": [
           {
            "marker": {
             "colorbar": {
              "outlinewidth": 0,
              "ticks": ""
             }
            },
            "type": "scattergeo"
           }
          ],
          "scattergl": [
           {
            "marker": {
             "colorbar": {
              "outlinewidth": 0,
              "ticks": ""
             }
            },
            "type": "scattergl"
           }
          ],
          "scattermapbox": [
           {
            "marker": {
             "colorbar": {
              "outlinewidth": 0,
              "ticks": ""
             }
            },
            "type": "scattermapbox"
           }
          ],
          "scatterpolar": [
           {
            "marker": {
             "colorbar": {
              "outlinewidth": 0,
              "ticks": ""
             }
            },
            "type": "scatterpolar"
           }
          ],
          "scatterpolargl": [
           {
            "marker": {
             "colorbar": {
              "outlinewidth": 0,
              "ticks": ""
             }
            },
            "type": "scatterpolargl"
           }
          ],
          "scatterternary": [
           {
            "marker": {
             "colorbar": {
              "outlinewidth": 0,
              "ticks": ""
             }
            },
            "type": "scatterternary"
           }
          ],
          "surface": [
           {
            "colorbar": {
             "outlinewidth": 0,
             "ticks": ""
            },
            "colorscale": [
             [
              0,
              "#0d0887"
             ],
             [
              0.1111111111111111,
              "#46039f"
             ],
             [
              0.2222222222222222,
              "#7201a8"
             ],
             [
              0.3333333333333333,
              "#9c179e"
             ],
             [
              0.4444444444444444,
              "#bd3786"
             ],
             [
              0.5555555555555556,
              "#d8576b"
             ],
             [
              0.6666666666666666,
              "#ed7953"
             ],
             [
              0.7777777777777778,
              "#fb9f3a"
             ],
             [
              0.8888888888888888,
              "#fdca26"
             ],
             [
              1,
              "#f0f921"
             ]
            ],
            "type": "surface"
           }
          ],
          "table": [
           {
            "cells": {
             "fill": {
              "color": "#EBF0F8"
             },
             "line": {
              "color": "white"
             }
            },
            "header": {
             "fill": {
              "color": "#C8D4E3"
             },
             "line": {
              "color": "white"
             }
            },
            "type": "table"
           }
          ]
         },
         "layout": {
          "annotationdefaults": {
           "arrowcolor": "#2a3f5f",
           "arrowhead": 0,
           "arrowwidth": 1
          },
          "coloraxis": {
           "colorbar": {
            "outlinewidth": 0,
            "ticks": ""
           }
          },
          "colorscale": {
           "diverging": [
            [
             0,
             "#8e0152"
            ],
            [
             0.1,
             "#c51b7d"
            ],
            [
             0.2,
             "#de77ae"
            ],
            [
             0.3,
             "#f1b6da"
            ],
            [
             0.4,
             "#fde0ef"
            ],
            [
             0.5,
             "#f7f7f7"
            ],
            [
             0.6,
             "#e6f5d0"
            ],
            [
             0.7,
             "#b8e186"
            ],
            [
             0.8,
             "#7fbc41"
            ],
            [
             0.9,
             "#4d9221"
            ],
            [
             1,
             "#276419"
            ]
           ],
           "sequential": [
            [
             0,
             "#0d0887"
            ],
            [
             0.1111111111111111,
             "#46039f"
            ],
            [
             0.2222222222222222,
             "#7201a8"
            ],
            [
             0.3333333333333333,
             "#9c179e"
            ],
            [
             0.4444444444444444,
             "#bd3786"
            ],
            [
             0.5555555555555556,
             "#d8576b"
            ],
            [
             0.6666666666666666,
             "#ed7953"
            ],
            [
             0.7777777777777778,
             "#fb9f3a"
            ],
            [
             0.8888888888888888,
             "#fdca26"
            ],
            [
             1,
             "#f0f921"
            ]
           ],
           "sequentialminus": [
            [
             0,
             "#0d0887"
            ],
            [
             0.1111111111111111,
             "#46039f"
            ],
            [
             0.2222222222222222,
             "#7201a8"
            ],
            [
             0.3333333333333333,
             "#9c179e"
            ],
            [
             0.4444444444444444,
             "#bd3786"
            ],
            [
             0.5555555555555556,
             "#d8576b"
            ],
            [
             0.6666666666666666,
             "#ed7953"
            ],
            [
             0.7777777777777778,
             "#fb9f3a"
            ],
            [
             0.8888888888888888,
             "#fdca26"
            ],
            [
             1,
             "#f0f921"
            ]
           ]
          },
          "colorway": [
           "#636efa",
           "#EF553B",
           "#00cc96",
           "#ab63fa",
           "#FFA15A",
           "#19d3f3",
           "#FF6692",
           "#B6E880",
           "#FF97FF",
           "#FECB52"
          ],
          "font": {
           "color": "#2a3f5f"
          },
          "geo": {
           "bgcolor": "white",
           "lakecolor": "white",
           "landcolor": "#E5ECF6",
           "showlakes": true,
           "showland": true,
           "subunitcolor": "white"
          },
          "hoverlabel": {
           "align": "left"
          },
          "hovermode": "closest",
          "mapbox": {
           "style": "light"
          },
          "paper_bgcolor": "white",
          "plot_bgcolor": "#E5ECF6",
          "polar": {
           "angularaxis": {
            "gridcolor": "white",
            "linecolor": "white",
            "ticks": ""
           },
           "bgcolor": "#E5ECF6",
           "radialaxis": {
            "gridcolor": "white",
            "linecolor": "white",
            "ticks": ""
           }
          },
          "scene": {
           "xaxis": {
            "backgroundcolor": "#E5ECF6",
            "gridcolor": "white",
            "gridwidth": 2,
            "linecolor": "white",
            "showbackground": true,
            "ticks": "",
            "zerolinecolor": "white"
           },
           "yaxis": {
            "backgroundcolor": "#E5ECF6",
            "gridcolor": "white",
            "gridwidth": 2,
            "linecolor": "white",
            "showbackground": true,
            "ticks": "",
            "zerolinecolor": "white"
           },
           "zaxis": {
            "backgroundcolor": "#E5ECF6",
            "gridcolor": "white",
            "gridwidth": 2,
            "linecolor": "white",
            "showbackground": true,
            "ticks": "",
            "zerolinecolor": "white"
           }
          },
          "shapedefaults": {
           "line": {
            "color": "#2a3f5f"
           }
          },
          "ternary": {
           "aaxis": {
            "gridcolor": "white",
            "linecolor": "white",
            "ticks": ""
           },
           "baxis": {
            "gridcolor": "white",
            "linecolor": "white",
            "ticks": ""
           },
           "bgcolor": "#E5ECF6",
           "caxis": {
            "gridcolor": "white",
            "linecolor": "white",
            "ticks": ""
           }
          },
          "title": {
           "x": 0.05
          },
          "xaxis": {
           "automargin": true,
           "gridcolor": "white",
           "linecolor": "white",
           "ticks": "",
           "title": {
            "standoff": 15
           },
           "zerolinecolor": "white",
           "zerolinewidth": 2
          },
          "yaxis": {
           "automargin": true,
           "gridcolor": "white",
           "linecolor": "white",
           "ticks": "",
           "title": {
            "standoff": 15
           },
           "zerolinecolor": "white",
           "zerolinewidth": 2
          }
         }
        },
        "title": {
         "font": {
          "size": 16
         },
         "text": "Liczba zgonów na COVID-19 u mieszkańców w województwie z chorobami współistniejącymi<br>na 100 tys. mieszkańców w województwie<br>w podziale na w pełni zaszczepionych i nie w pełni zaszczepionych (od 2021-07-14)",
         "x": 0.5,
         "xanchor": "center"
        },
        "uniformtext": {
         "minsize": 6,
         "mode": "show"
        },
        "width": 800,
        "xaxis": {
         "tickangle": 33
        },
        "yaxis": {
         "title": {
          "text": "Liczba zgonów na 100 tys."
         }
        }
       }
      }
     },
     "metadata": {},
     "output_type": "display_data"
    }
   ],
   "source": [
    "x_col = 'Województwo'\n",
    "title_str = \"z chorobami współistniejącymi\" \n",
    "filename_str = \"woj_ogolem_z_wspol\"\n",
    "denominator_col = \"mieszkańców w województwie\"\n",
    "title = \"Liczba zgonów na COVID-19 u \" + denominator_col + \" \" + title_str + \"<br>na 100 tys. \"+ denominator_col +\\\n",
    "        \"<br>w podziale na w pełni zaszczepionych i nie w pełni zaszczepionych (od \" + str(from_date) + \")\"\n",
    "df_to_plot = df_wspol_woj.sort_values(['Zgony nie w pełni zaszczepionych ' + denominator_col + ' na 100 tys. ' + denominator_col], ascending=False)\n",
    "plot_df2(\n",
    "    x_col=x_col, \n",
    "    denominator_col=denominator_col, \n",
    "    title=title , \n",
    "    filename_str=filename_str,  \n",
    "    from_date = from_date, \n",
    "    df = df_to_plot, \n",
    "    image_dir = basiw.image_dir,\n",
    "    legend_y=-0.5\n",
    "    )"
   ]
  },
  {
   "cell_type": "code",
   "execution_count": 32,
   "metadata": {},
   "outputs": [
    {
     "data": {
      "application/vnd.plotly.v1+json": {
       "config": {
        "plotlyServerURL": "https://plot.ly"
       },
       "data": [
        {
         "name": "Zgony nie w pełni zaszczepionych mieszkańców w województwie na 100 tys. mieszkańców w województwie",
         "offsetgroup": "1",
         "text": [
          55.26257391309349,
          53.1881234853784,
          32.00071091682746,
          28.254450332786053,
          24.05407158261835,
          19.82029053826305,
          19.667377905258736,
          19.143842192909286,
          18.08130424506588,
          16.446400683943423,
          12.453319614559696,
          12.105376449501613,
          11.148582736419632,
          9.509052216726195,
          7.675821163335494,
          5.963916226394421
         ],
         "textposition": "outside",
         "texttemplate": "%{text:2.1f}",
         "type": "bar",
         "x": [
          "Lubelskie",
          "Podlaskie",
          "Podkarpackie",
          "Opolskie",
          "Świętokrzyskie",
          "Łódzkie",
          "Kujawsko-Pomorskie",
          "Zachodniopomorskie",
          "Mazowieckie",
          "Warmińsko-Mazurskie",
          "Śląskie",
          "Pomorskie",
          "Małopolskie",
          "Wielkopolskie",
          "Lubuskie",
          "Dolnośląskie"
         ],
         "y": [
          55.26257391309349,
          53.1881234853784,
          32.00071091682746,
          28.254450332786053,
          24.05407158261835,
          19.82029053826305,
          19.667377905258736,
          19.143842192909286,
          18.08130424506588,
          16.446400683943423,
          12.453319614559696,
          12.105376449501613,
          11.148582736419632,
          9.509052216726195,
          7.675821163335494,
          5.963916226394421
         ]
        },
        {
         "name": "Zgony w pełni zaszczepionych mieszkańców w województwie na 100 tys. mieszkańców w województwie",
         "offsetgroup": "2",
         "text": [
          16.96700014330884,
          15.990641626633053,
          7.326602942552815,
          10.582575942825322,
          8.127484937471728,
          6.757853738617756,
          9.931052209586094,
          9.155750614000095,
          7.896732874375711,
          6.734517521442349,
          6.126049505187355,
          6.862554959048449,
          4.635463348300794,
          4.496750596463892,
          4.286497532771769,
          2.5658709346115534
         ],
         "textposition": "outside",
         "texttemplate": "%{text:2.1f}",
         "type": "bar",
         "x": [
          "Lubelskie",
          "Podlaskie",
          "Podkarpackie",
          "Opolskie",
          "Świętokrzyskie",
          "Łódzkie",
          "Kujawsko-Pomorskie",
          "Zachodniopomorskie",
          "Mazowieckie",
          "Warmińsko-Mazurskie",
          "Śląskie",
          "Pomorskie",
          "Małopolskie",
          "Wielkopolskie",
          "Lubuskie",
          "Dolnośląskie"
         ],
         "y": [
          16.96700014330884,
          15.990641626633053,
          7.326602942552815,
          10.582575942825322,
          8.127484937471728,
          6.757853738617756,
          9.931052209586094,
          9.155750614000095,
          7.896732874375711,
          6.734517521442349,
          6.126049505187355,
          6.862554959048449,
          4.635463348300794,
          4.496750596463892,
          4.286497532771769,
          2.5658709346115534
         ]
        }
       ],
       "layout": {
        "barmode": "group",
        "height": 500,
        "legend": {
         "title": {
          "text": ""
         },
         "x": 0.5,
         "xanchor": "center",
         "y": -0.5
        },
        "template": {
         "data": {
          "bar": [
           {
            "error_x": {
             "color": "#2a3f5f"
            },
            "error_y": {
             "color": "#2a3f5f"
            },
            "marker": {
             "line": {
              "color": "#E5ECF6",
              "width": 0.5
             }
            },
            "type": "bar"
           }
          ],
          "barpolar": [
           {
            "marker": {
             "line": {
              "color": "#E5ECF6",
              "width": 0.5
             }
            },
            "type": "barpolar"
           }
          ],
          "carpet": [
           {
            "aaxis": {
             "endlinecolor": "#2a3f5f",
             "gridcolor": "white",
             "linecolor": "white",
             "minorgridcolor": "white",
             "startlinecolor": "#2a3f5f"
            },
            "baxis": {
             "endlinecolor": "#2a3f5f",
             "gridcolor": "white",
             "linecolor": "white",
             "minorgridcolor": "white",
             "startlinecolor": "#2a3f5f"
            },
            "type": "carpet"
           }
          ],
          "choropleth": [
           {
            "colorbar": {
             "outlinewidth": 0,
             "ticks": ""
            },
            "type": "choropleth"
           }
          ],
          "contour": [
           {
            "colorbar": {
             "outlinewidth": 0,
             "ticks": ""
            },
            "colorscale": [
             [
              0,
              "#0d0887"
             ],
             [
              0.1111111111111111,
              "#46039f"
             ],
             [
              0.2222222222222222,
              "#7201a8"
             ],
             [
              0.3333333333333333,
              "#9c179e"
             ],
             [
              0.4444444444444444,
              "#bd3786"
             ],
             [
              0.5555555555555556,
              "#d8576b"
             ],
             [
              0.6666666666666666,
              "#ed7953"
             ],
             [
              0.7777777777777778,
              "#fb9f3a"
             ],
             [
              0.8888888888888888,
              "#fdca26"
             ],
             [
              1,
              "#f0f921"
             ]
            ],
            "type": "contour"
           }
          ],
          "contourcarpet": [
           {
            "colorbar": {
             "outlinewidth": 0,
             "ticks": ""
            },
            "type": "contourcarpet"
           }
          ],
          "heatmap": [
           {
            "colorbar": {
             "outlinewidth": 0,
             "ticks": ""
            },
            "colorscale": [
             [
              0,
              "#0d0887"
             ],
             [
              0.1111111111111111,
              "#46039f"
             ],
             [
              0.2222222222222222,
              "#7201a8"
             ],
             [
              0.3333333333333333,
              "#9c179e"
             ],
             [
              0.4444444444444444,
              "#bd3786"
             ],
             [
              0.5555555555555556,
              "#d8576b"
             ],
             [
              0.6666666666666666,
              "#ed7953"
             ],
             [
              0.7777777777777778,
              "#fb9f3a"
             ],
             [
              0.8888888888888888,
              "#fdca26"
             ],
             [
              1,
              "#f0f921"
             ]
            ],
            "type": "heatmap"
           }
          ],
          "heatmapgl": [
           {
            "colorbar": {
             "outlinewidth": 0,
             "ticks": ""
            },
            "colorscale": [
             [
              0,
              "#0d0887"
             ],
             [
              0.1111111111111111,
              "#46039f"
             ],
             [
              0.2222222222222222,
              "#7201a8"
             ],
             [
              0.3333333333333333,
              "#9c179e"
             ],
             [
              0.4444444444444444,
              "#bd3786"
             ],
             [
              0.5555555555555556,
              "#d8576b"
             ],
             [
              0.6666666666666666,
              "#ed7953"
             ],
             [
              0.7777777777777778,
              "#fb9f3a"
             ],
             [
              0.8888888888888888,
              "#fdca26"
             ],
             [
              1,
              "#f0f921"
             ]
            ],
            "type": "heatmapgl"
           }
          ],
          "histogram": [
           {
            "marker": {
             "colorbar": {
              "outlinewidth": 0,
              "ticks": ""
             }
            },
            "type": "histogram"
           }
          ],
          "histogram2d": [
           {
            "colorbar": {
             "outlinewidth": 0,
             "ticks": ""
            },
            "colorscale": [
             [
              0,
              "#0d0887"
             ],
             [
              0.1111111111111111,
              "#46039f"
             ],
             [
              0.2222222222222222,
              "#7201a8"
             ],
             [
              0.3333333333333333,
              "#9c179e"
             ],
             [
              0.4444444444444444,
              "#bd3786"
             ],
             [
              0.5555555555555556,
              "#d8576b"
             ],
             [
              0.6666666666666666,
              "#ed7953"
             ],
             [
              0.7777777777777778,
              "#fb9f3a"
             ],
             [
              0.8888888888888888,
              "#fdca26"
             ],
             [
              1,
              "#f0f921"
             ]
            ],
            "type": "histogram2d"
           }
          ],
          "histogram2dcontour": [
           {
            "colorbar": {
             "outlinewidth": 0,
             "ticks": ""
            },
            "colorscale": [
             [
              0,
              "#0d0887"
             ],
             [
              0.1111111111111111,
              "#46039f"
             ],
             [
              0.2222222222222222,
              "#7201a8"
             ],
             [
              0.3333333333333333,
              "#9c179e"
             ],
             [
              0.4444444444444444,
              "#bd3786"
             ],
             [
              0.5555555555555556,
              "#d8576b"
             ],
             [
              0.6666666666666666,
              "#ed7953"
             ],
             [
              0.7777777777777778,
              "#fb9f3a"
             ],
             [
              0.8888888888888888,
              "#fdca26"
             ],
             [
              1,
              "#f0f921"
             ]
            ],
            "type": "histogram2dcontour"
           }
          ],
          "mesh3d": [
           {
            "colorbar": {
             "outlinewidth": 0,
             "ticks": ""
            },
            "type": "mesh3d"
           }
          ],
          "parcoords": [
           {
            "line": {
             "colorbar": {
              "outlinewidth": 0,
              "ticks": ""
             }
            },
            "type": "parcoords"
           }
          ],
          "pie": [
           {
            "automargin": true,
            "type": "pie"
           }
          ],
          "scatter": [
           {
            "marker": {
             "colorbar": {
              "outlinewidth": 0,
              "ticks": ""
             }
            },
            "type": "scatter"
           }
          ],
          "scatter3d": [
           {
            "line": {
             "colorbar": {
              "outlinewidth": 0,
              "ticks": ""
             }
            },
            "marker": {
             "colorbar": {
              "outlinewidth": 0,
              "ticks": ""
             }
            },
            "type": "scatter3d"
           }
          ],
          "scattercarpet": [
           {
            "marker": {
             "colorbar": {
              "outlinewidth": 0,
              "ticks": ""
             }
            },
            "type": "scattercarpet"
           }
          ],
          "scattergeo": [
           {
            "marker": {
             "colorbar": {
              "outlinewidth": 0,
              "ticks": ""
             }
            },
            "type": "scattergeo"
           }
          ],
          "scattergl": [
           {
            "marker": {
             "colorbar": {
              "outlinewidth": 0,
              "ticks": ""
             }
            },
            "type": "scattergl"
           }
          ],
          "scattermapbox": [
           {
            "marker": {
             "colorbar": {
              "outlinewidth": 0,
              "ticks": ""
             }
            },
            "type": "scattermapbox"
           }
          ],
          "scatterpolar": [
           {
            "marker": {
             "colorbar": {
              "outlinewidth": 0,
              "ticks": ""
             }
            },
            "type": "scatterpolar"
           }
          ],
          "scatterpolargl": [
           {
            "marker": {
             "colorbar": {
              "outlinewidth": 0,
              "ticks": ""
             }
            },
            "type": "scatterpolargl"
           }
          ],
          "scatterternary": [
           {
            "marker": {
             "colorbar": {
              "outlinewidth": 0,
              "ticks": ""
             }
            },
            "type": "scatterternary"
           }
          ],
          "surface": [
           {
            "colorbar": {
             "outlinewidth": 0,
             "ticks": ""
            },
            "colorscale": [
             [
              0,
              "#0d0887"
             ],
             [
              0.1111111111111111,
              "#46039f"
             ],
             [
              0.2222222222222222,
              "#7201a8"
             ],
             [
              0.3333333333333333,
              "#9c179e"
             ],
             [
              0.4444444444444444,
              "#bd3786"
             ],
             [
              0.5555555555555556,
              "#d8576b"
             ],
             [
              0.6666666666666666,
              "#ed7953"
             ],
             [
              0.7777777777777778,
              "#fb9f3a"
             ],
             [
              0.8888888888888888,
              "#fdca26"
             ],
             [
              1,
              "#f0f921"
             ]
            ],
            "type": "surface"
           }
          ],
          "table": [
           {
            "cells": {
             "fill": {
              "color": "#EBF0F8"
             },
             "line": {
              "color": "white"
             }
            },
            "header": {
             "fill": {
              "color": "#C8D4E3"
             },
             "line": {
              "color": "white"
             }
            },
            "type": "table"
           }
          ]
         },
         "layout": {
          "annotationdefaults": {
           "arrowcolor": "#2a3f5f",
           "arrowhead": 0,
           "arrowwidth": 1
          },
          "coloraxis": {
           "colorbar": {
            "outlinewidth": 0,
            "ticks": ""
           }
          },
          "colorscale": {
           "diverging": [
            [
             0,
             "#8e0152"
            ],
            [
             0.1,
             "#c51b7d"
            ],
            [
             0.2,
             "#de77ae"
            ],
            [
             0.3,
             "#f1b6da"
            ],
            [
             0.4,
             "#fde0ef"
            ],
            [
             0.5,
             "#f7f7f7"
            ],
            [
             0.6,
             "#e6f5d0"
            ],
            [
             0.7,
             "#b8e186"
            ],
            [
             0.8,
             "#7fbc41"
            ],
            [
             0.9,
             "#4d9221"
            ],
            [
             1,
             "#276419"
            ]
           ],
           "sequential": [
            [
             0,
             "#0d0887"
            ],
            [
             0.1111111111111111,
             "#46039f"
            ],
            [
             0.2222222222222222,
             "#7201a8"
            ],
            [
             0.3333333333333333,
             "#9c179e"
            ],
            [
             0.4444444444444444,
             "#bd3786"
            ],
            [
             0.5555555555555556,
             "#d8576b"
            ],
            [
             0.6666666666666666,
             "#ed7953"
            ],
            [
             0.7777777777777778,
             "#fb9f3a"
            ],
            [
             0.8888888888888888,
             "#fdca26"
            ],
            [
             1,
             "#f0f921"
            ]
           ],
           "sequentialminus": [
            [
             0,
             "#0d0887"
            ],
            [
             0.1111111111111111,
             "#46039f"
            ],
            [
             0.2222222222222222,
             "#7201a8"
            ],
            [
             0.3333333333333333,
             "#9c179e"
            ],
            [
             0.4444444444444444,
             "#bd3786"
            ],
            [
             0.5555555555555556,
             "#d8576b"
            ],
            [
             0.6666666666666666,
             "#ed7953"
            ],
            [
             0.7777777777777778,
             "#fb9f3a"
            ],
            [
             0.8888888888888888,
             "#fdca26"
            ],
            [
             1,
             "#f0f921"
            ]
           ]
          },
          "colorway": [
           "#636efa",
           "#EF553B",
           "#00cc96",
           "#ab63fa",
           "#FFA15A",
           "#19d3f3",
           "#FF6692",
           "#B6E880",
           "#FF97FF",
           "#FECB52"
          ],
          "font": {
           "color": "#2a3f5f"
          },
          "geo": {
           "bgcolor": "white",
           "lakecolor": "white",
           "landcolor": "#E5ECF6",
           "showlakes": true,
           "showland": true,
           "subunitcolor": "white"
          },
          "hoverlabel": {
           "align": "left"
          },
          "hovermode": "closest",
          "mapbox": {
           "style": "light"
          },
          "paper_bgcolor": "white",
          "plot_bgcolor": "#E5ECF6",
          "polar": {
           "angularaxis": {
            "gridcolor": "white",
            "linecolor": "white",
            "ticks": ""
           },
           "bgcolor": "#E5ECF6",
           "radialaxis": {
            "gridcolor": "white",
            "linecolor": "white",
            "ticks": ""
           }
          },
          "scene": {
           "xaxis": {
            "backgroundcolor": "#E5ECF6",
            "gridcolor": "white",
            "gridwidth": 2,
            "linecolor": "white",
            "showbackground": true,
            "ticks": "",
            "zerolinecolor": "white"
           },
           "yaxis": {
            "backgroundcolor": "#E5ECF6",
            "gridcolor": "white",
            "gridwidth": 2,
            "linecolor": "white",
            "showbackground": true,
            "ticks": "",
            "zerolinecolor": "white"
           },
           "zaxis": {
            "backgroundcolor": "#E5ECF6",
            "gridcolor": "white",
            "gridwidth": 2,
            "linecolor": "white",
            "showbackground": true,
            "ticks": "",
            "zerolinecolor": "white"
           }
          },
          "shapedefaults": {
           "line": {
            "color": "#2a3f5f"
           }
          },
          "ternary": {
           "aaxis": {
            "gridcolor": "white",
            "linecolor": "white",
            "ticks": ""
           },
           "baxis": {
            "gridcolor": "white",
            "linecolor": "white",
            "ticks": ""
           },
           "bgcolor": "#E5ECF6",
           "caxis": {
            "gridcolor": "white",
            "linecolor": "white",
            "ticks": ""
           }
          },
          "title": {
           "x": 0.05
          },
          "xaxis": {
           "automargin": true,
           "gridcolor": "white",
           "linecolor": "white",
           "ticks": "",
           "title": {
            "standoff": 15
           },
           "zerolinecolor": "white",
           "zerolinewidth": 2
          },
          "yaxis": {
           "automargin": true,
           "gridcolor": "white",
           "linecolor": "white",
           "ticks": "",
           "title": {
            "standoff": 15
           },
           "zerolinecolor": "white",
           "zerolinewidth": 2
          }
         }
        },
        "title": {
         "font": {
          "size": 16
         },
         "text": "Liczba zgonów na COVID-19 u mieszkańców w województwie bez chorób współistniejących<br>na 100 tys. mieszkańców w województwie<br>w podziale na w pełni zaszczepionych i nie w pełni zaszczepionych (od 2021-07-14)",
         "x": 0.5,
         "xanchor": "center"
        },
        "uniformtext": {
         "minsize": 6,
         "mode": "show"
        },
        "width": 800,
        "xaxis": {
         "tickangle": 33
        },
        "yaxis": {
         "title": {
          "text": "Liczba zgonów na 100 tys."
         }
        }
       }
      }
     },
     "metadata": {},
     "output_type": "display_data"
    }
   ],
   "source": [
    "from_date = datetime.date(2021,7,14)\n",
    "\n",
    "title_str = \"bez chorób współistniejących\" \n",
    "filename_str = \"woj_ogolem_bez_wspol\"\n",
    "\n",
    "x_col = 'Województwo'\n",
    "denominator_col = \"mieszkańców w województwie\"\n",
    "\n",
    "df_bez_wspol_woj = prepare_df2(\n",
    "    deaths_df = basiw.dfd.query('czy_wspolistniejace == \"N\"'), \n",
    "    x_col =x_col, \n",
    "    x_col_name = x_col,\n",
    "    denominator_df=pop_woj_df,\n",
    "    denominator_col=denominator_col, \n",
    "    from_date=from_date\n",
    "    )\n",
    "\n",
    "\n",
    "title = \"Liczba zgonów na COVID-19 u \" + denominator_col + \" \" + title_str + \"<br>na 100 tys. \"+ denominator_col +\\\n",
    "        \"<br>w podziale na w pełni zaszczepionych i nie w pełni zaszczepionych (od \" + str(from_date) + \")\"\n",
    "df_to_plot = df_wspol_woj.sort_values(['Zgony nie w pełni zaszczepionych ' + denominator_col + ' na 100 tys. ' + denominator_col], ascending=False)\n",
    "plot_df2(\n",
    "    x_col=x_col, \n",
    "    denominator_col=denominator_col, \n",
    "    title=title , \n",
    "    filename_str=filename_str,  \n",
    "    from_date = from_date, \n",
    "    df = df_to_plot, \n",
    "    image_dir = basiw.image_dir,\n",
    "    legend_y=-0.5\n",
    "    )"
   ]
  },
  {
   "cell_type": "code",
   "execution_count": null,
   "metadata": {},
   "outputs": [],
   "source": []
  }
 ],
 "metadata": {
  "interpreter": {
   "hash": "77fe7f2921fd5ac1420359629674904b142848c704bee1cb7ff35390d0c22cc9"
  },
  "kernelspec": {
   "display_name": "Python 3.6.10 64-bit ('python3.6': conda)",
   "language": "python",
   "name": "python3"
  },
  "language_info": {
   "codemirror_mode": {
    "name": "ipython",
    "version": 3
   },
   "file_extension": ".py",
   "mimetype": "text/x-python",
   "name": "python",
   "nbconvert_exporter": "python",
   "pygments_lexer": "ipython3",
   "version": "3.6.10"
  },
  "orig_nbformat": 4
 },
 "nbformat": 4,
 "nbformat_minor": 2
}
