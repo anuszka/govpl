{
 "cells": [
  {
   "cell_type": "markdown",
   "metadata": {},
   "source": [
    "# Baza BASiW\n",
    "Przypadki i zgony w podziale na:\n",
    "* Datę\n",
    "* Województwo\n",
    "* Powiat\n",
    "* Wiek\n",
    "* Płeć\n",
    "* Stan zaszczepienia\n",
    "* Choroby współistniejące\n",
    "* Upośledzenie odporności\n",
    "* Więcej...\n",
    "\n",
    "## ŚCIĄGNIJ AKTUALNE DANE RĘCZNIE!!!\n",
    "https://basiw.mz.gov.pl/index.html#/visualization?id=3761"
   ]
  },
  {
   "cell_type": "markdown",
   "metadata": {},
   "source": [
    "## Do raportu\n",
    "\n",
    "**Notebook do raportu o zgonach w podziale na stan zaszczepienia**"
   ]
  },
  {
   "cell_type": "markdown",
   "metadata": {},
   "source": [
    "W formatowaniu danych doklejam kolumnę z nazwą województwa, bo jest to dla mnie wygodniejsze do czytania, gdy wyświetlam tabelę dla kontroli."
   ]
  },
  {
   "cell_type": "code",
   "execution_count": 1,
   "metadata": {},
   "outputs": [],
   "source": [
    "\"\"\"\n",
    "Set PYTHONPATH for modules in parallel directory\n",
    "\n",
    "https://stackoverflow.com/questions/3108285/in-python-script-how-do-i-set-pythonpath/3108301\n",
    "\n",
    "\"\"\"\n",
    "\n",
    "import sys\n",
    "\n",
    "try:\n",
    "    sys.path.index('..') # Or os.getcwd() for this directory\n",
    "except ValueError:\n",
    "    sys.path.append('..') # Or os.getcwd() for this directory\n",
    "\n",
    "#--------------------------------------------------------------\n",
    "import pandas as pd\n",
    "import plotly.express as px\n",
    "import plotly.graph_objects as go\n",
    "import os\n",
    "import datetime\n",
    "from share.helper_functions import was_modified_today, display_all, display_all_rows\n",
    "from share.basiw_functions import(\n",
    "    BASiWformat, \n",
    "    get_popwoj_df, \n",
    "    prepare_df, \n",
    "    plot_df, \n",
    "    prepare_df2, \n",
    "    plot_df2, \n",
    "    plot_df3, \n",
    "    CEZvacformat, \n",
    "    plot_df4,\n",
    "    prepare_df1,\n",
    "    plot_df1\n",
    ")"
   ]
  },
  {
   "cell_type": "code",
   "execution_count": 2,
   "metadata": {},
   "outputs": [
    {
     "data": {
      "text/html": [
       "<div>\n",
       "<style scoped>\n",
       "    .dataframe tbody tr th:only-of-type {\n",
       "        vertical-align: middle;\n",
       "    }\n",
       "\n",
       "    .dataframe tbody tr th {\n",
       "        vertical-align: top;\n",
       "    }\n",
       "\n",
       "    .dataframe thead th {\n",
       "        text-align: right;\n",
       "    }\n",
       "</style>\n",
       "<table border=\"1\" class=\"dataframe\">\n",
       "  <thead>\n",
       "    <tr style=\"text-align: right;\">\n",
       "      <th></th>\n",
       "      <th>data_rap_zgonu</th>\n",
       "      <th>teryt_woj</th>\n",
       "      <th>teryt_pow</th>\n",
       "      <th>plec</th>\n",
       "      <th>wiek</th>\n",
       "      <th>kat_wiek</th>\n",
       "      <th>czy_wspolistniejace</th>\n",
       "      <th>producent</th>\n",
       "      <th>dawka_ost</th>\n",
       "      <th>obniz_odpornosc</th>\n",
       "      <th>liczba_zaraportowanych_zgonow</th>\n",
       "      <th>w_pelni_zaszczepiony</th>\n",
       "      <th>Województwo</th>\n",
       "    </tr>\n",
       "  </thead>\n",
       "  <tbody>\n",
       "    <tr>\n",
       "      <th>0</th>\n",
       "      <td>2021-01-02</td>\n",
       "      <td>4</td>\n",
       "      <td>407</td>\n",
       "      <td>K</td>\n",
       "      <td>67.0</td>\n",
       "      <td>65-74</td>\n",
       "      <td>T</td>\n",
       "      <td>NaN</td>\n",
       "      <td>NaN</td>\n",
       "      <td>N</td>\n",
       "      <td>1</td>\n",
       "      <td>N</td>\n",
       "      <td>Kujawsko-Pomorskie</td>\n",
       "    </tr>\n",
       "    <tr>\n",
       "      <th>1</th>\n",
       "      <td>2021-01-02</td>\n",
       "      <td>4</td>\n",
       "      <td>407</td>\n",
       "      <td>K</td>\n",
       "      <td>90.0</td>\n",
       "      <td>85-94</td>\n",
       "      <td>T</td>\n",
       "      <td>NaN</td>\n",
       "      <td>NaN</td>\n",
       "      <td>N</td>\n",
       "      <td>1</td>\n",
       "      <td>N</td>\n",
       "      <td>Kujawsko-Pomorskie</td>\n",
       "    </tr>\n",
       "    <tr>\n",
       "      <th>2</th>\n",
       "      <td>2021-01-02</td>\n",
       "      <td>4</td>\n",
       "      <td>407</td>\n",
       "      <td>M</td>\n",
       "      <td>69.0</td>\n",
       "      <td>65-74</td>\n",
       "      <td>T</td>\n",
       "      <td>NaN</td>\n",
       "      <td>NaN</td>\n",
       "      <td>N</td>\n",
       "      <td>1</td>\n",
       "      <td>N</td>\n",
       "      <td>Kujawsko-Pomorskie</td>\n",
       "    </tr>\n",
       "    <tr>\n",
       "      <th>3</th>\n",
       "      <td>2021-01-02</td>\n",
       "      <td>4</td>\n",
       "      <td>415</td>\n",
       "      <td>M</td>\n",
       "      <td>72.0</td>\n",
       "      <td>65-74</td>\n",
       "      <td>T</td>\n",
       "      <td>NaN</td>\n",
       "      <td>NaN</td>\n",
       "      <td>N</td>\n",
       "      <td>1</td>\n",
       "      <td>N</td>\n",
       "      <td>Kujawsko-Pomorskie</td>\n",
       "    </tr>\n",
       "    <tr>\n",
       "      <th>4</th>\n",
       "      <td>2021-01-02</td>\n",
       "      <td>4</td>\n",
       "      <td>415</td>\n",
       "      <td>M</td>\n",
       "      <td>77.0</td>\n",
       "      <td>75-84</td>\n",
       "      <td>T</td>\n",
       "      <td>NaN</td>\n",
       "      <td>NaN</td>\n",
       "      <td>N</td>\n",
       "      <td>1</td>\n",
       "      <td>N</td>\n",
       "      <td>Kujawsko-Pomorskie</td>\n",
       "    </tr>\n",
       "    <tr>\n",
       "      <th>...</th>\n",
       "      <td>...</td>\n",
       "      <td>...</td>\n",
       "      <td>...</td>\n",
       "      <td>...</td>\n",
       "      <td>...</td>\n",
       "      <td>...</td>\n",
       "      <td>...</td>\n",
       "      <td>...</td>\n",
       "      <td>...</td>\n",
       "      <td>...</td>\n",
       "      <td>...</td>\n",
       "      <td>...</td>\n",
       "      <td>...</td>\n",
       "    </tr>\n",
       "    <tr>\n",
       "      <th>58975</th>\n",
       "      <td>2021-12-13</td>\n",
       "      <td>32</td>\n",
       "      <td>3261</td>\n",
       "      <td>M</td>\n",
       "      <td>83.0</td>\n",
       "      <td>75-84</td>\n",
       "      <td>T</td>\n",
       "      <td>NaN</td>\n",
       "      <td>NaN</td>\n",
       "      <td>N</td>\n",
       "      <td>1</td>\n",
       "      <td>N</td>\n",
       "      <td>Zachodniopomorskie</td>\n",
       "    </tr>\n",
       "    <tr>\n",
       "      <th>58976</th>\n",
       "      <td>2021-12-13</td>\n",
       "      <td>32</td>\n",
       "      <td>3261</td>\n",
       "      <td>M</td>\n",
       "      <td>85.0</td>\n",
       "      <td>85-94</td>\n",
       "      <td>T</td>\n",
       "      <td>Pfizer</td>\n",
       "      <td>pelna_dawka</td>\n",
       "      <td>N</td>\n",
       "      <td>1</td>\n",
       "      <td>T</td>\n",
       "      <td>Zachodniopomorskie</td>\n",
       "    </tr>\n",
       "    <tr>\n",
       "      <th>58977</th>\n",
       "      <td>2021-12-13</td>\n",
       "      <td>32</td>\n",
       "      <td>3262</td>\n",
       "      <td>M</td>\n",
       "      <td>73.0</td>\n",
       "      <td>65-74</td>\n",
       "      <td>T</td>\n",
       "      <td>Pfizer</td>\n",
       "      <td>pelna_dawka</td>\n",
       "      <td>N</td>\n",
       "      <td>1</td>\n",
       "      <td>T</td>\n",
       "      <td>Zachodniopomorskie</td>\n",
       "    </tr>\n",
       "    <tr>\n",
       "      <th>58978</th>\n",
       "      <td>2021-12-13</td>\n",
       "      <td>32</td>\n",
       "      <td>3262</td>\n",
       "      <td>M</td>\n",
       "      <td>78.0</td>\n",
       "      <td>75-84</td>\n",
       "      <td>T</td>\n",
       "      <td>Pfizer</td>\n",
       "      <td>pelna_dawka</td>\n",
       "      <td>N</td>\n",
       "      <td>1</td>\n",
       "      <td>T</td>\n",
       "      <td>Zachodniopomorskie</td>\n",
       "    </tr>\n",
       "    <tr>\n",
       "      <th>58979</th>\n",
       "      <td>2021-12-13</td>\n",
       "      <td>32</td>\n",
       "      <td>3262</td>\n",
       "      <td>M</td>\n",
       "      <td>81.0</td>\n",
       "      <td>75-84</td>\n",
       "      <td>T</td>\n",
       "      <td>Pfizer</td>\n",
       "      <td>pelna_dawka</td>\n",
       "      <td>N</td>\n",
       "      <td>1</td>\n",
       "      <td>T</td>\n",
       "      <td>Zachodniopomorskie</td>\n",
       "    </tr>\n",
       "  </tbody>\n",
       "</table>\n",
       "<p>58980 rows × 13 columns</p>\n",
       "</div>"
      ],
      "text/plain": [
       "      data_rap_zgonu  teryt_woj  teryt_pow plec  wiek kat_wiek  \\\n",
       "0         2021-01-02          4        407    K  67.0    65-74   \n",
       "1         2021-01-02          4        407    K  90.0    85-94   \n",
       "2         2021-01-02          4        407    M  69.0    65-74   \n",
       "3         2021-01-02          4        415    M  72.0    65-74   \n",
       "4         2021-01-02          4        415    M  77.0    75-84   \n",
       "...              ...        ...        ...  ...   ...      ...   \n",
       "58975     2021-12-13         32       3261    M  83.0    75-84   \n",
       "58976     2021-12-13         32       3261    M  85.0    85-94   \n",
       "58977     2021-12-13         32       3262    M  73.0    65-74   \n",
       "58978     2021-12-13         32       3262    M  78.0    75-84   \n",
       "58979     2021-12-13         32       3262    M  81.0    75-84   \n",
       "\n",
       "      czy_wspolistniejace producent    dawka_ost obniz_odpornosc  \\\n",
       "0                       T       NaN          NaN               N   \n",
       "1                       T       NaN          NaN               N   \n",
       "2                       T       NaN          NaN               N   \n",
       "3                       T       NaN          NaN               N   \n",
       "4                       T       NaN          NaN               N   \n",
       "...                   ...       ...          ...             ...   \n",
       "58975                   T       NaN          NaN               N   \n",
       "58976                   T    Pfizer  pelna_dawka               N   \n",
       "58977                   T    Pfizer  pelna_dawka               N   \n",
       "58978                   T    Pfizer  pelna_dawka               N   \n",
       "58979                   T    Pfizer  pelna_dawka               N   \n",
       "\n",
       "       liczba_zaraportowanych_zgonow w_pelni_zaszczepiony         Województwo  \n",
       "0                                  1                    N  Kujawsko-Pomorskie  \n",
       "1                                  1                    N  Kujawsko-Pomorskie  \n",
       "2                                  1                    N  Kujawsko-Pomorskie  \n",
       "3                                  1                    N  Kujawsko-Pomorskie  \n",
       "4                                  1                    N  Kujawsko-Pomorskie  \n",
       "...                              ...                  ...                 ...  \n",
       "58975                              1                    N  Zachodniopomorskie  \n",
       "58976                              1                    T  Zachodniopomorskie  \n",
       "58977                              1                    T  Zachodniopomorskie  \n",
       "58978                              1                    T  Zachodniopomorskie  \n",
       "58979                              1                    T  Zachodniopomorskie  \n",
       "\n",
       "[58980 rows x 13 columns]"
      ]
     },
     "execution_count": 2,
     "metadata": {},
     "output_type": "execute_result"
    }
   ],
   "source": [
    "basiw = BASiWformat(\n",
    "    image_dir = './images',\n",
    "    data_dir = './basiw_data',\n",
    "    data_file_deaths = 'zgony.csv',\n",
    "    data_file_cases = 'zakazenia.csv',\n",
    "    teryt_file = 'TERC_Urzedowy_2021-12-14.csv'\n",
    "    )\n",
    "\n",
    "basiw.dfd\n"
   ]
  },
  {
   "cell_type": "code",
   "execution_count": 3,
   "metadata": {},
   "outputs": [
    {
     "data": {
      "text/html": [
       "<div>\n",
       "<style scoped>\n",
       "    .dataframe tbody tr th:only-of-type {\n",
       "        vertical-align: middle;\n",
       "    }\n",
       "\n",
       "    .dataframe tbody tr th {\n",
       "        vertical-align: top;\n",
       "    }\n",
       "\n",
       "    .dataframe thead th {\n",
       "        text-align: right;\n",
       "    }\n",
       "</style>\n",
       "<table border=\"1\" class=\"dataframe\">\n",
       "  <thead>\n",
       "    <tr style=\"text-align: right;\">\n",
       "      <th></th>\n",
       "      <th>data_rap_zgonu</th>\n",
       "      <th>teryt_woj</th>\n",
       "      <th>teryt_pow</th>\n",
       "      <th>plec</th>\n",
       "      <th>wiek</th>\n",
       "      <th>kat_wiek</th>\n",
       "      <th>czy_wspolistniejace</th>\n",
       "      <th>producent</th>\n",
       "      <th>dawka_ost</th>\n",
       "      <th>obniz_odpornosc</th>\n",
       "      <th>liczba_zaraportowanych_zgonow</th>\n",
       "      <th>w_pelni_zaszczepiony</th>\n",
       "      <th>Województwo</th>\n",
       "    </tr>\n",
       "  </thead>\n",
       "  <tbody>\n",
       "    <tr>\n",
       "      <th>45248</th>\n",
       "      <td>2021-07-14</td>\n",
       "      <td>2</td>\n",
       "      <td>201</td>\n",
       "      <td>K</td>\n",
       "      <td>95.0</td>\n",
       "      <td>95+</td>\n",
       "      <td>N</td>\n",
       "      <td>NaN</td>\n",
       "      <td>NaN</td>\n",
       "      <td>N</td>\n",
       "      <td>1</td>\n",
       "      <td>N</td>\n",
       "      <td>Dolnośląskie</td>\n",
       "    </tr>\n",
       "    <tr>\n",
       "      <th>45249</th>\n",
       "      <td>2021-07-14</td>\n",
       "      <td>4</td>\n",
       "      <td>410</td>\n",
       "      <td>K</td>\n",
       "      <td>89.0</td>\n",
       "      <td>85-94</td>\n",
       "      <td>T</td>\n",
       "      <td>NaN</td>\n",
       "      <td>NaN</td>\n",
       "      <td>N</td>\n",
       "      <td>1</td>\n",
       "      <td>N</td>\n",
       "      <td>Kujawsko-Pomorskie</td>\n",
       "    </tr>\n",
       "    <tr>\n",
       "      <th>45250</th>\n",
       "      <td>2021-07-14</td>\n",
       "      <td>14</td>\n",
       "      <td>1412</td>\n",
       "      <td>K</td>\n",
       "      <td>45.0</td>\n",
       "      <td>45-54</td>\n",
       "      <td>N</td>\n",
       "      <td>NaN</td>\n",
       "      <td>NaN</td>\n",
       "      <td>N</td>\n",
       "      <td>1</td>\n",
       "      <td>N</td>\n",
       "      <td>Mazowieckie</td>\n",
       "    </tr>\n",
       "    <tr>\n",
       "      <th>45251</th>\n",
       "      <td>2021-07-14</td>\n",
       "      <td>16</td>\n",
       "      <td>1610</td>\n",
       "      <td>M</td>\n",
       "      <td>65.0</td>\n",
       "      <td>65-74</td>\n",
       "      <td>T</td>\n",
       "      <td>Astra Zeneca</td>\n",
       "      <td>jedna_dawka</td>\n",
       "      <td>N</td>\n",
       "      <td>1</td>\n",
       "      <td>N</td>\n",
       "      <td>Opolskie</td>\n",
       "    </tr>\n",
       "    <tr>\n",
       "      <th>45252</th>\n",
       "      <td>2021-07-14</td>\n",
       "      <td>18</td>\n",
       "      <td>1808</td>\n",
       "      <td>M</td>\n",
       "      <td>74.0</td>\n",
       "      <td>65-74</td>\n",
       "      <td>T</td>\n",
       "      <td>NaN</td>\n",
       "      <td>NaN</td>\n",
       "      <td>N</td>\n",
       "      <td>1</td>\n",
       "      <td>N</td>\n",
       "      <td>Podkarpackie</td>\n",
       "    </tr>\n",
       "    <tr>\n",
       "      <th>...</th>\n",
       "      <td>...</td>\n",
       "      <td>...</td>\n",
       "      <td>...</td>\n",
       "      <td>...</td>\n",
       "      <td>...</td>\n",
       "      <td>...</td>\n",
       "      <td>...</td>\n",
       "      <td>...</td>\n",
       "      <td>...</td>\n",
       "      <td>...</td>\n",
       "      <td>...</td>\n",
       "      <td>...</td>\n",
       "      <td>...</td>\n",
       "    </tr>\n",
       "    <tr>\n",
       "      <th>58975</th>\n",
       "      <td>2021-12-13</td>\n",
       "      <td>32</td>\n",
       "      <td>3261</td>\n",
       "      <td>M</td>\n",
       "      <td>83.0</td>\n",
       "      <td>75-84</td>\n",
       "      <td>T</td>\n",
       "      <td>NaN</td>\n",
       "      <td>NaN</td>\n",
       "      <td>N</td>\n",
       "      <td>1</td>\n",
       "      <td>N</td>\n",
       "      <td>Zachodniopomorskie</td>\n",
       "    </tr>\n",
       "    <tr>\n",
       "      <th>58976</th>\n",
       "      <td>2021-12-13</td>\n",
       "      <td>32</td>\n",
       "      <td>3261</td>\n",
       "      <td>M</td>\n",
       "      <td>85.0</td>\n",
       "      <td>85-94</td>\n",
       "      <td>T</td>\n",
       "      <td>Pfizer</td>\n",
       "      <td>pelna_dawka</td>\n",
       "      <td>N</td>\n",
       "      <td>1</td>\n",
       "      <td>T</td>\n",
       "      <td>Zachodniopomorskie</td>\n",
       "    </tr>\n",
       "    <tr>\n",
       "      <th>58977</th>\n",
       "      <td>2021-12-13</td>\n",
       "      <td>32</td>\n",
       "      <td>3262</td>\n",
       "      <td>M</td>\n",
       "      <td>73.0</td>\n",
       "      <td>65-74</td>\n",
       "      <td>T</td>\n",
       "      <td>Pfizer</td>\n",
       "      <td>pelna_dawka</td>\n",
       "      <td>N</td>\n",
       "      <td>1</td>\n",
       "      <td>T</td>\n",
       "      <td>Zachodniopomorskie</td>\n",
       "    </tr>\n",
       "    <tr>\n",
       "      <th>58978</th>\n",
       "      <td>2021-12-13</td>\n",
       "      <td>32</td>\n",
       "      <td>3262</td>\n",
       "      <td>M</td>\n",
       "      <td>78.0</td>\n",
       "      <td>75-84</td>\n",
       "      <td>T</td>\n",
       "      <td>Pfizer</td>\n",
       "      <td>pelna_dawka</td>\n",
       "      <td>N</td>\n",
       "      <td>1</td>\n",
       "      <td>T</td>\n",
       "      <td>Zachodniopomorskie</td>\n",
       "    </tr>\n",
       "    <tr>\n",
       "      <th>58979</th>\n",
       "      <td>2021-12-13</td>\n",
       "      <td>32</td>\n",
       "      <td>3262</td>\n",
       "      <td>M</td>\n",
       "      <td>81.0</td>\n",
       "      <td>75-84</td>\n",
       "      <td>T</td>\n",
       "      <td>Pfizer</td>\n",
       "      <td>pelna_dawka</td>\n",
       "      <td>N</td>\n",
       "      <td>1</td>\n",
       "      <td>T</td>\n",
       "      <td>Zachodniopomorskie</td>\n",
       "    </tr>\n",
       "  </tbody>\n",
       "</table>\n",
       "<p>13732 rows × 13 columns</p>\n",
       "</div>"
      ],
      "text/plain": [
       "      data_rap_zgonu  teryt_woj  teryt_pow plec  wiek kat_wiek  \\\n",
       "45248     2021-07-14          2        201    K  95.0      95+   \n",
       "45249     2021-07-14          4        410    K  89.0    85-94   \n",
       "45250     2021-07-14         14       1412    K  45.0    45-54   \n",
       "45251     2021-07-14         16       1610    M  65.0    65-74   \n",
       "45252     2021-07-14         18       1808    M  74.0    65-74   \n",
       "...              ...        ...        ...  ...   ...      ...   \n",
       "58975     2021-12-13         32       3261    M  83.0    75-84   \n",
       "58976     2021-12-13         32       3261    M  85.0    85-94   \n",
       "58977     2021-12-13         32       3262    M  73.0    65-74   \n",
       "58978     2021-12-13         32       3262    M  78.0    75-84   \n",
       "58979     2021-12-13         32       3262    M  81.0    75-84   \n",
       "\n",
       "      czy_wspolistniejace     producent    dawka_ost obniz_odpornosc  \\\n",
       "45248                   N           NaN          NaN               N   \n",
       "45249                   T           NaN          NaN               N   \n",
       "45250                   N           NaN          NaN               N   \n",
       "45251                   T  Astra Zeneca  jedna_dawka               N   \n",
       "45252                   T           NaN          NaN               N   \n",
       "...                   ...           ...          ...             ...   \n",
       "58975                   T           NaN          NaN               N   \n",
       "58976                   T        Pfizer  pelna_dawka               N   \n",
       "58977                   T        Pfizer  pelna_dawka               N   \n",
       "58978                   T        Pfizer  pelna_dawka               N   \n",
       "58979                   T        Pfizer  pelna_dawka               N   \n",
       "\n",
       "       liczba_zaraportowanych_zgonow w_pelni_zaszczepiony         Województwo  \n",
       "45248                              1                    N        Dolnośląskie  \n",
       "45249                              1                    N  Kujawsko-Pomorskie  \n",
       "45250                              1                    N         Mazowieckie  \n",
       "45251                              1                    N            Opolskie  \n",
       "45252                              1                    N        Podkarpackie  \n",
       "...                              ...                  ...                 ...  \n",
       "58975                              1                    N  Zachodniopomorskie  \n",
       "58976                              1                    T  Zachodniopomorskie  \n",
       "58977                              1                    T  Zachodniopomorskie  \n",
       "58978                              1                    T  Zachodniopomorskie  \n",
       "58979                              1                    T  Zachodniopomorskie  \n",
       "\n",
       "[13732 rows x 13 columns]"
      ]
     },
     "execution_count": 3,
     "metadata": {},
     "output_type": "execute_result"
    }
   ],
   "source": [
    "wave4_date = datetime.date(2021, 7, 14)\n",
    "dfd4 = basiw.dfd_from(wave4_date)\n",
    "dfd4\n"
   ]
  },
  {
   "cell_type": "markdown",
   "metadata": {},
   "source": [
    "### Liczba zgonów na COVID-19 w województwach na 100 tys. mieszkańców<br> w podziale na w pełni zaszczepionych i nie w pełni zaszczepionych<br> (Od 14.07.2021)"
   ]
  },
  {
   "cell_type": "markdown",
   "metadata": {},
   "source": [
    "**Słownik z danymi - Populacja Polski / regionu wg wojwództw tworzony będzie na podstawie tego pliku:**\n",
    "/home/ochab/koronawirus_PAN/gov.pl/bitbucket/govpl/GUS/gus_data/wojewodztwa_ludnosc_plec_30.06.2021_GUS.csv"
   ]
  },
  {
   "cell_type": "code",
   "execution_count": 4,
   "metadata": {},
   "outputs": [],
   "source": [
    "dfpopwoj  = get_popwoj_df()\n",
    "dfpopwoj = dfpopwoj[['Ludność']]\n",
    "\n",
    "# dfpopwoj\n",
    "\n",
    "# dfpopwoj.to_dict()['Ludność']"
   ]
  },
  {
   "cell_type": "code",
   "execution_count": 5,
   "metadata": {},
   "outputs": [
    {
     "data": {
      "application/vnd.plotly.v1+json": {
       "config": {
        "plotlyServerURL": "https://plot.ly"
       },
       "data": [
        {
         "name": "Zgony nie w pełni zaszczepionych na 100 tys. mieszkańców",
         "offsetgroup": "1",
         "text": [
          71.79820964597923,
          58.31881063830879,
          36.82208833708802,
          32.56967547452065,
          28.556052688183566,
          28.076766147629606,
          26.217891155345523,
          25.94561487208316,
          25.557854951140683,
          23.441362122103385,
          21.343600457311908,
          18.646442654475383,
          17.94347804416089,
          15.724306225851448,
          15.533921333864539,
          14.321853827579373
         ],
         "textposition": "outside",
         "texttemplate": "%{text:2.1f}",
         "type": "bar",
         "x": [
          "Lubelskie",
          "Podlaskie",
          "Podkarpackie",
          "Opolskie",
          "Łódzkie",
          "Świętokrzyskie",
          "Mazowieckie",
          "Warmińsko-Mazurskie",
          "Kujawsko-Pomorskie",
          "Małopolskie",
          "Zachodniopomorskie",
          "Śląskie",
          "Lubuskie",
          "Wielkopolskie",
          "Dolnośląskie",
          "Pomorskie"
         ],
         "y": [
          71.79820964597923,
          58.31881063830879,
          36.82208833708802,
          32.56967547452065,
          28.556052688183566,
          28.076766147629606,
          26.217891155345523,
          25.94561487208316,
          25.557854951140683,
          23.441362122103385,
          21.343600457311908,
          18.646442654475383,
          17.94347804416089,
          15.724306225851448,
          15.533921333864539,
          14.321853827579373
         ]
        },
        {
         "name": "Zgony w pełni zaszczepionych na 100 tys. mieszkańców",
         "offsetgroup": "2",
         "text": [
          20.274127289885993,
          16.247175984279576,
          7.752018597281689,
          12.123727779159106,
          8.983000701333356,
          9.769401086455916,
          10.535127269318997,
          11.200565983030433,
          11.780954091763897,
          9.446956950334531,
          9.571921096454643,
          8.898422273958277,
          6.978019239395903,
          6.902655374189797,
          5.651850842455178,
          7.629797128383059
         ],
         "textposition": "outside",
         "texttemplate": "%{text:2.1f}",
         "type": "bar",
         "x": [
          "Lubelskie",
          "Podlaskie",
          "Podkarpackie",
          "Opolskie",
          "Łódzkie",
          "Świętokrzyskie",
          "Mazowieckie",
          "Warmińsko-Mazurskie",
          "Kujawsko-Pomorskie",
          "Małopolskie",
          "Zachodniopomorskie",
          "Śląskie",
          "Lubuskie",
          "Wielkopolskie",
          "Dolnośląskie",
          "Pomorskie"
         ],
         "y": [
          20.274127289885993,
          16.247175984279576,
          7.752018597281689,
          12.123727779159106,
          8.983000701333356,
          9.769401086455916,
          10.535127269318997,
          11.200565983030433,
          11.780954091763897,
          9.446956950334531,
          9.571921096454643,
          8.898422273958277,
          6.978019239395903,
          6.902655374189797,
          5.651850842455178,
          7.629797128383059
         ]
        }
       ],
       "layout": {
        "barmode": "group",
        "height": 500,
        "legend": {
         "title": {
          "text": ""
         },
         "x": 0.5,
         "xanchor": "center",
         "y": -0.5
        },
        "template": {
         "data": {
          "bar": [
           {
            "error_x": {
             "color": "#2a3f5f"
            },
            "error_y": {
             "color": "#2a3f5f"
            },
            "marker": {
             "line": {
              "color": "#E5ECF6",
              "width": 0.5
             }
            },
            "type": "bar"
           }
          ],
          "barpolar": [
           {
            "marker": {
             "line": {
              "color": "#E5ECF6",
              "width": 0.5
             }
            },
            "type": "barpolar"
           }
          ],
          "carpet": [
           {
            "aaxis": {
             "endlinecolor": "#2a3f5f",
             "gridcolor": "white",
             "linecolor": "white",
             "minorgridcolor": "white",
             "startlinecolor": "#2a3f5f"
            },
            "baxis": {
             "endlinecolor": "#2a3f5f",
             "gridcolor": "white",
             "linecolor": "white",
             "minorgridcolor": "white",
             "startlinecolor": "#2a3f5f"
            },
            "type": "carpet"
           }
          ],
          "choropleth": [
           {
            "colorbar": {
             "outlinewidth": 0,
             "ticks": ""
            },
            "type": "choropleth"
           }
          ],
          "contour": [
           {
            "colorbar": {
             "outlinewidth": 0,
             "ticks": ""
            },
            "colorscale": [
             [
              0,
              "#0d0887"
             ],
             [
              0.1111111111111111,
              "#46039f"
             ],
             [
              0.2222222222222222,
              "#7201a8"
             ],
             [
              0.3333333333333333,
              "#9c179e"
             ],
             [
              0.4444444444444444,
              "#bd3786"
             ],
             [
              0.5555555555555556,
              "#d8576b"
             ],
             [
              0.6666666666666666,
              "#ed7953"
             ],
             [
              0.7777777777777778,
              "#fb9f3a"
             ],
             [
              0.8888888888888888,
              "#fdca26"
             ],
             [
              1,
              "#f0f921"
             ]
            ],
            "type": "contour"
           }
          ],
          "contourcarpet": [
           {
            "colorbar": {
             "outlinewidth": 0,
             "ticks": ""
            },
            "type": "contourcarpet"
           }
          ],
          "heatmap": [
           {
            "colorbar": {
             "outlinewidth": 0,
             "ticks": ""
            },
            "colorscale": [
             [
              0,
              "#0d0887"
             ],
             [
              0.1111111111111111,
              "#46039f"
             ],
             [
              0.2222222222222222,
              "#7201a8"
             ],
             [
              0.3333333333333333,
              "#9c179e"
             ],
             [
              0.4444444444444444,
              "#bd3786"
             ],
             [
              0.5555555555555556,
              "#d8576b"
             ],
             [
              0.6666666666666666,
              "#ed7953"
             ],
             [
              0.7777777777777778,
              "#fb9f3a"
             ],
             [
              0.8888888888888888,
              "#fdca26"
             ],
             [
              1,
              "#f0f921"
             ]
            ],
            "type": "heatmap"
           }
          ],
          "heatmapgl": [
           {
            "colorbar": {
             "outlinewidth": 0,
             "ticks": ""
            },
            "colorscale": [
             [
              0,
              "#0d0887"
             ],
             [
              0.1111111111111111,
              "#46039f"
             ],
             [
              0.2222222222222222,
              "#7201a8"
             ],
             [
              0.3333333333333333,
              "#9c179e"
             ],
             [
              0.4444444444444444,
              "#bd3786"
             ],
             [
              0.5555555555555556,
              "#d8576b"
             ],
             [
              0.6666666666666666,
              "#ed7953"
             ],
             [
              0.7777777777777778,
              "#fb9f3a"
             ],
             [
              0.8888888888888888,
              "#fdca26"
             ],
             [
              1,
              "#f0f921"
             ]
            ],
            "type": "heatmapgl"
           }
          ],
          "histogram": [
           {
            "marker": {
             "colorbar": {
              "outlinewidth": 0,
              "ticks": ""
             }
            },
            "type": "histogram"
           }
          ],
          "histogram2d": [
           {
            "colorbar": {
             "outlinewidth": 0,
             "ticks": ""
            },
            "colorscale": [
             [
              0,
              "#0d0887"
             ],
             [
              0.1111111111111111,
              "#46039f"
             ],
             [
              0.2222222222222222,
              "#7201a8"
             ],
             [
              0.3333333333333333,
              "#9c179e"
             ],
             [
              0.4444444444444444,
              "#bd3786"
             ],
             [
              0.5555555555555556,
              "#d8576b"
             ],
             [
              0.6666666666666666,
              "#ed7953"
             ],
             [
              0.7777777777777778,
              "#fb9f3a"
             ],
             [
              0.8888888888888888,
              "#fdca26"
             ],
             [
              1,
              "#f0f921"
             ]
            ],
            "type": "histogram2d"
           }
          ],
          "histogram2dcontour": [
           {
            "colorbar": {
             "outlinewidth": 0,
             "ticks": ""
            },
            "colorscale": [
             [
              0,
              "#0d0887"
             ],
             [
              0.1111111111111111,
              "#46039f"
             ],
             [
              0.2222222222222222,
              "#7201a8"
             ],
             [
              0.3333333333333333,
              "#9c179e"
             ],
             [
              0.4444444444444444,
              "#bd3786"
             ],
             [
              0.5555555555555556,
              "#d8576b"
             ],
             [
              0.6666666666666666,
              "#ed7953"
             ],
             [
              0.7777777777777778,
              "#fb9f3a"
             ],
             [
              0.8888888888888888,
              "#fdca26"
             ],
             [
              1,
              "#f0f921"
             ]
            ],
            "type": "histogram2dcontour"
           }
          ],
          "mesh3d": [
           {
            "colorbar": {
             "outlinewidth": 0,
             "ticks": ""
            },
            "type": "mesh3d"
           }
          ],
          "parcoords": [
           {
            "line": {
             "colorbar": {
              "outlinewidth": 0,
              "ticks": ""
             }
            },
            "type": "parcoords"
           }
          ],
          "pie": [
           {
            "automargin": true,
            "type": "pie"
           }
          ],
          "scatter": [
           {
            "marker": {
             "colorbar": {
              "outlinewidth": 0,
              "ticks": ""
             }
            },
            "type": "scatter"
           }
          ],
          "scatter3d": [
           {
            "line": {
             "colorbar": {
              "outlinewidth": 0,
              "ticks": ""
             }
            },
            "marker": {
             "colorbar": {
              "outlinewidth": 0,
              "ticks": ""
             }
            },
            "type": "scatter3d"
           }
          ],
          "scattercarpet": [
           {
            "marker": {
             "colorbar": {
              "outlinewidth": 0,
              "ticks": ""
             }
            },
            "type": "scattercarpet"
           }
          ],
          "scattergeo": [
           {
            "marker": {
             "colorbar": {
              "outlinewidth": 0,
              "ticks": ""
             }
            },
            "type": "scattergeo"
           }
          ],
          "scattergl": [
           {
            "marker": {
             "colorbar": {
              "outlinewidth": 0,
              "ticks": ""
             }
            },
            "type": "scattergl"
           }
          ],
          "scattermapbox": [
           {
            "marker": {
             "colorbar": {
              "outlinewidth": 0,
              "ticks": ""
             }
            },
            "type": "scattermapbox"
           }
          ],
          "scatterpolar": [
           {
            "marker": {
             "colorbar": {
              "outlinewidth": 0,
              "ticks": ""
             }
            },
            "type": "scatterpolar"
           }
          ],
          "scatterpolargl": [
           {
            "marker": {
             "colorbar": {
              "outlinewidth": 0,
              "ticks": ""
             }
            },
            "type": "scatterpolargl"
           }
          ],
          "scatterternary": [
           {
            "marker": {
             "colorbar": {
              "outlinewidth": 0,
              "ticks": ""
             }
            },
            "type": "scatterternary"
           }
          ],
          "surface": [
           {
            "colorbar": {
             "outlinewidth": 0,
             "ticks": ""
            },
            "colorscale": [
             [
              0,
              "#0d0887"
             ],
             [
              0.1111111111111111,
              "#46039f"
             ],
             [
              0.2222222222222222,
              "#7201a8"
             ],
             [
              0.3333333333333333,
              "#9c179e"
             ],
             [
              0.4444444444444444,
              "#bd3786"
             ],
             [
              0.5555555555555556,
              "#d8576b"
             ],
             [
              0.6666666666666666,
              "#ed7953"
             ],
             [
              0.7777777777777778,
              "#fb9f3a"
             ],
             [
              0.8888888888888888,
              "#fdca26"
             ],
             [
              1,
              "#f0f921"
             ]
            ],
            "type": "surface"
           }
          ],
          "table": [
           {
            "cells": {
             "fill": {
              "color": "#EBF0F8"
             },
             "line": {
              "color": "white"
             }
            },
            "header": {
             "fill": {
              "color": "#C8D4E3"
             },
             "line": {
              "color": "white"
             }
            },
            "type": "table"
           }
          ]
         },
         "layout": {
          "annotationdefaults": {
           "arrowcolor": "#2a3f5f",
           "arrowhead": 0,
           "arrowwidth": 1
          },
          "coloraxis": {
           "colorbar": {
            "outlinewidth": 0,
            "ticks": ""
           }
          },
          "colorscale": {
           "diverging": [
            [
             0,
             "#8e0152"
            ],
            [
             0.1,
             "#c51b7d"
            ],
            [
             0.2,
             "#de77ae"
            ],
            [
             0.3,
             "#f1b6da"
            ],
            [
             0.4,
             "#fde0ef"
            ],
            [
             0.5,
             "#f7f7f7"
            ],
            [
             0.6,
             "#e6f5d0"
            ],
            [
             0.7,
             "#b8e186"
            ],
            [
             0.8,
             "#7fbc41"
            ],
            [
             0.9,
             "#4d9221"
            ],
            [
             1,
             "#276419"
            ]
           ],
           "sequential": [
            [
             0,
             "#0d0887"
            ],
            [
             0.1111111111111111,
             "#46039f"
            ],
            [
             0.2222222222222222,
             "#7201a8"
            ],
            [
             0.3333333333333333,
             "#9c179e"
            ],
            [
             0.4444444444444444,
             "#bd3786"
            ],
            [
             0.5555555555555556,
             "#d8576b"
            ],
            [
             0.6666666666666666,
             "#ed7953"
            ],
            [
             0.7777777777777778,
             "#fb9f3a"
            ],
            [
             0.8888888888888888,
             "#fdca26"
            ],
            [
             1,
             "#f0f921"
            ]
           ],
           "sequentialminus": [
            [
             0,
             "#0d0887"
            ],
            [
             0.1111111111111111,
             "#46039f"
            ],
            [
             0.2222222222222222,
             "#7201a8"
            ],
            [
             0.3333333333333333,
             "#9c179e"
            ],
            [
             0.4444444444444444,
             "#bd3786"
            ],
            [
             0.5555555555555556,
             "#d8576b"
            ],
            [
             0.6666666666666666,
             "#ed7953"
            ],
            [
             0.7777777777777778,
             "#fb9f3a"
            ],
            [
             0.8888888888888888,
             "#fdca26"
            ],
            [
             1,
             "#f0f921"
            ]
           ]
          },
          "colorway": [
           "#636efa",
           "#EF553B",
           "#00cc96",
           "#ab63fa",
           "#FFA15A",
           "#19d3f3",
           "#FF6692",
           "#B6E880",
           "#FF97FF",
           "#FECB52"
          ],
          "font": {
           "color": "#2a3f5f"
          },
          "geo": {
           "bgcolor": "white",
           "lakecolor": "white",
           "landcolor": "#E5ECF6",
           "showlakes": true,
           "showland": true,
           "subunitcolor": "white"
          },
          "hoverlabel": {
           "align": "left"
          },
          "hovermode": "closest",
          "mapbox": {
           "style": "light"
          },
          "paper_bgcolor": "white",
          "plot_bgcolor": "#E5ECF6",
          "polar": {
           "angularaxis": {
            "gridcolor": "white",
            "linecolor": "white",
            "ticks": ""
           },
           "bgcolor": "#E5ECF6",
           "radialaxis": {
            "gridcolor": "white",
            "linecolor": "white",
            "ticks": ""
           }
          },
          "scene": {
           "xaxis": {
            "backgroundcolor": "#E5ECF6",
            "gridcolor": "white",
            "gridwidth": 2,
            "linecolor": "white",
            "showbackground": true,
            "ticks": "",
            "zerolinecolor": "white"
           },
           "yaxis": {
            "backgroundcolor": "#E5ECF6",
            "gridcolor": "white",
            "gridwidth": 2,
            "linecolor": "white",
            "showbackground": true,
            "ticks": "",
            "zerolinecolor": "white"
           },
           "zaxis": {
            "backgroundcolor": "#E5ECF6",
            "gridcolor": "white",
            "gridwidth": 2,
            "linecolor": "white",
            "showbackground": true,
            "ticks": "",
            "zerolinecolor": "white"
           }
          },
          "shapedefaults": {
           "line": {
            "color": "#2a3f5f"
           }
          },
          "ternary": {
           "aaxis": {
            "gridcolor": "white",
            "linecolor": "white",
            "ticks": ""
           },
           "baxis": {
            "gridcolor": "white",
            "linecolor": "white",
            "ticks": ""
           },
           "bgcolor": "#E5ECF6",
           "caxis": {
            "gridcolor": "white",
            "linecolor": "white",
            "ticks": ""
           }
          },
          "title": {
           "x": 0.05
          },
          "xaxis": {
           "automargin": true,
           "gridcolor": "white",
           "linecolor": "white",
           "ticks": "",
           "title": {
            "standoff": 15
           },
           "zerolinecolor": "white",
           "zerolinewidth": 2
          },
          "yaxis": {
           "automargin": true,
           "gridcolor": "white",
           "linecolor": "white",
           "ticks": "",
           "title": {
            "standoff": 15
           },
           "zerolinecolor": "white",
           "zerolinewidth": 2
          }
         }
        },
        "title": {
         "font": {
          "size": 16
         },
         "text": "Liczba zgonów na COVID-19 w województwach na 100 tys. mieszkańców<br>        w podziale na w pełni zaszczepionych i nie w pełni zaszczepionych<br>(Od 2021-07-14)",
         "x": 0.5,
         "xanchor": "center"
        },
        "uniformtext": {
         "minsize": 6,
         "mode": "show"
        },
        "width": 800,
        "xaxis": {
         "tickangle": 33
        },
        "yaxis": {
         "title": {
          "text": "Liczba zgonów na 100 tys."
         }
        }
       }
      }
     },
     "metadata": {},
     "output_type": "display_data"
    }
   ],
   "source": [
    "from_date = datetime.date(2021,7,14)\n",
    "\n",
    "df = prepare_df(basiw.dfd, from_date)\n",
    "plot_df(from_date, df, basiw.image_dir)"
   ]
  },
  {
   "cell_type": "markdown",
   "metadata": {},
   "source": [
    "### Liczba zgonów na COVID-19 w Polsce na 100 tys. mieszkańców<br> w podziale na grupy wiekowe<br> (Od 14.07.2021)"
   ]
  },
  {
   "cell_type": "markdown",
   "metadata": {},
   "source": [
    "**Słownik z danymi - Populacja Polski / regionu wg grup wiekowych tworzony będzie na podstawie tego pliku:**\n",
    "/home/ochab/koronawirus_PAN/gov.pl/bitbucket/govpl/Eurostat/eurostat_data/Poland_2020_population.csv"
   ]
  },
  {
   "cell_type": "code",
   "execution_count": 6,
   "metadata": {},
   "outputs": [
    {
     "data": {
      "text/html": [
       "<div>\n",
       "<style scoped>\n",
       "    .dataframe tbody tr th:only-of-type {\n",
       "        vertical-align: middle;\n",
       "    }\n",
       "\n",
       "    .dataframe tbody tr th {\n",
       "        vertical-align: top;\n",
       "    }\n",
       "\n",
       "    .dataframe thead th {\n",
       "        text-align: right;\n",
       "    }\n",
       "</style>\n",
       "<table border=\"1\" class=\"dataframe\">\n",
       "  <thead>\n",
       "    <tr style=\"text-align: right;\">\n",
       "      <th></th>\n",
       "      <th>mieszkańców w danej grupie wiekowej</th>\n",
       "      <th>kobiet w danej grupie wiekowej</th>\n",
       "      <th>mężczyzn w danej grupie wiekowej</th>\n",
       "    </tr>\n",
       "    <tr>\n",
       "      <th>Age group</th>\n",
       "      <th></th>\n",
       "      <th></th>\n",
       "      <th></th>\n",
       "    </tr>\n",
       "  </thead>\n",
       "  <tbody>\n",
       "    <tr>\n",
       "      <th>0-18</th>\n",
       "      <td>6909092.0</td>\n",
       "      <td>3362871.0</td>\n",
       "      <td>3546221.0</td>\n",
       "    </tr>\n",
       "    <tr>\n",
       "      <th>19-24</th>\n",
       "      <td>2391135.0</td>\n",
       "      <td>1169959.0</td>\n",
       "      <td>1221176.0</td>\n",
       "    </tr>\n",
       "    <tr>\n",
       "      <th>25-34</th>\n",
       "      <td>5378329.0</td>\n",
       "      <td>2637687.0</td>\n",
       "      <td>2740642.0</td>\n",
       "    </tr>\n",
       "    <tr>\n",
       "      <th>35-44</th>\n",
       "      <td>6101624.0</td>\n",
       "      <td>3008948.0</td>\n",
       "      <td>3092676.0</td>\n",
       "    </tr>\n",
       "    <tr>\n",
       "      <th>45-54</th>\n",
       "      <td>4789676.0</td>\n",
       "      <td>2395882.0</td>\n",
       "      <td>2393794.0</td>\n",
       "    </tr>\n",
       "    <tr>\n",
       "      <th>55-64</th>\n",
       "      <td>5104262.0</td>\n",
       "      <td>2668881.0</td>\n",
       "      <td>2435381.0</td>\n",
       "    </tr>\n",
       "    <tr>\n",
       "      <th>65-74</th>\n",
       "      <td>4195973.0</td>\n",
       "      <td>2362488.0</td>\n",
       "      <td>1833485.0</td>\n",
       "    </tr>\n",
       "    <tr>\n",
       "      <th>75-84</th>\n",
       "      <td>1912001.0</td>\n",
       "      <td>1218241.0</td>\n",
       "      <td>693760.0</td>\n",
       "    </tr>\n",
       "    <tr>\n",
       "      <th>85-94</th>\n",
       "      <td>756428.0</td>\n",
       "      <td>540453.0</td>\n",
       "      <td>215975.0</td>\n",
       "    </tr>\n",
       "    <tr>\n",
       "      <th>95+</th>\n",
       "      <td>52344.0</td>\n",
       "      <td>40781.0</td>\n",
       "      <td>11563.0</td>\n",
       "    </tr>\n",
       "  </tbody>\n",
       "</table>\n",
       "</div>"
      ],
      "text/plain": [
       "           mieszkańców w danej grupie wiekowej  \\\n",
       "Age group                                        \n",
       "0-18                                 6909092.0   \n",
       "19-24                                2391135.0   \n",
       "25-34                                5378329.0   \n",
       "35-44                                6101624.0   \n",
       "45-54                                4789676.0   \n",
       "55-64                                5104262.0   \n",
       "65-74                                4195973.0   \n",
       "75-84                                1912001.0   \n",
       "85-94                                 756428.0   \n",
       "95+                                    52344.0   \n",
       "\n",
       "           kobiet w danej grupie wiekowej  mężczyzn w danej grupie wiekowej  \n",
       "Age group                                                                    \n",
       "0-18                            3362871.0                         3546221.0  \n",
       "19-24                           1169959.0                         1221176.0  \n",
       "25-34                           2637687.0                         2740642.0  \n",
       "35-44                           3008948.0                         3092676.0  \n",
       "45-54                           2395882.0                         2393794.0  \n",
       "55-64                           2668881.0                         2435381.0  \n",
       "65-74                           2362488.0                         1833485.0  \n",
       "75-84                           1218241.0                          693760.0  \n",
       "85-94                            540453.0                          215975.0  \n",
       "95+                               40781.0                           11563.0  "
      ]
     },
     "execution_count": 6,
     "metadata": {},
     "output_type": "execute_result"
    }
   ],
   "source": [
    "pop_file = \"../Eurostat/eurostat_data/Poland_2020_population.csv\"\n",
    "pop_df = pd.read_csv(pop_file , index_col=0)\n",
    "# print(pop_df['Population 2020 F'].sum() + pop_df['Population 2020 M'].sum())\n",
    "# pop_df['Population 2020 T'].sum()\n",
    "\n",
    "pop_df.rename(\n",
    "    columns = {\n",
    "        'Population 2020 T' : 'mieszkańców w danej grupie wiekowej',\n",
    "        'Population 2020 F' : 'kobiet w danej grupie wiekowej',\n",
    "        'Population 2020 M' : 'mężczyzn w danej grupie wiekowej'\n",
    "        }, inplace = True\n",
    "    )\n",
    "pop_df"
   ]
  },
  {
   "cell_type": "code",
   "execution_count": 7,
   "metadata": {},
   "outputs": [
    {
     "data": {
      "text/html": [
       "<div>\n",
       "<style scoped>\n",
       "    .dataframe tbody tr th:only-of-type {\n",
       "        vertical-align: middle;\n",
       "    }\n",
       "\n",
       "    .dataframe tbody tr th {\n",
       "        vertical-align: top;\n",
       "    }\n",
       "\n",
       "    .dataframe thead th {\n",
       "        text-align: right;\n",
       "    }\n",
       "</style>\n",
       "<table border=\"1\" class=\"dataframe\">\n",
       "  <thead>\n",
       "    <tr style=\"text-align: right;\">\n",
       "      <th></th>\n",
       "      <th>mieszkańców w województwie</th>\n",
       "    </tr>\n",
       "    <tr>\n",
       "      <th>Województwo</th>\n",
       "      <th></th>\n",
       "    </tr>\n",
       "  </thead>\n",
       "  <tbody>\n",
       "    <tr>\n",
       "      <th>Dolnośląskie</th>\n",
       "      <td>2884011</td>\n",
       "    </tr>\n",
       "    <tr>\n",
       "      <th>Kujawsko-Pomorskie</th>\n",
       "      <td>2054163</td>\n",
       "    </tr>\n",
       "    <tr>\n",
       "      <th>Lubelskie</th>\n",
       "      <td>2086403</td>\n",
       "    </tr>\n",
       "    <tr>\n",
       "      <th>Lubuskie</th>\n",
       "      <td>1003150</td>\n",
       "    </tr>\n",
       "    <tr>\n",
       "      <th>Łódzkie</th>\n",
       "      <td>2426806</td>\n",
       "    </tr>\n",
       "    <tr>\n",
       "      <th>Małopolskie</th>\n",
       "      <td>3408505</td>\n",
       "    </tr>\n",
       "    <tr>\n",
       "      <th>Mazowieckie</th>\n",
       "      <td>5419963</td>\n",
       "    </tr>\n",
       "    <tr>\n",
       "      <th>Opolskie</th>\n",
       "      <td>973298</td>\n",
       "    </tr>\n",
       "    <tr>\n",
       "      <th>Podkarpackie</th>\n",
       "      <td>2115578</td>\n",
       "    </tr>\n",
       "    <tr>\n",
       "      <th>Podlaskie</th>\n",
       "      <td>1169434</td>\n",
       "    </tr>\n",
       "    <tr>\n",
       "      <th>Pomorskie</th>\n",
       "      <td>2346065</td>\n",
       "    </tr>\n",
       "    <tr>\n",
       "      <th>Śląskie</th>\n",
       "      <td>4472703</td>\n",
       "    </tr>\n",
       "    <tr>\n",
       "      <th>Świętokrzyskie</th>\n",
       "      <td>1218089</td>\n",
       "    </tr>\n",
       "    <tr>\n",
       "      <th>Warmińsko-Mazurskie</th>\n",
       "      <td>1410643</td>\n",
       "    </tr>\n",
       "    <tr>\n",
       "      <th>Wielkopolskie</th>\n",
       "      <td>3491410</td>\n",
       "    </tr>\n",
       "    <tr>\n",
       "      <th>Zachodniopomorskie</th>\n",
       "      <td>1682003</td>\n",
       "    </tr>\n",
       "  </tbody>\n",
       "</table>\n",
       "</div>"
      ],
      "text/plain": [
       "                     mieszkańców w województwie\n",
       "Województwo                                    \n",
       "Dolnośląskie                            2884011\n",
       "Kujawsko-Pomorskie                      2054163\n",
       "Lubelskie                               2086403\n",
       "Lubuskie                                1003150\n",
       "Łódzkie                                 2426806\n",
       "Małopolskie                             3408505\n",
       "Mazowieckie                             5419963\n",
       "Opolskie                                 973298\n",
       "Podkarpackie                            2115578\n",
       "Podlaskie                               1169434\n",
       "Pomorskie                               2346065\n",
       "Śląskie                                 4472703\n",
       "Świętokrzyskie                          1218089\n",
       "Warmińsko-Mazurskie                     1410643\n",
       "Wielkopolskie                           3491410\n",
       "Zachodniopomorskie                      1682003"
      ]
     },
     "execution_count": 7,
     "metadata": {},
     "output_type": "execute_result"
    }
   ],
   "source": [
    "pop_woj_df = dfpopwoj\n",
    "pop_woj_df.rename(\n",
    "    columns = {\n",
    "        'Ludność' : 'mieszkańców w województwie',\n",
    "        'Kobiety' : 'kobiet w województwie',\n",
    "        'Mężczyźni' : 'mężczyzn w województwie'\n",
    "        }, inplace = True\n",
    "    )\n",
    "pop_woj_df"
   ]
  },
  {
   "cell_type": "code",
   "execution_count": 8,
   "metadata": {},
   "outputs": [
    {
     "data": {
      "text/html": [
       "<div>\n",
       "<style scoped>\n",
       "    .dataframe tbody tr th:only-of-type {\n",
       "        vertical-align: middle;\n",
       "    }\n",
       "\n",
       "    .dataframe tbody tr th {\n",
       "        vertical-align: top;\n",
       "    }\n",
       "\n",
       "    .dataframe thead th {\n",
       "        text-align: right;\n",
       "    }\n",
       "</style>\n",
       "<table border=\"1\" class=\"dataframe\">\n",
       "  <thead>\n",
       "    <tr style=\"text-align: right;\">\n",
       "      <th></th>\n",
       "      <th>liczba_zaraportowanych_zgonow</th>\n",
       "      <th>mieszkańców w danej grupie wiekowej</th>\n",
       "      <th>Zgony nie w pełni zaszczepionych mieszkańców w danej grupie wiekowej</th>\n",
       "      <th>Zgony w pełni zaszczepionych mieszkańców w danej grupie wiekowej</th>\n",
       "      <th>Grupa wiekowa</th>\n",
       "      <th>Zgony nie w pełni zaszczepionych mieszkańców w danej grupie wiekowej na 100 tys. mieszkańców w danej grupie wiekowej</th>\n",
       "      <th>Zgony w pełni zaszczepionych mieszkańców w danej grupie wiekowej na 100 tys. mieszkańców w danej grupie wiekowej</th>\n",
       "    </tr>\n",
       "  </thead>\n",
       "  <tbody>\n",
       "    <tr>\n",
       "      <th>0-18</th>\n",
       "      <td>9</td>\n",
       "      <td>6909092.0</td>\n",
       "      <td>8</td>\n",
       "      <td>1.0</td>\n",
       "      <td>0-18</td>\n",
       "      <td>0.115789</td>\n",
       "      <td>0.014474</td>\n",
       "    </tr>\n",
       "    <tr>\n",
       "      <th>19-24</th>\n",
       "      <td>18</td>\n",
       "      <td>2391135.0</td>\n",
       "      <td>17</td>\n",
       "      <td>1.0</td>\n",
       "      <td>19-24</td>\n",
       "      <td>0.710959</td>\n",
       "      <td>0.041821</td>\n",
       "    </tr>\n",
       "    <tr>\n",
       "      <th>25-34</th>\n",
       "      <td>99</td>\n",
       "      <td>5378329.0</td>\n",
       "      <td>92</td>\n",
       "      <td>7.0</td>\n",
       "      <td>25-34</td>\n",
       "      <td>1.710568</td>\n",
       "      <td>0.130152</td>\n",
       "    </tr>\n",
       "    <tr>\n",
       "      <th>35-44</th>\n",
       "      <td>253</td>\n",
       "      <td>6101624.0</td>\n",
       "      <td>228</td>\n",
       "      <td>25.0</td>\n",
       "      <td>35-44</td>\n",
       "      <td>3.736710</td>\n",
       "      <td>0.409727</td>\n",
       "    </tr>\n",
       "    <tr>\n",
       "      <th>45-54</th>\n",
       "      <td>622</td>\n",
       "      <td>4789676.0</td>\n",
       "      <td>542</td>\n",
       "      <td>80.0</td>\n",
       "      <td>45-54</td>\n",
       "      <td>11.316006</td>\n",
       "      <td>1.670259</td>\n",
       "    </tr>\n",
       "    <tr>\n",
       "      <th>55-64</th>\n",
       "      <td>1465</td>\n",
       "      <td>5104262.0</td>\n",
       "      <td>1172</td>\n",
       "      <td>293.0</td>\n",
       "      <td>55-64</td>\n",
       "      <td>22.961204</td>\n",
       "      <td>5.740301</td>\n",
       "    </tr>\n",
       "    <tr>\n",
       "      <th>65-74</th>\n",
       "      <td>3565</td>\n",
       "      <td>4195973.0</td>\n",
       "      <td>2432</td>\n",
       "      <td>1133.0</td>\n",
       "      <td>65-74</td>\n",
       "      <td>57.960335</td>\n",
       "      <td>27.002080</td>\n",
       "    </tr>\n",
       "    <tr>\n",
       "      <th>75-84</th>\n",
       "      <td>3929</td>\n",
       "      <td>1912001.0</td>\n",
       "      <td>2714</td>\n",
       "      <td>1215.0</td>\n",
       "      <td>75-84</td>\n",
       "      <td>141.945532</td>\n",
       "      <td>63.545992</td>\n",
       "    </tr>\n",
       "    <tr>\n",
       "      <th>85-94</th>\n",
       "      <td>3536</td>\n",
       "      <td>756428.0</td>\n",
       "      <td>2622</td>\n",
       "      <td>914.0</td>\n",
       "      <td>85-94</td>\n",
       "      <td>346.629157</td>\n",
       "      <td>120.831064</td>\n",
       "    </tr>\n",
       "    <tr>\n",
       "      <th>95+</th>\n",
       "      <td>367</td>\n",
       "      <td>52344.0</td>\n",
       "      <td>299</td>\n",
       "      <td>68.0</td>\n",
       "      <td>95+</td>\n",
       "      <td>571.221152</td>\n",
       "      <td>129.909827</td>\n",
       "    </tr>\n",
       "    <tr>\n",
       "      <th>BD</th>\n",
       "      <td>2</td>\n",
       "      <td>NaN</td>\n",
       "      <td>2</td>\n",
       "      <td>NaN</td>\n",
       "      <td>BD</td>\n",
       "      <td>NaN</td>\n",
       "      <td>NaN</td>\n",
       "    </tr>\n",
       "  </tbody>\n",
       "</table>\n",
       "</div>"
      ],
      "text/plain": [
       "       liczba_zaraportowanych_zgonow  mieszkańców w danej grupie wiekowej  \\\n",
       "0-18                               9                            6909092.0   \n",
       "19-24                             18                            2391135.0   \n",
       "25-34                             99                            5378329.0   \n",
       "35-44                            253                            6101624.0   \n",
       "45-54                            622                            4789676.0   \n",
       "55-64                           1465                            5104262.0   \n",
       "65-74                           3565                            4195973.0   \n",
       "75-84                           3929                            1912001.0   \n",
       "85-94                           3536                             756428.0   \n",
       "95+                              367                              52344.0   \n",
       "BD                                 2                                  NaN   \n",
       "\n",
       "       Zgony nie w pełni zaszczepionych mieszkańców w danej grupie wiekowej  \\\n",
       "0-18                                                   8                      \n",
       "19-24                                                 17                      \n",
       "25-34                                                 92                      \n",
       "35-44                                                228                      \n",
       "45-54                                                542                      \n",
       "55-64                                               1172                      \n",
       "65-74                                               2432                      \n",
       "75-84                                               2714                      \n",
       "85-94                                               2622                      \n",
       "95+                                                  299                      \n",
       "BD                                                     2                      \n",
       "\n",
       "       Zgony w pełni zaszczepionych mieszkańców w danej grupie wiekowej  \\\n",
       "0-18                                                 1.0                  \n",
       "19-24                                                1.0                  \n",
       "25-34                                                7.0                  \n",
       "35-44                                               25.0                  \n",
       "45-54                                               80.0                  \n",
       "55-64                                              293.0                  \n",
       "65-74                                             1133.0                  \n",
       "75-84                                             1215.0                  \n",
       "85-94                                              914.0                  \n",
       "95+                                                 68.0                  \n",
       "BD                                                   NaN                  \n",
       "\n",
       "      Grupa wiekowa  \\\n",
       "0-18           0-18   \n",
       "19-24         19-24   \n",
       "25-34         25-34   \n",
       "35-44         35-44   \n",
       "45-54         45-54   \n",
       "55-64         55-64   \n",
       "65-74         65-74   \n",
       "75-84         75-84   \n",
       "85-94         85-94   \n",
       "95+             95+   \n",
       "BD               BD   \n",
       "\n",
       "       Zgony nie w pełni zaszczepionych mieszkańców w danej grupie wiekowej na 100 tys. mieszkańców w danej grupie wiekowej  \\\n",
       "0-18                                            0.115789                                                                      \n",
       "19-24                                           0.710959                                                                      \n",
       "25-34                                           1.710568                                                                      \n",
       "35-44                                           3.736710                                                                      \n",
       "45-54                                          11.316006                                                                      \n",
       "55-64                                          22.961204                                                                      \n",
       "65-74                                          57.960335                                                                      \n",
       "75-84                                         141.945532                                                                      \n",
       "85-94                                         346.629157                                                                      \n",
       "95+                                           571.221152                                                                      \n",
       "BD                                                   NaN                                                                      \n",
       "\n",
       "       Zgony w pełni zaszczepionych mieszkańców w danej grupie wiekowej na 100 tys. mieszkańców w danej grupie wiekowej  \n",
       "0-18                                            0.014474                                                                 \n",
       "19-24                                           0.041821                                                                 \n",
       "25-34                                           0.130152                                                                 \n",
       "35-44                                           0.409727                                                                 \n",
       "45-54                                           1.670259                                                                 \n",
       "55-64                                           5.740301                                                                 \n",
       "65-74                                          27.002080                                                                 \n",
       "75-84                                          63.545992                                                                 \n",
       "85-94                                         120.831064                                                                 \n",
       "95+                                           129.909827                                                                 \n",
       "BD                                                   NaN                                                                 "
      ]
     },
     "execution_count": 8,
     "metadata": {},
     "output_type": "execute_result"
    }
   ],
   "source": [
    "from_date = datetime.date(2021,7,14)\n",
    "\n",
    "df = prepare_df2(\n",
    "    deaths_df = basiw.dfd, \n",
    "    x_col ='kat_wiek', \n",
    "    x_col_name = 'Grupa wiekowa',\n",
    "    denominator_df=pop_df,  \n",
    "    denominator_col='mieszkańców w danej grupie wiekowej', \n",
    "    from_date=from_date\n",
    "    )\n",
    "\n",
    "df"
   ]
  },
  {
   "cell_type": "code",
   "execution_count": 9,
   "metadata": {},
   "outputs": [
    {
     "data": {
      "application/vnd.plotly.v1+json": {
       "config": {
        "plotlyServerURL": "https://plot.ly"
       },
       "data": [
        {
         "name": "Zgony nie w pełni zaszczepionych mieszkańców w danej grupie wiekowej na 100 tys. mieszkańców w danej grupie wiekowej",
         "offsetgroup": "1",
         "text": [
          0.11578945540166494,
          0.7109594397639615,
          1.7105684683848832,
          3.7367100955417767,
          11.316005508514564,
          22.961203794005872,
          57.96033482579607,
          141.94553245526546,
          346.629157038079,
          571.2211523765857
         ],
         "textposition": "outside",
         "texttemplate": "%{text:2.1f}",
         "type": "bar",
         "x": [
          "0-18",
          "19-24",
          "25-34",
          "35-44",
          "45-54",
          "55-64",
          "65-74",
          "75-84",
          "85-94",
          "95+"
         ],
         "y": [
          0.11578945540166494,
          0.7109594397639615,
          1.7105684683848832,
          3.7367100955417767,
          11.316005508514564,
          22.961203794005872,
          57.96033482579607,
          141.94553245526546,
          346.629157038079,
          571.2211523765857
         ]
        },
        {
         "name": "Zgony w pełni zaszczepionych mieszkańców w danej grupie wiekowej na 100 tys. mieszkańców w danej grupie wiekowej",
         "offsetgroup": "2",
         "text": [
          0.014473681925208117,
          0.04182114351552715,
          0.1301519486814585,
          0.4097269841602826,
          1.670259115647906,
          5.740300948501468,
          27.002080327971605,
          63.54599186925112,
          120.83106389504356,
          129.90982729634723
         ],
         "textposition": "outside",
         "texttemplate": "%{text:2.1f}",
         "type": "bar",
         "x": [
          "0-18",
          "19-24",
          "25-34",
          "35-44",
          "45-54",
          "55-64",
          "65-74",
          "75-84",
          "85-94",
          "95+"
         ],
         "y": [
          0.014473681925208117,
          0.04182114351552715,
          0.1301519486814585,
          0.4097269841602826,
          1.670259115647906,
          5.740300948501468,
          27.002080327971605,
          63.54599186925112,
          120.83106389504356,
          129.90982729634723
         ]
        }
       ],
       "layout": {
        "barmode": "group",
        "height": 500,
        "legend": {
         "title": {
          "text": ""
         },
         "x": 0.5,
         "xanchor": "center",
         "y": -0.25
        },
        "template": {
         "data": {
          "bar": [
           {
            "error_x": {
             "color": "#2a3f5f"
            },
            "error_y": {
             "color": "#2a3f5f"
            },
            "marker": {
             "line": {
              "color": "#E5ECF6",
              "width": 0.5
             }
            },
            "type": "bar"
           }
          ],
          "barpolar": [
           {
            "marker": {
             "line": {
              "color": "#E5ECF6",
              "width": 0.5
             }
            },
            "type": "barpolar"
           }
          ],
          "carpet": [
           {
            "aaxis": {
             "endlinecolor": "#2a3f5f",
             "gridcolor": "white",
             "linecolor": "white",
             "minorgridcolor": "white",
             "startlinecolor": "#2a3f5f"
            },
            "baxis": {
             "endlinecolor": "#2a3f5f",
             "gridcolor": "white",
             "linecolor": "white",
             "minorgridcolor": "white",
             "startlinecolor": "#2a3f5f"
            },
            "type": "carpet"
           }
          ],
          "choropleth": [
           {
            "colorbar": {
             "outlinewidth": 0,
             "ticks": ""
            },
            "type": "choropleth"
           }
          ],
          "contour": [
           {
            "colorbar": {
             "outlinewidth": 0,
             "ticks": ""
            },
            "colorscale": [
             [
              0,
              "#0d0887"
             ],
             [
              0.1111111111111111,
              "#46039f"
             ],
             [
              0.2222222222222222,
              "#7201a8"
             ],
             [
              0.3333333333333333,
              "#9c179e"
             ],
             [
              0.4444444444444444,
              "#bd3786"
             ],
             [
              0.5555555555555556,
              "#d8576b"
             ],
             [
              0.6666666666666666,
              "#ed7953"
             ],
             [
              0.7777777777777778,
              "#fb9f3a"
             ],
             [
              0.8888888888888888,
              "#fdca26"
             ],
             [
              1,
              "#f0f921"
             ]
            ],
            "type": "contour"
           }
          ],
          "contourcarpet": [
           {
            "colorbar": {
             "outlinewidth": 0,
             "ticks": ""
            },
            "type": "contourcarpet"
           }
          ],
          "heatmap": [
           {
            "colorbar": {
             "outlinewidth": 0,
             "ticks": ""
            },
            "colorscale": [
             [
              0,
              "#0d0887"
             ],
             [
              0.1111111111111111,
              "#46039f"
             ],
             [
              0.2222222222222222,
              "#7201a8"
             ],
             [
              0.3333333333333333,
              "#9c179e"
             ],
             [
              0.4444444444444444,
              "#bd3786"
             ],
             [
              0.5555555555555556,
              "#d8576b"
             ],
             [
              0.6666666666666666,
              "#ed7953"
             ],
             [
              0.7777777777777778,
              "#fb9f3a"
             ],
             [
              0.8888888888888888,
              "#fdca26"
             ],
             [
              1,
              "#f0f921"
             ]
            ],
            "type": "heatmap"
           }
          ],
          "heatmapgl": [
           {
            "colorbar": {
             "outlinewidth": 0,
             "ticks": ""
            },
            "colorscale": [
             [
              0,
              "#0d0887"
             ],
             [
              0.1111111111111111,
              "#46039f"
             ],
             [
              0.2222222222222222,
              "#7201a8"
             ],
             [
              0.3333333333333333,
              "#9c179e"
             ],
             [
              0.4444444444444444,
              "#bd3786"
             ],
             [
              0.5555555555555556,
              "#d8576b"
             ],
             [
              0.6666666666666666,
              "#ed7953"
             ],
             [
              0.7777777777777778,
              "#fb9f3a"
             ],
             [
              0.8888888888888888,
              "#fdca26"
             ],
             [
              1,
              "#f0f921"
             ]
            ],
            "type": "heatmapgl"
           }
          ],
          "histogram": [
           {
            "marker": {
             "colorbar": {
              "outlinewidth": 0,
              "ticks": ""
             }
            },
            "type": "histogram"
           }
          ],
          "histogram2d": [
           {
            "colorbar": {
             "outlinewidth": 0,
             "ticks": ""
            },
            "colorscale": [
             [
              0,
              "#0d0887"
             ],
             [
              0.1111111111111111,
              "#46039f"
             ],
             [
              0.2222222222222222,
              "#7201a8"
             ],
             [
              0.3333333333333333,
              "#9c179e"
             ],
             [
              0.4444444444444444,
              "#bd3786"
             ],
             [
              0.5555555555555556,
              "#d8576b"
             ],
             [
              0.6666666666666666,
              "#ed7953"
             ],
             [
              0.7777777777777778,
              "#fb9f3a"
             ],
             [
              0.8888888888888888,
              "#fdca26"
             ],
             [
              1,
              "#f0f921"
             ]
            ],
            "type": "histogram2d"
           }
          ],
          "histogram2dcontour": [
           {
            "colorbar": {
             "outlinewidth": 0,
             "ticks": ""
            },
            "colorscale": [
             [
              0,
              "#0d0887"
             ],
             [
              0.1111111111111111,
              "#46039f"
             ],
             [
              0.2222222222222222,
              "#7201a8"
             ],
             [
              0.3333333333333333,
              "#9c179e"
             ],
             [
              0.4444444444444444,
              "#bd3786"
             ],
             [
              0.5555555555555556,
              "#d8576b"
             ],
             [
              0.6666666666666666,
              "#ed7953"
             ],
             [
              0.7777777777777778,
              "#fb9f3a"
             ],
             [
              0.8888888888888888,
              "#fdca26"
             ],
             [
              1,
              "#f0f921"
             ]
            ],
            "type": "histogram2dcontour"
           }
          ],
          "mesh3d": [
           {
            "colorbar": {
             "outlinewidth": 0,
             "ticks": ""
            },
            "type": "mesh3d"
           }
          ],
          "parcoords": [
           {
            "line": {
             "colorbar": {
              "outlinewidth": 0,
              "ticks": ""
             }
            },
            "type": "parcoords"
           }
          ],
          "pie": [
           {
            "automargin": true,
            "type": "pie"
           }
          ],
          "scatter": [
           {
            "marker": {
             "colorbar": {
              "outlinewidth": 0,
              "ticks": ""
             }
            },
            "type": "scatter"
           }
          ],
          "scatter3d": [
           {
            "line": {
             "colorbar": {
              "outlinewidth": 0,
              "ticks": ""
             }
            },
            "marker": {
             "colorbar": {
              "outlinewidth": 0,
              "ticks": ""
             }
            },
            "type": "scatter3d"
           }
          ],
          "scattercarpet": [
           {
            "marker": {
             "colorbar": {
              "outlinewidth": 0,
              "ticks": ""
             }
            },
            "type": "scattercarpet"
           }
          ],
          "scattergeo": [
           {
            "marker": {
             "colorbar": {
              "outlinewidth": 0,
              "ticks": ""
             }
            },
            "type": "scattergeo"
           }
          ],
          "scattergl": [
           {
            "marker": {
             "colorbar": {
              "outlinewidth": 0,
              "ticks": ""
             }
            },
            "type": "scattergl"
           }
          ],
          "scattermapbox": [
           {
            "marker": {
             "colorbar": {
              "outlinewidth": 0,
              "ticks": ""
             }
            },
            "type": "scattermapbox"
           }
          ],
          "scatterpolar": [
           {
            "marker": {
             "colorbar": {
              "outlinewidth": 0,
              "ticks": ""
             }
            },
            "type": "scatterpolar"
           }
          ],
          "scatterpolargl": [
           {
            "marker": {
             "colorbar": {
              "outlinewidth": 0,
              "ticks": ""
             }
            },
            "type": "scatterpolargl"
           }
          ],
          "scatterternary": [
           {
            "marker": {
             "colorbar": {
              "outlinewidth": 0,
              "ticks": ""
             }
            },
            "type": "scatterternary"
           }
          ],
          "surface": [
           {
            "colorbar": {
             "outlinewidth": 0,
             "ticks": ""
            },
            "colorscale": [
             [
              0,
              "#0d0887"
             ],
             [
              0.1111111111111111,
              "#46039f"
             ],
             [
              0.2222222222222222,
              "#7201a8"
             ],
             [
              0.3333333333333333,
              "#9c179e"
             ],
             [
              0.4444444444444444,
              "#bd3786"
             ],
             [
              0.5555555555555556,
              "#d8576b"
             ],
             [
              0.6666666666666666,
              "#ed7953"
             ],
             [
              0.7777777777777778,
              "#fb9f3a"
             ],
             [
              0.8888888888888888,
              "#fdca26"
             ],
             [
              1,
              "#f0f921"
             ]
            ],
            "type": "surface"
           }
          ],
          "table": [
           {
            "cells": {
             "fill": {
              "color": "#EBF0F8"
             },
             "line": {
              "color": "white"
             }
            },
            "header": {
             "fill": {
              "color": "#C8D4E3"
             },
             "line": {
              "color": "white"
             }
            },
            "type": "table"
           }
          ]
         },
         "layout": {
          "annotationdefaults": {
           "arrowcolor": "#2a3f5f",
           "arrowhead": 0,
           "arrowwidth": 1
          },
          "coloraxis": {
           "colorbar": {
            "outlinewidth": 0,
            "ticks": ""
           }
          },
          "colorscale": {
           "diverging": [
            [
             0,
             "#8e0152"
            ],
            [
             0.1,
             "#c51b7d"
            ],
            [
             0.2,
             "#de77ae"
            ],
            [
             0.3,
             "#f1b6da"
            ],
            [
             0.4,
             "#fde0ef"
            ],
            [
             0.5,
             "#f7f7f7"
            ],
            [
             0.6,
             "#e6f5d0"
            ],
            [
             0.7,
             "#b8e186"
            ],
            [
             0.8,
             "#7fbc41"
            ],
            [
             0.9,
             "#4d9221"
            ],
            [
             1,
             "#276419"
            ]
           ],
           "sequential": [
            [
             0,
             "#0d0887"
            ],
            [
             0.1111111111111111,
             "#46039f"
            ],
            [
             0.2222222222222222,
             "#7201a8"
            ],
            [
             0.3333333333333333,
             "#9c179e"
            ],
            [
             0.4444444444444444,
             "#bd3786"
            ],
            [
             0.5555555555555556,
             "#d8576b"
            ],
            [
             0.6666666666666666,
             "#ed7953"
            ],
            [
             0.7777777777777778,
             "#fb9f3a"
            ],
            [
             0.8888888888888888,
             "#fdca26"
            ],
            [
             1,
             "#f0f921"
            ]
           ],
           "sequentialminus": [
            [
             0,
             "#0d0887"
            ],
            [
             0.1111111111111111,
             "#46039f"
            ],
            [
             0.2222222222222222,
             "#7201a8"
            ],
            [
             0.3333333333333333,
             "#9c179e"
            ],
            [
             0.4444444444444444,
             "#bd3786"
            ],
            [
             0.5555555555555556,
             "#d8576b"
            ],
            [
             0.6666666666666666,
             "#ed7953"
            ],
            [
             0.7777777777777778,
             "#fb9f3a"
            ],
            [
             0.8888888888888888,
             "#fdca26"
            ],
            [
             1,
             "#f0f921"
            ]
           ]
          },
          "colorway": [
           "#636efa",
           "#EF553B",
           "#00cc96",
           "#ab63fa",
           "#FFA15A",
           "#19d3f3",
           "#FF6692",
           "#B6E880",
           "#FF97FF",
           "#FECB52"
          ],
          "font": {
           "color": "#2a3f5f"
          },
          "geo": {
           "bgcolor": "white",
           "lakecolor": "white",
           "landcolor": "#E5ECF6",
           "showlakes": true,
           "showland": true,
           "subunitcolor": "white"
          },
          "hoverlabel": {
           "align": "left"
          },
          "hovermode": "closest",
          "mapbox": {
           "style": "light"
          },
          "paper_bgcolor": "white",
          "plot_bgcolor": "#E5ECF6",
          "polar": {
           "angularaxis": {
            "gridcolor": "white",
            "linecolor": "white",
            "ticks": ""
           },
           "bgcolor": "#E5ECF6",
           "radialaxis": {
            "gridcolor": "white",
            "linecolor": "white",
            "ticks": ""
           }
          },
          "scene": {
           "xaxis": {
            "backgroundcolor": "#E5ECF6",
            "gridcolor": "white",
            "gridwidth": 2,
            "linecolor": "white",
            "showbackground": true,
            "ticks": "",
            "zerolinecolor": "white"
           },
           "yaxis": {
            "backgroundcolor": "#E5ECF6",
            "gridcolor": "white",
            "gridwidth": 2,
            "linecolor": "white",
            "showbackground": true,
            "ticks": "",
            "zerolinecolor": "white"
           },
           "zaxis": {
            "backgroundcolor": "#E5ECF6",
            "gridcolor": "white",
            "gridwidth": 2,
            "linecolor": "white",
            "showbackground": true,
            "ticks": "",
            "zerolinecolor": "white"
           }
          },
          "shapedefaults": {
           "line": {
            "color": "#2a3f5f"
           }
          },
          "ternary": {
           "aaxis": {
            "gridcolor": "white",
            "linecolor": "white",
            "ticks": ""
           },
           "baxis": {
            "gridcolor": "white",
            "linecolor": "white",
            "ticks": ""
           },
           "bgcolor": "#E5ECF6",
           "caxis": {
            "gridcolor": "white",
            "linecolor": "white",
            "ticks": ""
           }
          },
          "title": {
           "x": 0.05
          },
          "xaxis": {
           "automargin": true,
           "gridcolor": "white",
           "linecolor": "white",
           "ticks": "",
           "title": {
            "standoff": 15
           },
           "zerolinecolor": "white",
           "zerolinewidth": 2
          },
          "yaxis": {
           "automargin": true,
           "gridcolor": "white",
           "linecolor": "white",
           "ticks": "",
           "title": {
            "standoff": 15
           },
           "zerolinecolor": "white",
           "zerolinewidth": 2
          }
         }
        },
        "title": {
         "font": {
          "size": 16
         },
         "text": "Liczba zgonów na COVID-19 mieszkańców w danej grupie wiekowej w Polsce<br>na 100 tys. mieszkańców w danej grupie wiekowej<br>w podziale na w pełni zaszczepionych i nie w pełni zaszczepionych (od 2021-07-14)",
         "x": 0.5,
         "xanchor": "center"
        },
        "uniformtext": {
         "minsize": 6,
         "mode": "show"
        },
        "width": 800,
        "xaxis": {
         "tickangle": 33
        },
        "yaxis": {
         "title": {
          "text": "Liczba zgonów na 100 tys."
         }
        }
       }
      }
     },
     "metadata": {},
     "output_type": "display_data"
    }
   ],
   "source": [
    "x_col = \"Grupa wiekowa\"\n",
    "title_str = \"w Polsce\" #\"w województwach\"\n",
    "filename_str = \"wiek_ogolem\"\n",
    "denominator_col = \"mieszkańców w danej grupie wiekowej\"\n",
    "title = \"Liczba zgonów na COVID-19 \" + denominator_col + \" \" + title_str + \"<br>na 100 tys. \"+ denominator_col +\\\n",
    "        \"<br>w podziale na w pełni zaszczepionych i nie w pełni zaszczepionych (od \" + str(from_date) + \")\"\n",
    "df_to_plot = df[:-1]\n",
    "\n",
    "plot_df2(\n",
    "    x_col=x_col, \n",
    "    denominator_col=denominator_col, \n",
    "    title=title , \n",
    "    filename_str=filename_str,  \n",
    "    from_date = from_date, \n",
    "    df = df_to_plot, \n",
    "    image_dir = basiw.image_dir\n",
    "    )"
   ]
  },
  {
   "cell_type": "markdown",
   "metadata": {},
   "source": [
    "### Liczba zgonów na COVID-19 w Polsce, według płci, na 100 tys. mieszkańców<br> w podziale na grupy wiekowe<br> (Od 14.07.2021) "
   ]
  },
  {
   "cell_type": "code",
   "execution_count": 10,
   "metadata": {},
   "outputs": [
    {
     "data": {
      "text/html": [
       "<div>\n",
       "<style scoped>\n",
       "    .dataframe tbody tr th:only-of-type {\n",
       "        vertical-align: middle;\n",
       "    }\n",
       "\n",
       "    .dataframe tbody tr th {\n",
       "        vertical-align: top;\n",
       "    }\n",
       "\n",
       "    .dataframe thead th {\n",
       "        text-align: right;\n",
       "    }\n",
       "</style>\n",
       "<table border=\"1\" class=\"dataframe\">\n",
       "  <thead>\n",
       "    <tr style=\"text-align: right;\">\n",
       "      <th></th>\n",
       "      <th>data_rap_zgonu</th>\n",
       "      <th>teryt_woj</th>\n",
       "      <th>teryt_pow</th>\n",
       "      <th>plec</th>\n",
       "      <th>wiek</th>\n",
       "      <th>kat_wiek</th>\n",
       "      <th>czy_wspolistniejace</th>\n",
       "      <th>producent</th>\n",
       "      <th>dawka_ost</th>\n",
       "      <th>obniz_odpornosc</th>\n",
       "      <th>liczba_zaraportowanych_zgonow</th>\n",
       "      <th>w_pelni_zaszczepiony</th>\n",
       "      <th>Województwo</th>\n",
       "    </tr>\n",
       "  </thead>\n",
       "  <tbody>\n",
       "    <tr>\n",
       "      <th>2</th>\n",
       "      <td>2021-01-02</td>\n",
       "      <td>4</td>\n",
       "      <td>407</td>\n",
       "      <td>M</td>\n",
       "      <td>69.0</td>\n",
       "      <td>65-74</td>\n",
       "      <td>T</td>\n",
       "      <td>NaN</td>\n",
       "      <td>NaN</td>\n",
       "      <td>N</td>\n",
       "      <td>1</td>\n",
       "      <td>N</td>\n",
       "      <td>Kujawsko-Pomorskie</td>\n",
       "    </tr>\n",
       "    <tr>\n",
       "      <th>3</th>\n",
       "      <td>2021-01-02</td>\n",
       "      <td>4</td>\n",
       "      <td>415</td>\n",
       "      <td>M</td>\n",
       "      <td>72.0</td>\n",
       "      <td>65-74</td>\n",
       "      <td>T</td>\n",
       "      <td>NaN</td>\n",
       "      <td>NaN</td>\n",
       "      <td>N</td>\n",
       "      <td>1</td>\n",
       "      <td>N</td>\n",
       "      <td>Kujawsko-Pomorskie</td>\n",
       "    </tr>\n",
       "    <tr>\n",
       "      <th>4</th>\n",
       "      <td>2021-01-02</td>\n",
       "      <td>4</td>\n",
       "      <td>415</td>\n",
       "      <td>M</td>\n",
       "      <td>77.0</td>\n",
       "      <td>75-84</td>\n",
       "      <td>T</td>\n",
       "      <td>NaN</td>\n",
       "      <td>NaN</td>\n",
       "      <td>N</td>\n",
       "      <td>1</td>\n",
       "      <td>N</td>\n",
       "      <td>Kujawsko-Pomorskie</td>\n",
       "    </tr>\n",
       "    <tr>\n",
       "      <th>5</th>\n",
       "      <td>2021-01-02</td>\n",
       "      <td>4</td>\n",
       "      <td>418</td>\n",
       "      <td>M</td>\n",
       "      <td>76.0</td>\n",
       "      <td>75-84</td>\n",
       "      <td>T</td>\n",
       "      <td>NaN</td>\n",
       "      <td>NaN</td>\n",
       "      <td>N</td>\n",
       "      <td>1</td>\n",
       "      <td>N</td>\n",
       "      <td>Kujawsko-Pomorskie</td>\n",
       "    </tr>\n",
       "    <tr>\n",
       "      <th>7</th>\n",
       "      <td>2021-01-02</td>\n",
       "      <td>4</td>\n",
       "      <td>464</td>\n",
       "      <td>M</td>\n",
       "      <td>67.0</td>\n",
       "      <td>65-74</td>\n",
       "      <td>T</td>\n",
       "      <td>NaN</td>\n",
       "      <td>NaN</td>\n",
       "      <td>N</td>\n",
       "      <td>1</td>\n",
       "      <td>N</td>\n",
       "      <td>Kujawsko-Pomorskie</td>\n",
       "    </tr>\n",
       "    <tr>\n",
       "      <th>...</th>\n",
       "      <td>...</td>\n",
       "      <td>...</td>\n",
       "      <td>...</td>\n",
       "      <td>...</td>\n",
       "      <td>...</td>\n",
       "      <td>...</td>\n",
       "      <td>...</td>\n",
       "      <td>...</td>\n",
       "      <td>...</td>\n",
       "      <td>...</td>\n",
       "      <td>...</td>\n",
       "      <td>...</td>\n",
       "      <td>...</td>\n",
       "    </tr>\n",
       "    <tr>\n",
       "      <th>58975</th>\n",
       "      <td>2021-12-13</td>\n",
       "      <td>32</td>\n",
       "      <td>3261</td>\n",
       "      <td>M</td>\n",
       "      <td>83.0</td>\n",
       "      <td>75-84</td>\n",
       "      <td>T</td>\n",
       "      <td>NaN</td>\n",
       "      <td>NaN</td>\n",
       "      <td>N</td>\n",
       "      <td>1</td>\n",
       "      <td>N</td>\n",
       "      <td>Zachodniopomorskie</td>\n",
       "    </tr>\n",
       "    <tr>\n",
       "      <th>58976</th>\n",
       "      <td>2021-12-13</td>\n",
       "      <td>32</td>\n",
       "      <td>3261</td>\n",
       "      <td>M</td>\n",
       "      <td>85.0</td>\n",
       "      <td>85-94</td>\n",
       "      <td>T</td>\n",
       "      <td>Pfizer</td>\n",
       "      <td>pelna_dawka</td>\n",
       "      <td>N</td>\n",
       "      <td>1</td>\n",
       "      <td>T</td>\n",
       "      <td>Zachodniopomorskie</td>\n",
       "    </tr>\n",
       "    <tr>\n",
       "      <th>58977</th>\n",
       "      <td>2021-12-13</td>\n",
       "      <td>32</td>\n",
       "      <td>3262</td>\n",
       "      <td>M</td>\n",
       "      <td>73.0</td>\n",
       "      <td>65-74</td>\n",
       "      <td>T</td>\n",
       "      <td>Pfizer</td>\n",
       "      <td>pelna_dawka</td>\n",
       "      <td>N</td>\n",
       "      <td>1</td>\n",
       "      <td>T</td>\n",
       "      <td>Zachodniopomorskie</td>\n",
       "    </tr>\n",
       "    <tr>\n",
       "      <th>58978</th>\n",
       "      <td>2021-12-13</td>\n",
       "      <td>32</td>\n",
       "      <td>3262</td>\n",
       "      <td>M</td>\n",
       "      <td>78.0</td>\n",
       "      <td>75-84</td>\n",
       "      <td>T</td>\n",
       "      <td>Pfizer</td>\n",
       "      <td>pelna_dawka</td>\n",
       "      <td>N</td>\n",
       "      <td>1</td>\n",
       "      <td>T</td>\n",
       "      <td>Zachodniopomorskie</td>\n",
       "    </tr>\n",
       "    <tr>\n",
       "      <th>58979</th>\n",
       "      <td>2021-12-13</td>\n",
       "      <td>32</td>\n",
       "      <td>3262</td>\n",
       "      <td>M</td>\n",
       "      <td>81.0</td>\n",
       "      <td>75-84</td>\n",
       "      <td>T</td>\n",
       "      <td>Pfizer</td>\n",
       "      <td>pelna_dawka</td>\n",
       "      <td>N</td>\n",
       "      <td>1</td>\n",
       "      <td>T</td>\n",
       "      <td>Zachodniopomorskie</td>\n",
       "    </tr>\n",
       "  </tbody>\n",
       "</table>\n",
       "<p>32005 rows × 13 columns</p>\n",
       "</div>"
      ],
      "text/plain": [
       "      data_rap_zgonu  teryt_woj  teryt_pow plec  wiek kat_wiek  \\\n",
       "2         2021-01-02          4        407    M  69.0    65-74   \n",
       "3         2021-01-02          4        415    M  72.0    65-74   \n",
       "4         2021-01-02          4        415    M  77.0    75-84   \n",
       "5         2021-01-02          4        418    M  76.0    75-84   \n",
       "7         2021-01-02          4        464    M  67.0    65-74   \n",
       "...              ...        ...        ...  ...   ...      ...   \n",
       "58975     2021-12-13         32       3261    M  83.0    75-84   \n",
       "58976     2021-12-13         32       3261    M  85.0    85-94   \n",
       "58977     2021-12-13         32       3262    M  73.0    65-74   \n",
       "58978     2021-12-13         32       3262    M  78.0    75-84   \n",
       "58979     2021-12-13         32       3262    M  81.0    75-84   \n",
       "\n",
       "      czy_wspolistniejace producent    dawka_ost obniz_odpornosc  \\\n",
       "2                       T       NaN          NaN               N   \n",
       "3                       T       NaN          NaN               N   \n",
       "4                       T       NaN          NaN               N   \n",
       "5                       T       NaN          NaN               N   \n",
       "7                       T       NaN          NaN               N   \n",
       "...                   ...       ...          ...             ...   \n",
       "58975                   T       NaN          NaN               N   \n",
       "58976                   T    Pfizer  pelna_dawka               N   \n",
       "58977                   T    Pfizer  pelna_dawka               N   \n",
       "58978                   T    Pfizer  pelna_dawka               N   \n",
       "58979                   T    Pfizer  pelna_dawka               N   \n",
       "\n",
       "       liczba_zaraportowanych_zgonow w_pelni_zaszczepiony         Województwo  \n",
       "2                                  1                    N  Kujawsko-Pomorskie  \n",
       "3                                  1                    N  Kujawsko-Pomorskie  \n",
       "4                                  1                    N  Kujawsko-Pomorskie  \n",
       "5                                  1                    N  Kujawsko-Pomorskie  \n",
       "7                                  1                    N  Kujawsko-Pomorskie  \n",
       "...                              ...                  ...                 ...  \n",
       "58975                              1                    N  Zachodniopomorskie  \n",
       "58976                              1                    T  Zachodniopomorskie  \n",
       "58977                              1                    T  Zachodniopomorskie  \n",
       "58978                              1                    T  Zachodniopomorskie  \n",
       "58979                              1                    T  Zachodniopomorskie  \n",
       "\n",
       "[32005 rows x 13 columns]"
      ]
     },
     "execution_count": 10,
     "metadata": {},
     "output_type": "execute_result"
    }
   ],
   "source": [
    "basiw.dfd.query('plec==\"M\"')"
   ]
  },
  {
   "cell_type": "code",
   "execution_count": 11,
   "metadata": {},
   "outputs": [
    {
     "data": {
      "text/html": [
       "<div>\n",
       "<style scoped>\n",
       "    .dataframe tbody tr th:only-of-type {\n",
       "        vertical-align: middle;\n",
       "    }\n",
       "\n",
       "    .dataframe tbody tr th {\n",
       "        vertical-align: top;\n",
       "    }\n",
       "\n",
       "    .dataframe thead th {\n",
       "        text-align: right;\n",
       "    }\n",
       "</style>\n",
       "<table border=\"1\" class=\"dataframe\">\n",
       "  <thead>\n",
       "    <tr style=\"text-align: right;\">\n",
       "      <th></th>\n",
       "      <th>liczba_zaraportowanych_zgonow</th>\n",
       "      <th>mężczyzn w danej grupie wiekowej</th>\n",
       "      <th>Zgony nie w pełni zaszczepionych mężczyzn w danej grupie wiekowej</th>\n",
       "      <th>Zgony w pełni zaszczepionych mężczyzn w danej grupie wiekowej</th>\n",
       "      <th>Grupa wiekowa</th>\n",
       "      <th>Zgony nie w pełni zaszczepionych mężczyzn w danej grupie wiekowej na 100 tys. mężczyzn w danej grupie wiekowej</th>\n",
       "      <th>Zgony w pełni zaszczepionych mężczyzn w danej grupie wiekowej na 100 tys. mężczyzn w danej grupie wiekowej</th>\n",
       "    </tr>\n",
       "  </thead>\n",
       "  <tbody>\n",
       "    <tr>\n",
       "      <th>0-18</th>\n",
       "      <td>7</td>\n",
       "      <td>3546221.0</td>\n",
       "      <td>7</td>\n",
       "      <td>0.0</td>\n",
       "      <td>0-18</td>\n",
       "      <td>0.197393</td>\n",
       "      <td>0.000000</td>\n",
       "    </tr>\n",
       "    <tr>\n",
       "      <th>19-24</th>\n",
       "      <td>10</td>\n",
       "      <td>1221176.0</td>\n",
       "      <td>10</td>\n",
       "      <td>0.0</td>\n",
       "      <td>19-24</td>\n",
       "      <td>0.818883</td>\n",
       "      <td>0.000000</td>\n",
       "    </tr>\n",
       "    <tr>\n",
       "      <th>25-34</th>\n",
       "      <td>71</td>\n",
       "      <td>2740642.0</td>\n",
       "      <td>66</td>\n",
       "      <td>5.0</td>\n",
       "      <td>25-34</td>\n",
       "      <td>2.408195</td>\n",
       "      <td>0.182439</td>\n",
       "    </tr>\n",
       "    <tr>\n",
       "      <th>35-44</th>\n",
       "      <td>163</td>\n",
       "      <td>3092676.0</td>\n",
       "      <td>147</td>\n",
       "      <td>16.0</td>\n",
       "      <td>35-44</td>\n",
       "      <td>4.753165</td>\n",
       "      <td>0.517351</td>\n",
       "    </tr>\n",
       "    <tr>\n",
       "      <th>45-54</th>\n",
       "      <td>427</td>\n",
       "      <td>2393794.0</td>\n",
       "      <td>370</td>\n",
       "      <td>57.0</td>\n",
       "      <td>45-54</td>\n",
       "      <td>15.456635</td>\n",
       "      <td>2.381157</td>\n",
       "    </tr>\n",
       "    <tr>\n",
       "      <th>55-64</th>\n",
       "      <td>862</td>\n",
       "      <td>2435381.0</td>\n",
       "      <td>664</td>\n",
       "      <td>198.0</td>\n",
       "      <td>55-64</td>\n",
       "      <td>27.264728</td>\n",
       "      <td>8.130145</td>\n",
       "    </tr>\n",
       "    <tr>\n",
       "      <th>65-74</th>\n",
       "      <td>2032</td>\n",
       "      <td>1833485.0</td>\n",
       "      <td>1292</td>\n",
       "      <td>740.0</td>\n",
       "      <td>65-74</td>\n",
       "      <td>70.466898</td>\n",
       "      <td>40.360297</td>\n",
       "    </tr>\n",
       "    <tr>\n",
       "      <th>75-84</th>\n",
       "      <td>1898</td>\n",
       "      <td>693760.0</td>\n",
       "      <td>1176</td>\n",
       "      <td>722.0</td>\n",
       "      <td>75-84</td>\n",
       "      <td>169.511070</td>\n",
       "      <td>104.070572</td>\n",
       "    </tr>\n",
       "    <tr>\n",
       "      <th>85-94</th>\n",
       "      <td>1355</td>\n",
       "      <td>215975.0</td>\n",
       "      <td>878</td>\n",
       "      <td>477.0</td>\n",
       "      <td>85-94</td>\n",
       "      <td>406.528533</td>\n",
       "      <td>220.858896</td>\n",
       "    </tr>\n",
       "    <tr>\n",
       "      <th>95+</th>\n",
       "      <td>103</td>\n",
       "      <td>11563.0</td>\n",
       "      <td>80</td>\n",
       "      <td>23.0</td>\n",
       "      <td>95+</td>\n",
       "      <td>691.861974</td>\n",
       "      <td>198.910317</td>\n",
       "    </tr>\n",
       "  </tbody>\n",
       "</table>\n",
       "</div>"
      ],
      "text/plain": [
       "       liczba_zaraportowanych_zgonow  mężczyzn w danej grupie wiekowej  \\\n",
       "0-18                               7                         3546221.0   \n",
       "19-24                             10                         1221176.0   \n",
       "25-34                             71                         2740642.0   \n",
       "35-44                            163                         3092676.0   \n",
       "45-54                            427                         2393794.0   \n",
       "55-64                            862                         2435381.0   \n",
       "65-74                           2032                         1833485.0   \n",
       "75-84                           1898                          693760.0   \n",
       "85-94                           1355                          215975.0   \n",
       "95+                              103                           11563.0   \n",
       "\n",
       "       Zgony nie w pełni zaszczepionych mężczyzn w danej grupie wiekowej  \\\n",
       "0-18                                                   7                   \n",
       "19-24                                                 10                   \n",
       "25-34                                                 66                   \n",
       "35-44                                                147                   \n",
       "45-54                                                370                   \n",
       "55-64                                                664                   \n",
       "65-74                                               1292                   \n",
       "75-84                                               1176                   \n",
       "85-94                                                878                   \n",
       "95+                                                   80                   \n",
       "\n",
       "       Zgony w pełni zaszczepionych mężczyzn w danej grupie wiekowej  \\\n",
       "0-18                                                 0.0               \n",
       "19-24                                                0.0               \n",
       "25-34                                                5.0               \n",
       "35-44                                               16.0               \n",
       "45-54                                               57.0               \n",
       "55-64                                              198.0               \n",
       "65-74                                              740.0               \n",
       "75-84                                              722.0               \n",
       "85-94                                              477.0               \n",
       "95+                                                 23.0               \n",
       "\n",
       "      Grupa wiekowa  \\\n",
       "0-18           0-18   \n",
       "19-24         19-24   \n",
       "25-34         25-34   \n",
       "35-44         35-44   \n",
       "45-54         45-54   \n",
       "55-64         55-64   \n",
       "65-74         65-74   \n",
       "75-84         75-84   \n",
       "85-94         85-94   \n",
       "95+             95+   \n",
       "\n",
       "       Zgony nie w pełni zaszczepionych mężczyzn w danej grupie wiekowej na 100 tys. mężczyzn w danej grupie wiekowej  \\\n",
       "0-18                                            0.197393                                                                \n",
       "19-24                                           0.818883                                                                \n",
       "25-34                                           2.408195                                                                \n",
       "35-44                                           4.753165                                                                \n",
       "45-54                                          15.456635                                                                \n",
       "55-64                                          27.264728                                                                \n",
       "65-74                                          70.466898                                                                \n",
       "75-84                                         169.511070                                                                \n",
       "85-94                                         406.528533                                                                \n",
       "95+                                           691.861974                                                                \n",
       "\n",
       "       Zgony w pełni zaszczepionych mężczyzn w danej grupie wiekowej na 100 tys. mężczyzn w danej grupie wiekowej  \n",
       "0-18                                            0.000000                                                           \n",
       "19-24                                           0.000000                                                           \n",
       "25-34                                           0.182439                                                           \n",
       "35-44                                           0.517351                                                           \n",
       "45-54                                           2.381157                                                           \n",
       "55-64                                           8.130145                                                           \n",
       "65-74                                          40.360297                                                           \n",
       "75-84                                         104.070572                                                           \n",
       "85-94                                         220.858896                                                           \n",
       "95+                                           198.910317                                                           "
      ]
     },
     "execution_count": 11,
     "metadata": {},
     "output_type": "execute_result"
    }
   ],
   "source": [
    "from_date = datetime.date(2021,7,14)\n",
    "\n",
    "dfM = prepare_df2(\n",
    "    deaths_df = basiw.dfd.query('plec==\"M\"'), \n",
    "    x_col ='kat_wiek', \n",
    "    x_col_name = 'Grupa wiekowa',  \n",
    "    denominator_df=pop_df,\n",
    "    denominator_col='mężczyzn w danej grupie wiekowej', \n",
    "    from_date=from_date\n",
    "    )\n",
    "\n",
    "dfM = dfM[:-1].fillna(0)\n",
    "dfM"
   ]
  },
  {
   "cell_type": "code",
   "execution_count": 12,
   "metadata": {},
   "outputs": [
    {
     "data": {
      "application/vnd.plotly.v1+json": {
       "config": {
        "plotlyServerURL": "https://plot.ly"
       },
       "data": [
        {
         "name": "Zgony nie w pełni zaszczepionych mężczyzn w danej grupie wiekowej na 100 tys. mężczyzn w danej grupie wiekowej",
         "offsetgroup": "1",
         "text": [
          0.19739322506972917,
          0.8188827818430758,
          2.4081948682097116,
          4.753165220023048,
          15.45663494853776,
          27.26472777770706,
          70.46689773845982,
          169.5110701107011,
          406.52853339506885,
          691.8619735362795
         ],
         "textposition": "outside",
         "texttemplate": "%{text:2.1f}",
         "type": "bar",
         "x": [
          "0-18",
          "19-24",
          "25-34",
          "35-44",
          "45-54",
          "55-64",
          "65-74",
          "75-84",
          "85-94",
          "95+"
         ],
         "y": [
          0.19739322506972917,
          0.8188827818430758,
          2.4081948682097116,
          4.753165220023048,
          15.45663494853776,
          27.26472777770706,
          70.46689773845982,
          169.5110701107011,
          406.52853339506885,
          691.8619735362795
         ]
        },
        {
         "name": "Zgony w pełni zaszczepionych mężczyzn w danej grupie wiekowej na 100 tys. mężczyzn w danej grupie wiekowej",
         "offsetgroup": "2",
         "text": [
          0,
          0,
          0.18243900516740238,
          0.5173513164650937,
          2.3811572758558173,
          8.130144728894575,
          40.360297466300516,
          104.07057195571956,
          220.85889570552146,
          198.91031739168037
         ],
         "textposition": "outside",
         "texttemplate": "%{text:2.1f}",
         "type": "bar",
         "x": [
          "0-18",
          "19-24",
          "25-34",
          "35-44",
          "45-54",
          "55-64",
          "65-74",
          "75-84",
          "85-94",
          "95+"
         ],
         "y": [
          0,
          0,
          0.18243900516740238,
          0.5173513164650937,
          2.3811572758558173,
          8.130144728894575,
          40.360297466300516,
          104.07057195571956,
          220.85889570552146,
          198.91031739168037
         ]
        }
       ],
       "layout": {
        "barmode": "group",
        "height": 500,
        "legend": {
         "title": {
          "text": ""
         },
         "x": 0.5,
         "xanchor": "center",
         "y": -0.25
        },
        "template": {
         "data": {
          "bar": [
           {
            "error_x": {
             "color": "#2a3f5f"
            },
            "error_y": {
             "color": "#2a3f5f"
            },
            "marker": {
             "line": {
              "color": "#E5ECF6",
              "width": 0.5
             }
            },
            "type": "bar"
           }
          ],
          "barpolar": [
           {
            "marker": {
             "line": {
              "color": "#E5ECF6",
              "width": 0.5
             }
            },
            "type": "barpolar"
           }
          ],
          "carpet": [
           {
            "aaxis": {
             "endlinecolor": "#2a3f5f",
             "gridcolor": "white",
             "linecolor": "white",
             "minorgridcolor": "white",
             "startlinecolor": "#2a3f5f"
            },
            "baxis": {
             "endlinecolor": "#2a3f5f",
             "gridcolor": "white",
             "linecolor": "white",
             "minorgridcolor": "white",
             "startlinecolor": "#2a3f5f"
            },
            "type": "carpet"
           }
          ],
          "choropleth": [
           {
            "colorbar": {
             "outlinewidth": 0,
             "ticks": ""
            },
            "type": "choropleth"
           }
          ],
          "contour": [
           {
            "colorbar": {
             "outlinewidth": 0,
             "ticks": ""
            },
            "colorscale": [
             [
              0,
              "#0d0887"
             ],
             [
              0.1111111111111111,
              "#46039f"
             ],
             [
              0.2222222222222222,
              "#7201a8"
             ],
             [
              0.3333333333333333,
              "#9c179e"
             ],
             [
              0.4444444444444444,
              "#bd3786"
             ],
             [
              0.5555555555555556,
              "#d8576b"
             ],
             [
              0.6666666666666666,
              "#ed7953"
             ],
             [
              0.7777777777777778,
              "#fb9f3a"
             ],
             [
              0.8888888888888888,
              "#fdca26"
             ],
             [
              1,
              "#f0f921"
             ]
            ],
            "type": "contour"
           }
          ],
          "contourcarpet": [
           {
            "colorbar": {
             "outlinewidth": 0,
             "ticks": ""
            },
            "type": "contourcarpet"
           }
          ],
          "heatmap": [
           {
            "colorbar": {
             "outlinewidth": 0,
             "ticks": ""
            },
            "colorscale": [
             [
              0,
              "#0d0887"
             ],
             [
              0.1111111111111111,
              "#46039f"
             ],
             [
              0.2222222222222222,
              "#7201a8"
             ],
             [
              0.3333333333333333,
              "#9c179e"
             ],
             [
              0.4444444444444444,
              "#bd3786"
             ],
             [
              0.5555555555555556,
              "#d8576b"
             ],
             [
              0.6666666666666666,
              "#ed7953"
             ],
             [
              0.7777777777777778,
              "#fb9f3a"
             ],
             [
              0.8888888888888888,
              "#fdca26"
             ],
             [
              1,
              "#f0f921"
             ]
            ],
            "type": "heatmap"
           }
          ],
          "heatmapgl": [
           {
            "colorbar": {
             "outlinewidth": 0,
             "ticks": ""
            },
            "colorscale": [
             [
              0,
              "#0d0887"
             ],
             [
              0.1111111111111111,
              "#46039f"
             ],
             [
              0.2222222222222222,
              "#7201a8"
             ],
             [
              0.3333333333333333,
              "#9c179e"
             ],
             [
              0.4444444444444444,
              "#bd3786"
             ],
             [
              0.5555555555555556,
              "#d8576b"
             ],
             [
              0.6666666666666666,
              "#ed7953"
             ],
             [
              0.7777777777777778,
              "#fb9f3a"
             ],
             [
              0.8888888888888888,
              "#fdca26"
             ],
             [
              1,
              "#f0f921"
             ]
            ],
            "type": "heatmapgl"
           }
          ],
          "histogram": [
           {
            "marker": {
             "colorbar": {
              "outlinewidth": 0,
              "ticks": ""
             }
            },
            "type": "histogram"
           }
          ],
          "histogram2d": [
           {
            "colorbar": {
             "outlinewidth": 0,
             "ticks": ""
            },
            "colorscale": [
             [
              0,
              "#0d0887"
             ],
             [
              0.1111111111111111,
              "#46039f"
             ],
             [
              0.2222222222222222,
              "#7201a8"
             ],
             [
              0.3333333333333333,
              "#9c179e"
             ],
             [
              0.4444444444444444,
              "#bd3786"
             ],
             [
              0.5555555555555556,
              "#d8576b"
             ],
             [
              0.6666666666666666,
              "#ed7953"
             ],
             [
              0.7777777777777778,
              "#fb9f3a"
             ],
             [
              0.8888888888888888,
              "#fdca26"
             ],
             [
              1,
              "#f0f921"
             ]
            ],
            "type": "histogram2d"
           }
          ],
          "histogram2dcontour": [
           {
            "colorbar": {
             "outlinewidth": 0,
             "ticks": ""
            },
            "colorscale": [
             [
              0,
              "#0d0887"
             ],
             [
              0.1111111111111111,
              "#46039f"
             ],
             [
              0.2222222222222222,
              "#7201a8"
             ],
             [
              0.3333333333333333,
              "#9c179e"
             ],
             [
              0.4444444444444444,
              "#bd3786"
             ],
             [
              0.5555555555555556,
              "#d8576b"
             ],
             [
              0.6666666666666666,
              "#ed7953"
             ],
             [
              0.7777777777777778,
              "#fb9f3a"
             ],
             [
              0.8888888888888888,
              "#fdca26"
             ],
             [
              1,
              "#f0f921"
             ]
            ],
            "type": "histogram2dcontour"
           }
          ],
          "mesh3d": [
           {
            "colorbar": {
             "outlinewidth": 0,
             "ticks": ""
            },
            "type": "mesh3d"
           }
          ],
          "parcoords": [
           {
            "line": {
             "colorbar": {
              "outlinewidth": 0,
              "ticks": ""
             }
            },
            "type": "parcoords"
           }
          ],
          "pie": [
           {
            "automargin": true,
            "type": "pie"
           }
          ],
          "scatter": [
           {
            "marker": {
             "colorbar": {
              "outlinewidth": 0,
              "ticks": ""
             }
            },
            "type": "scatter"
           }
          ],
          "scatter3d": [
           {
            "line": {
             "colorbar": {
              "outlinewidth": 0,
              "ticks": ""
             }
            },
            "marker": {
             "colorbar": {
              "outlinewidth": 0,
              "ticks": ""
             }
            },
            "type": "scatter3d"
           }
          ],
          "scattercarpet": [
           {
            "marker": {
             "colorbar": {
              "outlinewidth": 0,
              "ticks": ""
             }
            },
            "type": "scattercarpet"
           }
          ],
          "scattergeo": [
           {
            "marker": {
             "colorbar": {
              "outlinewidth": 0,
              "ticks": ""
             }
            },
            "type": "scattergeo"
           }
          ],
          "scattergl": [
           {
            "marker": {
             "colorbar": {
              "outlinewidth": 0,
              "ticks": ""
             }
            },
            "type": "scattergl"
           }
          ],
          "scattermapbox": [
           {
            "marker": {
             "colorbar": {
              "outlinewidth": 0,
              "ticks": ""
             }
            },
            "type": "scattermapbox"
           }
          ],
          "scatterpolar": [
           {
            "marker": {
             "colorbar": {
              "outlinewidth": 0,
              "ticks": ""
             }
            },
            "type": "scatterpolar"
           }
          ],
          "scatterpolargl": [
           {
            "marker": {
             "colorbar": {
              "outlinewidth": 0,
              "ticks": ""
             }
            },
            "type": "scatterpolargl"
           }
          ],
          "scatterternary": [
           {
            "marker": {
             "colorbar": {
              "outlinewidth": 0,
              "ticks": ""
             }
            },
            "type": "scatterternary"
           }
          ],
          "surface": [
           {
            "colorbar": {
             "outlinewidth": 0,
             "ticks": ""
            },
            "colorscale": [
             [
              0,
              "#0d0887"
             ],
             [
              0.1111111111111111,
              "#46039f"
             ],
             [
              0.2222222222222222,
              "#7201a8"
             ],
             [
              0.3333333333333333,
              "#9c179e"
             ],
             [
              0.4444444444444444,
              "#bd3786"
             ],
             [
              0.5555555555555556,
              "#d8576b"
             ],
             [
              0.6666666666666666,
              "#ed7953"
             ],
             [
              0.7777777777777778,
              "#fb9f3a"
             ],
             [
              0.8888888888888888,
              "#fdca26"
             ],
             [
              1,
              "#f0f921"
             ]
            ],
            "type": "surface"
           }
          ],
          "table": [
           {
            "cells": {
             "fill": {
              "color": "#EBF0F8"
             },
             "line": {
              "color": "white"
             }
            },
            "header": {
             "fill": {
              "color": "#C8D4E3"
             },
             "line": {
              "color": "white"
             }
            },
            "type": "table"
           }
          ]
         },
         "layout": {
          "annotationdefaults": {
           "arrowcolor": "#2a3f5f",
           "arrowhead": 0,
           "arrowwidth": 1
          },
          "coloraxis": {
           "colorbar": {
            "outlinewidth": 0,
            "ticks": ""
           }
          },
          "colorscale": {
           "diverging": [
            [
             0,
             "#8e0152"
            ],
            [
             0.1,
             "#c51b7d"
            ],
            [
             0.2,
             "#de77ae"
            ],
            [
             0.3,
             "#f1b6da"
            ],
            [
             0.4,
             "#fde0ef"
            ],
            [
             0.5,
             "#f7f7f7"
            ],
            [
             0.6,
             "#e6f5d0"
            ],
            [
             0.7,
             "#b8e186"
            ],
            [
             0.8,
             "#7fbc41"
            ],
            [
             0.9,
             "#4d9221"
            ],
            [
             1,
             "#276419"
            ]
           ],
           "sequential": [
            [
             0,
             "#0d0887"
            ],
            [
             0.1111111111111111,
             "#46039f"
            ],
            [
             0.2222222222222222,
             "#7201a8"
            ],
            [
             0.3333333333333333,
             "#9c179e"
            ],
            [
             0.4444444444444444,
             "#bd3786"
            ],
            [
             0.5555555555555556,
             "#d8576b"
            ],
            [
             0.6666666666666666,
             "#ed7953"
            ],
            [
             0.7777777777777778,
             "#fb9f3a"
            ],
            [
             0.8888888888888888,
             "#fdca26"
            ],
            [
             1,
             "#f0f921"
            ]
           ],
           "sequentialminus": [
            [
             0,
             "#0d0887"
            ],
            [
             0.1111111111111111,
             "#46039f"
            ],
            [
             0.2222222222222222,
             "#7201a8"
            ],
            [
             0.3333333333333333,
             "#9c179e"
            ],
            [
             0.4444444444444444,
             "#bd3786"
            ],
            [
             0.5555555555555556,
             "#d8576b"
            ],
            [
             0.6666666666666666,
             "#ed7953"
            ],
            [
             0.7777777777777778,
             "#fb9f3a"
            ],
            [
             0.8888888888888888,
             "#fdca26"
            ],
            [
             1,
             "#f0f921"
            ]
           ]
          },
          "colorway": [
           "#636efa",
           "#EF553B",
           "#00cc96",
           "#ab63fa",
           "#FFA15A",
           "#19d3f3",
           "#FF6692",
           "#B6E880",
           "#FF97FF",
           "#FECB52"
          ],
          "font": {
           "color": "#2a3f5f"
          },
          "geo": {
           "bgcolor": "white",
           "lakecolor": "white",
           "landcolor": "#E5ECF6",
           "showlakes": true,
           "showland": true,
           "subunitcolor": "white"
          },
          "hoverlabel": {
           "align": "left"
          },
          "hovermode": "closest",
          "mapbox": {
           "style": "light"
          },
          "paper_bgcolor": "white",
          "plot_bgcolor": "#E5ECF6",
          "polar": {
           "angularaxis": {
            "gridcolor": "white",
            "linecolor": "white",
            "ticks": ""
           },
           "bgcolor": "#E5ECF6",
           "radialaxis": {
            "gridcolor": "white",
            "linecolor": "white",
            "ticks": ""
           }
          },
          "scene": {
           "xaxis": {
            "backgroundcolor": "#E5ECF6",
            "gridcolor": "white",
            "gridwidth": 2,
            "linecolor": "white",
            "showbackground": true,
            "ticks": "",
            "zerolinecolor": "white"
           },
           "yaxis": {
            "backgroundcolor": "#E5ECF6",
            "gridcolor": "white",
            "gridwidth": 2,
            "linecolor": "white",
            "showbackground": true,
            "ticks": "",
            "zerolinecolor": "white"
           },
           "zaxis": {
            "backgroundcolor": "#E5ECF6",
            "gridcolor": "white",
            "gridwidth": 2,
            "linecolor": "white",
            "showbackground": true,
            "ticks": "",
            "zerolinecolor": "white"
           }
          },
          "shapedefaults": {
           "line": {
            "color": "#2a3f5f"
           }
          },
          "ternary": {
           "aaxis": {
            "gridcolor": "white",
            "linecolor": "white",
            "ticks": ""
           },
           "baxis": {
            "gridcolor": "white",
            "linecolor": "white",
            "ticks": ""
           },
           "bgcolor": "#E5ECF6",
           "caxis": {
            "gridcolor": "white",
            "linecolor": "white",
            "ticks": ""
           }
          },
          "title": {
           "x": 0.05
          },
          "xaxis": {
           "automargin": true,
           "gridcolor": "white",
           "linecolor": "white",
           "ticks": "",
           "title": {
            "standoff": 15
           },
           "zerolinecolor": "white",
           "zerolinewidth": 2
          },
          "yaxis": {
           "automargin": true,
           "gridcolor": "white",
           "linecolor": "white",
           "ticks": "",
           "title": {
            "standoff": 15
           },
           "zerolinecolor": "white",
           "zerolinewidth": 2
          }
         }
        },
        "title": {
         "font": {
          "size": 16
         },
         "text": "Liczba zgonów na COVID-19 mężczyzn w danej grupie wiekowej w Polsce<br>na 100 tys. mężczyzn w danej grupie wiekowej<br>w podziale na w pełni zaszczepionych i nie w pełni zaszczepionych (od 2021-07-14)",
         "x": 0.5,
         "xanchor": "center"
        },
        "uniformtext": {
         "minsize": 6,
         "mode": "show"
        },
        "width": 800,
        "xaxis": {
         "tickangle": 33
        },
        "yaxis": {
         "title": {
          "text": "Liczba zgonów na 100 tys."
         }
        }
       }
      }
     },
     "metadata": {},
     "output_type": "display_data"
    }
   ],
   "source": [
    "x_col = \"Grupa wiekowa\"\n",
    "title_str = \"w Polsce\" #\"w województwach\"\n",
    "filename_str = \"wiek_M\"\n",
    "denominator_col = \"mężczyzn w danej grupie wiekowej\"\n",
    "title = \"Liczba zgonów na COVID-19 \" + denominator_col + \" \" + title_str + \"<br>na 100 tys. \"+ denominator_col +\\\n",
    "        \"<br>w podziale na w pełni zaszczepionych i nie w pełni zaszczepionych (od \" + str(from_date) + \")\"\n",
    "df_to_plot = dfM\n",
    "\n",
    "\n",
    "plot_df2(\n",
    "    x_col=x_col, \n",
    "    denominator_col=denominator_col, \n",
    "    title=title, \n",
    "    filename_str=filename_str,  \n",
    "    from_date = from_date, \n",
    "    df = df_to_plot, \n",
    "    image_dir = basiw.image_dir\n",
    "    )"
   ]
  },
  {
   "cell_type": "code",
   "execution_count": 32,
   "metadata": {},
   "outputs": [],
   "source": [
    "from_date = datetime.date(2021,7,14)\n",
    "\n",
    "dfK = prepare_df2(\n",
    "    deaths_df = basiw.dfd.query('plec==\"K\"'), \n",
    "    x_col ='kat_wiek', \n",
    "    x_col_name = 'Grupa wiekowa',\n",
    "    denominator_df=pop_df,\n",
    "    denominator_col='kobiet w danej grupie wiekowej', \n",
    "    from_date=from_date\n",
    "    )\n",
    "\n",
    "dfK = dfK[:-1].fillna(0)\n",
    "# dfK"
   ]
  },
  {
   "cell_type": "code",
   "execution_count": 14,
   "metadata": {},
   "outputs": [
    {
     "data": {
      "application/vnd.plotly.v1+json": {
       "config": {
        "plotlyServerURL": "https://plot.ly"
       },
       "data": [
        {
         "name": "Zgony nie w pełni zaszczepionych kobiet w danej grupie wiekowej na 100 tys. kobiet w danej grupie wiekowej",
         "offsetgroup": "1",
         "text": [
          0.029736495988100645,
          0.5983115647642353,
          0.9857121030660575,
          2.5257997147175693,
          7.053769759946442,
          18.846850046892314,
          47.957915553433494,
          125.50882789201809,
          321.7671101834942,
          537.0147862975405
         ],
         "textposition": "outside",
         "texttemplate": "%{text:2.1f}",
         "type": "bar",
         "x": [
          "0-18",
          "19-24",
          "25-34",
          "35-44",
          "45-54",
          "55-64",
          "65-74",
          "75-84",
          "85-94",
          "95+"
         ],
         "y": [
          0.029736495988100645,
          0.5983115647642353,
          0.9857121030660575,
          2.5257997147175693,
          7.053769759946442,
          18.846850046892314,
          47.957915553433494,
          125.50882789201809,
          321.7671101834942,
          537.0147862975405
         ]
        },
        {
         "name": "Zgony w pełni zaszczepionych kobiet w danej grupie wiekowej na 100 tys. kobiet w danej grupie wiekowej",
         "offsetgroup": "2",
         "text": [
          0.029736495988100645,
          0.08547308068060505,
          0.07582400792815827,
          0.29910786095339637,
          0.9599804998743678,
          3.5595442434488462,
          16.63500513018479,
          40.4681832248299,
          80.85809496848015,
          110.3455040337412
         ],
         "textposition": "outside",
         "texttemplate": "%{text:2.1f}",
         "type": "bar",
         "x": [
          "0-18",
          "19-24",
          "25-34",
          "35-44",
          "45-54",
          "55-64",
          "65-74",
          "75-84",
          "85-94",
          "95+"
         ],
         "y": [
          0.029736495988100645,
          0.08547308068060505,
          0.07582400792815827,
          0.29910786095339637,
          0.9599804998743678,
          3.5595442434488462,
          16.63500513018479,
          40.4681832248299,
          80.85809496848015,
          110.3455040337412
         ]
        }
       ],
       "layout": {
        "barmode": "group",
        "height": 500,
        "legend": {
         "title": {
          "text": ""
         },
         "x": 0.5,
         "xanchor": "center",
         "y": -0.25
        },
        "template": {
         "data": {
          "bar": [
           {
            "error_x": {
             "color": "#2a3f5f"
            },
            "error_y": {
             "color": "#2a3f5f"
            },
            "marker": {
             "line": {
              "color": "#E5ECF6",
              "width": 0.5
             }
            },
            "type": "bar"
           }
          ],
          "barpolar": [
           {
            "marker": {
             "line": {
              "color": "#E5ECF6",
              "width": 0.5
             }
            },
            "type": "barpolar"
           }
          ],
          "carpet": [
           {
            "aaxis": {
             "endlinecolor": "#2a3f5f",
             "gridcolor": "white",
             "linecolor": "white",
             "minorgridcolor": "white",
             "startlinecolor": "#2a3f5f"
            },
            "baxis": {
             "endlinecolor": "#2a3f5f",
             "gridcolor": "white",
             "linecolor": "white",
             "minorgridcolor": "white",
             "startlinecolor": "#2a3f5f"
            },
            "type": "carpet"
           }
          ],
          "choropleth": [
           {
            "colorbar": {
             "outlinewidth": 0,
             "ticks": ""
            },
            "type": "choropleth"
           }
          ],
          "contour": [
           {
            "colorbar": {
             "outlinewidth": 0,
             "ticks": ""
            },
            "colorscale": [
             [
              0,
              "#0d0887"
             ],
             [
              0.1111111111111111,
              "#46039f"
             ],
             [
              0.2222222222222222,
              "#7201a8"
             ],
             [
              0.3333333333333333,
              "#9c179e"
             ],
             [
              0.4444444444444444,
              "#bd3786"
             ],
             [
              0.5555555555555556,
              "#d8576b"
             ],
             [
              0.6666666666666666,
              "#ed7953"
             ],
             [
              0.7777777777777778,
              "#fb9f3a"
             ],
             [
              0.8888888888888888,
              "#fdca26"
             ],
             [
              1,
              "#f0f921"
             ]
            ],
            "type": "contour"
           }
          ],
          "contourcarpet": [
           {
            "colorbar": {
             "outlinewidth": 0,
             "ticks": ""
            },
            "type": "contourcarpet"
           }
          ],
          "heatmap": [
           {
            "colorbar": {
             "outlinewidth": 0,
             "ticks": ""
            },
            "colorscale": [
             [
              0,
              "#0d0887"
             ],
             [
              0.1111111111111111,
              "#46039f"
             ],
             [
              0.2222222222222222,
              "#7201a8"
             ],
             [
              0.3333333333333333,
              "#9c179e"
             ],
             [
              0.4444444444444444,
              "#bd3786"
             ],
             [
              0.5555555555555556,
              "#d8576b"
             ],
             [
              0.6666666666666666,
              "#ed7953"
             ],
             [
              0.7777777777777778,
              "#fb9f3a"
             ],
             [
              0.8888888888888888,
              "#fdca26"
             ],
             [
              1,
              "#f0f921"
             ]
            ],
            "type": "heatmap"
           }
          ],
          "heatmapgl": [
           {
            "colorbar": {
             "outlinewidth": 0,
             "ticks": ""
            },
            "colorscale": [
             [
              0,
              "#0d0887"
             ],
             [
              0.1111111111111111,
              "#46039f"
             ],
             [
              0.2222222222222222,
              "#7201a8"
             ],
             [
              0.3333333333333333,
              "#9c179e"
             ],
             [
              0.4444444444444444,
              "#bd3786"
             ],
             [
              0.5555555555555556,
              "#d8576b"
             ],
             [
              0.6666666666666666,
              "#ed7953"
             ],
             [
              0.7777777777777778,
              "#fb9f3a"
             ],
             [
              0.8888888888888888,
              "#fdca26"
             ],
             [
              1,
              "#f0f921"
             ]
            ],
            "type": "heatmapgl"
           }
          ],
          "histogram": [
           {
            "marker": {
             "colorbar": {
              "outlinewidth": 0,
              "ticks": ""
             }
            },
            "type": "histogram"
           }
          ],
          "histogram2d": [
           {
            "colorbar": {
             "outlinewidth": 0,
             "ticks": ""
            },
            "colorscale": [
             [
              0,
              "#0d0887"
             ],
             [
              0.1111111111111111,
              "#46039f"
             ],
             [
              0.2222222222222222,
              "#7201a8"
             ],
             [
              0.3333333333333333,
              "#9c179e"
             ],
             [
              0.4444444444444444,
              "#bd3786"
             ],
             [
              0.5555555555555556,
              "#d8576b"
             ],
             [
              0.6666666666666666,
              "#ed7953"
             ],
             [
              0.7777777777777778,
              "#fb9f3a"
             ],
             [
              0.8888888888888888,
              "#fdca26"
             ],
             [
              1,
              "#f0f921"
             ]
            ],
            "type": "histogram2d"
           }
          ],
          "histogram2dcontour": [
           {
            "colorbar": {
             "outlinewidth": 0,
             "ticks": ""
            },
            "colorscale": [
             [
              0,
              "#0d0887"
             ],
             [
              0.1111111111111111,
              "#46039f"
             ],
             [
              0.2222222222222222,
              "#7201a8"
             ],
             [
              0.3333333333333333,
              "#9c179e"
             ],
             [
              0.4444444444444444,
              "#bd3786"
             ],
             [
              0.5555555555555556,
              "#d8576b"
             ],
             [
              0.6666666666666666,
              "#ed7953"
             ],
             [
              0.7777777777777778,
              "#fb9f3a"
             ],
             [
              0.8888888888888888,
              "#fdca26"
             ],
             [
              1,
              "#f0f921"
             ]
            ],
            "type": "histogram2dcontour"
           }
          ],
          "mesh3d": [
           {
            "colorbar": {
             "outlinewidth": 0,
             "ticks": ""
            },
            "type": "mesh3d"
           }
          ],
          "parcoords": [
           {
            "line": {
             "colorbar": {
              "outlinewidth": 0,
              "ticks": ""
             }
            },
            "type": "parcoords"
           }
          ],
          "pie": [
           {
            "automargin": true,
            "type": "pie"
           }
          ],
          "scatter": [
           {
            "marker": {
             "colorbar": {
              "outlinewidth": 0,
              "ticks": ""
             }
            },
            "type": "scatter"
           }
          ],
          "scatter3d": [
           {
            "line": {
             "colorbar": {
              "outlinewidth": 0,
              "ticks": ""
             }
            },
            "marker": {
             "colorbar": {
              "outlinewidth": 0,
              "ticks": ""
             }
            },
            "type": "scatter3d"
           }
          ],
          "scattercarpet": [
           {
            "marker": {
             "colorbar": {
              "outlinewidth": 0,
              "ticks": ""
             }
            },
            "type": "scattercarpet"
           }
          ],
          "scattergeo": [
           {
            "marker": {
             "colorbar": {
              "outlinewidth": 0,
              "ticks": ""
             }
            },
            "type": "scattergeo"
           }
          ],
          "scattergl": [
           {
            "marker": {
             "colorbar": {
              "outlinewidth": 0,
              "ticks": ""
             }
            },
            "type": "scattergl"
           }
          ],
          "scattermapbox": [
           {
            "marker": {
             "colorbar": {
              "outlinewidth": 0,
              "ticks": ""
             }
            },
            "type": "scattermapbox"
           }
          ],
          "scatterpolar": [
           {
            "marker": {
             "colorbar": {
              "outlinewidth": 0,
              "ticks": ""
             }
            },
            "type": "scatterpolar"
           }
          ],
          "scatterpolargl": [
           {
            "marker": {
             "colorbar": {
              "outlinewidth": 0,
              "ticks": ""
             }
            },
            "type": "scatterpolargl"
           }
          ],
          "scatterternary": [
           {
            "marker": {
             "colorbar": {
              "outlinewidth": 0,
              "ticks": ""
             }
            },
            "type": "scatterternary"
           }
          ],
          "surface": [
           {
            "colorbar": {
             "outlinewidth": 0,
             "ticks": ""
            },
            "colorscale": [
             [
              0,
              "#0d0887"
             ],
             [
              0.1111111111111111,
              "#46039f"
             ],
             [
              0.2222222222222222,
              "#7201a8"
             ],
             [
              0.3333333333333333,
              "#9c179e"
             ],
             [
              0.4444444444444444,
              "#bd3786"
             ],
             [
              0.5555555555555556,
              "#d8576b"
             ],
             [
              0.6666666666666666,
              "#ed7953"
             ],
             [
              0.7777777777777778,
              "#fb9f3a"
             ],
             [
              0.8888888888888888,
              "#fdca26"
             ],
             [
              1,
              "#f0f921"
             ]
            ],
            "type": "surface"
           }
          ],
          "table": [
           {
            "cells": {
             "fill": {
              "color": "#EBF0F8"
             },
             "line": {
              "color": "white"
             }
            },
            "header": {
             "fill": {
              "color": "#C8D4E3"
             },
             "line": {
              "color": "white"
             }
            },
            "type": "table"
           }
          ]
         },
         "layout": {
          "annotationdefaults": {
           "arrowcolor": "#2a3f5f",
           "arrowhead": 0,
           "arrowwidth": 1
          },
          "coloraxis": {
           "colorbar": {
            "outlinewidth": 0,
            "ticks": ""
           }
          },
          "colorscale": {
           "diverging": [
            [
             0,
             "#8e0152"
            ],
            [
             0.1,
             "#c51b7d"
            ],
            [
             0.2,
             "#de77ae"
            ],
            [
             0.3,
             "#f1b6da"
            ],
            [
             0.4,
             "#fde0ef"
            ],
            [
             0.5,
             "#f7f7f7"
            ],
            [
             0.6,
             "#e6f5d0"
            ],
            [
             0.7,
             "#b8e186"
            ],
            [
             0.8,
             "#7fbc41"
            ],
            [
             0.9,
             "#4d9221"
            ],
            [
             1,
             "#276419"
            ]
           ],
           "sequential": [
            [
             0,
             "#0d0887"
            ],
            [
             0.1111111111111111,
             "#46039f"
            ],
            [
             0.2222222222222222,
             "#7201a8"
            ],
            [
             0.3333333333333333,
             "#9c179e"
            ],
            [
             0.4444444444444444,
             "#bd3786"
            ],
            [
             0.5555555555555556,
             "#d8576b"
            ],
            [
             0.6666666666666666,
             "#ed7953"
            ],
            [
             0.7777777777777778,
             "#fb9f3a"
            ],
            [
             0.8888888888888888,
             "#fdca26"
            ],
            [
             1,
             "#f0f921"
            ]
           ],
           "sequentialminus": [
            [
             0,
             "#0d0887"
            ],
            [
             0.1111111111111111,
             "#46039f"
            ],
            [
             0.2222222222222222,
             "#7201a8"
            ],
            [
             0.3333333333333333,
             "#9c179e"
            ],
            [
             0.4444444444444444,
             "#bd3786"
            ],
            [
             0.5555555555555556,
             "#d8576b"
            ],
            [
             0.6666666666666666,
             "#ed7953"
            ],
            [
             0.7777777777777778,
             "#fb9f3a"
            ],
            [
             0.8888888888888888,
             "#fdca26"
            ],
            [
             1,
             "#f0f921"
            ]
           ]
          },
          "colorway": [
           "#636efa",
           "#EF553B",
           "#00cc96",
           "#ab63fa",
           "#FFA15A",
           "#19d3f3",
           "#FF6692",
           "#B6E880",
           "#FF97FF",
           "#FECB52"
          ],
          "font": {
           "color": "#2a3f5f"
          },
          "geo": {
           "bgcolor": "white",
           "lakecolor": "white",
           "landcolor": "#E5ECF6",
           "showlakes": true,
           "showland": true,
           "subunitcolor": "white"
          },
          "hoverlabel": {
           "align": "left"
          },
          "hovermode": "closest",
          "mapbox": {
           "style": "light"
          },
          "paper_bgcolor": "white",
          "plot_bgcolor": "#E5ECF6",
          "polar": {
           "angularaxis": {
            "gridcolor": "white",
            "linecolor": "white",
            "ticks": ""
           },
           "bgcolor": "#E5ECF6",
           "radialaxis": {
            "gridcolor": "white",
            "linecolor": "white",
            "ticks": ""
           }
          },
          "scene": {
           "xaxis": {
            "backgroundcolor": "#E5ECF6",
            "gridcolor": "white",
            "gridwidth": 2,
            "linecolor": "white",
            "showbackground": true,
            "ticks": "",
            "zerolinecolor": "white"
           },
           "yaxis": {
            "backgroundcolor": "#E5ECF6",
            "gridcolor": "white",
            "gridwidth": 2,
            "linecolor": "white",
            "showbackground": true,
            "ticks": "",
            "zerolinecolor": "white"
           },
           "zaxis": {
            "backgroundcolor": "#E5ECF6",
            "gridcolor": "white",
            "gridwidth": 2,
            "linecolor": "white",
            "showbackground": true,
            "ticks": "",
            "zerolinecolor": "white"
           }
          },
          "shapedefaults": {
           "line": {
            "color": "#2a3f5f"
           }
          },
          "ternary": {
           "aaxis": {
            "gridcolor": "white",
            "linecolor": "white",
            "ticks": ""
           },
           "baxis": {
            "gridcolor": "white",
            "linecolor": "white",
            "ticks": ""
           },
           "bgcolor": "#E5ECF6",
           "caxis": {
            "gridcolor": "white",
            "linecolor": "white",
            "ticks": ""
           }
          },
          "title": {
           "x": 0.05
          },
          "xaxis": {
           "automargin": true,
           "gridcolor": "white",
           "linecolor": "white",
           "ticks": "",
           "title": {
            "standoff": 15
           },
           "zerolinecolor": "white",
           "zerolinewidth": 2
          },
          "yaxis": {
           "automargin": true,
           "gridcolor": "white",
           "linecolor": "white",
           "ticks": "",
           "title": {
            "standoff": 15
           },
           "zerolinecolor": "white",
           "zerolinewidth": 2
          }
         }
        },
        "title": {
         "font": {
          "size": 16
         },
         "text": "Liczba zgonów na COVID-19 kobiet w danej grupie wiekowej w Polsce<br>na 100 tys. kobiet w danej grupie wiekowej<br>w podziale na w pełni zaszczepione i nie w pełni zaszczepione (od 2021-07-14)",
         "x": 0.5,
         "xanchor": "center"
        },
        "uniformtext": {
         "minsize": 6,
         "mode": "show"
        },
        "width": 800,
        "xaxis": {
         "tickangle": 33
        },
        "yaxis": {
         "title": {
          "text": "Liczba zgonów na 100 tys."
         }
        }
       }
      }
     },
     "metadata": {},
     "output_type": "display_data"
    }
   ],
   "source": [
    "x_col = \"Grupa wiekowa\"\n",
    "title_str = \"w Polsce\" #\"w województwach\"\n",
    "filename_str = \"wiek_K\"\n",
    "denominator_col = \"kobiet w danej grupie wiekowej\"\n",
    "df_to_plot = dfK\n",
    "title = \"Liczba zgonów na COVID-19 \" + denominator_col + \" \" + title_str + \"<br>na 100 tys. \"+ denominator_col +\\\n",
    "        \"<br>w podziale na w pełni zaszczepione i nie w pełni zaszczepione (od \" + str(from_date) + \")\"\n",
    "plot_df2(\n",
    "    x_col=x_col, \n",
    "    denominator_col=denominator_col, \n",
    "    title=title, \n",
    "    filename_str=filename_str,  \n",
    "    from_date = from_date, \n",
    "    df = df_to_plot, \n",
    "    image_dir = basiw.image_dir\n",
    "    )"
   ]
  },
  {
   "cell_type": "code",
   "execution_count": 59,
   "metadata": {},
   "outputs": [
    {
     "data": {
      "text/html": [
       "<div>\n",
       "<style scoped>\n",
       "    .dataframe tbody tr th:only-of-type {\n",
       "        vertical-align: middle;\n",
       "    }\n",
       "\n",
       "    .dataframe tbody tr th {\n",
       "        vertical-align: top;\n",
       "    }\n",
       "\n",
       "    .dataframe thead th {\n",
       "        text-align: right;\n",
       "    }\n",
       "</style>\n",
       "<table border=\"1\" class=\"dataframe\">\n",
       "  <thead>\n",
       "    <tr style=\"text-align: right;\">\n",
       "      <th></th>\n",
       "      <th>liczba_zaraportowanych_zgonow</th>\n",
       "      <th>kobiet w danej grupie wiekowej</th>\n",
       "      <th>Zgony nie w pełni zaszczepionych kobiet w danej grupie wiekowej</th>\n",
       "      <th>Zgony w pełni zaszczepionych kobiet w danej grupie wiekowej</th>\n",
       "      <th>Grupa wiekowa</th>\n",
       "      <th>Zgony nie w pełni zaszczepionych kobiet w danej grupie wiekowej na 100 tys. kobiet w danej grupie wiekowej</th>\n",
       "      <th>Zgony w pełni zaszczepionych kobiet w danej grupie wiekowej na 100 tys. kobiet w danej grupie wiekowej</th>\n",
       "      <th>Proporcja nie/tak</th>\n",
       "      <th>Proporcja nie/tak K</th>\n",
       "      <th>Proporcja kobiet zmarłych nie zaszczepionych do zmarłych zaszczepionych</th>\n",
       "      <th>Proporcja kobiet zmarłych zaszczepionych do zmarłych niezaszczepionych</th>\n",
       "      <th>Proporcja liczby kobiet zmarłych zaszczepionych do zmarłych niezaszczepionych [%]</th>\n",
       "    </tr>\n",
       "  </thead>\n",
       "  <tbody>\n",
       "    <tr>\n",
       "      <th>0-18</th>\n",
       "      <td>2</td>\n",
       "      <td>3362871.0</td>\n",
       "      <td>1</td>\n",
       "      <td>1.0</td>\n",
       "      <td>0-18</td>\n",
       "      <td>0.029736</td>\n",
       "      <td>0.029736</td>\n",
       "      <td>1.000000</td>\n",
       "      <td>1.000000</td>\n",
       "      <td>1.000000</td>\n",
       "      <td>100.000000</td>\n",
       "      <td>100.000000</td>\n",
       "    </tr>\n",
       "    <tr>\n",
       "      <th>19-24</th>\n",
       "      <td>8</td>\n",
       "      <td>1169959.0</td>\n",
       "      <td>7</td>\n",
       "      <td>1.0</td>\n",
       "      <td>19-24</td>\n",
       "      <td>0.598312</td>\n",
       "      <td>0.085473</td>\n",
       "      <td>7.000000</td>\n",
       "      <td>7.000000</td>\n",
       "      <td>7.000000</td>\n",
       "      <td>14.285714</td>\n",
       "      <td>14.285714</td>\n",
       "    </tr>\n",
       "    <tr>\n",
       "      <th>25-34</th>\n",
       "      <td>28</td>\n",
       "      <td>2637687.0</td>\n",
       "      <td>26</td>\n",
       "      <td>2.0</td>\n",
       "      <td>25-34</td>\n",
       "      <td>0.985712</td>\n",
       "      <td>0.075824</td>\n",
       "      <td>13.000000</td>\n",
       "      <td>13.000000</td>\n",
       "      <td>13.000000</td>\n",
       "      <td>7.692308</td>\n",
       "      <td>7.692308</td>\n",
       "    </tr>\n",
       "    <tr>\n",
       "      <th>35-44</th>\n",
       "      <td>85</td>\n",
       "      <td>3008948.0</td>\n",
       "      <td>76</td>\n",
       "      <td>9.0</td>\n",
       "      <td>35-44</td>\n",
       "      <td>2.525800</td>\n",
       "      <td>0.299108</td>\n",
       "      <td>8.444444</td>\n",
       "      <td>8.444444</td>\n",
       "      <td>8.444444</td>\n",
       "      <td>11.842105</td>\n",
       "      <td>11.842105</td>\n",
       "    </tr>\n",
       "    <tr>\n",
       "      <th>45-54</th>\n",
       "      <td>192</td>\n",
       "      <td>2395882.0</td>\n",
       "      <td>169</td>\n",
       "      <td>23.0</td>\n",
       "      <td>45-54</td>\n",
       "      <td>7.053770</td>\n",
       "      <td>0.959980</td>\n",
       "      <td>7.347826</td>\n",
       "      <td>7.347826</td>\n",
       "      <td>7.347826</td>\n",
       "      <td>13.609467</td>\n",
       "      <td>13.609467</td>\n",
       "    </tr>\n",
       "    <tr>\n",
       "      <th>55-64</th>\n",
       "      <td>598</td>\n",
       "      <td>2668881.0</td>\n",
       "      <td>503</td>\n",
       "      <td>95.0</td>\n",
       "      <td>55-64</td>\n",
       "      <td>18.846850</td>\n",
       "      <td>3.559544</td>\n",
       "      <td>5.294737</td>\n",
       "      <td>5.294737</td>\n",
       "      <td>5.294737</td>\n",
       "      <td>18.886680</td>\n",
       "      <td>18.886680</td>\n",
       "    </tr>\n",
       "    <tr>\n",
       "      <th>65-74</th>\n",
       "      <td>1526</td>\n",
       "      <td>2362488.0</td>\n",
       "      <td>1133</td>\n",
       "      <td>393.0</td>\n",
       "      <td>65-74</td>\n",
       "      <td>47.957916</td>\n",
       "      <td>16.635005</td>\n",
       "      <td>2.882952</td>\n",
       "      <td>2.882952</td>\n",
       "      <td>2.882952</td>\n",
       "      <td>34.686673</td>\n",
       "      <td>34.686673</td>\n",
       "    </tr>\n",
       "    <tr>\n",
       "      <th>75-84</th>\n",
       "      <td>2022</td>\n",
       "      <td>1218241.0</td>\n",
       "      <td>1529</td>\n",
       "      <td>493.0</td>\n",
       "      <td>75-84</td>\n",
       "      <td>125.508828</td>\n",
       "      <td>40.468183</td>\n",
       "      <td>3.101420</td>\n",
       "      <td>3.101420</td>\n",
       "      <td>3.101420</td>\n",
       "      <td>32.243296</td>\n",
       "      <td>32.243296</td>\n",
       "    </tr>\n",
       "    <tr>\n",
       "      <th>85-94</th>\n",
       "      <td>2176</td>\n",
       "      <td>540453.0</td>\n",
       "      <td>1739</td>\n",
       "      <td>437.0</td>\n",
       "      <td>85-94</td>\n",
       "      <td>321.767110</td>\n",
       "      <td>80.858095</td>\n",
       "      <td>3.979405</td>\n",
       "      <td>3.979405</td>\n",
       "      <td>3.979405</td>\n",
       "      <td>25.129385</td>\n",
       "      <td>25.129385</td>\n",
       "    </tr>\n",
       "    <tr>\n",
       "      <th>95+</th>\n",
       "      <td>264</td>\n",
       "      <td>40781.0</td>\n",
       "      <td>219</td>\n",
       "      <td>45.0</td>\n",
       "      <td>95+</td>\n",
       "      <td>537.014786</td>\n",
       "      <td>110.345504</td>\n",
       "      <td>4.866667</td>\n",
       "      <td>4.866667</td>\n",
       "      <td>4.866667</td>\n",
       "      <td>20.547945</td>\n",
       "      <td>20.547945</td>\n",
       "    </tr>\n",
       "  </tbody>\n",
       "</table>\n",
       "</div>"
      ],
      "text/plain": [
       "       liczba_zaraportowanych_zgonow  kobiet w danej grupie wiekowej  \\\n",
       "0-18                               2                       3362871.0   \n",
       "19-24                              8                       1169959.0   \n",
       "25-34                             28                       2637687.0   \n",
       "35-44                             85                       3008948.0   \n",
       "45-54                            192                       2395882.0   \n",
       "55-64                            598                       2668881.0   \n",
       "65-74                           1526                       2362488.0   \n",
       "75-84                           2022                       1218241.0   \n",
       "85-94                           2176                        540453.0   \n",
       "95+                              264                         40781.0   \n",
       "\n",
       "       Zgony nie w pełni zaszczepionych kobiet w danej grupie wiekowej  \\\n",
       "0-18                                                   1                 \n",
       "19-24                                                  7                 \n",
       "25-34                                                 26                 \n",
       "35-44                                                 76                 \n",
       "45-54                                                169                 \n",
       "55-64                                                503                 \n",
       "65-74                                               1133                 \n",
       "75-84                                               1529                 \n",
       "85-94                                               1739                 \n",
       "95+                                                  219                 \n",
       "\n",
       "       Zgony w pełni zaszczepionych kobiet w danej grupie wiekowej  \\\n",
       "0-18                                                 1.0             \n",
       "19-24                                                1.0             \n",
       "25-34                                                2.0             \n",
       "35-44                                                9.0             \n",
       "45-54                                               23.0             \n",
       "55-64                                               95.0             \n",
       "65-74                                              393.0             \n",
       "75-84                                              493.0             \n",
       "85-94                                              437.0             \n",
       "95+                                                 45.0             \n",
       "\n",
       "      Grupa wiekowa  \\\n",
       "0-18           0-18   \n",
       "19-24         19-24   \n",
       "25-34         25-34   \n",
       "35-44         35-44   \n",
       "45-54         45-54   \n",
       "55-64         55-64   \n",
       "65-74         65-74   \n",
       "75-84         75-84   \n",
       "85-94         85-94   \n",
       "95+             95+   \n",
       "\n",
       "       Zgony nie w pełni zaszczepionych kobiet w danej grupie wiekowej na 100 tys. kobiet w danej grupie wiekowej  \\\n",
       "0-18                                            0.029736                                                            \n",
       "19-24                                           0.598312                                                            \n",
       "25-34                                           0.985712                                                            \n",
       "35-44                                           2.525800                                                            \n",
       "45-54                                           7.053770                                                            \n",
       "55-64                                          18.846850                                                            \n",
       "65-74                                          47.957916                                                            \n",
       "75-84                                         125.508828                                                            \n",
       "85-94                                         321.767110                                                            \n",
       "95+                                           537.014786                                                            \n",
       "\n",
       "       Zgony w pełni zaszczepionych kobiet w danej grupie wiekowej na 100 tys. kobiet w danej grupie wiekowej  \\\n",
       "0-18                                            0.029736                                                        \n",
       "19-24                                           0.085473                                                        \n",
       "25-34                                           0.075824                                                        \n",
       "35-44                                           0.299108                                                        \n",
       "45-54                                           0.959980                                                        \n",
       "55-64                                           3.559544                                                        \n",
       "65-74                                          16.635005                                                        \n",
       "75-84                                          40.468183                                                        \n",
       "85-94                                          80.858095                                                        \n",
       "95+                                           110.345504                                                        \n",
       "\n",
       "       Proporcja nie/tak  Proporcja nie/tak K  \\\n",
       "0-18            1.000000             1.000000   \n",
       "19-24           7.000000             7.000000   \n",
       "25-34          13.000000            13.000000   \n",
       "35-44           8.444444             8.444444   \n",
       "45-54           7.347826             7.347826   \n",
       "55-64           5.294737             5.294737   \n",
       "65-74           2.882952             2.882952   \n",
       "75-84           3.101420             3.101420   \n",
       "85-94           3.979405             3.979405   \n",
       "95+             4.866667             4.866667   \n",
       "\n",
       "       Proporcja kobiet zmarłych nie zaszczepionych do zmarłych zaszczepionych  \\\n",
       "0-18                                            1.000000                         \n",
       "19-24                                           7.000000                         \n",
       "25-34                                          13.000000                         \n",
       "35-44                                           8.444444                         \n",
       "45-54                                           7.347826                         \n",
       "55-64                                           5.294737                         \n",
       "65-74                                           2.882952                         \n",
       "75-84                                           3.101420                         \n",
       "85-94                                           3.979405                         \n",
       "95+                                             4.866667                         \n",
       "\n",
       "       Proporcja kobiet zmarłych zaszczepionych do zmarłych niezaszczepionych  \\\n",
       "0-18                                          100.000000                        \n",
       "19-24                                          14.285714                        \n",
       "25-34                                           7.692308                        \n",
       "35-44                                          11.842105                        \n",
       "45-54                                          13.609467                        \n",
       "55-64                                          18.886680                        \n",
       "65-74                                          34.686673                        \n",
       "75-84                                          32.243296                        \n",
       "85-94                                          25.129385                        \n",
       "95+                                            20.547945                        \n",
       "\n",
       "       Proporcja liczby kobiet zmarłych zaszczepionych do zmarłych niezaszczepionych [%]  \n",
       "0-18                                          100.000000                                  \n",
       "19-24                                          14.285714                                  \n",
       "25-34                                           7.692308                                  \n",
       "35-44                                          11.842105                                  \n",
       "45-54                                          13.609467                                  \n",
       "55-64                                          18.886680                                  \n",
       "65-74                                          34.686673                                  \n",
       "75-84                                          32.243296                                  \n",
       "85-94                                          25.129385                                  \n",
       "95+                                            20.547945                                  "
      ]
     },
     "execution_count": 59,
     "metadata": {},
     "output_type": "execute_result"
    }
   ],
   "source": [
    "dfK['Proporcja liczby kobiet zmarłych zaszczepionych do zmarłych niezaszczepionych [%]'] =\\\n",
    "    dfK['Zgony w pełni zaszczepionych kobiet w danej grupie wiekowej na 100 tys. kobiet w danej grupie wiekowej']\\\n",
    "    /dfK['Zgony nie w pełni zaszczepionych kobiet w danej grupie wiekowej na 100 tys. kobiet w danej grupie wiekowej']\\\n",
    "        \n",
    "      \n",
    "dfK"
   ]
  },
  {
   "cell_type": "code",
   "execution_count": 60,
   "metadata": {},
   "outputs": [
    {
     "data": {
      "text/html": [
       "<div>\n",
       "<style scoped>\n",
       "    .dataframe tbody tr th:only-of-type {\n",
       "        vertical-align: middle;\n",
       "    }\n",
       "\n",
       "    .dataframe tbody tr th {\n",
       "        vertical-align: top;\n",
       "    }\n",
       "\n",
       "    .dataframe thead th {\n",
       "        text-align: right;\n",
       "    }\n",
       "</style>\n",
       "<table border=\"1\" class=\"dataframe\">\n",
       "  <thead>\n",
       "    <tr style=\"text-align: right;\">\n",
       "      <th></th>\n",
       "      <th>liczba_zaraportowanych_zgonow</th>\n",
       "      <th>mężczyzn w danej grupie wiekowej</th>\n",
       "      <th>Zgony nie w pełni zaszczepionych mężczyzn w danej grupie wiekowej</th>\n",
       "      <th>Zgony w pełni zaszczepionych mężczyzn w danej grupie wiekowej</th>\n",
       "      <th>Grupa wiekowa</th>\n",
       "      <th>Zgony nie w pełni zaszczepionych mężczyzn w danej grupie wiekowej na 100 tys. mężczyzn w danej grupie wiekowej</th>\n",
       "      <th>Zgony w pełni zaszczepionych mężczyzn w danej grupie wiekowej na 100 tys. mężczyzn w danej grupie wiekowej</th>\n",
       "      <th>Proporcja nie/tak</th>\n",
       "      <th>Proporcja nie/tak M</th>\n",
       "      <th>Proporcja mężczyzn zmarłych nie zaszczepionych do zmarłych zaszczepionych</th>\n",
       "      <th>Proporcja liczby mężczyzn zmarłych zaszczepionych do zmarłych niezaszczepionych [%]</th>\n",
       "    </tr>\n",
       "  </thead>\n",
       "  <tbody>\n",
       "    <tr>\n",
       "      <th>0-18</th>\n",
       "      <td>7</td>\n",
       "      <td>3546221.0</td>\n",
       "      <td>7</td>\n",
       "      <td>0.0</td>\n",
       "      <td>0-18</td>\n",
       "      <td>0.197393</td>\n",
       "      <td>0.000000</td>\n",
       "      <td>inf</td>\n",
       "      <td>inf</td>\n",
       "      <td>inf</td>\n",
       "      <td>0.000000</td>\n",
       "    </tr>\n",
       "    <tr>\n",
       "      <th>19-24</th>\n",
       "      <td>10</td>\n",
       "      <td>1221176.0</td>\n",
       "      <td>10</td>\n",
       "      <td>0.0</td>\n",
       "      <td>19-24</td>\n",
       "      <td>0.818883</td>\n",
       "      <td>0.000000</td>\n",
       "      <td>inf</td>\n",
       "      <td>inf</td>\n",
       "      <td>inf</td>\n",
       "      <td>0.000000</td>\n",
       "    </tr>\n",
       "    <tr>\n",
       "      <th>25-34</th>\n",
       "      <td>71</td>\n",
       "      <td>2740642.0</td>\n",
       "      <td>66</td>\n",
       "      <td>5.0</td>\n",
       "      <td>25-34</td>\n",
       "      <td>2.408195</td>\n",
       "      <td>0.182439</td>\n",
       "      <td>13.200000</td>\n",
       "      <td>13.200000</td>\n",
       "      <td>13.200000</td>\n",
       "      <td>7.575758</td>\n",
       "    </tr>\n",
       "    <tr>\n",
       "      <th>35-44</th>\n",
       "      <td>163</td>\n",
       "      <td>3092676.0</td>\n",
       "      <td>147</td>\n",
       "      <td>16.0</td>\n",
       "      <td>35-44</td>\n",
       "      <td>4.753165</td>\n",
       "      <td>0.517351</td>\n",
       "      <td>9.187500</td>\n",
       "      <td>9.187500</td>\n",
       "      <td>9.187500</td>\n",
       "      <td>10.884354</td>\n",
       "    </tr>\n",
       "    <tr>\n",
       "      <th>45-54</th>\n",
       "      <td>427</td>\n",
       "      <td>2393794.0</td>\n",
       "      <td>370</td>\n",
       "      <td>57.0</td>\n",
       "      <td>45-54</td>\n",
       "      <td>15.456635</td>\n",
       "      <td>2.381157</td>\n",
       "      <td>6.491228</td>\n",
       "      <td>6.491228</td>\n",
       "      <td>6.491228</td>\n",
       "      <td>15.405405</td>\n",
       "    </tr>\n",
       "    <tr>\n",
       "      <th>55-64</th>\n",
       "      <td>862</td>\n",
       "      <td>2435381.0</td>\n",
       "      <td>664</td>\n",
       "      <td>198.0</td>\n",
       "      <td>55-64</td>\n",
       "      <td>27.264728</td>\n",
       "      <td>8.130145</td>\n",
       "      <td>3.353535</td>\n",
       "      <td>3.353535</td>\n",
       "      <td>3.353535</td>\n",
       "      <td>29.819277</td>\n",
       "    </tr>\n",
       "    <tr>\n",
       "      <th>65-74</th>\n",
       "      <td>2032</td>\n",
       "      <td>1833485.0</td>\n",
       "      <td>1292</td>\n",
       "      <td>740.0</td>\n",
       "      <td>65-74</td>\n",
       "      <td>70.466898</td>\n",
       "      <td>40.360297</td>\n",
       "      <td>1.745946</td>\n",
       "      <td>1.745946</td>\n",
       "      <td>1.745946</td>\n",
       "      <td>57.275542</td>\n",
       "    </tr>\n",
       "    <tr>\n",
       "      <th>75-84</th>\n",
       "      <td>1898</td>\n",
       "      <td>693760.0</td>\n",
       "      <td>1176</td>\n",
       "      <td>722.0</td>\n",
       "      <td>75-84</td>\n",
       "      <td>169.511070</td>\n",
       "      <td>104.070572</td>\n",
       "      <td>1.628809</td>\n",
       "      <td>1.628809</td>\n",
       "      <td>1.628809</td>\n",
       "      <td>61.394558</td>\n",
       "    </tr>\n",
       "    <tr>\n",
       "      <th>85-94</th>\n",
       "      <td>1355</td>\n",
       "      <td>215975.0</td>\n",
       "      <td>878</td>\n",
       "      <td>477.0</td>\n",
       "      <td>85-94</td>\n",
       "      <td>406.528533</td>\n",
       "      <td>220.858896</td>\n",
       "      <td>1.840671</td>\n",
       "      <td>1.840671</td>\n",
       "      <td>1.840671</td>\n",
       "      <td>54.328018</td>\n",
       "    </tr>\n",
       "    <tr>\n",
       "      <th>95+</th>\n",
       "      <td>103</td>\n",
       "      <td>11563.0</td>\n",
       "      <td>80</td>\n",
       "      <td>23.0</td>\n",
       "      <td>95+</td>\n",
       "      <td>691.861974</td>\n",
       "      <td>198.910317</td>\n",
       "      <td>3.478261</td>\n",
       "      <td>3.478261</td>\n",
       "      <td>3.478261</td>\n",
       "      <td>28.750000</td>\n",
       "    </tr>\n",
       "  </tbody>\n",
       "</table>\n",
       "</div>"
      ],
      "text/plain": [
       "       liczba_zaraportowanych_zgonow  mężczyzn w danej grupie wiekowej  \\\n",
       "0-18                               7                         3546221.0   \n",
       "19-24                             10                         1221176.0   \n",
       "25-34                             71                         2740642.0   \n",
       "35-44                            163                         3092676.0   \n",
       "45-54                            427                         2393794.0   \n",
       "55-64                            862                         2435381.0   \n",
       "65-74                           2032                         1833485.0   \n",
       "75-84                           1898                          693760.0   \n",
       "85-94                           1355                          215975.0   \n",
       "95+                              103                           11563.0   \n",
       "\n",
       "       Zgony nie w pełni zaszczepionych mężczyzn w danej grupie wiekowej  \\\n",
       "0-18                                                   7                   \n",
       "19-24                                                 10                   \n",
       "25-34                                                 66                   \n",
       "35-44                                                147                   \n",
       "45-54                                                370                   \n",
       "55-64                                                664                   \n",
       "65-74                                               1292                   \n",
       "75-84                                               1176                   \n",
       "85-94                                                878                   \n",
       "95+                                                   80                   \n",
       "\n",
       "       Zgony w pełni zaszczepionych mężczyzn w danej grupie wiekowej  \\\n",
       "0-18                                                 0.0               \n",
       "19-24                                                0.0               \n",
       "25-34                                                5.0               \n",
       "35-44                                               16.0               \n",
       "45-54                                               57.0               \n",
       "55-64                                              198.0               \n",
       "65-74                                              740.0               \n",
       "75-84                                              722.0               \n",
       "85-94                                              477.0               \n",
       "95+                                                 23.0               \n",
       "\n",
       "      Grupa wiekowa  \\\n",
       "0-18           0-18   \n",
       "19-24         19-24   \n",
       "25-34         25-34   \n",
       "35-44         35-44   \n",
       "45-54         45-54   \n",
       "55-64         55-64   \n",
       "65-74         65-74   \n",
       "75-84         75-84   \n",
       "85-94         85-94   \n",
       "95+             95+   \n",
       "\n",
       "       Zgony nie w pełni zaszczepionych mężczyzn w danej grupie wiekowej na 100 tys. mężczyzn w danej grupie wiekowej  \\\n",
       "0-18                                            0.197393                                                                \n",
       "19-24                                           0.818883                                                                \n",
       "25-34                                           2.408195                                                                \n",
       "35-44                                           4.753165                                                                \n",
       "45-54                                          15.456635                                                                \n",
       "55-64                                          27.264728                                                                \n",
       "65-74                                          70.466898                                                                \n",
       "75-84                                         169.511070                                                                \n",
       "85-94                                         406.528533                                                                \n",
       "95+                                           691.861974                                                                \n",
       "\n",
       "       Zgony w pełni zaszczepionych mężczyzn w danej grupie wiekowej na 100 tys. mężczyzn w danej grupie wiekowej  \\\n",
       "0-18                                            0.000000                                                            \n",
       "19-24                                           0.000000                                                            \n",
       "25-34                                           0.182439                                                            \n",
       "35-44                                           0.517351                                                            \n",
       "45-54                                           2.381157                                                            \n",
       "55-64                                           8.130145                                                            \n",
       "65-74                                          40.360297                                                            \n",
       "75-84                                         104.070572                                                            \n",
       "85-94                                         220.858896                                                            \n",
       "95+                                           198.910317                                                            \n",
       "\n",
       "       Proporcja nie/tak  Proporcja nie/tak M  \\\n",
       "0-18                 inf                  inf   \n",
       "19-24                inf                  inf   \n",
       "25-34          13.200000            13.200000   \n",
       "35-44           9.187500             9.187500   \n",
       "45-54           6.491228             6.491228   \n",
       "55-64           3.353535             3.353535   \n",
       "65-74           1.745946             1.745946   \n",
       "75-84           1.628809             1.628809   \n",
       "85-94           1.840671             1.840671   \n",
       "95+             3.478261             3.478261   \n",
       "\n",
       "       Proporcja mężczyzn zmarłych nie zaszczepionych do zmarłych zaszczepionych  \\\n",
       "0-18                                                 inf                           \n",
       "19-24                                                inf                           \n",
       "25-34                                          13.200000                           \n",
       "35-44                                           9.187500                           \n",
       "45-54                                           6.491228                           \n",
       "55-64                                           3.353535                           \n",
       "65-74                                           1.745946                           \n",
       "75-84                                           1.628809                           \n",
       "85-94                                           1.840671                           \n",
       "95+                                             3.478261                           \n",
       "\n",
       "       Proporcja liczby mężczyzn zmarłych zaszczepionych do zmarłych niezaszczepionych [%]  \n",
       "0-18                                            0.000000                                    \n",
       "19-24                                           0.000000                                    \n",
       "25-34                                           7.575758                                    \n",
       "35-44                                          10.884354                                    \n",
       "45-54                                          15.405405                                    \n",
       "55-64                                          29.819277                                    \n",
       "65-74                                          57.275542                                    \n",
       "75-84                                          61.394558                                    \n",
       "85-94                                          54.328018                                    \n",
       "95+                                            28.750000                                    "
      ]
     },
     "execution_count": 60,
     "metadata": {},
     "output_type": "execute_result"
    }
   ],
   "source": [
    "dfM['Proporcja liczby mężczyzn zmarłych zaszczepionych do zmarłych niezaszczepionych [%]'] =\\\n",
    "    dfM['Zgony w pełni zaszczepionych mężczyzn w danej grupie wiekowej na 100 tys. mężczyzn w danej grupie wiekowej']\\\n",
    "    /dfM['Zgony nie w pełni zaszczepionych mężczyzn w danej grupie wiekowej na 100 tys. mężczyzn w danej grupie wiekowej']\\\n",
    "        *100\n",
    "      \n",
    "dfM"
   ]
  },
  {
   "cell_type": "code",
   "execution_count": 84,
   "metadata": {},
   "outputs": [
    {
     "data": {
      "text/html": [
       "<div>\n",
       "<style scoped>\n",
       "    .dataframe tbody tr th:only-of-type {\n",
       "        vertical-align: middle;\n",
       "    }\n",
       "\n",
       "    .dataframe tbody tr th {\n",
       "        vertical-align: top;\n",
       "    }\n",
       "\n",
       "    .dataframe thead th {\n",
       "        text-align: right;\n",
       "    }\n",
       "</style>\n",
       "<table border=\"1\" class=\"dataframe\">\n",
       "  <thead>\n",
       "    <tr style=\"text-align: right;\">\n",
       "      <th></th>\n",
       "      <th>Kobiety</th>\n",
       "      <th>Mężczyźni</th>\n",
       "    </tr>\n",
       "  </thead>\n",
       "  <tbody>\n",
       "    <tr>\n",
       "      <th>0-18</th>\n",
       "      <td>100.000000</td>\n",
       "      <td>0.000000</td>\n",
       "    </tr>\n",
       "    <tr>\n",
       "      <th>19-24</th>\n",
       "      <td>14.285714</td>\n",
       "      <td>0.000000</td>\n",
       "    </tr>\n",
       "    <tr>\n",
       "      <th>25-34</th>\n",
       "      <td>7.692308</td>\n",
       "      <td>7.575758</td>\n",
       "    </tr>\n",
       "    <tr>\n",
       "      <th>35-44</th>\n",
       "      <td>11.842105</td>\n",
       "      <td>10.884354</td>\n",
       "    </tr>\n",
       "    <tr>\n",
       "      <th>45-54</th>\n",
       "      <td>13.609467</td>\n",
       "      <td>15.405405</td>\n",
       "    </tr>\n",
       "    <tr>\n",
       "      <th>55-64</th>\n",
       "      <td>18.886680</td>\n",
       "      <td>29.819277</td>\n",
       "    </tr>\n",
       "    <tr>\n",
       "      <th>65-74</th>\n",
       "      <td>34.686673</td>\n",
       "      <td>57.275542</td>\n",
       "    </tr>\n",
       "    <tr>\n",
       "      <th>75-84</th>\n",
       "      <td>32.243296</td>\n",
       "      <td>61.394558</td>\n",
       "    </tr>\n",
       "    <tr>\n",
       "      <th>85-94</th>\n",
       "      <td>25.129385</td>\n",
       "      <td>54.328018</td>\n",
       "    </tr>\n",
       "    <tr>\n",
       "      <th>95+</th>\n",
       "      <td>20.547945</td>\n",
       "      <td>28.750000</td>\n",
       "    </tr>\n",
       "  </tbody>\n",
       "</table>\n",
       "</div>"
      ],
      "text/plain": [
       "          Kobiety  Mężczyźni\n",
       "0-18   100.000000   0.000000\n",
       "19-24   14.285714   0.000000\n",
       "25-34    7.692308   7.575758\n",
       "35-44   11.842105  10.884354\n",
       "45-54   13.609467  15.405405\n",
       "55-64   18.886680  29.819277\n",
       "65-74   34.686673  57.275542\n",
       "75-84   32.243296  61.394558\n",
       "85-94   25.129385  54.328018\n",
       "95+     20.547945  28.750000"
      ]
     },
     "execution_count": 84,
     "metadata": {},
     "output_type": "execute_result"
    }
   ],
   "source": [
    "\n",
    "dfp = pd.concat([dfK['Proporcja liczby kobiet zmarłych zaszczepionych do zmarłych niezaszczepionych [%]']\\\n",
    "    ,dfM['Proporcja liczby mężczyzn zmarłych zaszczepionych do zmarłych niezaszczepionych [%]']], axis=1)\n",
    "dfp.rename(columns = {'Proporcja liczby kobiet zmarłych zaszczepionych do zmarłych niezaszczepionych [%]':'Kobiety',\\\n",
    "    'Proporcja liczby mężczyzn zmarłych zaszczepionych do zmarłych niezaszczepionych [%]':'Mężczyźni'}, inplace=True)\n",
    "dfp\n"
   ]
  },
  {
   "cell_type": "code",
   "execution_count": 81,
   "metadata": {},
   "outputs": [
    {
     "data": {
      "application/vnd.plotly.v1+json": {
       "config": {
        "plotlyServerURL": "https://plot.ly"
       },
       "data": [
        {
         "alignmentgroup": "True",
         "hovertemplate": "variable=Proporcja liczby kobiet zmarłych zaszczepionych do zmarłych niezaszczepionych [%]<br>index=%{x}<br>value=%{y}<extra></extra>",
         "legendgroup": "Proporcja liczby kobiet zmarłych zaszczepionych do zmarłych niezaszczepionych [%]",
         "marker": {
          "color": "rgb(102,194,165)"
         },
         "name": "Proporcja liczby kobiet zmarłych zaszczepionych do zmarłych niezaszczepionych [%]",
         "offsetgroup": "Proporcja liczby kobiet zmarłych zaszczepionych do zmarłych niezaszczepionych [%]",
         "orientation": "v",
         "showlegend": true,
         "textposition": "auto",
         "type": "bar",
         "x": [
          "0-18",
          "19-24",
          "25-34",
          "35-44",
          "45-54",
          "55-64",
          "65-74",
          "75-84",
          "85-94",
          "95+"
         ],
         "xaxis": "x",
         "y": [
          100,
          14.285714285714288,
          7.6923076923076925,
          11.842105263157896,
          13.609467455621301,
          18.886679920477135,
          34.68667255075023,
          32.24329627207325,
          25.129384703852793,
          20.54794520547945
         ],
         "yaxis": "y"
        },
        {
         "alignmentgroup": "True",
         "hovertemplate": "variable=Proporcja liczby mężczyzn zmarłych zaszczepionych do zmarłych niezaszczepionych [%]<br>index=%{x}<br>value=%{y}<extra></extra>",
         "legendgroup": "Proporcja liczby mężczyzn zmarłych zaszczepionych do zmarłych niezaszczepionych [%]",
         "marker": {
          "color": "rgb(252,141,98)"
         },
         "name": "Proporcja liczby mężczyzn zmarłych zaszczepionych do zmarłych niezaszczepionych [%]",
         "offsetgroup": "Proporcja liczby mężczyzn zmarłych zaszczepionych do zmarłych niezaszczepionych [%]",
         "orientation": "v",
         "showlegend": true,
         "textposition": "auto",
         "type": "bar",
         "x": [
          "0-18",
          "19-24",
          "25-34",
          "35-44",
          "45-54",
          "55-64",
          "65-74",
          "75-84",
          "85-94",
          "95+"
         ],
         "xaxis": "x",
         "y": [
          0,
          0,
          7.575757575757576,
          10.8843537414966,
          15.405405405405407,
          29.819277108433734,
          57.27554179566563,
          61.39455782312926,
          54.32801822323462,
          28.750000000000004
         ],
         "yaxis": "y"
        }
       ],
       "layout": {
        "barmode": "group",
        "height": 500,
        "legend": {
         "title": {
          "text": ""
         },
         "tracegroupgap": 0,
         "x": 0.5,
         "xanchor": "center",
         "y": -0.5
        },
        "margin": {
         "t": 60
        },
        "template": {
         "data": {
          "bar": [
           {
            "error_x": {
             "color": "#2a3f5f"
            },
            "error_y": {
             "color": "#2a3f5f"
            },
            "marker": {
             "line": {
              "color": "#E5ECF6",
              "width": 0.5
             }
            },
            "type": "bar"
           }
          ],
          "barpolar": [
           {
            "marker": {
             "line": {
              "color": "#E5ECF6",
              "width": 0.5
             }
            },
            "type": "barpolar"
           }
          ],
          "carpet": [
           {
            "aaxis": {
             "endlinecolor": "#2a3f5f",
             "gridcolor": "white",
             "linecolor": "white",
             "minorgridcolor": "white",
             "startlinecolor": "#2a3f5f"
            },
            "baxis": {
             "endlinecolor": "#2a3f5f",
             "gridcolor": "white",
             "linecolor": "white",
             "minorgridcolor": "white",
             "startlinecolor": "#2a3f5f"
            },
            "type": "carpet"
           }
          ],
          "choropleth": [
           {
            "colorbar": {
             "outlinewidth": 0,
             "ticks": ""
            },
            "type": "choropleth"
           }
          ],
          "contour": [
           {
            "colorbar": {
             "outlinewidth": 0,
             "ticks": ""
            },
            "colorscale": [
             [
              0,
              "#0d0887"
             ],
             [
              0.1111111111111111,
              "#46039f"
             ],
             [
              0.2222222222222222,
              "#7201a8"
             ],
             [
              0.3333333333333333,
              "#9c179e"
             ],
             [
              0.4444444444444444,
              "#bd3786"
             ],
             [
              0.5555555555555556,
              "#d8576b"
             ],
             [
              0.6666666666666666,
              "#ed7953"
             ],
             [
              0.7777777777777778,
              "#fb9f3a"
             ],
             [
              0.8888888888888888,
              "#fdca26"
             ],
             [
              1,
              "#f0f921"
             ]
            ],
            "type": "contour"
           }
          ],
          "contourcarpet": [
           {
            "colorbar": {
             "outlinewidth": 0,
             "ticks": ""
            },
            "type": "contourcarpet"
           }
          ],
          "heatmap": [
           {
            "colorbar": {
             "outlinewidth": 0,
             "ticks": ""
            },
            "colorscale": [
             [
              0,
              "#0d0887"
             ],
             [
              0.1111111111111111,
              "#46039f"
             ],
             [
              0.2222222222222222,
              "#7201a8"
             ],
             [
              0.3333333333333333,
              "#9c179e"
             ],
             [
              0.4444444444444444,
              "#bd3786"
             ],
             [
              0.5555555555555556,
              "#d8576b"
             ],
             [
              0.6666666666666666,
              "#ed7953"
             ],
             [
              0.7777777777777778,
              "#fb9f3a"
             ],
             [
              0.8888888888888888,
              "#fdca26"
             ],
             [
              1,
              "#f0f921"
             ]
            ],
            "type": "heatmap"
           }
          ],
          "heatmapgl": [
           {
            "colorbar": {
             "outlinewidth": 0,
             "ticks": ""
            },
            "colorscale": [
             [
              0,
              "#0d0887"
             ],
             [
              0.1111111111111111,
              "#46039f"
             ],
             [
              0.2222222222222222,
              "#7201a8"
             ],
             [
              0.3333333333333333,
              "#9c179e"
             ],
             [
              0.4444444444444444,
              "#bd3786"
             ],
             [
              0.5555555555555556,
              "#d8576b"
             ],
             [
              0.6666666666666666,
              "#ed7953"
             ],
             [
              0.7777777777777778,
              "#fb9f3a"
             ],
             [
              0.8888888888888888,
              "#fdca26"
             ],
             [
              1,
              "#f0f921"
             ]
            ],
            "type": "heatmapgl"
           }
          ],
          "histogram": [
           {
            "marker": {
             "colorbar": {
              "outlinewidth": 0,
              "ticks": ""
             }
            },
            "type": "histogram"
           }
          ],
          "histogram2d": [
           {
            "colorbar": {
             "outlinewidth": 0,
             "ticks": ""
            },
            "colorscale": [
             [
              0,
              "#0d0887"
             ],
             [
              0.1111111111111111,
              "#46039f"
             ],
             [
              0.2222222222222222,
              "#7201a8"
             ],
             [
              0.3333333333333333,
              "#9c179e"
             ],
             [
              0.4444444444444444,
              "#bd3786"
             ],
             [
              0.5555555555555556,
              "#d8576b"
             ],
             [
              0.6666666666666666,
              "#ed7953"
             ],
             [
              0.7777777777777778,
              "#fb9f3a"
             ],
             [
              0.8888888888888888,
              "#fdca26"
             ],
             [
              1,
              "#f0f921"
             ]
            ],
            "type": "histogram2d"
           }
          ],
          "histogram2dcontour": [
           {
            "colorbar": {
             "outlinewidth": 0,
             "ticks": ""
            },
            "colorscale": [
             [
              0,
              "#0d0887"
             ],
             [
              0.1111111111111111,
              "#46039f"
             ],
             [
              0.2222222222222222,
              "#7201a8"
             ],
             [
              0.3333333333333333,
              "#9c179e"
             ],
             [
              0.4444444444444444,
              "#bd3786"
             ],
             [
              0.5555555555555556,
              "#d8576b"
             ],
             [
              0.6666666666666666,
              "#ed7953"
             ],
             [
              0.7777777777777778,
              "#fb9f3a"
             ],
             [
              0.8888888888888888,
              "#fdca26"
             ],
             [
              1,
              "#f0f921"
             ]
            ],
            "type": "histogram2dcontour"
           }
          ],
          "mesh3d": [
           {
            "colorbar": {
             "outlinewidth": 0,
             "ticks": ""
            },
            "type": "mesh3d"
           }
          ],
          "parcoords": [
           {
            "line": {
             "colorbar": {
              "outlinewidth": 0,
              "ticks": ""
             }
            },
            "type": "parcoords"
           }
          ],
          "pie": [
           {
            "automargin": true,
            "type": "pie"
           }
          ],
          "scatter": [
           {
            "marker": {
             "colorbar": {
              "outlinewidth": 0,
              "ticks": ""
             }
            },
            "type": "scatter"
           }
          ],
          "scatter3d": [
           {
            "line": {
             "colorbar": {
              "outlinewidth": 0,
              "ticks": ""
             }
            },
            "marker": {
             "colorbar": {
              "outlinewidth": 0,
              "ticks": ""
             }
            },
            "type": "scatter3d"
           }
          ],
          "scattercarpet": [
           {
            "marker": {
             "colorbar": {
              "outlinewidth": 0,
              "ticks": ""
             }
            },
            "type": "scattercarpet"
           }
          ],
          "scattergeo": [
           {
            "marker": {
             "colorbar": {
              "outlinewidth": 0,
              "ticks": ""
             }
            },
            "type": "scattergeo"
           }
          ],
          "scattergl": [
           {
            "marker": {
             "colorbar": {
              "outlinewidth": 0,
              "ticks": ""
             }
            },
            "type": "scattergl"
           }
          ],
          "scattermapbox": [
           {
            "marker": {
             "colorbar": {
              "outlinewidth": 0,
              "ticks": ""
             }
            },
            "type": "scattermapbox"
           }
          ],
          "scatterpolar": [
           {
            "marker": {
             "colorbar": {
              "outlinewidth": 0,
              "ticks": ""
             }
            },
            "type": "scatterpolar"
           }
          ],
          "scatterpolargl": [
           {
            "marker": {
             "colorbar": {
              "outlinewidth": 0,
              "ticks": ""
             }
            },
            "type": "scatterpolargl"
           }
          ],
          "scatterternary": [
           {
            "marker": {
             "colorbar": {
              "outlinewidth": 0,
              "ticks": ""
             }
            },
            "type": "scatterternary"
           }
          ],
          "surface": [
           {
            "colorbar": {
             "outlinewidth": 0,
             "ticks": ""
            },
            "colorscale": [
             [
              0,
              "#0d0887"
             ],
             [
              0.1111111111111111,
              "#46039f"
             ],
             [
              0.2222222222222222,
              "#7201a8"
             ],
             [
              0.3333333333333333,
              "#9c179e"
             ],
             [
              0.4444444444444444,
              "#bd3786"
             ],
             [
              0.5555555555555556,
              "#d8576b"
             ],
             [
              0.6666666666666666,
              "#ed7953"
             ],
             [
              0.7777777777777778,
              "#fb9f3a"
             ],
             [
              0.8888888888888888,
              "#fdca26"
             ],
             [
              1,
              "#f0f921"
             ]
            ],
            "type": "surface"
           }
          ],
          "table": [
           {
            "cells": {
             "fill": {
              "color": "#EBF0F8"
             },
             "line": {
              "color": "white"
             }
            },
            "header": {
             "fill": {
              "color": "#C8D4E3"
             },
             "line": {
              "color": "white"
             }
            },
            "type": "table"
           }
          ]
         },
         "layout": {
          "annotationdefaults": {
           "arrowcolor": "#2a3f5f",
           "arrowhead": 0,
           "arrowwidth": 1
          },
          "coloraxis": {
           "colorbar": {
            "outlinewidth": 0,
            "ticks": ""
           }
          },
          "colorscale": {
           "diverging": [
            [
             0,
             "#8e0152"
            ],
            [
             0.1,
             "#c51b7d"
            ],
            [
             0.2,
             "#de77ae"
            ],
            [
             0.3,
             "#f1b6da"
            ],
            [
             0.4,
             "#fde0ef"
            ],
            [
             0.5,
             "#f7f7f7"
            ],
            [
             0.6,
             "#e6f5d0"
            ],
            [
             0.7,
             "#b8e186"
            ],
            [
             0.8,
             "#7fbc41"
            ],
            [
             0.9,
             "#4d9221"
            ],
            [
             1,
             "#276419"
            ]
           ],
           "sequential": [
            [
             0,
             "#0d0887"
            ],
            [
             0.1111111111111111,
             "#46039f"
            ],
            [
             0.2222222222222222,
             "#7201a8"
            ],
            [
             0.3333333333333333,
             "#9c179e"
            ],
            [
             0.4444444444444444,
             "#bd3786"
            ],
            [
             0.5555555555555556,
             "#d8576b"
            ],
            [
             0.6666666666666666,
             "#ed7953"
            ],
            [
             0.7777777777777778,
             "#fb9f3a"
            ],
            [
             0.8888888888888888,
             "#fdca26"
            ],
            [
             1,
             "#f0f921"
            ]
           ],
           "sequentialminus": [
            [
             0,
             "#0d0887"
            ],
            [
             0.1111111111111111,
             "#46039f"
            ],
            [
             0.2222222222222222,
             "#7201a8"
            ],
            [
             0.3333333333333333,
             "#9c179e"
            ],
            [
             0.4444444444444444,
             "#bd3786"
            ],
            [
             0.5555555555555556,
             "#d8576b"
            ],
            [
             0.6666666666666666,
             "#ed7953"
            ],
            [
             0.7777777777777778,
             "#fb9f3a"
            ],
            [
             0.8888888888888888,
             "#fdca26"
            ],
            [
             1,
             "#f0f921"
            ]
           ]
          },
          "colorway": [
           "#636efa",
           "#EF553B",
           "#00cc96",
           "#ab63fa",
           "#FFA15A",
           "#19d3f3",
           "#FF6692",
           "#B6E880",
           "#FF97FF",
           "#FECB52"
          ],
          "font": {
           "color": "#2a3f5f"
          },
          "geo": {
           "bgcolor": "white",
           "lakecolor": "white",
           "landcolor": "#E5ECF6",
           "showlakes": true,
           "showland": true,
           "subunitcolor": "white"
          },
          "hoverlabel": {
           "align": "left"
          },
          "hovermode": "closest",
          "mapbox": {
           "style": "light"
          },
          "paper_bgcolor": "white",
          "plot_bgcolor": "#E5ECF6",
          "polar": {
           "angularaxis": {
            "gridcolor": "white",
            "linecolor": "white",
            "ticks": ""
           },
           "bgcolor": "#E5ECF6",
           "radialaxis": {
            "gridcolor": "white",
            "linecolor": "white",
            "ticks": ""
           }
          },
          "scene": {
           "xaxis": {
            "backgroundcolor": "#E5ECF6",
            "gridcolor": "white",
            "gridwidth": 2,
            "linecolor": "white",
            "showbackground": true,
            "ticks": "",
            "zerolinecolor": "white"
           },
           "yaxis": {
            "backgroundcolor": "#E5ECF6",
            "gridcolor": "white",
            "gridwidth": 2,
            "linecolor": "white",
            "showbackground": true,
            "ticks": "",
            "zerolinecolor": "white"
           },
           "zaxis": {
            "backgroundcolor": "#E5ECF6",
            "gridcolor": "white",
            "gridwidth": 2,
            "linecolor": "white",
            "showbackground": true,
            "ticks": "",
            "zerolinecolor": "white"
           }
          },
          "shapedefaults": {
           "line": {
            "color": "#2a3f5f"
           }
          },
          "ternary": {
           "aaxis": {
            "gridcolor": "white",
            "linecolor": "white",
            "ticks": ""
           },
           "baxis": {
            "gridcolor": "white",
            "linecolor": "white",
            "ticks": ""
           },
           "bgcolor": "#E5ECF6",
           "caxis": {
            "gridcolor": "white",
            "linecolor": "white",
            "ticks": ""
           }
          },
          "title": {
           "x": 0.05
          },
          "xaxis": {
           "automargin": true,
           "gridcolor": "white",
           "linecolor": "white",
           "ticks": "",
           "title": {
            "standoff": 15
           },
           "zerolinecolor": "white",
           "zerolinewidth": 2
          },
          "yaxis": {
           "automargin": true,
           "gridcolor": "white",
           "linecolor": "white",
           "ticks": "",
           "title": {
            "standoff": 15
           },
           "zerolinecolor": "white",
           "zerolinewidth": 2
          }
         }
        },
        "title": {
         "text": "Zgony osób zmarłych pomimo pełnego zaszczepienia jako procent zgonów osób niezaszczepionych<br>        (zgony niezaszczepionych = 100%, zgony zaszczepionych = X%) (od 14.07.2021)"
        },
        "width": 900,
        "xaxis": {
         "anchor": "y",
         "domain": [
          0,
          1
         ],
         "tickangle": 33,
         "title": {
          "text": "Grupy wiekowe"
         }
        },
        "yaxis": {
         "anchor": "x",
         "domain": [
          0,
          1
         ],
         "title": {
          "text": "X [%]"
         }
        }
       }
      }
     },
     "metadata": {},
     "output_type": "display_data"
    }
   ],
   "source": [
    "fig = px.bar(\n",
    "    dfp,\n",
    "    # x = 'Województwo', \n",
    "    # y = ['Proporcja kobiet zmarłych nie zaszczepionych do zmarłych zaszczepionych', 'Proporcja mężczyzn zmarłych nie zaszczepionych do zmarłych zaszczepionych'], \n",
    "    barmode = 'group',\n",
    "    color_discrete_sequence=px.colors.qualitative.Set2,\n",
    "    width=900, \n",
    "    height=500\n",
    "    )\n",
    "fig.update_layout(\n",
    "    title = \"Zgony osób zmarłych pomimo pełnego zaszczepienia jako procent zgonów osób niezaszczepionych<br>\\\n",
    "        (zgony niezaszczepionych = 100%, zgony zaszczepionych = X%) (od 14.07.2021)\",\n",
    "    \n",
    "    xaxis_title=\"Grupy wiekowe\",\n",
    "    yaxis_title=\"X [%]\",\n",
    "    legend_title=\"\",\n",
    "    legend=dict(\n",
    "            y=-0.5,\n",
    "            xanchor=\"center\",\n",
    "            x=0.5\n",
    "            ),\n",
    ")\n",
    "\n",
    "\n",
    "\n",
    "fig.update_xaxes(tickangle=33)\n",
    "fig.show()\n",
    "fig.write_image(os.sep.join([basiw.image_dir, 'proporcja.jpg']), scale=4)"
   ]
  },
  {
   "cell_type": "markdown",
   "metadata": {},
   "source": [
    "## Udział chorób współistniejących wg województw"
   ]
  },
  {
   "cell_type": "code",
   "execution_count": 15,
   "metadata": {},
   "outputs": [
    {
     "data": {
      "text/html": [
       "<div>\n",
       "<style scoped>\n",
       "    .dataframe tbody tr th:only-of-type {\n",
       "        vertical-align: middle;\n",
       "    }\n",
       "\n",
       "    .dataframe tbody tr th {\n",
       "        vertical-align: top;\n",
       "    }\n",
       "\n",
       "    .dataframe thead th {\n",
       "        text-align: right;\n",
       "    }\n",
       "</style>\n",
       "<table border=\"1\" class=\"dataframe\">\n",
       "  <thead>\n",
       "    <tr style=\"text-align: right;\">\n",
       "      <th></th>\n",
       "      <th>liczba_zaraportowanych_zgonow</th>\n",
       "      <th>Współistniejące</th>\n",
       "      <th>Brak współistniejących</th>\n",
       "      <th>Współistniejące [%]</th>\n",
       "      <th>Brak współistniejących [%]</th>\n",
       "      <th>Województwo</th>\n",
       "    </tr>\n",
       "    <tr>\n",
       "      <th>Województwo</th>\n",
       "      <th></th>\n",
       "      <th></th>\n",
       "      <th></th>\n",
       "      <th></th>\n",
       "      <th></th>\n",
       "      <th></th>\n",
       "    </tr>\n",
       "  </thead>\n",
       "  <tbody>\n",
       "    <tr>\n",
       "      <th>Podlaskie</th>\n",
       "      <td>872</td>\n",
       "      <td>809</td>\n",
       "      <td>63</td>\n",
       "      <td>92.775229</td>\n",
       "      <td>7.224771</td>\n",
       "      <td>Podlaskie</td>\n",
       "    </tr>\n",
       "    <tr>\n",
       "      <th>Zachodniopomorskie</th>\n",
       "      <td>520</td>\n",
       "      <td>476</td>\n",
       "      <td>44</td>\n",
       "      <td>91.538462</td>\n",
       "      <td>8.461538</td>\n",
       "      <td>Zachodniopomorskie</td>\n",
       "    </tr>\n",
       "    <tr>\n",
       "      <th>Podkarpackie</th>\n",
       "      <td>943</td>\n",
       "      <td>832</td>\n",
       "      <td>111</td>\n",
       "      <td>88.229056</td>\n",
       "      <td>11.770944</td>\n",
       "      <td>Podkarpackie</td>\n",
       "    </tr>\n",
       "    <tr>\n",
       "      <th>Opolskie</th>\n",
       "      <td>435</td>\n",
       "      <td>378</td>\n",
       "      <td>57</td>\n",
       "      <td>86.896552</td>\n",
       "      <td>13.103448</td>\n",
       "      <td>Opolskie</td>\n",
       "    </tr>\n",
       "    <tr>\n",
       "      <th>Pomorskie</th>\n",
       "      <td>515</td>\n",
       "      <td>445</td>\n",
       "      <td>70</td>\n",
       "      <td>86.407767</td>\n",
       "      <td>13.592233</td>\n",
       "      <td>Pomorskie</td>\n",
       "    </tr>\n",
       "    <tr>\n",
       "      <th>Świętokrzyskie</th>\n",
       "      <td>461</td>\n",
       "      <td>392</td>\n",
       "      <td>69</td>\n",
       "      <td>85.032538</td>\n",
       "      <td>14.967462</td>\n",
       "      <td>Świętokrzyskie</td>\n",
       "    </tr>\n",
       "    <tr>\n",
       "      <th>Kujawsko-Pomorskie</th>\n",
       "      <td>767</td>\n",
       "      <td>608</td>\n",
       "      <td>159</td>\n",
       "      <td>79.269883</td>\n",
       "      <td>20.730117</td>\n",
       "      <td>Kujawsko-Pomorskie</td>\n",
       "    </tr>\n",
       "    <tr>\n",
       "      <th>Lubelskie</th>\n",
       "      <td>1921</td>\n",
       "      <td>1507</td>\n",
       "      <td>414</td>\n",
       "      <td>78.448725</td>\n",
       "      <td>21.551275</td>\n",
       "      <td>Lubelskie</td>\n",
       "    </tr>\n",
       "    <tr>\n",
       "      <th>Łódzkie</th>\n",
       "      <td>911</td>\n",
       "      <td>645</td>\n",
       "      <td>266</td>\n",
       "      <td>70.801317</td>\n",
       "      <td>29.198683</td>\n",
       "      <td>Łódzkie</td>\n",
       "    </tr>\n",
       "    <tr>\n",
       "      <th>Mazowieckie</th>\n",
       "      <td>1992</td>\n",
       "      <td>1408</td>\n",
       "      <td>584</td>\n",
       "      <td>70.682731</td>\n",
       "      <td>29.317269</td>\n",
       "      <td>Mazowieckie</td>\n",
       "    </tr>\n",
       "    <tr>\n",
       "      <th>Śląskie</th>\n",
       "      <td>1232</td>\n",
       "      <td>831</td>\n",
       "      <td>401</td>\n",
       "      <td>67.451299</td>\n",
       "      <td>32.548701</td>\n",
       "      <td>Śląskie</td>\n",
       "    </tr>\n",
       "    <tr>\n",
       "      <th>Warmińsko-Mazurskie</th>\n",
       "      <td>524</td>\n",
       "      <td>327</td>\n",
       "      <td>197</td>\n",
       "      <td>62.404580</td>\n",
       "      <td>37.595420</td>\n",
       "      <td>Warmińsko-Mazurskie</td>\n",
       "    </tr>\n",
       "    <tr>\n",
       "      <th>Wielkopolskie</th>\n",
       "      <td>790</td>\n",
       "      <td>489</td>\n",
       "      <td>301</td>\n",
       "      <td>61.898734</td>\n",
       "      <td>38.101266</td>\n",
       "      <td>Wielkopolskie</td>\n",
       "    </tr>\n",
       "    <tr>\n",
       "      <th>Lubuskie</th>\n",
       "      <td>250</td>\n",
       "      <td>120</td>\n",
       "      <td>130</td>\n",
       "      <td>48.000000</td>\n",
       "      <td>52.000000</td>\n",
       "      <td>Lubuskie</td>\n",
       "    </tr>\n",
       "    <tr>\n",
       "      <th>Małopolskie</th>\n",
       "      <td>1121</td>\n",
       "      <td>538</td>\n",
       "      <td>583</td>\n",
       "      <td>47.992864</td>\n",
       "      <td>52.007136</td>\n",
       "      <td>Małopolskie</td>\n",
       "    </tr>\n",
       "    <tr>\n",
       "      <th>Dolnośląskie</th>\n",
       "      <td>611</td>\n",
       "      <td>246</td>\n",
       "      <td>365</td>\n",
       "      <td>40.261866</td>\n",
       "      <td>59.738134</td>\n",
       "      <td>Dolnośląskie</td>\n",
       "    </tr>\n",
       "  </tbody>\n",
       "</table>\n",
       "</div>"
      ],
      "text/plain": [
       "                     liczba_zaraportowanych_zgonow  Współistniejące  \\\n",
       "Województwo                                                           \n",
       "Podlaskie                                      872              809   \n",
       "Zachodniopomorskie                             520              476   \n",
       "Podkarpackie                                   943              832   \n",
       "Opolskie                                       435              378   \n",
       "Pomorskie                                      515              445   \n",
       "Świętokrzyskie                                 461              392   \n",
       "Kujawsko-Pomorskie                             767              608   \n",
       "Lubelskie                                     1921             1507   \n",
       "Łódzkie                                        911              645   \n",
       "Mazowieckie                                   1992             1408   \n",
       "Śląskie                                       1232              831   \n",
       "Warmińsko-Mazurskie                            524              327   \n",
       "Wielkopolskie                                  790              489   \n",
       "Lubuskie                                       250              120   \n",
       "Małopolskie                                   1121              538   \n",
       "Dolnośląskie                                   611              246   \n",
       "\n",
       "                     Brak współistniejących  Współistniejące [%]  \\\n",
       "Województwo                                                        \n",
       "Podlaskie                                63            92.775229   \n",
       "Zachodniopomorskie                       44            91.538462   \n",
       "Podkarpackie                            111            88.229056   \n",
       "Opolskie                                 57            86.896552   \n",
       "Pomorskie                                70            86.407767   \n",
       "Świętokrzyskie                           69            85.032538   \n",
       "Kujawsko-Pomorskie                      159            79.269883   \n",
       "Lubelskie                               414            78.448725   \n",
       "Łódzkie                                 266            70.801317   \n",
       "Mazowieckie                             584            70.682731   \n",
       "Śląskie                                 401            67.451299   \n",
       "Warmińsko-Mazurskie                     197            62.404580   \n",
       "Wielkopolskie                           301            61.898734   \n",
       "Lubuskie                                130            48.000000   \n",
       "Małopolskie                             583            47.992864   \n",
       "Dolnośląskie                            365            40.261866   \n",
       "\n",
       "                     Brak współistniejących [%]          Województwo  \n",
       "Województwo                                                           \n",
       "Podlaskie                              7.224771            Podlaskie  \n",
       "Zachodniopomorskie                     8.461538   Zachodniopomorskie  \n",
       "Podkarpackie                          11.770944         Podkarpackie  \n",
       "Opolskie                              13.103448             Opolskie  \n",
       "Pomorskie                             13.592233            Pomorskie  \n",
       "Świętokrzyskie                        14.967462       Świętokrzyskie  \n",
       "Kujawsko-Pomorskie                    20.730117   Kujawsko-Pomorskie  \n",
       "Lubelskie                             21.551275            Lubelskie  \n",
       "Łódzkie                               29.198683              Łódzkie  \n",
       "Mazowieckie                           29.317269          Mazowieckie  \n",
       "Śląskie                               32.548701              Śląskie  \n",
       "Warmińsko-Mazurskie                   37.595420  Warmińsko-Mazurskie  \n",
       "Wielkopolskie                         38.101266        Wielkopolskie  \n",
       "Lubuskie                              52.000000             Lubuskie  \n",
       "Małopolskie                           52.007136          Małopolskie  \n",
       "Dolnośląskie                          59.738134         Dolnośląskie  "
      ]
     },
     "execution_count": 15,
     "metadata": {},
     "output_type": "execute_result"
    }
   ],
   "source": [
    "wave4_date = datetime.date(2021, 7, 14)\n",
    "dfd4 = basiw.dfd_from(wave4_date)\n",
    "\n",
    "df = dfd4.groupby('Województwo').sum().drop(columns=['teryt_woj', 'teryt_pow', 'wiek'])\n",
    "\n",
    "Q = f'(czy_wspolistniejace == \"T\")'\n",
    "dfwt = dfd4.query(Q)\n",
    "\n",
    "df['Współistniejące'] = dfwt.groupby('Województwo').sum().drop(columns=['teryt_woj', 'teryt_pow', 'wiek'])\n",
    "\n",
    "\n",
    "Q = f'(czy_wspolistniejace == \"N\")'\n",
    "dfwt = dfd4.query(Q)\n",
    "df['Brak współistniejących'] = dfwt.groupby('Województwo').sum().drop(columns=['teryt_woj', 'teryt_pow', 'wiek'])\n",
    "df['Współistniejące [%]'] = df['Współistniejące'] / df['liczba_zaraportowanych_zgonow'] *100\n",
    "df['Brak współistniejących [%]'] = df['Brak współistniejących'] / df['liczba_zaraportowanych_zgonow'] *100\n",
    "df = df.sort_values(['Współistniejące [%]'], ascending=False)\n",
    "df['Województwo'] = df.index\n",
    "\n",
    "df"
   ]
  },
  {
   "cell_type": "code",
   "execution_count": 16,
   "metadata": {},
   "outputs": [
    {
     "data": {
      "application/vnd.plotly.v1+json": {
       "config": {
        "plotlyServerURL": "https://plot.ly"
       },
       "data": [
        {
         "name": "Współistniejące [%]",
         "offsetgroup": "1",
         "text": [
          92.77522935779817,
          91.53846153846153,
          88.22905620360551,
          86.89655172413792,
          86.40776699029125,
          85.03253796095444,
          79.26988265971316,
          78.44872462259241,
          70.801317233809,
          70.68273092369478,
          67.4512987012987,
          62.40458015267175,
          61.89873417721519,
          48,
          47.992863514719005,
          40.261865793780686
         ],
         "textposition": "outside",
         "texttemplate": "%{text:2.1f}",
         "type": "bar",
         "x": [
          "Podlaskie",
          "Zachodniopomorskie",
          "Podkarpackie",
          "Opolskie",
          "Pomorskie",
          "Świętokrzyskie",
          "Kujawsko-Pomorskie",
          "Lubelskie",
          "Łódzkie",
          "Mazowieckie",
          "Śląskie",
          "Warmińsko-Mazurskie",
          "Wielkopolskie",
          "Lubuskie",
          "Małopolskie",
          "Dolnośląskie"
         ],
         "y": [
          92.77522935779817,
          91.53846153846153,
          88.22905620360551,
          86.89655172413792,
          86.40776699029125,
          85.03253796095444,
          79.26988265971316,
          78.44872462259241,
          70.801317233809,
          70.68273092369478,
          67.4512987012987,
          62.40458015267175,
          61.89873417721519,
          48,
          47.992863514719005,
          40.261865793780686
         ]
        },
        {
         "name": "Brak współistniejących [%]",
         "offsetgroup": "2",
         "text": [
          7.224770642201834,
          8.461538461538462,
          11.770943796394485,
          13.10344827586207,
          13.592233009708737,
          14.967462039045554,
          20.73011734028683,
          21.5512753774076,
          29.198682766191,
          29.31726907630522,
          32.548701298701296,
          37.595419847328245,
          38.10126582278481,
          52,
          52.007136485281,
          59.738134206219314
         ],
         "textposition": "outside",
         "texttemplate": "%{text:2.1f}",
         "type": "bar",
         "x": [
          "Podlaskie",
          "Zachodniopomorskie",
          "Podkarpackie",
          "Opolskie",
          "Pomorskie",
          "Świętokrzyskie",
          "Kujawsko-Pomorskie",
          "Lubelskie",
          "Łódzkie",
          "Mazowieckie",
          "Śląskie",
          "Warmińsko-Mazurskie",
          "Wielkopolskie",
          "Lubuskie",
          "Małopolskie",
          "Dolnośląskie"
         ],
         "y": [
          7.224770642201834,
          8.461538461538462,
          11.770943796394485,
          13.10344827586207,
          13.592233009708737,
          14.967462039045554,
          20.73011734028683,
          21.5512753774076,
          29.198682766191,
          29.31726907630522,
          32.548701298701296,
          37.595419847328245,
          38.10126582278481,
          52,
          52.007136485281,
          59.738134206219314
         ]
        }
       ],
       "layout": {
        "barmode": "group",
        "height": 500,
        "legend": {
         "title": {
          "text": ""
         },
         "x": 0.5,
         "xanchor": "center",
         "y": -0.5
        },
        "template": {
         "data": {
          "bar": [
           {
            "error_x": {
             "color": "#2a3f5f"
            },
            "error_y": {
             "color": "#2a3f5f"
            },
            "marker": {
             "line": {
              "color": "#E5ECF6",
              "width": 0.5
             }
            },
            "type": "bar"
           }
          ],
          "barpolar": [
           {
            "marker": {
             "line": {
              "color": "#E5ECF6",
              "width": 0.5
             }
            },
            "type": "barpolar"
           }
          ],
          "carpet": [
           {
            "aaxis": {
             "endlinecolor": "#2a3f5f",
             "gridcolor": "white",
             "linecolor": "white",
             "minorgridcolor": "white",
             "startlinecolor": "#2a3f5f"
            },
            "baxis": {
             "endlinecolor": "#2a3f5f",
             "gridcolor": "white",
             "linecolor": "white",
             "minorgridcolor": "white",
             "startlinecolor": "#2a3f5f"
            },
            "type": "carpet"
           }
          ],
          "choropleth": [
           {
            "colorbar": {
             "outlinewidth": 0,
             "ticks": ""
            },
            "type": "choropleth"
           }
          ],
          "contour": [
           {
            "colorbar": {
             "outlinewidth": 0,
             "ticks": ""
            },
            "colorscale": [
             [
              0,
              "#0d0887"
             ],
             [
              0.1111111111111111,
              "#46039f"
             ],
             [
              0.2222222222222222,
              "#7201a8"
             ],
             [
              0.3333333333333333,
              "#9c179e"
             ],
             [
              0.4444444444444444,
              "#bd3786"
             ],
             [
              0.5555555555555556,
              "#d8576b"
             ],
             [
              0.6666666666666666,
              "#ed7953"
             ],
             [
              0.7777777777777778,
              "#fb9f3a"
             ],
             [
              0.8888888888888888,
              "#fdca26"
             ],
             [
              1,
              "#f0f921"
             ]
            ],
            "type": "contour"
           }
          ],
          "contourcarpet": [
           {
            "colorbar": {
             "outlinewidth": 0,
             "ticks": ""
            },
            "type": "contourcarpet"
           }
          ],
          "heatmap": [
           {
            "colorbar": {
             "outlinewidth": 0,
             "ticks": ""
            },
            "colorscale": [
             [
              0,
              "#0d0887"
             ],
             [
              0.1111111111111111,
              "#46039f"
             ],
             [
              0.2222222222222222,
              "#7201a8"
             ],
             [
              0.3333333333333333,
              "#9c179e"
             ],
             [
              0.4444444444444444,
              "#bd3786"
             ],
             [
              0.5555555555555556,
              "#d8576b"
             ],
             [
              0.6666666666666666,
              "#ed7953"
             ],
             [
              0.7777777777777778,
              "#fb9f3a"
             ],
             [
              0.8888888888888888,
              "#fdca26"
             ],
             [
              1,
              "#f0f921"
             ]
            ],
            "type": "heatmap"
           }
          ],
          "heatmapgl": [
           {
            "colorbar": {
             "outlinewidth": 0,
             "ticks": ""
            },
            "colorscale": [
             [
              0,
              "#0d0887"
             ],
             [
              0.1111111111111111,
              "#46039f"
             ],
             [
              0.2222222222222222,
              "#7201a8"
             ],
             [
              0.3333333333333333,
              "#9c179e"
             ],
             [
              0.4444444444444444,
              "#bd3786"
             ],
             [
              0.5555555555555556,
              "#d8576b"
             ],
             [
              0.6666666666666666,
              "#ed7953"
             ],
             [
              0.7777777777777778,
              "#fb9f3a"
             ],
             [
              0.8888888888888888,
              "#fdca26"
             ],
             [
              1,
              "#f0f921"
             ]
            ],
            "type": "heatmapgl"
           }
          ],
          "histogram": [
           {
            "marker": {
             "colorbar": {
              "outlinewidth": 0,
              "ticks": ""
             }
            },
            "type": "histogram"
           }
          ],
          "histogram2d": [
           {
            "colorbar": {
             "outlinewidth": 0,
             "ticks": ""
            },
            "colorscale": [
             [
              0,
              "#0d0887"
             ],
             [
              0.1111111111111111,
              "#46039f"
             ],
             [
              0.2222222222222222,
              "#7201a8"
             ],
             [
              0.3333333333333333,
              "#9c179e"
             ],
             [
              0.4444444444444444,
              "#bd3786"
             ],
             [
              0.5555555555555556,
              "#d8576b"
             ],
             [
              0.6666666666666666,
              "#ed7953"
             ],
             [
              0.7777777777777778,
              "#fb9f3a"
             ],
             [
              0.8888888888888888,
              "#fdca26"
             ],
             [
              1,
              "#f0f921"
             ]
            ],
            "type": "histogram2d"
           }
          ],
          "histogram2dcontour": [
           {
            "colorbar": {
             "outlinewidth": 0,
             "ticks": ""
            },
            "colorscale": [
             [
              0,
              "#0d0887"
             ],
             [
              0.1111111111111111,
              "#46039f"
             ],
             [
              0.2222222222222222,
              "#7201a8"
             ],
             [
              0.3333333333333333,
              "#9c179e"
             ],
             [
              0.4444444444444444,
              "#bd3786"
             ],
             [
              0.5555555555555556,
              "#d8576b"
             ],
             [
              0.6666666666666666,
              "#ed7953"
             ],
             [
              0.7777777777777778,
              "#fb9f3a"
             ],
             [
              0.8888888888888888,
              "#fdca26"
             ],
             [
              1,
              "#f0f921"
             ]
            ],
            "type": "histogram2dcontour"
           }
          ],
          "mesh3d": [
           {
            "colorbar": {
             "outlinewidth": 0,
             "ticks": ""
            },
            "type": "mesh3d"
           }
          ],
          "parcoords": [
           {
            "line": {
             "colorbar": {
              "outlinewidth": 0,
              "ticks": ""
             }
            },
            "type": "parcoords"
           }
          ],
          "pie": [
           {
            "automargin": true,
            "type": "pie"
           }
          ],
          "scatter": [
           {
            "marker": {
             "colorbar": {
              "outlinewidth": 0,
              "ticks": ""
             }
            },
            "type": "scatter"
           }
          ],
          "scatter3d": [
           {
            "line": {
             "colorbar": {
              "outlinewidth": 0,
              "ticks": ""
             }
            },
            "marker": {
             "colorbar": {
              "outlinewidth": 0,
              "ticks": ""
             }
            },
            "type": "scatter3d"
           }
          ],
          "scattercarpet": [
           {
            "marker": {
             "colorbar": {
              "outlinewidth": 0,
              "ticks": ""
             }
            },
            "type": "scattercarpet"
           }
          ],
          "scattergeo": [
           {
            "marker": {
             "colorbar": {
              "outlinewidth": 0,
              "ticks": ""
             }
            },
            "type": "scattergeo"
           }
          ],
          "scattergl": [
           {
            "marker": {
             "colorbar": {
              "outlinewidth": 0,
              "ticks": ""
             }
            },
            "type": "scattergl"
           }
          ],
          "scattermapbox": [
           {
            "marker": {
             "colorbar": {
              "outlinewidth": 0,
              "ticks": ""
             }
            },
            "type": "scattermapbox"
           }
          ],
          "scatterpolar": [
           {
            "marker": {
             "colorbar": {
              "outlinewidth": 0,
              "ticks": ""
             }
            },
            "type": "scatterpolar"
           }
          ],
          "scatterpolargl": [
           {
            "marker": {
             "colorbar": {
              "outlinewidth": 0,
              "ticks": ""
             }
            },
            "type": "scatterpolargl"
           }
          ],
          "scatterternary": [
           {
            "marker": {
             "colorbar": {
              "outlinewidth": 0,
              "ticks": ""
             }
            },
            "type": "scatterternary"
           }
          ],
          "surface": [
           {
            "colorbar": {
             "outlinewidth": 0,
             "ticks": ""
            },
            "colorscale": [
             [
              0,
              "#0d0887"
             ],
             [
              0.1111111111111111,
              "#46039f"
             ],
             [
              0.2222222222222222,
              "#7201a8"
             ],
             [
              0.3333333333333333,
              "#9c179e"
             ],
             [
              0.4444444444444444,
              "#bd3786"
             ],
             [
              0.5555555555555556,
              "#d8576b"
             ],
             [
              0.6666666666666666,
              "#ed7953"
             ],
             [
              0.7777777777777778,
              "#fb9f3a"
             ],
             [
              0.8888888888888888,
              "#fdca26"
             ],
             [
              1,
              "#f0f921"
             ]
            ],
            "type": "surface"
           }
          ],
          "table": [
           {
            "cells": {
             "fill": {
              "color": "#EBF0F8"
             },
             "line": {
              "color": "white"
             }
            },
            "header": {
             "fill": {
              "color": "#C8D4E3"
             },
             "line": {
              "color": "white"
             }
            },
            "type": "table"
           }
          ]
         },
         "layout": {
          "annotationdefaults": {
           "arrowcolor": "#2a3f5f",
           "arrowhead": 0,
           "arrowwidth": 1
          },
          "coloraxis": {
           "colorbar": {
            "outlinewidth": 0,
            "ticks": ""
           }
          },
          "colorscale": {
           "diverging": [
            [
             0,
             "#8e0152"
            ],
            [
             0.1,
             "#c51b7d"
            ],
            [
             0.2,
             "#de77ae"
            ],
            [
             0.3,
             "#f1b6da"
            ],
            [
             0.4,
             "#fde0ef"
            ],
            [
             0.5,
             "#f7f7f7"
            ],
            [
             0.6,
             "#e6f5d0"
            ],
            [
             0.7,
             "#b8e186"
            ],
            [
             0.8,
             "#7fbc41"
            ],
            [
             0.9,
             "#4d9221"
            ],
            [
             1,
             "#276419"
            ]
           ],
           "sequential": [
            [
             0,
             "#0d0887"
            ],
            [
             0.1111111111111111,
             "#46039f"
            ],
            [
             0.2222222222222222,
             "#7201a8"
            ],
            [
             0.3333333333333333,
             "#9c179e"
            ],
            [
             0.4444444444444444,
             "#bd3786"
            ],
            [
             0.5555555555555556,
             "#d8576b"
            ],
            [
             0.6666666666666666,
             "#ed7953"
            ],
            [
             0.7777777777777778,
             "#fb9f3a"
            ],
            [
             0.8888888888888888,
             "#fdca26"
            ],
            [
             1,
             "#f0f921"
            ]
           ],
           "sequentialminus": [
            [
             0,
             "#0d0887"
            ],
            [
             0.1111111111111111,
             "#46039f"
            ],
            [
             0.2222222222222222,
             "#7201a8"
            ],
            [
             0.3333333333333333,
             "#9c179e"
            ],
            [
             0.4444444444444444,
             "#bd3786"
            ],
            [
             0.5555555555555556,
             "#d8576b"
            ],
            [
             0.6666666666666666,
             "#ed7953"
            ],
            [
             0.7777777777777778,
             "#fb9f3a"
            ],
            [
             0.8888888888888888,
             "#fdca26"
            ],
            [
             1,
             "#f0f921"
            ]
           ]
          },
          "colorway": [
           "#636efa",
           "#EF553B",
           "#00cc96",
           "#ab63fa",
           "#FFA15A",
           "#19d3f3",
           "#FF6692",
           "#B6E880",
           "#FF97FF",
           "#FECB52"
          ],
          "font": {
           "color": "#2a3f5f"
          },
          "geo": {
           "bgcolor": "white",
           "lakecolor": "white",
           "landcolor": "#E5ECF6",
           "showlakes": true,
           "showland": true,
           "subunitcolor": "white"
          },
          "hoverlabel": {
           "align": "left"
          },
          "hovermode": "closest",
          "mapbox": {
           "style": "light"
          },
          "paper_bgcolor": "white",
          "plot_bgcolor": "#E5ECF6",
          "polar": {
           "angularaxis": {
            "gridcolor": "white",
            "linecolor": "white",
            "ticks": ""
           },
           "bgcolor": "#E5ECF6",
           "radialaxis": {
            "gridcolor": "white",
            "linecolor": "white",
            "ticks": ""
           }
          },
          "scene": {
           "xaxis": {
            "backgroundcolor": "#E5ECF6",
            "gridcolor": "white",
            "gridwidth": 2,
            "linecolor": "white",
            "showbackground": true,
            "ticks": "",
            "zerolinecolor": "white"
           },
           "yaxis": {
            "backgroundcolor": "#E5ECF6",
            "gridcolor": "white",
            "gridwidth": 2,
            "linecolor": "white",
            "showbackground": true,
            "ticks": "",
            "zerolinecolor": "white"
           },
           "zaxis": {
            "backgroundcolor": "#E5ECF6",
            "gridcolor": "white",
            "gridwidth": 2,
            "linecolor": "white",
            "showbackground": true,
            "ticks": "",
            "zerolinecolor": "white"
           }
          },
          "shapedefaults": {
           "line": {
            "color": "#2a3f5f"
           }
          },
          "ternary": {
           "aaxis": {
            "gridcolor": "white",
            "linecolor": "white",
            "ticks": ""
           },
           "baxis": {
            "gridcolor": "white",
            "linecolor": "white",
            "ticks": ""
           },
           "bgcolor": "#E5ECF6",
           "caxis": {
            "gridcolor": "white",
            "linecolor": "white",
            "ticks": ""
           }
          },
          "title": {
           "x": 0.05
          },
          "xaxis": {
           "automargin": true,
           "gridcolor": "white",
           "linecolor": "white",
           "ticks": "",
           "title": {
            "standoff": 15
           },
           "zerolinecolor": "white",
           "zerolinewidth": 2
          },
          "yaxis": {
           "automargin": true,
           "gridcolor": "white",
           "linecolor": "white",
           "ticks": "",
           "title": {
            "standoff": 15
           },
           "zerolinecolor": "white",
           "zerolinewidth": 2
          }
         }
        },
        "title": {
         "font": {
          "size": 16
         },
         "text": "Procent zgonów na COVID-19 w województwach w podziale na występowanie chorób współistniejących<br>(Od 14.07.2021)",
         "x": 0.5,
         "xanchor": "center"
        },
        "uniformtext": {
         "minsize": 8,
         "mode": "show"
        },
        "width": 800,
        "xaxis": {
         "tickangle": 33
        },
        "yaxis": {
         "title": {
          "text": "Procent zgonów"
         }
        }
       }
      }
     },
     "metadata": {},
     "output_type": "display_data"
    }
   ],
   "source": [
    "plot_df3(df,basiw.image_dir, 'zgony_wspol_procent_od2021-07-14.jpg')"
   ]
  },
  {
   "cell_type": "markdown",
   "metadata": {},
   "source": [
    "## Udział w pełni zaszczepionych wg województw\n",
    "\n",
    "Źródło danych: \n",
    "\n",
    "Centrum e-Zdrowia (CeZ)\n",
    "\n",
    "<https://dane.gov.pl/pl/dataset/2476/resource/35294,raport-o-liczbie-mieszkancow-zaszczepionych-pierwsza-dawka-oraz-w-peni-zaszczepionych-w-miastach-powiatach-i-gminach-w-dniu-2021-12-21/table?page=1&per_page=20&q=&sort=>\n",
    "\n",
    "<https://api.dane.gov.pl/media/resources/20211222/poziom_wyszczepienia_mieszka%C5%84c%C3%B3w_gmin_w_dniu_20211221_wska%C5%BAniki.csv>"
   ]
  },
  {
   "cell_type": "code",
   "execution_count": 17,
   "metadata": {},
   "outputs": [],
   "source": [
    "url_vac_reg =\\\n",
    "    'https://api.dane.gov.pl/media/resources/20211222/poziom_wyszczepienia_mieszka%C5%84c%C3%B3w_gmin_w_dniu_20211221_wska%C5%BAniki.csv'\n",
    "encoding = 'iso8859_2' #'cp1250' # 'iso8859_2'"
   ]
  },
  {
   "cell_type": "code",
   "execution_count": 18,
   "metadata": {},
   "outputs": [
    {
     "data": {
      "text/html": [
       "<div>\n",
       "<style scoped>\n",
       "    .dataframe tbody tr th:only-of-type {\n",
       "        vertical-align: middle;\n",
       "    }\n",
       "\n",
       "    .dataframe tbody tr th {\n",
       "        vertical-align: top;\n",
       "    }\n",
       "\n",
       "    .dataframe thead th {\n",
       "        text-align: right;\n",
       "    }\n",
       "</style>\n",
       "<table border=\"1\" class=\"dataframe\">\n",
       "  <thead>\n",
       "    <tr style=\"text-align: right;\">\n",
       "      <th></th>\n",
       "      <th>wojewodztwo_teryt</th>\n",
       "      <th>wojewodztwo_nazwa</th>\n",
       "      <th>powiat_teryt</th>\n",
       "      <th>powiat_nazwa</th>\n",
       "      <th>gmina_teryt</th>\n",
       "      <th>gmina_nazwa</th>\n",
       "      <th>kategoria</th>\n",
       "      <th>liczba_ludnosci</th>\n",
       "      <th>w1_zaszczepieni_pacjenci</th>\n",
       "      <th>w3_zaszczepieni_pelna_dawka</th>\n",
       "      <th>...</th>\n",
       "      <th>w1_zaszczepieni_w_wieku_40_59</th>\n",
       "      <th>w1_zaszczepieni_w_wieku_60_69</th>\n",
       "      <th>w1_zaszczepieni_w_wieku_70plus</th>\n",
       "      <th>w3_zaszczepieni_pełnš_dawkš_w_wieku_0_11</th>\n",
       "      <th>w3_zaszczepieni_pełnš_dawkš_w_wieku_12_19</th>\n",
       "      <th>w3_zaszczepieni_pełnš_dawkš_w_wieku_20_39</th>\n",
       "      <th>w3_zaszczepieni_pełnš_dawkš_w_wieku_40_59</th>\n",
       "      <th>w3_zaszczepieni_pełnš_dawkš_w_wieku_60_69</th>\n",
       "      <th>w3_zaszczepieni_pełnš_dawkš_w_wieku_70plus</th>\n",
       "      <th>Województwo</th>\n",
       "    </tr>\n",
       "  </thead>\n",
       "  <tbody>\n",
       "    <tr>\n",
       "      <th>0</th>\n",
       "      <td>32</td>\n",
       "      <td>zachodniopomorskie</td>\n",
       "      <td>3208</td>\n",
       "      <td>koĹobrzeski</td>\n",
       "      <td>3208072</td>\n",
       "      <td>gm.w Ustronie Morskie</td>\n",
       "      <td>KoszaliĹski</td>\n",
       "      <td>3617</td>\n",
       "      <td>2779</td>\n",
       "      <td>2683</td>\n",
       "      <td>...</td>\n",
       "      <td>956</td>\n",
       "      <td>456</td>\n",
       "      <td>397</td>\n",
       "      <td>0</td>\n",
       "      <td>153</td>\n",
       "      <td>770</td>\n",
       "      <td>925</td>\n",
       "      <td>449</td>\n",
       "      <td>386</td>\n",
       "      <td>Zachodniopomorskie</td>\n",
       "    </tr>\n",
       "    <tr>\n",
       "      <th>1</th>\n",
       "      <td>30</td>\n",
       "      <td>wielkopolskie</td>\n",
       "      <td>3024</td>\n",
       "      <td>szamotulski</td>\n",
       "      <td>3024083</td>\n",
       "      <td>gm.m-w. Wronki</td>\n",
       "      <td>Pilski</td>\n",
       "      <td>19081</td>\n",
       "      <td>14649</td>\n",
       "      <td>14008</td>\n",
       "      <td>...</td>\n",
       "      <td>4563</td>\n",
       "      <td>2214</td>\n",
       "      <td>1982</td>\n",
       "      <td>0</td>\n",
       "      <td>992</td>\n",
       "      <td>4479</td>\n",
       "      <td>4421</td>\n",
       "      <td>2175</td>\n",
       "      <td>1941</td>\n",
       "      <td>Wielkopolskie</td>\n",
       "    </tr>\n",
       "    <tr>\n",
       "      <th>2</th>\n",
       "      <td>14</td>\n",
       "      <td>mazowieckie</td>\n",
       "      <td>1421</td>\n",
       "      <td>pruszkowski</td>\n",
       "      <td>1421062</td>\n",
       "      <td>gm.w Raszyn</td>\n",
       "      <td>Warszawski</td>\n",
       "      <td>21971</td>\n",
       "      <td>16675</td>\n",
       "      <td>15988</td>\n",
       "      <td>...</td>\n",
       "      <td>5731</td>\n",
       "      <td>2312</td>\n",
       "      <td>2241</td>\n",
       "      <td>0</td>\n",
       "      <td>1192</td>\n",
       "      <td>4749</td>\n",
       "      <td>5592</td>\n",
       "      <td>2262</td>\n",
       "      <td>2193</td>\n",
       "      <td>Mazowieckie</td>\n",
       "    </tr>\n",
       "    <tr>\n",
       "      <th>3</th>\n",
       "      <td>14</td>\n",
       "      <td>mazowieckie</td>\n",
       "      <td>1405</td>\n",
       "      <td>grodziski</td>\n",
       "      <td>1405021</td>\n",
       "      <td>Podkowa LeĹna</td>\n",
       "      <td>Warszawski</td>\n",
       "      <td>3801</td>\n",
       "      <td>2867</td>\n",
       "      <td>2747</td>\n",
       "      <td>...</td>\n",
       "      <td>891</td>\n",
       "      <td>480</td>\n",
       "      <td>571</td>\n",
       "      <td>0</td>\n",
       "      <td>244</td>\n",
       "      <td>605</td>\n",
       "      <td>871</td>\n",
       "      <td>472</td>\n",
       "      <td>555</td>\n",
       "      <td>Mazowieckie</td>\n",
       "    </tr>\n",
       "    <tr>\n",
       "      <th>4</th>\n",
       "      <td>14</td>\n",
       "      <td>mazowieckie</td>\n",
       "      <td>1465</td>\n",
       "      <td>Warszawa</td>\n",
       "      <td>1465011</td>\n",
       "      <td>M. St. Warszawa</td>\n",
       "      <td>NaN</td>\n",
       "      <td>1794166</td>\n",
       "      <td>1325291</td>\n",
       "      <td>1273603</td>\n",
       "      <td>...</td>\n",
       "      <td>396584</td>\n",
       "      <td>181231</td>\n",
       "      <td>224044</td>\n",
       "      <td>11</td>\n",
       "      <td>82705</td>\n",
       "      <td>406332</td>\n",
       "      <td>388038</td>\n",
       "      <td>177538</td>\n",
       "      <td>218979</td>\n",
       "      <td>Mazowieckie</td>\n",
       "    </tr>\n",
       "    <tr>\n",
       "      <th>...</th>\n",
       "      <td>...</td>\n",
       "      <td>...</td>\n",
       "      <td>...</td>\n",
       "      <td>...</td>\n",
       "      <td>...</td>\n",
       "      <td>...</td>\n",
       "      <td>...</td>\n",
       "      <td>...</td>\n",
       "      <td>...</td>\n",
       "      <td>...</td>\n",
       "      <td>...</td>\n",
       "      <td>...</td>\n",
       "      <td>...</td>\n",
       "      <td>...</td>\n",
       "      <td>...</td>\n",
       "      <td>...</td>\n",
       "      <td>...</td>\n",
       "      <td>...</td>\n",
       "      <td>...</td>\n",
       "      <td>...</td>\n",
       "      <td>...</td>\n",
       "    </tr>\n",
       "    <tr>\n",
       "      <th>2472</th>\n",
       "      <td>18</td>\n",
       "      <td>podkarpackie</td>\n",
       "      <td>1818</td>\n",
       "      <td>stalowowolski</td>\n",
       "      <td>1818022</td>\n",
       "      <td>gm.w BojanĂłw</td>\n",
       "      <td>Tarnobrzeski</td>\n",
       "      <td>7621</td>\n",
       "      <td>2047</td>\n",
       "      <td>1932</td>\n",
       "      <td>...</td>\n",
       "      <td>681</td>\n",
       "      <td>387</td>\n",
       "      <td>322</td>\n",
       "      <td>0</td>\n",
       "      <td>105</td>\n",
       "      <td>505</td>\n",
       "      <td>639</td>\n",
       "      <td>369</td>\n",
       "      <td>314</td>\n",
       "      <td>Podkarpackie</td>\n",
       "    </tr>\n",
       "    <tr>\n",
       "      <th>2473</th>\n",
       "      <td>18</td>\n",
       "      <td>podkarpackie</td>\n",
       "      <td>1812</td>\n",
       "      <td>niĹźaĹski</td>\n",
       "      <td>1812032</td>\n",
       "      <td>gm.w JeĹźowe</td>\n",
       "      <td>Tarnobrzeski</td>\n",
       "      <td>10100</td>\n",
       "      <td>2696</td>\n",
       "      <td>2559</td>\n",
       "      <td>...</td>\n",
       "      <td>949</td>\n",
       "      <td>422</td>\n",
       "      <td>468</td>\n",
       "      <td>0</td>\n",
       "      <td>104</td>\n",
       "      <td>695</td>\n",
       "      <td>896</td>\n",
       "      <td>410</td>\n",
       "      <td>454</td>\n",
       "      <td>Podkarpackie</td>\n",
       "    </tr>\n",
       "    <tr>\n",
       "      <th>2474</th>\n",
       "      <td>18</td>\n",
       "      <td>podkarpackie</td>\n",
       "      <td>1806</td>\n",
       "      <td>kolbuszowski</td>\n",
       "      <td>1806012</td>\n",
       "      <td>gm.w Cmolas</td>\n",
       "      <td>Rzeszowski</td>\n",
       "      <td>8045</td>\n",
       "      <td>2117</td>\n",
       "      <td>2012</td>\n",
       "      <td>...</td>\n",
       "      <td>688</td>\n",
       "      <td>345</td>\n",
       "      <td>405</td>\n",
       "      <td>0</td>\n",
       "      <td>80</td>\n",
       "      <td>556</td>\n",
       "      <td>654</td>\n",
       "      <td>336</td>\n",
       "      <td>386</td>\n",
       "      <td>Podkarpackie</td>\n",
       "    </tr>\n",
       "    <tr>\n",
       "      <th>2475</th>\n",
       "      <td>18</td>\n",
       "      <td>podkarpackie</td>\n",
       "      <td>1806</td>\n",
       "      <td>kolbuszowski</td>\n",
       "      <td>1806062</td>\n",
       "      <td>gm.w Dzikowiec</td>\n",
       "      <td>Rzeszowski</td>\n",
       "      <td>6480</td>\n",
       "      <td>1655</td>\n",
       "      <td>1609</td>\n",
       "      <td>...</td>\n",
       "      <td>571</td>\n",
       "      <td>286</td>\n",
       "      <td>310</td>\n",
       "      <td>0</td>\n",
       "      <td>60</td>\n",
       "      <td>413</td>\n",
       "      <td>554</td>\n",
       "      <td>279</td>\n",
       "      <td>303</td>\n",
       "      <td>Podkarpackie</td>\n",
       "    </tr>\n",
       "    <tr>\n",
       "      <th>2476</th>\n",
       "      <td>12</td>\n",
       "      <td>maĹopolskie</td>\n",
       "      <td>1211</td>\n",
       "      <td>nowotarski</td>\n",
       "      <td>1211032</td>\n",
       "      <td>gm.w Czarny Dunajec</td>\n",
       "      <td>NowosÄdecki</td>\n",
       "      <td>22592</td>\n",
       "      <td>5555</td>\n",
       "      <td>5316</td>\n",
       "      <td>...</td>\n",
       "      <td>1766</td>\n",
       "      <td>927</td>\n",
       "      <td>848</td>\n",
       "      <td>0</td>\n",
       "      <td>295</td>\n",
       "      <td>1583</td>\n",
       "      <td>1708</td>\n",
       "      <td>903</td>\n",
       "      <td>827</td>\n",
       "      <td>Małopolskie</td>\n",
       "    </tr>\n",
       "  </tbody>\n",
       "</table>\n",
       "<p>2477 rows × 25 columns</p>\n",
       "</div>"
      ],
      "text/plain": [
       "      wojewodztwo_teryt   wojewodztwo_nazwa  powiat_teryt   powiat_nazwa  \\\n",
       "0                    32  zachodniopomorskie          3208   koĹobrzeski   \n",
       "1                    30       wielkopolskie          3024    szamotulski   \n",
       "2                    14         mazowieckie          1421    pruszkowski   \n",
       "3                    14         mazowieckie          1405      grodziski   \n",
       "4                    14         mazowieckie          1465       Warszawa   \n",
       "...                 ...                 ...           ...            ...   \n",
       "2472                 18        podkarpackie          1818  stalowowolski   \n",
       "2473                 18        podkarpackie          1812     niĹźaĹski   \n",
       "2474                 18        podkarpackie          1806   kolbuszowski   \n",
       "2475                 18        podkarpackie          1806   kolbuszowski   \n",
       "2476                 12        maĹopolskie          1211     nowotarski   \n",
       "\n",
       "      gmina_teryt            gmina_nazwa     kategoria  liczba_ludnosci  \\\n",
       "0         3208072  gm.w Ustronie Morskie  KoszaliĹski             3617   \n",
       "1         3024083         gm.m-w. Wronki        Pilski            19081   \n",
       "2         1421062            gm.w Raszyn    Warszawski            21971   \n",
       "3         1405021         Podkowa LeĹna    Warszawski             3801   \n",
       "4         1465011        M. St. Warszawa           NaN          1794166   \n",
       "...           ...                    ...           ...              ...   \n",
       "2472      1818022          gm.w BojanĂłw  Tarnobrzeski             7621   \n",
       "2473      1812032           gm.w JeĹźowe  Tarnobrzeski            10100   \n",
       "2474      1806012            gm.w Cmolas    Rzeszowski             8045   \n",
       "2475      1806062         gm.w Dzikowiec    Rzeszowski             6480   \n",
       "2476      1211032    gm.w Czarny Dunajec  NowosÄ\n",
       "decki            22592   \n",
       "\n",
       "      w1_zaszczepieni_pacjenci  w3_zaszczepieni_pelna_dawka  ...  \\\n",
       "0                         2779                         2683  ...   \n",
       "1                        14649                        14008  ...   \n",
       "2                        16675                        15988  ...   \n",
       "3                         2867                         2747  ...   \n",
       "4                      1325291                      1273603  ...   \n",
       "...                        ...                          ...  ...   \n",
       "2472                      2047                         1932  ...   \n",
       "2473                      2696                         2559  ...   \n",
       "2474                      2117                         2012  ...   \n",
       "2475                      1655                         1609  ...   \n",
       "2476                      5555                         5316  ...   \n",
       "\n",
       "     w1_zaszczepieni_w_wieku_40_59 w1_zaszczepieni_w_wieku_60_69  \\\n",
       "0                              956                           456   \n",
       "1                             4563                          2214   \n",
       "2                             5731                          2312   \n",
       "3                              891                           480   \n",
       "4                           396584                        181231   \n",
       "...                            ...                           ...   \n",
       "2472                           681                           387   \n",
       "2473                           949                           422   \n",
       "2474                           688                           345   \n",
       "2475                           571                           286   \n",
       "2476                          1766                           927   \n",
       "\n",
       "      w1_zaszczepieni_w_wieku_70plus  \\\n",
       "0                                397   \n",
       "1                               1982   \n",
       "2                               2241   \n",
       "3                                571   \n",
       "4                             224044   \n",
       "...                              ...   \n",
       "2472                             322   \n",
       "2473                             468   \n",
       "2474                             405   \n",
       "2475                             310   \n",
       "2476                             848   \n",
       "\n",
       "      w3_zaszczepieni_pełnš_dawkš_w_wieku_0_11  \\\n",
       "0                                            0   \n",
       "1                                            0   \n",
       "2                                            0   \n",
       "3                                            0   \n",
       "4                                           11   \n",
       "...                                        ...   \n",
       "2472                                         0   \n",
       "2473                                         0   \n",
       "2474                                         0   \n",
       "2475                                         0   \n",
       "2476                                         0   \n",
       "\n",
       "      w3_zaszczepieni_pełnš_dawkš_w_wieku_12_19  \\\n",
       "0                                           153   \n",
       "1                                           992   \n",
       "2                                          1192   \n",
       "3                                           244   \n",
       "4                                         82705   \n",
       "...                                         ...   \n",
       "2472                                        105   \n",
       "2473                                        104   \n",
       "2474                                         80   \n",
       "2475                                         60   \n",
       "2476                                        295   \n",
       "\n",
       "      w3_zaszczepieni_pełnš_dawkš_w_wieku_20_39  \\\n",
       "0                                           770   \n",
       "1                                          4479   \n",
       "2                                          4749   \n",
       "3                                           605   \n",
       "4                                        406332   \n",
       "...                                         ...   \n",
       "2472                                        505   \n",
       "2473                                        695   \n",
       "2474                                        556   \n",
       "2475                                        413   \n",
       "2476                                       1583   \n",
       "\n",
       "      w3_zaszczepieni_pełnš_dawkš_w_wieku_40_59  \\\n",
       "0                                           925   \n",
       "1                                          4421   \n",
       "2                                          5592   \n",
       "3                                           871   \n",
       "4                                        388038   \n",
       "...                                         ...   \n",
       "2472                                        639   \n",
       "2473                                        896   \n",
       "2474                                        654   \n",
       "2475                                        554   \n",
       "2476                                       1708   \n",
       "\n",
       "      w3_zaszczepieni_pełnš_dawkš_w_wieku_60_69  \\\n",
       "0                                           449   \n",
       "1                                          2175   \n",
       "2                                          2262   \n",
       "3                                           472   \n",
       "4                                        177538   \n",
       "...                                         ...   \n",
       "2472                                        369   \n",
       "2473                                        410   \n",
       "2474                                        336   \n",
       "2475                                        279   \n",
       "2476                                        903   \n",
       "\n",
       "      w3_zaszczepieni_pełnš_dawkš_w_wieku_70plus         Województwo  \n",
       "0                                            386  Zachodniopomorskie  \n",
       "1                                           1941       Wielkopolskie  \n",
       "2                                           2193         Mazowieckie  \n",
       "3                                            555         Mazowieckie  \n",
       "4                                         218979         Mazowieckie  \n",
       "...                                          ...                 ...  \n",
       "2472                                         314        Podkarpackie  \n",
       "2473                                         454        Podkarpackie  \n",
       "2474                                         386        Podkarpackie  \n",
       "2475                                         303        Podkarpackie  \n",
       "2476                                         827         Małopolskie  \n",
       "\n",
       "[2477 rows x 25 columns]"
      ]
     },
     "execution_count": 18,
     "metadata": {},
     "output_type": "execute_result"
    }
   ],
   "source": [
    "cezvac = CEZvacformat(\n",
    "    image_dir = './images',\n",
    "    data_dir = './basiw_data',\n",
    "    url_vac = url_vac_reg,\n",
    "    teryt_file = 'TERC_Urzedowy_2021-12-14.csv'\n",
    "    )\n",
    "\n",
    "cezvac.dfv\n"
   ]
  },
  {
   "cell_type": "code",
   "execution_count": 19,
   "metadata": {},
   "outputs": [
    {
     "data": {
      "text/html": [
       "<div>\n",
       "<style scoped>\n",
       "    .dataframe tbody tr th:only-of-type {\n",
       "        vertical-align: middle;\n",
       "    }\n",
       "\n",
       "    .dataframe tbody tr th {\n",
       "        vertical-align: top;\n",
       "    }\n",
       "\n",
       "    .dataframe thead th {\n",
       "        text-align: right;\n",
       "    }\n",
       "</style>\n",
       "<table border=\"1\" class=\"dataframe\">\n",
       "  <thead>\n",
       "    <tr style=\"text-align: right;\">\n",
       "      <th></th>\n",
       "      <th>liczba_ludnosci</th>\n",
       "      <th>w1_zaszczepieni_pacjenci</th>\n",
       "      <th>w3_zaszczepieni_pelna_dawka</th>\n",
       "      <th>w1_zaszczepieni_w_wieku_0_11</th>\n",
       "      <th>w1_zaszczepieni_w_wieku_12_19</th>\n",
       "      <th>w1_zaszczepieni_w_wieku_20_39</th>\n",
       "      <th>w1_zaszczepieni_w_wieku_40_59</th>\n",
       "      <th>w1_zaszczepieni_w_wieku_60_69</th>\n",
       "      <th>w1_zaszczepieni_w_wieku_70plus</th>\n",
       "      <th>w3_zaszczepieni_pełnš_dawkš_w_wieku_0_11</th>\n",
       "      <th>w3_zaszczepieni_pełnš_dawkš_w_wieku_12_19</th>\n",
       "      <th>w3_zaszczepieni_pełnš_dawkš_w_wieku_20_39</th>\n",
       "      <th>w3_zaszczepieni_pełnš_dawkš_w_wieku_40_59</th>\n",
       "      <th>w3_zaszczepieni_pełnš_dawkš_w_wieku_60_69</th>\n",
       "      <th>w3_zaszczepieni_pełnš_dawkš_w_wieku_70plus</th>\n",
       "      <th>Województwo</th>\n",
       "      <th>mieszkańców w województwie</th>\n",
       "      <th>Wyszczepienie [%]</th>\n",
       "    </tr>\n",
       "  </thead>\n",
       "  <tbody>\n",
       "    <tr>\n",
       "      <th>Dolnośląskie</th>\n",
       "      <td>2891321</td>\n",
       "      <td>1682247</td>\n",
       "      <td>1622024</td>\n",
       "      <td>6823</td>\n",
       "      <td>99570</td>\n",
       "      <td>448733</td>\n",
       "      <td>514878</td>\n",
       "      <td>310092</td>\n",
       "      <td>302151</td>\n",
       "      <td>19</td>\n",
       "      <td>90698</td>\n",
       "      <td>430891</td>\n",
       "      <td>501181</td>\n",
       "      <td>303541</td>\n",
       "      <td>295694</td>\n",
       "      <td>Dolnośląskie</td>\n",
       "      <td>2884011</td>\n",
       "      <td>56.241949</td>\n",
       "    </tr>\n",
       "    <tr>\n",
       "      <th>Kujawsko-Pomorskie</th>\n",
       "      <td>2061942</td>\n",
       "      <td>1196427</td>\n",
       "      <td>1153241</td>\n",
       "      <td>5952</td>\n",
       "      <td>83507</td>\n",
       "      <td>300324</td>\n",
       "      <td>381805</td>\n",
       "      <td>218639</td>\n",
       "      <td>206200</td>\n",
       "      <td>21</td>\n",
       "      <td>76303</td>\n",
       "      <td>288136</td>\n",
       "      <td>372565</td>\n",
       "      <td>214293</td>\n",
       "      <td>201923</td>\n",
       "      <td>Kujawsko-Pomorskie</td>\n",
       "      <td>2054163</td>\n",
       "      <td>56.141650</td>\n",
       "    </tr>\n",
       "    <tr>\n",
       "      <th>Lubelskie</th>\n",
       "      <td>2095258</td>\n",
       "      <td>1036167</td>\n",
       "      <td>995604</td>\n",
       "      <td>2335</td>\n",
       "      <td>59301</td>\n",
       "      <td>251539</td>\n",
       "      <td>326691</td>\n",
       "      <td>198355</td>\n",
       "      <td>197946</td>\n",
       "      <td>4</td>\n",
       "      <td>53694</td>\n",
       "      <td>239168</td>\n",
       "      <td>316487</td>\n",
       "      <td>193468</td>\n",
       "      <td>192783</td>\n",
       "      <td>Lubelskie</td>\n",
       "      <td>2086403</td>\n",
       "      <td>47.718681</td>\n",
       "    </tr>\n",
       "    <tr>\n",
       "      <th>Lubuskie</th>\n",
       "      <td>1007145</td>\n",
       "      <td>590051</td>\n",
       "      <td>566029</td>\n",
       "      <td>2341</td>\n",
       "      <td>38467</td>\n",
       "      <td>151582</td>\n",
       "      <td>189993</td>\n",
       "      <td>110196</td>\n",
       "      <td>97472</td>\n",
       "      <td>0</td>\n",
       "      <td>34427</td>\n",
       "      <td>144476</td>\n",
       "      <td>184560</td>\n",
       "      <td>107537</td>\n",
       "      <td>95029</td>\n",
       "      <td>Lubuskie</td>\n",
       "      <td>1003150</td>\n",
       "      <td>56.425161</td>\n",
       "    </tr>\n",
       "    <tr>\n",
       "      <th>Mazowieckie</th>\n",
       "      <td>5425028</td>\n",
       "      <td>3346303</td>\n",
       "      <td>3212123</td>\n",
       "      <td>24235</td>\n",
       "      <td>226071</td>\n",
       "      <td>941707</td>\n",
       "      <td>1072186</td>\n",
       "      <td>533912</td>\n",
       "      <td>548192</td>\n",
       "      <td>14</td>\n",
       "      <td>207574</td>\n",
       "      <td>904040</td>\n",
       "      <td>1043474</td>\n",
       "      <td>521717</td>\n",
       "      <td>535304</td>\n",
       "      <td>Mazowieckie</td>\n",
       "      <td>5419963</td>\n",
       "      <td>59.264667</td>\n",
       "    </tr>\n",
       "    <tr>\n",
       "      <th>Małopolskie</th>\n",
       "      <td>3410441</td>\n",
       "      <td>1846414</td>\n",
       "      <td>1781827</td>\n",
       "      <td>8898</td>\n",
       "      <td>112592</td>\n",
       "      <td>535410</td>\n",
       "      <td>585561</td>\n",
       "      <td>299805</td>\n",
       "      <td>304148</td>\n",
       "      <td>11</td>\n",
       "      <td>103258</td>\n",
       "      <td>515821</td>\n",
       "      <td>571474</td>\n",
       "      <td>293681</td>\n",
       "      <td>297582</td>\n",
       "      <td>Małopolskie</td>\n",
       "      <td>3408505</td>\n",
       "      <td>52.275910</td>\n",
       "    </tr>\n",
       "    <tr>\n",
       "      <th>Opolskie</th>\n",
       "      <td>976774</td>\n",
       "      <td>498832</td>\n",
       "      <td>478498</td>\n",
       "      <td>1811</td>\n",
       "      <td>29416</td>\n",
       "      <td>121641</td>\n",
       "      <td>155647</td>\n",
       "      <td>94179</td>\n",
       "      <td>96138</td>\n",
       "      <td>1</td>\n",
       "      <td>26264</td>\n",
       "      <td>115709</td>\n",
       "      <td>150805</td>\n",
       "      <td>91972</td>\n",
       "      <td>93747</td>\n",
       "      <td>Opolskie</td>\n",
       "      <td>973298</td>\n",
       "      <td>49.162538</td>\n",
       "    </tr>\n",
       "    <tr>\n",
       "      <th>Podkarpackie</th>\n",
       "      <td>2121229</td>\n",
       "      <td>891344</td>\n",
       "      <td>855896</td>\n",
       "      <td>1736</td>\n",
       "      <td>44018</td>\n",
       "      <td>223929</td>\n",
       "      <td>287997</td>\n",
       "      <td>169102</td>\n",
       "      <td>164562</td>\n",
       "      <td>4</td>\n",
       "      <td>39639</td>\n",
       "      <td>212993</td>\n",
       "      <td>278139</td>\n",
       "      <td>164571</td>\n",
       "      <td>160550</td>\n",
       "      <td>Podkarpackie</td>\n",
       "      <td>2115578</td>\n",
       "      <td>40.456840</td>\n",
       "    </tr>\n",
       "    <tr>\n",
       "      <th>Podlaskie</th>\n",
       "      <td>1173286</td>\n",
       "      <td>549717</td>\n",
       "      <td>526552</td>\n",
       "      <td>1476</td>\n",
       "      <td>29772</td>\n",
       "      <td>136155</td>\n",
       "      <td>173715</td>\n",
       "      <td>104280</td>\n",
       "      <td>104319</td>\n",
       "      <td>1</td>\n",
       "      <td>26618</td>\n",
       "      <td>128870</td>\n",
       "      <td>167990</td>\n",
       "      <td>101483</td>\n",
       "      <td>101590</td>\n",
       "      <td>Podlaskie</td>\n",
       "      <td>1169434</td>\n",
       "      <td>45.026226</td>\n",
       "    </tr>\n",
       "    <tr>\n",
       "      <th>Pomorskie</th>\n",
       "      <td>2346671</td>\n",
       "      <td>1380325</td>\n",
       "      <td>1328033</td>\n",
       "      <td>7340</td>\n",
       "      <td>98915</td>\n",
       "      <td>388624</td>\n",
       "      <td>431209</td>\n",
       "      <td>229600</td>\n",
       "      <td>224637</td>\n",
       "      <td>5</td>\n",
       "      <td>90555</td>\n",
       "      <td>373263</td>\n",
       "      <td>419951</td>\n",
       "      <td>224532</td>\n",
       "      <td>219727</td>\n",
       "      <td>Pomorskie</td>\n",
       "      <td>2346065</td>\n",
       "      <td>56.606829</td>\n",
       "    </tr>\n",
       "    <tr>\n",
       "      <th>Warmińsko-Mazurskie</th>\n",
       "      <td>1416495</td>\n",
       "      <td>761269</td>\n",
       "      <td>732031</td>\n",
       "      <td>2429</td>\n",
       "      <td>52777</td>\n",
       "      <td>187334</td>\n",
       "      <td>242909</td>\n",
       "      <td>148112</td>\n",
       "      <td>127708</td>\n",
       "      <td>2</td>\n",
       "      <td>47567</td>\n",
       "      <td>178719</td>\n",
       "      <td>236187</td>\n",
       "      <td>144900</td>\n",
       "      <td>124656</td>\n",
       "      <td>Warmińsko-Mazurskie</td>\n",
       "      <td>1410643</td>\n",
       "      <td>51.893427</td>\n",
       "    </tr>\n",
       "    <tr>\n",
       "      <th>Wielkopolskie</th>\n",
       "      <td>3496450</td>\n",
       "      <td>2110995</td>\n",
       "      <td>2025836</td>\n",
       "      <td>13646</td>\n",
       "      <td>146149</td>\n",
       "      <td>584661</td>\n",
       "      <td>679824</td>\n",
       "      <td>353348</td>\n",
       "      <td>333367</td>\n",
       "      <td>17</td>\n",
       "      <td>132607</td>\n",
       "      <td>559265</td>\n",
       "      <td>661691</td>\n",
       "      <td>346017</td>\n",
       "      <td>326239</td>\n",
       "      <td>Wielkopolskie</td>\n",
       "      <td>3491410</td>\n",
       "      <td>58.023435</td>\n",
       "    </tr>\n",
       "    <tr>\n",
       "      <th>Zachodniopomorskie</th>\n",
       "      <td>1688047</td>\n",
       "      <td>978809</td>\n",
       "      <td>941501</td>\n",
       "      <td>4308</td>\n",
       "      <td>61873</td>\n",
       "      <td>243049</td>\n",
       "      <td>307978</td>\n",
       "      <td>188401</td>\n",
       "      <td>173200</td>\n",
       "      <td>4</td>\n",
       "      <td>56077</td>\n",
       "      <td>232470</td>\n",
       "      <td>299547</td>\n",
       "      <td>184211</td>\n",
       "      <td>169192</td>\n",
       "      <td>Zachodniopomorskie</td>\n",
       "      <td>1682003</td>\n",
       "      <td>55.974989</td>\n",
       "    </tr>\n",
       "    <tr>\n",
       "      <th>Łódzkie</th>\n",
       "      <td>2437970</td>\n",
       "      <td>1404219</td>\n",
       "      <td>1351928</td>\n",
       "      <td>5143</td>\n",
       "      <td>81176</td>\n",
       "      <td>339111</td>\n",
       "      <td>442388</td>\n",
       "      <td>264801</td>\n",
       "      <td>271600</td>\n",
       "      <td>28</td>\n",
       "      <td>73646</td>\n",
       "      <td>324252</td>\n",
       "      <td>429872</td>\n",
       "      <td>258735</td>\n",
       "      <td>265395</td>\n",
       "      <td>Łódzkie</td>\n",
       "      <td>2426806</td>\n",
       "      <td>55.708120</td>\n",
       "    </tr>\n",
       "    <tr>\n",
       "      <th>Śląskie</th>\n",
       "      <td>4492330</td>\n",
       "      <td>2556305</td>\n",
       "      <td>2471203</td>\n",
       "      <td>11320</td>\n",
       "      <td>156222</td>\n",
       "      <td>624707</td>\n",
       "      <td>820559</td>\n",
       "      <td>474236</td>\n",
       "      <td>469261</td>\n",
       "      <td>16</td>\n",
       "      <td>143108</td>\n",
       "      <td>602179</td>\n",
       "      <td>801568</td>\n",
       "      <td>465050</td>\n",
       "      <td>459282</td>\n",
       "      <td>Śląskie</td>\n",
       "      <td>4472703</td>\n",
       "      <td>55.250773</td>\n",
       "    </tr>\n",
       "    <tr>\n",
       "      <th>Świętokrzyskie</th>\n",
       "      <td>1224626</td>\n",
       "      <td>657975</td>\n",
       "      <td>633991</td>\n",
       "      <td>1285</td>\n",
       "      <td>36485</td>\n",
       "      <td>154623</td>\n",
       "      <td>207895</td>\n",
       "      <td>129677</td>\n",
       "      <td>128010</td>\n",
       "      <td>1</td>\n",
       "      <td>33122</td>\n",
       "      <td>147581</td>\n",
       "      <td>201783</td>\n",
       "      <td>126538</td>\n",
       "      <td>124966</td>\n",
       "      <td>Świętokrzyskie</td>\n",
       "      <td>1218089</td>\n",
       "      <td>52.048003</td>\n",
       "    </tr>\n",
       "  </tbody>\n",
       "</table>\n",
       "</div>"
      ],
      "text/plain": [
       "                     liczba_ludnosci  w1_zaszczepieni_pacjenci  \\\n",
       "Dolnośląskie                 2891321                   1682247   \n",
       "Kujawsko-Pomorskie           2061942                   1196427   \n",
       "Lubelskie                    2095258                   1036167   \n",
       "Lubuskie                     1007145                    590051   \n",
       "Mazowieckie                  5425028                   3346303   \n",
       "Małopolskie                  3410441                   1846414   \n",
       "Opolskie                      976774                    498832   \n",
       "Podkarpackie                 2121229                    891344   \n",
       "Podlaskie                    1173286                    549717   \n",
       "Pomorskie                    2346671                   1380325   \n",
       "Warmińsko-Mazurskie          1416495                    761269   \n",
       "Wielkopolskie                3496450                   2110995   \n",
       "Zachodniopomorskie           1688047                    978809   \n",
       "Łódzkie                      2437970                   1404219   \n",
       "Śląskie                      4492330                   2556305   \n",
       "Świętokrzyskie               1224626                    657975   \n",
       "\n",
       "                     w3_zaszczepieni_pelna_dawka  \\\n",
       "Dolnośląskie                             1622024   \n",
       "Kujawsko-Pomorskie                       1153241   \n",
       "Lubelskie                                 995604   \n",
       "Lubuskie                                  566029   \n",
       "Mazowieckie                              3212123   \n",
       "Małopolskie                              1781827   \n",
       "Opolskie                                  478498   \n",
       "Podkarpackie                              855896   \n",
       "Podlaskie                                 526552   \n",
       "Pomorskie                                1328033   \n",
       "Warmińsko-Mazurskie                       732031   \n",
       "Wielkopolskie                            2025836   \n",
       "Zachodniopomorskie                        941501   \n",
       "Łódzkie                                  1351928   \n",
       "Śląskie                                  2471203   \n",
       "Świętokrzyskie                            633991   \n",
       "\n",
       "                     w1_zaszczepieni_w_wieku_0_11  \\\n",
       "Dolnośląskie                                 6823   \n",
       "Kujawsko-Pomorskie                           5952   \n",
       "Lubelskie                                    2335   \n",
       "Lubuskie                                     2341   \n",
       "Mazowieckie                                 24235   \n",
       "Małopolskie                                  8898   \n",
       "Opolskie                                     1811   \n",
       "Podkarpackie                                 1736   \n",
       "Podlaskie                                    1476   \n",
       "Pomorskie                                    7340   \n",
       "Warmińsko-Mazurskie                          2429   \n",
       "Wielkopolskie                               13646   \n",
       "Zachodniopomorskie                           4308   \n",
       "Łódzkie                                      5143   \n",
       "Śląskie                                     11320   \n",
       "Świętokrzyskie                               1285   \n",
       "\n",
       "                     w1_zaszczepieni_w_wieku_12_19  \\\n",
       "Dolnośląskie                                 99570   \n",
       "Kujawsko-Pomorskie                           83507   \n",
       "Lubelskie                                    59301   \n",
       "Lubuskie                                     38467   \n",
       "Mazowieckie                                 226071   \n",
       "Małopolskie                                 112592   \n",
       "Opolskie                                     29416   \n",
       "Podkarpackie                                 44018   \n",
       "Podlaskie                                    29772   \n",
       "Pomorskie                                    98915   \n",
       "Warmińsko-Mazurskie                          52777   \n",
       "Wielkopolskie                               146149   \n",
       "Zachodniopomorskie                           61873   \n",
       "Łódzkie                                      81176   \n",
       "Śląskie                                     156222   \n",
       "Świętokrzyskie                               36485   \n",
       "\n",
       "                     w1_zaszczepieni_w_wieku_20_39  \\\n",
       "Dolnośląskie                                448733   \n",
       "Kujawsko-Pomorskie                          300324   \n",
       "Lubelskie                                   251539   \n",
       "Lubuskie                                    151582   \n",
       "Mazowieckie                                 941707   \n",
       "Małopolskie                                 535410   \n",
       "Opolskie                                    121641   \n",
       "Podkarpackie                                223929   \n",
       "Podlaskie                                   136155   \n",
       "Pomorskie                                   388624   \n",
       "Warmińsko-Mazurskie                         187334   \n",
       "Wielkopolskie                               584661   \n",
       "Zachodniopomorskie                          243049   \n",
       "Łódzkie                                     339111   \n",
       "Śląskie                                     624707   \n",
       "Świętokrzyskie                              154623   \n",
       "\n",
       "                     w1_zaszczepieni_w_wieku_40_59  \\\n",
       "Dolnośląskie                                514878   \n",
       "Kujawsko-Pomorskie                          381805   \n",
       "Lubelskie                                   326691   \n",
       "Lubuskie                                    189993   \n",
       "Mazowieckie                                1072186   \n",
       "Małopolskie                                 585561   \n",
       "Opolskie                                    155647   \n",
       "Podkarpackie                                287997   \n",
       "Podlaskie                                   173715   \n",
       "Pomorskie                                   431209   \n",
       "Warmińsko-Mazurskie                         242909   \n",
       "Wielkopolskie                               679824   \n",
       "Zachodniopomorskie                          307978   \n",
       "Łódzkie                                     442388   \n",
       "Śląskie                                     820559   \n",
       "Świętokrzyskie                              207895   \n",
       "\n",
       "                     w1_zaszczepieni_w_wieku_60_69  \\\n",
       "Dolnośląskie                                310092   \n",
       "Kujawsko-Pomorskie                          218639   \n",
       "Lubelskie                                   198355   \n",
       "Lubuskie                                    110196   \n",
       "Mazowieckie                                 533912   \n",
       "Małopolskie                                 299805   \n",
       "Opolskie                                     94179   \n",
       "Podkarpackie                                169102   \n",
       "Podlaskie                                   104280   \n",
       "Pomorskie                                   229600   \n",
       "Warmińsko-Mazurskie                         148112   \n",
       "Wielkopolskie                               353348   \n",
       "Zachodniopomorskie                          188401   \n",
       "Łódzkie                                     264801   \n",
       "Śląskie                                     474236   \n",
       "Świętokrzyskie                              129677   \n",
       "\n",
       "                     w1_zaszczepieni_w_wieku_70plus  \\\n",
       "Dolnośląskie                                 302151   \n",
       "Kujawsko-Pomorskie                           206200   \n",
       "Lubelskie                                    197946   \n",
       "Lubuskie                                      97472   \n",
       "Mazowieckie                                  548192   \n",
       "Małopolskie                                  304148   \n",
       "Opolskie                                      96138   \n",
       "Podkarpackie                                 164562   \n",
       "Podlaskie                                    104319   \n",
       "Pomorskie                                    224637   \n",
       "Warmińsko-Mazurskie                          127708   \n",
       "Wielkopolskie                                333367   \n",
       "Zachodniopomorskie                           173200   \n",
       "Łódzkie                                      271600   \n",
       "Śląskie                                      469261   \n",
       "Świętokrzyskie                               128010   \n",
       "\n",
       "                     w3_zaszczepieni_pełnš_dawkš_w_wieku_0_11  \\\n",
       "Dolnośląskie                                               19   \n",
       "Kujawsko-Pomorskie                                         21   \n",
       "Lubelskie                                                   4   \n",
       "Lubuskie                                                    0   \n",
       "Mazowieckie                                                14   \n",
       "Małopolskie                                                11   \n",
       "Opolskie                                                    1   \n",
       "Podkarpackie                                                4   \n",
       "Podlaskie                                                   1   \n",
       "Pomorskie                                                   5   \n",
       "Warmińsko-Mazurskie                                         2   \n",
       "Wielkopolskie                                              17   \n",
       "Zachodniopomorskie                                          4   \n",
       "Łódzkie                                                    28   \n",
       "Śląskie                                                    16   \n",
       "Świętokrzyskie                                              1   \n",
       "\n",
       "                     w3_zaszczepieni_pełnš_dawkš_w_wieku_12_19  \\\n",
       "Dolnośląskie                                             90698   \n",
       "Kujawsko-Pomorskie                                       76303   \n",
       "Lubelskie                                                53694   \n",
       "Lubuskie                                                 34427   \n",
       "Mazowieckie                                             207574   \n",
       "Małopolskie                                             103258   \n",
       "Opolskie                                                 26264   \n",
       "Podkarpackie                                             39639   \n",
       "Podlaskie                                                26618   \n",
       "Pomorskie                                                90555   \n",
       "Warmińsko-Mazurskie                                      47567   \n",
       "Wielkopolskie                                           132607   \n",
       "Zachodniopomorskie                                       56077   \n",
       "Łódzkie                                                  73646   \n",
       "Śląskie                                                 143108   \n",
       "Świętokrzyskie                                           33122   \n",
       "\n",
       "                     w3_zaszczepieni_pełnš_dawkš_w_wieku_20_39  \\\n",
       "Dolnośląskie                                            430891   \n",
       "Kujawsko-Pomorskie                                      288136   \n",
       "Lubelskie                                               239168   \n",
       "Lubuskie                                                144476   \n",
       "Mazowieckie                                             904040   \n",
       "Małopolskie                                             515821   \n",
       "Opolskie                                                115709   \n",
       "Podkarpackie                                            212993   \n",
       "Podlaskie                                               128870   \n",
       "Pomorskie                                               373263   \n",
       "Warmińsko-Mazurskie                                     178719   \n",
       "Wielkopolskie                                           559265   \n",
       "Zachodniopomorskie                                      232470   \n",
       "Łódzkie                                                 324252   \n",
       "Śląskie                                                 602179   \n",
       "Świętokrzyskie                                          147581   \n",
       "\n",
       "                     w3_zaszczepieni_pełnš_dawkš_w_wieku_40_59  \\\n",
       "Dolnośląskie                                            501181   \n",
       "Kujawsko-Pomorskie                                      372565   \n",
       "Lubelskie                                               316487   \n",
       "Lubuskie                                                184560   \n",
       "Mazowieckie                                            1043474   \n",
       "Małopolskie                                             571474   \n",
       "Opolskie                                                150805   \n",
       "Podkarpackie                                            278139   \n",
       "Podlaskie                                               167990   \n",
       "Pomorskie                                               419951   \n",
       "Warmińsko-Mazurskie                                     236187   \n",
       "Wielkopolskie                                           661691   \n",
       "Zachodniopomorskie                                      299547   \n",
       "Łódzkie                                                 429872   \n",
       "Śląskie                                                 801568   \n",
       "Świętokrzyskie                                          201783   \n",
       "\n",
       "                     w3_zaszczepieni_pełnš_dawkš_w_wieku_60_69  \\\n",
       "Dolnośląskie                                            303541   \n",
       "Kujawsko-Pomorskie                                      214293   \n",
       "Lubelskie                                               193468   \n",
       "Lubuskie                                                107537   \n",
       "Mazowieckie                                             521717   \n",
       "Małopolskie                                             293681   \n",
       "Opolskie                                                 91972   \n",
       "Podkarpackie                                            164571   \n",
       "Podlaskie                                               101483   \n",
       "Pomorskie                                               224532   \n",
       "Warmińsko-Mazurskie                                     144900   \n",
       "Wielkopolskie                                           346017   \n",
       "Zachodniopomorskie                                      184211   \n",
       "Łódzkie                                                 258735   \n",
       "Śląskie                                                 465050   \n",
       "Świętokrzyskie                                          126538   \n",
       "\n",
       "                     w3_zaszczepieni_pełnš_dawkš_w_wieku_70plus  \\\n",
       "Dolnośląskie                                             295694   \n",
       "Kujawsko-Pomorskie                                       201923   \n",
       "Lubelskie                                                192783   \n",
       "Lubuskie                                                  95029   \n",
       "Mazowieckie                                              535304   \n",
       "Małopolskie                                              297582   \n",
       "Opolskie                                                  93747   \n",
       "Podkarpackie                                             160550   \n",
       "Podlaskie                                                101590   \n",
       "Pomorskie                                                219727   \n",
       "Warmińsko-Mazurskie                                      124656   \n",
       "Wielkopolskie                                            326239   \n",
       "Zachodniopomorskie                                       169192   \n",
       "Łódzkie                                                  265395   \n",
       "Śląskie                                                  459282   \n",
       "Świętokrzyskie                                           124966   \n",
       "\n",
       "                             Województwo  mieszkańców w województwie  \\\n",
       "Dolnośląskie                Dolnośląskie                     2884011   \n",
       "Kujawsko-Pomorskie    Kujawsko-Pomorskie                     2054163   \n",
       "Lubelskie                      Lubelskie                     2086403   \n",
       "Lubuskie                        Lubuskie                     1003150   \n",
       "Mazowieckie                  Mazowieckie                     5419963   \n",
       "Małopolskie                  Małopolskie                     3408505   \n",
       "Opolskie                        Opolskie                      973298   \n",
       "Podkarpackie                Podkarpackie                     2115578   \n",
       "Podlaskie                      Podlaskie                     1169434   \n",
       "Pomorskie                      Pomorskie                     2346065   \n",
       "Warmińsko-Mazurskie  Warmińsko-Mazurskie                     1410643   \n",
       "Wielkopolskie              Wielkopolskie                     3491410   \n",
       "Zachodniopomorskie    Zachodniopomorskie                     1682003   \n",
       "Łódzkie                          Łódzkie                     2426806   \n",
       "Śląskie                          Śląskie                     4472703   \n",
       "Świętokrzyskie            Świętokrzyskie                     1218089   \n",
       "\n",
       "                     Wyszczepienie [%]  \n",
       "Dolnośląskie                 56.241949  \n",
       "Kujawsko-Pomorskie           56.141650  \n",
       "Lubelskie                    47.718681  \n",
       "Lubuskie                     56.425161  \n",
       "Mazowieckie                  59.264667  \n",
       "Małopolskie                  52.275910  \n",
       "Opolskie                     49.162538  \n",
       "Podkarpackie                 40.456840  \n",
       "Podlaskie                    45.026226  \n",
       "Pomorskie                    56.606829  \n",
       "Warmińsko-Mazurskie          51.893427  \n",
       "Wielkopolskie                58.023435  \n",
       "Zachodniopomorskie           55.974989  \n",
       "Łódzkie                      55.708120  \n",
       "Śląskie                      55.250773  \n",
       "Świętokrzyskie               52.048003  "
      ]
     },
     "execution_count": 19,
     "metadata": {},
     "output_type": "execute_result"
    }
   ],
   "source": [
    "dfv = cezvac.dfv.groupby('Województwo').sum().drop(columns=['wojewodztwo_teryt', 'powiat_teryt', 'gmina_teryt'])\n",
    "\n",
    "dfv['Województwo']=dfv.index\n",
    "dfv = pd.concat([dfv,pop_woj_df], axis=1)\n",
    "dfv['Wyszczepienie [%]'] = 100.*dfv['w3_zaszczepieni_pelna_dawka'] / dfv['mieszkańców w województwie']\n",
    "\n",
    "dfv"
   ]
  },
  {
   "cell_type": "code",
   "execution_count": 20,
   "metadata": {},
   "outputs": [],
   "source": [
    "# display_all_rows(cezvac.dfv)"
   ]
  },
  {
   "cell_type": "code",
   "execution_count": 21,
   "metadata": {},
   "outputs": [],
   "source": [
    "# pop_woj_df"
   ]
  },
  {
   "cell_type": "markdown",
   "metadata": {},
   "source": [
    "Nie mogę przyjąć, że liczba ludności w województwie jest sumą ludności poszczególnych gmin w dfv, bo wychodzi za duża ludność Polski w sumie. Zamiast tego używam pop_woj_df z danymi z GUS."
   ]
  },
  {
   "cell_type": "markdown",
   "metadata": {},
   "source": [
    "Test:"
   ]
  },
  {
   "cell_type": "code",
   "execution_count": 22,
   "metadata": {},
   "outputs": [
    {
     "data": {
      "text/plain": [
       "38265013"
      ]
     },
     "execution_count": 22,
     "metadata": {},
     "output_type": "execute_result"
    }
   ],
   "source": [
    "dfv['liczba_ludnosci'].sum()"
   ]
  },
  {
   "cell_type": "code",
   "execution_count": 23,
   "metadata": {},
   "outputs": [
    {
     "data": {
      "text/plain": [
       "mieszkańców w województwie    38162224\n",
       "dtype: int64"
      ]
     },
     "execution_count": 23,
     "metadata": {},
     "output_type": "execute_result"
    }
   ],
   "source": [
    "pop_woj_df.sum()"
   ]
  },
  {
   "cell_type": "code",
   "execution_count": 24,
   "metadata": {},
   "outputs": [
    {
     "data": {
      "text/plain": [
       "{'Dolnośląskie': 56.241949146518515,\n",
       " 'Kujawsko-Pomorskie': 56.14164990801606,\n",
       " 'Lubelskie': 47.71868138609847,\n",
       " 'Lubuskie': 56.42516074365748,\n",
       " 'Mazowieckie': 59.26466656691199,\n",
       " 'Małopolskie': 52.27590981970101,\n",
       " 'Opolskie': 49.162538092136224,\n",
       " 'Podkarpackie': 40.45683969109151,\n",
       " 'Podlaskie': 45.02622636249673,\n",
       " 'Pomorskie': 56.60682888155273,\n",
       " 'Warmińsko-Mazurskie': 51.89342732356805,\n",
       " 'Wielkopolskie': 58.02343465820399,\n",
       " 'Zachodniopomorskie': 55.974989343063,\n",
       " 'Łódzkie': 55.708120055744054,\n",
       " 'Śląskie': 55.25077341375003,\n",
       " 'Świętokrzyskie': 52.0480030605317}"
      ]
     },
     "execution_count": 24,
     "metadata": {},
     "output_type": "execute_result"
    }
   ],
   "source": [
    "dfv[ 'Wyszczepienie [%]'].to_dict()"
   ]
  },
  {
   "cell_type": "code",
   "execution_count": 25,
   "metadata": {},
   "outputs": [
    {
     "data": {
      "application/vnd.plotly.v1+json": {
       "config": {
        "plotlyServerURL": "https://plot.ly"
       },
       "data": [
        {
         "name": "Zgony nie w pełni zaszczepionych na 100 tys. mieszkańców",
         "offsetgroup": "1",
         "text": [
          71.79820964597923,
          58.31881063830879,
          36.82208833708802,
          32.56967547452065,
          28.556052688183566,
          28.076766147629606,
          26.217891155345523,
          25.94561487208316,
          25.557854951140683,
          23.441362122103385,
          21.343600457311908,
          18.646442654475383,
          17.94347804416089,
          15.724306225851448,
          15.533921333864539,
          14.321853827579373
         ],
         "textposition": "outside",
         "texttemplate": "%{text:2.1f}",
         "type": "bar",
         "x": [
          "Lubelskie",
          "Podlaskie",
          "Podkarpackie",
          "Opolskie",
          "Łódzkie",
          "Świętokrzyskie",
          "Mazowieckie",
          "Warmińsko-Mazurskie",
          "Kujawsko-Pomorskie",
          "Małopolskie",
          "Zachodniopomorskie",
          "Śląskie",
          "Lubuskie",
          "Wielkopolskie",
          "Dolnośląskie",
          "Pomorskie"
         ],
         "y": [
          71.79820964597923,
          58.31881063830879,
          36.82208833708802,
          32.56967547452065,
          28.556052688183566,
          28.076766147629606,
          26.217891155345523,
          25.94561487208316,
          25.557854951140683,
          23.441362122103385,
          21.343600457311908,
          18.646442654475383,
          17.94347804416089,
          15.724306225851448,
          15.533921333864539,
          14.321853827579373
         ],
         "yaxis": "y"
        },
        {
         "name": "Zgony w pełni zaszczepionych na 100 tys. mieszkańców",
         "offsetgroup": "2",
         "text": [
          20.274127289885993,
          16.247175984279576,
          7.752018597281689,
          12.123727779159106,
          8.983000701333356,
          9.769401086455916,
          10.535127269318997,
          11.200565983030433,
          11.780954091763897,
          9.446956950334531,
          9.571921096454643,
          8.898422273958277,
          6.978019239395903,
          6.902655374189797,
          5.651850842455178,
          7.629797128383059
         ],
         "textposition": "outside",
         "texttemplate": "%{text:2.1f}",
         "type": "bar",
         "x": [
          "Lubelskie",
          "Podlaskie",
          "Podkarpackie",
          "Opolskie",
          "Łódzkie",
          "Świętokrzyskie",
          "Mazowieckie",
          "Warmińsko-Mazurskie",
          "Kujawsko-Pomorskie",
          "Małopolskie",
          "Zachodniopomorskie",
          "Śląskie",
          "Lubuskie",
          "Wielkopolskie",
          "Dolnośląskie",
          "Pomorskie"
         ],
         "y": [
          20.274127289885993,
          16.247175984279576,
          7.752018597281689,
          12.123727779159106,
          8.983000701333356,
          9.769401086455916,
          10.535127269318997,
          11.200565983030433,
          11.780954091763897,
          9.446956950334531,
          9.571921096454643,
          8.898422273958277,
          6.978019239395903,
          6.902655374189797,
          5.651850842455178,
          7.629797128383059
         ],
         "yaxis": "y"
        },
        {
         "name": "Wyszczepienie [%]",
         "offsetgroup": "3",
         "text": [
          47.71868138609847,
          45.02622636249673,
          40.45683969109151,
          49.162538092136224,
          55.708120055744054,
          52.0480030605317,
          59.26466656691199,
          51.89342732356805,
          56.14164990801606,
          52.27590981970101,
          55.974989343063,
          55.25077341375003,
          56.42516074365748,
          58.02343465820399,
          56.241949146518515,
          56.60682888155273
         ],
         "textposition": "outside",
         "texttemplate": "%{text:2.1f}",
         "type": "bar",
         "x": [
          "Lubelskie",
          "Podlaskie",
          "Podkarpackie",
          "Opolskie",
          "Łódzkie",
          "Świętokrzyskie",
          "Mazowieckie",
          "Warmińsko-Mazurskie",
          "Kujawsko-Pomorskie",
          "Małopolskie",
          "Zachodniopomorskie",
          "Śląskie",
          "Lubuskie",
          "Wielkopolskie",
          "Dolnośląskie",
          "Pomorskie"
         ],
         "y": [
          47.71868138609847,
          45.02622636249673,
          40.45683969109151,
          49.162538092136224,
          55.708120055744054,
          52.0480030605317,
          59.26466656691199,
          51.89342732356805,
          56.14164990801606,
          52.27590981970101,
          55.974989343063,
          55.25077341375003,
          56.42516074365748,
          58.02343465820399,
          56.241949146518515,
          56.60682888155273
         ],
         "yaxis": "y2"
        }
       ],
       "layout": {
        "barmode": "group",
        "height": 600,
        "legend": {
         "title": {
          "text": ""
         },
         "x": 0.5,
         "xanchor": "center",
         "y": -0.5
        },
        "template": {
         "data": {
          "bar": [
           {
            "error_x": {
             "color": "#2a3f5f"
            },
            "error_y": {
             "color": "#2a3f5f"
            },
            "marker": {
             "line": {
              "color": "#E5ECF6",
              "width": 0.5
             }
            },
            "type": "bar"
           }
          ],
          "barpolar": [
           {
            "marker": {
             "line": {
              "color": "#E5ECF6",
              "width": 0.5
             }
            },
            "type": "barpolar"
           }
          ],
          "carpet": [
           {
            "aaxis": {
             "endlinecolor": "#2a3f5f",
             "gridcolor": "white",
             "linecolor": "white",
             "minorgridcolor": "white",
             "startlinecolor": "#2a3f5f"
            },
            "baxis": {
             "endlinecolor": "#2a3f5f",
             "gridcolor": "white",
             "linecolor": "white",
             "minorgridcolor": "white",
             "startlinecolor": "#2a3f5f"
            },
            "type": "carpet"
           }
          ],
          "choropleth": [
           {
            "colorbar": {
             "outlinewidth": 0,
             "ticks": ""
            },
            "type": "choropleth"
           }
          ],
          "contour": [
           {
            "colorbar": {
             "outlinewidth": 0,
             "ticks": ""
            },
            "colorscale": [
             [
              0,
              "#0d0887"
             ],
             [
              0.1111111111111111,
              "#46039f"
             ],
             [
              0.2222222222222222,
              "#7201a8"
             ],
             [
              0.3333333333333333,
              "#9c179e"
             ],
             [
              0.4444444444444444,
              "#bd3786"
             ],
             [
              0.5555555555555556,
              "#d8576b"
             ],
             [
              0.6666666666666666,
              "#ed7953"
             ],
             [
              0.7777777777777778,
              "#fb9f3a"
             ],
             [
              0.8888888888888888,
              "#fdca26"
             ],
             [
              1,
              "#f0f921"
             ]
            ],
            "type": "contour"
           }
          ],
          "contourcarpet": [
           {
            "colorbar": {
             "outlinewidth": 0,
             "ticks": ""
            },
            "type": "contourcarpet"
           }
          ],
          "heatmap": [
           {
            "colorbar": {
             "outlinewidth": 0,
             "ticks": ""
            },
            "colorscale": [
             [
              0,
              "#0d0887"
             ],
             [
              0.1111111111111111,
              "#46039f"
             ],
             [
              0.2222222222222222,
              "#7201a8"
             ],
             [
              0.3333333333333333,
              "#9c179e"
             ],
             [
              0.4444444444444444,
              "#bd3786"
             ],
             [
              0.5555555555555556,
              "#d8576b"
             ],
             [
              0.6666666666666666,
              "#ed7953"
             ],
             [
              0.7777777777777778,
              "#fb9f3a"
             ],
             [
              0.8888888888888888,
              "#fdca26"
             ],
             [
              1,
              "#f0f921"
             ]
            ],
            "type": "heatmap"
           }
          ],
          "heatmapgl": [
           {
            "colorbar": {
             "outlinewidth": 0,
             "ticks": ""
            },
            "colorscale": [
             [
              0,
              "#0d0887"
             ],
             [
              0.1111111111111111,
              "#46039f"
             ],
             [
              0.2222222222222222,
              "#7201a8"
             ],
             [
              0.3333333333333333,
              "#9c179e"
             ],
             [
              0.4444444444444444,
              "#bd3786"
             ],
             [
              0.5555555555555556,
              "#d8576b"
             ],
             [
              0.6666666666666666,
              "#ed7953"
             ],
             [
              0.7777777777777778,
              "#fb9f3a"
             ],
             [
              0.8888888888888888,
              "#fdca26"
             ],
             [
              1,
              "#f0f921"
             ]
            ],
            "type": "heatmapgl"
           }
          ],
          "histogram": [
           {
            "marker": {
             "colorbar": {
              "outlinewidth": 0,
              "ticks": ""
             }
            },
            "type": "histogram"
           }
          ],
          "histogram2d": [
           {
            "colorbar": {
             "outlinewidth": 0,
             "ticks": ""
            },
            "colorscale": [
             [
              0,
              "#0d0887"
             ],
             [
              0.1111111111111111,
              "#46039f"
             ],
             [
              0.2222222222222222,
              "#7201a8"
             ],
             [
              0.3333333333333333,
              "#9c179e"
             ],
             [
              0.4444444444444444,
              "#bd3786"
             ],
             [
              0.5555555555555556,
              "#d8576b"
             ],
             [
              0.6666666666666666,
              "#ed7953"
             ],
             [
              0.7777777777777778,
              "#fb9f3a"
             ],
             [
              0.8888888888888888,
              "#fdca26"
             ],
             [
              1,
              "#f0f921"
             ]
            ],
            "type": "histogram2d"
           }
          ],
          "histogram2dcontour": [
           {
            "colorbar": {
             "outlinewidth": 0,
             "ticks": ""
            },
            "colorscale": [
             [
              0,
              "#0d0887"
             ],
             [
              0.1111111111111111,
              "#46039f"
             ],
             [
              0.2222222222222222,
              "#7201a8"
             ],
             [
              0.3333333333333333,
              "#9c179e"
             ],
             [
              0.4444444444444444,
              "#bd3786"
             ],
             [
              0.5555555555555556,
              "#d8576b"
             ],
             [
              0.6666666666666666,
              "#ed7953"
             ],
             [
              0.7777777777777778,
              "#fb9f3a"
             ],
             [
              0.8888888888888888,
              "#fdca26"
             ],
             [
              1,
              "#f0f921"
             ]
            ],
            "type": "histogram2dcontour"
           }
          ],
          "mesh3d": [
           {
            "colorbar": {
             "outlinewidth": 0,
             "ticks": ""
            },
            "type": "mesh3d"
           }
          ],
          "parcoords": [
           {
            "line": {
             "colorbar": {
              "outlinewidth": 0,
              "ticks": ""
             }
            },
            "type": "parcoords"
           }
          ],
          "pie": [
           {
            "automargin": true,
            "type": "pie"
           }
          ],
          "scatter": [
           {
            "marker": {
             "colorbar": {
              "outlinewidth": 0,
              "ticks": ""
             }
            },
            "type": "scatter"
           }
          ],
          "scatter3d": [
           {
            "line": {
             "colorbar": {
              "outlinewidth": 0,
              "ticks": ""
             }
            },
            "marker": {
             "colorbar": {
              "outlinewidth": 0,
              "ticks": ""
             }
            },
            "type": "scatter3d"
           }
          ],
          "scattercarpet": [
           {
            "marker": {
             "colorbar": {
              "outlinewidth": 0,
              "ticks": ""
             }
            },
            "type": "scattercarpet"
           }
          ],
          "scattergeo": [
           {
            "marker": {
             "colorbar": {
              "outlinewidth": 0,
              "ticks": ""
             }
            },
            "type": "scattergeo"
           }
          ],
          "scattergl": [
           {
            "marker": {
             "colorbar": {
              "outlinewidth": 0,
              "ticks": ""
             }
            },
            "type": "scattergl"
           }
          ],
          "scattermapbox": [
           {
            "marker": {
             "colorbar": {
              "outlinewidth": 0,
              "ticks": ""
             }
            },
            "type": "scattermapbox"
           }
          ],
          "scatterpolar": [
           {
            "marker": {
             "colorbar": {
              "outlinewidth": 0,
              "ticks": ""
             }
            },
            "type": "scatterpolar"
           }
          ],
          "scatterpolargl": [
           {
            "marker": {
             "colorbar": {
              "outlinewidth": 0,
              "ticks": ""
             }
            },
            "type": "scatterpolargl"
           }
          ],
          "scatterternary": [
           {
            "marker": {
             "colorbar": {
              "outlinewidth": 0,
              "ticks": ""
             }
            },
            "type": "scatterternary"
           }
          ],
          "surface": [
           {
            "colorbar": {
             "outlinewidth": 0,
             "ticks": ""
            },
            "colorscale": [
             [
              0,
              "#0d0887"
             ],
             [
              0.1111111111111111,
              "#46039f"
             ],
             [
              0.2222222222222222,
              "#7201a8"
             ],
             [
              0.3333333333333333,
              "#9c179e"
             ],
             [
              0.4444444444444444,
              "#bd3786"
             ],
             [
              0.5555555555555556,
              "#d8576b"
             ],
             [
              0.6666666666666666,
              "#ed7953"
             ],
             [
              0.7777777777777778,
              "#fb9f3a"
             ],
             [
              0.8888888888888888,
              "#fdca26"
             ],
             [
              1,
              "#f0f921"
             ]
            ],
            "type": "surface"
           }
          ],
          "table": [
           {
            "cells": {
             "fill": {
              "color": "#EBF0F8"
             },
             "line": {
              "color": "white"
             }
            },
            "header": {
             "fill": {
              "color": "#C8D4E3"
             },
             "line": {
              "color": "white"
             }
            },
            "type": "table"
           }
          ]
         },
         "layout": {
          "annotationdefaults": {
           "arrowcolor": "#2a3f5f",
           "arrowhead": 0,
           "arrowwidth": 1
          },
          "coloraxis": {
           "colorbar": {
            "outlinewidth": 0,
            "ticks": ""
           }
          },
          "colorscale": {
           "diverging": [
            [
             0,
             "#8e0152"
            ],
            [
             0.1,
             "#c51b7d"
            ],
            [
             0.2,
             "#de77ae"
            ],
            [
             0.3,
             "#f1b6da"
            ],
            [
             0.4,
             "#fde0ef"
            ],
            [
             0.5,
             "#f7f7f7"
            ],
            [
             0.6,
             "#e6f5d0"
            ],
            [
             0.7,
             "#b8e186"
            ],
            [
             0.8,
             "#7fbc41"
            ],
            [
             0.9,
             "#4d9221"
            ],
            [
             1,
             "#276419"
            ]
           ],
           "sequential": [
            [
             0,
             "#0d0887"
            ],
            [
             0.1111111111111111,
             "#46039f"
            ],
            [
             0.2222222222222222,
             "#7201a8"
            ],
            [
             0.3333333333333333,
             "#9c179e"
            ],
            [
             0.4444444444444444,
             "#bd3786"
            ],
            [
             0.5555555555555556,
             "#d8576b"
            ],
            [
             0.6666666666666666,
             "#ed7953"
            ],
            [
             0.7777777777777778,
             "#fb9f3a"
            ],
            [
             0.8888888888888888,
             "#fdca26"
            ],
            [
             1,
             "#f0f921"
            ]
           ],
           "sequentialminus": [
            [
             0,
             "#0d0887"
            ],
            [
             0.1111111111111111,
             "#46039f"
            ],
            [
             0.2222222222222222,
             "#7201a8"
            ],
            [
             0.3333333333333333,
             "#9c179e"
            ],
            [
             0.4444444444444444,
             "#bd3786"
            ],
            [
             0.5555555555555556,
             "#d8576b"
            ],
            [
             0.6666666666666666,
             "#ed7953"
            ],
            [
             0.7777777777777778,
             "#fb9f3a"
            ],
            [
             0.8888888888888888,
             "#fdca26"
            ],
            [
             1,
             "#f0f921"
            ]
           ]
          },
          "colorway": [
           "#636efa",
           "#EF553B",
           "#00cc96",
           "#ab63fa",
           "#FFA15A",
           "#19d3f3",
           "#FF6692",
           "#B6E880",
           "#FF97FF",
           "#FECB52"
          ],
          "font": {
           "color": "#2a3f5f"
          },
          "geo": {
           "bgcolor": "white",
           "lakecolor": "white",
           "landcolor": "#E5ECF6",
           "showlakes": true,
           "showland": true,
           "subunitcolor": "white"
          },
          "hoverlabel": {
           "align": "left"
          },
          "hovermode": "closest",
          "mapbox": {
           "style": "light"
          },
          "paper_bgcolor": "white",
          "plot_bgcolor": "#E5ECF6",
          "polar": {
           "angularaxis": {
            "gridcolor": "white",
            "linecolor": "white",
            "ticks": ""
           },
           "bgcolor": "#E5ECF6",
           "radialaxis": {
            "gridcolor": "white",
            "linecolor": "white",
            "ticks": ""
           }
          },
          "scene": {
           "xaxis": {
            "backgroundcolor": "#E5ECF6",
            "gridcolor": "white",
            "gridwidth": 2,
            "linecolor": "white",
            "showbackground": true,
            "ticks": "",
            "zerolinecolor": "white"
           },
           "yaxis": {
            "backgroundcolor": "#E5ECF6",
            "gridcolor": "white",
            "gridwidth": 2,
            "linecolor": "white",
            "showbackground": true,
            "ticks": "",
            "zerolinecolor": "white"
           },
           "zaxis": {
            "backgroundcolor": "#E5ECF6",
            "gridcolor": "white",
            "gridwidth": 2,
            "linecolor": "white",
            "showbackground": true,
            "ticks": "",
            "zerolinecolor": "white"
           }
          },
          "shapedefaults": {
           "line": {
            "color": "#2a3f5f"
           }
          },
          "ternary": {
           "aaxis": {
            "gridcolor": "white",
            "linecolor": "white",
            "ticks": ""
           },
           "baxis": {
            "gridcolor": "white",
            "linecolor": "white",
            "ticks": ""
           },
           "bgcolor": "#E5ECF6",
           "caxis": {
            "gridcolor": "white",
            "linecolor": "white",
            "ticks": ""
           }
          },
          "title": {
           "x": 0.05
          },
          "xaxis": {
           "automargin": true,
           "gridcolor": "white",
           "linecolor": "white",
           "ticks": "",
           "title": {
            "standoff": 15
           },
           "zerolinecolor": "white",
           "zerolinewidth": 2
          },
          "yaxis": {
           "automargin": true,
           "gridcolor": "white",
           "linecolor": "white",
           "ticks": "",
           "title": {
            "standoff": 15
           },
           "zerolinecolor": "white",
           "zerolinewidth": 2
          }
         }
        },
        "title": {
         "font": {
          "size": 16
         },
         "text": "Liczba zgonów na COVID-19 w województwach na 100 tys. mieszkańców<br>        w podziale na w pełni zaszczepionych i nie w pełni zaszczepionych<br>(Od 2021-07-14)        oraz procent wyszczepienia województwa",
         "x": 0.5,
         "xanchor": "center"
        },
        "uniformtext": {
         "minsize": 6,
         "mode": "show"
        },
        "width": 800,
        "xaxis": {
         "tickangle": 33
        },
        "yaxis": {
         "range": [
          0,
          80
         ],
         "title": {
          "text": "Liczba zgonów na 100 tys."
         }
        },
        "yaxis2": {
         "overlaying": "y",
         "range": [
          0,
          80
         ],
         "side": "right",
         "title": {
          "text": "Wyszczepienie [%]"
         }
        }
       }
      }
     },
     "metadata": {},
     "output_type": "display_data"
    }
   ],
   "source": [
    "from_date = datetime.date(2021,7,14)\n",
    "\n",
    "df = prepare_df(basiw.dfd, from_date)\n",
    "df['Wyszczepienie [%]'] = df['Województwo'].replace(dfv[ 'Wyszczepienie [%]'].to_dict())\n",
    "# display(df)\n",
    "plot_df4(from_date, df, basiw.image_dir)"
   ]
  },
  {
   "cell_type": "code",
   "execution_count": 26,
   "metadata": {},
   "outputs": [],
   "source": [
    "# https://stackoverflow.com/questions/46027653/adding-labels-in-x-y-scatter-plot-with-seaborn\n",
    "\n",
    "import seaborn as sns\n",
    "import matplotlib.pyplot as plt\n",
    "\n",
    "def scatter_text(x, y, text_column, data, title, xlabel, ylabel):\n",
    "    \"\"\"Scatter plot with country codes on the x y coordinates\n",
    "       Based on this answer: https://stackoverflow.com/a/54789170/2641825\"\"\"\n",
    "    # Create the scatter plot\n",
    "    p1 = sns.scatterplot(x, y, data=data, size = 8, legend=False)\n",
    "    # Add text besides each point\n",
    "    for line in range(0,data.shape[0]):\n",
    "         p1.text(data[x][line]+0.2, data[y][line]+0.2*(-((line+1)%2 -1)), \n",
    "                 data[text_column][line], horizontalalignment='left', \n",
    "                 fontsize=7, color='black')\n",
    "    # Set title and axis labels\n",
    "    plt.title(title)\n",
    "    plt.xlabel(xlabel)\n",
    "    plt.ylabel(ylabel)\n",
    "    return p1"
   ]
  },
  {
   "cell_type": "code",
   "execution_count": 27,
   "metadata": {},
   "outputs": [
    {
     "name": "stderr",
     "output_type": "stream",
     "text": [
      "/home/ochab/anaconda2/envs/python3.6/lib/python3.6/site-packages/seaborn/_decorators.py:43: FutureWarning:\n",
      "\n",
      "Pass the following variables as keyword args: x, y. From version 0.12, the only valid positional argument will be `data`, and passing other arguments without an explicit keyword will result in an error or misinterpretation.\n",
      "\n"
     ]
    },
    {
     "data": {
      "text/plain": [
       "<AxesSubplot:xlabel='Wyszczepienie [%]', ylabel='Zgony nie w pełni zaszczepionych na 100 tys. mieszkańców'>"
      ]
     },
     "execution_count": 27,
     "metadata": {},
     "output_type": "execute_result"
    },
    {
     "data": {
      "image/png": "[encoded data removed]",
      "image/svg+xml": "<?xml version=\"1.0\" encoding=\"utf-8\" standalone=\"no\"?>\n<!DOCTYPE svg PUBLIC \"-//W3C//DTD SVG 1.1//EN\"\n  \"http://www.w3.org/Graphics/SVG/1.1/DTD/svg11.dtd\">\n<!-- Created with matplotlib (https://matplotlib.org/) -->\n<svg height=\"425.27625pt\" version=\"1.1\" viewBox=\"0 0 469.276133 425.27625\" width=\"469.276133pt\" xmlns=\"http://www.w3.org/2000/svg\" xmlns:xlink=\"http://www.w3.org/1999/xlink\">\n <metadata>\n  <rdf:RDF xmlns:cc=\"http://creativecommons.org/ns#\" xmlns:dc=\"http://purl.org/dc/elements/1.1/\" xmlns:rdf=\"http://www.w3.org/1999/02/22-rdf-syntax-ns#\">\n   <cc:Work>\n    <dc:type rdf:resource=\"http://purl.org/dc/dcmitype/StillImage\"/>\n    <dc:date>2021-12-22T21:50:15.329381</dc:date>\n    <dc:format>image/svg+xml</dc:format>\n    <dc:creator>\n     <cc:Agent>\n      <dc:title>Matplotlib v3.3.4, https://matplotlib.org/</dc:title>\n     </cc:Agent>\n    </dc:creator>\n   </cc:Work>\n  </rdf:RDF>\n </metadata>\n <defs>\n  <style type=\"text/css\">*{stroke-linecap:butt;stroke-linejoin:round;}</style>\n </defs>\n <g id=\"figure_1\">\n  <g id=\"patch_1\">\n   <path d=\"M 0 425.27625 \nL 469.276133 425.27625 \nL 469.276133 0 \nL 0 0 \nz\n\" style=\"fill:none;\"/>\n  </g>\n  <g id=\"axes_1\">\n   <g id=\"patch_2\">\n    <path d=\"M 41.0375 387.72 \nL 431.6375 387.72 \nL 431.6375 7.2 \nL 41.0375 7.2 \nz\n\" style=\"fill:#ffffff;\"/>\n   </g>\n   <g id=\"PathCollection_1\">\n    <path clip-path=\"url(#pba7591df0d)\" d=\"M 195.895284 26.617684 \nC 196.457864 26.617684 196.997479 26.394168 197.395284 25.996364 \nC 197.793088 25.598559 198.016604 25.058944 198.016604 24.496364 \nC 198.016604 23.933783 197.793088 23.394168 197.395284 22.996364 \nC 196.997479 22.598559 196.457864 22.375043 195.895284 22.375043 \nC 195.332703 22.375043 194.793088 22.598559 194.395284 22.996364 \nC 193.997479 23.394168 193.773963 23.933783 193.773963 24.496364 \nC 193.773963 25.058944 193.997479 25.598559 194.395284 25.996364 \nC 194.793088 26.394168 195.332703 26.617684 195.895284 26.617684 \nz\n\" style=\"fill:#1f77b4;stroke:#ffffff;stroke-width:0.339411;\"/>\n    <path clip-path=\"url(#pba7591df0d)\" d=\"M 145.061856 107.744813 \nC 145.624437 107.744813 146.164052 107.521297 146.561856 107.123493 \nC 146.959661 106.725688 147.183177 106.186073 147.183177 105.623493 \nC 147.183177 105.060912 146.959661 104.521297 146.561856 104.123493 \nC 146.164052 103.725688 145.624437 103.502172 145.061856 103.502172 \nC 144.499276 103.502172 143.959661 103.725688 143.561856 104.123493 \nC 143.164052 104.521297 142.940536 105.060912 142.940536 105.623493 \nC 142.940536 106.186073 143.164052 106.725688 143.561856 107.123493 \nC 143.959661 107.521297 144.499276 107.744813 145.061856 107.744813 \nz\n\" style=\"fill:#1f77b4;stroke:#ffffff;stroke-width:0.339411;\"/>\n    <path clip-path=\"url(#pba7591df0d)\" d=\"M 58.792045 237.125015 \nC 59.354626 237.125015 59.894241 236.901499 60.292045 236.503695 \nC 60.68985 236.10589 60.913366 235.566275 60.913366 235.003695 \nC 60.913366 234.441114 60.68985 233.901499 60.292045 233.503695 \nC 59.894241 233.10589 59.354626 232.882374 58.792045 232.882374 \nC 58.229465 232.882374 57.68985 233.10589 57.292045 233.503695 \nC 56.894241 233.901499 56.670725 234.441114 56.670725 235.003695 \nC 56.670725 235.566275 56.894241 236.10589 57.292045 236.503695 \nC 57.68985 236.901499 58.229465 237.125015 58.792045 237.125015 \nz\n\" style=\"fill:#1f77b4;stroke:#ffffff;stroke-width:0.339411;\"/>\n    <path clip-path=\"url(#pba7591df0d)\" d=\"M 223.155232 262.718593 \nC 223.717813 262.718593 224.257427 262.495077 224.655232 262.097272 \nC 225.053037 261.699468 225.276552 261.159853 225.276552 260.597272 \nC 225.276552 260.034692 225.053037 259.495077 224.655232 259.097272 \nC 224.257427 258.699468 223.717813 258.475952 223.155232 258.475952 \nC 222.592651 258.475952 222.053037 258.699468 221.655232 259.097272 \nC 221.257427 259.495077 221.033912 260.034692 221.033912 260.597272 \nC 221.033912 261.159853 221.257427 261.699468 221.655232 262.097272 \nC 222.053037 262.495077 222.592651 262.718593 223.155232 262.718593 \nz\n\" style=\"fill:#1f77b4;stroke:#ffffff;stroke-width:0.339411;\"/>\n    <path clip-path=\"url(#pba7591df0d)\" d=\"M 346.735519 286.874988 \nC 347.2981 286.874988 347.837715 286.651473 348.235519 286.253668 \nC 348.633324 285.855863 348.85684 285.316249 348.85684 284.753668 \nC 348.85684 284.191087 348.633324 283.651473 348.235519 283.253668 \nC 347.837715 282.855863 347.2981 282.632348 346.735519 282.632348 \nC 346.172939 282.632348 345.633324 282.855863 345.235519 283.253668 \nC 344.837715 283.651473 344.614199 284.191087 344.614199 284.753668 \nC 344.614199 285.316249 344.837715 285.855863 345.235519 286.253668 \nC 345.633324 286.651473 346.172939 286.874988 346.735519 286.874988 \nz\n\" style=\"fill:#1f77b4;stroke:#ffffff;stroke-width:0.339411;\"/>\n    <path clip-path=\"url(#pba7591df0d)\" d=\"M 277.632678 289.759623 \nC 278.195259 289.759623 278.734874 289.536107 279.132678 289.138303 \nC 279.530483 288.740498 279.753999 288.200883 279.753999 287.638303 \nC 279.753999 287.075722 279.530483 286.536107 279.132678 286.138303 \nC 278.734874 285.740498 278.195259 285.516982 277.632678 285.516982 \nC 277.070098 285.516982 276.530483 285.740498 276.132678 286.138303 \nC 275.734874 286.536107 275.511358 287.075722 275.511358 287.638303 \nC 275.511358 288.200883 275.734874 288.740498 276.132678 289.138303 \nC 276.530483 289.536107 277.070098 289.759623 277.632678 289.759623 \nz\n\" style=\"fill:#1f77b4;stroke:#ffffff;stroke-width:0.339411;\"/>\n    <path clip-path=\"url(#pba7591df0d)\" d=\"M 413.882955 300.94745 \nC 414.445535 300.94745 414.98515 300.723935 415.382955 300.32613 \nC 415.780759 299.928325 416.004275 299.388711 416.004275 298.82613 \nC 416.004275 298.263549 415.780759 297.723935 415.382955 297.32613 \nC 414.98515 296.928325 414.445535 296.70481 413.882955 296.70481 \nC 413.320374 296.70481 412.780759 296.928325 412.382955 297.32613 \nC 411.98515 297.723935 411.761634 298.263549 411.761634 298.82613 \nC 411.761634 299.388711 411.98515 299.928325 412.382955 300.32613 \nC 412.780759 300.723935 413.320374 300.94745 413.882955 300.94745 \nz\n\" style=\"fill:#1f77b4;stroke:#ffffff;stroke-width:0.339411;\"/>\n    <path clip-path=\"url(#pba7591df0d)\" d=\"M 274.714296 302.586173 \nC 275.276876 302.586173 275.816491 302.362657 276.214296 301.964852 \nC 276.6121 301.567048 276.835616 301.027433 276.835616 300.464852 \nC 276.835616 299.902272 276.6121 299.362657 276.214296 298.964852 \nC 275.816491 298.567048 275.276876 298.343532 274.714296 298.343532 \nC 274.151715 298.343532 273.6121 298.567048 273.214296 298.964852 \nC 272.816491 299.362657 272.592975 299.902272 272.592975 300.464852 \nC 272.592975 301.027433 272.816491 301.567048 273.214296 301.964852 \nC 273.6121 302.362657 274.151715 302.586173 274.714296 302.586173 \nz\n\" style=\"fill:#1f77b4;stroke:#ffffff;stroke-width:0.339411;\"/>\n    <path clip-path=\"url(#pba7591df0d)\" d=\"M 354.920543 304.919945 \nC 355.483124 304.919945 356.022739 304.696429 356.420543 304.298625 \nC 356.818348 303.90082 357.041864 303.361206 357.041864 302.798625 \nC 357.041864 302.236044 356.818348 301.696429 356.420543 301.298625 \nC 356.022739 300.90082 355.483124 300.677304 354.920543 300.677304 \nC 354.357962 300.677304 353.818348 300.90082 353.420543 301.298625 \nC 353.022739 301.696429 352.799223 302.236044 352.799223 302.798625 \nC 352.799223 303.361206 353.022739 303.90082 353.420543 304.298625 \nC 353.818348 304.696429 354.357962 304.919945 354.920543 304.919945 \nz\n\" style=\"fill:#1f77b4;stroke:#ffffff;stroke-width:0.339411;\"/>\n    <path clip-path=\"url(#pba7591df0d)\" d=\"M 281.935548 317.658272 \nC 282.498128 317.658272 283.037743 317.434756 283.435548 317.036951 \nC 283.833352 316.639147 284.056868 316.099532 284.056868 315.536951 \nC 284.056868 314.974371 283.833352 314.434756 283.435548 314.036951 \nC 283.037743 313.639147 282.498128 313.415631 281.935548 313.415631 \nC 281.372967 313.415631 280.833352 313.639147 280.435548 314.036951 \nC 280.037743 314.434756 279.814227 314.974371 279.814227 315.536951 \nC 279.814227 316.099532 280.037743 316.639147 280.435548 317.036951 \nC 280.833352 317.434756 281.372967 317.658272 281.935548 317.658272 \nz\n\" style=\"fill:#1f77b4;stroke:#ffffff;stroke-width:0.339411;\"/>\n    <path clip-path=\"url(#pba7591df0d)\" d=\"M 351.773999 330.283863 \nC 352.33658 330.283863 352.876195 330.060347 353.273999 329.662543 \nC 353.671804 329.264738 353.89532 328.725123 353.89532 328.162543 \nC 353.89532 327.599962 353.671804 327.060347 353.273999 326.662543 \nC 352.876195 326.264738 352.33658 326.041222 351.773999 326.041222 \nC 351.211419 326.041222 350.671804 326.264738 350.273999 326.662543 \nC 349.876195 327.060347 349.652679 327.599962 349.652679 328.162543 \nC 349.652679 328.725123 349.876195 329.264738 350.273999 329.662543 \nC 350.671804 330.060347 351.211419 330.283863 351.773999 330.283863 \nz\n\" style=\"fill:#1f77b4;stroke:#ffffff;stroke-width:0.339411;\"/>\n    <path clip-path=\"url(#pba7591df0d)\" d=\"M 338.100836 346.516981 \nC 338.663417 346.516981 339.203031 346.293465 339.600836 345.89566 \nC 339.99864 345.497856 340.222156 344.958241 340.222156 344.39566 \nC 340.222156 343.833079 339.99864 343.293465 339.600836 342.89566 \nC 339.203031 342.497856 338.663417 342.27434 338.100836 342.27434 \nC 337.538255 342.27434 336.99864 342.497856 336.600836 342.89566 \nC 336.203031 343.293465 335.979516 343.833079 335.979516 344.39566 \nC 335.979516 344.958241 336.203031 345.497856 336.600836 345.89566 \nC 336.99864 346.293465 337.538255 346.516981 338.100836 346.516981 \nz\n\" style=\"fill:#1f77b4;stroke:#ffffff;stroke-width:0.339411;\"/>\n    <path clip-path=\"url(#pba7591df0d)\" d=\"M 360.273215 350.747844 \nC 360.835796 350.747844 361.37541 350.524329 361.773215 350.126524 \nC 362.171019 349.728719 362.394535 349.189105 362.394535 348.626524 \nC 362.394535 348.063943 362.171019 347.524329 361.773215 347.126524 \nC 361.37541 346.728719 360.835796 346.505204 360.273215 346.505204 \nC 359.710634 346.505204 359.171019 346.728719 358.773215 347.126524 \nC 358.37541 347.524329 358.151894 348.063943 358.151894 348.626524 \nC 358.151894 349.189105 358.37541 349.728719 358.773215 350.126524 \nC 359.171019 350.524329 359.710634 350.747844 360.273215 350.747844 \nz\n\" style=\"fill:#1f77b4;stroke:#ffffff;stroke-width:0.339411;\"/>\n    <path clip-path=\"url(#pba7591df0d)\" d=\"M 390.448553 364.104155 \nC 391.011134 364.104155 391.550748 363.880639 391.948553 363.482834 \nC 392.346358 363.08503 392.569873 362.545415 392.569873 361.982834 \nC 392.569873 361.420254 392.346358 360.880639 391.948553 360.482834 \nC 391.550748 360.08503 391.011134 359.861514 390.448553 359.861514 \nC 389.885972 359.861514 389.346358 360.08503 388.948553 360.482834 \nC 388.550748 360.880639 388.327233 361.420254 388.327233 361.982834 \nC 388.327233 362.545415 388.550748 363.08503 388.948553 363.482834 \nC 389.346358 363.880639 389.885972 364.104155 390.448553 364.104155 \nz\n\" style=\"fill:#1f77b4;stroke:#ffffff;stroke-width:0.339411;\"/>\n    <path clip-path=\"url(#pba7591df0d)\" d=\"M 356.814188 365.250006 \nC 357.376769 365.250006 357.916384 365.02649 358.314188 364.628685 \nC 358.711993 364.230881 358.935509 363.691266 358.935509 363.128685 \nC 358.935509 362.566105 358.711993 362.02649 358.314188 361.628685 \nC 357.916384 361.230881 357.376769 361.007365 356.814188 361.007365 \nC 356.251608 361.007365 355.711993 361.230881 355.314188 361.628685 \nC 354.916384 362.02649 354.692868 362.566105 354.692868 363.128685 \nC 354.692868 363.691266 354.916384 364.230881 355.314188 364.628685 \nC 355.711993 365.02649 356.251608 365.250006 356.814188 365.250006 \nz\n\" style=\"fill:#1f77b4;stroke:#ffffff;stroke-width:0.339411;\"/>\n    <path clip-path=\"url(#pba7591df0d)\" d=\"M 363.703101 372.544957 \nC 364.265682 372.544957 364.805296 372.321441 365.203101 371.923636 \nC 365.600906 371.525832 365.824421 370.986217 365.824421 370.423636 \nC 365.824421 369.861056 365.600906 369.321441 365.203101 368.923636 \nC 364.805296 368.525832 364.265682 368.302316 363.703101 368.302316 \nC 363.14052 368.302316 362.600906 368.525832 362.203101 368.923636 \nC 361.805296 369.321441 361.581781 369.861056 361.581781 370.423636 \nC 361.581781 370.986217 361.805296 371.525832 362.203101 371.923636 \nC 362.600906 372.321441 363.14052 372.544957 363.703101 372.544957 \nz\n\" style=\"fill:#1f77b4;stroke:#ffffff;stroke-width:0.339411;\"/>\n   </g>\n   <g id=\"matplotlib.axis_1\">\n    <g id=\"xtick_1\">\n     <g id=\"line2d_1\">\n      <defs>\n       <path d=\"M 0 0 \nL 0 3.5 \n\" id=\"m1c471f801e\" style=\"stroke:#000000;stroke-width:0.8;\"/>\n      </defs>\n      <g>\n       <use style=\"stroke:#000000;stroke-width:0.8;\" x=\"50.166933\" xlink:href=\"#m1c471f801e\" y=\"387.72\"/>\n      </g>\n     </g>\n     <g id=\"text_1\">\n      <!-- 40.0 -->\n      <g transform=\"translate(39.034121 402.318437)scale(0.1 -0.1)\">\n       <defs>\n        <path d=\"M 37.796875 64.3125 \nL 12.890625 25.390625 \nL 37.796875 25.390625 \nz\nM 35.203125 72.90625 \nL 47.609375 72.90625 \nL 47.609375 25.390625 \nL 58.015625 25.390625 \nL 58.015625 17.1875 \nL 47.609375 17.1875 \nL 47.609375 0 \nL 37.796875 0 \nL 37.796875 17.1875 \nL 4.890625 17.1875 \nL 4.890625 26.703125 \nz\n\" id=\"DejaVuSans-52\"/>\n        <path d=\"M 31.78125 66.40625 \nQ 24.171875 66.40625 20.328125 58.90625 \nQ 16.5 51.421875 16.5 36.375 \nQ 16.5 21.390625 20.328125 13.890625 \nQ 24.171875 6.390625 31.78125 6.390625 \nQ 39.453125 6.390625 43.28125 13.890625 \nQ 47.125 21.390625 47.125 36.375 \nQ 47.125 51.421875 43.28125 58.90625 \nQ 39.453125 66.40625 31.78125 66.40625 \nz\nM 31.78125 74.21875 \nQ 44.046875 74.21875 50.515625 64.515625 \nQ 56.984375 54.828125 56.984375 36.375 \nQ 56.984375 17.96875 50.515625 8.265625 \nQ 44.046875 -1.421875 31.78125 -1.421875 \nQ 19.53125 -1.421875 13.0625 8.265625 \nQ 6.59375 17.96875 6.59375 36.375 \nQ 6.59375 54.828125 13.0625 64.515625 \nQ 19.53125 74.21875 31.78125 74.21875 \nz\n\" id=\"DejaVuSans-48\"/>\n        <path d=\"M 10.6875 12.40625 \nL 21 12.40625 \nL 21 0 \nL 10.6875 0 \nz\n\" id=\"DejaVuSans-46\"/>\n       </defs>\n       <use xlink:href=\"#DejaVuSans-52\"/>\n       <use x=\"63.623047\" xlink:href=\"#DejaVuSans-48\"/>\n       <use x=\"127.246094\" xlink:href=\"#DejaVuSans-46\"/>\n       <use x=\"159.033203\" xlink:href=\"#DejaVuSans-48\"/>\n      </g>\n     </g>\n    </g>\n    <g id=\"xtick_2\">\n     <g id=\"line2d_2\">\n      <g>\n       <use style=\"stroke:#000000;stroke-width:0.8;\" x=\"97.366818\" xlink:href=\"#m1c471f801e\" y=\"387.72\"/>\n      </g>\n     </g>\n     <g id=\"text_2\">\n      <!-- 42.5 -->\n      <g transform=\"translate(86.234006 402.318437)scale(0.1 -0.1)\">\n       <defs>\n        <path d=\"M 19.1875 8.296875 \nL 53.609375 8.296875 \nL 53.609375 0 \nL 7.328125 0 \nL 7.328125 8.296875 \nQ 12.9375 14.109375 22.625 23.890625 \nQ 32.328125 33.6875 34.8125 36.53125 \nQ 39.546875 41.84375 41.421875 45.53125 \nQ 43.3125 49.21875 43.3125 52.78125 \nQ 43.3125 58.59375 39.234375 62.25 \nQ 35.15625 65.921875 28.609375 65.921875 \nQ 23.96875 65.921875 18.8125 64.3125 \nQ 13.671875 62.703125 7.8125 59.421875 \nL 7.8125 69.390625 \nQ 13.765625 71.78125 18.9375 73 \nQ 24.125 74.21875 28.421875 74.21875 \nQ 39.75 74.21875 46.484375 68.546875 \nQ 53.21875 62.890625 53.21875 53.421875 \nQ 53.21875 48.921875 51.53125 44.890625 \nQ 49.859375 40.875 45.40625 35.40625 \nQ 44.1875 33.984375 37.640625 27.21875 \nQ 31.109375 20.453125 19.1875 8.296875 \nz\n\" id=\"DejaVuSans-50\"/>\n        <path d=\"M 10.796875 72.90625 \nL 49.515625 72.90625 \nL 49.515625 64.59375 \nL 19.828125 64.59375 \nL 19.828125 46.734375 \nQ 21.96875 47.46875 24.109375 47.828125 \nQ 26.265625 48.1875 28.421875 48.1875 \nQ 40.625 48.1875 47.75 41.5 \nQ 54.890625 34.8125 54.890625 23.390625 \nQ 54.890625 11.625 47.5625 5.09375 \nQ 40.234375 -1.421875 26.90625 -1.421875 \nQ 22.3125 -1.421875 17.546875 -0.640625 \nQ 12.796875 0.140625 7.71875 1.703125 \nL 7.71875 11.625 \nQ 12.109375 9.234375 16.796875 8.0625 \nQ 21.484375 6.890625 26.703125 6.890625 \nQ 35.15625 6.890625 40.078125 11.328125 \nQ 45.015625 15.765625 45.015625 23.390625 \nQ 45.015625 31 40.078125 35.4375 \nQ 35.15625 39.890625 26.703125 39.890625 \nQ 22.75 39.890625 18.8125 39.015625 \nQ 14.890625 38.140625 10.796875 36.28125 \nz\n\" id=\"DejaVuSans-53\"/>\n       </defs>\n       <use xlink:href=\"#DejaVuSans-52\"/>\n       <use x=\"63.623047\" xlink:href=\"#DejaVuSans-50\"/>\n       <use x=\"127.246094\" xlink:href=\"#DejaVuSans-46\"/>\n       <use x=\"159.033203\" xlink:href=\"#DejaVuSans-53\"/>\n      </g>\n     </g>\n    </g>\n    <g id=\"xtick_3\">\n     <g id=\"line2d_3\">\n      <g>\n       <use style=\"stroke:#000000;stroke-width:0.8;\" x=\"144.566704\" xlink:href=\"#m1c471f801e\" y=\"387.72\"/>\n      </g>\n     </g>\n     <g id=\"text_3\">\n      <!-- 45.0 -->\n      <g transform=\"translate(133.433891 402.318437)scale(0.1 -0.1)\">\n       <use xlink:href=\"#DejaVuSans-52\"/>\n       <use x=\"63.623047\" xlink:href=\"#DejaVuSans-53\"/>\n       <use x=\"127.246094\" xlink:href=\"#DejaVuSans-46\"/>\n       <use x=\"159.033203\" xlink:href=\"#DejaVuSans-48\"/>\n      </g>\n     </g>\n    </g>\n    <g id=\"xtick_4\">\n     <g id=\"line2d_4\">\n      <g>\n       <use style=\"stroke:#000000;stroke-width:0.8;\" x=\"191.766589\" xlink:href=\"#m1c471f801e\" y=\"387.72\"/>\n      </g>\n     </g>\n     <g id=\"text_4\">\n      <!-- 47.5 -->\n      <g transform=\"translate(180.633777 402.318437)scale(0.1 -0.1)\">\n       <defs>\n        <path d=\"M 8.203125 72.90625 \nL 55.078125 72.90625 \nL 55.078125 68.703125 \nL 28.609375 0 \nL 18.3125 0 \nL 43.21875 64.59375 \nL 8.203125 64.59375 \nz\n\" id=\"DejaVuSans-55\"/>\n       </defs>\n       <use xlink:href=\"#DejaVuSans-52\"/>\n       <use x=\"63.623047\" xlink:href=\"#DejaVuSans-55\"/>\n       <use x=\"127.246094\" xlink:href=\"#DejaVuSans-46\"/>\n       <use x=\"159.033203\" xlink:href=\"#DejaVuSans-53\"/>\n      </g>\n     </g>\n    </g>\n    <g id=\"xtick_5\">\n     <g id=\"line2d_5\">\n      <g>\n       <use style=\"stroke:#000000;stroke-width:0.8;\" x=\"238.966475\" xlink:href=\"#m1c471f801e\" y=\"387.72\"/>\n      </g>\n     </g>\n     <g id=\"text_5\">\n      <!-- 50.0 -->\n      <g transform=\"translate(227.833662 402.318437)scale(0.1 -0.1)\">\n       <use xlink:href=\"#DejaVuSans-53\"/>\n       <use x=\"63.623047\" xlink:href=\"#DejaVuSans-48\"/>\n       <use x=\"127.246094\" xlink:href=\"#DejaVuSans-46\"/>\n       <use x=\"159.033203\" xlink:href=\"#DejaVuSans-48\"/>\n      </g>\n     </g>\n    </g>\n    <g id=\"xtick_6\">\n     <g id=\"line2d_6\">\n      <g>\n       <use style=\"stroke:#000000;stroke-width:0.8;\" x=\"286.16636\" xlink:href=\"#m1c471f801e\" y=\"387.72\"/>\n      </g>\n     </g>\n     <g id=\"text_6\">\n      <!-- 52.5 -->\n      <g transform=\"translate(275.033547 402.318437)scale(0.1 -0.1)\">\n       <use xlink:href=\"#DejaVuSans-53\"/>\n       <use x=\"63.623047\" xlink:href=\"#DejaVuSans-50\"/>\n       <use x=\"127.246094\" xlink:href=\"#DejaVuSans-46\"/>\n       <use x=\"159.033203\" xlink:href=\"#DejaVuSans-53\"/>\n      </g>\n     </g>\n    </g>\n    <g id=\"xtick_7\">\n     <g id=\"line2d_7\">\n      <g>\n       <use style=\"stroke:#000000;stroke-width:0.8;\" x=\"333.366245\" xlink:href=\"#m1c471f801e\" y=\"387.72\"/>\n      </g>\n     </g>\n     <g id=\"text_7\">\n      <!-- 55.0 -->\n      <g transform=\"translate(322.233433 402.318437)scale(0.1 -0.1)\">\n       <use xlink:href=\"#DejaVuSans-53\"/>\n       <use x=\"63.623047\" xlink:href=\"#DejaVuSans-53\"/>\n       <use x=\"127.246094\" xlink:href=\"#DejaVuSans-46\"/>\n       <use x=\"159.033203\" xlink:href=\"#DejaVuSans-48\"/>\n      </g>\n     </g>\n    </g>\n    <g id=\"xtick_8\">\n     <g id=\"line2d_8\">\n      <g>\n       <use style=\"stroke:#000000;stroke-width:0.8;\" x=\"380.566131\" xlink:href=\"#m1c471f801e\" y=\"387.72\"/>\n      </g>\n     </g>\n     <g id=\"text_8\">\n      <!-- 57.5 -->\n      <g transform=\"translate(369.433318 402.318437)scale(0.1 -0.1)\">\n       <use xlink:href=\"#DejaVuSans-53\"/>\n       <use x=\"63.623047\" xlink:href=\"#DejaVuSans-55\"/>\n       <use x=\"127.246094\" xlink:href=\"#DejaVuSans-46\"/>\n       <use x=\"159.033203\" xlink:href=\"#DejaVuSans-53\"/>\n      </g>\n     </g>\n    </g>\n    <g id=\"xtick_9\">\n     <g id=\"line2d_9\">\n      <g>\n       <use style=\"stroke:#000000;stroke-width:0.8;\" x=\"427.766016\" xlink:href=\"#m1c471f801e\" y=\"387.72\"/>\n      </g>\n     </g>\n     <g id=\"text_9\">\n      <!-- 60.0 -->\n      <g transform=\"translate(416.633204 402.318437)scale(0.1 -0.1)\">\n       <defs>\n        <path d=\"M 33.015625 40.375 \nQ 26.375 40.375 22.484375 35.828125 \nQ 18.609375 31.296875 18.609375 23.390625 \nQ 18.609375 15.53125 22.484375 10.953125 \nQ 26.375 6.390625 33.015625 6.390625 \nQ 39.65625 6.390625 43.53125 10.953125 \nQ 47.40625 15.53125 47.40625 23.390625 \nQ 47.40625 31.296875 43.53125 35.828125 \nQ 39.65625 40.375 33.015625 40.375 \nz\nM 52.59375 71.296875 \nL 52.59375 62.3125 \nQ 48.875 64.0625 45.09375 64.984375 \nQ 41.3125 65.921875 37.59375 65.921875 \nQ 27.828125 65.921875 22.671875 59.328125 \nQ 17.53125 52.734375 16.796875 39.40625 \nQ 19.671875 43.65625 24.015625 45.921875 \nQ 28.375 48.1875 33.59375 48.1875 \nQ 44.578125 48.1875 50.953125 41.515625 \nQ 57.328125 34.859375 57.328125 23.390625 \nQ 57.328125 12.15625 50.6875 5.359375 \nQ 44.046875 -1.421875 33.015625 -1.421875 \nQ 20.359375 -1.421875 13.671875 8.265625 \nQ 6.984375 17.96875 6.984375 36.375 \nQ 6.984375 53.65625 15.1875 63.9375 \nQ 23.390625 74.21875 37.203125 74.21875 \nQ 40.921875 74.21875 44.703125 73.484375 \nQ 48.484375 72.75 52.59375 71.296875 \nz\n\" id=\"DejaVuSans-54\"/>\n       </defs>\n       <use xlink:href=\"#DejaVuSans-54\"/>\n       <use x=\"63.623047\" xlink:href=\"#DejaVuSans-48\"/>\n       <use x=\"127.246094\" xlink:href=\"#DejaVuSans-46\"/>\n       <use x=\"159.033203\" xlink:href=\"#DejaVuSans-48\"/>\n      </g>\n     </g>\n    </g>\n    <g id=\"text_10\">\n     <!-- Wyszczepienie [%] -->\n     <g transform=\"translate(189.327344 415.996562)scale(0.1 -0.1)\">\n      <defs>\n       <path d=\"M 3.328125 72.90625 \nL 13.28125 72.90625 \nL 28.609375 11.28125 \nL 43.890625 72.90625 \nL 54.984375 72.90625 \nL 70.3125 11.28125 \nL 85.59375 72.90625 \nL 95.609375 72.90625 \nL 77.296875 0 \nL 64.890625 0 \nL 49.515625 63.28125 \nL 33.984375 0 \nL 21.578125 0 \nz\n\" id=\"DejaVuSans-87\"/>\n       <path d=\"M 32.171875 -5.078125 \nQ 28.375 -14.84375 24.75 -17.8125 \nQ 21.140625 -20.796875 15.09375 -20.796875 \nL 7.90625 -20.796875 \nL 7.90625 -13.28125 \nL 13.1875 -13.28125 \nQ 16.890625 -13.28125 18.9375 -11.515625 \nQ 21 -9.765625 23.484375 -3.21875 \nL 25.09375 0.875 \nL 2.984375 54.6875 \nL 12.5 54.6875 \nL 29.59375 11.921875 \nL 46.6875 54.6875 \nL 56.203125 54.6875 \nz\n\" id=\"DejaVuSans-121\"/>\n       <path d=\"M 44.28125 53.078125 \nL 44.28125 44.578125 \nQ 40.484375 46.53125 36.375 47.5 \nQ 32.28125 48.484375 27.875 48.484375 \nQ 21.1875 48.484375 17.84375 46.4375 \nQ 14.5 44.390625 14.5 40.28125 \nQ 14.5 37.15625 16.890625 35.375 \nQ 19.28125 33.59375 26.515625 31.984375 \nL 29.59375 31.296875 \nQ 39.15625 29.25 43.1875 25.515625 \nQ 47.21875 21.78125 47.21875 15.09375 \nQ 47.21875 7.46875 41.1875 3.015625 \nQ 35.15625 -1.421875 24.609375 -1.421875 \nQ 20.21875 -1.421875 15.453125 -0.5625 \nQ 10.6875 0.296875 5.421875 2 \nL 5.421875 11.28125 \nQ 10.40625 8.6875 15.234375 7.390625 \nQ 20.0625 6.109375 24.8125 6.109375 \nQ 31.15625 6.109375 34.5625 8.28125 \nQ 37.984375 10.453125 37.984375 14.40625 \nQ 37.984375 18.0625 35.515625 20.015625 \nQ 33.0625 21.96875 24.703125 23.78125 \nL 21.578125 24.515625 \nQ 13.234375 26.265625 9.515625 29.90625 \nQ 5.8125 33.546875 5.8125 39.890625 \nQ 5.8125 47.609375 11.28125 51.796875 \nQ 16.75 56 26.8125 56 \nQ 31.78125 56 36.171875 55.265625 \nQ 40.578125 54.546875 44.28125 53.078125 \nz\n\" id=\"DejaVuSans-115\"/>\n       <path d=\"M 5.515625 54.6875 \nL 48.1875 54.6875 \nL 48.1875 46.484375 \nL 14.40625 7.171875 \nL 48.1875 7.171875 \nL 48.1875 0 \nL 4.296875 0 \nL 4.296875 8.203125 \nL 38.09375 47.515625 \nL 5.515625 47.515625 \nz\n\" id=\"DejaVuSans-122\"/>\n       <path d=\"M 48.78125 52.59375 \nL 48.78125 44.1875 \nQ 44.96875 46.296875 41.140625 47.34375 \nQ 37.3125 48.390625 33.40625 48.390625 \nQ 24.65625 48.390625 19.8125 42.84375 \nQ 14.984375 37.3125 14.984375 27.296875 \nQ 14.984375 17.28125 19.8125 11.734375 \nQ 24.65625 6.203125 33.40625 6.203125 \nQ 37.3125 6.203125 41.140625 7.25 \nQ 44.96875 8.296875 48.78125 10.40625 \nL 48.78125 2.09375 \nQ 45.015625 0.34375 40.984375 -0.53125 \nQ 36.96875 -1.421875 32.421875 -1.421875 \nQ 20.0625 -1.421875 12.78125 6.34375 \nQ 5.515625 14.109375 5.515625 27.296875 \nQ 5.515625 40.671875 12.859375 48.328125 \nQ 20.21875 56 33.015625 56 \nQ 37.15625 56 41.109375 55.140625 \nQ 45.0625 54.296875 48.78125 52.59375 \nz\n\" id=\"DejaVuSans-99\"/>\n       <path d=\"M 56.203125 29.59375 \nL 56.203125 25.203125 \nL 14.890625 25.203125 \nQ 15.484375 15.921875 20.484375 11.0625 \nQ 25.484375 6.203125 34.421875 6.203125 \nQ 39.59375 6.203125 44.453125 7.46875 \nQ 49.3125 8.734375 54.109375 11.28125 \nL 54.109375 2.78125 \nQ 49.265625 0.734375 44.1875 -0.34375 \nQ 39.109375 -1.421875 33.890625 -1.421875 \nQ 20.796875 -1.421875 13.15625 6.1875 \nQ 5.515625 13.8125 5.515625 26.8125 \nQ 5.515625 40.234375 12.765625 48.109375 \nQ 20.015625 56 32.328125 56 \nQ 43.359375 56 49.78125 48.890625 \nQ 56.203125 41.796875 56.203125 29.59375 \nz\nM 47.21875 32.234375 \nQ 47.125 39.59375 43.09375 43.984375 \nQ 39.0625 48.390625 32.421875 48.390625 \nQ 24.90625 48.390625 20.390625 44.140625 \nQ 15.875 39.890625 15.1875 32.171875 \nz\n\" id=\"DejaVuSans-101\"/>\n       <path d=\"M 18.109375 8.203125 \nL 18.109375 -20.796875 \nL 9.078125 -20.796875 \nL 9.078125 54.6875 \nL 18.109375 54.6875 \nL 18.109375 46.390625 \nQ 20.953125 51.265625 25.265625 53.625 \nQ 29.59375 56 35.59375 56 \nQ 45.5625 56 51.78125 48.09375 \nQ 58.015625 40.1875 58.015625 27.296875 \nQ 58.015625 14.40625 51.78125 6.484375 \nQ 45.5625 -1.421875 35.59375 -1.421875 \nQ 29.59375 -1.421875 25.265625 0.953125 \nQ 20.953125 3.328125 18.109375 8.203125 \nz\nM 48.6875 27.296875 \nQ 48.6875 37.203125 44.609375 42.84375 \nQ 40.53125 48.484375 33.40625 48.484375 \nQ 26.265625 48.484375 22.1875 42.84375 \nQ 18.109375 37.203125 18.109375 27.296875 \nQ 18.109375 17.390625 22.1875 11.75 \nQ 26.265625 6.109375 33.40625 6.109375 \nQ 40.53125 6.109375 44.609375 11.75 \nQ 48.6875 17.390625 48.6875 27.296875 \nz\n\" id=\"DejaVuSans-112\"/>\n       <path d=\"M 9.421875 54.6875 \nL 18.40625 54.6875 \nL 18.40625 0 \nL 9.421875 0 \nz\nM 9.421875 75.984375 \nL 18.40625 75.984375 \nL 18.40625 64.59375 \nL 9.421875 64.59375 \nz\n\" id=\"DejaVuSans-105\"/>\n       <path d=\"M 54.890625 33.015625 \nL 54.890625 0 \nL 45.90625 0 \nL 45.90625 32.71875 \nQ 45.90625 40.484375 42.875 44.328125 \nQ 39.84375 48.1875 33.796875 48.1875 \nQ 26.515625 48.1875 22.3125 43.546875 \nQ 18.109375 38.921875 18.109375 30.90625 \nL 18.109375 0 \nL 9.078125 0 \nL 9.078125 54.6875 \nL 18.109375 54.6875 \nL 18.109375 46.1875 \nQ 21.34375 51.125 25.703125 53.5625 \nQ 30.078125 56 35.796875 56 \nQ 45.21875 56 50.046875 50.171875 \nQ 54.890625 44.34375 54.890625 33.015625 \nz\n\" id=\"DejaVuSans-110\"/>\n       <path id=\"DejaVuSans-32\"/>\n       <path d=\"M 8.59375 75.984375 \nL 29.296875 75.984375 \nL 29.296875 69 \nL 17.578125 69 \nL 17.578125 -6.203125 \nL 29.296875 -6.203125 \nL 29.296875 -13.1875 \nL 8.59375 -13.1875 \nz\n\" id=\"DejaVuSans-91\"/>\n       <path d=\"M 72.703125 32.078125 \nQ 68.453125 32.078125 66.03125 28.46875 \nQ 63.625 24.859375 63.625 18.40625 \nQ 63.625 12.0625 66.03125 8.421875 \nQ 68.453125 4.78125 72.703125 4.78125 \nQ 76.859375 4.78125 79.265625 8.421875 \nQ 81.6875 12.0625 81.6875 18.40625 \nQ 81.6875 24.8125 79.265625 28.4375 \nQ 76.859375 32.078125 72.703125 32.078125 \nz\nM 72.703125 38.28125 \nQ 80.421875 38.28125 84.953125 32.90625 \nQ 89.5 27.546875 89.5 18.40625 \nQ 89.5 9.28125 84.9375 3.921875 \nQ 80.375 -1.421875 72.703125 -1.421875 \nQ 64.890625 -1.421875 60.34375 3.921875 \nQ 55.8125 9.28125 55.8125 18.40625 \nQ 55.8125 27.59375 60.375 32.9375 \nQ 64.9375 38.28125 72.703125 38.28125 \nz\nM 22.3125 68.015625 \nQ 18.109375 68.015625 15.6875 64.375 \nQ 13.28125 60.75 13.28125 54.390625 \nQ 13.28125 47.953125 15.671875 44.328125 \nQ 18.0625 40.71875 22.3125 40.71875 \nQ 26.5625 40.71875 28.96875 44.328125 \nQ 31.390625 47.953125 31.390625 54.390625 \nQ 31.390625 60.6875 28.953125 64.34375 \nQ 26.515625 68.015625 22.3125 68.015625 \nz\nM 66.40625 74.21875 \nL 74.21875 74.21875 \nL 28.609375 -1.421875 \nL 20.796875 -1.421875 \nz\nM 22.3125 74.21875 \nQ 30.03125 74.21875 34.609375 68.875 \nQ 39.203125 63.53125 39.203125 54.390625 \nQ 39.203125 45.171875 34.640625 39.84375 \nQ 30.078125 34.515625 22.3125 34.515625 \nQ 14.546875 34.515625 10.03125 39.859375 \nQ 5.515625 45.21875 5.515625 54.390625 \nQ 5.515625 63.484375 10.046875 68.84375 \nQ 14.59375 74.21875 22.3125 74.21875 \nz\n\" id=\"DejaVuSans-37\"/>\n       <path d=\"M 30.421875 75.984375 \nL 30.421875 -13.1875 \nL 9.71875 -13.1875 \nL 9.71875 -6.203125 \nL 21.390625 -6.203125 \nL 21.390625 69 \nL 9.71875 69 \nL 9.71875 75.984375 \nz\n\" id=\"DejaVuSans-93\"/>\n      </defs>\n      <use xlink:href=\"#DejaVuSans-87\"/>\n      <use x=\"97.126953\" xlink:href=\"#DejaVuSans-121\"/>\n      <use x=\"156.306641\" xlink:href=\"#DejaVuSans-115\"/>\n      <use x=\"208.40625\" xlink:href=\"#DejaVuSans-122\"/>\n      <use x=\"260.896484\" xlink:href=\"#DejaVuSans-99\"/>\n      <use x=\"315.876953\" xlink:href=\"#DejaVuSans-122\"/>\n      <use x=\"368.367188\" xlink:href=\"#DejaVuSans-101\"/>\n      <use x=\"429.890625\" xlink:href=\"#DejaVuSans-112\"/>\n      <use x=\"493.367188\" xlink:href=\"#DejaVuSans-105\"/>\n      <use x=\"521.150391\" xlink:href=\"#DejaVuSans-101\"/>\n      <use x=\"582.673828\" xlink:href=\"#DejaVuSans-110\"/>\n      <use x=\"646.052734\" xlink:href=\"#DejaVuSans-105\"/>\n      <use x=\"673.835938\" xlink:href=\"#DejaVuSans-101\"/>\n      <use x=\"735.359375\" xlink:href=\"#DejaVuSans-32\"/>\n      <use x=\"767.146484\" xlink:href=\"#DejaVuSans-91\"/>\n      <use x=\"806.160156\" xlink:href=\"#DejaVuSans-37\"/>\n      <use x=\"901.179688\" xlink:href=\"#DejaVuSans-93\"/>\n     </g>\n    </g>\n   </g>\n   <g id=\"matplotlib.axis_2\">\n    <g id=\"ytick_1\">\n     <g id=\"line2d_10\">\n      <defs>\n       <path d=\"M 0 0 \nL -3.5 0 \n\" id=\"m9d752b2300\" style=\"stroke:#000000;stroke-width:0.8;\"/>\n      </defs>\n      <g>\n       <use style=\"stroke:#000000;stroke-width:0.8;\" x=\"41.0375\" xlink:href=\"#m9d752b2300\" y=\"336.249138\"/>\n      </g>\n     </g>\n     <g id=\"text_11\">\n      <!-- 20 -->\n      <g transform=\"translate(21.3125 340.048357)scale(0.1 -0.1)\">\n       <use xlink:href=\"#DejaVuSans-50\"/>\n       <use x=\"63.623047\" xlink:href=\"#DejaVuSans-48\"/>\n      </g>\n     </g>\n    </g>\n    <g id=\"ytick_2\">\n     <g id=\"line2d_11\">\n      <g>\n       <use style=\"stroke:#000000;stroke-width:0.8;\" x=\"41.0375\" xlink:href=\"#m9d752b2300\" y=\"276.063125\"/>\n      </g>\n     </g>\n     <g id=\"text_12\">\n      <!-- 30 -->\n      <g transform=\"translate(21.3125 279.862343)scale(0.1 -0.1)\">\n       <defs>\n        <path d=\"M 40.578125 39.3125 \nQ 47.65625 37.796875 51.625 33 \nQ 55.609375 28.21875 55.609375 21.1875 \nQ 55.609375 10.40625 48.1875 4.484375 \nQ 40.765625 -1.421875 27.09375 -1.421875 \nQ 22.515625 -1.421875 17.65625 -0.515625 \nQ 12.796875 0.390625 7.625 2.203125 \nL 7.625 11.71875 \nQ 11.71875 9.328125 16.59375 8.109375 \nQ 21.484375 6.890625 26.8125 6.890625 \nQ 36.078125 6.890625 40.9375 10.546875 \nQ 45.796875 14.203125 45.796875 21.1875 \nQ 45.796875 27.640625 41.28125 31.265625 \nQ 36.765625 34.90625 28.71875 34.90625 \nL 20.21875 34.90625 \nL 20.21875 43.015625 \nL 29.109375 43.015625 \nQ 36.375 43.015625 40.234375 45.921875 \nQ 44.09375 48.828125 44.09375 54.296875 \nQ 44.09375 59.90625 40.109375 62.90625 \nQ 36.140625 65.921875 28.71875 65.921875 \nQ 24.65625 65.921875 20.015625 65.03125 \nQ 15.375 64.15625 9.8125 62.3125 \nL 9.8125 71.09375 \nQ 15.4375 72.65625 20.34375 73.4375 \nQ 25.25 74.21875 29.59375 74.21875 \nQ 40.828125 74.21875 47.359375 69.109375 \nQ 53.90625 64.015625 53.90625 55.328125 \nQ 53.90625 49.265625 50.4375 45.09375 \nQ 46.96875 40.921875 40.578125 39.3125 \nz\n\" id=\"DejaVuSans-51\"/>\n       </defs>\n       <use xlink:href=\"#DejaVuSans-51\"/>\n       <use x=\"63.623047\" xlink:href=\"#DejaVuSans-48\"/>\n      </g>\n     </g>\n    </g>\n    <g id=\"ytick_3\">\n     <g id=\"line2d_12\">\n      <g>\n       <use style=\"stroke:#000000;stroke-width:0.8;\" x=\"41.0375\" xlink:href=\"#m9d752b2300\" y=\"215.877111\"/>\n      </g>\n     </g>\n     <g id=\"text_13\">\n      <!-- 40 -->\n      <g transform=\"translate(21.3125 219.67633)scale(0.1 -0.1)\">\n       <use xlink:href=\"#DejaVuSans-52\"/>\n       <use x=\"63.623047\" xlink:href=\"#DejaVuSans-48\"/>\n      </g>\n     </g>\n    </g>\n    <g id=\"ytick_4\">\n     <g id=\"line2d_13\">\n      <g>\n       <use style=\"stroke:#000000;stroke-width:0.8;\" x=\"41.0375\" xlink:href=\"#m9d752b2300\" y=\"155.691098\"/>\n      </g>\n     </g>\n     <g id=\"text_14\">\n      <!-- 50 -->\n      <g transform=\"translate(21.3125 159.490316)scale(0.1 -0.1)\">\n       <use xlink:href=\"#DejaVuSans-53\"/>\n       <use x=\"63.623047\" xlink:href=\"#DejaVuSans-48\"/>\n      </g>\n     </g>\n    </g>\n    <g id=\"ytick_5\">\n     <g id=\"line2d_14\">\n      <g>\n       <use style=\"stroke:#000000;stroke-width:0.8;\" x=\"41.0375\" xlink:href=\"#m9d752b2300\" y=\"95.505084\"/>\n      </g>\n     </g>\n     <g id=\"text_15\">\n      <!-- 60 -->\n      <g transform=\"translate(21.3125 99.304303)scale(0.1 -0.1)\">\n       <use xlink:href=\"#DejaVuSans-54\"/>\n       <use x=\"63.623047\" xlink:href=\"#DejaVuSans-48\"/>\n      </g>\n     </g>\n    </g>\n    <g id=\"ytick_6\">\n     <g id=\"line2d_15\">\n      <g>\n       <use style=\"stroke:#000000;stroke-width:0.8;\" x=\"41.0375\" xlink:href=\"#m9d752b2300\" y=\"35.319071\"/>\n      </g>\n     </g>\n     <g id=\"text_16\">\n      <!-- 70 -->\n      <g transform=\"translate(21.3125 39.118289)scale(0.1 -0.1)\">\n       <use xlink:href=\"#DejaVuSans-55\"/>\n       <use x=\"63.623047\" xlink:href=\"#DejaVuSans-48\"/>\n      </g>\n     </g>\n    </g>\n    <g id=\"text_17\">\n     <!-- Zgony nie w pełni zaszczepionych na 100 tys. mieszkańców -->\n     <g transform=\"translate(15.232812 347.34125)rotate(-90)scale(0.1 -0.1)\">\n      <defs>\n       <path d=\"M 5.609375 72.90625 \nL 62.890625 72.90625 \nL 62.890625 65.375 \nL 16.796875 8.296875 \nL 64.015625 8.296875 \nL 64.015625 0 \nL 4.5 0 \nL 4.5 7.515625 \nL 50.59375 64.59375 \nL 5.609375 64.59375 \nz\n\" id=\"DejaVuSans-90\"/>\n       <path d=\"M 45.40625 27.984375 \nQ 45.40625 37.75 41.375 43.109375 \nQ 37.359375 48.484375 30.078125 48.484375 \nQ 22.859375 48.484375 18.828125 43.109375 \nQ 14.796875 37.75 14.796875 27.984375 \nQ 14.796875 18.265625 18.828125 12.890625 \nQ 22.859375 7.515625 30.078125 7.515625 \nQ 37.359375 7.515625 41.375 12.890625 \nQ 45.40625 18.265625 45.40625 27.984375 \nz\nM 54.390625 6.78125 \nQ 54.390625 -7.171875 48.1875 -13.984375 \nQ 42 -20.796875 29.203125 -20.796875 \nQ 24.46875 -20.796875 20.265625 -20.09375 \nQ 16.0625 -19.390625 12.109375 -17.921875 \nL 12.109375 -9.1875 \nQ 16.0625 -11.328125 19.921875 -12.34375 \nQ 23.78125 -13.375 27.78125 -13.375 \nQ 36.625 -13.375 41.015625 -8.765625 \nQ 45.40625 -4.15625 45.40625 5.171875 \nL 45.40625 9.625 \nQ 42.625 4.78125 38.28125 2.390625 \nQ 33.9375 0 27.875 0 \nQ 17.828125 0 11.671875 7.65625 \nQ 5.515625 15.328125 5.515625 27.984375 \nQ 5.515625 40.671875 11.671875 48.328125 \nQ 17.828125 56 27.875 56 \nQ 33.9375 56 38.28125 53.609375 \nQ 42.625 51.21875 45.40625 46.390625 \nL 45.40625 54.6875 \nL 54.390625 54.6875 \nz\n\" id=\"DejaVuSans-103\"/>\n       <path d=\"M 30.609375 48.390625 \nQ 23.390625 48.390625 19.1875 42.75 \nQ 14.984375 37.109375 14.984375 27.296875 \nQ 14.984375 17.484375 19.15625 11.84375 \nQ 23.34375 6.203125 30.609375 6.203125 \nQ 37.796875 6.203125 41.984375 11.859375 \nQ 46.1875 17.53125 46.1875 27.296875 \nQ 46.1875 37.015625 41.984375 42.703125 \nQ 37.796875 48.390625 30.609375 48.390625 \nz\nM 30.609375 56 \nQ 42.328125 56 49.015625 48.375 \nQ 55.71875 40.765625 55.71875 27.296875 \nQ 55.71875 13.875 49.015625 6.21875 \nQ 42.328125 -1.421875 30.609375 -1.421875 \nQ 18.84375 -1.421875 12.171875 6.21875 \nQ 5.515625 13.875 5.515625 27.296875 \nQ 5.515625 40.765625 12.171875 48.375 \nQ 18.84375 56 30.609375 56 \nz\n\" id=\"DejaVuSans-111\"/>\n       <path d=\"M 4.203125 54.6875 \nL 13.1875 54.6875 \nL 24.421875 12.015625 \nL 35.59375 54.6875 \nL 46.1875 54.6875 \nL 57.421875 12.015625 \nL 68.609375 54.6875 \nL 77.59375 54.6875 \nL 63.28125 0 \nL 52.6875 0 \nL 40.921875 44.828125 \nL 29.109375 0 \nL 18.5 0 \nz\n\" id=\"DejaVuSans-119\"/>\n       <path d=\"M 9.71875 75.984375 \nL 18.703125 75.984375 \nL 18.703125 46.578125 \nL 24.8125 50.984375 \nL 28.515625 45.796875 \nL 18.703125 38.921875 \nL 18.703125 0 \nL 9.71875 0 \nL 9.71875 32.515625 \nL 3.71875 28.21875 \nL 0.09375 33.40625 \nL 9.71875 40.28125 \nz\n\" id=\"DejaVuSans-322\"/>\n       <path d=\"M 34.28125 27.484375 \nQ 23.390625 27.484375 19.1875 25 \nQ 14.984375 22.515625 14.984375 16.5 \nQ 14.984375 11.71875 18.140625 8.90625 \nQ 21.296875 6.109375 26.703125 6.109375 \nQ 34.1875 6.109375 38.703125 11.40625 \nQ 43.21875 16.703125 43.21875 25.484375 \nL 43.21875 27.484375 \nz\nM 52.203125 31.203125 \nL 52.203125 0 \nL 43.21875 0 \nL 43.21875 8.296875 \nQ 40.140625 3.328125 35.546875 0.953125 \nQ 30.953125 -1.421875 24.3125 -1.421875 \nQ 15.921875 -1.421875 10.953125 3.296875 \nQ 6 8.015625 6 15.921875 \nQ 6 25.140625 12.171875 29.828125 \nQ 18.359375 34.515625 30.609375 34.515625 \nL 43.21875 34.515625 \nL 43.21875 35.40625 \nQ 43.21875 41.609375 39.140625 45 \nQ 35.0625 48.390625 27.6875 48.390625 \nQ 23 48.390625 18.546875 47.265625 \nQ 14.109375 46.140625 10.015625 43.890625 \nL 10.015625 52.203125 \nQ 14.9375 54.109375 19.578125 55.046875 \nQ 24.21875 56 28.609375 56 \nQ 40.484375 56 46.34375 49.84375 \nQ 52.203125 43.703125 52.203125 31.203125 \nz\n\" id=\"DejaVuSans-97\"/>\n       <path d=\"M 54.890625 33.015625 \nL 54.890625 0 \nL 45.90625 0 \nL 45.90625 32.71875 \nQ 45.90625 40.484375 42.875 44.328125 \nQ 39.84375 48.1875 33.796875 48.1875 \nQ 26.515625 48.1875 22.3125 43.546875 \nQ 18.109375 38.921875 18.109375 30.90625 \nL 18.109375 0 \nL 9.078125 0 \nL 9.078125 75.984375 \nL 18.109375 75.984375 \nL 18.109375 46.1875 \nQ 21.34375 51.125 25.703125 53.5625 \nQ 30.078125 56 35.796875 56 \nQ 45.21875 56 50.046875 50.171875 \nQ 54.890625 44.34375 54.890625 33.015625 \nz\n\" id=\"DejaVuSans-104\"/>\n       <path d=\"M 12.40625 8.296875 \nL 28.515625 8.296875 \nL 28.515625 63.921875 \nL 10.984375 60.40625 \nL 10.984375 69.390625 \nL 28.421875 72.90625 \nL 38.28125 72.90625 \nL 38.28125 8.296875 \nL 54.390625 8.296875 \nL 54.390625 0 \nL 12.40625 0 \nz\n\" id=\"DejaVuSans-49\"/>\n       <path d=\"M 18.3125 70.21875 \nL 18.3125 54.6875 \nL 36.8125 54.6875 \nL 36.8125 47.703125 \nL 18.3125 47.703125 \nL 18.3125 18.015625 \nQ 18.3125 11.328125 20.140625 9.421875 \nQ 21.96875 7.515625 27.59375 7.515625 \nL 36.8125 7.515625 \nL 36.8125 0 \nL 27.59375 0 \nQ 17.1875 0 13.234375 3.875 \nQ 9.28125 7.765625 9.28125 18.015625 \nL 9.28125 47.703125 \nL 2.6875 47.703125 \nL 2.6875 54.6875 \nL 9.28125 54.6875 \nL 9.28125 70.21875 \nz\n\" id=\"DejaVuSans-116\"/>\n       <path d=\"M 52 44.1875 \nQ 55.375 50.25 60.0625 53.125 \nQ 64.75 56 71.09375 56 \nQ 79.640625 56 84.28125 50.015625 \nQ 88.921875 44.046875 88.921875 33.015625 \nL 88.921875 0 \nL 79.890625 0 \nL 79.890625 32.71875 \nQ 79.890625 40.578125 77.09375 44.375 \nQ 74.3125 48.1875 68.609375 48.1875 \nQ 61.625 48.1875 57.5625 43.546875 \nQ 53.515625 38.921875 53.515625 30.90625 \nL 53.515625 0 \nL 44.484375 0 \nL 44.484375 32.71875 \nQ 44.484375 40.625 41.703125 44.40625 \nQ 38.921875 48.1875 33.109375 48.1875 \nQ 26.21875 48.1875 22.15625 43.53125 \nQ 18.109375 38.875 18.109375 30.90625 \nL 18.109375 0 \nL 9.078125 0 \nL 9.078125 54.6875 \nL 18.109375 54.6875 \nL 18.109375 46.1875 \nQ 21.1875 51.21875 25.484375 53.609375 \nQ 29.78125 56 35.6875 56 \nQ 41.65625 56 45.828125 52.96875 \nQ 50 49.953125 52 44.1875 \nz\n\" id=\"DejaVuSans-109\"/>\n       <path d=\"M 9.078125 75.984375 \nL 18.109375 75.984375 \nL 18.109375 31.109375 \nL 44.921875 54.6875 \nL 56.390625 54.6875 \nL 27.390625 29.109375 \nL 57.625 0 \nL 45.90625 0 \nL 18.109375 26.703125 \nL 18.109375 0 \nL 9.078125 0 \nz\n\" id=\"DejaVuSans-107\"/>\n       <path d=\"M 35.015625 80.328125 \nL 44.734375 80.328125 \nL 28.8125 61.96875 \nL 21.34375 61.96875 \nz\nM 54.890625 33.015625 \nL 54.890625 0 \nL 45.90625 0 \nL 45.90625 32.71875 \nQ 45.90625 40.484375 42.875 44.328125 \nQ 39.84375 48.1875 33.796875 48.1875 \nQ 26.515625 48.1875 22.3125 43.546875 \nQ 18.109375 38.921875 18.109375 30.90625 \nL 18.109375 0 \nL 9.078125 0 \nL 9.078125 54.6875 \nL 18.109375 54.6875 \nL 18.109375 46.1875 \nQ 21.34375 51.125 25.703125 53.5625 \nQ 30.078125 56 35.796875 56 \nQ 45.21875 56 50.046875 50.171875 \nQ 54.890625 44.34375 54.890625 33.015625 \nz\n\" id=\"DejaVuSans-324\"/>\n       <path d=\"M 30.609375 48.390625 \nQ 23.390625 48.390625 19.1875 42.75 \nQ 14.984375 37.109375 14.984375 27.296875 \nQ 14.984375 17.484375 19.15625 11.84375 \nQ 23.34375 6.203125 30.609375 6.203125 \nQ 37.796875 6.203125 41.984375 11.859375 \nQ 46.1875 17.53125 46.1875 27.296875 \nQ 46.1875 37.015625 41.984375 42.703125 \nQ 37.796875 48.390625 30.609375 48.390625 \nz\nM 30.609375 56 \nQ 42.328125 56 49.015625 48.375 \nQ 55.71875 40.765625 55.71875 27.296875 \nQ 55.71875 13.875 49.015625 6.21875 \nQ 42.328125 -1.421875 30.609375 -1.421875 \nQ 18.84375 -1.421875 12.171875 6.21875 \nQ 5.515625 13.875 5.515625 27.296875 \nQ 5.515625 40.765625 12.171875 48.375 \nQ 18.84375 56 30.609375 56 \nz\nM 37.40625 79.984375 \nL 47.125 79.984375 \nL 31.203125 61.625 \nL 23.734375 61.625 \nz\n\" id=\"DejaVuSans-243\"/>\n      </defs>\n      <use xlink:href=\"#DejaVuSans-90\"/>\n      <use x=\"68.505859\" xlink:href=\"#DejaVuSans-103\"/>\n      <use x=\"131.982422\" xlink:href=\"#DejaVuSans-111\"/>\n      <use x=\"193.164062\" xlink:href=\"#DejaVuSans-110\"/>\n      <use x=\"256.542969\" xlink:href=\"#DejaVuSans-121\"/>\n      <use x=\"315.722656\" xlink:href=\"#DejaVuSans-32\"/>\n      <use x=\"347.509766\" xlink:href=\"#DejaVuSans-110\"/>\n      <use x=\"410.888672\" xlink:href=\"#DejaVuSans-105\"/>\n      <use x=\"438.671875\" xlink:href=\"#DejaVuSans-101\"/>\n      <use x=\"500.195312\" xlink:href=\"#DejaVuSans-32\"/>\n      <use x=\"531.982422\" xlink:href=\"#DejaVuSans-119\"/>\n      <use x=\"613.769531\" xlink:href=\"#DejaVuSans-32\"/>\n      <use x=\"645.556641\" xlink:href=\"#DejaVuSans-112\"/>\n      <use x=\"709.033203\" xlink:href=\"#DejaVuSans-101\"/>\n      <use x=\"770.556641\" xlink:href=\"#DejaVuSans-322\"/>\n      <use x=\"798.974609\" xlink:href=\"#DejaVuSans-110\"/>\n      <use x=\"862.353516\" xlink:href=\"#DejaVuSans-105\"/>\n      <use x=\"890.136719\" xlink:href=\"#DejaVuSans-32\"/>\n      <use x=\"921.923828\" xlink:href=\"#DejaVuSans-122\"/>\n      <use x=\"974.414062\" xlink:href=\"#DejaVuSans-97\"/>\n      <use x=\"1035.693359\" xlink:href=\"#DejaVuSans-115\"/>\n      <use x=\"1087.792969\" xlink:href=\"#DejaVuSans-122\"/>\n      <use x=\"1140.283203\" xlink:href=\"#DejaVuSans-99\"/>\n      <use x=\"1195.263672\" xlink:href=\"#DejaVuSans-122\"/>\n      <use x=\"1247.753906\" xlink:href=\"#DejaVuSans-101\"/>\n      <use x=\"1309.277344\" xlink:href=\"#DejaVuSans-112\"/>\n      <use x=\"1372.753906\" xlink:href=\"#DejaVuSans-105\"/>\n      <use x=\"1400.537109\" xlink:href=\"#DejaVuSans-111\"/>\n      <use x=\"1461.71875\" xlink:href=\"#DejaVuSans-110\"/>\n      <use x=\"1525.097656\" xlink:href=\"#DejaVuSans-121\"/>\n      <use x=\"1584.277344\" xlink:href=\"#DejaVuSans-99\"/>\n      <use x=\"1639.257812\" xlink:href=\"#DejaVuSans-104\"/>\n      <use x=\"1702.636719\" xlink:href=\"#DejaVuSans-32\"/>\n      <use x=\"1734.423828\" xlink:href=\"#DejaVuSans-110\"/>\n      <use x=\"1797.802734\" xlink:href=\"#DejaVuSans-97\"/>\n      <use x=\"1859.082031\" xlink:href=\"#DejaVuSans-32\"/>\n      <use x=\"1890.869141\" xlink:href=\"#DejaVuSans-49\"/>\n      <use x=\"1954.492188\" xlink:href=\"#DejaVuSans-48\"/>\n      <use x=\"2018.115234\" xlink:href=\"#DejaVuSans-48\"/>\n      <use x=\"2081.738281\" xlink:href=\"#DejaVuSans-32\"/>\n      <use x=\"2113.525391\" xlink:href=\"#DejaVuSans-116\"/>\n      <use x=\"2152.734375\" xlink:href=\"#DejaVuSans-121\"/>\n      <use x=\"2211.914062\" xlink:href=\"#DejaVuSans-115\"/>\n      <use x=\"2264.013672\" xlink:href=\"#DejaVuSans-46\"/>\n      <use x=\"2295.800781\" xlink:href=\"#DejaVuSans-32\"/>\n      <use x=\"2327.587891\" xlink:href=\"#DejaVuSans-109\"/>\n      <use x=\"2425\" xlink:href=\"#DejaVuSans-105\"/>\n      <use x=\"2452.783203\" xlink:href=\"#DejaVuSans-101\"/>\n      <use x=\"2514.306641\" xlink:href=\"#DejaVuSans-115\"/>\n      <use x=\"2566.40625\" xlink:href=\"#DejaVuSans-122\"/>\n      <use x=\"2618.896484\" xlink:href=\"#DejaVuSans-107\"/>\n      <use x=\"2675.056641\" xlink:href=\"#DejaVuSans-97\"/>\n      <use x=\"2736.335938\" xlink:href=\"#DejaVuSans-324\"/>\n      <use x=\"2799.714844\" xlink:href=\"#DejaVuSans-99\"/>\n      <use x=\"2854.695312\" xlink:href=\"#DejaVuSans-243\"/>\n      <use x=\"2915.876953\" xlink:href=\"#DejaVuSans-119\"/>\n     </g>\n    </g>\n   </g>\n   <g id=\"patch_3\">\n    <path d=\"M 41.0375 387.72 \nL 41.0375 7.2 \n\" style=\"fill:none;stroke:#000000;stroke-linecap:square;stroke-linejoin:miter;stroke-width:0.8;\"/>\n   </g>\n   <g id=\"patch_4\">\n    <path d=\"M 431.6375 387.72 \nL 431.6375 7.2 \n\" style=\"fill:none;stroke:#000000;stroke-linecap:square;stroke-linejoin:miter;stroke-width:0.8;\"/>\n   </g>\n   <g id=\"patch_5\">\n    <path d=\"M 41.0375 387.72 \nL 431.6375 387.72 \n\" style=\"fill:none;stroke:#000000;stroke-linecap:square;stroke-linejoin:miter;stroke-width:0.8;\"/>\n   </g>\n   <g id=\"patch_6\">\n    <path d=\"M 41.0375 7.2 \nL 431.6375 7.2 \n\" style=\"fill:none;stroke:#000000;stroke-linecap:square;stroke-linejoin:miter;stroke-width:0.8;\"/>\n   </g>\n   <g id=\"text_18\">\n    <!-- Lubelskie -->\n    <g transform=\"translate(199.671275 24.496364)scale(0.07 -0.07)\">\n     <defs>\n      <path d=\"M 9.8125 72.90625 \nL 19.671875 72.90625 \nL 19.671875 8.296875 \nL 55.171875 8.296875 \nL 55.171875 0 \nL 9.8125 0 \nz\n\" id=\"DejaVuSans-76\"/>\n      <path d=\"M 8.5 21.578125 \nL 8.5 54.6875 \nL 17.484375 54.6875 \nL 17.484375 21.921875 \nQ 17.484375 14.15625 20.5 10.265625 \nQ 23.53125 6.390625 29.59375 6.390625 \nQ 36.859375 6.390625 41.078125 11.03125 \nQ 45.3125 15.671875 45.3125 23.6875 \nL 45.3125 54.6875 \nL 54.296875 54.6875 \nL 54.296875 0 \nL 45.3125 0 \nL 45.3125 8.40625 \nQ 42.046875 3.421875 37.71875 1 \nQ 33.40625 -1.421875 27.6875 -1.421875 \nQ 18.265625 -1.421875 13.375 4.4375 \nQ 8.5 10.296875 8.5 21.578125 \nz\nM 31.109375 56 \nz\n\" id=\"DejaVuSans-117\"/>\n      <path d=\"M 48.6875 27.296875 \nQ 48.6875 37.203125 44.609375 42.84375 \nQ 40.53125 48.484375 33.40625 48.484375 \nQ 26.265625 48.484375 22.1875 42.84375 \nQ 18.109375 37.203125 18.109375 27.296875 \nQ 18.109375 17.390625 22.1875 11.75 \nQ 26.265625 6.109375 33.40625 6.109375 \nQ 40.53125 6.109375 44.609375 11.75 \nQ 48.6875 17.390625 48.6875 27.296875 \nz\nM 18.109375 46.390625 \nQ 20.953125 51.265625 25.265625 53.625 \nQ 29.59375 56 35.59375 56 \nQ 45.5625 56 51.78125 48.09375 \nQ 58.015625 40.1875 58.015625 27.296875 \nQ 58.015625 14.40625 51.78125 6.484375 \nQ 45.5625 -1.421875 35.59375 -1.421875 \nQ 29.59375 -1.421875 25.265625 0.953125 \nQ 20.953125 3.328125 18.109375 8.203125 \nL 18.109375 0 \nL 9.078125 0 \nL 9.078125 75.984375 \nL 18.109375 75.984375 \nz\n\" id=\"DejaVuSans-98\"/>\n      <path d=\"M 9.421875 75.984375 \nL 18.40625 75.984375 \nL 18.40625 0 \nL 9.421875 0 \nz\n\" id=\"DejaVuSans-108\"/>\n     </defs>\n     <use xlink:href=\"#DejaVuSans-76\"/>\n     <use x=\"53.962891\" xlink:href=\"#DejaVuSans-117\"/>\n     <use x=\"117.341797\" xlink:href=\"#DejaVuSans-98\"/>\n     <use x=\"180.818359\" xlink:href=\"#DejaVuSans-101\"/>\n     <use x=\"242.341797\" xlink:href=\"#DejaVuSans-108\"/>\n     <use x=\"270.125\" xlink:href=\"#DejaVuSans-115\"/>\n     <use x=\"322.224609\" xlink:href=\"#DejaVuSans-107\"/>\n     <use x=\"380.134766\" xlink:href=\"#DejaVuSans-105\"/>\n     <use x=\"407.917969\" xlink:href=\"#DejaVuSans-101\"/>\n    </g>\n   </g>\n   <g id=\"text_19\">\n    <!-- Podlaskie -->\n    <g transform=\"translate(148.837847 104.419772)scale(0.07 -0.07)\">\n     <defs>\n      <path d=\"M 19.671875 64.796875 \nL 19.671875 37.40625 \nL 32.078125 37.40625 \nQ 38.96875 37.40625 42.71875 40.96875 \nQ 46.484375 44.53125 46.484375 51.125 \nQ 46.484375 57.671875 42.71875 61.234375 \nQ 38.96875 64.796875 32.078125 64.796875 \nz\nM 9.8125 72.90625 \nL 32.078125 72.90625 \nQ 44.34375 72.90625 50.609375 67.359375 \nQ 56.890625 61.8125 56.890625 51.125 \nQ 56.890625 40.328125 50.609375 34.8125 \nQ 44.34375 29.296875 32.078125 29.296875 \nL 19.671875 29.296875 \nL 19.671875 0 \nL 9.8125 0 \nz\n\" id=\"DejaVuSans-80\"/>\n      <path d=\"M 45.40625 46.390625 \nL 45.40625 75.984375 \nL 54.390625 75.984375 \nL 54.390625 0 \nL 45.40625 0 \nL 45.40625 8.203125 \nQ 42.578125 3.328125 38.25 0.953125 \nQ 33.9375 -1.421875 27.875 -1.421875 \nQ 17.96875 -1.421875 11.734375 6.484375 \nQ 5.515625 14.40625 5.515625 27.296875 \nQ 5.515625 40.1875 11.734375 48.09375 \nQ 17.96875 56 27.875 56 \nQ 33.9375 56 38.25 53.625 \nQ 42.578125 51.265625 45.40625 46.390625 \nz\nM 14.796875 27.296875 \nQ 14.796875 17.390625 18.875 11.75 \nQ 22.953125 6.109375 30.078125 6.109375 \nQ 37.203125 6.109375 41.296875 11.75 \nQ 45.40625 17.390625 45.40625 27.296875 \nQ 45.40625 37.203125 41.296875 42.84375 \nQ 37.203125 48.484375 30.078125 48.484375 \nQ 22.953125 48.484375 18.875 42.84375 \nQ 14.796875 37.203125 14.796875 27.296875 \nz\n\" id=\"DejaVuSans-100\"/>\n     </defs>\n     <use xlink:href=\"#DejaVuSans-80\"/>\n     <use x=\"56.677734\" xlink:href=\"#DejaVuSans-111\"/>\n     <use x=\"117.859375\" xlink:href=\"#DejaVuSans-100\"/>\n     <use x=\"181.335938\" xlink:href=\"#DejaVuSans-108\"/>\n     <use x=\"209.119141\" xlink:href=\"#DejaVuSans-97\"/>\n     <use x=\"270.398438\" xlink:href=\"#DejaVuSans-115\"/>\n     <use x=\"322.498047\" xlink:href=\"#DejaVuSans-107\"/>\n     <use x=\"380.408203\" xlink:href=\"#DejaVuSans-105\"/>\n     <use x=\"408.191406\" xlink:href=\"#DejaVuSans-101\"/>\n    </g>\n   </g>\n   <g id=\"text_20\">\n    <!-- Podkarpackie -->\n    <g transform=\"translate(62.568036 235.003695)scale(0.07 -0.07)\">\n     <defs>\n      <path d=\"M 41.109375 46.296875 \nQ 39.59375 47.171875 37.8125 47.578125 \nQ 36.03125 48 33.890625 48 \nQ 26.265625 48 22.1875 43.046875 \nQ 18.109375 38.09375 18.109375 28.8125 \nL 18.109375 0 \nL 9.078125 0 \nL 9.078125 54.6875 \nL 18.109375 54.6875 \nL 18.109375 46.1875 \nQ 20.953125 51.171875 25.484375 53.578125 \nQ 30.03125 56 36.53125 56 \nQ 37.453125 56 38.578125 55.875 \nQ 39.703125 55.765625 41.0625 55.515625 \nz\n\" id=\"DejaVuSans-114\"/>\n     </defs>\n     <use xlink:href=\"#DejaVuSans-80\"/>\n     <use x=\"56.677734\" xlink:href=\"#DejaVuSans-111\"/>\n     <use x=\"117.859375\" xlink:href=\"#DejaVuSans-100\"/>\n     <use x=\"181.335938\" xlink:href=\"#DejaVuSans-107\"/>\n     <use x=\"237.496094\" xlink:href=\"#DejaVuSans-97\"/>\n     <use x=\"298.775391\" xlink:href=\"#DejaVuSans-114\"/>\n     <use x=\"339.888672\" xlink:href=\"#DejaVuSans-112\"/>\n     <use x=\"403.365234\" xlink:href=\"#DejaVuSans-97\"/>\n     <use x=\"464.644531\" xlink:href=\"#DejaVuSans-99\"/>\n     <use x=\"519.625\" xlink:href=\"#DejaVuSans-107\"/>\n     <use x=\"577.535156\" xlink:href=\"#DejaVuSans-105\"/>\n     <use x=\"605.318359\" xlink:href=\"#DejaVuSans-101\"/>\n    </g>\n   </g>\n   <g id=\"text_21\">\n    <!-- Opolskie -->\n    <g transform=\"translate(226.931223 259.393552)scale(0.07 -0.07)\">\n     <defs>\n      <path d=\"M 39.40625 66.21875 \nQ 28.65625 66.21875 22.328125 58.203125 \nQ 16.015625 50.203125 16.015625 36.375 \nQ 16.015625 22.609375 22.328125 14.59375 \nQ 28.65625 6.59375 39.40625 6.59375 \nQ 50.140625 6.59375 56.421875 14.59375 \nQ 62.703125 22.609375 62.703125 36.375 \nQ 62.703125 50.203125 56.421875 58.203125 \nQ 50.140625 66.21875 39.40625 66.21875 \nz\nM 39.40625 74.21875 \nQ 54.734375 74.21875 63.90625 63.9375 \nQ 73.09375 53.65625 73.09375 36.375 \nQ 73.09375 19.140625 63.90625 8.859375 \nQ 54.734375 -1.421875 39.40625 -1.421875 \nQ 24.03125 -1.421875 14.8125 8.828125 \nQ 5.609375 19.09375 5.609375 36.375 \nQ 5.609375 53.65625 14.8125 63.9375 \nQ 24.03125 74.21875 39.40625 74.21875 \nz\n\" id=\"DejaVuSans-79\"/>\n     </defs>\n     <use xlink:href=\"#DejaVuSans-79\"/>\n     <use x=\"78.710938\" xlink:href=\"#DejaVuSans-112\"/>\n     <use x=\"142.1875\" xlink:href=\"#DejaVuSans-111\"/>\n     <use x=\"203.369141\" xlink:href=\"#DejaVuSans-108\"/>\n     <use x=\"231.152344\" xlink:href=\"#DejaVuSans-115\"/>\n     <use x=\"283.251953\" xlink:href=\"#DejaVuSans-107\"/>\n     <use x=\"341.162109\" xlink:href=\"#DejaVuSans-105\"/>\n     <use x=\"368.945312\" xlink:href=\"#DejaVuSans-101\"/>\n    </g>\n   </g>\n   <g id=\"text_22\">\n    <!-- Łódzkie -->\n    <g transform=\"translate(350.51151 284.753668)scale(0.07 -0.07)\">\n     <defs>\n      <path d=\"M 10.296875 72.90625 \nL 20.21875 72.90625 \nL 20.21875 42.828125 \nL 35.5 53.515625 \nL 39.40625 48.09375 \nL 20.21875 34.71875 \nL 20.21875 8.296875 \nL 55.71875 8.296875 \nL 55.71875 0 \nL 10.296875 0 \nL 10.296875 27.875 \nL 3.078125 22.703125 \nL -0.6875 28.078125 \nL 10.296875 35.796875 \nz\n\" id=\"DejaVuSans-321\"/>\n     </defs>\n     <use xlink:href=\"#DejaVuSans-321\"/>\n     <use x=\"56.201172\" xlink:href=\"#DejaVuSans-243\"/>\n     <use x=\"117.382812\" xlink:href=\"#DejaVuSans-100\"/>\n     <use x=\"180.859375\" xlink:href=\"#DejaVuSans-122\"/>\n     <use x=\"233.349609\" xlink:href=\"#DejaVuSans-107\"/>\n     <use x=\"291.259766\" xlink:href=\"#DejaVuSans-105\"/>\n     <use x=\"319.042969\" xlink:href=\"#DejaVuSans-101\"/>\n    </g>\n   </g>\n   <g id=\"text_23\">\n    <!-- Świętokrzyskie -->\n    <g transform=\"translate(281.408669 286.434582)scale(0.07 -0.07)\">\n     <defs>\n      <path d=\"M 34.96875 92.78125 \nL 44 92.78125 \nL 32.859375 79.890625 \nL 25.390625 79.890625 \nz\nM 53.515625 70.515625 \nL 53.515625 60.890625 \nQ 47.90625 63.578125 42.921875 64.890625 \nQ 37.9375 66.21875 33.296875 66.21875 \nQ 25.25 66.21875 20.875 63.09375 \nQ 16.5 59.96875 16.5 54.203125 \nQ 16.5 49.359375 19.40625 46.890625 \nQ 22.3125 44.4375 30.421875 42.921875 \nL 36.375 41.703125 \nQ 47.40625 39.59375 52.65625 34.296875 \nQ 57.90625 29 57.90625 20.125 \nQ 57.90625 9.515625 50.796875 4.046875 \nQ 43.703125 -1.421875 29.984375 -1.421875 \nQ 24.8125 -1.421875 18.96875 -0.25 \nQ 13.140625 0.921875 6.890625 3.21875 \nL 6.890625 13.375 \nQ 12.890625 10.015625 18.65625 8.296875 \nQ 24.421875 6.59375 29.984375 6.59375 \nQ 38.421875 6.59375 43.015625 9.90625 \nQ 47.609375 13.234375 47.609375 19.390625 \nQ 47.609375 24.75 44.3125 27.78125 \nQ 41.015625 30.8125 33.5 32.328125 \nL 27.484375 33.5 \nQ 16.453125 35.6875 11.515625 40.375 \nQ 6.59375 45.0625 6.59375 53.421875 \nQ 6.59375 63.09375 13.40625 68.65625 \nQ 20.21875 74.21875 32.171875 74.21875 \nQ 37.3125 74.21875 42.625 73.28125 \nQ 47.953125 72.359375 53.515625 70.515625 \nz\n\" id=\"DejaVuSans-346\"/>\n      <path d=\"M 56.203125 29.59375 \nL 56.203125 25.203125 \nL 14.890625 25.203125 \nQ 15.484375 15.921875 20.484375 11.0625 \nQ 25.484375 6.203125 34.421875 6.203125 \nQ 39.59375 6.203125 44.453125 7.46875 \nQ 49.3125 8.734375 54.109375 11.28125 \nL 54.109375 2.78125 \nQ 49.265625 0.734375 44.1875 -0.34375 \nQ 39.109375 -1.421875 33.890625 -1.421875 \nQ 20.796875 -1.421875 13.15625 6.1875 \nQ 5.515625 13.8125 5.515625 26.8125 \nQ 5.515625 40.234375 12.765625 48.109375 \nQ 20.015625 56 32.328125 56 \nQ 43.359375 56 49.78125 48.890625 \nQ 56.203125 41.796875 56.203125 29.59375 \nz\nM 47.21875 32.234375 \nQ 47.125 39.59375 43.09375 43.984375 \nQ 39.0625 48.390625 32.421875 48.390625 \nQ 24.90625 48.390625 20.390625 44.140625 \nQ 15.875 39.890625 15.1875 32.171875 \nz\nM 39.84375 0 \nL 45.65625 0 \nQ 43.453125 -2.984375 42.40625 -5.125 \nQ 41.359375 -7.28125 41.359375 -8.796875 \nQ 41.359375 -11.03125 42.703125 -12.15625 \nQ 44.046875 -13.28125 46.6875 -13.28125 \nQ 48.25 -13.28125 49.75 -12.90625 \nQ 51.265625 -12.546875 52.78125 -11.8125 \nL 52.78125 -18.3125 \nQ 50.921875 -18.796875 49.265625 -19.03125 \nQ 47.609375 -19.28125 46.140625 -19.28125 \nQ 40.1875 -19.28125 37.375 -17.15625 \nQ 34.578125 -15.046875 34.578125 -10.5 \nQ 34.578125 -8.15625 35.859375 -5.59375 \nQ 37.15625 -3.03125 39.84375 0 \nz\n\" id=\"DejaVuSans-281\"/>\n     </defs>\n     <use xlink:href=\"#DejaVuSans-346\"/>\n     <use x=\"63.476562\" xlink:href=\"#DejaVuSans-119\"/>\n     <use x=\"145.263672\" xlink:href=\"#DejaVuSans-105\"/>\n     <use x=\"173.046875\" xlink:href=\"#DejaVuSans-281\"/>\n     <use x=\"234.570312\" xlink:href=\"#DejaVuSans-116\"/>\n     <use x=\"273.779297\" xlink:href=\"#DejaVuSans-111\"/>\n     <use x=\"334.960938\" xlink:href=\"#DejaVuSans-107\"/>\n     <use x=\"392.871094\" xlink:href=\"#DejaVuSans-114\"/>\n     <use x=\"433.984375\" xlink:href=\"#DejaVuSans-122\"/>\n     <use x=\"486.474609\" xlink:href=\"#DejaVuSans-121\"/>\n     <use x=\"545.654297\" xlink:href=\"#DejaVuSans-115\"/>\n     <use x=\"597.753906\" xlink:href=\"#DejaVuSans-107\"/>\n     <use x=\"655.664062\" xlink:href=\"#DejaVuSans-105\"/>\n     <use x=\"683.447266\" xlink:href=\"#DejaVuSans-101\"/>\n    </g>\n   </g>\n   <g id=\"text_24\">\n    <!-- Mazowieckie -->\n    <g transform=\"translate(417.658945 298.82613)scale(0.07 -0.07)\">\n     <defs>\n      <path d=\"M 9.8125 72.90625 \nL 24.515625 72.90625 \nL 43.109375 23.296875 \nL 61.8125 72.90625 \nL 76.515625 72.90625 \nL 76.515625 0 \nL 66.890625 0 \nL 66.890625 64.015625 \nL 48.09375 14.015625 \nL 38.1875 14.015625 \nL 19.390625 64.015625 \nL 19.390625 0 \nL 9.8125 0 \nz\n\" id=\"DejaVuSans-77\"/>\n     </defs>\n     <use xlink:href=\"#DejaVuSans-77\"/>\n     <use x=\"86.279297\" xlink:href=\"#DejaVuSans-97\"/>\n     <use x=\"147.558594\" xlink:href=\"#DejaVuSans-122\"/>\n     <use x=\"200.048828\" xlink:href=\"#DejaVuSans-111\"/>\n     <use x=\"261.230469\" xlink:href=\"#DejaVuSans-119\"/>\n     <use x=\"343.017578\" xlink:href=\"#DejaVuSans-105\"/>\n     <use x=\"370.800781\" xlink:href=\"#DejaVuSans-101\"/>\n     <use x=\"432.324219\" xlink:href=\"#DejaVuSans-99\"/>\n     <use x=\"487.304688\" xlink:href=\"#DejaVuSans-107\"/>\n     <use x=\"545.214844\" xlink:href=\"#DejaVuSans-105\"/>\n     <use x=\"572.998047\" xlink:href=\"#DejaVuSans-101\"/>\n    </g>\n   </g>\n   <g id=\"text_25\">\n    <!-- Warmińsko-Mazurskie -->\n    <g transform=\"translate(278.490286 299.261132)scale(0.07 -0.07)\">\n     <defs>\n      <path d=\"M 4.890625 31.390625 \nL 31.203125 31.390625 \nL 31.203125 23.390625 \nL 4.890625 23.390625 \nz\n\" id=\"DejaVuSans-45\"/>\n     </defs>\n     <use xlink:href=\"#DejaVuSans-87\"/>\n     <use x=\"92.501953\" xlink:href=\"#DejaVuSans-97\"/>\n     <use x=\"153.78125\" xlink:href=\"#DejaVuSans-114\"/>\n     <use x=\"193.144531\" xlink:href=\"#DejaVuSans-109\"/>\n     <use x=\"290.556641\" xlink:href=\"#DejaVuSans-105\"/>\n     <use x=\"318.339844\" xlink:href=\"#DejaVuSans-324\"/>\n     <use x=\"381.71875\" xlink:href=\"#DejaVuSans-115\"/>\n     <use x=\"433.818359\" xlink:href=\"#DejaVuSans-107\"/>\n     <use x=\"488.103516\" xlink:href=\"#DejaVuSans-111\"/>\n     <use x=\"551.160156\" xlink:href=\"#DejaVuSans-45\"/>\n     <use x=\"587.244141\" xlink:href=\"#DejaVuSans-77\"/>\n     <use x=\"673.523438\" xlink:href=\"#DejaVuSans-97\"/>\n     <use x=\"734.802734\" xlink:href=\"#DejaVuSans-122\"/>\n     <use x=\"787.292969\" xlink:href=\"#DejaVuSans-117\"/>\n     <use x=\"850.671875\" xlink:href=\"#DejaVuSans-114\"/>\n     <use x=\"891.785156\" xlink:href=\"#DejaVuSans-115\"/>\n     <use x=\"943.884766\" xlink:href=\"#DejaVuSans-107\"/>\n     <use x=\"1001.794922\" xlink:href=\"#DejaVuSans-105\"/>\n     <use x=\"1029.578125\" xlink:href=\"#DejaVuSans-101\"/>\n    </g>\n   </g>\n   <g id=\"text_26\">\n    <!-- Kujawsko-Pomorskie -->\n    <g transform=\"translate(358.696534 302.798625)scale(0.07 -0.07)\">\n     <defs>\n      <path d=\"M 9.8125 72.90625 \nL 19.671875 72.90625 \nL 19.671875 42.09375 \nL 52.390625 72.90625 \nL 65.09375 72.90625 \nL 28.90625 38.921875 \nL 67.671875 0 \nL 54.6875 0 \nL 19.671875 35.109375 \nL 19.671875 0 \nL 9.8125 0 \nz\n\" id=\"DejaVuSans-75\"/>\n      <path d=\"M 9.421875 54.6875 \nL 18.40625 54.6875 \nL 18.40625 -0.984375 \nQ 18.40625 -11.421875 14.421875 -16.109375 \nQ 10.453125 -20.796875 1.609375 -20.796875 \nL -1.8125 -20.796875 \nL -1.8125 -13.1875 \nL 0.59375 -13.1875 \nQ 5.71875 -13.1875 7.5625 -10.8125 \nQ 9.421875 -8.453125 9.421875 -0.984375 \nz\nM 9.421875 75.984375 \nL 18.40625 75.984375 \nL 18.40625 64.59375 \nL 9.421875 64.59375 \nz\n\" id=\"DejaVuSans-106\"/>\n     </defs>\n     <use xlink:href=\"#DejaVuSans-75\"/>\n     <use x=\"60.576172\" xlink:href=\"#DejaVuSans-117\"/>\n     <use x=\"123.955078\" xlink:href=\"#DejaVuSans-106\"/>\n     <use x=\"151.738281\" xlink:href=\"#DejaVuSans-97\"/>\n     <use x=\"213.017578\" xlink:href=\"#DejaVuSans-119\"/>\n     <use x=\"294.804688\" xlink:href=\"#DejaVuSans-115\"/>\n     <use x=\"346.904297\" xlink:href=\"#DejaVuSans-107\"/>\n     <use x=\"401.189453\" xlink:href=\"#DejaVuSans-111\"/>\n     <use x=\"464.246094\" xlink:href=\"#DejaVuSans-45\"/>\n     <use x=\"500.330078\" xlink:href=\"#DejaVuSans-80\"/>\n     <use x=\"557.007812\" xlink:href=\"#DejaVuSans-111\"/>\n     <use x=\"618.189453\" xlink:href=\"#DejaVuSans-109\"/>\n     <use x=\"715.601562\" xlink:href=\"#DejaVuSans-111\"/>\n     <use x=\"776.783203\" xlink:href=\"#DejaVuSans-114\"/>\n     <use x=\"817.896484\" xlink:href=\"#DejaVuSans-115\"/>\n     <use x=\"869.996094\" xlink:href=\"#DejaVuSans-107\"/>\n     <use x=\"927.90625\" xlink:href=\"#DejaVuSans-105\"/>\n     <use x=\"955.689453\" xlink:href=\"#DejaVuSans-101\"/>\n    </g>\n   </g>\n   <g id=\"text_27\">\n    <!-- Małopolskie -->\n    <g transform=\"translate(285.711538 314.333231)scale(0.07 -0.07)\">\n     <use xlink:href=\"#DejaVuSans-77\"/>\n     <use x=\"86.279297\" xlink:href=\"#DejaVuSans-97\"/>\n     <use x=\"147.558594\" xlink:href=\"#DejaVuSans-322\"/>\n     <use x=\"175.976562\" xlink:href=\"#DejaVuSans-111\"/>\n     <use x=\"237.158203\" xlink:href=\"#DejaVuSans-112\"/>\n     <use x=\"300.634766\" xlink:href=\"#DejaVuSans-111\"/>\n     <use x=\"361.816406\" xlink:href=\"#DejaVuSans-108\"/>\n     <use x=\"389.599609\" xlink:href=\"#DejaVuSans-115\"/>\n     <use x=\"441.699219\" xlink:href=\"#DejaVuSans-107\"/>\n     <use x=\"499.609375\" xlink:href=\"#DejaVuSans-105\"/>\n     <use x=\"527.392578\" xlink:href=\"#DejaVuSans-101\"/>\n    </g>\n   </g>\n   <g id=\"text_28\">\n    <!-- Zachodniopomorskie -->\n    <g transform=\"translate(355.54999 328.162543)scale(0.07 -0.07)\">\n     <use xlink:href=\"#DejaVuSans-90\"/>\n     <use x=\"68.505859\" xlink:href=\"#DejaVuSans-97\"/>\n     <use x=\"129.785156\" xlink:href=\"#DejaVuSans-99\"/>\n     <use x=\"184.765625\" xlink:href=\"#DejaVuSans-104\"/>\n     <use x=\"248.144531\" xlink:href=\"#DejaVuSans-111\"/>\n     <use x=\"309.326172\" xlink:href=\"#DejaVuSans-100\"/>\n     <use x=\"372.802734\" xlink:href=\"#DejaVuSans-110\"/>\n     <use x=\"436.181641\" xlink:href=\"#DejaVuSans-105\"/>\n     <use x=\"463.964844\" xlink:href=\"#DejaVuSans-111\"/>\n     <use x=\"525.146484\" xlink:href=\"#DejaVuSans-112\"/>\n     <use x=\"588.623047\" xlink:href=\"#DejaVuSans-111\"/>\n     <use x=\"649.804688\" xlink:href=\"#DejaVuSans-109\"/>\n     <use x=\"747.216797\" xlink:href=\"#DejaVuSans-111\"/>\n     <use x=\"808.398438\" xlink:href=\"#DejaVuSans-114\"/>\n     <use x=\"849.511719\" xlink:href=\"#DejaVuSans-115\"/>\n     <use x=\"901.611328\" xlink:href=\"#DejaVuSans-107\"/>\n     <use x=\"959.521484\" xlink:href=\"#DejaVuSans-105\"/>\n     <use x=\"987.304688\" xlink:href=\"#DejaVuSans-101\"/>\n    </g>\n   </g>\n   <g id=\"text_29\">\n    <!-- Śląskie -->\n    <g transform=\"translate(341.876827 343.19194)scale(0.07 -0.07)\">\n     <defs>\n      <path d=\"M 34.28125 27.484375 \nQ 23.390625 27.484375 19.1875 25 \nQ 14.984375 22.515625 14.984375 16.5 \nQ 14.984375 11.71875 18.140625 8.90625 \nQ 21.296875 6.109375 26.703125 6.109375 \nQ 34.1875 6.109375 38.703125 11.40625 \nQ 43.21875 16.703125 43.21875 25.484375 \nL 43.21875 27.484375 \nz\nM 52.203125 31.203125 \nL 52.203125 0 \nL 43.21875 0 \nL 43.21875 8.296875 \nQ 40.140625 3.328125 35.546875 0.953125 \nQ 30.953125 -1.421875 24.3125 -1.421875 \nQ 15.921875 -1.421875 10.953125 3.296875 \nQ 6 8.015625 6 15.921875 \nQ 6 25.140625 12.171875 29.828125 \nQ 18.359375 34.515625 30.609375 34.515625 \nL 43.21875 34.515625 \nL 43.21875 35.40625 \nQ 43.21875 41.609375 39.140625 45 \nQ 35.0625 48.390625 27.6875 48.390625 \nQ 23 48.390625 18.546875 47.265625 \nQ 14.109375 46.140625 10.015625 43.890625 \nL 10.015625 52.203125 \nQ 14.9375 54.109375 19.578125 55.046875 \nQ 24.21875 56 28.609375 56 \nQ 40.484375 56 46.34375 49.84375 \nQ 52.203125 43.703125 52.203125 31.203125 \nz\nM 43.3125 0 \nL 49.125 0 \nQ 46.921875 -2.984375 45.875 -5.125 \nQ 44.828125 -7.28125 44.828125 -8.796875 \nQ 44.828125 -11.03125 46.171875 -12.15625 \nQ 47.515625 -13.28125 50.140625 -13.28125 \nQ 51.703125 -13.28125 53.21875 -12.90625 \nQ 54.734375 -12.546875 56.25 -11.8125 \nL 56.25 -18.3125 \nQ 54.390625 -18.796875 52.734375 -19.03125 \nQ 51.078125 -19.28125 49.609375 -19.28125 \nQ 43.65625 -19.28125 40.84375 -17.15625 \nQ 38.03125 -15.046875 38.03125 -10.5 \nQ 38.03125 -8.15625 39.328125 -5.59375 \nQ 40.625 -3.03125 43.3125 0 \nz\n\" id=\"DejaVuSans-261\"/>\n     </defs>\n     <use xlink:href=\"#DejaVuSans-346\"/>\n     <use x=\"63.476562\" xlink:href=\"#DejaVuSans-108\"/>\n     <use x=\"91.259766\" xlink:href=\"#DejaVuSans-261\"/>\n     <use x=\"152.539062\" xlink:href=\"#DejaVuSans-115\"/>\n     <use x=\"204.638672\" xlink:href=\"#DejaVuSans-107\"/>\n     <use x=\"262.548828\" xlink:href=\"#DejaVuSans-105\"/>\n     <use x=\"290.332031\" xlink:href=\"#DejaVuSans-101\"/>\n    </g>\n   </g>\n   <g id=\"text_30\">\n    <!-- Lubuskie -->\n    <g transform=\"translate(364.049206 348.626524)scale(0.07 -0.07)\">\n     <use xlink:href=\"#DejaVuSans-76\"/>\n     <use x=\"53.962891\" xlink:href=\"#DejaVuSans-117\"/>\n     <use x=\"117.341797\" xlink:href=\"#DejaVuSans-98\"/>\n     <use x=\"180.818359\" xlink:href=\"#DejaVuSans-117\"/>\n     <use x=\"244.197266\" xlink:href=\"#DejaVuSans-115\"/>\n     <use x=\"296.296875\" xlink:href=\"#DejaVuSans-107\"/>\n     <use x=\"354.207031\" xlink:href=\"#DejaVuSans-105\"/>\n     <use x=\"381.990234\" xlink:href=\"#DejaVuSans-101\"/>\n    </g>\n   </g>\n   <g id=\"text_31\">\n    <!-- Wielkopolskie -->\n    <g transform=\"translate(394.224544 360.779114)scale(0.07 -0.07)\">\n     <use xlink:href=\"#DejaVuSans-87\"/>\n     <use x=\"96.626953\" xlink:href=\"#DejaVuSans-105\"/>\n     <use x=\"124.410156\" xlink:href=\"#DejaVuSans-101\"/>\n     <use x=\"185.933594\" xlink:href=\"#DejaVuSans-108\"/>\n     <use x=\"213.716797\" xlink:href=\"#DejaVuSans-107\"/>\n     <use x=\"268.001953\" xlink:href=\"#DejaVuSans-111\"/>\n     <use x=\"329.183594\" xlink:href=\"#DejaVuSans-112\"/>\n     <use x=\"392.660156\" xlink:href=\"#DejaVuSans-111\"/>\n     <use x=\"453.841797\" xlink:href=\"#DejaVuSans-108\"/>\n     <use x=\"481.625\" xlink:href=\"#DejaVuSans-115\"/>\n     <use x=\"533.724609\" xlink:href=\"#DejaVuSans-107\"/>\n     <use x=\"591.634766\" xlink:href=\"#DejaVuSans-105\"/>\n     <use x=\"619.417969\" xlink:href=\"#DejaVuSans-101\"/>\n    </g>\n   </g>\n   <g id=\"text_32\">\n    <!-- Dolnośląskie -->\n    <g transform=\"translate(360.590179 363.128685)scale(0.07 -0.07)\">\n     <defs>\n      <path d=\"M 19.671875 64.796875 \nL 19.671875 8.109375 \nL 31.59375 8.109375 \nQ 46.6875 8.109375 53.6875 14.9375 \nQ 60.6875 21.78125 60.6875 36.53125 \nQ 60.6875 51.171875 53.6875 57.984375 \nQ 46.6875 64.796875 31.59375 64.796875 \nz\nM 9.8125 72.90625 \nL 30.078125 72.90625 \nQ 51.265625 72.90625 61.171875 64.09375 \nQ 71.09375 55.28125 71.09375 36.53125 \nQ 71.09375 17.671875 61.125 8.828125 \nQ 51.171875 0 30.078125 0 \nL 9.8125 0 \nz\n\" id=\"DejaVuSans-68\"/>\n      <path d=\"M 35.015625 80.328125 \nL 44.734375 80.328125 \nL 28.8125 61.96875 \nL 21.34375 61.96875 \nz\nM 44.28125 53.078125 \nL 44.28125 44.578125 \nQ 40.484375 46.53125 36.375 47.5 \nQ 32.28125 48.484375 27.875 48.484375 \nQ 21.1875 48.484375 17.84375 46.4375 \nQ 14.5 44.390625 14.5 40.28125 \nQ 14.5 37.15625 16.890625 35.375 \nQ 19.28125 33.59375 26.515625 31.984375 \nL 29.59375 31.296875 \nQ 39.15625 29.25 43.1875 25.515625 \nQ 47.21875 21.78125 47.21875 15.09375 \nQ 47.21875 7.46875 41.1875 3.015625 \nQ 35.15625 -1.421875 24.609375 -1.421875 \nQ 20.21875 -1.421875 15.453125 -0.5625 \nQ 10.6875 0.296875 5.421875 2 \nL 5.421875 11.28125 \nQ 10.40625 8.6875 15.234375 7.390625 \nQ 20.0625 6.109375 24.8125 6.109375 \nQ 31.15625 6.109375 34.5625 8.28125 \nQ 37.984375 10.453125 37.984375 14.40625 \nQ 37.984375 18.0625 35.515625 20.015625 \nQ 33.0625 21.96875 24.703125 23.78125 \nL 21.578125 24.515625 \nQ 13.234375 26.265625 9.515625 29.90625 \nQ 5.8125 33.546875 5.8125 39.890625 \nQ 5.8125 47.609375 11.28125 51.796875 \nQ 16.75 56 26.8125 56 \nQ 31.78125 56 36.171875 55.265625 \nQ 40.578125 54.546875 44.28125 53.078125 \nz\n\" id=\"DejaVuSans-347\"/>\n     </defs>\n     <use xlink:href=\"#DejaVuSans-68\"/>\n     <use x=\"77.001953\" xlink:href=\"#DejaVuSans-111\"/>\n     <use x=\"138.183594\" xlink:href=\"#DejaVuSans-108\"/>\n     <use x=\"165.966797\" xlink:href=\"#DejaVuSans-110\"/>\n     <use x=\"229.345703\" xlink:href=\"#DejaVuSans-111\"/>\n     <use x=\"290.527344\" xlink:href=\"#DejaVuSans-347\"/>\n     <use x=\"342.626953\" xlink:href=\"#DejaVuSans-108\"/>\n     <use x=\"370.410156\" xlink:href=\"#DejaVuSans-261\"/>\n     <use x=\"431.689453\" xlink:href=\"#DejaVuSans-115\"/>\n     <use x=\"483.789062\" xlink:href=\"#DejaVuSans-107\"/>\n     <use x=\"541.699219\" xlink:href=\"#DejaVuSans-105\"/>\n     <use x=\"569.482422\" xlink:href=\"#DejaVuSans-101\"/>\n    </g>\n   </g>\n   <g id=\"text_33\">\n    <!-- Pomorskie -->\n    <g transform=\"translate(367.479092 369.219916)scale(0.07 -0.07)\">\n     <use xlink:href=\"#DejaVuSans-80\"/>\n     <use x=\"56.677734\" xlink:href=\"#DejaVuSans-111\"/>\n     <use x=\"117.859375\" xlink:href=\"#DejaVuSans-109\"/>\n     <use x=\"215.271484\" xlink:href=\"#DejaVuSans-111\"/>\n     <use x=\"276.453125\" xlink:href=\"#DejaVuSans-114\"/>\n     <use x=\"317.566406\" xlink:href=\"#DejaVuSans-115\"/>\n     <use x=\"369.666016\" xlink:href=\"#DejaVuSans-107\"/>\n     <use x=\"427.576172\" xlink:href=\"#DejaVuSans-105\"/>\n     <use x=\"455.359375\" xlink:href=\"#DejaVuSans-101\"/>\n    </g>\n   </g>\n  </g>\n </g>\n <defs>\n  <clipPath id=\"pba7591df0d\">\n   <rect height=\"380.52\" width=\"390.6\" x=\"41.0375\" y=\"7.2\"/>\n  </clipPath>\n </defs>\n</svg>\n",
      "text/plain": [
       "<Figure size 504x504 with 1 Axes>"
      ]
     },
     "metadata": {
      "needs_background": "light"
     },
     "output_type": "display_data"
    }
   ],
   "source": [
    "\n",
    "nie = 'Zgony nie w pełni zaszczepionych na 100 tys. mieszkańców'\n",
    "tak = 'Zgony w pełni zaszczepionych na 100 tys. mieszkańców'\n",
    "vac = 'Wyszczepienie [%]'\n",
    "\n",
    "# sns.scatterplot(x=nie, y=vac, data=df);\n",
    "\n",
    "plt.figure(figsize=(7,7))\n",
    "scatter_text(vac,nie, 'Województwo',\n",
    "             data = df, \n",
    "             title = '', \n",
    "             xlabel = vac,\n",
    "             ylabel = nie)\n"
   ]
  },
  {
   "cell_type": "code",
   "execution_count": 28,
   "metadata": {},
   "outputs": [
    {
     "name": "stderr",
     "output_type": "stream",
     "text": [
      "/home/ochab/anaconda2/envs/python3.6/lib/python3.6/site-packages/seaborn/_decorators.py:43: FutureWarning:\n",
      "\n",
      "Pass the following variables as keyword args: x, y. From version 0.12, the only valid positional argument will be `data`, and passing other arguments without an explicit keyword will result in an error or misinterpretation.\n",
      "\n"
     ]
    },
    {
     "data": {
      "text/plain": [
       "<AxesSubplot:xlabel='Wyszczepienie [%]', ylabel='Zgony w pełni zaszczepionych na 100 tys. mieszkańców'>"
      ]
     },
     "execution_count": 28,
     "metadata": {},
     "output_type": "execute_result"
    },
    {
     "data": {
      "image/png": "[encoded data removed]",
      "image/svg+xml": "<?xml version=\"1.0\" encoding=\"utf-8\" standalone=\"no\"?>\n<!DOCTYPE svg PUBLIC \"-//W3C//DTD SVG 1.1//EN\"\n  \"http://www.w3.org/Graphics/SVG/1.1/DTD/svg11.dtd\">\n<!-- Created with matplotlib (https://matplotlib.org/) -->\n<svg height=\"425.27625pt\" version=\"1.1\" viewBox=\"0 0 469.276133 425.27625\" width=\"469.276133pt\" xmlns=\"http://www.w3.org/2000/svg\" xmlns:xlink=\"http://www.w3.org/1999/xlink\">\n <metadata>\n  <rdf:RDF xmlns:cc=\"http://creativecommons.org/ns#\" xmlns:dc=\"http://purl.org/dc/elements/1.1/\" xmlns:rdf=\"http://www.w3.org/1999/02/22-rdf-syntax-ns#\">\n   <cc:Work>\n    <dc:type rdf:resource=\"http://purl.org/dc/dcmitype/StillImage\"/>\n    <dc:date>2021-12-22T21:50:15.695388</dc:date>\n    <dc:format>image/svg+xml</dc:format>\n    <dc:creator>\n     <cc:Agent>\n      <dc:title>Matplotlib v3.3.4, https://matplotlib.org/</dc:title>\n     </cc:Agent>\n    </dc:creator>\n   </cc:Work>\n  </rdf:RDF>\n </metadata>\n <defs>\n  <style type=\"text/css\">*{stroke-linecap:butt;stroke-linejoin:round;}</style>\n </defs>\n <g id=\"figure_1\">\n  <g id=\"patch_1\">\n   <path d=\"M 0 425.27625 \nL 469.276133 425.27625 \nL 469.276133 0 \nL 0 0 \nz\n\" style=\"fill:none;\"/>\n  </g>\n  <g id=\"axes_1\">\n   <g id=\"patch_2\">\n    <path d=\"M 41.0375 387.72 \nL 431.6375 387.72 \nL 431.6375 7.2 \nL 41.0375 7.2 \nz\n\" style=\"fill:#ffffff;\"/>\n   </g>\n   <g id=\"PathCollection_1\">\n    <path clip-path=\"url(#p0df5327093)\" d=\"M 195.895284 26.617684 \nC 196.457864 26.617684 196.997479 26.394168 197.395284 25.996364 \nC 197.793088 25.598559 198.016604 25.058944 198.016604 24.496364 \nC 198.016604 23.933783 197.793088 23.394168 197.395284 22.996364 \nC 196.997479 22.598559 196.457864 22.375043 195.895284 22.375043 \nC 195.332703 22.375043 194.793088 22.598559 194.395284 22.996364 \nC 193.997479 23.394168 193.773963 23.933783 193.773963 24.496364 \nC 193.773963 25.058944 193.997479 25.598559 194.395284 25.996364 \nC 194.793088 26.394168 195.332703 26.617684 195.895284 26.617684 \nz\n\" style=\"fill:#1f77b4;stroke:#ffffff;stroke-width:0.339411;\"/>\n    <path clip-path=\"url(#p0df5327093)\" d=\"M 145.061856 121.885496 \nC 145.624437 121.885496 146.164052 121.66198 146.561856 121.264176 \nC 146.959661 120.866371 147.183177 120.326756 147.183177 119.764176 \nC 147.183177 119.201595 146.959661 118.66198 146.561856 118.264176 \nC 146.164052 117.866371 145.624437 117.642855 145.061856 117.642855 \nC 144.499276 117.642855 143.959661 117.866371 143.561856 118.264176 \nC 143.164052 118.66198 142.940536 119.201595 142.940536 119.764176 \nC 142.940536 120.326756 143.164052 120.866371 143.561856 121.264176 \nC 143.959661 121.66198 144.499276 121.885496 145.061856 121.885496 \nz\n\" style=\"fill:#1f77b4;stroke:#ffffff;stroke-width:0.339411;\"/>\n    <path clip-path=\"url(#p0df5327093)\" d=\"M 58.792045 322.860128 \nC 59.354626 322.860128 59.894241 322.636612 60.292045 322.238807 \nC 60.68985 321.841003 60.913366 321.301388 60.913366 320.738807 \nC 60.913366 320.176227 60.68985 319.636612 60.292045 319.238807 \nC 59.894241 318.841003 59.354626 318.617487 58.792045 318.617487 \nC 58.229465 318.617487 57.68985 318.841003 57.292045 319.238807 \nC 56.894241 319.636612 56.670725 320.176227 56.670725 320.738807 \nC 56.670725 321.301388 56.894241 321.841003 57.292045 322.238807 \nC 57.68985 322.636612 58.229465 322.860128 58.792045 322.860128 \nz\n\" style=\"fill:#1f77b4;stroke:#ffffff;stroke-width:0.339411;\"/>\n    <path clip-path=\"url(#p0df5327093)\" d=\"M 223.155232 219.436188 \nC 223.717813 219.436188 224.257427 219.212673 224.655232 218.814868 \nC 225.053037 218.417063 225.276552 217.877449 225.276552 217.314868 \nC 225.276552 216.752287 225.053037 216.212673 224.655232 215.814868 \nC 224.257427 215.417063 223.717813 215.193548 223.155232 215.193548 \nC 222.592651 215.193548 222.053037 215.417063 221.655232 215.814868 \nC 221.257427 216.212673 221.033912 216.752287 221.033912 217.314868 \nC 221.033912 217.877449 221.257427 218.417063 221.655232 218.814868 \nC 222.053037 219.212673 222.592651 219.436188 223.155232 219.436188 \nz\n\" style=\"fill:#1f77b4;stroke:#ffffff;stroke-width:0.339411;\"/>\n    <path clip-path=\"url(#p0df5327093)\" d=\"M 346.735519 293.738104 \nC 347.2981 293.738104 347.837715 293.514588 348.235519 293.116784 \nC 348.633324 292.718979 348.85684 292.179364 348.85684 291.616784 \nC 348.85684 291.054203 348.633324 290.514588 348.235519 290.116784 \nC 347.837715 289.718979 347.2981 289.495463 346.735519 289.495463 \nC 346.172939 289.495463 345.633324 289.718979 345.235519 290.116784 \nC 344.837715 290.514588 344.614199 291.054203 344.614199 291.616784 \nC 344.614199 292.179364 344.837715 292.718979 345.235519 293.116784 \nC 345.633324 293.514588 346.172939 293.738104 346.735519 293.738104 \nz\n\" style=\"fill:#1f77b4;stroke:#ffffff;stroke-width:0.339411;\"/>\n    <path clip-path=\"url(#p0df5327093)\" d=\"M 277.632678 275.133796 \nC 278.195259 275.133796 278.734874 274.91028 279.132678 274.512475 \nC 279.530483 274.114671 279.753999 273.575056 279.753999 273.012475 \nC 279.753999 272.449895 279.530483 271.91028 279.132678 271.512475 \nC 278.734874 271.114671 278.195259 270.891155 277.632678 270.891155 \nC 277.070098 270.891155 276.530483 271.114671 276.132678 271.512475 \nC 275.734874 271.91028 275.511358 272.449895 275.511358 273.012475 \nC 275.511358 273.575056 275.734874 274.114671 276.132678 274.512475 \nC 276.530483 274.91028 277.070098 275.133796 277.632678 275.133796 \nz\n\" style=\"fill:#1f77b4;stroke:#ffffff;stroke-width:0.339411;\"/>\n    <path clip-path=\"url(#p0df5327093)\" d=\"M 413.882955 257.018588 \nC 414.445535 257.018588 414.98515 256.795073 415.382955 256.397268 \nC 415.780759 255.999463 416.004275 255.459849 416.004275 254.897268 \nC 416.004275 254.334687 415.780759 253.795073 415.382955 253.397268 \nC 414.98515 252.999463 414.445535 252.775948 413.882955 252.775948 \nC 413.320374 252.775948 412.780759 252.999463 412.382955 253.397268 \nC 411.98515 253.795073 411.761634 254.334687 411.761634 254.897268 \nC 411.761634 255.459849 411.98515 255.999463 412.382955 256.397268 \nC 412.780759 256.795073 413.320374 257.018588 413.882955 257.018588 \nz\n\" style=\"fill:#1f77b4;stroke:#ffffff;stroke-width:0.339411;\"/>\n    <path clip-path=\"url(#p0df5327093)\" d=\"M 274.714296 241.275937 \nC 275.276876 241.275937 275.816491 241.052421 276.214296 240.654617 \nC 276.6121 240.256812 276.835616 239.717197 276.835616 239.154617 \nC 276.835616 238.592036 276.6121 238.052421 276.214296 237.654617 \nC 275.816491 237.256812 275.276876 237.033296 274.714296 237.033296 \nC 274.151715 237.033296 273.6121 237.256812 273.214296 237.654617 \nC 272.816491 238.052421 272.592975 238.592036 272.592975 239.154617 \nC 272.592975 239.717197 272.816491 240.256812 273.214296 240.654617 \nC 273.6121 241.052421 274.151715 241.275937 274.714296 241.275937 \nz\n\" style=\"fill:#1f77b4;stroke:#ffffff;stroke-width:0.339411;\"/>\n    <path clip-path=\"url(#p0df5327093)\" d=\"M 354.920543 227.545375 \nC 355.483124 227.545375 356.022739 227.321859 356.420543 226.924054 \nC 356.818348 226.52625 357.041864 225.986635 357.041864 225.424054 \nC 357.041864 224.861474 356.818348 224.321859 356.420543 223.924054 \nC 356.022739 223.52625 355.483124 223.302734 354.920543 223.302734 \nC 354.357962 223.302734 353.818348 223.52625 353.420543 223.924054 \nC 353.022739 224.321859 352.799223 224.861474 352.799223 225.424054 \nC 352.799223 225.986635 353.022739 226.52625 353.420543 226.924054 \nC 353.818348 227.321859 354.357962 227.545375 354.920543 227.545375 \nz\n\" style=\"fill:#1f77b4;stroke:#ffffff;stroke-width:0.339411;\"/>\n    <path clip-path=\"url(#p0df5327093)\" d=\"M 281.935548 282.762035 \nC 282.498128 282.762035 283.037743 282.538519 283.435548 282.140714 \nC 283.833352 281.74291 284.056868 281.203295 284.056868 280.640714 \nC 284.056868 280.078134 283.833352 279.538519 283.435548 279.140714 \nC 283.037743 278.74291 282.498128 278.519394 281.935548 278.519394 \nC 281.372967 278.519394 280.833352 278.74291 280.435548 279.140714 \nC 280.037743 279.538519 279.814227 280.078134 279.814227 280.640714 \nC 279.814227 281.203295 280.037743 281.74291 280.435548 282.140714 \nC 280.833352 282.538519 281.372967 282.762035 281.935548 282.762035 \nz\n\" style=\"fill:#1f77b4;stroke:#ffffff;stroke-width:0.339411;\"/>\n    <path clip-path=\"url(#p0df5327093)\" d=\"M 351.773999 279.805689 \nC 352.33658 279.805689 352.876195 279.582173 353.273999 279.184369 \nC 353.671804 278.786564 353.89532 278.246949 353.89532 277.684369 \nC 353.89532 277.121788 353.671804 276.582173 353.273999 276.184369 \nC 352.876195 275.786564 352.33658 275.563048 351.773999 275.563048 \nC 351.211419 275.563048 350.671804 275.786564 350.273999 276.184369 \nC 349.876195 276.582173 349.652679 277.121788 349.652679 277.684369 \nC 349.652679 278.246949 349.876195 278.786564 350.273999 279.184369 \nC 350.671804 279.582173 351.211419 279.805689 351.773999 279.805689 \nz\n\" style=\"fill:#1f77b4;stroke:#ffffff;stroke-width:0.339411;\"/>\n    <path clip-path=\"url(#p0df5327093)\" d=\"M 338.100836 295.739023 \nC 338.663417 295.739023 339.203031 295.515507 339.600836 295.117702 \nC 339.99864 294.719898 340.222156 294.180283 340.222156 293.617702 \nC 340.222156 293.055122 339.99864 292.515507 339.600836 292.117702 \nC 339.203031 291.719898 338.663417 291.496382 338.100836 291.496382 \nC 337.538255 291.496382 336.99864 291.719898 336.600836 292.117702 \nC 336.203031 292.515507 335.979516 293.055122 335.979516 293.617702 \nC 335.979516 294.180283 336.203031 294.719898 336.600836 295.117702 \nC 336.99864 295.515507 337.538255 295.739023 338.100836 295.739023 \nz\n\" style=\"fill:#1f77b4;stroke:#ffffff;stroke-width:0.339411;\"/>\n    <path clip-path=\"url(#p0df5327093)\" d=\"M 360.273215 341.171058 \nC 360.835796 341.171058 361.37541 340.947543 361.773215 340.549738 \nC 362.171019 340.151933 362.394535 339.612319 362.394535 339.049738 \nC 362.394535 338.487157 362.171019 337.947543 361.773215 337.549738 \nC 361.37541 337.151933 360.835796 336.928418 360.273215 336.928418 \nC 359.710634 336.928418 359.171019 337.151933 358.773215 337.549738 \nC 358.37541 337.947543 358.151894 338.487157 358.151894 339.049738 \nC 358.151894 339.612319 358.37541 340.151933 358.773215 340.549738 \nC 359.171019 340.947543 359.710634 341.171058 360.273215 341.171058 \nz\n\" style=\"fill:#1f77b4;stroke:#ffffff;stroke-width:0.339411;\"/>\n    <path clip-path=\"url(#p0df5327093)\" d=\"M 390.448553 342.953983 \nC 391.011134 342.953983 391.550748 342.730467 391.948553 342.332662 \nC 392.346358 341.934858 392.569873 341.395243 392.569873 340.832662 \nC 392.569873 340.270082 392.346358 339.730467 391.948553 339.332662 \nC 391.550748 338.934858 391.011134 338.711342 390.448553 338.711342 \nC 389.885972 338.711342 389.346358 338.934858 388.948553 339.332662 \nC 388.550748 339.730467 388.327233 340.270082 388.327233 340.832662 \nC 388.327233 341.395243 388.550748 341.934858 388.948553 342.332662 \nC 389.346358 342.730467 389.885972 342.953983 390.448553 342.953983 \nz\n\" style=\"fill:#1f77b4;stroke:#ffffff;stroke-width:0.339411;\"/>\n    <path clip-path=\"url(#p0df5327093)\" d=\"M 356.814188 372.544957 \nC 357.376769 372.544957 357.916384 372.321441 358.314188 371.923636 \nC 358.711993 371.525832 358.935509 370.986217 358.935509 370.423636 \nC 358.935509 369.861056 358.711993 369.321441 358.314188 368.923636 \nC 357.916384 368.525832 357.376769 368.302316 356.814188 368.302316 \nC 356.251608 368.302316 355.711993 368.525832 355.314188 368.923636 \nC 354.916384 369.321441 354.692868 369.861056 354.692868 370.423636 \nC 354.692868 370.986217 354.916384 371.525832 355.314188 371.923636 \nC 355.711993 372.321441 356.251608 372.544957 356.814188 372.544957 \nz\n\" style=\"fill:#1f77b4;stroke:#ffffff;stroke-width:0.339411;\"/>\n    <path clip-path=\"url(#p0df5327093)\" d=\"M 363.703101 325.751589 \nC 364.265682 325.751589 364.805296 325.528073 365.203101 325.130268 \nC 365.600906 324.732464 365.824421 324.192849 365.824421 323.630268 \nC 365.824421 323.067688 365.600906 322.528073 365.203101 322.130268 \nC 364.805296 321.732464 364.265682 321.508948 363.703101 321.508948 \nC 363.14052 321.508948 362.600906 321.732464 362.203101 322.130268 \nC 361.805296 322.528073 361.581781 323.067688 361.581781 323.630268 \nC 361.581781 324.192849 361.805296 324.732464 362.203101 325.130268 \nC 362.600906 325.528073 363.14052 325.751589 363.703101 325.751589 \nz\n\" style=\"fill:#1f77b4;stroke:#ffffff;stroke-width:0.339411;\"/>\n   </g>\n   <g id=\"matplotlib.axis_1\">\n    <g id=\"xtick_1\">\n     <g id=\"line2d_1\">\n      <defs>\n       <path d=\"M 0 0 \nL 0 3.5 \n\" id=\"m78ea07e17c\" style=\"stroke:#000000;stroke-width:0.8;\"/>\n      </defs>\n      <g>\n       <use style=\"stroke:#000000;stroke-width:0.8;\" x=\"50.166933\" xlink:href=\"#m78ea07e17c\" y=\"387.72\"/>\n      </g>\n     </g>\n     <g id=\"text_1\">\n      <!-- 40.0 -->\n      <g transform=\"translate(39.034121 402.318438)scale(0.1 -0.1)\">\n       <defs>\n        <path d=\"M 37.796875 64.3125 \nL 12.890625 25.390625 \nL 37.796875 25.390625 \nz\nM 35.203125 72.90625 \nL 47.609375 72.90625 \nL 47.609375 25.390625 \nL 58.015625 25.390625 \nL 58.015625 17.1875 \nL 47.609375 17.1875 \nL 47.609375 0 \nL 37.796875 0 \nL 37.796875 17.1875 \nL 4.890625 17.1875 \nL 4.890625 26.703125 \nz\n\" id=\"DejaVuSans-52\"/>\n        <path d=\"M 31.78125 66.40625 \nQ 24.171875 66.40625 20.328125 58.90625 \nQ 16.5 51.421875 16.5 36.375 \nQ 16.5 21.390625 20.328125 13.890625 \nQ 24.171875 6.390625 31.78125 6.390625 \nQ 39.453125 6.390625 43.28125 13.890625 \nQ 47.125 21.390625 47.125 36.375 \nQ 47.125 51.421875 43.28125 58.90625 \nQ 39.453125 66.40625 31.78125 66.40625 \nz\nM 31.78125 74.21875 \nQ 44.046875 74.21875 50.515625 64.515625 \nQ 56.984375 54.828125 56.984375 36.375 \nQ 56.984375 17.96875 50.515625 8.265625 \nQ 44.046875 -1.421875 31.78125 -1.421875 \nQ 19.53125 -1.421875 13.0625 8.265625 \nQ 6.59375 17.96875 6.59375 36.375 \nQ 6.59375 54.828125 13.0625 64.515625 \nQ 19.53125 74.21875 31.78125 74.21875 \nz\n\" id=\"DejaVuSans-48\"/>\n        <path d=\"M 10.6875 12.40625 \nL 21 12.40625 \nL 21 0 \nL 10.6875 0 \nz\n\" id=\"DejaVuSans-46\"/>\n       </defs>\n       <use xlink:href=\"#DejaVuSans-52\"/>\n       <use x=\"63.623047\" xlink:href=\"#DejaVuSans-48\"/>\n       <use x=\"127.246094\" xlink:href=\"#DejaVuSans-46\"/>\n       <use x=\"159.033203\" xlink:href=\"#DejaVuSans-48\"/>\n      </g>\n     </g>\n    </g>\n    <g id=\"xtick_2\">\n     <g id=\"line2d_2\">\n      <g>\n       <use style=\"stroke:#000000;stroke-width:0.8;\" x=\"97.366818\" xlink:href=\"#m78ea07e17c\" y=\"387.72\"/>\n      </g>\n     </g>\n     <g id=\"text_2\">\n      <!-- 42.5 -->\n      <g transform=\"translate(86.234006 402.318438)scale(0.1 -0.1)\">\n       <defs>\n        <path d=\"M 19.1875 8.296875 \nL 53.609375 8.296875 \nL 53.609375 0 \nL 7.328125 0 \nL 7.328125 8.296875 \nQ 12.9375 14.109375 22.625 23.890625 \nQ 32.328125 33.6875 34.8125 36.53125 \nQ 39.546875 41.84375 41.421875 45.53125 \nQ 43.3125 49.21875 43.3125 52.78125 \nQ 43.3125 58.59375 39.234375 62.25 \nQ 35.15625 65.921875 28.609375 65.921875 \nQ 23.96875 65.921875 18.8125 64.3125 \nQ 13.671875 62.703125 7.8125 59.421875 \nL 7.8125 69.390625 \nQ 13.765625 71.78125 18.9375 73 \nQ 24.125 74.21875 28.421875 74.21875 \nQ 39.75 74.21875 46.484375 68.546875 \nQ 53.21875 62.890625 53.21875 53.421875 \nQ 53.21875 48.921875 51.53125 44.890625 \nQ 49.859375 40.875 45.40625 35.40625 \nQ 44.1875 33.984375 37.640625 27.21875 \nQ 31.109375 20.453125 19.1875 8.296875 \nz\n\" id=\"DejaVuSans-50\"/>\n        <path d=\"M 10.796875 72.90625 \nL 49.515625 72.90625 \nL 49.515625 64.59375 \nL 19.828125 64.59375 \nL 19.828125 46.734375 \nQ 21.96875 47.46875 24.109375 47.828125 \nQ 26.265625 48.1875 28.421875 48.1875 \nQ 40.625 48.1875 47.75 41.5 \nQ 54.890625 34.8125 54.890625 23.390625 \nQ 54.890625 11.625 47.5625 5.09375 \nQ 40.234375 -1.421875 26.90625 -1.421875 \nQ 22.3125 -1.421875 17.546875 -0.640625 \nQ 12.796875 0.140625 7.71875 1.703125 \nL 7.71875 11.625 \nQ 12.109375 9.234375 16.796875 8.0625 \nQ 21.484375 6.890625 26.703125 6.890625 \nQ 35.15625 6.890625 40.078125 11.328125 \nQ 45.015625 15.765625 45.015625 23.390625 \nQ 45.015625 31 40.078125 35.4375 \nQ 35.15625 39.890625 26.703125 39.890625 \nQ 22.75 39.890625 18.8125 39.015625 \nQ 14.890625 38.140625 10.796875 36.28125 \nz\n\" id=\"DejaVuSans-53\"/>\n       </defs>\n       <use xlink:href=\"#DejaVuSans-52\"/>\n       <use x=\"63.623047\" xlink:href=\"#DejaVuSans-50\"/>\n       <use x=\"127.246094\" xlink:href=\"#DejaVuSans-46\"/>\n       <use x=\"159.033203\" xlink:href=\"#DejaVuSans-53\"/>\n      </g>\n     </g>\n    </g>\n    <g id=\"xtick_3\">\n     <g id=\"line2d_3\">\n      <g>\n       <use style=\"stroke:#000000;stroke-width:0.8;\" x=\"144.566704\" xlink:href=\"#m78ea07e17c\" y=\"387.72\"/>\n      </g>\n     </g>\n     <g id=\"text_3\">\n      <!-- 45.0 -->\n      <g transform=\"translate(133.433891 402.318438)scale(0.1 -0.1)\">\n       <use xlink:href=\"#DejaVuSans-52\"/>\n       <use x=\"63.623047\" xlink:href=\"#DejaVuSans-53\"/>\n       <use x=\"127.246094\" xlink:href=\"#DejaVuSans-46\"/>\n       <use x=\"159.033203\" xlink:href=\"#DejaVuSans-48\"/>\n      </g>\n     </g>\n    </g>\n    <g id=\"xtick_4\">\n     <g id=\"line2d_4\">\n      <g>\n       <use style=\"stroke:#000000;stroke-width:0.8;\" x=\"191.766589\" xlink:href=\"#m78ea07e17c\" y=\"387.72\"/>\n      </g>\n     </g>\n     <g id=\"text_4\">\n      <!-- 47.5 -->\n      <g transform=\"translate(180.633777 402.318438)scale(0.1 -0.1)\">\n       <defs>\n        <path d=\"M 8.203125 72.90625 \nL 55.078125 72.90625 \nL 55.078125 68.703125 \nL 28.609375 0 \nL 18.3125 0 \nL 43.21875 64.59375 \nL 8.203125 64.59375 \nz\n\" id=\"DejaVuSans-55\"/>\n       </defs>\n       <use xlink:href=\"#DejaVuSans-52\"/>\n       <use x=\"63.623047\" xlink:href=\"#DejaVuSans-55\"/>\n       <use x=\"127.246094\" xlink:href=\"#DejaVuSans-46\"/>\n       <use x=\"159.033203\" xlink:href=\"#DejaVuSans-53\"/>\n      </g>\n     </g>\n    </g>\n    <g id=\"xtick_5\">\n     <g id=\"line2d_5\">\n      <g>\n       <use style=\"stroke:#000000;stroke-width:0.8;\" x=\"238.966475\" xlink:href=\"#m78ea07e17c\" y=\"387.72\"/>\n      </g>\n     </g>\n     <g id=\"text_5\">\n      <!-- 50.0 -->\n      <g transform=\"translate(227.833662 402.318438)scale(0.1 -0.1)\">\n       <use xlink:href=\"#DejaVuSans-53\"/>\n       <use x=\"63.623047\" xlink:href=\"#DejaVuSans-48\"/>\n       <use x=\"127.246094\" xlink:href=\"#DejaVuSans-46\"/>\n       <use x=\"159.033203\" xlink:href=\"#DejaVuSans-48\"/>\n      </g>\n     </g>\n    </g>\n    <g id=\"xtick_6\">\n     <g id=\"line2d_6\">\n      <g>\n       <use style=\"stroke:#000000;stroke-width:0.8;\" x=\"286.16636\" xlink:href=\"#m78ea07e17c\" y=\"387.72\"/>\n      </g>\n     </g>\n     <g id=\"text_6\">\n      <!-- 52.5 -->\n      <g transform=\"translate(275.033547 402.318438)scale(0.1 -0.1)\">\n       <use xlink:href=\"#DejaVuSans-53\"/>\n       <use x=\"63.623047\" xlink:href=\"#DejaVuSans-50\"/>\n       <use x=\"127.246094\" xlink:href=\"#DejaVuSans-46\"/>\n       <use x=\"159.033203\" xlink:href=\"#DejaVuSans-53\"/>\n      </g>\n     </g>\n    </g>\n    <g id=\"xtick_7\">\n     <g id=\"line2d_7\">\n      <g>\n       <use style=\"stroke:#000000;stroke-width:0.8;\" x=\"333.366245\" xlink:href=\"#m78ea07e17c\" y=\"387.72\"/>\n      </g>\n     </g>\n     <g id=\"text_7\">\n      <!-- 55.0 -->\n      <g transform=\"translate(322.233433 402.318438)scale(0.1 -0.1)\">\n       <use xlink:href=\"#DejaVuSans-53\"/>\n       <use x=\"63.623047\" xlink:href=\"#DejaVuSans-53\"/>\n       <use x=\"127.246094\" xlink:href=\"#DejaVuSans-46\"/>\n       <use x=\"159.033203\" xlink:href=\"#DejaVuSans-48\"/>\n      </g>\n     </g>\n    </g>\n    <g id=\"xtick_8\">\n     <g id=\"line2d_8\">\n      <g>\n       <use style=\"stroke:#000000;stroke-width:0.8;\" x=\"380.566131\" xlink:href=\"#m78ea07e17c\" y=\"387.72\"/>\n      </g>\n     </g>\n     <g id=\"text_8\">\n      <!-- 57.5 -->\n      <g transform=\"translate(369.433318 402.318438)scale(0.1 -0.1)\">\n       <use xlink:href=\"#DejaVuSans-53\"/>\n       <use x=\"63.623047\" xlink:href=\"#DejaVuSans-55\"/>\n       <use x=\"127.246094\" xlink:href=\"#DejaVuSans-46\"/>\n       <use x=\"159.033203\" xlink:href=\"#DejaVuSans-53\"/>\n      </g>\n     </g>\n    </g>\n    <g id=\"xtick_9\">\n     <g id=\"line2d_9\">\n      <g>\n       <use style=\"stroke:#000000;stroke-width:0.8;\" x=\"427.766016\" xlink:href=\"#m78ea07e17c\" y=\"387.72\"/>\n      </g>\n     </g>\n     <g id=\"text_9\">\n      <!-- 60.0 -->\n      <g transform=\"translate(416.633204 402.318438)scale(0.1 -0.1)\">\n       <defs>\n        <path d=\"M 33.015625 40.375 \nQ 26.375 40.375 22.484375 35.828125 \nQ 18.609375 31.296875 18.609375 23.390625 \nQ 18.609375 15.53125 22.484375 10.953125 \nQ 26.375 6.390625 33.015625 6.390625 \nQ 39.65625 6.390625 43.53125 10.953125 \nQ 47.40625 15.53125 47.40625 23.390625 \nQ 47.40625 31.296875 43.53125 35.828125 \nQ 39.65625 40.375 33.015625 40.375 \nz\nM 52.59375 71.296875 \nL 52.59375 62.3125 \nQ 48.875 64.0625 45.09375 64.984375 \nQ 41.3125 65.921875 37.59375 65.921875 \nQ 27.828125 65.921875 22.671875 59.328125 \nQ 17.53125 52.734375 16.796875 39.40625 \nQ 19.671875 43.65625 24.015625 45.921875 \nQ 28.375 48.1875 33.59375 48.1875 \nQ 44.578125 48.1875 50.953125 41.515625 \nQ 57.328125 34.859375 57.328125 23.390625 \nQ 57.328125 12.15625 50.6875 5.359375 \nQ 44.046875 -1.421875 33.015625 -1.421875 \nQ 20.359375 -1.421875 13.671875 8.265625 \nQ 6.984375 17.96875 6.984375 36.375 \nQ 6.984375 53.65625 15.1875 63.9375 \nQ 23.390625 74.21875 37.203125 74.21875 \nQ 40.921875 74.21875 44.703125 73.484375 \nQ 48.484375 72.75 52.59375 71.296875 \nz\n\" id=\"DejaVuSans-54\"/>\n       </defs>\n       <use xlink:href=\"#DejaVuSans-54\"/>\n       <use x=\"63.623047\" xlink:href=\"#DejaVuSans-48\"/>\n       <use x=\"127.246094\" xlink:href=\"#DejaVuSans-46\"/>\n       <use x=\"159.033203\" xlink:href=\"#DejaVuSans-48\"/>\n      </g>\n     </g>\n    </g>\n    <g id=\"text_10\">\n     <!-- Wyszczepienie [%] -->\n     <g transform=\"translate(189.327344 415.996563)scale(0.1 -0.1)\">\n      <defs>\n       <path d=\"M 3.328125 72.90625 \nL 13.28125 72.90625 \nL 28.609375 11.28125 \nL 43.890625 72.90625 \nL 54.984375 72.90625 \nL 70.3125 11.28125 \nL 85.59375 72.90625 \nL 95.609375 72.90625 \nL 77.296875 0 \nL 64.890625 0 \nL 49.515625 63.28125 \nL 33.984375 0 \nL 21.578125 0 \nz\n\" id=\"DejaVuSans-87\"/>\n       <path d=\"M 32.171875 -5.078125 \nQ 28.375 -14.84375 24.75 -17.8125 \nQ 21.140625 -20.796875 15.09375 -20.796875 \nL 7.90625 -20.796875 \nL 7.90625 -13.28125 \nL 13.1875 -13.28125 \nQ 16.890625 -13.28125 18.9375 -11.515625 \nQ 21 -9.765625 23.484375 -3.21875 \nL 25.09375 0.875 \nL 2.984375 54.6875 \nL 12.5 54.6875 \nL 29.59375 11.921875 \nL 46.6875 54.6875 \nL 56.203125 54.6875 \nz\n\" id=\"DejaVuSans-121\"/>\n       <path d=\"M 44.28125 53.078125 \nL 44.28125 44.578125 \nQ 40.484375 46.53125 36.375 47.5 \nQ 32.28125 48.484375 27.875 48.484375 \nQ 21.1875 48.484375 17.84375 46.4375 \nQ 14.5 44.390625 14.5 40.28125 \nQ 14.5 37.15625 16.890625 35.375 \nQ 19.28125 33.59375 26.515625 31.984375 \nL 29.59375 31.296875 \nQ 39.15625 29.25 43.1875 25.515625 \nQ 47.21875 21.78125 47.21875 15.09375 \nQ 47.21875 7.46875 41.1875 3.015625 \nQ 35.15625 -1.421875 24.609375 -1.421875 \nQ 20.21875 -1.421875 15.453125 -0.5625 \nQ 10.6875 0.296875 5.421875 2 \nL 5.421875 11.28125 \nQ 10.40625 8.6875 15.234375 7.390625 \nQ 20.0625 6.109375 24.8125 6.109375 \nQ 31.15625 6.109375 34.5625 8.28125 \nQ 37.984375 10.453125 37.984375 14.40625 \nQ 37.984375 18.0625 35.515625 20.015625 \nQ 33.0625 21.96875 24.703125 23.78125 \nL 21.578125 24.515625 \nQ 13.234375 26.265625 9.515625 29.90625 \nQ 5.8125 33.546875 5.8125 39.890625 \nQ 5.8125 47.609375 11.28125 51.796875 \nQ 16.75 56 26.8125 56 \nQ 31.78125 56 36.171875 55.265625 \nQ 40.578125 54.546875 44.28125 53.078125 \nz\n\" id=\"DejaVuSans-115\"/>\n       <path d=\"M 5.515625 54.6875 \nL 48.1875 54.6875 \nL 48.1875 46.484375 \nL 14.40625 7.171875 \nL 48.1875 7.171875 \nL 48.1875 0 \nL 4.296875 0 \nL 4.296875 8.203125 \nL 38.09375 47.515625 \nL 5.515625 47.515625 \nz\n\" id=\"DejaVuSans-122\"/>\n       <path d=\"M 48.78125 52.59375 \nL 48.78125 44.1875 \nQ 44.96875 46.296875 41.140625 47.34375 \nQ 37.3125 48.390625 33.40625 48.390625 \nQ 24.65625 48.390625 19.8125 42.84375 \nQ 14.984375 37.3125 14.984375 27.296875 \nQ 14.984375 17.28125 19.8125 11.734375 \nQ 24.65625 6.203125 33.40625 6.203125 \nQ 37.3125 6.203125 41.140625 7.25 \nQ 44.96875 8.296875 48.78125 10.40625 \nL 48.78125 2.09375 \nQ 45.015625 0.34375 40.984375 -0.53125 \nQ 36.96875 -1.421875 32.421875 -1.421875 \nQ 20.0625 -1.421875 12.78125 6.34375 \nQ 5.515625 14.109375 5.515625 27.296875 \nQ 5.515625 40.671875 12.859375 48.328125 \nQ 20.21875 56 33.015625 56 \nQ 37.15625 56 41.109375 55.140625 \nQ 45.0625 54.296875 48.78125 52.59375 \nz\n\" id=\"DejaVuSans-99\"/>\n       <path d=\"M 56.203125 29.59375 \nL 56.203125 25.203125 \nL 14.890625 25.203125 \nQ 15.484375 15.921875 20.484375 11.0625 \nQ 25.484375 6.203125 34.421875 6.203125 \nQ 39.59375 6.203125 44.453125 7.46875 \nQ 49.3125 8.734375 54.109375 11.28125 \nL 54.109375 2.78125 \nQ 49.265625 0.734375 44.1875 -0.34375 \nQ 39.109375 -1.421875 33.890625 -1.421875 \nQ 20.796875 -1.421875 13.15625 6.1875 \nQ 5.515625 13.8125 5.515625 26.8125 \nQ 5.515625 40.234375 12.765625 48.109375 \nQ 20.015625 56 32.328125 56 \nQ 43.359375 56 49.78125 48.890625 \nQ 56.203125 41.796875 56.203125 29.59375 \nz\nM 47.21875 32.234375 \nQ 47.125 39.59375 43.09375 43.984375 \nQ 39.0625 48.390625 32.421875 48.390625 \nQ 24.90625 48.390625 20.390625 44.140625 \nQ 15.875 39.890625 15.1875 32.171875 \nz\n\" id=\"DejaVuSans-101\"/>\n       <path d=\"M 18.109375 8.203125 \nL 18.109375 -20.796875 \nL 9.078125 -20.796875 \nL 9.078125 54.6875 \nL 18.109375 54.6875 \nL 18.109375 46.390625 \nQ 20.953125 51.265625 25.265625 53.625 \nQ 29.59375 56 35.59375 56 \nQ 45.5625 56 51.78125 48.09375 \nQ 58.015625 40.1875 58.015625 27.296875 \nQ 58.015625 14.40625 51.78125 6.484375 \nQ 45.5625 -1.421875 35.59375 -1.421875 \nQ 29.59375 -1.421875 25.265625 0.953125 \nQ 20.953125 3.328125 18.109375 8.203125 \nz\nM 48.6875 27.296875 \nQ 48.6875 37.203125 44.609375 42.84375 \nQ 40.53125 48.484375 33.40625 48.484375 \nQ 26.265625 48.484375 22.1875 42.84375 \nQ 18.109375 37.203125 18.109375 27.296875 \nQ 18.109375 17.390625 22.1875 11.75 \nQ 26.265625 6.109375 33.40625 6.109375 \nQ 40.53125 6.109375 44.609375 11.75 \nQ 48.6875 17.390625 48.6875 27.296875 \nz\n\" id=\"DejaVuSans-112\"/>\n       <path d=\"M 9.421875 54.6875 \nL 18.40625 54.6875 \nL 18.40625 0 \nL 9.421875 0 \nz\nM 9.421875 75.984375 \nL 18.40625 75.984375 \nL 18.40625 64.59375 \nL 9.421875 64.59375 \nz\n\" id=\"DejaVuSans-105\"/>\n       <path d=\"M 54.890625 33.015625 \nL 54.890625 0 \nL 45.90625 0 \nL 45.90625 32.71875 \nQ 45.90625 40.484375 42.875 44.328125 \nQ 39.84375 48.1875 33.796875 48.1875 \nQ 26.515625 48.1875 22.3125 43.546875 \nQ 18.109375 38.921875 18.109375 30.90625 \nL 18.109375 0 \nL 9.078125 0 \nL 9.078125 54.6875 \nL 18.109375 54.6875 \nL 18.109375 46.1875 \nQ 21.34375 51.125 25.703125 53.5625 \nQ 30.078125 56 35.796875 56 \nQ 45.21875 56 50.046875 50.171875 \nQ 54.890625 44.34375 54.890625 33.015625 \nz\n\" id=\"DejaVuSans-110\"/>\n       <path id=\"DejaVuSans-32\"/>\n       <path d=\"M 8.59375 75.984375 \nL 29.296875 75.984375 \nL 29.296875 69 \nL 17.578125 69 \nL 17.578125 -6.203125 \nL 29.296875 -6.203125 \nL 29.296875 -13.1875 \nL 8.59375 -13.1875 \nz\n\" id=\"DejaVuSans-91\"/>\n       <path d=\"M 72.703125 32.078125 \nQ 68.453125 32.078125 66.03125 28.46875 \nQ 63.625 24.859375 63.625 18.40625 \nQ 63.625 12.0625 66.03125 8.421875 \nQ 68.453125 4.78125 72.703125 4.78125 \nQ 76.859375 4.78125 79.265625 8.421875 \nQ 81.6875 12.0625 81.6875 18.40625 \nQ 81.6875 24.8125 79.265625 28.4375 \nQ 76.859375 32.078125 72.703125 32.078125 \nz\nM 72.703125 38.28125 \nQ 80.421875 38.28125 84.953125 32.90625 \nQ 89.5 27.546875 89.5 18.40625 \nQ 89.5 9.28125 84.9375 3.921875 \nQ 80.375 -1.421875 72.703125 -1.421875 \nQ 64.890625 -1.421875 60.34375 3.921875 \nQ 55.8125 9.28125 55.8125 18.40625 \nQ 55.8125 27.59375 60.375 32.9375 \nQ 64.9375 38.28125 72.703125 38.28125 \nz\nM 22.3125 68.015625 \nQ 18.109375 68.015625 15.6875 64.375 \nQ 13.28125 60.75 13.28125 54.390625 \nQ 13.28125 47.953125 15.671875 44.328125 \nQ 18.0625 40.71875 22.3125 40.71875 \nQ 26.5625 40.71875 28.96875 44.328125 \nQ 31.390625 47.953125 31.390625 54.390625 \nQ 31.390625 60.6875 28.953125 64.34375 \nQ 26.515625 68.015625 22.3125 68.015625 \nz\nM 66.40625 74.21875 \nL 74.21875 74.21875 \nL 28.609375 -1.421875 \nL 20.796875 -1.421875 \nz\nM 22.3125 74.21875 \nQ 30.03125 74.21875 34.609375 68.875 \nQ 39.203125 63.53125 39.203125 54.390625 \nQ 39.203125 45.171875 34.640625 39.84375 \nQ 30.078125 34.515625 22.3125 34.515625 \nQ 14.546875 34.515625 10.03125 39.859375 \nQ 5.515625 45.21875 5.515625 54.390625 \nQ 5.515625 63.484375 10.046875 68.84375 \nQ 14.59375 74.21875 22.3125 74.21875 \nz\n\" id=\"DejaVuSans-37\"/>\n       <path d=\"M 30.421875 75.984375 \nL 30.421875 -13.1875 \nL 9.71875 -13.1875 \nL 9.71875 -6.203125 \nL 21.390625 -6.203125 \nL 21.390625 69 \nL 9.71875 69 \nL 9.71875 75.984375 \nz\n\" id=\"DejaVuSans-93\"/>\n      </defs>\n      <use xlink:href=\"#DejaVuSans-87\"/>\n      <use x=\"97.126953\" xlink:href=\"#DejaVuSans-121\"/>\n      <use x=\"156.306641\" xlink:href=\"#DejaVuSans-115\"/>\n      <use x=\"208.40625\" xlink:href=\"#DejaVuSans-122\"/>\n      <use x=\"260.896484\" xlink:href=\"#DejaVuSans-99\"/>\n      <use x=\"315.876953\" xlink:href=\"#DejaVuSans-122\"/>\n      <use x=\"368.367188\" xlink:href=\"#DejaVuSans-101\"/>\n      <use x=\"429.890625\" xlink:href=\"#DejaVuSans-112\"/>\n      <use x=\"493.367188\" xlink:href=\"#DejaVuSans-105\"/>\n      <use x=\"521.150391\" xlink:href=\"#DejaVuSans-101\"/>\n      <use x=\"582.673828\" xlink:href=\"#DejaVuSans-110\"/>\n      <use x=\"646.052734\" xlink:href=\"#DejaVuSans-105\"/>\n      <use x=\"673.835938\" xlink:href=\"#DejaVuSans-101\"/>\n      <use x=\"735.359375\" xlink:href=\"#DejaVuSans-32\"/>\n      <use x=\"767.146484\" xlink:href=\"#DejaVuSans-91\"/>\n      <use x=\"806.160156\" xlink:href=\"#DejaVuSans-37\"/>\n      <use x=\"901.179688\" xlink:href=\"#DejaVuSans-93\"/>\n     </g>\n    </g>\n   </g>\n   <g id=\"matplotlib.axis_2\">\n    <g id=\"ytick_1\">\n     <g id=\"line2d_10\">\n      <defs>\n       <path d=\"M 0 0 \nL -3.5 0 \n\" id=\"m53a03c7e56\" style=\"stroke:#000000;stroke-width:0.8;\"/>\n      </defs>\n      <g>\n       <use style=\"stroke:#000000;stroke-width:0.8;\" x=\"41.0375\" xlink:href=\"#m53a03c7e56\" y=\"362.187279\"/>\n      </g>\n     </g>\n     <g id=\"text_11\">\n      <!-- 6 -->\n      <g transform=\"translate(27.675 365.986498)scale(0.1 -0.1)\">\n       <use xlink:href=\"#DejaVuSans-54\"/>\n      </g>\n     </g>\n    </g>\n    <g id=\"ytick_2\">\n     <g id=\"line2d_11\">\n      <g>\n       <use style=\"stroke:#000000;stroke-width:0.8;\" x=\"41.0375\" xlink:href=\"#m53a03c7e56\" y=\"314.872174\"/>\n      </g>\n     </g>\n     <g id=\"text_12\">\n      <!-- 8 -->\n      <g transform=\"translate(27.675 318.671393)scale(0.1 -0.1)\">\n       <defs>\n        <path d=\"M 31.78125 34.625 \nQ 24.75 34.625 20.71875 30.859375 \nQ 16.703125 27.09375 16.703125 20.515625 \nQ 16.703125 13.921875 20.71875 10.15625 \nQ 24.75 6.390625 31.78125 6.390625 \nQ 38.8125 6.390625 42.859375 10.171875 \nQ 46.921875 13.96875 46.921875 20.515625 \nQ 46.921875 27.09375 42.890625 30.859375 \nQ 38.875 34.625 31.78125 34.625 \nz\nM 21.921875 38.8125 \nQ 15.578125 40.375 12.03125 44.71875 \nQ 8.5 49.078125 8.5 55.328125 \nQ 8.5 64.0625 14.71875 69.140625 \nQ 20.953125 74.21875 31.78125 74.21875 \nQ 42.671875 74.21875 48.875 69.140625 \nQ 55.078125 64.0625 55.078125 55.328125 \nQ 55.078125 49.078125 51.53125 44.71875 \nQ 48 40.375 41.703125 38.8125 \nQ 48.828125 37.15625 52.796875 32.3125 \nQ 56.78125 27.484375 56.78125 20.515625 \nQ 56.78125 9.90625 50.3125 4.234375 \nQ 43.84375 -1.421875 31.78125 -1.421875 \nQ 19.734375 -1.421875 13.25 4.234375 \nQ 6.78125 9.90625 6.78125 20.515625 \nQ 6.78125 27.484375 10.78125 32.3125 \nQ 14.796875 37.15625 21.921875 38.8125 \nz\nM 18.3125 54.390625 \nQ 18.3125 48.734375 21.84375 45.5625 \nQ 25.390625 42.390625 31.78125 42.390625 \nQ 38.140625 42.390625 41.71875 45.5625 \nQ 45.3125 48.734375 45.3125 54.390625 \nQ 45.3125 60.0625 41.71875 63.234375 \nQ 38.140625 66.40625 31.78125 66.40625 \nQ 25.390625 66.40625 21.84375 63.234375 \nQ 18.3125 60.0625 18.3125 54.390625 \nz\n\" id=\"DejaVuSans-56\"/>\n       </defs>\n       <use xlink:href=\"#DejaVuSans-56\"/>\n      </g>\n     </g>\n    </g>\n    <g id=\"ytick_3\">\n     <g id=\"line2d_12\">\n      <g>\n       <use style=\"stroke:#000000;stroke-width:0.8;\" x=\"41.0375\" xlink:href=\"#m53a03c7e56\" y=\"267.557069\"/>\n      </g>\n     </g>\n     <g id=\"text_13\">\n      <!-- 10 -->\n      <g transform=\"translate(21.3125 271.356288)scale(0.1 -0.1)\">\n       <defs>\n        <path d=\"M 12.40625 8.296875 \nL 28.515625 8.296875 \nL 28.515625 63.921875 \nL 10.984375 60.40625 \nL 10.984375 69.390625 \nL 28.421875 72.90625 \nL 38.28125 72.90625 \nL 38.28125 8.296875 \nL 54.390625 8.296875 \nL 54.390625 0 \nL 12.40625 0 \nz\n\" id=\"DejaVuSans-49\"/>\n       </defs>\n       <use xlink:href=\"#DejaVuSans-49\"/>\n       <use x=\"63.623047\" xlink:href=\"#DejaVuSans-48\"/>\n      </g>\n     </g>\n    </g>\n    <g id=\"ytick_4\">\n     <g id=\"line2d_13\">\n      <g>\n       <use style=\"stroke:#000000;stroke-width:0.8;\" x=\"41.0375\" xlink:href=\"#m53a03c7e56\" y=\"220.241964\"/>\n      </g>\n     </g>\n     <g id=\"text_14\">\n      <!-- 12 -->\n      <g transform=\"translate(21.3125 224.041183)scale(0.1 -0.1)\">\n       <use xlink:href=\"#DejaVuSans-49\"/>\n       <use x=\"63.623047\" xlink:href=\"#DejaVuSans-50\"/>\n      </g>\n     </g>\n    </g>\n    <g id=\"ytick_5\">\n     <g id=\"line2d_14\">\n      <g>\n       <use style=\"stroke:#000000;stroke-width:0.8;\" x=\"41.0375\" xlink:href=\"#m53a03c7e56\" y=\"172.926859\"/>\n      </g>\n     </g>\n     <g id=\"text_15\">\n      <!-- 14 -->\n      <g transform=\"translate(21.3125 176.726078)scale(0.1 -0.1)\">\n       <use xlink:href=\"#DejaVuSans-49\"/>\n       <use x=\"63.623047\" xlink:href=\"#DejaVuSans-52\"/>\n      </g>\n     </g>\n    </g>\n    <g id=\"ytick_6\">\n     <g id=\"line2d_15\">\n      <g>\n       <use style=\"stroke:#000000;stroke-width:0.8;\" x=\"41.0375\" xlink:href=\"#m53a03c7e56\" y=\"125.611754\"/>\n      </g>\n     </g>\n     <g id=\"text_16\">\n      <!-- 16 -->\n      <g transform=\"translate(21.3125 129.410973)scale(0.1 -0.1)\">\n       <use xlink:href=\"#DejaVuSans-49\"/>\n       <use x=\"63.623047\" xlink:href=\"#DejaVuSans-54\"/>\n      </g>\n     </g>\n    </g>\n    <g id=\"ytick_7\">\n     <g id=\"line2d_16\">\n      <g>\n       <use style=\"stroke:#000000;stroke-width:0.8;\" x=\"41.0375\" xlink:href=\"#m53a03c7e56\" y=\"78.296649\"/>\n      </g>\n     </g>\n     <g id=\"text_17\">\n      <!-- 18 -->\n      <g transform=\"translate(21.3125 82.095868)scale(0.1 -0.1)\">\n       <use xlink:href=\"#DejaVuSans-49\"/>\n       <use x=\"63.623047\" xlink:href=\"#DejaVuSans-56\"/>\n      </g>\n     </g>\n    </g>\n    <g id=\"ytick_8\">\n     <g id=\"line2d_17\">\n      <g>\n       <use style=\"stroke:#000000;stroke-width:0.8;\" x=\"41.0375\" xlink:href=\"#m53a03c7e56\" y=\"30.981544\"/>\n      </g>\n     </g>\n     <g id=\"text_18\">\n      <!-- 20 -->\n      <g transform=\"translate(21.3125 34.780763)scale(0.1 -0.1)\">\n       <use xlink:href=\"#DejaVuSans-50\"/>\n       <use x=\"63.623047\" xlink:href=\"#DejaVuSans-48\"/>\n      </g>\n     </g>\n    </g>\n    <g id=\"text_19\">\n     <!-- Zgony w pełni zaszczepionych na 100 tys. mieszkańców -->\n     <g transform=\"translate(15.232812 338.117813)rotate(-90)scale(0.1 -0.1)\">\n      <defs>\n       <path d=\"M 5.609375 72.90625 \nL 62.890625 72.90625 \nL 62.890625 65.375 \nL 16.796875 8.296875 \nL 64.015625 8.296875 \nL 64.015625 0 \nL 4.5 0 \nL 4.5 7.515625 \nL 50.59375 64.59375 \nL 5.609375 64.59375 \nz\n\" id=\"DejaVuSans-90\"/>\n       <path d=\"M 45.40625 27.984375 \nQ 45.40625 37.75 41.375 43.109375 \nQ 37.359375 48.484375 30.078125 48.484375 \nQ 22.859375 48.484375 18.828125 43.109375 \nQ 14.796875 37.75 14.796875 27.984375 \nQ 14.796875 18.265625 18.828125 12.890625 \nQ 22.859375 7.515625 30.078125 7.515625 \nQ 37.359375 7.515625 41.375 12.890625 \nQ 45.40625 18.265625 45.40625 27.984375 \nz\nM 54.390625 6.78125 \nQ 54.390625 -7.171875 48.1875 -13.984375 \nQ 42 -20.796875 29.203125 -20.796875 \nQ 24.46875 -20.796875 20.265625 -20.09375 \nQ 16.0625 -19.390625 12.109375 -17.921875 \nL 12.109375 -9.1875 \nQ 16.0625 -11.328125 19.921875 -12.34375 \nQ 23.78125 -13.375 27.78125 -13.375 \nQ 36.625 -13.375 41.015625 -8.765625 \nQ 45.40625 -4.15625 45.40625 5.171875 \nL 45.40625 9.625 \nQ 42.625 4.78125 38.28125 2.390625 \nQ 33.9375 0 27.875 0 \nQ 17.828125 0 11.671875 7.65625 \nQ 5.515625 15.328125 5.515625 27.984375 \nQ 5.515625 40.671875 11.671875 48.328125 \nQ 17.828125 56 27.875 56 \nQ 33.9375 56 38.28125 53.609375 \nQ 42.625 51.21875 45.40625 46.390625 \nL 45.40625 54.6875 \nL 54.390625 54.6875 \nz\n\" id=\"DejaVuSans-103\"/>\n       <path d=\"M 30.609375 48.390625 \nQ 23.390625 48.390625 19.1875 42.75 \nQ 14.984375 37.109375 14.984375 27.296875 \nQ 14.984375 17.484375 19.15625 11.84375 \nQ 23.34375 6.203125 30.609375 6.203125 \nQ 37.796875 6.203125 41.984375 11.859375 \nQ 46.1875 17.53125 46.1875 27.296875 \nQ 46.1875 37.015625 41.984375 42.703125 \nQ 37.796875 48.390625 30.609375 48.390625 \nz\nM 30.609375 56 \nQ 42.328125 56 49.015625 48.375 \nQ 55.71875 40.765625 55.71875 27.296875 \nQ 55.71875 13.875 49.015625 6.21875 \nQ 42.328125 -1.421875 30.609375 -1.421875 \nQ 18.84375 -1.421875 12.171875 6.21875 \nQ 5.515625 13.875 5.515625 27.296875 \nQ 5.515625 40.765625 12.171875 48.375 \nQ 18.84375 56 30.609375 56 \nz\n\" id=\"DejaVuSans-111\"/>\n       <path d=\"M 4.203125 54.6875 \nL 13.1875 54.6875 \nL 24.421875 12.015625 \nL 35.59375 54.6875 \nL 46.1875 54.6875 \nL 57.421875 12.015625 \nL 68.609375 54.6875 \nL 77.59375 54.6875 \nL 63.28125 0 \nL 52.6875 0 \nL 40.921875 44.828125 \nL 29.109375 0 \nL 18.5 0 \nz\n\" id=\"DejaVuSans-119\"/>\n       <path d=\"M 9.71875 75.984375 \nL 18.703125 75.984375 \nL 18.703125 46.578125 \nL 24.8125 50.984375 \nL 28.515625 45.796875 \nL 18.703125 38.921875 \nL 18.703125 0 \nL 9.71875 0 \nL 9.71875 32.515625 \nL 3.71875 28.21875 \nL 0.09375 33.40625 \nL 9.71875 40.28125 \nz\n\" id=\"DejaVuSans-322\"/>\n       <path d=\"M 34.28125 27.484375 \nQ 23.390625 27.484375 19.1875 25 \nQ 14.984375 22.515625 14.984375 16.5 \nQ 14.984375 11.71875 18.140625 8.90625 \nQ 21.296875 6.109375 26.703125 6.109375 \nQ 34.1875 6.109375 38.703125 11.40625 \nQ 43.21875 16.703125 43.21875 25.484375 \nL 43.21875 27.484375 \nz\nM 52.203125 31.203125 \nL 52.203125 0 \nL 43.21875 0 \nL 43.21875 8.296875 \nQ 40.140625 3.328125 35.546875 0.953125 \nQ 30.953125 -1.421875 24.3125 -1.421875 \nQ 15.921875 -1.421875 10.953125 3.296875 \nQ 6 8.015625 6 15.921875 \nQ 6 25.140625 12.171875 29.828125 \nQ 18.359375 34.515625 30.609375 34.515625 \nL 43.21875 34.515625 \nL 43.21875 35.40625 \nQ 43.21875 41.609375 39.140625 45 \nQ 35.0625 48.390625 27.6875 48.390625 \nQ 23 48.390625 18.546875 47.265625 \nQ 14.109375 46.140625 10.015625 43.890625 \nL 10.015625 52.203125 \nQ 14.9375 54.109375 19.578125 55.046875 \nQ 24.21875 56 28.609375 56 \nQ 40.484375 56 46.34375 49.84375 \nQ 52.203125 43.703125 52.203125 31.203125 \nz\n\" id=\"DejaVuSans-97\"/>\n       <path d=\"M 54.890625 33.015625 \nL 54.890625 0 \nL 45.90625 0 \nL 45.90625 32.71875 \nQ 45.90625 40.484375 42.875 44.328125 \nQ 39.84375 48.1875 33.796875 48.1875 \nQ 26.515625 48.1875 22.3125 43.546875 \nQ 18.109375 38.921875 18.109375 30.90625 \nL 18.109375 0 \nL 9.078125 0 \nL 9.078125 75.984375 \nL 18.109375 75.984375 \nL 18.109375 46.1875 \nQ 21.34375 51.125 25.703125 53.5625 \nQ 30.078125 56 35.796875 56 \nQ 45.21875 56 50.046875 50.171875 \nQ 54.890625 44.34375 54.890625 33.015625 \nz\n\" id=\"DejaVuSans-104\"/>\n       <path d=\"M 18.3125 70.21875 \nL 18.3125 54.6875 \nL 36.8125 54.6875 \nL 36.8125 47.703125 \nL 18.3125 47.703125 \nL 18.3125 18.015625 \nQ 18.3125 11.328125 20.140625 9.421875 \nQ 21.96875 7.515625 27.59375 7.515625 \nL 36.8125 7.515625 \nL 36.8125 0 \nL 27.59375 0 \nQ 17.1875 0 13.234375 3.875 \nQ 9.28125 7.765625 9.28125 18.015625 \nL 9.28125 47.703125 \nL 2.6875 47.703125 \nL 2.6875 54.6875 \nL 9.28125 54.6875 \nL 9.28125 70.21875 \nz\n\" id=\"DejaVuSans-116\"/>\n       <path d=\"M 52 44.1875 \nQ 55.375 50.25 60.0625 53.125 \nQ 64.75 56 71.09375 56 \nQ 79.640625 56 84.28125 50.015625 \nQ 88.921875 44.046875 88.921875 33.015625 \nL 88.921875 0 \nL 79.890625 0 \nL 79.890625 32.71875 \nQ 79.890625 40.578125 77.09375 44.375 \nQ 74.3125 48.1875 68.609375 48.1875 \nQ 61.625 48.1875 57.5625 43.546875 \nQ 53.515625 38.921875 53.515625 30.90625 \nL 53.515625 0 \nL 44.484375 0 \nL 44.484375 32.71875 \nQ 44.484375 40.625 41.703125 44.40625 \nQ 38.921875 48.1875 33.109375 48.1875 \nQ 26.21875 48.1875 22.15625 43.53125 \nQ 18.109375 38.875 18.109375 30.90625 \nL 18.109375 0 \nL 9.078125 0 \nL 9.078125 54.6875 \nL 18.109375 54.6875 \nL 18.109375 46.1875 \nQ 21.1875 51.21875 25.484375 53.609375 \nQ 29.78125 56 35.6875 56 \nQ 41.65625 56 45.828125 52.96875 \nQ 50 49.953125 52 44.1875 \nz\n\" id=\"DejaVuSans-109\"/>\n       <path d=\"M 9.078125 75.984375 \nL 18.109375 75.984375 \nL 18.109375 31.109375 \nL 44.921875 54.6875 \nL 56.390625 54.6875 \nL 27.390625 29.109375 \nL 57.625 0 \nL 45.90625 0 \nL 18.109375 26.703125 \nL 18.109375 0 \nL 9.078125 0 \nz\n\" id=\"DejaVuSans-107\"/>\n       <path d=\"M 35.015625 80.328125 \nL 44.734375 80.328125 \nL 28.8125 61.96875 \nL 21.34375 61.96875 \nz\nM 54.890625 33.015625 \nL 54.890625 0 \nL 45.90625 0 \nL 45.90625 32.71875 \nQ 45.90625 40.484375 42.875 44.328125 \nQ 39.84375 48.1875 33.796875 48.1875 \nQ 26.515625 48.1875 22.3125 43.546875 \nQ 18.109375 38.921875 18.109375 30.90625 \nL 18.109375 0 \nL 9.078125 0 \nL 9.078125 54.6875 \nL 18.109375 54.6875 \nL 18.109375 46.1875 \nQ 21.34375 51.125 25.703125 53.5625 \nQ 30.078125 56 35.796875 56 \nQ 45.21875 56 50.046875 50.171875 \nQ 54.890625 44.34375 54.890625 33.015625 \nz\n\" id=\"DejaVuSans-324\"/>\n       <path d=\"M 30.609375 48.390625 \nQ 23.390625 48.390625 19.1875 42.75 \nQ 14.984375 37.109375 14.984375 27.296875 \nQ 14.984375 17.484375 19.15625 11.84375 \nQ 23.34375 6.203125 30.609375 6.203125 \nQ 37.796875 6.203125 41.984375 11.859375 \nQ 46.1875 17.53125 46.1875 27.296875 \nQ 46.1875 37.015625 41.984375 42.703125 \nQ 37.796875 48.390625 30.609375 48.390625 \nz\nM 30.609375 56 \nQ 42.328125 56 49.015625 48.375 \nQ 55.71875 40.765625 55.71875 27.296875 \nQ 55.71875 13.875 49.015625 6.21875 \nQ 42.328125 -1.421875 30.609375 -1.421875 \nQ 18.84375 -1.421875 12.171875 6.21875 \nQ 5.515625 13.875 5.515625 27.296875 \nQ 5.515625 40.765625 12.171875 48.375 \nQ 18.84375 56 30.609375 56 \nz\nM 37.40625 79.984375 \nL 47.125 79.984375 \nL 31.203125 61.625 \nL 23.734375 61.625 \nz\n\" id=\"DejaVuSans-243\"/>\n      </defs>\n      <use xlink:href=\"#DejaVuSans-90\"/>\n      <use x=\"68.505859\" xlink:href=\"#DejaVuSans-103\"/>\n      <use x=\"131.982422\" xlink:href=\"#DejaVuSans-111\"/>\n      <use x=\"193.164062\" xlink:href=\"#DejaVuSans-110\"/>\n      <use x=\"256.542969\" xlink:href=\"#DejaVuSans-121\"/>\n      <use x=\"315.722656\" xlink:href=\"#DejaVuSans-32\"/>\n      <use x=\"347.509766\" xlink:href=\"#DejaVuSans-119\"/>\n      <use x=\"429.296875\" xlink:href=\"#DejaVuSans-32\"/>\n      <use x=\"461.083984\" xlink:href=\"#DejaVuSans-112\"/>\n      <use x=\"524.560547\" xlink:href=\"#DejaVuSans-101\"/>\n      <use x=\"586.083984\" xlink:href=\"#DejaVuSans-322\"/>\n      <use x=\"614.501953\" xlink:href=\"#DejaVuSans-110\"/>\n      <use x=\"677.880859\" xlink:href=\"#DejaVuSans-105\"/>\n      <use x=\"705.664062\" xlink:href=\"#DejaVuSans-32\"/>\n      <use x=\"737.451172\" xlink:href=\"#DejaVuSans-122\"/>\n      <use x=\"789.941406\" xlink:href=\"#DejaVuSans-97\"/>\n      <use x=\"851.220703\" xlink:href=\"#DejaVuSans-115\"/>\n      <use x=\"903.320312\" xlink:href=\"#DejaVuSans-122\"/>\n      <use x=\"955.810547\" xlink:href=\"#DejaVuSans-99\"/>\n      <use x=\"1010.791016\" xlink:href=\"#DejaVuSans-122\"/>\n      <use x=\"1063.28125\" xlink:href=\"#DejaVuSans-101\"/>\n      <use x=\"1124.804688\" xlink:href=\"#DejaVuSans-112\"/>\n      <use x=\"1188.28125\" xlink:href=\"#DejaVuSans-105\"/>\n      <use x=\"1216.064453\" xlink:href=\"#DejaVuSans-111\"/>\n      <use x=\"1277.246094\" xlink:href=\"#DejaVuSans-110\"/>\n      <use x=\"1340.625\" xlink:href=\"#DejaVuSans-121\"/>\n      <use x=\"1399.804688\" xlink:href=\"#DejaVuSans-99\"/>\n      <use x=\"1454.785156\" xlink:href=\"#DejaVuSans-104\"/>\n      <use x=\"1518.164062\" xlink:href=\"#DejaVuSans-32\"/>\n      <use x=\"1549.951172\" xlink:href=\"#DejaVuSans-110\"/>\n      <use x=\"1613.330078\" xlink:href=\"#DejaVuSans-97\"/>\n      <use x=\"1674.609375\" xlink:href=\"#DejaVuSans-32\"/>\n      <use x=\"1706.396484\" xlink:href=\"#DejaVuSans-49\"/>\n      <use x=\"1770.019531\" xlink:href=\"#DejaVuSans-48\"/>\n      <use x=\"1833.642578\" xlink:href=\"#DejaVuSans-48\"/>\n      <use x=\"1897.265625\" xlink:href=\"#DejaVuSans-32\"/>\n      <use x=\"1929.052734\" xlink:href=\"#DejaVuSans-116\"/>\n      <use x=\"1968.261719\" xlink:href=\"#DejaVuSans-121\"/>\n      <use x=\"2027.441406\" xlink:href=\"#DejaVuSans-115\"/>\n      <use x=\"2079.541016\" xlink:href=\"#DejaVuSans-46\"/>\n      <use x=\"2111.328125\" xlink:href=\"#DejaVuSans-32\"/>\n      <use x=\"2143.115234\" xlink:href=\"#DejaVuSans-109\"/>\n      <use x=\"2240.527344\" xlink:href=\"#DejaVuSans-105\"/>\n      <use x=\"2268.310547\" xlink:href=\"#DejaVuSans-101\"/>\n      <use x=\"2329.833984\" xlink:href=\"#DejaVuSans-115\"/>\n      <use x=\"2381.933594\" xlink:href=\"#DejaVuSans-122\"/>\n      <use x=\"2434.423828\" xlink:href=\"#DejaVuSans-107\"/>\n      <use x=\"2490.583984\" xlink:href=\"#DejaVuSans-97\"/>\n      <use x=\"2551.863281\" xlink:href=\"#DejaVuSans-324\"/>\n      <use x=\"2615.242188\" xlink:href=\"#DejaVuSans-99\"/>\n      <use x=\"2670.222656\" xlink:href=\"#DejaVuSans-243\"/>\n      <use x=\"2731.404297\" xlink:href=\"#DejaVuSans-119\"/>\n     </g>\n    </g>\n   </g>\n   <g id=\"patch_3\">\n    <path d=\"M 41.0375 387.72 \nL 41.0375 7.2 \n\" style=\"fill:none;stroke:#000000;stroke-linecap:square;stroke-linejoin:miter;stroke-width:0.8;\"/>\n   </g>\n   <g id=\"patch_4\">\n    <path d=\"M 431.6375 387.72 \nL 431.6375 7.2 \n\" style=\"fill:none;stroke:#000000;stroke-linecap:square;stroke-linejoin:miter;stroke-width:0.8;\"/>\n   </g>\n   <g id=\"patch_5\">\n    <path d=\"M 41.0375 387.72 \nL 431.6375 387.72 \n\" style=\"fill:none;stroke:#000000;stroke-linecap:square;stroke-linejoin:miter;stroke-width:0.8;\"/>\n   </g>\n   <g id=\"patch_6\">\n    <path d=\"M 41.0375 7.2 \nL 431.6375 7.2 \n\" style=\"fill:none;stroke:#000000;stroke-linecap:square;stroke-linejoin:miter;stroke-width:0.8;\"/>\n   </g>\n   <g id=\"text_20\">\n    <!-- Lubelskie -->\n    <g transform=\"translate(199.671275 24.496364)scale(0.07 -0.07)\">\n     <defs>\n      <path d=\"M 9.8125 72.90625 \nL 19.671875 72.90625 \nL 19.671875 8.296875 \nL 55.171875 8.296875 \nL 55.171875 0 \nL 9.8125 0 \nz\n\" id=\"DejaVuSans-76\"/>\n      <path d=\"M 8.5 21.578125 \nL 8.5 54.6875 \nL 17.484375 54.6875 \nL 17.484375 21.921875 \nQ 17.484375 14.15625 20.5 10.265625 \nQ 23.53125 6.390625 29.59375 6.390625 \nQ 36.859375 6.390625 41.078125 11.03125 \nQ 45.3125 15.671875 45.3125 23.6875 \nL 45.3125 54.6875 \nL 54.296875 54.6875 \nL 54.296875 0 \nL 45.3125 0 \nL 45.3125 8.40625 \nQ 42.046875 3.421875 37.71875 1 \nQ 33.40625 -1.421875 27.6875 -1.421875 \nQ 18.265625 -1.421875 13.375 4.4375 \nQ 8.5 10.296875 8.5 21.578125 \nz\nM 31.109375 56 \nz\n\" id=\"DejaVuSans-117\"/>\n      <path d=\"M 48.6875 27.296875 \nQ 48.6875 37.203125 44.609375 42.84375 \nQ 40.53125 48.484375 33.40625 48.484375 \nQ 26.265625 48.484375 22.1875 42.84375 \nQ 18.109375 37.203125 18.109375 27.296875 \nQ 18.109375 17.390625 22.1875 11.75 \nQ 26.265625 6.109375 33.40625 6.109375 \nQ 40.53125 6.109375 44.609375 11.75 \nQ 48.6875 17.390625 48.6875 27.296875 \nz\nM 18.109375 46.390625 \nQ 20.953125 51.265625 25.265625 53.625 \nQ 29.59375 56 35.59375 56 \nQ 45.5625 56 51.78125 48.09375 \nQ 58.015625 40.1875 58.015625 27.296875 \nQ 58.015625 14.40625 51.78125 6.484375 \nQ 45.5625 -1.421875 35.59375 -1.421875 \nQ 29.59375 -1.421875 25.265625 0.953125 \nQ 20.953125 3.328125 18.109375 8.203125 \nL 18.109375 0 \nL 9.078125 0 \nL 9.078125 75.984375 \nL 18.109375 75.984375 \nz\n\" id=\"DejaVuSans-98\"/>\n      <path d=\"M 9.421875 75.984375 \nL 18.40625 75.984375 \nL 18.40625 0 \nL 9.421875 0 \nz\n\" id=\"DejaVuSans-108\"/>\n     </defs>\n     <use xlink:href=\"#DejaVuSans-76\"/>\n     <use x=\"53.962891\" xlink:href=\"#DejaVuSans-117\"/>\n     <use x=\"117.341797\" xlink:href=\"#DejaVuSans-98\"/>\n     <use x=\"180.818359\" xlink:href=\"#DejaVuSans-101\"/>\n     <use x=\"242.341797\" xlink:href=\"#DejaVuSans-108\"/>\n     <use x=\"270.125\" xlink:href=\"#DejaVuSans-115\"/>\n     <use x=\"322.224609\" xlink:href=\"#DejaVuSans-107\"/>\n     <use x=\"380.134766\" xlink:href=\"#DejaVuSans-105\"/>\n     <use x=\"407.917969\" xlink:href=\"#DejaVuSans-101\"/>\n    </g>\n   </g>\n   <g id=\"text_21\">\n    <!-- Podlaskie -->\n    <g transform=\"translate(148.837847 115.032665)scale(0.07 -0.07)\">\n     <defs>\n      <path d=\"M 19.671875 64.796875 \nL 19.671875 37.40625 \nL 32.078125 37.40625 \nQ 38.96875 37.40625 42.71875 40.96875 \nQ 46.484375 44.53125 46.484375 51.125 \nQ 46.484375 57.671875 42.71875 61.234375 \nQ 38.96875 64.796875 32.078125 64.796875 \nz\nM 9.8125 72.90625 \nL 32.078125 72.90625 \nQ 44.34375 72.90625 50.609375 67.359375 \nQ 56.890625 61.8125 56.890625 51.125 \nQ 56.890625 40.328125 50.609375 34.8125 \nQ 44.34375 29.296875 32.078125 29.296875 \nL 19.671875 29.296875 \nL 19.671875 0 \nL 9.8125 0 \nz\n\" id=\"DejaVuSans-80\"/>\n      <path d=\"M 45.40625 46.390625 \nL 45.40625 75.984375 \nL 54.390625 75.984375 \nL 54.390625 0 \nL 45.40625 0 \nL 45.40625 8.203125 \nQ 42.578125 3.328125 38.25 0.953125 \nQ 33.9375 -1.421875 27.875 -1.421875 \nQ 17.96875 -1.421875 11.734375 6.484375 \nQ 5.515625 14.40625 5.515625 27.296875 \nQ 5.515625 40.1875 11.734375 48.09375 \nQ 17.96875 56 27.875 56 \nQ 33.9375 56 38.25 53.625 \nQ 42.578125 51.265625 45.40625 46.390625 \nz\nM 14.796875 27.296875 \nQ 14.796875 17.390625 18.875 11.75 \nQ 22.953125 6.109375 30.078125 6.109375 \nQ 37.203125 6.109375 41.296875 11.75 \nQ 45.40625 17.390625 45.40625 27.296875 \nQ 45.40625 37.203125 41.296875 42.84375 \nQ 37.203125 48.484375 30.078125 48.484375 \nQ 22.953125 48.484375 18.875 42.84375 \nQ 14.796875 37.203125 14.796875 27.296875 \nz\n\" id=\"DejaVuSans-100\"/>\n     </defs>\n     <use xlink:href=\"#DejaVuSans-80\"/>\n     <use x=\"56.677734\" xlink:href=\"#DejaVuSans-111\"/>\n     <use x=\"117.859375\" xlink:href=\"#DejaVuSans-100\"/>\n     <use x=\"181.335938\" xlink:href=\"#DejaVuSans-108\"/>\n     <use x=\"209.119141\" xlink:href=\"#DejaVuSans-97\"/>\n     <use x=\"270.398438\" xlink:href=\"#DejaVuSans-115\"/>\n     <use x=\"322.498047\" xlink:href=\"#DejaVuSans-107\"/>\n     <use x=\"380.408203\" xlink:href=\"#DejaVuSans-105\"/>\n     <use x=\"408.191406\" xlink:href=\"#DejaVuSans-101\"/>\n    </g>\n   </g>\n   <g id=\"text_22\">\n    <!-- Podkarpackie -->\n    <g transform=\"translate(62.568036 320.738807)scale(0.07 -0.07)\">\n     <defs>\n      <path d=\"M 41.109375 46.296875 \nQ 39.59375 47.171875 37.8125 47.578125 \nQ 36.03125 48 33.890625 48 \nQ 26.265625 48 22.1875 43.046875 \nQ 18.109375 38.09375 18.109375 28.8125 \nL 18.109375 0 \nL 9.078125 0 \nL 9.078125 54.6875 \nL 18.109375 54.6875 \nL 18.109375 46.1875 \nQ 20.953125 51.171875 25.484375 53.578125 \nQ 30.03125 56 36.53125 56 \nQ 37.453125 56 38.578125 55.875 \nQ 39.703125 55.765625 41.0625 55.515625 \nz\n\" id=\"DejaVuSans-114\"/>\n     </defs>\n     <use xlink:href=\"#DejaVuSans-80\"/>\n     <use x=\"56.677734\" xlink:href=\"#DejaVuSans-111\"/>\n     <use x=\"117.859375\" xlink:href=\"#DejaVuSans-100\"/>\n     <use x=\"181.335938\" xlink:href=\"#DejaVuSans-107\"/>\n     <use x=\"237.496094\" xlink:href=\"#DejaVuSans-97\"/>\n     <use x=\"298.775391\" xlink:href=\"#DejaVuSans-114\"/>\n     <use x=\"339.888672\" xlink:href=\"#DejaVuSans-112\"/>\n     <use x=\"403.365234\" xlink:href=\"#DejaVuSans-97\"/>\n     <use x=\"464.644531\" xlink:href=\"#DejaVuSans-99\"/>\n     <use x=\"519.625\" xlink:href=\"#DejaVuSans-107\"/>\n     <use x=\"577.535156\" xlink:href=\"#DejaVuSans-105\"/>\n     <use x=\"605.318359\" xlink:href=\"#DejaVuSans-101\"/>\n    </g>\n   </g>\n   <g id=\"text_23\">\n    <!-- Opolskie -->\n    <g transform=\"translate(226.931223 212.583357)scale(0.07 -0.07)\">\n     <defs>\n      <path d=\"M 39.40625 66.21875 \nQ 28.65625 66.21875 22.328125 58.203125 \nQ 16.015625 50.203125 16.015625 36.375 \nQ 16.015625 22.609375 22.328125 14.59375 \nQ 28.65625 6.59375 39.40625 6.59375 \nQ 50.140625 6.59375 56.421875 14.59375 \nQ 62.703125 22.609375 62.703125 36.375 \nQ 62.703125 50.203125 56.421875 58.203125 \nQ 50.140625 66.21875 39.40625 66.21875 \nz\nM 39.40625 74.21875 \nQ 54.734375 74.21875 63.90625 63.9375 \nQ 73.09375 53.65625 73.09375 36.375 \nQ 73.09375 19.140625 63.90625 8.859375 \nQ 54.734375 -1.421875 39.40625 -1.421875 \nQ 24.03125 -1.421875 14.8125 8.828125 \nQ 5.609375 19.09375 5.609375 36.375 \nQ 5.609375 53.65625 14.8125 63.9375 \nQ 24.03125 74.21875 39.40625 74.21875 \nz\n\" id=\"DejaVuSans-79\"/>\n     </defs>\n     <use xlink:href=\"#DejaVuSans-79\"/>\n     <use x=\"78.710938\" xlink:href=\"#DejaVuSans-112\"/>\n     <use x=\"142.1875\" xlink:href=\"#DejaVuSans-111\"/>\n     <use x=\"203.369141\" xlink:href=\"#DejaVuSans-108\"/>\n     <use x=\"231.152344\" xlink:href=\"#DejaVuSans-115\"/>\n     <use x=\"283.251953\" xlink:href=\"#DejaVuSans-107\"/>\n     <use x=\"341.162109\" xlink:href=\"#DejaVuSans-105\"/>\n     <use x=\"368.945312\" xlink:href=\"#DejaVuSans-101\"/>\n    </g>\n   </g>\n   <g id=\"text_24\">\n    <!-- Łódzkie -->\n    <g transform=\"translate(350.51151 291.616784)scale(0.07 -0.07)\">\n     <defs>\n      <path d=\"M 10.296875 72.90625 \nL 20.21875 72.90625 \nL 20.21875 42.828125 \nL 35.5 53.515625 \nL 39.40625 48.09375 \nL 20.21875 34.71875 \nL 20.21875 8.296875 \nL 55.71875 8.296875 \nL 55.71875 0 \nL 10.296875 0 \nL 10.296875 27.875 \nL 3.078125 22.703125 \nL -0.6875 28.078125 \nL 10.296875 35.796875 \nz\n\" id=\"DejaVuSans-321\"/>\n     </defs>\n     <use xlink:href=\"#DejaVuSans-321\"/>\n     <use x=\"56.201172\" xlink:href=\"#DejaVuSans-243\"/>\n     <use x=\"117.382812\" xlink:href=\"#DejaVuSans-100\"/>\n     <use x=\"180.859375\" xlink:href=\"#DejaVuSans-122\"/>\n     <use x=\"233.349609\" xlink:href=\"#DejaVuSans-107\"/>\n     <use x=\"291.259766\" xlink:href=\"#DejaVuSans-105\"/>\n     <use x=\"319.042969\" xlink:href=\"#DejaVuSans-101\"/>\n    </g>\n   </g>\n   <g id=\"text_25\">\n    <!-- Świętokrzyskie -->\n    <g transform=\"translate(281.408669 268.280965)scale(0.07 -0.07)\">\n     <defs>\n      <path d=\"M 34.96875 92.78125 \nL 44 92.78125 \nL 32.859375 79.890625 \nL 25.390625 79.890625 \nz\nM 53.515625 70.515625 \nL 53.515625 60.890625 \nQ 47.90625 63.578125 42.921875 64.890625 \nQ 37.9375 66.21875 33.296875 66.21875 \nQ 25.25 66.21875 20.875 63.09375 \nQ 16.5 59.96875 16.5 54.203125 \nQ 16.5 49.359375 19.40625 46.890625 \nQ 22.3125 44.4375 30.421875 42.921875 \nL 36.375 41.703125 \nQ 47.40625 39.59375 52.65625 34.296875 \nQ 57.90625 29 57.90625 20.125 \nQ 57.90625 9.515625 50.796875 4.046875 \nQ 43.703125 -1.421875 29.984375 -1.421875 \nQ 24.8125 -1.421875 18.96875 -0.25 \nQ 13.140625 0.921875 6.890625 3.21875 \nL 6.890625 13.375 \nQ 12.890625 10.015625 18.65625 8.296875 \nQ 24.421875 6.59375 29.984375 6.59375 \nQ 38.421875 6.59375 43.015625 9.90625 \nQ 47.609375 13.234375 47.609375 19.390625 \nQ 47.609375 24.75 44.3125 27.78125 \nQ 41.015625 30.8125 33.5 32.328125 \nL 27.484375 33.5 \nQ 16.453125 35.6875 11.515625 40.375 \nQ 6.59375 45.0625 6.59375 53.421875 \nQ 6.59375 63.09375 13.40625 68.65625 \nQ 20.21875 74.21875 32.171875 74.21875 \nQ 37.3125 74.21875 42.625 73.28125 \nQ 47.953125 72.359375 53.515625 70.515625 \nz\n\" id=\"DejaVuSans-346\"/>\n      <path d=\"M 56.203125 29.59375 \nL 56.203125 25.203125 \nL 14.890625 25.203125 \nQ 15.484375 15.921875 20.484375 11.0625 \nQ 25.484375 6.203125 34.421875 6.203125 \nQ 39.59375 6.203125 44.453125 7.46875 \nQ 49.3125 8.734375 54.109375 11.28125 \nL 54.109375 2.78125 \nQ 49.265625 0.734375 44.1875 -0.34375 \nQ 39.109375 -1.421875 33.890625 -1.421875 \nQ 20.796875 -1.421875 13.15625 6.1875 \nQ 5.515625 13.8125 5.515625 26.8125 \nQ 5.515625 40.234375 12.765625 48.109375 \nQ 20.015625 56 32.328125 56 \nQ 43.359375 56 49.78125 48.890625 \nQ 56.203125 41.796875 56.203125 29.59375 \nz\nM 47.21875 32.234375 \nQ 47.125 39.59375 43.09375 43.984375 \nQ 39.0625 48.390625 32.421875 48.390625 \nQ 24.90625 48.390625 20.390625 44.140625 \nQ 15.875 39.890625 15.1875 32.171875 \nz\nM 39.84375 0 \nL 45.65625 0 \nQ 43.453125 -2.984375 42.40625 -5.125 \nQ 41.359375 -7.28125 41.359375 -8.796875 \nQ 41.359375 -11.03125 42.703125 -12.15625 \nQ 44.046875 -13.28125 46.6875 -13.28125 \nQ 48.25 -13.28125 49.75 -12.90625 \nQ 51.265625 -12.546875 52.78125 -11.8125 \nL 52.78125 -18.3125 \nQ 50.921875 -18.796875 49.265625 -19.03125 \nQ 47.609375 -19.28125 46.140625 -19.28125 \nQ 40.1875 -19.28125 37.375 -17.15625 \nQ 34.578125 -15.046875 34.578125 -10.5 \nQ 34.578125 -8.15625 35.859375 -5.59375 \nQ 37.15625 -3.03125 39.84375 0 \nz\n\" id=\"DejaVuSans-281\"/>\n     </defs>\n     <use xlink:href=\"#DejaVuSans-346\"/>\n     <use x=\"63.476562\" xlink:href=\"#DejaVuSans-119\"/>\n     <use x=\"145.263672\" xlink:href=\"#DejaVuSans-105\"/>\n     <use x=\"173.046875\" xlink:href=\"#DejaVuSans-281\"/>\n     <use x=\"234.570312\" xlink:href=\"#DejaVuSans-116\"/>\n     <use x=\"273.779297\" xlink:href=\"#DejaVuSans-111\"/>\n     <use x=\"334.960938\" xlink:href=\"#DejaVuSans-107\"/>\n     <use x=\"392.871094\" xlink:href=\"#DejaVuSans-114\"/>\n     <use x=\"433.984375\" xlink:href=\"#DejaVuSans-122\"/>\n     <use x=\"486.474609\" xlink:href=\"#DejaVuSans-121\"/>\n     <use x=\"545.654297\" xlink:href=\"#DejaVuSans-115\"/>\n     <use x=\"597.753906\" xlink:href=\"#DejaVuSans-107\"/>\n     <use x=\"655.664062\" xlink:href=\"#DejaVuSans-105\"/>\n     <use x=\"683.447266\" xlink:href=\"#DejaVuSans-101\"/>\n    </g>\n   </g>\n   <g id=\"text_26\">\n    <!-- Mazowieckie -->\n    <g transform=\"translate(417.658945 254.897268)scale(0.07 -0.07)\">\n     <defs>\n      <path d=\"M 9.8125 72.90625 \nL 24.515625 72.90625 \nL 43.109375 23.296875 \nL 61.8125 72.90625 \nL 76.515625 72.90625 \nL 76.515625 0 \nL 66.890625 0 \nL 66.890625 64.015625 \nL 48.09375 14.015625 \nL 38.1875 14.015625 \nL 19.390625 64.015625 \nL 19.390625 0 \nL 9.8125 0 \nz\n\" id=\"DejaVuSans-77\"/>\n     </defs>\n     <use xlink:href=\"#DejaVuSans-77\"/>\n     <use x=\"86.279297\" xlink:href=\"#DejaVuSans-97\"/>\n     <use x=\"147.558594\" xlink:href=\"#DejaVuSans-122\"/>\n     <use x=\"200.048828\" xlink:href=\"#DejaVuSans-111\"/>\n     <use x=\"261.230469\" xlink:href=\"#DejaVuSans-119\"/>\n     <use x=\"343.017578\" xlink:href=\"#DejaVuSans-105\"/>\n     <use x=\"370.800781\" xlink:href=\"#DejaVuSans-101\"/>\n     <use x=\"432.324219\" xlink:href=\"#DejaVuSans-99\"/>\n     <use x=\"487.304688\" xlink:href=\"#DejaVuSans-107\"/>\n     <use x=\"545.214844\" xlink:href=\"#DejaVuSans-105\"/>\n     <use x=\"572.998047\" xlink:href=\"#DejaVuSans-101\"/>\n    </g>\n   </g>\n   <g id=\"text_27\">\n    <!-- Warmińsko-Mazurskie -->\n    <g transform=\"translate(278.490286 234.423106)scale(0.07 -0.07)\">\n     <defs>\n      <path d=\"M 4.890625 31.390625 \nL 31.203125 31.390625 \nL 31.203125 23.390625 \nL 4.890625 23.390625 \nz\n\" id=\"DejaVuSans-45\"/>\n     </defs>\n     <use xlink:href=\"#DejaVuSans-87\"/>\n     <use x=\"92.501953\" xlink:href=\"#DejaVuSans-97\"/>\n     <use x=\"153.78125\" xlink:href=\"#DejaVuSans-114\"/>\n     <use x=\"193.144531\" xlink:href=\"#DejaVuSans-109\"/>\n     <use x=\"290.556641\" xlink:href=\"#DejaVuSans-105\"/>\n     <use x=\"318.339844\" xlink:href=\"#DejaVuSans-324\"/>\n     <use x=\"381.71875\" xlink:href=\"#DejaVuSans-115\"/>\n     <use x=\"433.818359\" xlink:href=\"#DejaVuSans-107\"/>\n     <use x=\"488.103516\" xlink:href=\"#DejaVuSans-111\"/>\n     <use x=\"551.160156\" xlink:href=\"#DejaVuSans-45\"/>\n     <use x=\"587.244141\" xlink:href=\"#DejaVuSans-77\"/>\n     <use x=\"673.523438\" xlink:href=\"#DejaVuSans-97\"/>\n     <use x=\"734.802734\" xlink:href=\"#DejaVuSans-122\"/>\n     <use x=\"787.292969\" xlink:href=\"#DejaVuSans-117\"/>\n     <use x=\"850.671875\" xlink:href=\"#DejaVuSans-114\"/>\n     <use x=\"891.785156\" xlink:href=\"#DejaVuSans-115\"/>\n     <use x=\"943.884766\" xlink:href=\"#DejaVuSans-107\"/>\n     <use x=\"1001.794922\" xlink:href=\"#DejaVuSans-105\"/>\n     <use x=\"1029.578125\" xlink:href=\"#DejaVuSans-101\"/>\n    </g>\n   </g>\n   <g id=\"text_28\">\n    <!-- Kujawsko-Pomorskie -->\n    <g transform=\"translate(358.696534 225.424054)scale(0.07 -0.07)\">\n     <defs>\n      <path d=\"M 9.8125 72.90625 \nL 19.671875 72.90625 \nL 19.671875 42.09375 \nL 52.390625 72.90625 \nL 65.09375 72.90625 \nL 28.90625 38.921875 \nL 67.671875 0 \nL 54.6875 0 \nL 19.671875 35.109375 \nL 19.671875 0 \nL 9.8125 0 \nz\n\" id=\"DejaVuSans-75\"/>\n      <path d=\"M 9.421875 54.6875 \nL 18.40625 54.6875 \nL 18.40625 -0.984375 \nQ 18.40625 -11.421875 14.421875 -16.109375 \nQ 10.453125 -20.796875 1.609375 -20.796875 \nL -1.8125 -20.796875 \nL -1.8125 -13.1875 \nL 0.59375 -13.1875 \nQ 5.71875 -13.1875 7.5625 -10.8125 \nQ 9.421875 -8.453125 9.421875 -0.984375 \nz\nM 9.421875 75.984375 \nL 18.40625 75.984375 \nL 18.40625 64.59375 \nL 9.421875 64.59375 \nz\n\" id=\"DejaVuSans-106\"/>\n     </defs>\n     <use xlink:href=\"#DejaVuSans-75\"/>\n     <use x=\"60.576172\" xlink:href=\"#DejaVuSans-117\"/>\n     <use x=\"123.955078\" xlink:href=\"#DejaVuSans-106\"/>\n     <use x=\"151.738281\" xlink:href=\"#DejaVuSans-97\"/>\n     <use x=\"213.017578\" xlink:href=\"#DejaVuSans-119\"/>\n     <use x=\"294.804688\" xlink:href=\"#DejaVuSans-115\"/>\n     <use x=\"346.904297\" xlink:href=\"#DejaVuSans-107\"/>\n     <use x=\"401.189453\" xlink:href=\"#DejaVuSans-111\"/>\n     <use x=\"464.246094\" xlink:href=\"#DejaVuSans-45\"/>\n     <use x=\"500.330078\" xlink:href=\"#DejaVuSans-80\"/>\n     <use x=\"557.007812\" xlink:href=\"#DejaVuSans-111\"/>\n     <use x=\"618.189453\" xlink:href=\"#DejaVuSans-109\"/>\n     <use x=\"715.601562\" xlink:href=\"#DejaVuSans-111\"/>\n     <use x=\"776.783203\" xlink:href=\"#DejaVuSans-114\"/>\n     <use x=\"817.896484\" xlink:href=\"#DejaVuSans-115\"/>\n     <use x=\"869.996094\" xlink:href=\"#DejaVuSans-107\"/>\n     <use x=\"927.90625\" xlink:href=\"#DejaVuSans-105\"/>\n     <use x=\"955.689453\" xlink:href=\"#DejaVuSans-101\"/>\n    </g>\n   </g>\n   <g id=\"text_29\">\n    <!-- Małopolskie -->\n    <g transform=\"translate(285.711538 275.909204)scale(0.07 -0.07)\">\n     <use xlink:href=\"#DejaVuSans-77\"/>\n     <use x=\"86.279297\" xlink:href=\"#DejaVuSans-97\"/>\n     <use x=\"147.558594\" xlink:href=\"#DejaVuSans-322\"/>\n     <use x=\"175.976562\" xlink:href=\"#DejaVuSans-111\"/>\n     <use x=\"237.158203\" xlink:href=\"#DejaVuSans-112\"/>\n     <use x=\"300.634766\" xlink:href=\"#DejaVuSans-111\"/>\n     <use x=\"361.816406\" xlink:href=\"#DejaVuSans-108\"/>\n     <use x=\"389.599609\" xlink:href=\"#DejaVuSans-115\"/>\n     <use x=\"441.699219\" xlink:href=\"#DejaVuSans-107\"/>\n     <use x=\"499.609375\" xlink:href=\"#DejaVuSans-105\"/>\n     <use x=\"527.392578\" xlink:href=\"#DejaVuSans-101\"/>\n    </g>\n   </g>\n   <g id=\"text_30\">\n    <!-- Zachodniopomorskie -->\n    <g transform=\"translate(355.54999 277.684369)scale(0.07 -0.07)\">\n     <use xlink:href=\"#DejaVuSans-90\"/>\n     <use x=\"68.505859\" xlink:href=\"#DejaVuSans-97\"/>\n     <use x=\"129.785156\" xlink:href=\"#DejaVuSans-99\"/>\n     <use x=\"184.765625\" xlink:href=\"#DejaVuSans-104\"/>\n     <use x=\"248.144531\" xlink:href=\"#DejaVuSans-111\"/>\n     <use x=\"309.326172\" xlink:href=\"#DejaVuSans-100\"/>\n     <use x=\"372.802734\" xlink:href=\"#DejaVuSans-110\"/>\n     <use x=\"436.181641\" xlink:href=\"#DejaVuSans-105\"/>\n     <use x=\"463.964844\" xlink:href=\"#DejaVuSans-111\"/>\n     <use x=\"525.146484\" xlink:href=\"#DejaVuSans-112\"/>\n     <use x=\"588.623047\" xlink:href=\"#DejaVuSans-111\"/>\n     <use x=\"649.804688\" xlink:href=\"#DejaVuSans-109\"/>\n     <use x=\"747.216797\" xlink:href=\"#DejaVuSans-111\"/>\n     <use x=\"808.398438\" xlink:href=\"#DejaVuSans-114\"/>\n     <use x=\"849.511719\" xlink:href=\"#DejaVuSans-115\"/>\n     <use x=\"901.611328\" xlink:href=\"#DejaVuSans-107\"/>\n     <use x=\"959.521484\" xlink:href=\"#DejaVuSans-105\"/>\n     <use x=\"987.304688\" xlink:href=\"#DejaVuSans-101\"/>\n    </g>\n   </g>\n   <g id=\"text_31\">\n    <!-- Śląskie -->\n    <g transform=\"translate(341.876827 288.886192)scale(0.07 -0.07)\">\n     <defs>\n      <path d=\"M 34.28125 27.484375 \nQ 23.390625 27.484375 19.1875 25 \nQ 14.984375 22.515625 14.984375 16.5 \nQ 14.984375 11.71875 18.140625 8.90625 \nQ 21.296875 6.109375 26.703125 6.109375 \nQ 34.1875 6.109375 38.703125 11.40625 \nQ 43.21875 16.703125 43.21875 25.484375 \nL 43.21875 27.484375 \nz\nM 52.203125 31.203125 \nL 52.203125 0 \nL 43.21875 0 \nL 43.21875 8.296875 \nQ 40.140625 3.328125 35.546875 0.953125 \nQ 30.953125 -1.421875 24.3125 -1.421875 \nQ 15.921875 -1.421875 10.953125 3.296875 \nQ 6 8.015625 6 15.921875 \nQ 6 25.140625 12.171875 29.828125 \nQ 18.359375 34.515625 30.609375 34.515625 \nL 43.21875 34.515625 \nL 43.21875 35.40625 \nQ 43.21875 41.609375 39.140625 45 \nQ 35.0625 48.390625 27.6875 48.390625 \nQ 23 48.390625 18.546875 47.265625 \nQ 14.109375 46.140625 10.015625 43.890625 \nL 10.015625 52.203125 \nQ 14.9375 54.109375 19.578125 55.046875 \nQ 24.21875 56 28.609375 56 \nQ 40.484375 56 46.34375 49.84375 \nQ 52.203125 43.703125 52.203125 31.203125 \nz\nM 43.3125 0 \nL 49.125 0 \nQ 46.921875 -2.984375 45.875 -5.125 \nQ 44.828125 -7.28125 44.828125 -8.796875 \nQ 44.828125 -11.03125 46.171875 -12.15625 \nQ 47.515625 -13.28125 50.140625 -13.28125 \nQ 51.703125 -13.28125 53.21875 -12.90625 \nQ 54.734375 -12.546875 56.25 -11.8125 \nL 56.25 -18.3125 \nQ 54.390625 -18.796875 52.734375 -19.03125 \nQ 51.078125 -19.28125 49.609375 -19.28125 \nQ 43.65625 -19.28125 40.84375 -17.15625 \nQ 38.03125 -15.046875 38.03125 -10.5 \nQ 38.03125 -8.15625 39.328125 -5.59375 \nQ 40.625 -3.03125 43.3125 0 \nz\n\" id=\"DejaVuSans-261\"/>\n     </defs>\n     <use xlink:href=\"#DejaVuSans-346\"/>\n     <use x=\"63.476562\" xlink:href=\"#DejaVuSans-108\"/>\n     <use x=\"91.259766\" xlink:href=\"#DejaVuSans-261\"/>\n     <use x=\"152.539062\" xlink:href=\"#DejaVuSans-115\"/>\n     <use x=\"204.638672\" xlink:href=\"#DejaVuSans-107\"/>\n     <use x=\"262.548828\" xlink:href=\"#DejaVuSans-105\"/>\n     <use x=\"290.332031\" xlink:href=\"#DejaVuSans-101\"/>\n    </g>\n   </g>\n   <g id=\"text_32\">\n    <!-- Lubuskie -->\n    <g transform=\"translate(364.049206 339.049738)scale(0.07 -0.07)\">\n     <use xlink:href=\"#DejaVuSans-76\"/>\n     <use x=\"53.962891\" xlink:href=\"#DejaVuSans-117\"/>\n     <use x=\"117.341797\" xlink:href=\"#DejaVuSans-98\"/>\n     <use x=\"180.818359\" xlink:href=\"#DejaVuSans-117\"/>\n     <use x=\"244.197266\" xlink:href=\"#DejaVuSans-115\"/>\n     <use x=\"296.296875\" xlink:href=\"#DejaVuSans-107\"/>\n     <use x=\"354.207031\" xlink:href=\"#DejaVuSans-105\"/>\n     <use x=\"381.990234\" xlink:href=\"#DejaVuSans-101\"/>\n    </g>\n   </g>\n   <g id=\"text_33\">\n    <!-- Wielkopolskie -->\n    <g transform=\"translate(394.224544 336.101152)scale(0.07 -0.07)\">\n     <use xlink:href=\"#DejaVuSans-87\"/>\n     <use x=\"96.626953\" xlink:href=\"#DejaVuSans-105\"/>\n     <use x=\"124.410156\" xlink:href=\"#DejaVuSans-101\"/>\n     <use x=\"185.933594\" xlink:href=\"#DejaVuSans-108\"/>\n     <use x=\"213.716797\" xlink:href=\"#DejaVuSans-107\"/>\n     <use x=\"268.001953\" xlink:href=\"#DejaVuSans-111\"/>\n     <use x=\"329.183594\" xlink:href=\"#DejaVuSans-112\"/>\n     <use x=\"392.660156\" xlink:href=\"#DejaVuSans-111\"/>\n     <use x=\"453.841797\" xlink:href=\"#DejaVuSans-108\"/>\n     <use x=\"481.625\" xlink:href=\"#DejaVuSans-115\"/>\n     <use x=\"533.724609\" xlink:href=\"#DejaVuSans-107\"/>\n     <use x=\"591.634766\" xlink:href=\"#DejaVuSans-105\"/>\n     <use x=\"619.417969\" xlink:href=\"#DejaVuSans-101\"/>\n    </g>\n   </g>\n   <g id=\"text_34\">\n    <!-- Dolnośląskie -->\n    <g transform=\"translate(360.590179 370.423636)scale(0.07 -0.07)\">\n     <defs>\n      <path d=\"M 19.671875 64.796875 \nL 19.671875 8.109375 \nL 31.59375 8.109375 \nQ 46.6875 8.109375 53.6875 14.9375 \nQ 60.6875 21.78125 60.6875 36.53125 \nQ 60.6875 51.171875 53.6875 57.984375 \nQ 46.6875 64.796875 31.59375 64.796875 \nz\nM 9.8125 72.90625 \nL 30.078125 72.90625 \nQ 51.265625 72.90625 61.171875 64.09375 \nQ 71.09375 55.28125 71.09375 36.53125 \nQ 71.09375 17.671875 61.125 8.828125 \nQ 51.171875 0 30.078125 0 \nL 9.8125 0 \nz\n\" id=\"DejaVuSans-68\"/>\n      <path d=\"M 35.015625 80.328125 \nL 44.734375 80.328125 \nL 28.8125 61.96875 \nL 21.34375 61.96875 \nz\nM 44.28125 53.078125 \nL 44.28125 44.578125 \nQ 40.484375 46.53125 36.375 47.5 \nQ 32.28125 48.484375 27.875 48.484375 \nQ 21.1875 48.484375 17.84375 46.4375 \nQ 14.5 44.390625 14.5 40.28125 \nQ 14.5 37.15625 16.890625 35.375 \nQ 19.28125 33.59375 26.515625 31.984375 \nL 29.59375 31.296875 \nQ 39.15625 29.25 43.1875 25.515625 \nQ 47.21875 21.78125 47.21875 15.09375 \nQ 47.21875 7.46875 41.1875 3.015625 \nQ 35.15625 -1.421875 24.609375 -1.421875 \nQ 20.21875 -1.421875 15.453125 -0.5625 \nQ 10.6875 0.296875 5.421875 2 \nL 5.421875 11.28125 \nQ 10.40625 8.6875 15.234375 7.390625 \nQ 20.0625 6.109375 24.8125 6.109375 \nQ 31.15625 6.109375 34.5625 8.28125 \nQ 37.984375 10.453125 37.984375 14.40625 \nQ 37.984375 18.0625 35.515625 20.015625 \nQ 33.0625 21.96875 24.703125 23.78125 \nL 21.578125 24.515625 \nQ 13.234375 26.265625 9.515625 29.90625 \nQ 5.8125 33.546875 5.8125 39.890625 \nQ 5.8125 47.609375 11.28125 51.796875 \nQ 16.75 56 26.8125 56 \nQ 31.78125 56 36.171875 55.265625 \nQ 40.578125 54.546875 44.28125 53.078125 \nz\n\" id=\"DejaVuSans-347\"/>\n     </defs>\n     <use xlink:href=\"#DejaVuSans-68\"/>\n     <use x=\"77.001953\" xlink:href=\"#DejaVuSans-111\"/>\n     <use x=\"138.183594\" xlink:href=\"#DejaVuSans-108\"/>\n     <use x=\"165.966797\" xlink:href=\"#DejaVuSans-110\"/>\n     <use x=\"229.345703\" xlink:href=\"#DejaVuSans-111\"/>\n     <use x=\"290.527344\" xlink:href=\"#DejaVuSans-347\"/>\n     <use x=\"342.626953\" xlink:href=\"#DejaVuSans-108\"/>\n     <use x=\"370.410156\" xlink:href=\"#DejaVuSans-261\"/>\n     <use x=\"431.689453\" xlink:href=\"#DejaVuSans-115\"/>\n     <use x=\"483.789062\" xlink:href=\"#DejaVuSans-107\"/>\n     <use x=\"541.699219\" xlink:href=\"#DejaVuSans-105\"/>\n     <use x=\"569.482422\" xlink:href=\"#DejaVuSans-101\"/>\n    </g>\n   </g>\n   <g id=\"text_35\">\n    <!-- Pomorskie -->\n    <g transform=\"translate(367.479092 318.898758)scale(0.07 -0.07)\">\n     <use xlink:href=\"#DejaVuSans-80\"/>\n     <use x=\"56.677734\" xlink:href=\"#DejaVuSans-111\"/>\n     <use x=\"117.859375\" xlink:href=\"#DejaVuSans-109\"/>\n     <use x=\"215.271484\" xlink:href=\"#DejaVuSans-111\"/>\n     <use x=\"276.453125\" xlink:href=\"#DejaVuSans-114\"/>\n     <use x=\"317.566406\" xlink:href=\"#DejaVuSans-115\"/>\n     <use x=\"369.666016\" xlink:href=\"#DejaVuSans-107\"/>\n     <use x=\"427.576172\" xlink:href=\"#DejaVuSans-105\"/>\n     <use x=\"455.359375\" xlink:href=\"#DejaVuSans-101\"/>\n    </g>\n   </g>\n  </g>\n </g>\n <defs>\n  <clipPath id=\"p0df5327093\">\n   <rect height=\"380.52\" width=\"390.6\" x=\"41.0375\" y=\"7.2\"/>\n  </clipPath>\n </defs>\n</svg>\n",
      "text/plain": [
       "<Figure size 504x504 with 1 Axes>"
      ]
     },
     "metadata": {
      "needs_background": "light"
     },
     "output_type": "display_data"
    }
   ],
   "source": [
    "# sns.scatterplot(x=tak, y=vac, data=df);\n",
    "plt.figure(figsize=(7,7))\n",
    "scatter_text(vac, tak,  'Województwo',\n",
    "             data = df, \n",
    "             title = '', \n",
    "             xlabel = vac,\n",
    "             ylabel = tak)"
   ]
  },
  {
   "cell_type": "code",
   "execution_count": 29,
   "metadata": {},
   "outputs": [
    {
     "name": "stderr",
     "output_type": "stream",
     "text": [
      "/home/ochab/anaconda2/envs/python3.6/lib/python3.6/site-packages/seaborn/_decorators.py:43: FutureWarning:\n",
      "\n",
      "Pass the following variables as keyword args: x, y. From version 0.12, the only valid positional argument will be `data`, and passing other arguments without an explicit keyword will result in an error or misinterpretation.\n",
      "\n"
     ]
    },
    {
     "data": {
      "text/plain": [
       "<AxesSubplot:xlabel='Zgony nie w pełni zaszczepionych na 100 tys. mieszkańców', ylabel='Zgony w pełni zaszczepionych na 100 tys. mieszkańców'>"
      ]
     },
     "execution_count": 29,
     "metadata": {},
     "output_type": "execute_result"
    },
    {
     "data": {
      "image/png": "[encoded data removed]",
      "image/svg+xml": "<?xml version=\"1.0\" encoding=\"utf-8\" standalone=\"no\"?>\n<!DOCTYPE svg PUBLIC \"-//W3C//DTD SVG 1.1//EN\"\n  \"http://www.w3.org/Graphics/SVG/1.1/DTD/svg11.dtd\">\n<!-- Created with matplotlib (https://matplotlib.org/) -->\n<svg height=\"425.710625pt\" version=\"1.1\" viewBox=\"0 0 455.18028 425.710625\" width=\"455.18028pt\" xmlns=\"http://www.w3.org/2000/svg\" xmlns:xlink=\"http://www.w3.org/1999/xlink\">\n <metadata>\n  <rdf:RDF xmlns:cc=\"http://creativecommons.org/ns#\" xmlns:dc=\"http://purl.org/dc/elements/1.1/\" xmlns:rdf=\"http://www.w3.org/1999/02/22-rdf-syntax-ns#\">\n   <cc:Work>\n    <dc:type rdf:resource=\"http://purl.org/dc/dcmitype/StillImage\"/>\n    <dc:date>2021-12-22T21:50:16.070970</dc:date>\n    <dc:format>image/svg+xml</dc:format>\n    <dc:creator>\n     <cc:Agent>\n      <dc:title>Matplotlib v3.3.4, https://matplotlib.org/</dc:title>\n     </cc:Agent>\n    </dc:creator>\n   </cc:Work>\n  </rdf:RDF>\n </metadata>\n <defs>\n  <style type=\"text/css\">*{stroke-linecap:butt;stroke-linejoin:round;}</style>\n </defs>\n <g id=\"figure_1\">\n  <g id=\"patch_1\">\n   <path d=\"M 0 425.710625 \nL 455.18028 425.710625 \nL 455.18028 0 \nL 0 0 \nz\n\" style=\"fill:none;\"/>\n  </g>\n  <g id=\"axes_1\">\n   <g id=\"patch_2\">\n    <path d=\"M 41.0375 387.72 \nL 431.6375 387.72 \nL 431.6375 7.2 \nL 41.0375 7.2 \nz\n\" style=\"fill:#ffffff;\"/>\n   </g>\n   <g id=\"PathCollection_1\">\n    <path clip-path=\"url(#pd46349b618)\" d=\"M 413.882955 26.617684 \nC 414.445535 26.617684 414.98515 26.394168 415.382955 25.996364 \nC 415.780759 25.598559 416.004275 25.058944 416.004275 24.496364 \nC 416.004275 23.933783 415.780759 23.394168 415.382955 22.996364 \nC 414.98515 22.598559 414.445535 22.375043 413.882955 22.375043 \nC 413.320374 22.375043 412.780759 22.598559 412.382955 22.996364 \nC 411.98515 23.394168 411.761634 23.933783 411.761634 24.496364 \nC 411.761634 25.058944 411.98515 25.598559 412.382955 25.996364 \nC 412.780759 26.394168 413.320374 26.617684 413.882955 26.617684 \nz\n\" style=\"fill:#1f77b4;stroke:#ffffff;stroke-width:0.339411;\"/>\n    <path clip-path=\"url(#pd46349b618)\" d=\"M 330.606762 121.885496 \nC 331.169343 121.885496 331.708958 121.66198 332.106762 121.264176 \nC 332.504567 120.866371 332.728083 120.326756 332.728083 119.764176 \nC 332.728083 119.201595 332.504567 118.66198 332.106762 118.264176 \nC 331.708958 117.866371 331.169343 117.642855 330.606762 117.642855 \nC 330.044182 117.642855 329.504567 117.866371 329.106762 118.264176 \nC 328.708958 118.66198 328.485442 119.201595 328.485442 119.764176 \nC 328.485442 120.326756 328.708958 120.866371 329.106762 121.264176 \nC 329.504567 121.66198 330.044182 121.885496 330.606762 121.885496 \nz\n\" style=\"fill:#1f77b4;stroke:#ffffff;stroke-width:0.339411;\"/>\n    <path clip-path=\"url(#pd46349b618)\" d=\"M 197.79927 322.860128 \nC 198.361851 322.860128 198.901466 322.636612 199.29927 322.238807 \nC 199.697075 321.841003 199.920591 321.301388 199.920591 320.738807 \nC 199.920591 320.176227 199.697075 319.636612 199.29927 319.238807 \nC 198.901466 318.841003 198.361851 318.617487 197.79927 318.617487 \nC 197.23669 318.617487 196.697075 318.841003 196.29927 319.238807 \nC 195.901466 319.636612 195.67795 320.176227 195.67795 320.738807 \nC 195.67795 321.301388 195.901466 321.841003 196.29927 322.238807 \nC 196.697075 322.636612 197.23669 322.860128 197.79927 322.860128 \nz\n\" style=\"fill:#1f77b4;stroke:#ffffff;stroke-width:0.339411;\"/>\n    <path clip-path=\"url(#pd46349b618)\" d=\"M 171.527717 219.436188 \nC 172.090298 219.436188 172.629912 219.212673 173.027717 218.814868 \nC 173.425522 218.417063 173.649037 217.877449 173.649037 217.314868 \nC 173.649037 216.752287 173.425522 216.212673 173.027717 215.814868 \nC 172.629912 215.417063 172.090298 215.193548 171.527717 215.193548 \nC 170.965136 215.193548 170.425522 215.417063 170.027717 215.814868 \nC 169.629912 216.212673 169.406397 216.752287 169.406397 217.314868 \nC 169.406397 217.877449 169.629912 218.417063 170.027717 218.814868 \nC 170.425522 219.212673 170.965136 219.436188 171.527717 219.436188 \nz\n\" style=\"fill:#1f77b4;stroke:#ffffff;stroke-width:0.339411;\"/>\n    <path clip-path=\"url(#pd46349b618)\" d=\"M 146.731417 293.738104 \nC 147.293998 293.738104 147.833612 293.514588 148.231417 293.116784 \nC 148.629222 292.718979 148.852737 292.179364 148.852737 291.616784 \nC 148.852737 291.054203 148.629222 290.514588 148.231417 290.116784 \nC 147.833612 289.718979 147.293998 289.495463 146.731417 289.495463 \nC 146.168836 289.495463 145.629222 289.718979 145.231417 290.116784 \nC 144.833612 290.514588 144.610097 291.054203 144.610097 291.616784 \nC 144.610097 292.179364 144.833612 292.718979 145.231417 293.116784 \nC 145.629222 293.514588 146.168836 293.738104 146.731417 293.738104 \nz\n\" style=\"fill:#1f77b4;stroke:#ffffff;stroke-width:0.339411;\"/>\n    <path clip-path=\"url(#pd46349b618)\" d=\"M 143.770368 275.133796 \nC 144.332949 275.133796 144.872564 274.91028 145.270368 274.512475 \nC 145.668173 274.114671 145.891689 273.575056 145.891689 273.012475 \nC 145.891689 272.449895 145.668173 271.91028 145.270368 271.512475 \nC 144.872564 271.114671 144.332949 270.891155 143.770368 270.891155 \nC 143.207788 270.891155 142.668173 271.114671 142.270368 271.512475 \nC 141.872564 271.91028 141.649048 272.449895 141.649048 273.012475 \nC 141.649048 273.575056 141.872564 274.114671 142.270368 274.512475 \nC 142.668173 274.91028 143.207788 275.133796 143.770368 275.133796 \nz\n\" style=\"fill:#1f77b4;stroke:#ffffff;stroke-width:0.339411;\"/>\n    <path clip-path=\"url(#pd46349b618)\" d=\"M 132.286174 257.018588 \nC 132.848755 257.018588 133.38837 256.795073 133.786174 256.397268 \nC 134.183979 255.999463 134.407495 255.459849 134.407495 254.897268 \nC 134.407495 254.334687 134.183979 253.795073 133.786174 253.397268 \nC 133.38837 252.999463 132.848755 252.775948 132.286174 252.775948 \nC 131.723594 252.775948 131.183979 252.999463 130.786174 253.397268 \nC 130.38837 253.795073 130.164854 254.334687 130.164854 254.897268 \nC 130.164854 255.459849 130.38837 255.999463 130.786174 256.397268 \nC 131.183979 256.795073 131.723594 257.018588 132.286174 257.018588 \nz\n\" style=\"fill:#1f77b4;stroke:#ffffff;stroke-width:0.339411;\"/>\n    <path clip-path=\"url(#pd46349b618)\" d=\"M 130.604042 241.275937 \nC 131.166623 241.275937 131.706238 241.052421 132.104042 240.654617 \nC 132.501847 240.256812 132.725363 239.717197 132.725363 239.154617 \nC 132.725363 238.592036 132.501847 238.052421 132.104042 237.654617 \nC 131.706238 237.256812 131.166623 237.033296 130.604042 237.033296 \nC 130.041461 237.033296 129.501847 237.256812 129.104042 237.654617 \nC 128.706238 238.052421 128.482722 238.592036 128.482722 239.154617 \nC 128.482722 239.717197 128.706238 240.256812 129.104042 240.654617 \nC 129.501847 241.052421 130.041461 241.275937 130.604042 241.275937 \nz\n\" style=\"fill:#1f77b4;stroke:#ffffff;stroke-width:0.339411;\"/>\n    <path clip-path=\"url(#pd46349b618)\" d=\"M 128.208448 227.545375 \nC 128.771029 227.545375 129.310643 227.321859 129.708448 226.924054 \nC 130.106253 226.52625 130.329768 225.986635 130.329768 225.424054 \nC 130.329768 224.861474 130.106253 224.321859 129.708448 223.924054 \nC 129.310643 223.52625 128.771029 223.302734 128.208448 223.302734 \nC 127.645867 223.302734 127.106253 223.52625 126.708448 223.924054 \nC 126.310643 224.321859 126.087128 224.861474 126.087128 225.424054 \nC 126.087128 225.986635 126.310643 226.52625 126.708448 226.924054 \nC 127.106253 227.321859 127.645867 227.545375 128.208448 227.545375 \nz\n\" style=\"fill:#1f77b4;stroke:#ffffff;stroke-width:0.339411;\"/>\n    <path clip-path=\"url(#pd46349b618)\" d=\"M 115.132682 282.762035 \nC 115.695263 282.762035 116.234878 282.538519 116.632682 282.140714 \nC 117.030487 281.74291 117.254003 281.203295 117.254003 280.640714 \nC 117.254003 280.078134 117.030487 279.538519 116.632682 279.140714 \nC 116.234878 278.74291 115.695263 278.519394 115.132682 278.519394 \nC 114.570102 278.519394 114.030487 278.74291 113.632682 279.140714 \nC 113.234878 279.538519 113.011362 280.078134 113.011362 280.640714 \nC 113.011362 281.203295 113.234878 281.74291 113.632682 282.140714 \nC 114.030487 282.538519 114.570102 282.762035 115.132682 282.762035 \nz\n\" style=\"fill:#1f77b4;stroke:#ffffff;stroke-width:0.339411;\"/>\n    <path clip-path=\"url(#pd46349b618)\" d=\"M 102.172638 279.805689 \nC 102.735219 279.805689 103.274834 279.582173 103.672638 279.184369 \nC 104.070443 278.786564 104.293959 278.246949 104.293959 277.684369 \nC 104.293959 277.121788 104.070443 276.582173 103.672638 276.184369 \nC 103.274834 275.786564 102.735219 275.563048 102.172638 275.563048 \nC 101.610058 275.563048 101.070443 275.786564 100.672638 276.184369 \nC 100.274834 276.582173 100.051318 277.121788 100.051318 277.684369 \nC 100.051318 278.246949 100.274834 278.786564 100.672638 279.184369 \nC 101.070443 279.582173 101.610058 279.805689 102.172638 279.805689 \nz\n\" style=\"fill:#1f77b4;stroke:#ffffff;stroke-width:0.339411;\"/>\n    <path clip-path=\"url(#pd46349b618)\" d=\"M 85.509504 295.739023 \nC 86.072085 295.739023 86.6117 295.515507 87.009504 295.117702 \nC 87.407309 294.719898 87.630825 294.180283 87.630825 293.617702 \nC 87.630825 293.055122 87.407309 292.515507 87.009504 292.117702 \nC 86.6117 291.719898 86.072085 291.496382 85.509504 291.496382 \nC 84.946924 291.496382 84.407309 291.719898 84.009504 292.117702 \nC 83.6117 292.515507 83.388184 293.055122 83.388184 293.617702 \nC 83.388184 294.180283 83.6117 294.719898 84.009504 295.117702 \nC 84.407309 295.515507 84.946924 295.739023 85.509504 295.739023 \nz\n\" style=\"fill:#1f77b4;stroke:#ffffff;stroke-width:0.339411;\"/>\n    <path clip-path=\"url(#pd46349b618)\" d=\"M 81.166565 341.171058 \nC 81.729146 341.171058 82.26876 340.947543 82.666565 340.549738 \nC 83.064369 340.151933 83.287885 339.612319 83.287885 339.049738 \nC 83.287885 338.487157 83.064369 337.947543 82.666565 337.549738 \nC 82.26876 337.151933 81.729146 336.928418 81.166565 336.928418 \nC 80.603984 336.928418 80.064369 337.151933 79.666565 337.549738 \nC 79.26876 337.947543 79.045244 338.487157 79.045244 339.049738 \nC 79.045244 339.612319 79.26876 340.151933 79.666565 340.549738 \nC 80.064369 340.947543 80.603984 341.171058 81.166565 341.171058 \nz\n\" style=\"fill:#1f77b4;stroke:#ffffff;stroke-width:0.339411;\"/>\n    <path clip-path=\"url(#pd46349b618)\" d=\"M 67.456445 342.953983 \nC 68.019025 342.953983 68.55864 342.730467 68.956445 342.332662 \nC 69.354249 341.934858 69.577765 341.395243 69.577765 340.832662 \nC 69.577765 340.270082 69.354249 339.730467 68.956445 339.332662 \nC 68.55864 338.934858 68.019025 338.711342 67.456445 338.711342 \nC 66.893864 338.711342 66.354249 338.934858 65.956445 339.332662 \nC 65.55864 339.730467 65.335124 340.270082 65.335124 340.832662 \nC 65.335124 341.395243 65.55864 341.934858 65.956445 342.332662 \nC 66.354249 342.730467 66.893864 342.953983 67.456445 342.953983 \nz\n\" style=\"fill:#1f77b4;stroke:#ffffff;stroke-width:0.339411;\"/>\n    <path clip-path=\"url(#pd46349b618)\" d=\"M 66.28024 372.544957 \nC 66.842821 372.544957 67.382436 372.321441 67.78024 371.923636 \nC 68.178045 371.525832 68.401561 370.986217 68.401561 370.423636 \nC 68.401561 369.861056 68.178045 369.321441 67.78024 368.923636 \nC 67.382436 368.525832 66.842821 368.302316 66.28024 368.302316 \nC 65.71766 368.302316 65.178045 368.525832 64.78024 368.923636 \nC 64.382436 369.321441 64.15892 369.861056 64.15892 370.423636 \nC 64.15892 370.986217 64.382436 371.525832 64.78024 371.923636 \nC 65.178045 372.321441 65.71766 372.544957 66.28024 372.544957 \nz\n\" style=\"fill:#1f77b4;stroke:#ffffff;stroke-width:0.339411;\"/>\n    <path clip-path=\"url(#pd46349b618)\" d=\"M 58.792045 325.751589 \nC 59.354626 325.751589 59.894241 325.528073 60.292045 325.130268 \nC 60.68985 324.732464 60.913366 324.192849 60.913366 323.630268 \nC 60.913366 323.067688 60.68985 322.528073 60.292045 322.130268 \nC 59.894241 321.732464 59.354626 321.508948 58.792045 321.508948 \nC 58.229465 321.508948 57.68985 321.732464 57.292045 322.130268 \nC 56.894241 322.528073 56.670725 323.067688 56.670725 323.630268 \nC 56.670725 324.192849 56.894241 324.732464 57.292045 325.130268 \nC 57.68985 325.528073 58.229465 325.751589 58.792045 325.751589 \nz\n\" style=\"fill:#1f77b4;stroke:#ffffff;stroke-width:0.339411;\"/>\n   </g>\n   <g id=\"matplotlib.axis_1\">\n    <g id=\"xtick_1\">\n     <g id=\"line2d_1\">\n      <defs>\n       <path d=\"M 0 0 \nL 0 3.5 \n\" id=\"m8ff5b2b33a\" style=\"stroke:#000000;stroke-width:0.8;\"/>\n      </defs>\n      <g>\n       <use style=\"stroke:#000000;stroke-width:0.8;\" x=\"93.871828\" xlink:href=\"#m8ff5b2b33a\" y=\"387.72\"/>\n      </g>\n     </g>\n     <g id=\"text_1\">\n      <!-- 20 -->\n      <g transform=\"translate(87.509328 402.318438)scale(0.1 -0.1)\">\n       <defs>\n        <path d=\"M 19.1875 8.296875 \nL 53.609375 8.296875 \nL 53.609375 0 \nL 7.328125 0 \nL 7.328125 8.296875 \nQ 12.9375 14.109375 22.625 23.890625 \nQ 32.328125 33.6875 34.8125 36.53125 \nQ 39.546875 41.84375 41.421875 45.53125 \nQ 43.3125 49.21875 43.3125 52.78125 \nQ 43.3125 58.59375 39.234375 62.25 \nQ 35.15625 65.921875 28.609375 65.921875 \nQ 23.96875 65.921875 18.8125 64.3125 \nQ 13.671875 62.703125 7.8125 59.421875 \nL 7.8125 69.390625 \nQ 13.765625 71.78125 18.9375 73 \nQ 24.125 74.21875 28.421875 74.21875 \nQ 39.75 74.21875 46.484375 68.546875 \nQ 53.21875 62.890625 53.21875 53.421875 \nQ 53.21875 48.921875 51.53125 44.890625 \nQ 49.859375 40.875 45.40625 35.40625 \nQ 44.1875 33.984375 37.640625 27.21875 \nQ 31.109375 20.453125 19.1875 8.296875 \nz\n\" id=\"DejaVuSans-50\"/>\n        <path d=\"M 31.78125 66.40625 \nQ 24.171875 66.40625 20.328125 58.90625 \nQ 16.5 51.421875 16.5 36.375 \nQ 16.5 21.390625 20.328125 13.890625 \nQ 24.171875 6.390625 31.78125 6.390625 \nQ 39.453125 6.390625 43.28125 13.890625 \nQ 47.125 21.390625 47.125 36.375 \nQ 47.125 51.421875 43.28125 58.90625 \nQ 39.453125 66.40625 31.78125 66.40625 \nz\nM 31.78125 74.21875 \nQ 44.046875 74.21875 50.515625 64.515625 \nQ 56.984375 54.828125 56.984375 36.375 \nQ 56.984375 17.96875 50.515625 8.265625 \nQ 44.046875 -1.421875 31.78125 -1.421875 \nQ 19.53125 -1.421875 13.0625 8.265625 \nQ 6.59375 17.96875 6.59375 36.375 \nQ 6.59375 54.828125 13.0625 64.515625 \nQ 19.53125 74.21875 31.78125 74.21875 \nz\n\" id=\"DejaVuSans-48\"/>\n       </defs>\n       <use xlink:href=\"#DejaVuSans-50\"/>\n       <use x=\"63.623047\" xlink:href=\"#DejaVuSans-48\"/>\n      </g>\n     </g>\n    </g>\n    <g id=\"xtick_2\">\n     <g id=\"line2d_2\">\n      <g>\n       <use style=\"stroke:#000000;stroke-width:0.8;\" x=\"155.652173\" xlink:href=\"#m8ff5b2b33a\" y=\"387.72\"/>\n      </g>\n     </g>\n     <g id=\"text_2\">\n      <!-- 30 -->\n      <g transform=\"translate(149.289673 402.318438)scale(0.1 -0.1)\">\n       <defs>\n        <path d=\"M 40.578125 39.3125 \nQ 47.65625 37.796875 51.625 33 \nQ 55.609375 28.21875 55.609375 21.1875 \nQ 55.609375 10.40625 48.1875 4.484375 \nQ 40.765625 -1.421875 27.09375 -1.421875 \nQ 22.515625 -1.421875 17.65625 -0.515625 \nQ 12.796875 0.390625 7.625 2.203125 \nL 7.625 11.71875 \nQ 11.71875 9.328125 16.59375 8.109375 \nQ 21.484375 6.890625 26.8125 6.890625 \nQ 36.078125 6.890625 40.9375 10.546875 \nQ 45.796875 14.203125 45.796875 21.1875 \nQ 45.796875 27.640625 41.28125 31.265625 \nQ 36.765625 34.90625 28.71875 34.90625 \nL 20.21875 34.90625 \nL 20.21875 43.015625 \nL 29.109375 43.015625 \nQ 36.375 43.015625 40.234375 45.921875 \nQ 44.09375 48.828125 44.09375 54.296875 \nQ 44.09375 59.90625 40.109375 62.90625 \nQ 36.140625 65.921875 28.71875 65.921875 \nQ 24.65625 65.921875 20.015625 65.03125 \nQ 15.375 64.15625 9.8125 62.3125 \nL 9.8125 71.09375 \nQ 15.4375 72.65625 20.34375 73.4375 \nQ 25.25 74.21875 29.59375 74.21875 \nQ 40.828125 74.21875 47.359375 69.109375 \nQ 53.90625 64.015625 53.90625 55.328125 \nQ 53.90625 49.265625 50.4375 45.09375 \nQ 46.96875 40.921875 40.578125 39.3125 \nz\n\" id=\"DejaVuSans-51\"/>\n       </defs>\n       <use xlink:href=\"#DejaVuSans-51\"/>\n       <use x=\"63.623047\" xlink:href=\"#DejaVuSans-48\"/>\n      </g>\n     </g>\n    </g>\n    <g id=\"xtick_3\">\n     <g id=\"line2d_3\">\n      <g>\n       <use style=\"stroke:#000000;stroke-width:0.8;\" x=\"217.432518\" xlink:href=\"#m8ff5b2b33a\" y=\"387.72\"/>\n      </g>\n     </g>\n     <g id=\"text_3\">\n      <!-- 40 -->\n      <g transform=\"translate(211.070018 402.318438)scale(0.1 -0.1)\">\n       <defs>\n        <path d=\"M 37.796875 64.3125 \nL 12.890625 25.390625 \nL 37.796875 25.390625 \nz\nM 35.203125 72.90625 \nL 47.609375 72.90625 \nL 47.609375 25.390625 \nL 58.015625 25.390625 \nL 58.015625 17.1875 \nL 47.609375 17.1875 \nL 47.609375 0 \nL 37.796875 0 \nL 37.796875 17.1875 \nL 4.890625 17.1875 \nL 4.890625 26.703125 \nz\n\" id=\"DejaVuSans-52\"/>\n       </defs>\n       <use xlink:href=\"#DejaVuSans-52\"/>\n       <use x=\"63.623047\" xlink:href=\"#DejaVuSans-48\"/>\n      </g>\n     </g>\n    </g>\n    <g id=\"xtick_4\">\n     <g id=\"line2d_4\">\n      <g>\n       <use style=\"stroke:#000000;stroke-width:0.8;\" x=\"279.212863\" xlink:href=\"#m8ff5b2b33a\" y=\"387.72\"/>\n      </g>\n     </g>\n     <g id=\"text_4\">\n      <!-- 50 -->\n      <g transform=\"translate(272.850363 402.318438)scale(0.1 -0.1)\">\n       <defs>\n        <path d=\"M 10.796875 72.90625 \nL 49.515625 72.90625 \nL 49.515625 64.59375 \nL 19.828125 64.59375 \nL 19.828125 46.734375 \nQ 21.96875 47.46875 24.109375 47.828125 \nQ 26.265625 48.1875 28.421875 48.1875 \nQ 40.625 48.1875 47.75 41.5 \nQ 54.890625 34.8125 54.890625 23.390625 \nQ 54.890625 11.625 47.5625 5.09375 \nQ 40.234375 -1.421875 26.90625 -1.421875 \nQ 22.3125 -1.421875 17.546875 -0.640625 \nQ 12.796875 0.140625 7.71875 1.703125 \nL 7.71875 11.625 \nQ 12.109375 9.234375 16.796875 8.0625 \nQ 21.484375 6.890625 26.703125 6.890625 \nQ 35.15625 6.890625 40.078125 11.328125 \nQ 45.015625 15.765625 45.015625 23.390625 \nQ 45.015625 31 40.078125 35.4375 \nQ 35.15625 39.890625 26.703125 39.890625 \nQ 22.75 39.890625 18.8125 39.015625 \nQ 14.890625 38.140625 10.796875 36.28125 \nz\n\" id=\"DejaVuSans-53\"/>\n       </defs>\n       <use xlink:href=\"#DejaVuSans-53\"/>\n       <use x=\"63.623047\" xlink:href=\"#DejaVuSans-48\"/>\n      </g>\n     </g>\n    </g>\n    <g id=\"xtick_5\">\n     <g id=\"line2d_5\">\n      <g>\n       <use style=\"stroke:#000000;stroke-width:0.8;\" x=\"340.993208\" xlink:href=\"#m8ff5b2b33a\" y=\"387.72\"/>\n      </g>\n     </g>\n     <g id=\"text_5\">\n      <!-- 60 -->\n      <g transform=\"translate(334.630708 402.318438)scale(0.1 -0.1)\">\n       <defs>\n        <path d=\"M 33.015625 40.375 \nQ 26.375 40.375 22.484375 35.828125 \nQ 18.609375 31.296875 18.609375 23.390625 \nQ 18.609375 15.53125 22.484375 10.953125 \nQ 26.375 6.390625 33.015625 6.390625 \nQ 39.65625 6.390625 43.53125 10.953125 \nQ 47.40625 15.53125 47.40625 23.390625 \nQ 47.40625 31.296875 43.53125 35.828125 \nQ 39.65625 40.375 33.015625 40.375 \nz\nM 52.59375 71.296875 \nL 52.59375 62.3125 \nQ 48.875 64.0625 45.09375 64.984375 \nQ 41.3125 65.921875 37.59375 65.921875 \nQ 27.828125 65.921875 22.671875 59.328125 \nQ 17.53125 52.734375 16.796875 39.40625 \nQ 19.671875 43.65625 24.015625 45.921875 \nQ 28.375 48.1875 33.59375 48.1875 \nQ 44.578125 48.1875 50.953125 41.515625 \nQ 57.328125 34.859375 57.328125 23.390625 \nQ 57.328125 12.15625 50.6875 5.359375 \nQ 44.046875 -1.421875 33.015625 -1.421875 \nQ 20.359375 -1.421875 13.671875 8.265625 \nQ 6.984375 17.96875 6.984375 36.375 \nQ 6.984375 53.65625 15.1875 63.9375 \nQ 23.390625 74.21875 37.203125 74.21875 \nQ 40.921875 74.21875 44.703125 73.484375 \nQ 48.484375 72.75 52.59375 71.296875 \nz\n\" id=\"DejaVuSans-54\"/>\n       </defs>\n       <use xlink:href=\"#DejaVuSans-54\"/>\n       <use x=\"63.623047\" xlink:href=\"#DejaVuSans-48\"/>\n      </g>\n     </g>\n    </g>\n    <g id=\"xtick_6\">\n     <g id=\"line2d_6\">\n      <g>\n       <use style=\"stroke:#000000;stroke-width:0.8;\" x=\"402.773553\" xlink:href=\"#m8ff5b2b33a\" y=\"387.72\"/>\n      </g>\n     </g>\n     <g id=\"text_6\">\n      <!-- 70 -->\n      <g transform=\"translate(396.411053 402.318438)scale(0.1 -0.1)\">\n       <defs>\n        <path d=\"M 8.203125 72.90625 \nL 55.078125 72.90625 \nL 55.078125 68.703125 \nL 28.609375 0 \nL 18.3125 0 \nL 43.21875 64.59375 \nL 8.203125 64.59375 \nz\n\" id=\"DejaVuSans-55\"/>\n       </defs>\n       <use xlink:href=\"#DejaVuSans-55\"/>\n       <use x=\"63.623047\" xlink:href=\"#DejaVuSans-48\"/>\n      </g>\n     </g>\n    </g>\n    <g id=\"text_7\">\n     <!-- Zgony nie w pełni zaszczepionych na 100 tys. mieszkańców -->\n     <g transform=\"translate(86.45625 416.430938)scale(0.1 -0.1)\">\n      <defs>\n       <path d=\"M 5.609375 72.90625 \nL 62.890625 72.90625 \nL 62.890625 65.375 \nL 16.796875 8.296875 \nL 64.015625 8.296875 \nL 64.015625 0 \nL 4.5 0 \nL 4.5 7.515625 \nL 50.59375 64.59375 \nL 5.609375 64.59375 \nz\n\" id=\"DejaVuSans-90\"/>\n       <path d=\"M 45.40625 27.984375 \nQ 45.40625 37.75 41.375 43.109375 \nQ 37.359375 48.484375 30.078125 48.484375 \nQ 22.859375 48.484375 18.828125 43.109375 \nQ 14.796875 37.75 14.796875 27.984375 \nQ 14.796875 18.265625 18.828125 12.890625 \nQ 22.859375 7.515625 30.078125 7.515625 \nQ 37.359375 7.515625 41.375 12.890625 \nQ 45.40625 18.265625 45.40625 27.984375 \nz\nM 54.390625 6.78125 \nQ 54.390625 -7.171875 48.1875 -13.984375 \nQ 42 -20.796875 29.203125 -20.796875 \nQ 24.46875 -20.796875 20.265625 -20.09375 \nQ 16.0625 -19.390625 12.109375 -17.921875 \nL 12.109375 -9.1875 \nQ 16.0625 -11.328125 19.921875 -12.34375 \nQ 23.78125 -13.375 27.78125 -13.375 \nQ 36.625 -13.375 41.015625 -8.765625 \nQ 45.40625 -4.15625 45.40625 5.171875 \nL 45.40625 9.625 \nQ 42.625 4.78125 38.28125 2.390625 \nQ 33.9375 0 27.875 0 \nQ 17.828125 0 11.671875 7.65625 \nQ 5.515625 15.328125 5.515625 27.984375 \nQ 5.515625 40.671875 11.671875 48.328125 \nQ 17.828125 56 27.875 56 \nQ 33.9375 56 38.28125 53.609375 \nQ 42.625 51.21875 45.40625 46.390625 \nL 45.40625 54.6875 \nL 54.390625 54.6875 \nz\n\" id=\"DejaVuSans-103\"/>\n       <path d=\"M 30.609375 48.390625 \nQ 23.390625 48.390625 19.1875 42.75 \nQ 14.984375 37.109375 14.984375 27.296875 \nQ 14.984375 17.484375 19.15625 11.84375 \nQ 23.34375 6.203125 30.609375 6.203125 \nQ 37.796875 6.203125 41.984375 11.859375 \nQ 46.1875 17.53125 46.1875 27.296875 \nQ 46.1875 37.015625 41.984375 42.703125 \nQ 37.796875 48.390625 30.609375 48.390625 \nz\nM 30.609375 56 \nQ 42.328125 56 49.015625 48.375 \nQ 55.71875 40.765625 55.71875 27.296875 \nQ 55.71875 13.875 49.015625 6.21875 \nQ 42.328125 -1.421875 30.609375 -1.421875 \nQ 18.84375 -1.421875 12.171875 6.21875 \nQ 5.515625 13.875 5.515625 27.296875 \nQ 5.515625 40.765625 12.171875 48.375 \nQ 18.84375 56 30.609375 56 \nz\n\" id=\"DejaVuSans-111\"/>\n       <path d=\"M 54.890625 33.015625 \nL 54.890625 0 \nL 45.90625 0 \nL 45.90625 32.71875 \nQ 45.90625 40.484375 42.875 44.328125 \nQ 39.84375 48.1875 33.796875 48.1875 \nQ 26.515625 48.1875 22.3125 43.546875 \nQ 18.109375 38.921875 18.109375 30.90625 \nL 18.109375 0 \nL 9.078125 0 \nL 9.078125 54.6875 \nL 18.109375 54.6875 \nL 18.109375 46.1875 \nQ 21.34375 51.125 25.703125 53.5625 \nQ 30.078125 56 35.796875 56 \nQ 45.21875 56 50.046875 50.171875 \nQ 54.890625 44.34375 54.890625 33.015625 \nz\n\" id=\"DejaVuSans-110\"/>\n       <path d=\"M 32.171875 -5.078125 \nQ 28.375 -14.84375 24.75 -17.8125 \nQ 21.140625 -20.796875 15.09375 -20.796875 \nL 7.90625 -20.796875 \nL 7.90625 -13.28125 \nL 13.1875 -13.28125 \nQ 16.890625 -13.28125 18.9375 -11.515625 \nQ 21 -9.765625 23.484375 -3.21875 \nL 25.09375 0.875 \nL 2.984375 54.6875 \nL 12.5 54.6875 \nL 29.59375 11.921875 \nL 46.6875 54.6875 \nL 56.203125 54.6875 \nz\n\" id=\"DejaVuSans-121\"/>\n       <path id=\"DejaVuSans-32\"/>\n       <path d=\"M 9.421875 54.6875 \nL 18.40625 54.6875 \nL 18.40625 0 \nL 9.421875 0 \nz\nM 9.421875 75.984375 \nL 18.40625 75.984375 \nL 18.40625 64.59375 \nL 9.421875 64.59375 \nz\n\" id=\"DejaVuSans-105\"/>\n       <path d=\"M 56.203125 29.59375 \nL 56.203125 25.203125 \nL 14.890625 25.203125 \nQ 15.484375 15.921875 20.484375 11.0625 \nQ 25.484375 6.203125 34.421875 6.203125 \nQ 39.59375 6.203125 44.453125 7.46875 \nQ 49.3125 8.734375 54.109375 11.28125 \nL 54.109375 2.78125 \nQ 49.265625 0.734375 44.1875 -0.34375 \nQ 39.109375 -1.421875 33.890625 -1.421875 \nQ 20.796875 -1.421875 13.15625 6.1875 \nQ 5.515625 13.8125 5.515625 26.8125 \nQ 5.515625 40.234375 12.765625 48.109375 \nQ 20.015625 56 32.328125 56 \nQ 43.359375 56 49.78125 48.890625 \nQ 56.203125 41.796875 56.203125 29.59375 \nz\nM 47.21875 32.234375 \nQ 47.125 39.59375 43.09375 43.984375 \nQ 39.0625 48.390625 32.421875 48.390625 \nQ 24.90625 48.390625 20.390625 44.140625 \nQ 15.875 39.890625 15.1875 32.171875 \nz\n\" id=\"DejaVuSans-101\"/>\n       <path d=\"M 4.203125 54.6875 \nL 13.1875 54.6875 \nL 24.421875 12.015625 \nL 35.59375 54.6875 \nL 46.1875 54.6875 \nL 57.421875 12.015625 \nL 68.609375 54.6875 \nL 77.59375 54.6875 \nL 63.28125 0 \nL 52.6875 0 \nL 40.921875 44.828125 \nL 29.109375 0 \nL 18.5 0 \nz\n\" id=\"DejaVuSans-119\"/>\n       <path d=\"M 18.109375 8.203125 \nL 18.109375 -20.796875 \nL 9.078125 -20.796875 \nL 9.078125 54.6875 \nL 18.109375 54.6875 \nL 18.109375 46.390625 \nQ 20.953125 51.265625 25.265625 53.625 \nQ 29.59375 56 35.59375 56 \nQ 45.5625 56 51.78125 48.09375 \nQ 58.015625 40.1875 58.015625 27.296875 \nQ 58.015625 14.40625 51.78125 6.484375 \nQ 45.5625 -1.421875 35.59375 -1.421875 \nQ 29.59375 -1.421875 25.265625 0.953125 \nQ 20.953125 3.328125 18.109375 8.203125 \nz\nM 48.6875 27.296875 \nQ 48.6875 37.203125 44.609375 42.84375 \nQ 40.53125 48.484375 33.40625 48.484375 \nQ 26.265625 48.484375 22.1875 42.84375 \nQ 18.109375 37.203125 18.109375 27.296875 \nQ 18.109375 17.390625 22.1875 11.75 \nQ 26.265625 6.109375 33.40625 6.109375 \nQ 40.53125 6.109375 44.609375 11.75 \nQ 48.6875 17.390625 48.6875 27.296875 \nz\n\" id=\"DejaVuSans-112\"/>\n       <path d=\"M 9.71875 75.984375 \nL 18.703125 75.984375 \nL 18.703125 46.578125 \nL 24.8125 50.984375 \nL 28.515625 45.796875 \nL 18.703125 38.921875 \nL 18.703125 0 \nL 9.71875 0 \nL 9.71875 32.515625 \nL 3.71875 28.21875 \nL 0.09375 33.40625 \nL 9.71875 40.28125 \nz\n\" id=\"DejaVuSans-322\"/>\n       <path d=\"M 5.515625 54.6875 \nL 48.1875 54.6875 \nL 48.1875 46.484375 \nL 14.40625 7.171875 \nL 48.1875 7.171875 \nL 48.1875 0 \nL 4.296875 0 \nL 4.296875 8.203125 \nL 38.09375 47.515625 \nL 5.515625 47.515625 \nz\n\" id=\"DejaVuSans-122\"/>\n       <path d=\"M 34.28125 27.484375 \nQ 23.390625 27.484375 19.1875 25 \nQ 14.984375 22.515625 14.984375 16.5 \nQ 14.984375 11.71875 18.140625 8.90625 \nQ 21.296875 6.109375 26.703125 6.109375 \nQ 34.1875 6.109375 38.703125 11.40625 \nQ 43.21875 16.703125 43.21875 25.484375 \nL 43.21875 27.484375 \nz\nM 52.203125 31.203125 \nL 52.203125 0 \nL 43.21875 0 \nL 43.21875 8.296875 \nQ 40.140625 3.328125 35.546875 0.953125 \nQ 30.953125 -1.421875 24.3125 -1.421875 \nQ 15.921875 -1.421875 10.953125 3.296875 \nQ 6 8.015625 6 15.921875 \nQ 6 25.140625 12.171875 29.828125 \nQ 18.359375 34.515625 30.609375 34.515625 \nL 43.21875 34.515625 \nL 43.21875 35.40625 \nQ 43.21875 41.609375 39.140625 45 \nQ 35.0625 48.390625 27.6875 48.390625 \nQ 23 48.390625 18.546875 47.265625 \nQ 14.109375 46.140625 10.015625 43.890625 \nL 10.015625 52.203125 \nQ 14.9375 54.109375 19.578125 55.046875 \nQ 24.21875 56 28.609375 56 \nQ 40.484375 56 46.34375 49.84375 \nQ 52.203125 43.703125 52.203125 31.203125 \nz\n\" id=\"DejaVuSans-97\"/>\n       <path d=\"M 44.28125 53.078125 \nL 44.28125 44.578125 \nQ 40.484375 46.53125 36.375 47.5 \nQ 32.28125 48.484375 27.875 48.484375 \nQ 21.1875 48.484375 17.84375 46.4375 \nQ 14.5 44.390625 14.5 40.28125 \nQ 14.5 37.15625 16.890625 35.375 \nQ 19.28125 33.59375 26.515625 31.984375 \nL 29.59375 31.296875 \nQ 39.15625 29.25 43.1875 25.515625 \nQ 47.21875 21.78125 47.21875 15.09375 \nQ 47.21875 7.46875 41.1875 3.015625 \nQ 35.15625 -1.421875 24.609375 -1.421875 \nQ 20.21875 -1.421875 15.453125 -0.5625 \nQ 10.6875 0.296875 5.421875 2 \nL 5.421875 11.28125 \nQ 10.40625 8.6875 15.234375 7.390625 \nQ 20.0625 6.109375 24.8125 6.109375 \nQ 31.15625 6.109375 34.5625 8.28125 \nQ 37.984375 10.453125 37.984375 14.40625 \nQ 37.984375 18.0625 35.515625 20.015625 \nQ 33.0625 21.96875 24.703125 23.78125 \nL 21.578125 24.515625 \nQ 13.234375 26.265625 9.515625 29.90625 \nQ 5.8125 33.546875 5.8125 39.890625 \nQ 5.8125 47.609375 11.28125 51.796875 \nQ 16.75 56 26.8125 56 \nQ 31.78125 56 36.171875 55.265625 \nQ 40.578125 54.546875 44.28125 53.078125 \nz\n\" id=\"DejaVuSans-115\"/>\n       <path d=\"M 48.78125 52.59375 \nL 48.78125 44.1875 \nQ 44.96875 46.296875 41.140625 47.34375 \nQ 37.3125 48.390625 33.40625 48.390625 \nQ 24.65625 48.390625 19.8125 42.84375 \nQ 14.984375 37.3125 14.984375 27.296875 \nQ 14.984375 17.28125 19.8125 11.734375 \nQ 24.65625 6.203125 33.40625 6.203125 \nQ 37.3125 6.203125 41.140625 7.25 \nQ 44.96875 8.296875 48.78125 10.40625 \nL 48.78125 2.09375 \nQ 45.015625 0.34375 40.984375 -0.53125 \nQ 36.96875 -1.421875 32.421875 -1.421875 \nQ 20.0625 -1.421875 12.78125 6.34375 \nQ 5.515625 14.109375 5.515625 27.296875 \nQ 5.515625 40.671875 12.859375 48.328125 \nQ 20.21875 56 33.015625 56 \nQ 37.15625 56 41.109375 55.140625 \nQ 45.0625 54.296875 48.78125 52.59375 \nz\n\" id=\"DejaVuSans-99\"/>\n       <path d=\"M 54.890625 33.015625 \nL 54.890625 0 \nL 45.90625 0 \nL 45.90625 32.71875 \nQ 45.90625 40.484375 42.875 44.328125 \nQ 39.84375 48.1875 33.796875 48.1875 \nQ 26.515625 48.1875 22.3125 43.546875 \nQ 18.109375 38.921875 18.109375 30.90625 \nL 18.109375 0 \nL 9.078125 0 \nL 9.078125 75.984375 \nL 18.109375 75.984375 \nL 18.109375 46.1875 \nQ 21.34375 51.125 25.703125 53.5625 \nQ 30.078125 56 35.796875 56 \nQ 45.21875 56 50.046875 50.171875 \nQ 54.890625 44.34375 54.890625 33.015625 \nz\n\" id=\"DejaVuSans-104\"/>\n       <path d=\"M 12.40625 8.296875 \nL 28.515625 8.296875 \nL 28.515625 63.921875 \nL 10.984375 60.40625 \nL 10.984375 69.390625 \nL 28.421875 72.90625 \nL 38.28125 72.90625 \nL 38.28125 8.296875 \nL 54.390625 8.296875 \nL 54.390625 0 \nL 12.40625 0 \nz\n\" id=\"DejaVuSans-49\"/>\n       <path d=\"M 18.3125 70.21875 \nL 18.3125 54.6875 \nL 36.8125 54.6875 \nL 36.8125 47.703125 \nL 18.3125 47.703125 \nL 18.3125 18.015625 \nQ 18.3125 11.328125 20.140625 9.421875 \nQ 21.96875 7.515625 27.59375 7.515625 \nL 36.8125 7.515625 \nL 36.8125 0 \nL 27.59375 0 \nQ 17.1875 0 13.234375 3.875 \nQ 9.28125 7.765625 9.28125 18.015625 \nL 9.28125 47.703125 \nL 2.6875 47.703125 \nL 2.6875 54.6875 \nL 9.28125 54.6875 \nL 9.28125 70.21875 \nz\n\" id=\"DejaVuSans-116\"/>\n       <path d=\"M 10.6875 12.40625 \nL 21 12.40625 \nL 21 0 \nL 10.6875 0 \nz\n\" id=\"DejaVuSans-46\"/>\n       <path d=\"M 52 44.1875 \nQ 55.375 50.25 60.0625 53.125 \nQ 64.75 56 71.09375 56 \nQ 79.640625 56 84.28125 50.015625 \nQ 88.921875 44.046875 88.921875 33.015625 \nL 88.921875 0 \nL 79.890625 0 \nL 79.890625 32.71875 \nQ 79.890625 40.578125 77.09375 44.375 \nQ 74.3125 48.1875 68.609375 48.1875 \nQ 61.625 48.1875 57.5625 43.546875 \nQ 53.515625 38.921875 53.515625 30.90625 \nL 53.515625 0 \nL 44.484375 0 \nL 44.484375 32.71875 \nQ 44.484375 40.625 41.703125 44.40625 \nQ 38.921875 48.1875 33.109375 48.1875 \nQ 26.21875 48.1875 22.15625 43.53125 \nQ 18.109375 38.875 18.109375 30.90625 \nL 18.109375 0 \nL 9.078125 0 \nL 9.078125 54.6875 \nL 18.109375 54.6875 \nL 18.109375 46.1875 \nQ 21.1875 51.21875 25.484375 53.609375 \nQ 29.78125 56 35.6875 56 \nQ 41.65625 56 45.828125 52.96875 \nQ 50 49.953125 52 44.1875 \nz\n\" id=\"DejaVuSans-109\"/>\n       <path d=\"M 9.078125 75.984375 \nL 18.109375 75.984375 \nL 18.109375 31.109375 \nL 44.921875 54.6875 \nL 56.390625 54.6875 \nL 27.390625 29.109375 \nL 57.625 0 \nL 45.90625 0 \nL 18.109375 26.703125 \nL 18.109375 0 \nL 9.078125 0 \nz\n\" id=\"DejaVuSans-107\"/>\n       <path d=\"M 35.015625 80.328125 \nL 44.734375 80.328125 \nL 28.8125 61.96875 \nL 21.34375 61.96875 \nz\nM 54.890625 33.015625 \nL 54.890625 0 \nL 45.90625 0 \nL 45.90625 32.71875 \nQ 45.90625 40.484375 42.875 44.328125 \nQ 39.84375 48.1875 33.796875 48.1875 \nQ 26.515625 48.1875 22.3125 43.546875 \nQ 18.109375 38.921875 18.109375 30.90625 \nL 18.109375 0 \nL 9.078125 0 \nL 9.078125 54.6875 \nL 18.109375 54.6875 \nL 18.109375 46.1875 \nQ 21.34375 51.125 25.703125 53.5625 \nQ 30.078125 56 35.796875 56 \nQ 45.21875 56 50.046875 50.171875 \nQ 54.890625 44.34375 54.890625 33.015625 \nz\n\" id=\"DejaVuSans-324\"/>\n       <path d=\"M 30.609375 48.390625 \nQ 23.390625 48.390625 19.1875 42.75 \nQ 14.984375 37.109375 14.984375 27.296875 \nQ 14.984375 17.484375 19.15625 11.84375 \nQ 23.34375 6.203125 30.609375 6.203125 \nQ 37.796875 6.203125 41.984375 11.859375 \nQ 46.1875 17.53125 46.1875 27.296875 \nQ 46.1875 37.015625 41.984375 42.703125 \nQ 37.796875 48.390625 30.609375 48.390625 \nz\nM 30.609375 56 \nQ 42.328125 56 49.015625 48.375 \nQ 55.71875 40.765625 55.71875 27.296875 \nQ 55.71875 13.875 49.015625 6.21875 \nQ 42.328125 -1.421875 30.609375 -1.421875 \nQ 18.84375 -1.421875 12.171875 6.21875 \nQ 5.515625 13.875 5.515625 27.296875 \nQ 5.515625 40.765625 12.171875 48.375 \nQ 18.84375 56 30.609375 56 \nz\nM 37.40625 79.984375 \nL 47.125 79.984375 \nL 31.203125 61.625 \nL 23.734375 61.625 \nz\n\" id=\"DejaVuSans-243\"/>\n      </defs>\n      <use xlink:href=\"#DejaVuSans-90\"/>\n      <use x=\"68.505859\" xlink:href=\"#DejaVuSans-103\"/>\n      <use x=\"131.982422\" xlink:href=\"#DejaVuSans-111\"/>\n      <use x=\"193.164062\" xlink:href=\"#DejaVuSans-110\"/>\n      <use x=\"256.542969\" xlink:href=\"#DejaVuSans-121\"/>\n      <use x=\"315.722656\" xlink:href=\"#DejaVuSans-32\"/>\n      <use x=\"347.509766\" xlink:href=\"#DejaVuSans-110\"/>\n      <use x=\"410.888672\" xlink:href=\"#DejaVuSans-105\"/>\n      <use x=\"438.671875\" xlink:href=\"#DejaVuSans-101\"/>\n      <use x=\"500.195312\" xlink:href=\"#DejaVuSans-32\"/>\n      <use x=\"531.982422\" xlink:href=\"#DejaVuSans-119\"/>\n      <use x=\"613.769531\" xlink:href=\"#DejaVuSans-32\"/>\n      <use x=\"645.556641\" xlink:href=\"#DejaVuSans-112\"/>\n      <use x=\"709.033203\" xlink:href=\"#DejaVuSans-101\"/>\n      <use x=\"770.556641\" xlink:href=\"#DejaVuSans-322\"/>\n      <use x=\"798.974609\" xlink:href=\"#DejaVuSans-110\"/>\n      <use x=\"862.353516\" xlink:href=\"#DejaVuSans-105\"/>\n      <use x=\"890.136719\" xlink:href=\"#DejaVuSans-32\"/>\n      <use x=\"921.923828\" xlink:href=\"#DejaVuSans-122\"/>\n      <use x=\"974.414062\" xlink:href=\"#DejaVuSans-97\"/>\n      <use x=\"1035.693359\" xlink:href=\"#DejaVuSans-115\"/>\n      <use x=\"1087.792969\" xlink:href=\"#DejaVuSans-122\"/>\n      <use x=\"1140.283203\" xlink:href=\"#DejaVuSans-99\"/>\n      <use x=\"1195.263672\" xlink:href=\"#DejaVuSans-122\"/>\n      <use x=\"1247.753906\" xlink:href=\"#DejaVuSans-101\"/>\n      <use x=\"1309.277344\" xlink:href=\"#DejaVuSans-112\"/>\n      <use x=\"1372.753906\" xlink:href=\"#DejaVuSans-105\"/>\n      <use x=\"1400.537109\" xlink:href=\"#DejaVuSans-111\"/>\n      <use x=\"1461.71875\" xlink:href=\"#DejaVuSans-110\"/>\n      <use x=\"1525.097656\" xlink:href=\"#DejaVuSans-121\"/>\n      <use x=\"1584.277344\" xlink:href=\"#DejaVuSans-99\"/>\n      <use x=\"1639.257812\" xlink:href=\"#DejaVuSans-104\"/>\n      <use x=\"1702.636719\" xlink:href=\"#DejaVuSans-32\"/>\n      <use x=\"1734.423828\" xlink:href=\"#DejaVuSans-110\"/>\n      <use x=\"1797.802734\" xlink:href=\"#DejaVuSans-97\"/>\n      <use x=\"1859.082031\" xlink:href=\"#DejaVuSans-32\"/>\n      <use x=\"1890.869141\" xlink:href=\"#DejaVuSans-49\"/>\n      <use x=\"1954.492188\" xlink:href=\"#DejaVuSans-48\"/>\n      <use x=\"2018.115234\" xlink:href=\"#DejaVuSans-48\"/>\n      <use x=\"2081.738281\" xlink:href=\"#DejaVuSans-32\"/>\n      <use x=\"2113.525391\" xlink:href=\"#DejaVuSans-116\"/>\n      <use x=\"2152.734375\" xlink:href=\"#DejaVuSans-121\"/>\n      <use x=\"2211.914062\" xlink:href=\"#DejaVuSans-115\"/>\n      <use x=\"2264.013672\" xlink:href=\"#DejaVuSans-46\"/>\n      <use x=\"2295.800781\" xlink:href=\"#DejaVuSans-32\"/>\n      <use x=\"2327.587891\" xlink:href=\"#DejaVuSans-109\"/>\n      <use x=\"2425\" xlink:href=\"#DejaVuSans-105\"/>\n      <use x=\"2452.783203\" xlink:href=\"#DejaVuSans-101\"/>\n      <use x=\"2514.306641\" xlink:href=\"#DejaVuSans-115\"/>\n      <use x=\"2566.40625\" xlink:href=\"#DejaVuSans-122\"/>\n      <use x=\"2618.896484\" xlink:href=\"#DejaVuSans-107\"/>\n      <use x=\"2675.056641\" xlink:href=\"#DejaVuSans-97\"/>\n      <use x=\"2736.335938\" xlink:href=\"#DejaVuSans-324\"/>\n      <use x=\"2799.714844\" xlink:href=\"#DejaVuSans-99\"/>\n      <use x=\"2854.695312\" xlink:href=\"#DejaVuSans-243\"/>\n      <use x=\"2915.876953\" xlink:href=\"#DejaVuSans-119\"/>\n     </g>\n    </g>\n   </g>\n   <g id=\"matplotlib.axis_2\">\n    <g id=\"ytick_1\">\n     <g id=\"line2d_7\">\n      <defs>\n       <path d=\"M 0 0 \nL -3.5 0 \n\" id=\"mec4399ed77\" style=\"stroke:#000000;stroke-width:0.8;\"/>\n      </defs>\n      <g>\n       <use style=\"stroke:#000000;stroke-width:0.8;\" x=\"41.0375\" xlink:href=\"#mec4399ed77\" y=\"362.187279\"/>\n      </g>\n     </g>\n     <g id=\"text_8\">\n      <!-- 6 -->\n      <g transform=\"translate(27.675 365.986498)scale(0.1 -0.1)\">\n       <use xlink:href=\"#DejaVuSans-54\"/>\n      </g>\n     </g>\n    </g>\n    <g id=\"ytick_2\">\n     <g id=\"line2d_8\">\n      <g>\n       <use style=\"stroke:#000000;stroke-width:0.8;\" x=\"41.0375\" xlink:href=\"#mec4399ed77\" y=\"314.872174\"/>\n      </g>\n     </g>\n     <g id=\"text_9\">\n      <!-- 8 -->\n      <g transform=\"translate(27.675 318.671393)scale(0.1 -0.1)\">\n       <defs>\n        <path d=\"M 31.78125 34.625 \nQ 24.75 34.625 20.71875 30.859375 \nQ 16.703125 27.09375 16.703125 20.515625 \nQ 16.703125 13.921875 20.71875 10.15625 \nQ 24.75 6.390625 31.78125 6.390625 \nQ 38.8125 6.390625 42.859375 10.171875 \nQ 46.921875 13.96875 46.921875 20.515625 \nQ 46.921875 27.09375 42.890625 30.859375 \nQ 38.875 34.625 31.78125 34.625 \nz\nM 21.921875 38.8125 \nQ 15.578125 40.375 12.03125 44.71875 \nQ 8.5 49.078125 8.5 55.328125 \nQ 8.5 64.0625 14.71875 69.140625 \nQ 20.953125 74.21875 31.78125 74.21875 \nQ 42.671875 74.21875 48.875 69.140625 \nQ 55.078125 64.0625 55.078125 55.328125 \nQ 55.078125 49.078125 51.53125 44.71875 \nQ 48 40.375 41.703125 38.8125 \nQ 48.828125 37.15625 52.796875 32.3125 \nQ 56.78125 27.484375 56.78125 20.515625 \nQ 56.78125 9.90625 50.3125 4.234375 \nQ 43.84375 -1.421875 31.78125 -1.421875 \nQ 19.734375 -1.421875 13.25 4.234375 \nQ 6.78125 9.90625 6.78125 20.515625 \nQ 6.78125 27.484375 10.78125 32.3125 \nQ 14.796875 37.15625 21.921875 38.8125 \nz\nM 18.3125 54.390625 \nQ 18.3125 48.734375 21.84375 45.5625 \nQ 25.390625 42.390625 31.78125 42.390625 \nQ 38.140625 42.390625 41.71875 45.5625 \nQ 45.3125 48.734375 45.3125 54.390625 \nQ 45.3125 60.0625 41.71875 63.234375 \nQ 38.140625 66.40625 31.78125 66.40625 \nQ 25.390625 66.40625 21.84375 63.234375 \nQ 18.3125 60.0625 18.3125 54.390625 \nz\n\" id=\"DejaVuSans-56\"/>\n       </defs>\n       <use xlink:href=\"#DejaVuSans-56\"/>\n      </g>\n     </g>\n    </g>\n    <g id=\"ytick_3\">\n     <g id=\"line2d_9\">\n      <g>\n       <use style=\"stroke:#000000;stroke-width:0.8;\" x=\"41.0375\" xlink:href=\"#mec4399ed77\" y=\"267.557069\"/>\n      </g>\n     </g>\n     <g id=\"text_10\">\n      <!-- 10 -->\n      <g transform=\"translate(21.3125 271.356288)scale(0.1 -0.1)\">\n       <use xlink:href=\"#DejaVuSans-49\"/>\n       <use x=\"63.623047\" xlink:href=\"#DejaVuSans-48\"/>\n      </g>\n     </g>\n    </g>\n    <g id=\"ytick_4\">\n     <g id=\"line2d_10\">\n      <g>\n       <use style=\"stroke:#000000;stroke-width:0.8;\" x=\"41.0375\" xlink:href=\"#mec4399ed77\" y=\"220.241964\"/>\n      </g>\n     </g>\n     <g id=\"text_11\">\n      <!-- 12 -->\n      <g transform=\"translate(21.3125 224.041183)scale(0.1 -0.1)\">\n       <use xlink:href=\"#DejaVuSans-49\"/>\n       <use x=\"63.623047\" xlink:href=\"#DejaVuSans-50\"/>\n      </g>\n     </g>\n    </g>\n    <g id=\"ytick_5\">\n     <g id=\"line2d_11\">\n      <g>\n       <use style=\"stroke:#000000;stroke-width:0.8;\" x=\"41.0375\" xlink:href=\"#mec4399ed77\" y=\"172.926859\"/>\n      </g>\n     </g>\n     <g id=\"text_12\">\n      <!-- 14 -->\n      <g transform=\"translate(21.3125 176.726078)scale(0.1 -0.1)\">\n       <use xlink:href=\"#DejaVuSans-49\"/>\n       <use x=\"63.623047\" xlink:href=\"#DejaVuSans-52\"/>\n      </g>\n     </g>\n    </g>\n    <g id=\"ytick_6\">\n     <g id=\"line2d_12\">\n      <g>\n       <use style=\"stroke:#000000;stroke-width:0.8;\" x=\"41.0375\" xlink:href=\"#mec4399ed77\" y=\"125.611754\"/>\n      </g>\n     </g>\n     <g id=\"text_13\">\n      <!-- 16 -->\n      <g transform=\"translate(21.3125 129.410973)scale(0.1 -0.1)\">\n       <use xlink:href=\"#DejaVuSans-49\"/>\n       <use x=\"63.623047\" xlink:href=\"#DejaVuSans-54\"/>\n      </g>\n     </g>\n    </g>\n    <g id=\"ytick_7\">\n     <g id=\"line2d_13\">\n      <g>\n       <use style=\"stroke:#000000;stroke-width:0.8;\" x=\"41.0375\" xlink:href=\"#mec4399ed77\" y=\"78.296649\"/>\n      </g>\n     </g>\n     <g id=\"text_14\">\n      <!-- 18 -->\n      <g transform=\"translate(21.3125 82.095868)scale(0.1 -0.1)\">\n       <use xlink:href=\"#DejaVuSans-49\"/>\n       <use x=\"63.623047\" xlink:href=\"#DejaVuSans-56\"/>\n      </g>\n     </g>\n    </g>\n    <g id=\"ytick_8\">\n     <g id=\"line2d_14\">\n      <g>\n       <use style=\"stroke:#000000;stroke-width:0.8;\" x=\"41.0375\" xlink:href=\"#mec4399ed77\" y=\"30.981544\"/>\n      </g>\n     </g>\n     <g id=\"text_15\">\n      <!-- 20 -->\n      <g transform=\"translate(21.3125 34.780763)scale(0.1 -0.1)\">\n       <use xlink:href=\"#DejaVuSans-50\"/>\n       <use x=\"63.623047\" xlink:href=\"#DejaVuSans-48\"/>\n      </g>\n     </g>\n    </g>\n    <g id=\"text_16\">\n     <!-- Zgony w pełni zaszczepionych na 100 tys. mieszkańców -->\n     <g transform=\"translate(15.232812 338.117813)rotate(-90)scale(0.1 -0.1)\">\n      <use xlink:href=\"#DejaVuSans-90\"/>\n      <use x=\"68.505859\" xlink:href=\"#DejaVuSans-103\"/>\n      <use x=\"131.982422\" xlink:href=\"#DejaVuSans-111\"/>\n      <use x=\"193.164062\" xlink:href=\"#DejaVuSans-110\"/>\n      <use x=\"256.542969\" xlink:href=\"#DejaVuSans-121\"/>\n      <use x=\"315.722656\" xlink:href=\"#DejaVuSans-32\"/>\n      <use x=\"347.509766\" xlink:href=\"#DejaVuSans-119\"/>\n      <use x=\"429.296875\" xlink:href=\"#DejaVuSans-32\"/>\n      <use x=\"461.083984\" xlink:href=\"#DejaVuSans-112\"/>\n      <use x=\"524.560547\" xlink:href=\"#DejaVuSans-101\"/>\n      <use x=\"586.083984\" xlink:href=\"#DejaVuSans-322\"/>\n      <use x=\"614.501953\" xlink:href=\"#DejaVuSans-110\"/>\n      <use x=\"677.880859\" xlink:href=\"#DejaVuSans-105\"/>\n      <use x=\"705.664062\" xlink:href=\"#DejaVuSans-32\"/>\n      <use x=\"737.451172\" xlink:href=\"#DejaVuSans-122\"/>\n      <use x=\"789.941406\" xlink:href=\"#DejaVuSans-97\"/>\n      <use x=\"851.220703\" xlink:href=\"#DejaVuSans-115\"/>\n      <use x=\"903.320312\" xlink:href=\"#DejaVuSans-122\"/>\n      <use x=\"955.810547\" xlink:href=\"#DejaVuSans-99\"/>\n      <use x=\"1010.791016\" xlink:href=\"#DejaVuSans-122\"/>\n      <use x=\"1063.28125\" xlink:href=\"#DejaVuSans-101\"/>\n      <use x=\"1124.804688\" xlink:href=\"#DejaVuSans-112\"/>\n      <use x=\"1188.28125\" xlink:href=\"#DejaVuSans-105\"/>\n      <use x=\"1216.064453\" xlink:href=\"#DejaVuSans-111\"/>\n      <use x=\"1277.246094\" xlink:href=\"#DejaVuSans-110\"/>\n      <use x=\"1340.625\" xlink:href=\"#DejaVuSans-121\"/>\n      <use x=\"1399.804688\" xlink:href=\"#DejaVuSans-99\"/>\n      <use x=\"1454.785156\" xlink:href=\"#DejaVuSans-104\"/>\n      <use x=\"1518.164062\" xlink:href=\"#DejaVuSans-32\"/>\n      <use x=\"1549.951172\" xlink:href=\"#DejaVuSans-110\"/>\n      <use x=\"1613.330078\" xlink:href=\"#DejaVuSans-97\"/>\n      <use x=\"1674.609375\" xlink:href=\"#DejaVuSans-32\"/>\n      <use x=\"1706.396484\" xlink:href=\"#DejaVuSans-49\"/>\n      <use x=\"1770.019531\" xlink:href=\"#DejaVuSans-48\"/>\n      <use x=\"1833.642578\" xlink:href=\"#DejaVuSans-48\"/>\n      <use x=\"1897.265625\" xlink:href=\"#DejaVuSans-32\"/>\n      <use x=\"1929.052734\" xlink:href=\"#DejaVuSans-116\"/>\n      <use x=\"1968.261719\" xlink:href=\"#DejaVuSans-121\"/>\n      <use x=\"2027.441406\" xlink:href=\"#DejaVuSans-115\"/>\n      <use x=\"2079.541016\" xlink:href=\"#DejaVuSans-46\"/>\n      <use x=\"2111.328125\" xlink:href=\"#DejaVuSans-32\"/>\n      <use x=\"2143.115234\" xlink:href=\"#DejaVuSans-109\"/>\n      <use x=\"2240.527344\" xlink:href=\"#DejaVuSans-105\"/>\n      <use x=\"2268.310547\" xlink:href=\"#DejaVuSans-101\"/>\n      <use x=\"2329.833984\" xlink:href=\"#DejaVuSans-115\"/>\n      <use x=\"2381.933594\" xlink:href=\"#DejaVuSans-122\"/>\n      <use x=\"2434.423828\" xlink:href=\"#DejaVuSans-107\"/>\n      <use x=\"2490.583984\" xlink:href=\"#DejaVuSans-97\"/>\n      <use x=\"2551.863281\" xlink:href=\"#DejaVuSans-324\"/>\n      <use x=\"2615.242188\" xlink:href=\"#DejaVuSans-99\"/>\n      <use x=\"2670.222656\" xlink:href=\"#DejaVuSans-243\"/>\n      <use x=\"2731.404297\" xlink:href=\"#DejaVuSans-119\"/>\n     </g>\n    </g>\n   </g>\n   <g id=\"patch_3\">\n    <path d=\"M 41.0375 387.72 \nL 41.0375 7.2 \n\" style=\"fill:none;stroke:#000000;stroke-linecap:square;stroke-linejoin:miter;stroke-width:0.8;\"/>\n   </g>\n   <g id=\"patch_4\">\n    <path d=\"M 431.6375 387.72 \nL 431.6375 7.2 \n\" style=\"fill:none;stroke:#000000;stroke-linecap:square;stroke-linejoin:miter;stroke-width:0.8;\"/>\n   </g>\n   <g id=\"patch_5\">\n    <path d=\"M 41.0375 387.72 \nL 431.6375 387.72 \n\" style=\"fill:none;stroke:#000000;stroke-linecap:square;stroke-linejoin:miter;stroke-width:0.8;\"/>\n   </g>\n   <g id=\"patch_6\">\n    <path d=\"M 41.0375 7.2 \nL 431.6375 7.2 \n\" style=\"fill:none;stroke:#000000;stroke-linecap:square;stroke-linejoin:miter;stroke-width:0.8;\"/>\n   </g>\n   <g id=\"text_17\">\n    <!-- Lubelskie -->\n    <g transform=\"translate(415.118561 24.496364)scale(0.07 -0.07)\">\n     <defs>\n      <path d=\"M 9.8125 72.90625 \nL 19.671875 72.90625 \nL 19.671875 8.296875 \nL 55.171875 8.296875 \nL 55.171875 0 \nL 9.8125 0 \nz\n\" id=\"DejaVuSans-76\"/>\n      <path d=\"M 8.5 21.578125 \nL 8.5 54.6875 \nL 17.484375 54.6875 \nL 17.484375 21.921875 \nQ 17.484375 14.15625 20.5 10.265625 \nQ 23.53125 6.390625 29.59375 6.390625 \nQ 36.859375 6.390625 41.078125 11.03125 \nQ 45.3125 15.671875 45.3125 23.6875 \nL 45.3125 54.6875 \nL 54.296875 54.6875 \nL 54.296875 0 \nL 45.3125 0 \nL 45.3125 8.40625 \nQ 42.046875 3.421875 37.71875 1 \nQ 33.40625 -1.421875 27.6875 -1.421875 \nQ 18.265625 -1.421875 13.375 4.4375 \nQ 8.5 10.296875 8.5 21.578125 \nz\nM 31.109375 56 \nz\n\" id=\"DejaVuSans-117\"/>\n      <path d=\"M 48.6875 27.296875 \nQ 48.6875 37.203125 44.609375 42.84375 \nQ 40.53125 48.484375 33.40625 48.484375 \nQ 26.265625 48.484375 22.1875 42.84375 \nQ 18.109375 37.203125 18.109375 27.296875 \nQ 18.109375 17.390625 22.1875 11.75 \nQ 26.265625 6.109375 33.40625 6.109375 \nQ 40.53125 6.109375 44.609375 11.75 \nQ 48.6875 17.390625 48.6875 27.296875 \nz\nM 18.109375 46.390625 \nQ 20.953125 51.265625 25.265625 53.625 \nQ 29.59375 56 35.59375 56 \nQ 45.5625 56 51.78125 48.09375 \nQ 58.015625 40.1875 58.015625 27.296875 \nQ 58.015625 14.40625 51.78125 6.484375 \nQ 45.5625 -1.421875 35.59375 -1.421875 \nQ 29.59375 -1.421875 25.265625 0.953125 \nQ 20.953125 3.328125 18.109375 8.203125 \nL 18.109375 0 \nL 9.078125 0 \nL 9.078125 75.984375 \nL 18.109375 75.984375 \nz\n\" id=\"DejaVuSans-98\"/>\n      <path d=\"M 9.421875 75.984375 \nL 18.40625 75.984375 \nL 18.40625 0 \nL 9.421875 0 \nz\n\" id=\"DejaVuSans-108\"/>\n     </defs>\n     <use xlink:href=\"#DejaVuSans-76\"/>\n     <use x=\"53.962891\" xlink:href=\"#DejaVuSans-117\"/>\n     <use x=\"117.341797\" xlink:href=\"#DejaVuSans-98\"/>\n     <use x=\"180.818359\" xlink:href=\"#DejaVuSans-101\"/>\n     <use x=\"242.341797\" xlink:href=\"#DejaVuSans-108\"/>\n     <use x=\"270.125\" xlink:href=\"#DejaVuSans-115\"/>\n     <use x=\"322.224609\" xlink:href=\"#DejaVuSans-107\"/>\n     <use x=\"380.134766\" xlink:href=\"#DejaVuSans-105\"/>\n     <use x=\"407.917969\" xlink:href=\"#DejaVuSans-101\"/>\n    </g>\n   </g>\n   <g id=\"text_18\">\n    <!-- Podlaskie -->\n    <g transform=\"translate(331.842369 115.032665)scale(0.07 -0.07)\">\n     <defs>\n      <path d=\"M 19.671875 64.796875 \nL 19.671875 37.40625 \nL 32.078125 37.40625 \nQ 38.96875 37.40625 42.71875 40.96875 \nQ 46.484375 44.53125 46.484375 51.125 \nQ 46.484375 57.671875 42.71875 61.234375 \nQ 38.96875 64.796875 32.078125 64.796875 \nz\nM 9.8125 72.90625 \nL 32.078125 72.90625 \nQ 44.34375 72.90625 50.609375 67.359375 \nQ 56.890625 61.8125 56.890625 51.125 \nQ 56.890625 40.328125 50.609375 34.8125 \nQ 44.34375 29.296875 32.078125 29.296875 \nL 19.671875 29.296875 \nL 19.671875 0 \nL 9.8125 0 \nz\n\" id=\"DejaVuSans-80\"/>\n      <path d=\"M 45.40625 46.390625 \nL 45.40625 75.984375 \nL 54.390625 75.984375 \nL 54.390625 0 \nL 45.40625 0 \nL 45.40625 8.203125 \nQ 42.578125 3.328125 38.25 0.953125 \nQ 33.9375 -1.421875 27.875 -1.421875 \nQ 17.96875 -1.421875 11.734375 6.484375 \nQ 5.515625 14.40625 5.515625 27.296875 \nQ 5.515625 40.1875 11.734375 48.09375 \nQ 17.96875 56 27.875 56 \nQ 33.9375 56 38.25 53.625 \nQ 42.578125 51.265625 45.40625 46.390625 \nz\nM 14.796875 27.296875 \nQ 14.796875 17.390625 18.875 11.75 \nQ 22.953125 6.109375 30.078125 6.109375 \nQ 37.203125 6.109375 41.296875 11.75 \nQ 45.40625 17.390625 45.40625 27.296875 \nQ 45.40625 37.203125 41.296875 42.84375 \nQ 37.203125 48.484375 30.078125 48.484375 \nQ 22.953125 48.484375 18.875 42.84375 \nQ 14.796875 37.203125 14.796875 27.296875 \nz\n\" id=\"DejaVuSans-100\"/>\n     </defs>\n     <use xlink:href=\"#DejaVuSans-80\"/>\n     <use x=\"56.677734\" xlink:href=\"#DejaVuSans-111\"/>\n     <use x=\"117.859375\" xlink:href=\"#DejaVuSans-100\"/>\n     <use x=\"181.335938\" xlink:href=\"#DejaVuSans-108\"/>\n     <use x=\"209.119141\" xlink:href=\"#DejaVuSans-97\"/>\n     <use x=\"270.398438\" xlink:href=\"#DejaVuSans-115\"/>\n     <use x=\"322.498047\" xlink:href=\"#DejaVuSans-107\"/>\n     <use x=\"380.408203\" xlink:href=\"#DejaVuSans-105\"/>\n     <use x=\"408.191406\" xlink:href=\"#DejaVuSans-101\"/>\n    </g>\n   </g>\n   <g id=\"text_19\">\n    <!-- Podkarpackie -->\n    <g transform=\"translate(199.034877 320.738807)scale(0.07 -0.07)\">\n     <defs>\n      <path d=\"M 41.109375 46.296875 \nQ 39.59375 47.171875 37.8125 47.578125 \nQ 36.03125 48 33.890625 48 \nQ 26.265625 48 22.1875 43.046875 \nQ 18.109375 38.09375 18.109375 28.8125 \nL 18.109375 0 \nL 9.078125 0 \nL 9.078125 54.6875 \nL 18.109375 54.6875 \nL 18.109375 46.1875 \nQ 20.953125 51.171875 25.484375 53.578125 \nQ 30.03125 56 36.53125 56 \nQ 37.453125 56 38.578125 55.875 \nQ 39.703125 55.765625 41.0625 55.515625 \nz\n\" id=\"DejaVuSans-114\"/>\n     </defs>\n     <use xlink:href=\"#DejaVuSans-80\"/>\n     <use x=\"56.677734\" xlink:href=\"#DejaVuSans-111\"/>\n     <use x=\"117.859375\" xlink:href=\"#DejaVuSans-100\"/>\n     <use x=\"181.335938\" xlink:href=\"#DejaVuSans-107\"/>\n     <use x=\"237.496094\" xlink:href=\"#DejaVuSans-97\"/>\n     <use x=\"298.775391\" xlink:href=\"#DejaVuSans-114\"/>\n     <use x=\"339.888672\" xlink:href=\"#DejaVuSans-112\"/>\n     <use x=\"403.365234\" xlink:href=\"#DejaVuSans-97\"/>\n     <use x=\"464.644531\" xlink:href=\"#DejaVuSans-99\"/>\n     <use x=\"519.625\" xlink:href=\"#DejaVuSans-107\"/>\n     <use x=\"577.535156\" xlink:href=\"#DejaVuSans-105\"/>\n     <use x=\"605.318359\" xlink:href=\"#DejaVuSans-101\"/>\n    </g>\n   </g>\n   <g id=\"text_20\">\n    <!-- Opolskie -->\n    <g transform=\"translate(172.763324 212.583357)scale(0.07 -0.07)\">\n     <defs>\n      <path d=\"M 39.40625 66.21875 \nQ 28.65625 66.21875 22.328125 58.203125 \nQ 16.015625 50.203125 16.015625 36.375 \nQ 16.015625 22.609375 22.328125 14.59375 \nQ 28.65625 6.59375 39.40625 6.59375 \nQ 50.140625 6.59375 56.421875 14.59375 \nQ 62.703125 22.609375 62.703125 36.375 \nQ 62.703125 50.203125 56.421875 58.203125 \nQ 50.140625 66.21875 39.40625 66.21875 \nz\nM 39.40625 74.21875 \nQ 54.734375 74.21875 63.90625 63.9375 \nQ 73.09375 53.65625 73.09375 36.375 \nQ 73.09375 19.140625 63.90625 8.859375 \nQ 54.734375 -1.421875 39.40625 -1.421875 \nQ 24.03125 -1.421875 14.8125 8.828125 \nQ 5.609375 19.09375 5.609375 36.375 \nQ 5.609375 53.65625 14.8125 63.9375 \nQ 24.03125 74.21875 39.40625 74.21875 \nz\n\" id=\"DejaVuSans-79\"/>\n     </defs>\n     <use xlink:href=\"#DejaVuSans-79\"/>\n     <use x=\"78.710938\" xlink:href=\"#DejaVuSans-112\"/>\n     <use x=\"142.1875\" xlink:href=\"#DejaVuSans-111\"/>\n     <use x=\"203.369141\" xlink:href=\"#DejaVuSans-108\"/>\n     <use x=\"231.152344\" xlink:href=\"#DejaVuSans-115\"/>\n     <use x=\"283.251953\" xlink:href=\"#DejaVuSans-107\"/>\n     <use x=\"341.162109\" xlink:href=\"#DejaVuSans-105\"/>\n     <use x=\"368.945312\" xlink:href=\"#DejaVuSans-101\"/>\n    </g>\n   </g>\n   <g id=\"text_21\">\n    <!-- Łódzkie -->\n    <g transform=\"translate(147.967024 291.616784)scale(0.07 -0.07)\">\n     <defs>\n      <path d=\"M 10.296875 72.90625 \nL 20.21875 72.90625 \nL 20.21875 42.828125 \nL 35.5 53.515625 \nL 39.40625 48.09375 \nL 20.21875 34.71875 \nL 20.21875 8.296875 \nL 55.71875 8.296875 \nL 55.71875 0 \nL 10.296875 0 \nL 10.296875 27.875 \nL 3.078125 22.703125 \nL -0.6875 28.078125 \nL 10.296875 35.796875 \nz\n\" id=\"DejaVuSans-321\"/>\n     </defs>\n     <use xlink:href=\"#DejaVuSans-321\"/>\n     <use x=\"56.201172\" xlink:href=\"#DejaVuSans-243\"/>\n     <use x=\"117.382812\" xlink:href=\"#DejaVuSans-100\"/>\n     <use x=\"180.859375\" xlink:href=\"#DejaVuSans-122\"/>\n     <use x=\"233.349609\" xlink:href=\"#DejaVuSans-107\"/>\n     <use x=\"291.259766\" xlink:href=\"#DejaVuSans-105\"/>\n     <use x=\"319.042969\" xlink:href=\"#DejaVuSans-101\"/>\n    </g>\n   </g>\n   <g id=\"text_22\">\n    <!-- Świętokrzyskie -->\n    <g transform=\"translate(145.005975 268.280965)scale(0.07 -0.07)\">\n     <defs>\n      <path d=\"M 34.96875 92.78125 \nL 44 92.78125 \nL 32.859375 79.890625 \nL 25.390625 79.890625 \nz\nM 53.515625 70.515625 \nL 53.515625 60.890625 \nQ 47.90625 63.578125 42.921875 64.890625 \nQ 37.9375 66.21875 33.296875 66.21875 \nQ 25.25 66.21875 20.875 63.09375 \nQ 16.5 59.96875 16.5 54.203125 \nQ 16.5 49.359375 19.40625 46.890625 \nQ 22.3125 44.4375 30.421875 42.921875 \nL 36.375 41.703125 \nQ 47.40625 39.59375 52.65625 34.296875 \nQ 57.90625 29 57.90625 20.125 \nQ 57.90625 9.515625 50.796875 4.046875 \nQ 43.703125 -1.421875 29.984375 -1.421875 \nQ 24.8125 -1.421875 18.96875 -0.25 \nQ 13.140625 0.921875 6.890625 3.21875 \nL 6.890625 13.375 \nQ 12.890625 10.015625 18.65625 8.296875 \nQ 24.421875 6.59375 29.984375 6.59375 \nQ 38.421875 6.59375 43.015625 9.90625 \nQ 47.609375 13.234375 47.609375 19.390625 \nQ 47.609375 24.75 44.3125 27.78125 \nQ 41.015625 30.8125 33.5 32.328125 \nL 27.484375 33.5 \nQ 16.453125 35.6875 11.515625 40.375 \nQ 6.59375 45.0625 6.59375 53.421875 \nQ 6.59375 63.09375 13.40625 68.65625 \nQ 20.21875 74.21875 32.171875 74.21875 \nQ 37.3125 74.21875 42.625 73.28125 \nQ 47.953125 72.359375 53.515625 70.515625 \nz\n\" id=\"DejaVuSans-346\"/>\n      <path d=\"M 56.203125 29.59375 \nL 56.203125 25.203125 \nL 14.890625 25.203125 \nQ 15.484375 15.921875 20.484375 11.0625 \nQ 25.484375 6.203125 34.421875 6.203125 \nQ 39.59375 6.203125 44.453125 7.46875 \nQ 49.3125 8.734375 54.109375 11.28125 \nL 54.109375 2.78125 \nQ 49.265625 0.734375 44.1875 -0.34375 \nQ 39.109375 -1.421875 33.890625 -1.421875 \nQ 20.796875 -1.421875 13.15625 6.1875 \nQ 5.515625 13.8125 5.515625 26.8125 \nQ 5.515625 40.234375 12.765625 48.109375 \nQ 20.015625 56 32.328125 56 \nQ 43.359375 56 49.78125 48.890625 \nQ 56.203125 41.796875 56.203125 29.59375 \nz\nM 47.21875 32.234375 \nQ 47.125 39.59375 43.09375 43.984375 \nQ 39.0625 48.390625 32.421875 48.390625 \nQ 24.90625 48.390625 20.390625 44.140625 \nQ 15.875 39.890625 15.1875 32.171875 \nz\nM 39.84375 0 \nL 45.65625 0 \nQ 43.453125 -2.984375 42.40625 -5.125 \nQ 41.359375 -7.28125 41.359375 -8.796875 \nQ 41.359375 -11.03125 42.703125 -12.15625 \nQ 44.046875 -13.28125 46.6875 -13.28125 \nQ 48.25 -13.28125 49.75 -12.90625 \nQ 51.265625 -12.546875 52.78125 -11.8125 \nL 52.78125 -18.3125 \nQ 50.921875 -18.796875 49.265625 -19.03125 \nQ 47.609375 -19.28125 46.140625 -19.28125 \nQ 40.1875 -19.28125 37.375 -17.15625 \nQ 34.578125 -15.046875 34.578125 -10.5 \nQ 34.578125 -8.15625 35.859375 -5.59375 \nQ 37.15625 -3.03125 39.84375 0 \nz\n\" id=\"DejaVuSans-281\"/>\n     </defs>\n     <use xlink:href=\"#DejaVuSans-346\"/>\n     <use x=\"63.476562\" xlink:href=\"#DejaVuSans-119\"/>\n     <use x=\"145.263672\" xlink:href=\"#DejaVuSans-105\"/>\n     <use x=\"173.046875\" xlink:href=\"#DejaVuSans-281\"/>\n     <use x=\"234.570312\" xlink:href=\"#DejaVuSans-116\"/>\n     <use x=\"273.779297\" xlink:href=\"#DejaVuSans-111\"/>\n     <use x=\"334.960938\" xlink:href=\"#DejaVuSans-107\"/>\n     <use x=\"392.871094\" xlink:href=\"#DejaVuSans-114\"/>\n     <use x=\"433.984375\" xlink:href=\"#DejaVuSans-122\"/>\n     <use x=\"486.474609\" xlink:href=\"#DejaVuSans-121\"/>\n     <use x=\"545.654297\" xlink:href=\"#DejaVuSans-115\"/>\n     <use x=\"597.753906\" xlink:href=\"#DejaVuSans-107\"/>\n     <use x=\"655.664062\" xlink:href=\"#DejaVuSans-105\"/>\n     <use x=\"683.447266\" xlink:href=\"#DejaVuSans-101\"/>\n    </g>\n   </g>\n   <g id=\"text_23\">\n    <!-- Mazowieckie -->\n    <g transform=\"translate(133.521781 254.897268)scale(0.07 -0.07)\">\n     <defs>\n      <path d=\"M 9.8125 72.90625 \nL 24.515625 72.90625 \nL 43.109375 23.296875 \nL 61.8125 72.90625 \nL 76.515625 72.90625 \nL 76.515625 0 \nL 66.890625 0 \nL 66.890625 64.015625 \nL 48.09375 14.015625 \nL 38.1875 14.015625 \nL 19.390625 64.015625 \nL 19.390625 0 \nL 9.8125 0 \nz\n\" id=\"DejaVuSans-77\"/>\n     </defs>\n     <use xlink:href=\"#DejaVuSans-77\"/>\n     <use x=\"86.279297\" xlink:href=\"#DejaVuSans-97\"/>\n     <use x=\"147.558594\" xlink:href=\"#DejaVuSans-122\"/>\n     <use x=\"200.048828\" xlink:href=\"#DejaVuSans-111\"/>\n     <use x=\"261.230469\" xlink:href=\"#DejaVuSans-119\"/>\n     <use x=\"343.017578\" xlink:href=\"#DejaVuSans-105\"/>\n     <use x=\"370.800781\" xlink:href=\"#DejaVuSans-101\"/>\n     <use x=\"432.324219\" xlink:href=\"#DejaVuSans-99\"/>\n     <use x=\"487.304688\" xlink:href=\"#DejaVuSans-107\"/>\n     <use x=\"545.214844\" xlink:href=\"#DejaVuSans-105\"/>\n     <use x=\"572.998047\" xlink:href=\"#DejaVuSans-101\"/>\n    </g>\n   </g>\n   <g id=\"text_24\">\n    <!-- Warmińsko-Mazurskie -->\n    <g transform=\"translate(131.839649 234.423106)scale(0.07 -0.07)\">\n     <defs>\n      <path d=\"M 3.328125 72.90625 \nL 13.28125 72.90625 \nL 28.609375 11.28125 \nL 43.890625 72.90625 \nL 54.984375 72.90625 \nL 70.3125 11.28125 \nL 85.59375 72.90625 \nL 95.609375 72.90625 \nL 77.296875 0 \nL 64.890625 0 \nL 49.515625 63.28125 \nL 33.984375 0 \nL 21.578125 0 \nz\n\" id=\"DejaVuSans-87\"/>\n      <path d=\"M 4.890625 31.390625 \nL 31.203125 31.390625 \nL 31.203125 23.390625 \nL 4.890625 23.390625 \nz\n\" id=\"DejaVuSans-45\"/>\n     </defs>\n     <use xlink:href=\"#DejaVuSans-87\"/>\n     <use x=\"92.501953\" xlink:href=\"#DejaVuSans-97\"/>\n     <use x=\"153.78125\" xlink:href=\"#DejaVuSans-114\"/>\n     <use x=\"193.144531\" xlink:href=\"#DejaVuSans-109\"/>\n     <use x=\"290.556641\" xlink:href=\"#DejaVuSans-105\"/>\n     <use x=\"318.339844\" xlink:href=\"#DejaVuSans-324\"/>\n     <use x=\"381.71875\" xlink:href=\"#DejaVuSans-115\"/>\n     <use x=\"433.818359\" xlink:href=\"#DejaVuSans-107\"/>\n     <use x=\"488.103516\" xlink:href=\"#DejaVuSans-111\"/>\n     <use x=\"551.160156\" xlink:href=\"#DejaVuSans-45\"/>\n     <use x=\"587.244141\" xlink:href=\"#DejaVuSans-77\"/>\n     <use x=\"673.523438\" xlink:href=\"#DejaVuSans-97\"/>\n     <use x=\"734.802734\" xlink:href=\"#DejaVuSans-122\"/>\n     <use x=\"787.292969\" xlink:href=\"#DejaVuSans-117\"/>\n     <use x=\"850.671875\" xlink:href=\"#DejaVuSans-114\"/>\n     <use x=\"891.785156\" xlink:href=\"#DejaVuSans-115\"/>\n     <use x=\"943.884766\" xlink:href=\"#DejaVuSans-107\"/>\n     <use x=\"1001.794922\" xlink:href=\"#DejaVuSans-105\"/>\n     <use x=\"1029.578125\" xlink:href=\"#DejaVuSans-101\"/>\n    </g>\n   </g>\n   <g id=\"text_25\">\n    <!-- Kujawsko-Pomorskie -->\n    <g transform=\"translate(129.444055 225.424054)scale(0.07 -0.07)\">\n     <defs>\n      <path d=\"M 9.8125 72.90625 \nL 19.671875 72.90625 \nL 19.671875 42.09375 \nL 52.390625 72.90625 \nL 65.09375 72.90625 \nL 28.90625 38.921875 \nL 67.671875 0 \nL 54.6875 0 \nL 19.671875 35.109375 \nL 19.671875 0 \nL 9.8125 0 \nz\n\" id=\"DejaVuSans-75\"/>\n      <path d=\"M 9.421875 54.6875 \nL 18.40625 54.6875 \nL 18.40625 -0.984375 \nQ 18.40625 -11.421875 14.421875 -16.109375 \nQ 10.453125 -20.796875 1.609375 -20.796875 \nL -1.8125 -20.796875 \nL -1.8125 -13.1875 \nL 0.59375 -13.1875 \nQ 5.71875 -13.1875 7.5625 -10.8125 \nQ 9.421875 -8.453125 9.421875 -0.984375 \nz\nM 9.421875 75.984375 \nL 18.40625 75.984375 \nL 18.40625 64.59375 \nL 9.421875 64.59375 \nz\n\" id=\"DejaVuSans-106\"/>\n     </defs>\n     <use xlink:href=\"#DejaVuSans-75\"/>\n     <use x=\"60.576172\" xlink:href=\"#DejaVuSans-117\"/>\n     <use x=\"123.955078\" xlink:href=\"#DejaVuSans-106\"/>\n     <use x=\"151.738281\" xlink:href=\"#DejaVuSans-97\"/>\n     <use x=\"213.017578\" xlink:href=\"#DejaVuSans-119\"/>\n     <use x=\"294.804688\" xlink:href=\"#DejaVuSans-115\"/>\n     <use x=\"346.904297\" xlink:href=\"#DejaVuSans-107\"/>\n     <use x=\"401.189453\" xlink:href=\"#DejaVuSans-111\"/>\n     <use x=\"464.246094\" xlink:href=\"#DejaVuSans-45\"/>\n     <use x=\"500.330078\" xlink:href=\"#DejaVuSans-80\"/>\n     <use x=\"557.007812\" xlink:href=\"#DejaVuSans-111\"/>\n     <use x=\"618.189453\" xlink:href=\"#DejaVuSans-109\"/>\n     <use x=\"715.601562\" xlink:href=\"#DejaVuSans-111\"/>\n     <use x=\"776.783203\" xlink:href=\"#DejaVuSans-114\"/>\n     <use x=\"817.896484\" xlink:href=\"#DejaVuSans-115\"/>\n     <use x=\"869.996094\" xlink:href=\"#DejaVuSans-107\"/>\n     <use x=\"927.90625\" xlink:href=\"#DejaVuSans-105\"/>\n     <use x=\"955.689453\" xlink:href=\"#DejaVuSans-101\"/>\n    </g>\n   </g>\n   <g id=\"text_26\">\n    <!-- Małopolskie -->\n    <g transform=\"translate(116.368289 275.909204)scale(0.07 -0.07)\">\n     <use xlink:href=\"#DejaVuSans-77\"/>\n     <use x=\"86.279297\" xlink:href=\"#DejaVuSans-97\"/>\n     <use x=\"147.558594\" xlink:href=\"#DejaVuSans-322\"/>\n     <use x=\"175.976562\" xlink:href=\"#DejaVuSans-111\"/>\n     <use x=\"237.158203\" xlink:href=\"#DejaVuSans-112\"/>\n     <use x=\"300.634766\" xlink:href=\"#DejaVuSans-111\"/>\n     <use x=\"361.816406\" xlink:href=\"#DejaVuSans-108\"/>\n     <use x=\"389.599609\" xlink:href=\"#DejaVuSans-115\"/>\n     <use x=\"441.699219\" xlink:href=\"#DejaVuSans-107\"/>\n     <use x=\"499.609375\" xlink:href=\"#DejaVuSans-105\"/>\n     <use x=\"527.392578\" xlink:href=\"#DejaVuSans-101\"/>\n    </g>\n   </g>\n   <g id=\"text_27\">\n    <!-- Zachodniopomorskie -->\n    <g transform=\"translate(103.408245 277.684369)scale(0.07 -0.07)\">\n     <use xlink:href=\"#DejaVuSans-90\"/>\n     <use x=\"68.505859\" xlink:href=\"#DejaVuSans-97\"/>\n     <use x=\"129.785156\" xlink:href=\"#DejaVuSans-99\"/>\n     <use x=\"184.765625\" xlink:href=\"#DejaVuSans-104\"/>\n     <use x=\"248.144531\" xlink:href=\"#DejaVuSans-111\"/>\n     <use x=\"309.326172\" xlink:href=\"#DejaVuSans-100\"/>\n     <use x=\"372.802734\" xlink:href=\"#DejaVuSans-110\"/>\n     <use x=\"436.181641\" xlink:href=\"#DejaVuSans-105\"/>\n     <use x=\"463.964844\" xlink:href=\"#DejaVuSans-111\"/>\n     <use x=\"525.146484\" xlink:href=\"#DejaVuSans-112\"/>\n     <use x=\"588.623047\" xlink:href=\"#DejaVuSans-111\"/>\n     <use x=\"649.804688\" xlink:href=\"#DejaVuSans-109\"/>\n     <use x=\"747.216797\" xlink:href=\"#DejaVuSans-111\"/>\n     <use x=\"808.398438\" xlink:href=\"#DejaVuSans-114\"/>\n     <use x=\"849.511719\" xlink:href=\"#DejaVuSans-115\"/>\n     <use x=\"901.611328\" xlink:href=\"#DejaVuSans-107\"/>\n     <use x=\"959.521484\" xlink:href=\"#DejaVuSans-105\"/>\n     <use x=\"987.304688\" xlink:href=\"#DejaVuSans-101\"/>\n    </g>\n   </g>\n   <g id=\"text_28\">\n    <!-- Śląskie -->\n    <g transform=\"translate(86.745111 288.886192)scale(0.07 -0.07)\">\n     <defs>\n      <path d=\"M 34.28125 27.484375 \nQ 23.390625 27.484375 19.1875 25 \nQ 14.984375 22.515625 14.984375 16.5 \nQ 14.984375 11.71875 18.140625 8.90625 \nQ 21.296875 6.109375 26.703125 6.109375 \nQ 34.1875 6.109375 38.703125 11.40625 \nQ 43.21875 16.703125 43.21875 25.484375 \nL 43.21875 27.484375 \nz\nM 52.203125 31.203125 \nL 52.203125 0 \nL 43.21875 0 \nL 43.21875 8.296875 \nQ 40.140625 3.328125 35.546875 0.953125 \nQ 30.953125 -1.421875 24.3125 -1.421875 \nQ 15.921875 -1.421875 10.953125 3.296875 \nQ 6 8.015625 6 15.921875 \nQ 6 25.140625 12.171875 29.828125 \nQ 18.359375 34.515625 30.609375 34.515625 \nL 43.21875 34.515625 \nL 43.21875 35.40625 \nQ 43.21875 41.609375 39.140625 45 \nQ 35.0625 48.390625 27.6875 48.390625 \nQ 23 48.390625 18.546875 47.265625 \nQ 14.109375 46.140625 10.015625 43.890625 \nL 10.015625 52.203125 \nQ 14.9375 54.109375 19.578125 55.046875 \nQ 24.21875 56 28.609375 56 \nQ 40.484375 56 46.34375 49.84375 \nQ 52.203125 43.703125 52.203125 31.203125 \nz\nM 43.3125 0 \nL 49.125 0 \nQ 46.921875 -2.984375 45.875 -5.125 \nQ 44.828125 -7.28125 44.828125 -8.796875 \nQ 44.828125 -11.03125 46.171875 -12.15625 \nQ 47.515625 -13.28125 50.140625 -13.28125 \nQ 51.703125 -13.28125 53.21875 -12.90625 \nQ 54.734375 -12.546875 56.25 -11.8125 \nL 56.25 -18.3125 \nQ 54.390625 -18.796875 52.734375 -19.03125 \nQ 51.078125 -19.28125 49.609375 -19.28125 \nQ 43.65625 -19.28125 40.84375 -17.15625 \nQ 38.03125 -15.046875 38.03125 -10.5 \nQ 38.03125 -8.15625 39.328125 -5.59375 \nQ 40.625 -3.03125 43.3125 0 \nz\n\" id=\"DejaVuSans-261\"/>\n     </defs>\n     <use xlink:href=\"#DejaVuSans-346\"/>\n     <use x=\"63.476562\" xlink:href=\"#DejaVuSans-108\"/>\n     <use x=\"91.259766\" xlink:href=\"#DejaVuSans-261\"/>\n     <use x=\"152.539062\" xlink:href=\"#DejaVuSans-115\"/>\n     <use x=\"204.638672\" xlink:href=\"#DejaVuSans-107\"/>\n     <use x=\"262.548828\" xlink:href=\"#DejaVuSans-105\"/>\n     <use x=\"290.332031\" xlink:href=\"#DejaVuSans-101\"/>\n    </g>\n   </g>\n   <g id=\"text_29\">\n    <!-- Lubuskie -->\n    <g transform=\"translate(82.402172 339.049738)scale(0.07 -0.07)\">\n     <use xlink:href=\"#DejaVuSans-76\"/>\n     <use x=\"53.962891\" xlink:href=\"#DejaVuSans-117\"/>\n     <use x=\"117.341797\" xlink:href=\"#DejaVuSans-98\"/>\n     <use x=\"180.818359\" xlink:href=\"#DejaVuSans-117\"/>\n     <use x=\"244.197266\" xlink:href=\"#DejaVuSans-115\"/>\n     <use x=\"296.296875\" xlink:href=\"#DejaVuSans-107\"/>\n     <use x=\"354.207031\" xlink:href=\"#DejaVuSans-105\"/>\n     <use x=\"381.990234\" xlink:href=\"#DejaVuSans-101\"/>\n    </g>\n   </g>\n   <g id=\"text_30\">\n    <!-- Wielkopolskie -->\n    <g transform=\"translate(68.692052 336.101152)scale(0.07 -0.07)\">\n     <use xlink:href=\"#DejaVuSans-87\"/>\n     <use x=\"96.626953\" xlink:href=\"#DejaVuSans-105\"/>\n     <use x=\"124.410156\" xlink:href=\"#DejaVuSans-101\"/>\n     <use x=\"185.933594\" xlink:href=\"#DejaVuSans-108\"/>\n     <use x=\"213.716797\" xlink:href=\"#DejaVuSans-107\"/>\n     <use x=\"268.001953\" xlink:href=\"#DejaVuSans-111\"/>\n     <use x=\"329.183594\" xlink:href=\"#DejaVuSans-112\"/>\n     <use x=\"392.660156\" xlink:href=\"#DejaVuSans-111\"/>\n     <use x=\"453.841797\" xlink:href=\"#DejaVuSans-108\"/>\n     <use x=\"481.625\" xlink:href=\"#DejaVuSans-115\"/>\n     <use x=\"533.724609\" xlink:href=\"#DejaVuSans-107\"/>\n     <use x=\"591.634766\" xlink:href=\"#DejaVuSans-105\"/>\n     <use x=\"619.417969\" xlink:href=\"#DejaVuSans-101\"/>\n    </g>\n   </g>\n   <g id=\"text_31\">\n    <!-- Dolnośląskie -->\n    <g transform=\"translate(67.515847 370.423636)scale(0.07 -0.07)\">\n     <defs>\n      <path d=\"M 19.671875 64.796875 \nL 19.671875 8.109375 \nL 31.59375 8.109375 \nQ 46.6875 8.109375 53.6875 14.9375 \nQ 60.6875 21.78125 60.6875 36.53125 \nQ 60.6875 51.171875 53.6875 57.984375 \nQ 46.6875 64.796875 31.59375 64.796875 \nz\nM 9.8125 72.90625 \nL 30.078125 72.90625 \nQ 51.265625 72.90625 61.171875 64.09375 \nQ 71.09375 55.28125 71.09375 36.53125 \nQ 71.09375 17.671875 61.125 8.828125 \nQ 51.171875 0 30.078125 0 \nL 9.8125 0 \nz\n\" id=\"DejaVuSans-68\"/>\n      <path d=\"M 35.015625 80.328125 \nL 44.734375 80.328125 \nL 28.8125 61.96875 \nL 21.34375 61.96875 \nz\nM 44.28125 53.078125 \nL 44.28125 44.578125 \nQ 40.484375 46.53125 36.375 47.5 \nQ 32.28125 48.484375 27.875 48.484375 \nQ 21.1875 48.484375 17.84375 46.4375 \nQ 14.5 44.390625 14.5 40.28125 \nQ 14.5 37.15625 16.890625 35.375 \nQ 19.28125 33.59375 26.515625 31.984375 \nL 29.59375 31.296875 \nQ 39.15625 29.25 43.1875 25.515625 \nQ 47.21875 21.78125 47.21875 15.09375 \nQ 47.21875 7.46875 41.1875 3.015625 \nQ 35.15625 -1.421875 24.609375 -1.421875 \nQ 20.21875 -1.421875 15.453125 -0.5625 \nQ 10.6875 0.296875 5.421875 2 \nL 5.421875 11.28125 \nQ 10.40625 8.6875 15.234375 7.390625 \nQ 20.0625 6.109375 24.8125 6.109375 \nQ 31.15625 6.109375 34.5625 8.28125 \nQ 37.984375 10.453125 37.984375 14.40625 \nQ 37.984375 18.0625 35.515625 20.015625 \nQ 33.0625 21.96875 24.703125 23.78125 \nL 21.578125 24.515625 \nQ 13.234375 26.265625 9.515625 29.90625 \nQ 5.8125 33.546875 5.8125 39.890625 \nQ 5.8125 47.609375 11.28125 51.796875 \nQ 16.75 56 26.8125 56 \nQ 31.78125 56 36.171875 55.265625 \nQ 40.578125 54.546875 44.28125 53.078125 \nz\n\" id=\"DejaVuSans-347\"/>\n     </defs>\n     <use xlink:href=\"#DejaVuSans-68\"/>\n     <use x=\"77.001953\" xlink:href=\"#DejaVuSans-111\"/>\n     <use x=\"138.183594\" xlink:href=\"#DejaVuSans-108\"/>\n     <use x=\"165.966797\" xlink:href=\"#DejaVuSans-110\"/>\n     <use x=\"229.345703\" xlink:href=\"#DejaVuSans-111\"/>\n     <use x=\"290.527344\" xlink:href=\"#DejaVuSans-347\"/>\n     <use x=\"342.626953\" xlink:href=\"#DejaVuSans-108\"/>\n     <use x=\"370.410156\" xlink:href=\"#DejaVuSans-261\"/>\n     <use x=\"431.689453\" xlink:href=\"#DejaVuSans-115\"/>\n     <use x=\"483.789062\" xlink:href=\"#DejaVuSans-107\"/>\n     <use x=\"541.699219\" xlink:href=\"#DejaVuSans-105\"/>\n     <use x=\"569.482422\" xlink:href=\"#DejaVuSans-101\"/>\n    </g>\n   </g>\n   <g id=\"text_32\">\n    <!-- Pomorskie -->\n    <g transform=\"translate(60.027652 318.898758)scale(0.07 -0.07)\">\n     <use xlink:href=\"#DejaVuSans-80\"/>\n     <use x=\"56.677734\" xlink:href=\"#DejaVuSans-111\"/>\n     <use x=\"117.859375\" xlink:href=\"#DejaVuSans-109\"/>\n     <use x=\"215.271484\" xlink:href=\"#DejaVuSans-111\"/>\n     <use x=\"276.453125\" xlink:href=\"#DejaVuSans-114\"/>\n     <use x=\"317.566406\" xlink:href=\"#DejaVuSans-115\"/>\n     <use x=\"369.666016\" xlink:href=\"#DejaVuSans-107\"/>\n     <use x=\"427.576172\" xlink:href=\"#DejaVuSans-105\"/>\n     <use x=\"455.359375\" xlink:href=\"#DejaVuSans-101\"/>\n    </g>\n   </g>\n  </g>\n </g>\n <defs>\n  <clipPath id=\"pd46349b618\">\n   <rect height=\"380.52\" width=\"390.6\" x=\"41.0375\" y=\"7.2\"/>\n  </clipPath>\n </defs>\n</svg>\n",
      "text/plain": [
       "<Figure size 504x504 with 1 Axes>"
      ]
     },
     "metadata": {
      "needs_background": "light"
     },
     "output_type": "display_data"
    }
   ],
   "source": [
    "# sns.scatterplot(x=nie, y=tak, data=df);\n",
    "plt.figure(figsize=(7,7))\n",
    "scatter_text(nie, tak, 'Województwo',\n",
    "             data = df, \n",
    "             title = '', \n",
    "             xlabel = nie,\n",
    "             ylabel = tak)"
   ]
  },
  {
   "cell_type": "code",
   "execution_count": 30,
   "metadata": {},
   "outputs": [],
   "source": [
    "pop_dict = pop_woj_df.to_dict()['mieszkańców w województwie']"
   ]
  },
  {
   "cell_type": "code",
   "execution_count": 31,
   "metadata": {},
   "outputs": [
    {
     "data": {
      "application/vnd.plotly.v1+json": {
       "config": {
        "plotlyServerURL": "https://plot.ly"
       },
       "data": [
        {
         "name": "Zgony bez szczepienia, na 100 tys. mieszkańców",
         "offsetgroup": "1",
         "type": "bar",
         "x": [
          "Lubelskie",
          "Podlaskie",
          "Podkarpackie",
          "Opolskie",
          "Łódzkie",
          "Świętokrzyskie",
          "Mazowieckie",
          "Warmińsko-Mazurskie",
          "Kujawsko-Pomorskie",
          "Małopolskie",
          "Zachodniopomorskie",
          "Śląskie",
          "Lubuskie",
          "Dolnośląskie",
          "Wielkopolskie",
          "Pomorskie"
         ],
         "y": [
          70.45618703577401,
          57.37818466027156,
          36.443941088440134,
          32.055958195742726,
          28.020369160122403,
          27.255808073137516,
          25.8304346358084,
          25.2367182908787,
          25.022357037878688,
          23.03062486339319,
          20.927429974857358,
          17.95334946228265,
          17.145990131087075,
          15.360551676120513,
          15.26603864914175,
          13.810359048022967
         ]
        },
        {
         "name": "Zgony po jednej dawce, na 100 tys. mieszkańców",
         "offsetgroup": "2",
         "type": "bar",
         "x": [
          "Lubelskie",
          "Podlaskie",
          "Podkarpackie",
          "Opolskie",
          "Łódzkie",
          "Świętokrzyskie",
          "Mazowieckie",
          "Warmińsko-Mazurskie",
          "Kujawsko-Pomorskie",
          "Małopolskie",
          "Zachodniopomorskie",
          "Śląskie",
          "Lubuskie",
          "Dolnośląskie",
          "Wielkopolskie",
          "Pomorskie"
         ],
         "y": [
          1.342022610205219,
          0.9406259780372386,
          0.37814724864788724,
          0.5137172787779283,
          0.5356835280611635,
          0.8209580744920937,
          0.387456519537126,
          0.7088965812044578,
          0.5354979132619953,
          0.41073725871019695,
          0.4161704824545497,
          0.6930931921927299,
          0.7974879130738175,
          0.17336965774402385,
          0.4582675767096961,
          0.5114947795564062
         ]
        },
        {
         "name": "Zgony po pełnej dawce, na 100 tys. mieszkańców",
         "offsetgroup": "3",
         "type": "bar",
         "x": [
          "Lubelskie",
          "Podlaskie",
          "Podkarpackie",
          "Opolskie",
          "Łódzkie",
          "Świętokrzyskie",
          "Mazowieckie",
          "Warmińsko-Mazurskie",
          "Kujawsko-Pomorskie",
          "Małopolskie",
          "Zachodniopomorskie",
          "Śląskie",
          "Lubuskie",
          "Dolnośląskie",
          "Wielkopolskie",
          "Pomorskie"
         ],
         "y": [
          19.65104536371928,
          15.905130174084213,
          7.610213379038731,
          11.404523588870006,
          8.818175000391461,
          9.687305279006706,
          10.166121060236021,
          10.987897008669096,
          11.39150106393699,
          8.948204564757864,
          9.155750614000095,
          8.630128135044961,
          6.878333250261676,
          5.131741869223107,
          6.759446756468018,
          7.459298868530923
         ]
        },
        {
         "name": "Zgony po dawce przypominającej, na 100 tys. mieszkańców",
         "offsetgroup": "4",
         "type": "bar",
         "x": [
          "Lubelskie",
          "Podlaskie",
          "Podkarpackie",
          "Opolskie",
          "Łódzkie",
          "Świętokrzyskie",
          "Mazowieckie",
          "Warmińsko-Mazurskie",
          "Kujawsko-Pomorskie",
          "Małopolskie",
          "Zachodniopomorskie",
          "Śląskie",
          "Lubuskie",
          "Dolnośląskie",
          "Wielkopolskie",
          "Pomorskie"
         ],
         "y": [
          0.4792937893590069,
          0.2565343576465196,
          0.09453681216197181,
          0.7192041902890995,
          0.16482570094189647,
          0.08209580744920937,
          0.258304346358084,
          null,
          0.34077139934854245,
          0.3813988830880401,
          0.35671755638961405,
          0.17886275927554324,
          0.09968598913422719,
          0.20804358929282865,
          0.11456689417742402,
          0.08524912992606769
         ]
        },
        {
         "name": "Zgony po dawce uzupełniającej, na 100 tys. mieszkańców",
         "offsetgroup": "5",
         "type": "bar",
         "x": [
          "Lubelskie",
          "Podlaskie",
          "Podkarpackie",
          "Opolskie",
          "Łódzkie",
          "Świętokrzyskie",
          "Mazowieckie",
          "Warmińsko-Mazurskie",
          "Kujawsko-Pomorskie",
          "Małopolskie",
          "Zachodniopomorskie",
          "Śląskie",
          "Lubuskie",
          "Dolnośląskie",
          "Wielkopolskie",
          "Pomorskie"
         ],
         "y": [
          0.14378813680770208,
          0.08551145254883986,
          0.047268406080985904,
          null,
          null,
          null,
          0.11070186272489314,
          0.21266897436133736,
          0.0486816284783632,
          0.1173535024886277,
          0.05945292606493568,
          0.08943137963777162,
          null,
          0.31206538393924294,
          0.028641723544356006,
          0.08524912992606769
         ]
        }
       ],
       "layout": {
        "barmode": "group",
        "height": 700,
        "legend": {
         "title": {
          "text": ""
         },
         "x": 0.5,
         "xanchor": "center",
         "y": -0.5
        },
        "template": {
         "data": {
          "bar": [
           {
            "error_x": {
             "color": "#2a3f5f"
            },
            "error_y": {
             "color": "#2a3f5f"
            },
            "marker": {
             "line": {
              "color": "#E5ECF6",
              "width": 0.5
             }
            },
            "type": "bar"
           }
          ],
          "barpolar": [
           {
            "marker": {
             "line": {
              "color": "#E5ECF6",
              "width": 0.5
             }
            },
            "type": "barpolar"
           }
          ],
          "carpet": [
           {
            "aaxis": {
             "endlinecolor": "#2a3f5f",
             "gridcolor": "white",
             "linecolor": "white",
             "minorgridcolor": "white",
             "startlinecolor": "#2a3f5f"
            },
            "baxis": {
             "endlinecolor": "#2a3f5f",
             "gridcolor": "white",
             "linecolor": "white",
             "minorgridcolor": "white",
             "startlinecolor": "#2a3f5f"
            },
            "type": "carpet"
           }
          ],
          "choropleth": [
           {
            "colorbar": {
             "outlinewidth": 0,
             "ticks": ""
            },
            "type": "choropleth"
           }
          ],
          "contour": [
           {
            "colorbar": {
             "outlinewidth": 0,
             "ticks": ""
            },
            "colorscale": [
             [
              0,
              "#0d0887"
             ],
             [
              0.1111111111111111,
              "#46039f"
             ],
             [
              0.2222222222222222,
              "#7201a8"
             ],
             [
              0.3333333333333333,
              "#9c179e"
             ],
             [
              0.4444444444444444,
              "#bd3786"
             ],
             [
              0.5555555555555556,
              "#d8576b"
             ],
             [
              0.6666666666666666,
              "#ed7953"
             ],
             [
              0.7777777777777778,
              "#fb9f3a"
             ],
             [
              0.8888888888888888,
              "#fdca26"
             ],
             [
              1,
              "#f0f921"
             ]
            ],
            "type": "contour"
           }
          ],
          "contourcarpet": [
           {
            "colorbar": {
             "outlinewidth": 0,
             "ticks": ""
            },
            "type": "contourcarpet"
           }
          ],
          "heatmap": [
           {
            "colorbar": {
             "outlinewidth": 0,
             "ticks": ""
            },
            "colorscale": [
             [
              0,
              "#0d0887"
             ],
             [
              0.1111111111111111,
              "#46039f"
             ],
             [
              0.2222222222222222,
              "#7201a8"
             ],
             [
              0.3333333333333333,
              "#9c179e"
             ],
             [
              0.4444444444444444,
              "#bd3786"
             ],
             [
              0.5555555555555556,
              "#d8576b"
             ],
             [
              0.6666666666666666,
              "#ed7953"
             ],
             [
              0.7777777777777778,
              "#fb9f3a"
             ],
             [
              0.8888888888888888,
              "#fdca26"
             ],
             [
              1,
              "#f0f921"
             ]
            ],
            "type": "heatmap"
           }
          ],
          "heatmapgl": [
           {
            "colorbar": {
             "outlinewidth": 0,
             "ticks": ""
            },
            "colorscale": [
             [
              0,
              "#0d0887"
             ],
             [
              0.1111111111111111,
              "#46039f"
             ],
             [
              0.2222222222222222,
              "#7201a8"
             ],
             [
              0.3333333333333333,
              "#9c179e"
             ],
             [
              0.4444444444444444,
              "#bd3786"
             ],
             [
              0.5555555555555556,
              "#d8576b"
             ],
             [
              0.6666666666666666,
              "#ed7953"
             ],
             [
              0.7777777777777778,
              "#fb9f3a"
             ],
             [
              0.8888888888888888,
              "#fdca26"
             ],
             [
              1,
              "#f0f921"
             ]
            ],
            "type": "heatmapgl"
           }
          ],
          "histogram": [
           {
            "marker": {
             "colorbar": {
              "outlinewidth": 0,
              "ticks": ""
             }
            },
            "type": "histogram"
           }
          ],
          "histogram2d": [
           {
            "colorbar": {
             "outlinewidth": 0,
             "ticks": ""
            },
            "colorscale": [
             [
              0,
              "#0d0887"
             ],
             [
              0.1111111111111111,
              "#46039f"
             ],
             [
              0.2222222222222222,
              "#7201a8"
             ],
             [
              0.3333333333333333,
              "#9c179e"
             ],
             [
              0.4444444444444444,
              "#bd3786"
             ],
             [
              0.5555555555555556,
              "#d8576b"
             ],
             [
              0.6666666666666666,
              "#ed7953"
             ],
             [
              0.7777777777777778,
              "#fb9f3a"
             ],
             [
              0.8888888888888888,
              "#fdca26"
             ],
             [
              1,
              "#f0f921"
             ]
            ],
            "type": "histogram2d"
           }
          ],
          "histogram2dcontour": [
           {
            "colorbar": {
             "outlinewidth": 0,
             "ticks": ""
            },
            "colorscale": [
             [
              0,
              "#0d0887"
             ],
             [
              0.1111111111111111,
              "#46039f"
             ],
             [
              0.2222222222222222,
              "#7201a8"
             ],
             [
              0.3333333333333333,
              "#9c179e"
             ],
             [
              0.4444444444444444,
              "#bd3786"
             ],
             [
              0.5555555555555556,
              "#d8576b"
             ],
             [
              0.6666666666666666,
              "#ed7953"
             ],
             [
              0.7777777777777778,
              "#fb9f3a"
             ],
             [
              0.8888888888888888,
              "#fdca26"
             ],
             [
              1,
              "#f0f921"
             ]
            ],
            "type": "histogram2dcontour"
           }
          ],
          "mesh3d": [
           {
            "colorbar": {
             "outlinewidth": 0,
             "ticks": ""
            },
            "type": "mesh3d"
           }
          ],
          "parcoords": [
           {
            "line": {
             "colorbar": {
              "outlinewidth": 0,
              "ticks": ""
             }
            },
            "type": "parcoords"
           }
          ],
          "pie": [
           {
            "automargin": true,
            "type": "pie"
           }
          ],
          "scatter": [
           {
            "marker": {
             "colorbar": {
              "outlinewidth": 0,
              "ticks": ""
             }
            },
            "type": "scatter"
           }
          ],
          "scatter3d": [
           {
            "line": {
             "colorbar": {
              "outlinewidth": 0,
              "ticks": ""
             }
            },
            "marker": {
             "colorbar": {
              "outlinewidth": 0,
              "ticks": ""
             }
            },
            "type": "scatter3d"
           }
          ],
          "scattercarpet": [
           {
            "marker": {
             "colorbar": {
              "outlinewidth": 0,
              "ticks": ""
             }
            },
            "type": "scattercarpet"
           }
          ],
          "scattergeo": [
           {
            "marker": {
             "colorbar": {
              "outlinewidth": 0,
              "ticks": ""
             }
            },
            "type": "scattergeo"
           }
          ],
          "scattergl": [
           {
            "marker": {
             "colorbar": {
              "outlinewidth": 0,
              "ticks": ""
             }
            },
            "type": "scattergl"
           }
          ],
          "scattermapbox": [
           {
            "marker": {
             "colorbar": {
              "outlinewidth": 0,
              "ticks": ""
             }
            },
            "type": "scattermapbox"
           }
          ],
          "scatterpolar": [
           {
            "marker": {
             "colorbar": {
              "outlinewidth": 0,
              "ticks": ""
             }
            },
            "type": "scatterpolar"
           }
          ],
          "scatterpolargl": [
           {
            "marker": {
             "colorbar": {
              "outlinewidth": 0,
              "ticks": ""
             }
            },
            "type": "scatterpolargl"
           }
          ],
          "scatterternary": [
           {
            "marker": {
             "colorbar": {
              "outlinewidth": 0,
              "ticks": ""
             }
            },
            "type": "scatterternary"
           }
          ],
          "surface": [
           {
            "colorbar": {
             "outlinewidth": 0,
             "ticks": ""
            },
            "colorscale": [
             [
              0,
              "#0d0887"
             ],
             [
              0.1111111111111111,
              "#46039f"
             ],
             [
              0.2222222222222222,
              "#7201a8"
             ],
             [
              0.3333333333333333,
              "#9c179e"
             ],
             [
              0.4444444444444444,
              "#bd3786"
             ],
             [
              0.5555555555555556,
              "#d8576b"
             ],
             [
              0.6666666666666666,
              "#ed7953"
             ],
             [
              0.7777777777777778,
              "#fb9f3a"
             ],
             [
              0.8888888888888888,
              "#fdca26"
             ],
             [
              1,
              "#f0f921"
             ]
            ],
            "type": "surface"
           }
          ],
          "table": [
           {
            "cells": {
             "fill": {
              "color": "#EBF0F8"
             },
             "line": {
              "color": "white"
             }
            },
            "header": {
             "fill": {
              "color": "#C8D4E3"
             },
             "line": {
              "color": "white"
             }
            },
            "type": "table"
           }
          ]
         },
         "layout": {
          "annotationdefaults": {
           "arrowcolor": "#2a3f5f",
           "arrowhead": 0,
           "arrowwidth": 1
          },
          "coloraxis": {
           "colorbar": {
            "outlinewidth": 0,
            "ticks": ""
           }
          },
          "colorscale": {
           "diverging": [
            [
             0,
             "#8e0152"
            ],
            [
             0.1,
             "#c51b7d"
            ],
            [
             0.2,
             "#de77ae"
            ],
            [
             0.3,
             "#f1b6da"
            ],
            [
             0.4,
             "#fde0ef"
            ],
            [
             0.5,
             "#f7f7f7"
            ],
            [
             0.6,
             "#e6f5d0"
            ],
            [
             0.7,
             "#b8e186"
            ],
            [
             0.8,
             "#7fbc41"
            ],
            [
             0.9,
             "#4d9221"
            ],
            [
             1,
             "#276419"
            ]
           ],
           "sequential": [
            [
             0,
             "#0d0887"
            ],
            [
             0.1111111111111111,
             "#46039f"
            ],
            [
             0.2222222222222222,
             "#7201a8"
            ],
            [
             0.3333333333333333,
             "#9c179e"
            ],
            [
             0.4444444444444444,
             "#bd3786"
            ],
            [
             0.5555555555555556,
             "#d8576b"
            ],
            [
             0.6666666666666666,
             "#ed7953"
            ],
            [
             0.7777777777777778,
             "#fb9f3a"
            ],
            [
             0.8888888888888888,
             "#fdca26"
            ],
            [
             1,
             "#f0f921"
            ]
           ],
           "sequentialminus": [
            [
             0,
             "#0d0887"
            ],
            [
             0.1111111111111111,
             "#46039f"
            ],
            [
             0.2222222222222222,
             "#7201a8"
            ],
            [
             0.3333333333333333,
             "#9c179e"
            ],
            [
             0.4444444444444444,
             "#bd3786"
            ],
            [
             0.5555555555555556,
             "#d8576b"
            ],
            [
             0.6666666666666666,
             "#ed7953"
            ],
            [
             0.7777777777777778,
             "#fb9f3a"
            ],
            [
             0.8888888888888888,
             "#fdca26"
            ],
            [
             1,
             "#f0f921"
            ]
           ]
          },
          "colorway": [
           "#636efa",
           "#EF553B",
           "#00cc96",
           "#ab63fa",
           "#FFA15A",
           "#19d3f3",
           "#FF6692",
           "#B6E880",
           "#FF97FF",
           "#FECB52"
          ],
          "font": {
           "color": "#2a3f5f"
          },
          "geo": {
           "bgcolor": "white",
           "lakecolor": "white",
           "landcolor": "#E5ECF6",
           "showlakes": true,
           "showland": true,
           "subunitcolor": "white"
          },
          "hoverlabel": {
           "align": "left"
          },
          "hovermode": "closest",
          "mapbox": {
           "style": "light"
          },
          "paper_bgcolor": "white",
          "plot_bgcolor": "#E5ECF6",
          "polar": {
           "angularaxis": {
            "gridcolor": "white",
            "linecolor": "white",
            "ticks": ""
           },
           "bgcolor": "#E5ECF6",
           "radialaxis": {
            "gridcolor": "white",
            "linecolor": "white",
            "ticks": ""
           }
          },
          "scene": {
           "xaxis": {
            "backgroundcolor": "#E5ECF6",
            "gridcolor": "white",
            "gridwidth": 2,
            "linecolor": "white",
            "showbackground": true,
            "ticks": "",
            "zerolinecolor": "white"
           },
           "yaxis": {
            "backgroundcolor": "#E5ECF6",
            "gridcolor": "white",
            "gridwidth": 2,
            "linecolor": "white",
            "showbackground": true,
            "ticks": "",
            "zerolinecolor": "white"
           },
           "zaxis": {
            "backgroundcolor": "#E5ECF6",
            "gridcolor": "white",
            "gridwidth": 2,
            "linecolor": "white",
            "showbackground": true,
            "ticks": "",
            "zerolinecolor": "white"
           }
          },
          "shapedefaults": {
           "line": {
            "color": "#2a3f5f"
           }
          },
          "ternary": {
           "aaxis": {
            "gridcolor": "white",
            "linecolor": "white",
            "ticks": ""
           },
           "baxis": {
            "gridcolor": "white",
            "linecolor": "white",
            "ticks": ""
           },
           "bgcolor": "#E5ECF6",
           "caxis": {
            "gridcolor": "white",
            "linecolor": "white",
            "ticks": ""
           }
          },
          "title": {
           "x": 0.05
          },
          "xaxis": {
           "automargin": true,
           "gridcolor": "white",
           "linecolor": "white",
           "ticks": "",
           "title": {
            "standoff": 15
           },
           "zerolinecolor": "white",
           "zerolinewidth": 2
          },
          "yaxis": {
           "automargin": true,
           "gridcolor": "white",
           "linecolor": "white",
           "ticks": "",
           "title": {
            "standoff": 15
           },
           "zerolinecolor": "white",
           "zerolinewidth": 2
          }
         }
        },
        "title": {
         "font": {
          "size": 16
         },
         "text": "Liczba zgonów na COVID-19 w województwach na 100 tys. mieszkańców<br>        w podziale na ostatnią dawkę szczepionki (Od 2021-07-14)",
         "x": 0.5,
         "xanchor": "center"
        },
        "uniformtext": {
         "minsize": 6,
         "mode": "show"
        },
        "width": 800,
        "xaxis": {
         "tickangle": 33
        },
        "yaxis": {
         "title": {
          "text": "Liczba zgonów na 100 tys."
         }
        }
       }
      }
     },
     "metadata": {},
     "output_type": "display_data"
    }
   ],
   "source": [
    "from_date = datetime.date(2021,7,14)\n",
    "\n",
    "df = prepare_df1(basiw.dfd, from_date, pop_dict)\n",
    "plot_df1(from_date, df, basiw.image_dir)"
   ]
  },
  {
   "cell_type": "code",
   "execution_count": null,
   "metadata": {},
   "outputs": [],
   "source": []
  }
 ],
 "metadata": {
  "interpreter": {
   "hash": "77fe7f2921fd5ac1420359629674904b142848c704bee1cb7ff35390d0c22cc9"
  },
  "kernelspec": {
   "display_name": "Python 3.6.10 64-bit ('python3.6': conda)",
   "language": "python",
   "name": "python3"
  },
  "language_info": {
   "codemirror_mode": {
    "name": "ipython",
    "version": 3
   },
   "file_extension": ".py",
   "mimetype": "text/x-python",
   "name": "python",
   "nbconvert_exporter": "python",
   "pygments_lexer": "ipython3",
   "version": "3.6.10"
  },
  "orig_nbformat": 4
 },
 "nbformat": 4,
 "nbformat_minor": 2
}
