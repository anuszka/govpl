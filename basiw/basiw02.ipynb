{
 "cells": [
  {
   "cell_type": "markdown",
   "metadata": {},
   "source": [
    "# Baza BASiW\n",
    "Przypadki i zgony w podziale na:\n",
    "* Datę\n",
    "* Województwo\n",
    "* Powiat\n",
    "* Wiek\n",
    "* Płeć\n",
    "* Stan zaszczepienia\n",
    "* Choroby współistniejące\n",
    "* Upośledzenie odporności\n",
    "\n",
    "## SPRAWDZIĆ: 4. fala od 14.07.2021, ludzie zgłaszają, że są tu złe liczby zgonów!!!\n",
    "\n",
    "## ŚCIĄGNIJ AKTUALNE DANE RĘCZNIE!!!\n",
    "<!-- ### Ale obecnie one nie są aktualizowane - tylko do 07.12.2021 -->\n",
    "https://basiw.mz.gov.pl/index.html#/visualization?id=3761"
   ]
  },
  {
   "cell_type": "code",
   "execution_count": 1,
   "metadata": {},
   "outputs": [],
   "source": [
    "\"\"\"\n",
    "Set PYTHONPATH for modules in parallel directory\n",
    "\n",
    "https://stackoverflow.com/questions/3108285/in-python-script-how-do-i-set-pythonpath/3108301\n",
    "\n",
    "\"\"\"\n",
    "\n",
    "import sys\n",
    "\n",
    "try:\n",
    "    sys.path.index('..') # Or os.getcwd() for this directory\n",
    "except ValueError:\n",
    "    sys.path.append('..') # Or os.getcwd() for this directory\n",
    "\n",
    "#--------------------------------------------------------------\n",
    "import pandas as pd\n",
    "from share.helper_functions import was_modified_today, display_all\n",
    "import plotly.express as px\n",
    "import plotly.graph_objects as go\n",
    "import os\n",
    "import datetime\n",
    "import numpy as np"
   ]
  },
  {
   "cell_type": "code",
   "execution_count": 2,
   "metadata": {},
   "outputs": [],
   "source": [
    "image_dir = './images'\n",
    "data_dir = './basiw_data'\n",
    "data_file_deaths = 'zgony.csv'\n",
    "data_file_cases = 'zakazenia.csv'\n",
    "path_deaths = os.sep.join([data_dir,data_file_deaths])\n",
    "path_cases = os.sep.join([data_dir,data_file_cases])\n",
    "\n",
    "# if was_modified_today(path_deaths):\n",
    "#     print('Data up to date')\n",
    "#     dfd = pd.read_csv(path_deaths, encoding = 'cp1250', sep = ';')\n",
    "#     dfc = pd.read_csv(path_cases, encoding = 'cp1250', sep = ';')\n",
    "# else:\n",
    "#     print('Old data, need to download new data!')\n",
    "\n",
    "dfd_raw = pd.read_csv(path_deaths, encoding = 'cp1250', sep = ';',low_memory=False)\n",
    "dfc_raw = pd.read_csv(path_cases, encoding = 'cp1250', sep = ';', low_memory=False)"
   ]
  },
  {
   "cell_type": "code",
   "execution_count": 3,
   "metadata": {},
   "outputs": [
    {
     "data": {
      "text/html": [
       "<div>\n",
       "<style scoped>\n",
       "    .dataframe tbody tr th:only-of-type {\n",
       "        vertical-align: middle;\n",
       "    }\n",
       "\n",
       "    .dataframe tbody tr th {\n",
       "        vertical-align: top;\n",
       "    }\n",
       "\n",
       "    .dataframe thead th {\n",
       "        text-align: right;\n",
       "    }\n",
       "</style>\n",
       "<table border=\"1\" class=\"dataframe\">\n",
       "  <thead>\n",
       "    <tr style=\"text-align: right;\">\n",
       "      <th></th>\n",
       "      <th>WOJ</th>\n",
       "      <th>POW</th>\n",
       "      <th>GMI</th>\n",
       "      <th>RODZ</th>\n",
       "      <th>NAZWA</th>\n",
       "      <th>NAZWA_DOD</th>\n",
       "      <th>STAN_NA</th>\n",
       "    </tr>\n",
       "  </thead>\n",
       "  <tbody>\n",
       "    <tr>\n",
       "      <th>0</th>\n",
       "      <td>2</td>\n",
       "      <td>NaN</td>\n",
       "      <td>NaN</td>\n",
       "      <td>NaN</td>\n",
       "      <td>DOLNOŚLĄSKIE</td>\n",
       "      <td>województwo</td>\n",
       "      <td>2021-01-01</td>\n",
       "    </tr>\n",
       "    <tr>\n",
       "      <th>1</th>\n",
       "      <td>2</td>\n",
       "      <td>1.0</td>\n",
       "      <td>NaN</td>\n",
       "      <td>NaN</td>\n",
       "      <td>bolesławiecki</td>\n",
       "      <td>powiat</td>\n",
       "      <td>2021-01-01</td>\n",
       "    </tr>\n",
       "    <tr>\n",
       "      <th>2</th>\n",
       "      <td>2</td>\n",
       "      <td>1.0</td>\n",
       "      <td>1.0</td>\n",
       "      <td>1.0</td>\n",
       "      <td>Bolesławiec</td>\n",
       "      <td>gmina miejska</td>\n",
       "      <td>2021-01-01</td>\n",
       "    </tr>\n",
       "    <tr>\n",
       "      <th>3</th>\n",
       "      <td>2</td>\n",
       "      <td>1.0</td>\n",
       "      <td>2.0</td>\n",
       "      <td>2.0</td>\n",
       "      <td>Bolesławiec</td>\n",
       "      <td>gmina wiejska</td>\n",
       "      <td>2021-01-01</td>\n",
       "    </tr>\n",
       "    <tr>\n",
       "      <th>4</th>\n",
       "      <td>2</td>\n",
       "      <td>1.0</td>\n",
       "      <td>3.0</td>\n",
       "      <td>2.0</td>\n",
       "      <td>Gromadka</td>\n",
       "      <td>gmina wiejska</td>\n",
       "      <td>2021-01-01</td>\n",
       "    </tr>\n",
       "    <tr>\n",
       "      <th>...</th>\n",
       "      <td>...</td>\n",
       "      <td>...</td>\n",
       "      <td>...</td>\n",
       "      <td>...</td>\n",
       "      <td>...</td>\n",
       "      <td>...</td>\n",
       "      <td>...</td>\n",
       "    </tr>\n",
       "    <tr>\n",
       "      <th>4209</th>\n",
       "      <td>32</td>\n",
       "      <td>61.0</td>\n",
       "      <td>1.0</td>\n",
       "      <td>1.0</td>\n",
       "      <td>Koszalin</td>\n",
       "      <td>gmina miejska</td>\n",
       "      <td>2021-01-01</td>\n",
       "    </tr>\n",
       "    <tr>\n",
       "      <th>4210</th>\n",
       "      <td>32</td>\n",
       "      <td>62.0</td>\n",
       "      <td>NaN</td>\n",
       "      <td>NaN</td>\n",
       "      <td>Szczecin</td>\n",
       "      <td>miasto na prawach powiatu</td>\n",
       "      <td>2021-01-01</td>\n",
       "    </tr>\n",
       "    <tr>\n",
       "      <th>4211</th>\n",
       "      <td>32</td>\n",
       "      <td>62.0</td>\n",
       "      <td>1.0</td>\n",
       "      <td>1.0</td>\n",
       "      <td>Szczecin</td>\n",
       "      <td>gmina miejska</td>\n",
       "      <td>2021-01-01</td>\n",
       "    </tr>\n",
       "    <tr>\n",
       "      <th>4212</th>\n",
       "      <td>32</td>\n",
       "      <td>63.0</td>\n",
       "      <td>NaN</td>\n",
       "      <td>NaN</td>\n",
       "      <td>Świnoujście</td>\n",
       "      <td>miasto na prawach powiatu</td>\n",
       "      <td>2021-01-01</td>\n",
       "    </tr>\n",
       "    <tr>\n",
       "      <th>4213</th>\n",
       "      <td>32</td>\n",
       "      <td>63.0</td>\n",
       "      <td>1.0</td>\n",
       "      <td>1.0</td>\n",
       "      <td>Świnoujście</td>\n",
       "      <td>gmina miejska</td>\n",
       "      <td>2021-01-01</td>\n",
       "    </tr>\n",
       "  </tbody>\n",
       "</table>\n",
       "<p>4214 rows × 7 columns</p>\n",
       "</div>"
      ],
      "text/plain": [
       "      WOJ   POW  GMI  RODZ          NAZWA                  NAZWA_DOD  \\\n",
       "0       2   NaN  NaN   NaN   DOLNOŚLĄSKIE                województwo   \n",
       "1       2   1.0  NaN   NaN  bolesławiecki                     powiat   \n",
       "2       2   1.0  1.0   1.0    Bolesławiec              gmina miejska   \n",
       "3       2   1.0  2.0   2.0    Bolesławiec              gmina wiejska   \n",
       "4       2   1.0  3.0   2.0       Gromadka              gmina wiejska   \n",
       "...   ...   ...  ...   ...            ...                        ...   \n",
       "4209   32  61.0  1.0   1.0       Koszalin              gmina miejska   \n",
       "4210   32  62.0  NaN   NaN       Szczecin  miasto na prawach powiatu   \n",
       "4211   32  62.0  1.0   1.0       Szczecin              gmina miejska   \n",
       "4212   32  63.0  NaN   NaN    Świnoujście  miasto na prawach powiatu   \n",
       "4213   32  63.0  1.0   1.0    Świnoujście              gmina miejska   \n",
       "\n",
       "         STAN_NA  \n",
       "0     2021-01-01  \n",
       "1     2021-01-01  \n",
       "2     2021-01-01  \n",
       "3     2021-01-01  \n",
       "4     2021-01-01  \n",
       "...          ...  \n",
       "4209  2021-01-01  \n",
       "4210  2021-01-01  \n",
       "4211  2021-01-01  \n",
       "4212  2021-01-01  \n",
       "4213  2021-01-01  \n",
       "\n",
       "[4214 rows x 7 columns]"
      ]
     },
     "execution_count": 3,
     "metadata": {},
     "output_type": "execute_result"
    }
   ],
   "source": [
    "teryt_file = 'TERC_Urzedowy_2021-12-14.csv'\n",
    "path_teryt = os.sep.join([data_dir,teryt_file])\n",
    "\n",
    "# df_teryt = pd.read_csv(path_teryt, encoding = 'cp1250', sep = ';')\n",
    "df_teryt = pd.read_csv(path_teryt, sep = ';')\n",
    "df_teryt"
   ]
  },
  {
   "cell_type": "code",
   "execution_count": 4,
   "metadata": {},
   "outputs": [
    {
     "data": {
      "text/plain": [
       "{2: 'Dolnośląskie',\n",
       " 4: 'Kujawsko-Pomorskie',\n",
       " 6: 'Lubelskie',\n",
       " 8: 'Lubuskie',\n",
       " 10: 'Łódzkie',\n",
       " 12: 'Małopolskie',\n",
       " 14: 'Mazowieckie',\n",
       " 16: 'Opolskie',\n",
       " 18: 'Podkarpackie',\n",
       " 20: 'Podlaskie',\n",
       " 22: 'Pomorskie',\n",
       " 24: 'Śląskie',\n",
       " 26: 'Świętokrzyskie',\n",
       " 28: 'Warmińsko-Mazurskie',\n",
       " 30: 'Wielkopolskie',\n",
       " 32: 'Zachodniopomorskie'}"
      ]
     },
     "execution_count": 4,
     "metadata": {},
     "output_type": "execute_result"
    }
   ],
   "source": [
    "df_woj = df_teryt.query('NAZWA_DOD == \"województwo\"')[['WOJ', 'NAZWA']]\n",
    "df_woj['NAZWA'] = df_woj['NAZWA'].str.title()\n",
    "\n",
    "df_woj.index = df_woj.pop('WOJ')\n",
    "# df_woj\n",
    "teryt_dict = df_woj.to_dict()['NAZWA']\n",
    "teryt_dict"
   ]
  },
  {
   "cell_type": "code",
   "execution_count": 5,
   "metadata": {},
   "outputs": [
    {
     "data": {
      "text/html": [
       "<div>\n",
       "<style scoped>\n",
       "    .dataframe tbody tr th:only-of-type {\n",
       "        vertical-align: middle;\n",
       "    }\n",
       "\n",
       "    .dataframe tbody tr th {\n",
       "        vertical-align: top;\n",
       "    }\n",
       "\n",
       "    .dataframe thead th {\n",
       "        text-align: right;\n",
       "    }\n",
       "</style>\n",
       "<table border=\"1\" class=\"dataframe\">\n",
       "  <thead>\n",
       "    <tr style=\"text-align: right;\">\n",
       "      <th></th>\n",
       "      <th>data_rap_zgonu</th>\n",
       "      <th>teryt_woj</th>\n",
       "      <th>teryt_pow</th>\n",
       "      <th>plec</th>\n",
       "      <th>wiek</th>\n",
       "      <th>kat_wiek</th>\n",
       "      <th>czy_wspolistniejace</th>\n",
       "      <th>producent</th>\n",
       "      <th>dawka_ost</th>\n",
       "      <th>obniz_odpornosc</th>\n",
       "      <th>liczba_zaraportowanych_zgonow</th>\n",
       "      <th>w_pelni_zaszczepiony</th>\n",
       "    </tr>\n",
       "  </thead>\n",
       "  <tbody>\n",
       "    <tr>\n",
       "      <th>0</th>\n",
       "      <td>2021-01-02</td>\n",
       "      <td>4</td>\n",
       "      <td>407</td>\n",
       "      <td>K</td>\n",
       "      <td>67.0</td>\n",
       "      <td>65-74</td>\n",
       "      <td>T</td>\n",
       "      <td>NaN</td>\n",
       "      <td>NaN</td>\n",
       "      <td>N</td>\n",
       "      <td>1</td>\n",
       "      <td>N</td>\n",
       "    </tr>\n",
       "    <tr>\n",
       "      <th>1</th>\n",
       "      <td>2021-01-02</td>\n",
       "      <td>4</td>\n",
       "      <td>407</td>\n",
       "      <td>K</td>\n",
       "      <td>90.0</td>\n",
       "      <td>85-94</td>\n",
       "      <td>T</td>\n",
       "      <td>NaN</td>\n",
       "      <td>NaN</td>\n",
       "      <td>N</td>\n",
       "      <td>1</td>\n",
       "      <td>N</td>\n",
       "    </tr>\n",
       "    <tr>\n",
       "      <th>2</th>\n",
       "      <td>2021-01-02</td>\n",
       "      <td>4</td>\n",
       "      <td>407</td>\n",
       "      <td>M</td>\n",
       "      <td>69.0</td>\n",
       "      <td>65-74</td>\n",
       "      <td>T</td>\n",
       "      <td>NaN</td>\n",
       "      <td>NaN</td>\n",
       "      <td>N</td>\n",
       "      <td>1</td>\n",
       "      <td>N</td>\n",
       "    </tr>\n",
       "    <tr>\n",
       "      <th>3</th>\n",
       "      <td>2021-01-02</td>\n",
       "      <td>4</td>\n",
       "      <td>415</td>\n",
       "      <td>M</td>\n",
       "      <td>72.0</td>\n",
       "      <td>65-74</td>\n",
       "      <td>T</td>\n",
       "      <td>NaN</td>\n",
       "      <td>NaN</td>\n",
       "      <td>N</td>\n",
       "      <td>1</td>\n",
       "      <td>N</td>\n",
       "    </tr>\n",
       "    <tr>\n",
       "      <th>4</th>\n",
       "      <td>2021-01-02</td>\n",
       "      <td>4</td>\n",
       "      <td>415</td>\n",
       "      <td>M</td>\n",
       "      <td>77.0</td>\n",
       "      <td>75-84</td>\n",
       "      <td>T</td>\n",
       "      <td>NaN</td>\n",
       "      <td>NaN</td>\n",
       "      <td>N</td>\n",
       "      <td>1</td>\n",
       "      <td>N</td>\n",
       "    </tr>\n",
       "    <tr>\n",
       "      <th>...</th>\n",
       "      <td>...</td>\n",
       "      <td>...</td>\n",
       "      <td>...</td>\n",
       "      <td>...</td>\n",
       "      <td>...</td>\n",
       "      <td>...</td>\n",
       "      <td>...</td>\n",
       "      <td>...</td>\n",
       "      <td>...</td>\n",
       "      <td>...</td>\n",
       "      <td>...</td>\n",
       "      <td>...</td>\n",
       "    </tr>\n",
       "    <tr>\n",
       "      <th>58975</th>\n",
       "      <td>2021-12-13</td>\n",
       "      <td>32</td>\n",
       "      <td>3261</td>\n",
       "      <td>M</td>\n",
       "      <td>83.0</td>\n",
       "      <td>75-84</td>\n",
       "      <td>T</td>\n",
       "      <td>NaN</td>\n",
       "      <td>NaN</td>\n",
       "      <td>N</td>\n",
       "      <td>1</td>\n",
       "      <td>N</td>\n",
       "    </tr>\n",
       "    <tr>\n",
       "      <th>58976</th>\n",
       "      <td>2021-12-13</td>\n",
       "      <td>32</td>\n",
       "      <td>3261</td>\n",
       "      <td>M</td>\n",
       "      <td>85.0</td>\n",
       "      <td>85-94</td>\n",
       "      <td>T</td>\n",
       "      <td>Pfizer</td>\n",
       "      <td>pelna_dawka</td>\n",
       "      <td>N</td>\n",
       "      <td>1</td>\n",
       "      <td>T</td>\n",
       "    </tr>\n",
       "    <tr>\n",
       "      <th>58977</th>\n",
       "      <td>2021-12-13</td>\n",
       "      <td>32</td>\n",
       "      <td>3262</td>\n",
       "      <td>M</td>\n",
       "      <td>73.0</td>\n",
       "      <td>65-74</td>\n",
       "      <td>T</td>\n",
       "      <td>Pfizer</td>\n",
       "      <td>pelna_dawka</td>\n",
       "      <td>N</td>\n",
       "      <td>1</td>\n",
       "      <td>T</td>\n",
       "    </tr>\n",
       "    <tr>\n",
       "      <th>58978</th>\n",
       "      <td>2021-12-13</td>\n",
       "      <td>32</td>\n",
       "      <td>3262</td>\n",
       "      <td>M</td>\n",
       "      <td>78.0</td>\n",
       "      <td>75-84</td>\n",
       "      <td>T</td>\n",
       "      <td>Pfizer</td>\n",
       "      <td>pelna_dawka</td>\n",
       "      <td>N</td>\n",
       "      <td>1</td>\n",
       "      <td>T</td>\n",
       "    </tr>\n",
       "    <tr>\n",
       "      <th>58979</th>\n",
       "      <td>2021-12-13</td>\n",
       "      <td>32</td>\n",
       "      <td>3262</td>\n",
       "      <td>M</td>\n",
       "      <td>81.0</td>\n",
       "      <td>75-84</td>\n",
       "      <td>T</td>\n",
       "      <td>Pfizer</td>\n",
       "      <td>pelna_dawka</td>\n",
       "      <td>N</td>\n",
       "      <td>1</td>\n",
       "      <td>T</td>\n",
       "    </tr>\n",
       "  </tbody>\n",
       "</table>\n",
       "<p>58980 rows × 12 columns</p>\n",
       "</div>"
      ],
      "text/plain": [
       "      data_rap_zgonu  teryt_woj  teryt_pow plec  wiek kat_wiek  \\\n",
       "0         2021-01-02          4        407    K  67.0    65-74   \n",
       "1         2021-01-02          4        407    K  90.0    85-94   \n",
       "2         2021-01-02          4        407    M  69.0    65-74   \n",
       "3         2021-01-02          4        415    M  72.0    65-74   \n",
       "4         2021-01-02          4        415    M  77.0    75-84   \n",
       "...              ...        ...        ...  ...   ...      ...   \n",
       "58975     2021-12-13         32       3261    M  83.0    75-84   \n",
       "58976     2021-12-13         32       3261    M  85.0    85-94   \n",
       "58977     2021-12-13         32       3262    M  73.0    65-74   \n",
       "58978     2021-12-13         32       3262    M  78.0    75-84   \n",
       "58979     2021-12-13         32       3262    M  81.0    75-84   \n",
       "\n",
       "      czy_wspolistniejace producent    dawka_ost obniz_odpornosc  \\\n",
       "0                       T       NaN          NaN               N   \n",
       "1                       T       NaN          NaN               N   \n",
       "2                       T       NaN          NaN               N   \n",
       "3                       T       NaN          NaN               N   \n",
       "4                       T       NaN          NaN               N   \n",
       "...                   ...       ...          ...             ...   \n",
       "58975                   T       NaN          NaN               N   \n",
       "58976                   T    Pfizer  pelna_dawka               N   \n",
       "58977                   T    Pfizer  pelna_dawka               N   \n",
       "58978                   T    Pfizer  pelna_dawka               N   \n",
       "58979                   T    Pfizer  pelna_dawka               N   \n",
       "\n",
       "       liczba_zaraportowanych_zgonow w_pelni_zaszczepiony  \n",
       "0                                  1                    N  \n",
       "1                                  1                    N  \n",
       "2                                  1                    N  \n",
       "3                                  1                    N  \n",
       "4                                  1                    N  \n",
       "...                              ...                  ...  \n",
       "58975                              1                    N  \n",
       "58976                              1                    T  \n",
       "58977                              1                    T  \n",
       "58978                              1                    T  \n",
       "58979                              1                    T  \n",
       "\n",
       "[58980 rows x 12 columns]"
      ]
     },
     "execution_count": 5,
     "metadata": {},
     "output_type": "execute_result"
    }
   ],
   "source": [
    "dfd_raw"
   ]
  },
  {
   "cell_type": "markdown",
   "metadata": {},
   "source": [
    "## Format data frame"
   ]
  },
  {
   "cell_type": "code",
   "execution_count": 6,
   "metadata": {},
   "outputs": [
    {
     "data": {
      "text/html": [
       "<div>\n",
       "<style scoped>\n",
       "    .dataframe tbody tr th:only-of-type {\n",
       "        vertical-align: middle;\n",
       "    }\n",
       "\n",
       "    .dataframe tbody tr th {\n",
       "        vertical-align: top;\n",
       "    }\n",
       "\n",
       "    .dataframe thead th {\n",
       "        text-align: right;\n",
       "    }\n",
       "</style>\n",
       "<table border=\"1\" class=\"dataframe\">\n",
       "  <thead>\n",
       "    <tr style=\"text-align: right;\">\n",
       "      <th></th>\n",
       "      <th>data_rap_zgonu</th>\n",
       "      <th>teryt_woj</th>\n",
       "      <th>teryt_pow</th>\n",
       "      <th>plec</th>\n",
       "      <th>wiek</th>\n",
       "      <th>kat_wiek</th>\n",
       "      <th>czy_wspolistniejace</th>\n",
       "      <th>producent</th>\n",
       "      <th>dawka_ost</th>\n",
       "      <th>obniz_odpornosc</th>\n",
       "      <th>liczba_zaraportowanych_zgonow</th>\n",
       "      <th>w_pelni_zaszczepiony</th>\n",
       "      <th>Województwo</th>\n",
       "    </tr>\n",
       "  </thead>\n",
       "  <tbody>\n",
       "    <tr>\n",
       "      <th>0</th>\n",
       "      <td>2021-01-02</td>\n",
       "      <td>4</td>\n",
       "      <td>407</td>\n",
       "      <td>K</td>\n",
       "      <td>67.0</td>\n",
       "      <td>65-74</td>\n",
       "      <td>T</td>\n",
       "      <td>NaN</td>\n",
       "      <td>NaN</td>\n",
       "      <td>N</td>\n",
       "      <td>1</td>\n",
       "      <td>N</td>\n",
       "      <td>Kujawsko-Pomorskie</td>\n",
       "    </tr>\n",
       "    <tr>\n",
       "      <th>1</th>\n",
       "      <td>2021-01-02</td>\n",
       "      <td>4</td>\n",
       "      <td>407</td>\n",
       "      <td>K</td>\n",
       "      <td>90.0</td>\n",
       "      <td>85-94</td>\n",
       "      <td>T</td>\n",
       "      <td>NaN</td>\n",
       "      <td>NaN</td>\n",
       "      <td>N</td>\n",
       "      <td>1</td>\n",
       "      <td>N</td>\n",
       "      <td>Kujawsko-Pomorskie</td>\n",
       "    </tr>\n",
       "    <tr>\n",
       "      <th>2</th>\n",
       "      <td>2021-01-02</td>\n",
       "      <td>4</td>\n",
       "      <td>407</td>\n",
       "      <td>M</td>\n",
       "      <td>69.0</td>\n",
       "      <td>65-74</td>\n",
       "      <td>T</td>\n",
       "      <td>NaN</td>\n",
       "      <td>NaN</td>\n",
       "      <td>N</td>\n",
       "      <td>1</td>\n",
       "      <td>N</td>\n",
       "      <td>Kujawsko-Pomorskie</td>\n",
       "    </tr>\n",
       "    <tr>\n",
       "      <th>3</th>\n",
       "      <td>2021-01-02</td>\n",
       "      <td>4</td>\n",
       "      <td>415</td>\n",
       "      <td>M</td>\n",
       "      <td>72.0</td>\n",
       "      <td>65-74</td>\n",
       "      <td>T</td>\n",
       "      <td>NaN</td>\n",
       "      <td>NaN</td>\n",
       "      <td>N</td>\n",
       "      <td>1</td>\n",
       "      <td>N</td>\n",
       "      <td>Kujawsko-Pomorskie</td>\n",
       "    </tr>\n",
       "    <tr>\n",
       "      <th>4</th>\n",
       "      <td>2021-01-02</td>\n",
       "      <td>4</td>\n",
       "      <td>415</td>\n",
       "      <td>M</td>\n",
       "      <td>77.0</td>\n",
       "      <td>75-84</td>\n",
       "      <td>T</td>\n",
       "      <td>NaN</td>\n",
       "      <td>NaN</td>\n",
       "      <td>N</td>\n",
       "      <td>1</td>\n",
       "      <td>N</td>\n",
       "      <td>Kujawsko-Pomorskie</td>\n",
       "    </tr>\n",
       "    <tr>\n",
       "      <th>...</th>\n",
       "      <td>...</td>\n",
       "      <td>...</td>\n",
       "      <td>...</td>\n",
       "      <td>...</td>\n",
       "      <td>...</td>\n",
       "      <td>...</td>\n",
       "      <td>...</td>\n",
       "      <td>...</td>\n",
       "      <td>...</td>\n",
       "      <td>...</td>\n",
       "      <td>...</td>\n",
       "      <td>...</td>\n",
       "      <td>...</td>\n",
       "    </tr>\n",
       "    <tr>\n",
       "      <th>58975</th>\n",
       "      <td>2021-12-13</td>\n",
       "      <td>32</td>\n",
       "      <td>3261</td>\n",
       "      <td>M</td>\n",
       "      <td>83.0</td>\n",
       "      <td>75-84</td>\n",
       "      <td>T</td>\n",
       "      <td>NaN</td>\n",
       "      <td>NaN</td>\n",
       "      <td>N</td>\n",
       "      <td>1</td>\n",
       "      <td>N</td>\n",
       "      <td>Zachodniopomorskie</td>\n",
       "    </tr>\n",
       "    <tr>\n",
       "      <th>58976</th>\n",
       "      <td>2021-12-13</td>\n",
       "      <td>32</td>\n",
       "      <td>3261</td>\n",
       "      <td>M</td>\n",
       "      <td>85.0</td>\n",
       "      <td>85-94</td>\n",
       "      <td>T</td>\n",
       "      <td>Pfizer</td>\n",
       "      <td>pelna_dawka</td>\n",
       "      <td>N</td>\n",
       "      <td>1</td>\n",
       "      <td>T</td>\n",
       "      <td>Zachodniopomorskie</td>\n",
       "    </tr>\n",
       "    <tr>\n",
       "      <th>58977</th>\n",
       "      <td>2021-12-13</td>\n",
       "      <td>32</td>\n",
       "      <td>3262</td>\n",
       "      <td>M</td>\n",
       "      <td>73.0</td>\n",
       "      <td>65-74</td>\n",
       "      <td>T</td>\n",
       "      <td>Pfizer</td>\n",
       "      <td>pelna_dawka</td>\n",
       "      <td>N</td>\n",
       "      <td>1</td>\n",
       "      <td>T</td>\n",
       "      <td>Zachodniopomorskie</td>\n",
       "    </tr>\n",
       "    <tr>\n",
       "      <th>58978</th>\n",
       "      <td>2021-12-13</td>\n",
       "      <td>32</td>\n",
       "      <td>3262</td>\n",
       "      <td>M</td>\n",
       "      <td>78.0</td>\n",
       "      <td>75-84</td>\n",
       "      <td>T</td>\n",
       "      <td>Pfizer</td>\n",
       "      <td>pelna_dawka</td>\n",
       "      <td>N</td>\n",
       "      <td>1</td>\n",
       "      <td>T</td>\n",
       "      <td>Zachodniopomorskie</td>\n",
       "    </tr>\n",
       "    <tr>\n",
       "      <th>58979</th>\n",
       "      <td>2021-12-13</td>\n",
       "      <td>32</td>\n",
       "      <td>3262</td>\n",
       "      <td>M</td>\n",
       "      <td>81.0</td>\n",
       "      <td>75-84</td>\n",
       "      <td>T</td>\n",
       "      <td>Pfizer</td>\n",
       "      <td>pelna_dawka</td>\n",
       "      <td>N</td>\n",
       "      <td>1</td>\n",
       "      <td>T</td>\n",
       "      <td>Zachodniopomorskie</td>\n",
       "    </tr>\n",
       "  </tbody>\n",
       "</table>\n",
       "<p>58980 rows × 13 columns</p>\n",
       "</div>"
      ],
      "text/plain": [
       "      data_rap_zgonu  teryt_woj  teryt_pow plec  wiek kat_wiek  \\\n",
       "0         2021-01-02          4        407    K  67.0    65-74   \n",
       "1         2021-01-02          4        407    K  90.0    85-94   \n",
       "2         2021-01-02          4        407    M  69.0    65-74   \n",
       "3         2021-01-02          4        415    M  72.0    65-74   \n",
       "4         2021-01-02          4        415    M  77.0    75-84   \n",
       "...              ...        ...        ...  ...   ...      ...   \n",
       "58975     2021-12-13         32       3261    M  83.0    75-84   \n",
       "58976     2021-12-13         32       3261    M  85.0    85-94   \n",
       "58977     2021-12-13         32       3262    M  73.0    65-74   \n",
       "58978     2021-12-13         32       3262    M  78.0    75-84   \n",
       "58979     2021-12-13         32       3262    M  81.0    75-84   \n",
       "\n",
       "      czy_wspolistniejace producent    dawka_ost obniz_odpornosc  \\\n",
       "0                       T       NaN          NaN               N   \n",
       "1                       T       NaN          NaN               N   \n",
       "2                       T       NaN          NaN               N   \n",
       "3                       T       NaN          NaN               N   \n",
       "4                       T       NaN          NaN               N   \n",
       "...                   ...       ...          ...             ...   \n",
       "58975                   T       NaN          NaN               N   \n",
       "58976                   T    Pfizer  pelna_dawka               N   \n",
       "58977                   T    Pfizer  pelna_dawka               N   \n",
       "58978                   T    Pfizer  pelna_dawka               N   \n",
       "58979                   T    Pfizer  pelna_dawka               N   \n",
       "\n",
       "       liczba_zaraportowanych_zgonow w_pelni_zaszczepiony         Województwo  \n",
       "0                                  1                    N  Kujawsko-Pomorskie  \n",
       "1                                  1                    N  Kujawsko-Pomorskie  \n",
       "2                                  1                    N  Kujawsko-Pomorskie  \n",
       "3                                  1                    N  Kujawsko-Pomorskie  \n",
       "4                                  1                    N  Kujawsko-Pomorskie  \n",
       "...                              ...                  ...                 ...  \n",
       "58975                              1                    N  Zachodniopomorskie  \n",
       "58976                              1                    T  Zachodniopomorskie  \n",
       "58977                              1                    T  Zachodniopomorskie  \n",
       "58978                              1                    T  Zachodniopomorskie  \n",
       "58979                              1                    T  Zachodniopomorskie  \n",
       "\n",
       "[58980 rows x 13 columns]"
      ]
     },
     "execution_count": 6,
     "metadata": {},
     "output_type": "execute_result"
    }
   ],
   "source": [
    "dfd = dfd_raw.copy(deep=True)\n",
    "dfd['data_rap_zgonu'] = pd.to_datetime(dfd['data_rap_zgonu'], format = \"%Y-%m-%d\")\n",
    "dfd['Województwo'] = dfd.teryt_woj\n",
    "dfd['Województwo'].replace(teryt_dict, inplace=True)\n",
    "dfd"
   ]
  },
  {
   "cell_type": "code",
   "execution_count": 7,
   "metadata": {},
   "outputs": [
    {
     "data": {
      "text/plain": [
       "59986"
      ]
     },
     "execution_count": 7,
     "metadata": {},
     "output_type": "execute_result"
    }
   ],
   "source": [
    "dfd['liczba_zaraportowanych_zgonow'].sum()"
   ]
  },
  {
   "cell_type": "code",
   "execution_count": 8,
   "metadata": {},
   "outputs": [
    {
     "data": {
      "text/plain": [
       "59986"
      ]
     },
     "execution_count": 8,
     "metadata": {},
     "output_type": "execute_result"
    }
   ],
   "source": [
    "dfd_raw['liczba_zaraportowanych_zgonow'].sum()"
   ]
  },
  {
   "cell_type": "code",
   "execution_count": 9,
   "metadata": {},
   "outputs": [
    {
     "data": {
      "text/plain": [
       "58980"
      ]
     },
     "execution_count": 9,
     "metadata": {},
     "output_type": "execute_result"
    }
   ],
   "source": [
    "dfd.shape[0]"
   ]
  },
  {
   "cell_type": "markdown",
   "metadata": {},
   "source": [
    "Liczba raportowanych zgonów jest większa niż liczba wierszy, bo niektóre liczby raportowanych zgonów są >1"
   ]
  },
  {
   "cell_type": "markdown",
   "metadata": {},
   "source": [
    "### Czwarta Fala\n",
    "\n",
    "Przyjmuję początek 4. fali 14.07.2021 – początek wykładniczego wzrostu."
   ]
  },
  {
   "cell_type": "code",
   "execution_count": 10,
   "metadata": {},
   "outputs": [
    {
     "data": {
      "text/html": [
       "<div>\n",
       "<style scoped>\n",
       "    .dataframe tbody tr th:only-of-type {\n",
       "        vertical-align: middle;\n",
       "    }\n",
       "\n",
       "    .dataframe tbody tr th {\n",
       "        vertical-align: top;\n",
       "    }\n",
       "\n",
       "    .dataframe thead th {\n",
       "        text-align: right;\n",
       "    }\n",
       "</style>\n",
       "<table border=\"1\" class=\"dataframe\">\n",
       "  <thead>\n",
       "    <tr style=\"text-align: right;\">\n",
       "      <th></th>\n",
       "      <th>data_rap_zgonu</th>\n",
       "      <th>teryt_woj</th>\n",
       "      <th>teryt_pow</th>\n",
       "      <th>plec</th>\n",
       "      <th>wiek</th>\n",
       "      <th>kat_wiek</th>\n",
       "      <th>czy_wspolistniejace</th>\n",
       "      <th>producent</th>\n",
       "      <th>dawka_ost</th>\n",
       "      <th>obniz_odpornosc</th>\n",
       "      <th>liczba_zaraportowanych_zgonow</th>\n",
       "      <th>w_pelni_zaszczepiony</th>\n",
       "      <th>Województwo</th>\n",
       "    </tr>\n",
       "  </thead>\n",
       "  <tbody>\n",
       "    <tr>\n",
       "      <th>45248</th>\n",
       "      <td>2021-07-14</td>\n",
       "      <td>2</td>\n",
       "      <td>201</td>\n",
       "      <td>K</td>\n",
       "      <td>95.0</td>\n",
       "      <td>95+</td>\n",
       "      <td>N</td>\n",
       "      <td>NaN</td>\n",
       "      <td>NaN</td>\n",
       "      <td>N</td>\n",
       "      <td>1</td>\n",
       "      <td>N</td>\n",
       "      <td>Dolnośląskie</td>\n",
       "    </tr>\n",
       "    <tr>\n",
       "      <th>45249</th>\n",
       "      <td>2021-07-14</td>\n",
       "      <td>4</td>\n",
       "      <td>410</td>\n",
       "      <td>K</td>\n",
       "      <td>89.0</td>\n",
       "      <td>85-94</td>\n",
       "      <td>T</td>\n",
       "      <td>NaN</td>\n",
       "      <td>NaN</td>\n",
       "      <td>N</td>\n",
       "      <td>1</td>\n",
       "      <td>N</td>\n",
       "      <td>Kujawsko-Pomorskie</td>\n",
       "    </tr>\n",
       "    <tr>\n",
       "      <th>45250</th>\n",
       "      <td>2021-07-14</td>\n",
       "      <td>14</td>\n",
       "      <td>1412</td>\n",
       "      <td>K</td>\n",
       "      <td>45.0</td>\n",
       "      <td>45-54</td>\n",
       "      <td>N</td>\n",
       "      <td>NaN</td>\n",
       "      <td>NaN</td>\n",
       "      <td>N</td>\n",
       "      <td>1</td>\n",
       "      <td>N</td>\n",
       "      <td>Mazowieckie</td>\n",
       "    </tr>\n",
       "    <tr>\n",
       "      <th>45251</th>\n",
       "      <td>2021-07-14</td>\n",
       "      <td>16</td>\n",
       "      <td>1610</td>\n",
       "      <td>M</td>\n",
       "      <td>65.0</td>\n",
       "      <td>65-74</td>\n",
       "      <td>T</td>\n",
       "      <td>Astra Zeneca</td>\n",
       "      <td>jedna_dawka</td>\n",
       "      <td>N</td>\n",
       "      <td>1</td>\n",
       "      <td>N</td>\n",
       "      <td>Opolskie</td>\n",
       "    </tr>\n",
       "    <tr>\n",
       "      <th>45252</th>\n",
       "      <td>2021-07-14</td>\n",
       "      <td>18</td>\n",
       "      <td>1808</td>\n",
       "      <td>M</td>\n",
       "      <td>74.0</td>\n",
       "      <td>65-74</td>\n",
       "      <td>T</td>\n",
       "      <td>NaN</td>\n",
       "      <td>NaN</td>\n",
       "      <td>N</td>\n",
       "      <td>1</td>\n",
       "      <td>N</td>\n",
       "      <td>Podkarpackie</td>\n",
       "    </tr>\n",
       "    <tr>\n",
       "      <th>...</th>\n",
       "      <td>...</td>\n",
       "      <td>...</td>\n",
       "      <td>...</td>\n",
       "      <td>...</td>\n",
       "      <td>...</td>\n",
       "      <td>...</td>\n",
       "      <td>...</td>\n",
       "      <td>...</td>\n",
       "      <td>...</td>\n",
       "      <td>...</td>\n",
       "      <td>...</td>\n",
       "      <td>...</td>\n",
       "      <td>...</td>\n",
       "    </tr>\n",
       "    <tr>\n",
       "      <th>58975</th>\n",
       "      <td>2021-12-13</td>\n",
       "      <td>32</td>\n",
       "      <td>3261</td>\n",
       "      <td>M</td>\n",
       "      <td>83.0</td>\n",
       "      <td>75-84</td>\n",
       "      <td>T</td>\n",
       "      <td>NaN</td>\n",
       "      <td>NaN</td>\n",
       "      <td>N</td>\n",
       "      <td>1</td>\n",
       "      <td>N</td>\n",
       "      <td>Zachodniopomorskie</td>\n",
       "    </tr>\n",
       "    <tr>\n",
       "      <th>58976</th>\n",
       "      <td>2021-12-13</td>\n",
       "      <td>32</td>\n",
       "      <td>3261</td>\n",
       "      <td>M</td>\n",
       "      <td>85.0</td>\n",
       "      <td>85-94</td>\n",
       "      <td>T</td>\n",
       "      <td>Pfizer</td>\n",
       "      <td>pelna_dawka</td>\n",
       "      <td>N</td>\n",
       "      <td>1</td>\n",
       "      <td>T</td>\n",
       "      <td>Zachodniopomorskie</td>\n",
       "    </tr>\n",
       "    <tr>\n",
       "      <th>58977</th>\n",
       "      <td>2021-12-13</td>\n",
       "      <td>32</td>\n",
       "      <td>3262</td>\n",
       "      <td>M</td>\n",
       "      <td>73.0</td>\n",
       "      <td>65-74</td>\n",
       "      <td>T</td>\n",
       "      <td>Pfizer</td>\n",
       "      <td>pelna_dawka</td>\n",
       "      <td>N</td>\n",
       "      <td>1</td>\n",
       "      <td>T</td>\n",
       "      <td>Zachodniopomorskie</td>\n",
       "    </tr>\n",
       "    <tr>\n",
       "      <th>58978</th>\n",
       "      <td>2021-12-13</td>\n",
       "      <td>32</td>\n",
       "      <td>3262</td>\n",
       "      <td>M</td>\n",
       "      <td>78.0</td>\n",
       "      <td>75-84</td>\n",
       "      <td>T</td>\n",
       "      <td>Pfizer</td>\n",
       "      <td>pelna_dawka</td>\n",
       "      <td>N</td>\n",
       "      <td>1</td>\n",
       "      <td>T</td>\n",
       "      <td>Zachodniopomorskie</td>\n",
       "    </tr>\n",
       "    <tr>\n",
       "      <th>58979</th>\n",
       "      <td>2021-12-13</td>\n",
       "      <td>32</td>\n",
       "      <td>3262</td>\n",
       "      <td>M</td>\n",
       "      <td>81.0</td>\n",
       "      <td>75-84</td>\n",
       "      <td>T</td>\n",
       "      <td>Pfizer</td>\n",
       "      <td>pelna_dawka</td>\n",
       "      <td>N</td>\n",
       "      <td>1</td>\n",
       "      <td>T</td>\n",
       "      <td>Zachodniopomorskie</td>\n",
       "    </tr>\n",
       "  </tbody>\n",
       "</table>\n",
       "<p>13732 rows × 13 columns</p>\n",
       "</div>"
      ],
      "text/plain": [
       "      data_rap_zgonu  teryt_woj  teryt_pow plec  wiek kat_wiek  \\\n",
       "45248     2021-07-14          2        201    K  95.0      95+   \n",
       "45249     2021-07-14          4        410    K  89.0    85-94   \n",
       "45250     2021-07-14         14       1412    K  45.0    45-54   \n",
       "45251     2021-07-14         16       1610    M  65.0    65-74   \n",
       "45252     2021-07-14         18       1808    M  74.0    65-74   \n",
       "...              ...        ...        ...  ...   ...      ...   \n",
       "58975     2021-12-13         32       3261    M  83.0    75-84   \n",
       "58976     2021-12-13         32       3261    M  85.0    85-94   \n",
       "58977     2021-12-13         32       3262    M  73.0    65-74   \n",
       "58978     2021-12-13         32       3262    M  78.0    75-84   \n",
       "58979     2021-12-13         32       3262    M  81.0    75-84   \n",
       "\n",
       "      czy_wspolistniejace     producent    dawka_ost obniz_odpornosc  \\\n",
       "45248                   N           NaN          NaN               N   \n",
       "45249                   T           NaN          NaN               N   \n",
       "45250                   N           NaN          NaN               N   \n",
       "45251                   T  Astra Zeneca  jedna_dawka               N   \n",
       "45252                   T           NaN          NaN               N   \n",
       "...                   ...           ...          ...             ...   \n",
       "58975                   T           NaN          NaN               N   \n",
       "58976                   T        Pfizer  pelna_dawka               N   \n",
       "58977                   T        Pfizer  pelna_dawka               N   \n",
       "58978                   T        Pfizer  pelna_dawka               N   \n",
       "58979                   T        Pfizer  pelna_dawka               N   \n",
       "\n",
       "       liczba_zaraportowanych_zgonow w_pelni_zaszczepiony         Województwo  \n",
       "45248                              1                    N        Dolnośląskie  \n",
       "45249                              1                    N  Kujawsko-Pomorskie  \n",
       "45250                              1                    N         Mazowieckie  \n",
       "45251                              1                    N            Opolskie  \n",
       "45252                              1                    N        Podkarpackie  \n",
       "...                              ...                  ...                 ...  \n",
       "58975                              1                    N  Zachodniopomorskie  \n",
       "58976                              1                    T  Zachodniopomorskie  \n",
       "58977                              1                    T  Zachodniopomorskie  \n",
       "58978                              1                    T  Zachodniopomorskie  \n",
       "58979                              1                    T  Zachodniopomorskie  \n",
       "\n",
       "[13732 rows x 13 columns]"
      ]
     },
     "execution_count": 10,
     "metadata": {},
     "output_type": "execute_result"
    }
   ],
   "source": [
    "dfd4 = dfd[dfd['data_rap_zgonu'] >= pd.to_datetime(datetime.date(2021, 7, 14))]\n",
    "# dfd4 = dfd.query('data_rap_zgonu >= \"2021-07-14\"') $ Tak też jest OK\n",
    "\n",
    "dfd4"
   ]
  },
  {
   "cell_type": "markdown",
   "metadata": {},
   "source": [
    "Test typu wprowadzanej przeze mnie daty:"
   ]
  },
  {
   "cell_type": "code",
   "execution_count": 11,
   "metadata": {},
   "outputs": [
    {
     "data": {
      "text/plain": [
       "Timestamp('2021-07-14 00:00:00')"
      ]
     },
     "execution_count": 11,
     "metadata": {},
     "output_type": "execute_result"
    }
   ],
   "source": [
    "pd.to_datetime(datetime.date(2021, 7, 14))"
   ]
  },
  {
   "cell_type": "markdown",
   "metadata": {},
   "source": [
    "Test typu daty w tabeli:"
   ]
  },
  {
   "cell_type": "code",
   "execution_count": 12,
   "metadata": {},
   "outputs": [
    {
     "data": {
      "text/plain": [
       "Timestamp('2021-12-03 00:00:00')"
      ]
     },
     "execution_count": 12,
     "metadata": {},
     "output_type": "execute_result"
    }
   ],
   "source": [
    "dfd4['data_rap_zgonu'][55129]"
   ]
  },
  {
   "cell_type": "markdown",
   "metadata": {},
   "source": [
    "Na dzień 13.12.2021 powinno być 13865:"
   ]
  },
  {
   "cell_type": "code",
   "execution_count": 13,
   "metadata": {},
   "outputs": [
    {
     "data": {
      "text/plain": [
       "13865"
      ]
     },
     "execution_count": 13,
     "metadata": {},
     "output_type": "execute_result"
    }
   ],
   "source": [
    "dfd4['liczba_zaraportowanych_zgonow'].sum()"
   ]
  },
  {
   "cell_type": "code",
   "execution_count": 14,
   "metadata": {},
   "outputs": [
    {
     "data": {
      "text/plain": [
       "13732"
      ]
     },
     "execution_count": 14,
     "metadata": {},
     "output_type": "execute_result"
    }
   ],
   "source": [
    "dfd4['liczba_zaraportowanych_zgonow'].shape[0]"
   ]
  },
  {
   "cell_type": "markdown",
   "metadata": {},
   "source": [
    "Liczba raportowanych zgonów jest większa niż liczba wierszy, bo niektóre liczby zaraportowanych zgonów w wierszach są większe od 1."
   ]
  },
  {
   "cell_type": "markdown",
   "metadata": {},
   "source": [
    "### Procent spośród zgonów na COVID-19 w województwach <br> w podziale na w pełni zaszczepionych i nie w pełni zaszczepionych<br> (Od 14.07.2021)"
   ]
  },
  {
   "cell_type": "code",
   "execution_count": 15,
   "metadata": {},
   "outputs": [
    {
     "data": {
      "text/html": [
       "<div>\n",
       "<style scoped>\n",
       "    .dataframe tbody tr th:only-of-type {\n",
       "        vertical-align: middle;\n",
       "    }\n",
       "\n",
       "    .dataframe tbody tr th {\n",
       "        vertical-align: top;\n",
       "    }\n",
       "\n",
       "    .dataframe thead th {\n",
       "        text-align: right;\n",
       "    }\n",
       "</style>\n",
       "<table border=\"1\" class=\"dataframe\">\n",
       "  <thead>\n",
       "    <tr style=\"text-align: right;\">\n",
       "      <th></th>\n",
       "      <th>data_rap_zgonu</th>\n",
       "      <th>teryt_woj</th>\n",
       "      <th>teryt_pow</th>\n",
       "      <th>plec</th>\n",
       "      <th>wiek</th>\n",
       "      <th>kat_wiek</th>\n",
       "      <th>czy_wspolistniejace</th>\n",
       "      <th>producent</th>\n",
       "      <th>dawka_ost</th>\n",
       "      <th>obniz_odpornosc</th>\n",
       "      <th>liczba_zaraportowanych_zgonow</th>\n",
       "      <th>w_pelni_zaszczepiony</th>\n",
       "      <th>Województwo</th>\n",
       "    </tr>\n",
       "  </thead>\n",
       "  <tbody>\n",
       "    <tr>\n",
       "      <th>45248</th>\n",
       "      <td>2021-07-14</td>\n",
       "      <td>2</td>\n",
       "      <td>201</td>\n",
       "      <td>K</td>\n",
       "      <td>95.0</td>\n",
       "      <td>95+</td>\n",
       "      <td>N</td>\n",
       "      <td>NaN</td>\n",
       "      <td>NaN</td>\n",
       "      <td>N</td>\n",
       "      <td>1</td>\n",
       "      <td>N</td>\n",
       "      <td>Dolnośląskie</td>\n",
       "    </tr>\n",
       "    <tr>\n",
       "      <th>45249</th>\n",
       "      <td>2021-07-14</td>\n",
       "      <td>4</td>\n",
       "      <td>410</td>\n",
       "      <td>K</td>\n",
       "      <td>89.0</td>\n",
       "      <td>85-94</td>\n",
       "      <td>T</td>\n",
       "      <td>NaN</td>\n",
       "      <td>NaN</td>\n",
       "      <td>N</td>\n",
       "      <td>1</td>\n",
       "      <td>N</td>\n",
       "      <td>Kujawsko-Pomorskie</td>\n",
       "    </tr>\n",
       "    <tr>\n",
       "      <th>45250</th>\n",
       "      <td>2021-07-14</td>\n",
       "      <td>14</td>\n",
       "      <td>1412</td>\n",
       "      <td>K</td>\n",
       "      <td>45.0</td>\n",
       "      <td>45-54</td>\n",
       "      <td>N</td>\n",
       "      <td>NaN</td>\n",
       "      <td>NaN</td>\n",
       "      <td>N</td>\n",
       "      <td>1</td>\n",
       "      <td>N</td>\n",
       "      <td>Mazowieckie</td>\n",
       "    </tr>\n",
       "    <tr>\n",
       "      <th>45251</th>\n",
       "      <td>2021-07-14</td>\n",
       "      <td>16</td>\n",
       "      <td>1610</td>\n",
       "      <td>M</td>\n",
       "      <td>65.0</td>\n",
       "      <td>65-74</td>\n",
       "      <td>T</td>\n",
       "      <td>Astra Zeneca</td>\n",
       "      <td>jedna_dawka</td>\n",
       "      <td>N</td>\n",
       "      <td>1</td>\n",
       "      <td>N</td>\n",
       "      <td>Opolskie</td>\n",
       "    </tr>\n",
       "    <tr>\n",
       "      <th>45252</th>\n",
       "      <td>2021-07-14</td>\n",
       "      <td>18</td>\n",
       "      <td>1808</td>\n",
       "      <td>M</td>\n",
       "      <td>74.0</td>\n",
       "      <td>65-74</td>\n",
       "      <td>T</td>\n",
       "      <td>NaN</td>\n",
       "      <td>NaN</td>\n",
       "      <td>N</td>\n",
       "      <td>1</td>\n",
       "      <td>N</td>\n",
       "      <td>Podkarpackie</td>\n",
       "    </tr>\n",
       "    <tr>\n",
       "      <th>...</th>\n",
       "      <td>...</td>\n",
       "      <td>...</td>\n",
       "      <td>...</td>\n",
       "      <td>...</td>\n",
       "      <td>...</td>\n",
       "      <td>...</td>\n",
       "      <td>...</td>\n",
       "      <td>...</td>\n",
       "      <td>...</td>\n",
       "      <td>...</td>\n",
       "      <td>...</td>\n",
       "      <td>...</td>\n",
       "      <td>...</td>\n",
       "    </tr>\n",
       "    <tr>\n",
       "      <th>58975</th>\n",
       "      <td>2021-12-13</td>\n",
       "      <td>32</td>\n",
       "      <td>3261</td>\n",
       "      <td>M</td>\n",
       "      <td>83.0</td>\n",
       "      <td>75-84</td>\n",
       "      <td>T</td>\n",
       "      <td>NaN</td>\n",
       "      <td>NaN</td>\n",
       "      <td>N</td>\n",
       "      <td>1</td>\n",
       "      <td>N</td>\n",
       "      <td>Zachodniopomorskie</td>\n",
       "    </tr>\n",
       "    <tr>\n",
       "      <th>58976</th>\n",
       "      <td>2021-12-13</td>\n",
       "      <td>32</td>\n",
       "      <td>3261</td>\n",
       "      <td>M</td>\n",
       "      <td>85.0</td>\n",
       "      <td>85-94</td>\n",
       "      <td>T</td>\n",
       "      <td>Pfizer</td>\n",
       "      <td>pelna_dawka</td>\n",
       "      <td>N</td>\n",
       "      <td>1</td>\n",
       "      <td>T</td>\n",
       "      <td>Zachodniopomorskie</td>\n",
       "    </tr>\n",
       "    <tr>\n",
       "      <th>58977</th>\n",
       "      <td>2021-12-13</td>\n",
       "      <td>32</td>\n",
       "      <td>3262</td>\n",
       "      <td>M</td>\n",
       "      <td>73.0</td>\n",
       "      <td>65-74</td>\n",
       "      <td>T</td>\n",
       "      <td>Pfizer</td>\n",
       "      <td>pelna_dawka</td>\n",
       "      <td>N</td>\n",
       "      <td>1</td>\n",
       "      <td>T</td>\n",
       "      <td>Zachodniopomorskie</td>\n",
       "    </tr>\n",
       "    <tr>\n",
       "      <th>58978</th>\n",
       "      <td>2021-12-13</td>\n",
       "      <td>32</td>\n",
       "      <td>3262</td>\n",
       "      <td>M</td>\n",
       "      <td>78.0</td>\n",
       "      <td>75-84</td>\n",
       "      <td>T</td>\n",
       "      <td>Pfizer</td>\n",
       "      <td>pelna_dawka</td>\n",
       "      <td>N</td>\n",
       "      <td>1</td>\n",
       "      <td>T</td>\n",
       "      <td>Zachodniopomorskie</td>\n",
       "    </tr>\n",
       "    <tr>\n",
       "      <th>58979</th>\n",
       "      <td>2021-12-13</td>\n",
       "      <td>32</td>\n",
       "      <td>3262</td>\n",
       "      <td>M</td>\n",
       "      <td>81.0</td>\n",
       "      <td>75-84</td>\n",
       "      <td>T</td>\n",
       "      <td>Pfizer</td>\n",
       "      <td>pelna_dawka</td>\n",
       "      <td>N</td>\n",
       "      <td>1</td>\n",
       "      <td>T</td>\n",
       "      <td>Zachodniopomorskie</td>\n",
       "    </tr>\n",
       "  </tbody>\n",
       "</table>\n",
       "<p>13732 rows × 13 columns</p>\n",
       "</div>"
      ],
      "text/plain": [
       "      data_rap_zgonu  teryt_woj  teryt_pow plec  wiek kat_wiek  \\\n",
       "45248     2021-07-14          2        201    K  95.0      95+   \n",
       "45249     2021-07-14          4        410    K  89.0    85-94   \n",
       "45250     2021-07-14         14       1412    K  45.0    45-54   \n",
       "45251     2021-07-14         16       1610    M  65.0    65-74   \n",
       "45252     2021-07-14         18       1808    M  74.0    65-74   \n",
       "...              ...        ...        ...  ...   ...      ...   \n",
       "58975     2021-12-13         32       3261    M  83.0    75-84   \n",
       "58976     2021-12-13         32       3261    M  85.0    85-94   \n",
       "58977     2021-12-13         32       3262    M  73.0    65-74   \n",
       "58978     2021-12-13         32       3262    M  78.0    75-84   \n",
       "58979     2021-12-13         32       3262    M  81.0    75-84   \n",
       "\n",
       "      czy_wspolistniejace     producent    dawka_ost obniz_odpornosc  \\\n",
       "45248                   N           NaN          NaN               N   \n",
       "45249                   T           NaN          NaN               N   \n",
       "45250                   N           NaN          NaN               N   \n",
       "45251                   T  Astra Zeneca  jedna_dawka               N   \n",
       "45252                   T           NaN          NaN               N   \n",
       "...                   ...           ...          ...             ...   \n",
       "58975                   T           NaN          NaN               N   \n",
       "58976                   T        Pfizer  pelna_dawka               N   \n",
       "58977                   T        Pfizer  pelna_dawka               N   \n",
       "58978                   T        Pfizer  pelna_dawka               N   \n",
       "58979                   T        Pfizer  pelna_dawka               N   \n",
       "\n",
       "       liczba_zaraportowanych_zgonow w_pelni_zaszczepiony         Województwo  \n",
       "45248                              1                    N        Dolnośląskie  \n",
       "45249                              1                    N  Kujawsko-Pomorskie  \n",
       "45250                              1                    N         Mazowieckie  \n",
       "45251                              1                    N            Opolskie  \n",
       "45252                              1                    N        Podkarpackie  \n",
       "...                              ...                  ...                 ...  \n",
       "58975                              1                    N  Zachodniopomorskie  \n",
       "58976                              1                    T  Zachodniopomorskie  \n",
       "58977                              1                    T  Zachodniopomorskie  \n",
       "58978                              1                    T  Zachodniopomorskie  \n",
       "58979                              1                    T  Zachodniopomorskie  \n",
       "\n",
       "[13732 rows x 13 columns]"
      ]
     },
     "execution_count": 15,
     "metadata": {},
     "output_type": "execute_result"
    }
   ],
   "source": [
    "dfd4"
   ]
  },
  {
   "cell_type": "code",
   "execution_count": 16,
   "metadata": {},
   "outputs": [
    {
     "data": {
      "text/html": [
       "<div>\n",
       "<style scoped>\n",
       "    .dataframe tbody tr th:only-of-type {\n",
       "        vertical-align: middle;\n",
       "    }\n",
       "\n",
       "    .dataframe tbody tr th {\n",
       "        vertical-align: top;\n",
       "    }\n",
       "\n",
       "    .dataframe thead th {\n",
       "        text-align: right;\n",
       "    }\n",
       "</style>\n",
       "<table border=\"1\" class=\"dataframe\">\n",
       "  <thead>\n",
       "    <tr style=\"text-align: right;\">\n",
       "      <th></th>\n",
       "      <th>liczba_zaraportowanych_zgonow</th>\n",
       "      <th>Województwo</th>\n",
       "    </tr>\n",
       "    <tr>\n",
       "      <th>Województwo</th>\n",
       "      <th></th>\n",
       "      <th></th>\n",
       "    </tr>\n",
       "  </thead>\n",
       "  <tbody>\n",
       "    <tr>\n",
       "      <th>Dolnośląskie</th>\n",
       "      <td>611</td>\n",
       "      <td>Dolnośląskie</td>\n",
       "    </tr>\n",
       "    <tr>\n",
       "      <th>Kujawsko-Pomorskie</th>\n",
       "      <td>767</td>\n",
       "      <td>Kujawsko-Pomorskie</td>\n",
       "    </tr>\n",
       "    <tr>\n",
       "      <th>Lubelskie</th>\n",
       "      <td>1921</td>\n",
       "      <td>Lubelskie</td>\n",
       "    </tr>\n",
       "    <tr>\n",
       "      <th>Lubuskie</th>\n",
       "      <td>250</td>\n",
       "      <td>Lubuskie</td>\n",
       "    </tr>\n",
       "    <tr>\n",
       "      <th>Mazowieckie</th>\n",
       "      <td>1992</td>\n",
       "      <td>Mazowieckie</td>\n",
       "    </tr>\n",
       "    <tr>\n",
       "      <th>Małopolskie</th>\n",
       "      <td>1121</td>\n",
       "      <td>Małopolskie</td>\n",
       "    </tr>\n",
       "    <tr>\n",
       "      <th>Opolskie</th>\n",
       "      <td>435</td>\n",
       "      <td>Opolskie</td>\n",
       "    </tr>\n",
       "    <tr>\n",
       "      <th>Podkarpackie</th>\n",
       "      <td>943</td>\n",
       "      <td>Podkarpackie</td>\n",
       "    </tr>\n",
       "    <tr>\n",
       "      <th>Podlaskie</th>\n",
       "      <td>872</td>\n",
       "      <td>Podlaskie</td>\n",
       "    </tr>\n",
       "    <tr>\n",
       "      <th>Pomorskie</th>\n",
       "      <td>515</td>\n",
       "      <td>Pomorskie</td>\n",
       "    </tr>\n",
       "    <tr>\n",
       "      <th>Warmińsko-Mazurskie</th>\n",
       "      <td>524</td>\n",
       "      <td>Warmińsko-Mazurskie</td>\n",
       "    </tr>\n",
       "    <tr>\n",
       "      <th>Wielkopolskie</th>\n",
       "      <td>790</td>\n",
       "      <td>Wielkopolskie</td>\n",
       "    </tr>\n",
       "    <tr>\n",
       "      <th>Zachodniopomorskie</th>\n",
       "      <td>520</td>\n",
       "      <td>Zachodniopomorskie</td>\n",
       "    </tr>\n",
       "    <tr>\n",
       "      <th>Łódzkie</th>\n",
       "      <td>911</td>\n",
       "      <td>Łódzkie</td>\n",
       "    </tr>\n",
       "    <tr>\n",
       "      <th>Śląskie</th>\n",
       "      <td>1232</td>\n",
       "      <td>Śląskie</td>\n",
       "    </tr>\n",
       "    <tr>\n",
       "      <th>Świętokrzyskie</th>\n",
       "      <td>461</td>\n",
       "      <td>Świętokrzyskie</td>\n",
       "    </tr>\n",
       "  </tbody>\n",
       "</table>\n",
       "</div>"
      ],
      "text/plain": [
       "                     liczba_zaraportowanych_zgonow          Województwo\n",
       "Województwo                                                            \n",
       "Dolnośląskie                                   611         Dolnośląskie\n",
       "Kujawsko-Pomorskie                             767   Kujawsko-Pomorskie\n",
       "Lubelskie                                     1921            Lubelskie\n",
       "Lubuskie                                       250             Lubuskie\n",
       "Mazowieckie                                   1992          Mazowieckie\n",
       "Małopolskie                                   1121          Małopolskie\n",
       "Opolskie                                       435             Opolskie\n",
       "Podkarpackie                                   943         Podkarpackie\n",
       "Podlaskie                                      872            Podlaskie\n",
       "Pomorskie                                      515            Pomorskie\n",
       "Warmińsko-Mazurskie                            524  Warmińsko-Mazurskie\n",
       "Wielkopolskie                                  790        Wielkopolskie\n",
       "Zachodniopomorskie                             520   Zachodniopomorskie\n",
       "Łódzkie                                        911              Łódzkie\n",
       "Śląskie                                       1232              Śląskie\n",
       "Świętokrzyskie                                 461       Świętokrzyskie"
      ]
     },
     "execution_count": 16,
     "metadata": {},
     "output_type": "execute_result"
    }
   ],
   "source": [
    "df = dfd4.groupby('Województwo').sum()\n",
    "df.drop(['wiek', 'teryt_pow', 'teryt_woj'], axis = 'columns' , inplace=True)\n",
    "df['Województwo'] = df.index\n",
    "df\n"
   ]
  },
  {
   "cell_type": "code",
   "execution_count": 17,
   "metadata": {},
   "outputs": [
    {
     "data": {
      "text/html": [
       "<div>\n",
       "<style scoped>\n",
       "    .dataframe tbody tr th:only-of-type {\n",
       "        vertical-align: middle;\n",
       "    }\n",
       "\n",
       "    .dataframe tbody tr th {\n",
       "        vertical-align: top;\n",
       "    }\n",
       "\n",
       "    .dataframe thead th {\n",
       "        text-align: right;\n",
       "    }\n",
       "</style>\n",
       "<table border=\"1\" class=\"dataframe\">\n",
       "  <thead>\n",
       "    <tr style=\"text-align: right;\">\n",
       "      <th></th>\n",
       "      <th>liczba_zaraportowanych_zgonow</th>\n",
       "      <th>Województwo</th>\n",
       "      <th>Zgony nie w pełni zaszczepionych</th>\n",
       "      <th>Zgony w pełni zaszczepionych</th>\n",
       "      <th>Zgony nie w pełni zaszczepionych [%]</th>\n",
       "      <th>Zgony w pełni zaszczepionych [%]</th>\n",
       "    </tr>\n",
       "    <tr>\n",
       "      <th>Województwo</th>\n",
       "      <th></th>\n",
       "      <th></th>\n",
       "      <th></th>\n",
       "      <th></th>\n",
       "      <th></th>\n",
       "      <th></th>\n",
       "    </tr>\n",
       "  </thead>\n",
       "  <tbody>\n",
       "    <tr>\n",
       "      <th>Podkarpackie</th>\n",
       "      <td>943</td>\n",
       "      <td>Podkarpackie</td>\n",
       "      <td>779</td>\n",
       "      <td>164</td>\n",
       "      <td>82.608696</td>\n",
       "      <td>17.391304</td>\n",
       "    </tr>\n",
       "    <tr>\n",
       "      <th>Podlaskie</th>\n",
       "      <td>872</td>\n",
       "      <td>Podlaskie</td>\n",
       "      <td>682</td>\n",
       "      <td>190</td>\n",
       "      <td>78.211009</td>\n",
       "      <td>21.788991</td>\n",
       "    </tr>\n",
       "    <tr>\n",
       "      <th>Lubelskie</th>\n",
       "      <td>1921</td>\n",
       "      <td>Lubelskie</td>\n",
       "      <td>1498</td>\n",
       "      <td>423</td>\n",
       "      <td>77.980219</td>\n",
       "      <td>22.019781</td>\n",
       "    </tr>\n",
       "    <tr>\n",
       "      <th>Łódzkie</th>\n",
       "      <td>911</td>\n",
       "      <td>Łódzkie</td>\n",
       "      <td>693</td>\n",
       "      <td>218</td>\n",
       "      <td>76.070252</td>\n",
       "      <td>23.929748</td>\n",
       "    </tr>\n",
       "    <tr>\n",
       "      <th>Świętokrzyskie</th>\n",
       "      <td>461</td>\n",
       "      <td>Świętokrzyskie</td>\n",
       "      <td>342</td>\n",
       "      <td>119</td>\n",
       "      <td>74.186551</td>\n",
       "      <td>25.813449</td>\n",
       "    </tr>\n",
       "    <tr>\n",
       "      <th>Dolnośląskie</th>\n",
       "      <td>611</td>\n",
       "      <td>Dolnośląskie</td>\n",
       "      <td>448</td>\n",
       "      <td>163</td>\n",
       "      <td>73.322422</td>\n",
       "      <td>26.677578</td>\n",
       "    </tr>\n",
       "    <tr>\n",
       "      <th>Opolskie</th>\n",
       "      <td>435</td>\n",
       "      <td>Opolskie</td>\n",
       "      <td>317</td>\n",
       "      <td>118</td>\n",
       "      <td>72.873563</td>\n",
       "      <td>27.126437</td>\n",
       "    </tr>\n",
       "    <tr>\n",
       "      <th>Lubuskie</th>\n",
       "      <td>250</td>\n",
       "      <td>Lubuskie</td>\n",
       "      <td>180</td>\n",
       "      <td>70</td>\n",
       "      <td>72.000000</td>\n",
       "      <td>28.000000</td>\n",
       "    </tr>\n",
       "    <tr>\n",
       "      <th>Mazowieckie</th>\n",
       "      <td>1992</td>\n",
       "      <td>Mazowieckie</td>\n",
       "      <td>1421</td>\n",
       "      <td>571</td>\n",
       "      <td>71.335341</td>\n",
       "      <td>28.664659</td>\n",
       "    </tr>\n",
       "    <tr>\n",
       "      <th>Małopolskie</th>\n",
       "      <td>1121</td>\n",
       "      <td>Małopolskie</td>\n",
       "      <td>799</td>\n",
       "      <td>322</td>\n",
       "      <td>71.275647</td>\n",
       "      <td>28.724353</td>\n",
       "    </tr>\n",
       "    <tr>\n",
       "      <th>Warmińsko-Mazurskie</th>\n",
       "      <td>524</td>\n",
       "      <td>Warmińsko-Mazurskie</td>\n",
       "      <td>366</td>\n",
       "      <td>158</td>\n",
       "      <td>69.847328</td>\n",
       "      <td>30.152672</td>\n",
       "    </tr>\n",
       "    <tr>\n",
       "      <th>Wielkopolskie</th>\n",
       "      <td>790</td>\n",
       "      <td>Wielkopolskie</td>\n",
       "      <td>549</td>\n",
       "      <td>241</td>\n",
       "      <td>69.493671</td>\n",
       "      <td>30.506329</td>\n",
       "    </tr>\n",
       "    <tr>\n",
       "      <th>Zachodniopomorskie</th>\n",
       "      <td>520</td>\n",
       "      <td>Zachodniopomorskie</td>\n",
       "      <td>359</td>\n",
       "      <td>161</td>\n",
       "      <td>69.038462</td>\n",
       "      <td>30.961538</td>\n",
       "    </tr>\n",
       "    <tr>\n",
       "      <th>Kujawsko-Pomorskie</th>\n",
       "      <td>767</td>\n",
       "      <td>Kujawsko-Pomorskie</td>\n",
       "      <td>525</td>\n",
       "      <td>242</td>\n",
       "      <td>68.448501</td>\n",
       "      <td>31.551499</td>\n",
       "    </tr>\n",
       "    <tr>\n",
       "      <th>Śląskie</th>\n",
       "      <td>1232</td>\n",
       "      <td>Śląskie</td>\n",
       "      <td>834</td>\n",
       "      <td>398</td>\n",
       "      <td>67.694805</td>\n",
       "      <td>32.305195</td>\n",
       "    </tr>\n",
       "    <tr>\n",
       "      <th>Pomorskie</th>\n",
       "      <td>515</td>\n",
       "      <td>Pomorskie</td>\n",
       "      <td>336</td>\n",
       "      <td>179</td>\n",
       "      <td>65.242718</td>\n",
       "      <td>34.757282</td>\n",
       "    </tr>\n",
       "  </tbody>\n",
       "</table>\n",
       "</div>"
      ],
      "text/plain": [
       "                     liczba_zaraportowanych_zgonow          Województwo  \\\n",
       "Województwo                                                               \n",
       "Podkarpackie                                   943         Podkarpackie   \n",
       "Podlaskie                                      872            Podlaskie   \n",
       "Lubelskie                                     1921            Lubelskie   \n",
       "Łódzkie                                        911              Łódzkie   \n",
       "Świętokrzyskie                                 461       Świętokrzyskie   \n",
       "Dolnośląskie                                   611         Dolnośląskie   \n",
       "Opolskie                                       435             Opolskie   \n",
       "Lubuskie                                       250             Lubuskie   \n",
       "Mazowieckie                                   1992          Mazowieckie   \n",
       "Małopolskie                                   1121          Małopolskie   \n",
       "Warmińsko-Mazurskie                            524  Warmińsko-Mazurskie   \n",
       "Wielkopolskie                                  790        Wielkopolskie   \n",
       "Zachodniopomorskie                             520   Zachodniopomorskie   \n",
       "Kujawsko-Pomorskie                             767   Kujawsko-Pomorskie   \n",
       "Śląskie                                       1232              Śląskie   \n",
       "Pomorskie                                      515            Pomorskie   \n",
       "\n",
       "                     Zgony nie w pełni zaszczepionych  \\\n",
       "Województwo                                             \n",
       "Podkarpackie                                      779   \n",
       "Podlaskie                                         682   \n",
       "Lubelskie                                        1498   \n",
       "Łódzkie                                           693   \n",
       "Świętokrzyskie                                    342   \n",
       "Dolnośląskie                                      448   \n",
       "Opolskie                                          317   \n",
       "Lubuskie                                          180   \n",
       "Mazowieckie                                      1421   \n",
       "Małopolskie                                       799   \n",
       "Warmińsko-Mazurskie                               366   \n",
       "Wielkopolskie                                     549   \n",
       "Zachodniopomorskie                                359   \n",
       "Kujawsko-Pomorskie                                525   \n",
       "Śląskie                                           834   \n",
       "Pomorskie                                         336   \n",
       "\n",
       "                     Zgony w pełni zaszczepionych  \\\n",
       "Województwo                                         \n",
       "Podkarpackie                                  164   \n",
       "Podlaskie                                     190   \n",
       "Lubelskie                                     423   \n",
       "Łódzkie                                       218   \n",
       "Świętokrzyskie                                119   \n",
       "Dolnośląskie                                  163   \n",
       "Opolskie                                      118   \n",
       "Lubuskie                                       70   \n",
       "Mazowieckie                                   571   \n",
       "Małopolskie                                   322   \n",
       "Warmińsko-Mazurskie                           158   \n",
       "Wielkopolskie                                 241   \n",
       "Zachodniopomorskie                            161   \n",
       "Kujawsko-Pomorskie                            242   \n",
       "Śląskie                                       398   \n",
       "Pomorskie                                     179   \n",
       "\n",
       "                     Zgony nie w pełni zaszczepionych [%]  \\\n",
       "Województwo                                                 \n",
       "Podkarpackie                                    82.608696   \n",
       "Podlaskie                                       78.211009   \n",
       "Lubelskie                                       77.980219   \n",
       "Łódzkie                                         76.070252   \n",
       "Świętokrzyskie                                  74.186551   \n",
       "Dolnośląskie                                    73.322422   \n",
       "Opolskie                                        72.873563   \n",
       "Lubuskie                                        72.000000   \n",
       "Mazowieckie                                     71.335341   \n",
       "Małopolskie                                     71.275647   \n",
       "Warmińsko-Mazurskie                             69.847328   \n",
       "Wielkopolskie                                   69.493671   \n",
       "Zachodniopomorskie                              69.038462   \n",
       "Kujawsko-Pomorskie                              68.448501   \n",
       "Śląskie                                         67.694805   \n",
       "Pomorskie                                       65.242718   \n",
       "\n",
       "                     Zgony w pełni zaszczepionych [%]  \n",
       "Województwo                                            \n",
       "Podkarpackie                                17.391304  \n",
       "Podlaskie                                   21.788991  \n",
       "Lubelskie                                   22.019781  \n",
       "Łódzkie                                     23.929748  \n",
       "Świętokrzyskie                              25.813449  \n",
       "Dolnośląskie                                26.677578  \n",
       "Opolskie                                    27.126437  \n",
       "Lubuskie                                    28.000000  \n",
       "Mazowieckie                                 28.664659  \n",
       "Małopolskie                                 28.724353  \n",
       "Warmińsko-Mazurskie                         30.152672  \n",
       "Wielkopolskie                               30.506329  \n",
       "Zachodniopomorskie                          30.961538  \n",
       "Kujawsko-Pomorskie                          31.551499  \n",
       "Śląskie                                     32.305195  \n",
       "Pomorskie                                   34.757282  "
      ]
     },
     "execution_count": 17,
     "metadata": {},
     "output_type": "execute_result"
    }
   ],
   "source": [
    "Q = f'(w_pelni_zaszczepiony == \"N\")'\n",
    "\n",
    "df1 = dfd4.query(Q).groupby('Województwo').sum()\n",
    "df1.drop(['wiek', 'teryt_pow', 'teryt_woj'], axis = 'columns' , inplace=True)\n",
    "df['Zgony nie w pełni zaszczepionych'] = df1\n",
    "\n",
    "Q = f'(w_pelni_zaszczepiony == \"T\")'\n",
    "\n",
    "df1 = dfd4.query(Q).groupby('Województwo').sum()\n",
    "df1.drop(['wiek', 'teryt_pow', 'teryt_woj'], axis = 'columns' , inplace=True)\n",
    "df['Zgony w pełni zaszczepionych'] = df1\n",
    "\n",
    "\n",
    "\n",
    "\n",
    "df['Zgony nie w pełni zaszczepionych [%]'] = df['Zgony nie w pełni zaszczepionych'] / df['liczba_zaraportowanych_zgonow'] * 100\n",
    "df['Zgony w pełni zaszczepionych [%]'] = df['Zgony w pełni zaszczepionych'] / df['liczba_zaraportowanych_zgonow'] * 100\n",
    "\n",
    "df = df.sort_values(['Zgony nie w pełni zaszczepionych [%]'], ascending=False)\n",
    "df"
   ]
  },
  {
   "cell_type": "code",
   "execution_count": 18,
   "metadata": {},
   "outputs": [
    {
     "data": {
      "application/vnd.plotly.v1+json": {
       "config": {
        "plotlyServerURL": "https://plot.ly"
       },
       "data": [
        {
         "name": "Zgony nie w pełni zaszczepionych [%]",
         "offsetgroup": "1",
         "text": [
          82.6086956521739,
          78.21100917431193,
          77.98021863612702,
          76.0702524698134,
          74.18655097613883,
          73.32242225859247,
          72.8735632183908,
          72,
          71.33534136546184,
          71.2756467439786,
          69.8473282442748,
          69.49367088607595,
          69.03846153846153,
          68.44850065189048,
          67.6948051948052,
          65.24271844660194
         ],
         "textposition": "outside",
         "texttemplate": "%{text:2.1f}",
         "type": "bar",
         "x": [
          "Podkarpackie",
          "Podlaskie",
          "Lubelskie",
          "Łódzkie",
          "Świętokrzyskie",
          "Dolnośląskie",
          "Opolskie",
          "Lubuskie",
          "Mazowieckie",
          "Małopolskie",
          "Warmińsko-Mazurskie",
          "Wielkopolskie",
          "Zachodniopomorskie",
          "Kujawsko-Pomorskie",
          "Śląskie",
          "Pomorskie"
         ],
         "y": [
          82.6086956521739,
          78.21100917431193,
          77.98021863612702,
          76.0702524698134,
          74.18655097613883,
          73.32242225859247,
          72.8735632183908,
          72,
          71.33534136546184,
          71.2756467439786,
          69.8473282442748,
          69.49367088607595,
          69.03846153846153,
          68.44850065189048,
          67.6948051948052,
          65.24271844660194
         ]
        },
        {
         "name": "Zgony w pełni zaszczepionych [%]",
         "offsetgroup": "2",
         "text": [
          17.391304347826086,
          21.788990825688074,
          22.019781363872983,
          23.929747530186606,
          25.813449023861175,
          26.677577741407525,
          27.126436781609197,
          28.000000000000004,
          28.664658634538153,
          28.724353256021413,
          30.15267175572519,
          30.506329113924053,
          30.961538461538463,
          31.55149934810952,
          32.3051948051948,
          34.75728155339806
         ],
         "textposition": "outside",
         "texttemplate": "%{text:2.1f}",
         "type": "bar",
         "x": [
          "Podkarpackie",
          "Podlaskie",
          "Lubelskie",
          "Łódzkie",
          "Świętokrzyskie",
          "Dolnośląskie",
          "Opolskie",
          "Lubuskie",
          "Mazowieckie",
          "Małopolskie",
          "Warmińsko-Mazurskie",
          "Wielkopolskie",
          "Zachodniopomorskie",
          "Kujawsko-Pomorskie",
          "Śląskie",
          "Pomorskie"
         ],
         "y": [
          17.391304347826086,
          21.788990825688074,
          22.019781363872983,
          23.929747530186606,
          25.813449023861175,
          26.677577741407525,
          27.126436781609197,
          28.000000000000004,
          28.664658634538153,
          28.724353256021413,
          30.15267175572519,
          30.506329113924053,
          30.961538461538463,
          31.55149934810952,
          32.3051948051948,
          34.75728155339806
         ]
        }
       ],
       "layout": {
        "barmode": "group",
        "height": 500,
        "legend": {
         "title": {
          "text": ""
         },
         "x": 0.5,
         "xanchor": "center",
         "y": -0.5
        },
        "template": {
         "data": {
          "bar": [
           {
            "error_x": {
             "color": "#2a3f5f"
            },
            "error_y": {
             "color": "#2a3f5f"
            },
            "marker": {
             "line": {
              "color": "#E5ECF6",
              "width": 0.5
             }
            },
            "type": "bar"
           }
          ],
          "barpolar": [
           {
            "marker": {
             "line": {
              "color": "#E5ECF6",
              "width": 0.5
             }
            },
            "type": "barpolar"
           }
          ],
          "carpet": [
           {
            "aaxis": {
             "endlinecolor": "#2a3f5f",
             "gridcolor": "white",
             "linecolor": "white",
             "minorgridcolor": "white",
             "startlinecolor": "#2a3f5f"
            },
            "baxis": {
             "endlinecolor": "#2a3f5f",
             "gridcolor": "white",
             "linecolor": "white",
             "minorgridcolor": "white",
             "startlinecolor": "#2a3f5f"
            },
            "type": "carpet"
           }
          ],
          "choropleth": [
           {
            "colorbar": {
             "outlinewidth": 0,
             "ticks": ""
            },
            "type": "choropleth"
           }
          ],
          "contour": [
           {
            "colorbar": {
             "outlinewidth": 0,
             "ticks": ""
            },
            "colorscale": [
             [
              0,
              "#0d0887"
             ],
             [
              0.1111111111111111,
              "#46039f"
             ],
             [
              0.2222222222222222,
              "#7201a8"
             ],
             [
              0.3333333333333333,
              "#9c179e"
             ],
             [
              0.4444444444444444,
              "#bd3786"
             ],
             [
              0.5555555555555556,
              "#d8576b"
             ],
             [
              0.6666666666666666,
              "#ed7953"
             ],
             [
              0.7777777777777778,
              "#fb9f3a"
             ],
             [
              0.8888888888888888,
              "#fdca26"
             ],
             [
              1,
              "#f0f921"
             ]
            ],
            "type": "contour"
           }
          ],
          "contourcarpet": [
           {
            "colorbar": {
             "outlinewidth": 0,
             "ticks": ""
            },
            "type": "contourcarpet"
           }
          ],
          "heatmap": [
           {
            "colorbar": {
             "outlinewidth": 0,
             "ticks": ""
            },
            "colorscale": [
             [
              0,
              "#0d0887"
             ],
             [
              0.1111111111111111,
              "#46039f"
             ],
             [
              0.2222222222222222,
              "#7201a8"
             ],
             [
              0.3333333333333333,
              "#9c179e"
             ],
             [
              0.4444444444444444,
              "#bd3786"
             ],
             [
              0.5555555555555556,
              "#d8576b"
             ],
             [
              0.6666666666666666,
              "#ed7953"
             ],
             [
              0.7777777777777778,
              "#fb9f3a"
             ],
             [
              0.8888888888888888,
              "#fdca26"
             ],
             [
              1,
              "#f0f921"
             ]
            ],
            "type": "heatmap"
           }
          ],
          "heatmapgl": [
           {
            "colorbar": {
             "outlinewidth": 0,
             "ticks": ""
            },
            "colorscale": [
             [
              0,
              "#0d0887"
             ],
             [
              0.1111111111111111,
              "#46039f"
             ],
             [
              0.2222222222222222,
              "#7201a8"
             ],
             [
              0.3333333333333333,
              "#9c179e"
             ],
             [
              0.4444444444444444,
              "#bd3786"
             ],
             [
              0.5555555555555556,
              "#d8576b"
             ],
             [
              0.6666666666666666,
              "#ed7953"
             ],
             [
              0.7777777777777778,
              "#fb9f3a"
             ],
             [
              0.8888888888888888,
              "#fdca26"
             ],
             [
              1,
              "#f0f921"
             ]
            ],
            "type": "heatmapgl"
           }
          ],
          "histogram": [
           {
            "marker": {
             "colorbar": {
              "outlinewidth": 0,
              "ticks": ""
             }
            },
            "type": "histogram"
           }
          ],
          "histogram2d": [
           {
            "colorbar": {
             "outlinewidth": 0,
             "ticks": ""
            },
            "colorscale": [
             [
              0,
              "#0d0887"
             ],
             [
              0.1111111111111111,
              "#46039f"
             ],
             [
              0.2222222222222222,
              "#7201a8"
             ],
             [
              0.3333333333333333,
              "#9c179e"
             ],
             [
              0.4444444444444444,
              "#bd3786"
             ],
             [
              0.5555555555555556,
              "#d8576b"
             ],
             [
              0.6666666666666666,
              "#ed7953"
             ],
             [
              0.7777777777777778,
              "#fb9f3a"
             ],
             [
              0.8888888888888888,
              "#fdca26"
             ],
             [
              1,
              "#f0f921"
             ]
            ],
            "type": "histogram2d"
           }
          ],
          "histogram2dcontour": [
           {
            "colorbar": {
             "outlinewidth": 0,
             "ticks": ""
            },
            "colorscale": [
             [
              0,
              "#0d0887"
             ],
             [
              0.1111111111111111,
              "#46039f"
             ],
             [
              0.2222222222222222,
              "#7201a8"
             ],
             [
              0.3333333333333333,
              "#9c179e"
             ],
             [
              0.4444444444444444,
              "#bd3786"
             ],
             [
              0.5555555555555556,
              "#d8576b"
             ],
             [
              0.6666666666666666,
              "#ed7953"
             ],
             [
              0.7777777777777778,
              "#fb9f3a"
             ],
             [
              0.8888888888888888,
              "#fdca26"
             ],
             [
              1,
              "#f0f921"
             ]
            ],
            "type": "histogram2dcontour"
           }
          ],
          "mesh3d": [
           {
            "colorbar": {
             "outlinewidth": 0,
             "ticks": ""
            },
            "type": "mesh3d"
           }
          ],
          "parcoords": [
           {
            "line": {
             "colorbar": {
              "outlinewidth": 0,
              "ticks": ""
             }
            },
            "type": "parcoords"
           }
          ],
          "pie": [
           {
            "automargin": true,
            "type": "pie"
           }
          ],
          "scatter": [
           {
            "marker": {
             "colorbar": {
              "outlinewidth": 0,
              "ticks": ""
             }
            },
            "type": "scatter"
           }
          ],
          "scatter3d": [
           {
            "line": {
             "colorbar": {
              "outlinewidth": 0,
              "ticks": ""
             }
            },
            "marker": {
             "colorbar": {
              "outlinewidth": 0,
              "ticks": ""
             }
            },
            "type": "scatter3d"
           }
          ],
          "scattercarpet": [
           {
            "marker": {
             "colorbar": {
              "outlinewidth": 0,
              "ticks": ""
             }
            },
            "type": "scattercarpet"
           }
          ],
          "scattergeo": [
           {
            "marker": {
             "colorbar": {
              "outlinewidth": 0,
              "ticks": ""
             }
            },
            "type": "scattergeo"
           }
          ],
          "scattergl": [
           {
            "marker": {
             "colorbar": {
              "outlinewidth": 0,
              "ticks": ""
             }
            },
            "type": "scattergl"
           }
          ],
          "scattermapbox": [
           {
            "marker": {
             "colorbar": {
              "outlinewidth": 0,
              "ticks": ""
             }
            },
            "type": "scattermapbox"
           }
          ],
          "scatterpolar": [
           {
            "marker": {
             "colorbar": {
              "outlinewidth": 0,
              "ticks": ""
             }
            },
            "type": "scatterpolar"
           }
          ],
          "scatterpolargl": [
           {
            "marker": {
             "colorbar": {
              "outlinewidth": 0,
              "ticks": ""
             }
            },
            "type": "scatterpolargl"
           }
          ],
          "scatterternary": [
           {
            "marker": {
             "colorbar": {
              "outlinewidth": 0,
              "ticks": ""
             }
            },
            "type": "scatterternary"
           }
          ],
          "surface": [
           {
            "colorbar": {
             "outlinewidth": 0,
             "ticks": ""
            },
            "colorscale": [
             [
              0,
              "#0d0887"
             ],
             [
              0.1111111111111111,
              "#46039f"
             ],
             [
              0.2222222222222222,
              "#7201a8"
             ],
             [
              0.3333333333333333,
              "#9c179e"
             ],
             [
              0.4444444444444444,
              "#bd3786"
             ],
             [
              0.5555555555555556,
              "#d8576b"
             ],
             [
              0.6666666666666666,
              "#ed7953"
             ],
             [
              0.7777777777777778,
              "#fb9f3a"
             ],
             [
              0.8888888888888888,
              "#fdca26"
             ],
             [
              1,
              "#f0f921"
             ]
            ],
            "type": "surface"
           }
          ],
          "table": [
           {
            "cells": {
             "fill": {
              "color": "#EBF0F8"
             },
             "line": {
              "color": "white"
             }
            },
            "header": {
             "fill": {
              "color": "#C8D4E3"
             },
             "line": {
              "color": "white"
             }
            },
            "type": "table"
           }
          ]
         },
         "layout": {
          "annotationdefaults": {
           "arrowcolor": "#2a3f5f",
           "arrowhead": 0,
           "arrowwidth": 1
          },
          "coloraxis": {
           "colorbar": {
            "outlinewidth": 0,
            "ticks": ""
           }
          },
          "colorscale": {
           "diverging": [
            [
             0,
             "#8e0152"
            ],
            [
             0.1,
             "#c51b7d"
            ],
            [
             0.2,
             "#de77ae"
            ],
            [
             0.3,
             "#f1b6da"
            ],
            [
             0.4,
             "#fde0ef"
            ],
            [
             0.5,
             "#f7f7f7"
            ],
            [
             0.6,
             "#e6f5d0"
            ],
            [
             0.7,
             "#b8e186"
            ],
            [
             0.8,
             "#7fbc41"
            ],
            [
             0.9,
             "#4d9221"
            ],
            [
             1,
             "#276419"
            ]
           ],
           "sequential": [
            [
             0,
             "#0d0887"
            ],
            [
             0.1111111111111111,
             "#46039f"
            ],
            [
             0.2222222222222222,
             "#7201a8"
            ],
            [
             0.3333333333333333,
             "#9c179e"
            ],
            [
             0.4444444444444444,
             "#bd3786"
            ],
            [
             0.5555555555555556,
             "#d8576b"
            ],
            [
             0.6666666666666666,
             "#ed7953"
            ],
            [
             0.7777777777777778,
             "#fb9f3a"
            ],
            [
             0.8888888888888888,
             "#fdca26"
            ],
            [
             1,
             "#f0f921"
            ]
           ],
           "sequentialminus": [
            [
             0,
             "#0d0887"
            ],
            [
             0.1111111111111111,
             "#46039f"
            ],
            [
             0.2222222222222222,
             "#7201a8"
            ],
            [
             0.3333333333333333,
             "#9c179e"
            ],
            [
             0.4444444444444444,
             "#bd3786"
            ],
            [
             0.5555555555555556,
             "#d8576b"
            ],
            [
             0.6666666666666666,
             "#ed7953"
            ],
            [
             0.7777777777777778,
             "#fb9f3a"
            ],
            [
             0.8888888888888888,
             "#fdca26"
            ],
            [
             1,
             "#f0f921"
            ]
           ]
          },
          "colorway": [
           "#636efa",
           "#EF553B",
           "#00cc96",
           "#ab63fa",
           "#FFA15A",
           "#19d3f3",
           "#FF6692",
           "#B6E880",
           "#FF97FF",
           "#FECB52"
          ],
          "font": {
           "color": "#2a3f5f"
          },
          "geo": {
           "bgcolor": "white",
           "lakecolor": "white",
           "landcolor": "#E5ECF6",
           "showlakes": true,
           "showland": true,
           "subunitcolor": "white"
          },
          "hoverlabel": {
           "align": "left"
          },
          "hovermode": "closest",
          "mapbox": {
           "style": "light"
          },
          "paper_bgcolor": "white",
          "plot_bgcolor": "#E5ECF6",
          "polar": {
           "angularaxis": {
            "gridcolor": "white",
            "linecolor": "white",
            "ticks": ""
           },
           "bgcolor": "#E5ECF6",
           "radialaxis": {
            "gridcolor": "white",
            "linecolor": "white",
            "ticks": ""
           }
          },
          "scene": {
           "xaxis": {
            "backgroundcolor": "#E5ECF6",
            "gridcolor": "white",
            "gridwidth": 2,
            "linecolor": "white",
            "showbackground": true,
            "ticks": "",
            "zerolinecolor": "white"
           },
           "yaxis": {
            "backgroundcolor": "#E5ECF6",
            "gridcolor": "white",
            "gridwidth": 2,
            "linecolor": "white",
            "showbackground": true,
            "ticks": "",
            "zerolinecolor": "white"
           },
           "zaxis": {
            "backgroundcolor": "#E5ECF6",
            "gridcolor": "white",
            "gridwidth": 2,
            "linecolor": "white",
            "showbackground": true,
            "ticks": "",
            "zerolinecolor": "white"
           }
          },
          "shapedefaults": {
           "line": {
            "color": "#2a3f5f"
           }
          },
          "ternary": {
           "aaxis": {
            "gridcolor": "white",
            "linecolor": "white",
            "ticks": ""
           },
           "baxis": {
            "gridcolor": "white",
            "linecolor": "white",
            "ticks": ""
           },
           "bgcolor": "#E5ECF6",
           "caxis": {
            "gridcolor": "white",
            "linecolor": "white",
            "ticks": ""
           }
          },
          "title": {
           "x": 0.05
          },
          "xaxis": {
           "automargin": true,
           "gridcolor": "white",
           "linecolor": "white",
           "ticks": "",
           "title": {
            "standoff": 15
           },
           "zerolinecolor": "white",
           "zerolinewidth": 2
          },
          "yaxis": {
           "automargin": true,
           "gridcolor": "white",
           "linecolor": "white",
           "ticks": "",
           "title": {
            "standoff": 15
           },
           "zerolinecolor": "white",
           "zerolinewidth": 2
          }
         }
        },
        "title": {
         "font": {
          "size": 16
         },
         "text": "Procent spośród zgonów na COVID-19 w województwach<br>    w podziale na w pełni zaszczepionych i nie w pełni zaszczepionych<br>(Od 14.07.2021)",
         "x": 0.5,
         "xanchor": "center"
        },
        "uniformtext": {
         "minsize": 6,
         "mode": "show"
        },
        "width": 800,
        "xaxis": {
         "tickangle": 33
        },
        "yaxis": {
         "title": {
          "text": "Procent spośród zgonów na COVID-19"
         }
        }
       }
      }
     },
     "metadata": {},
     "output_type": "display_data"
    }
   ],
   "source": [
    "\n",
    "fig = go.Figure(\n",
    "    data=[\n",
    "        go.Bar(\n",
    "            name = 'Zgony nie w pełni zaszczepionych [%]', \n",
    "            x=df['Województwo'], \n",
    "            y=df['Zgony nie w pełni zaszczepionych [%]'], \n",
    "            offsetgroup=1,\n",
    "            text = df['Zgony nie w pełni zaszczepionych [%]']\n",
    "            ),\n",
    "        go.Bar(\n",
    "            name = 'Zgony w pełni zaszczepionych [%]', \n",
    "            x=df['Województwo'], \n",
    "            y=df['Zgony w pełni zaszczepionych [%]'], \n",
    "            offsetgroup=2,\n",
    "            text = df['Zgony w pełni zaszczepionych [%]']\n",
    "            )\n",
    "    ]\n",
    ")\n",
    "\n",
    "fig.update_traces(\n",
    "    texttemplate='%{text:2.1f}', \n",
    "    textposition='outside',\n",
    "    )\n",
    "\n",
    "fig.update_layout(\n",
    "    barmode='group', \n",
    "    width=800, \n",
    "    height=500,\n",
    "    title = \"Procent spośród zgonów na COVID-19 w województwach<br>\\\n",
    "    w podziale na w pełni zaszczepionych i nie w pełni zaszczepionych<br>(Od 14.07.2021)\",\n",
    "    yaxis_title=\"Procent spośród zgonów na COVID-19\",\n",
    "    legend_title=\"\",\n",
    "    uniformtext_minsize=6, \n",
    "    uniformtext_mode='show',\n",
    "    legend=dict(\n",
    "        y=-0.5,\n",
    "        xanchor=\"center\",\n",
    "        x=0.5\n",
    "        ),\n",
    "    title_xanchor='center',\n",
    "    title_x = 0.5,\n",
    "    title_font_size=16\n",
    "    )\n",
    "fig.update_xaxes(tickangle=33)\n",
    "fig.show()\n",
    "fig.write_image(os.sep.join([image_dir, 'zgony_szczep_proc_woj_4fala.jpg']), scale=4)\n"
   ]
  },
  {
   "cell_type": "markdown",
   "metadata": {},
   "source": [
    "### Procent spośród zgonów na COVID-19 w województwach <br> w podziale na w pełni zaszczepionych i nie w pełni zaszczepionych<br> (Od 01.01.2021)"
   ]
  },
  {
   "cell_type": "code",
   "execution_count": 19,
   "metadata": {},
   "outputs": [
    {
     "data": {
      "text/html": [
       "<div>\n",
       "<style scoped>\n",
       "    .dataframe tbody tr th:only-of-type {\n",
       "        vertical-align: middle;\n",
       "    }\n",
       "\n",
       "    .dataframe tbody tr th {\n",
       "        vertical-align: top;\n",
       "    }\n",
       "\n",
       "    .dataframe thead th {\n",
       "        text-align: right;\n",
       "    }\n",
       "</style>\n",
       "<table border=\"1\" class=\"dataframe\">\n",
       "  <thead>\n",
       "    <tr style=\"text-align: right;\">\n",
       "      <th></th>\n",
       "      <th>liczba_zaraportowanych_zgonow</th>\n",
       "      <th>Województwo</th>\n",
       "    </tr>\n",
       "    <tr>\n",
       "      <th>Województwo</th>\n",
       "      <th></th>\n",
       "      <th></th>\n",
       "    </tr>\n",
       "  </thead>\n",
       "  <tbody>\n",
       "    <tr>\n",
       "      <th>Dolnośląskie</th>\n",
       "      <td>3550</td>\n",
       "      <td>Dolnośląskie</td>\n",
       "    </tr>\n",
       "    <tr>\n",
       "      <th>Kujawsko-Pomorskie</th>\n",
       "      <td>4013</td>\n",
       "      <td>Kujawsko-Pomorskie</td>\n",
       "    </tr>\n",
       "    <tr>\n",
       "      <th>Lubelskie</th>\n",
       "      <td>4588</td>\n",
       "      <td>Lubelskie</td>\n",
       "    </tr>\n",
       "    <tr>\n",
       "      <th>Lubuskie</th>\n",
       "      <td>1618</td>\n",
       "      <td>Lubuskie</td>\n",
       "    </tr>\n",
       "    <tr>\n",
       "      <th>Mazowieckie</th>\n",
       "      <td>7968</td>\n",
       "      <td>Mazowieckie</td>\n",
       "    </tr>\n",
       "    <tr>\n",
       "      <th>Małopolskie</th>\n",
       "      <td>4310</td>\n",
       "      <td>Małopolskie</td>\n",
       "    </tr>\n",
       "    <tr>\n",
       "      <th>Opolskie</th>\n",
       "      <td>1430</td>\n",
       "      <td>Opolskie</td>\n",
       "    </tr>\n",
       "    <tr>\n",
       "      <th>Podkarpackie</th>\n",
       "      <td>3538</td>\n",
       "      <td>Podkarpackie</td>\n",
       "    </tr>\n",
       "    <tr>\n",
       "      <th>Podlaskie</th>\n",
       "      <td>2150</td>\n",
       "      <td>Podlaskie</td>\n",
       "    </tr>\n",
       "    <tr>\n",
       "      <th>Pomorskie</th>\n",
       "      <td>3425</td>\n",
       "      <td>Pomorskie</td>\n",
       "    </tr>\n",
       "    <tr>\n",
       "      <th>Warmińsko-Mazurskie</th>\n",
       "      <td>2342</td>\n",
       "      <td>Warmińsko-Mazurskie</td>\n",
       "    </tr>\n",
       "    <tr>\n",
       "      <th>Wielkopolskie</th>\n",
       "      <td>5181</td>\n",
       "      <td>Wielkopolskie</td>\n",
       "    </tr>\n",
       "    <tr>\n",
       "      <th>Zachodniopomorskie</th>\n",
       "      <td>2412</td>\n",
       "      <td>Zachodniopomorskie</td>\n",
       "    </tr>\n",
       "    <tr>\n",
       "      <th>Łódzkie</th>\n",
       "      <td>4135</td>\n",
       "      <td>Łódzkie</td>\n",
       "    </tr>\n",
       "    <tr>\n",
       "      <th>Śląskie</th>\n",
       "      <td>7218</td>\n",
       "      <td>Śląskie</td>\n",
       "    </tr>\n",
       "    <tr>\n",
       "      <th>Świętokrzyskie</th>\n",
       "      <td>2108</td>\n",
       "      <td>Świętokrzyskie</td>\n",
       "    </tr>\n",
       "  </tbody>\n",
       "</table>\n",
       "</div>"
      ],
      "text/plain": [
       "                     liczba_zaraportowanych_zgonow          Województwo\n",
       "Województwo                                                            \n",
       "Dolnośląskie                                  3550         Dolnośląskie\n",
       "Kujawsko-Pomorskie                            4013   Kujawsko-Pomorskie\n",
       "Lubelskie                                     4588            Lubelskie\n",
       "Lubuskie                                      1618             Lubuskie\n",
       "Mazowieckie                                   7968          Mazowieckie\n",
       "Małopolskie                                   4310          Małopolskie\n",
       "Opolskie                                      1430             Opolskie\n",
       "Podkarpackie                                  3538         Podkarpackie\n",
       "Podlaskie                                     2150            Podlaskie\n",
       "Pomorskie                                     3425            Pomorskie\n",
       "Warmińsko-Mazurskie                           2342  Warmińsko-Mazurskie\n",
       "Wielkopolskie                                 5181        Wielkopolskie\n",
       "Zachodniopomorskie                            2412   Zachodniopomorskie\n",
       "Łódzkie                                       4135              Łódzkie\n",
       "Śląskie                                       7218              Śląskie\n",
       "Świętokrzyskie                                2108       Świętokrzyskie"
      ]
     },
     "execution_count": 19,
     "metadata": {},
     "output_type": "execute_result"
    }
   ],
   "source": [
    "df2021 = dfd.groupby('Województwo').sum()\n",
    "df2021.drop(['wiek', 'teryt_pow', 'teryt_woj'], axis = 'columns' , inplace=True)\n",
    "df2021['Województwo'] = df2021.index\n",
    "df2021\n"
   ]
  },
  {
   "cell_type": "code",
   "execution_count": 20,
   "metadata": {},
   "outputs": [],
   "source": [
    "# df2021['liczba_zaraportowanych_zgonow'].sum()"
   ]
  },
  {
   "cell_type": "code",
   "execution_count": 21,
   "metadata": {},
   "outputs": [
    {
     "data": {
      "text/html": [
       "<div>\n",
       "<style scoped>\n",
       "    .dataframe tbody tr th:only-of-type {\n",
       "        vertical-align: middle;\n",
       "    }\n",
       "\n",
       "    .dataframe tbody tr th {\n",
       "        vertical-align: top;\n",
       "    }\n",
       "\n",
       "    .dataframe thead th {\n",
       "        text-align: right;\n",
       "    }\n",
       "</style>\n",
       "<table border=\"1\" class=\"dataframe\">\n",
       "  <thead>\n",
       "    <tr style=\"text-align: right;\">\n",
       "      <th></th>\n",
       "      <th>liczba_zaraportowanych_zgonow</th>\n",
       "      <th>Województwo</th>\n",
       "      <th>Zgony nie w pełni zaszczepionych</th>\n",
       "      <th>Zgony w pełni zaszczepionych</th>\n",
       "      <th>Zgony nie w pełni zaszczepionych [%]</th>\n",
       "      <th>Zgony w pełni zaszczepionych [%]</th>\n",
       "    </tr>\n",
       "    <tr>\n",
       "      <th>Województwo</th>\n",
       "      <th></th>\n",
       "      <th></th>\n",
       "      <th></th>\n",
       "      <th></th>\n",
       "      <th></th>\n",
       "      <th></th>\n",
       "    </tr>\n",
       "  </thead>\n",
       "  <tbody>\n",
       "    <tr>\n",
       "      <th>Lubuskie</th>\n",
       "      <td>1618</td>\n",
       "      <td>Lubuskie</td>\n",
       "      <td>1534</td>\n",
       "      <td>84</td>\n",
       "      <td>94.808405</td>\n",
       "      <td>5.191595</td>\n",
       "    </tr>\n",
       "    <tr>\n",
       "      <th>Podkarpackie</th>\n",
       "      <td>3538</td>\n",
       "      <td>Podkarpackie</td>\n",
       "      <td>3343</td>\n",
       "      <td>195</td>\n",
       "      <td>94.488412</td>\n",
       "      <td>5.511588</td>\n",
       "    </tr>\n",
       "    <tr>\n",
       "      <th>Wielkopolskie</th>\n",
       "      <td>5181</td>\n",
       "      <td>Wielkopolskie</td>\n",
       "      <td>4864</td>\n",
       "      <td>317</td>\n",
       "      <td>93.881490</td>\n",
       "      <td>6.118510</td>\n",
       "    </tr>\n",
       "    <tr>\n",
       "      <th>Dolnośląskie</th>\n",
       "      <td>3550</td>\n",
       "      <td>Dolnośląskie</td>\n",
       "      <td>3328</td>\n",
       "      <td>222</td>\n",
       "      <td>93.746479</td>\n",
       "      <td>6.253521</td>\n",
       "    </tr>\n",
       "    <tr>\n",
       "      <th>Pomorskie</th>\n",
       "      <td>3425</td>\n",
       "      <td>Pomorskie</td>\n",
       "      <td>3207</td>\n",
       "      <td>218</td>\n",
       "      <td>93.635036</td>\n",
       "      <td>6.364964</td>\n",
       "    </tr>\n",
       "    <tr>\n",
       "      <th>Łódzkie</th>\n",
       "      <td>4135</td>\n",
       "      <td>Łódzkie</td>\n",
       "      <td>3864</td>\n",
       "      <td>271</td>\n",
       "      <td>93.446191</td>\n",
       "      <td>6.553809</td>\n",
       "    </tr>\n",
       "    <tr>\n",
       "      <th>Świętokrzyskie</th>\n",
       "      <td>2108</td>\n",
       "      <td>Świętokrzyskie</td>\n",
       "      <td>1969</td>\n",
       "      <td>139</td>\n",
       "      <td>93.406072</td>\n",
       "      <td>6.593928</td>\n",
       "    </tr>\n",
       "    <tr>\n",
       "      <th>Śląskie</th>\n",
       "      <td>7218</td>\n",
       "      <td>Śląskie</td>\n",
       "      <td>6736</td>\n",
       "      <td>482</td>\n",
       "      <td>93.322250</td>\n",
       "      <td>6.677750</td>\n",
       "    </tr>\n",
       "    <tr>\n",
       "      <th>Kujawsko-Pomorskie</th>\n",
       "      <td>4013</td>\n",
       "      <td>Kujawsko-Pomorskie</td>\n",
       "      <td>3723</td>\n",
       "      <td>290</td>\n",
       "      <td>92.773486</td>\n",
       "      <td>7.226514</td>\n",
       "    </tr>\n",
       "    <tr>\n",
       "      <th>Warmińsko-Mazurskie</th>\n",
       "      <td>2342</td>\n",
       "      <td>Warmińsko-Mazurskie</td>\n",
       "      <td>2164</td>\n",
       "      <td>178</td>\n",
       "      <td>92.399658</td>\n",
       "      <td>7.600342</td>\n",
       "    </tr>\n",
       "    <tr>\n",
       "      <th>Zachodniopomorskie</th>\n",
       "      <td>2412</td>\n",
       "      <td>Zachodniopomorskie</td>\n",
       "      <td>2226</td>\n",
       "      <td>186</td>\n",
       "      <td>92.288557</td>\n",
       "      <td>7.711443</td>\n",
       "    </tr>\n",
       "    <tr>\n",
       "      <th>Mazowieckie</th>\n",
       "      <td>7968</td>\n",
       "      <td>Mazowieckie</td>\n",
       "      <td>7313</td>\n",
       "      <td>655</td>\n",
       "      <td>91.779618</td>\n",
       "      <td>8.220382</td>\n",
       "    </tr>\n",
       "    <tr>\n",
       "      <th>Małopolskie</th>\n",
       "      <td>4310</td>\n",
       "      <td>Małopolskie</td>\n",
       "      <td>3933</td>\n",
       "      <td>377</td>\n",
       "      <td>91.252900</td>\n",
       "      <td>8.747100</td>\n",
       "    </tr>\n",
       "    <tr>\n",
       "      <th>Opolskie</th>\n",
       "      <td>1430</td>\n",
       "      <td>Opolskie</td>\n",
       "      <td>1296</td>\n",
       "      <td>134</td>\n",
       "      <td>90.629371</td>\n",
       "      <td>9.370629</td>\n",
       "    </tr>\n",
       "    <tr>\n",
       "      <th>Podlaskie</th>\n",
       "      <td>2150</td>\n",
       "      <td>Podlaskie</td>\n",
       "      <td>1934</td>\n",
       "      <td>216</td>\n",
       "      <td>89.953488</td>\n",
       "      <td>10.046512</td>\n",
       "    </tr>\n",
       "    <tr>\n",
       "      <th>Lubelskie</th>\n",
       "      <td>4588</td>\n",
       "      <td>Lubelskie</td>\n",
       "      <td>4124</td>\n",
       "      <td>464</td>\n",
       "      <td>89.886661</td>\n",
       "      <td>10.113339</td>\n",
       "    </tr>\n",
       "  </tbody>\n",
       "</table>\n",
       "</div>"
      ],
      "text/plain": [
       "                     liczba_zaraportowanych_zgonow          Województwo  \\\n",
       "Województwo                                                               \n",
       "Lubuskie                                      1618             Lubuskie   \n",
       "Podkarpackie                                  3538         Podkarpackie   \n",
       "Wielkopolskie                                 5181        Wielkopolskie   \n",
       "Dolnośląskie                                  3550         Dolnośląskie   \n",
       "Pomorskie                                     3425            Pomorskie   \n",
       "Łódzkie                                       4135              Łódzkie   \n",
       "Świętokrzyskie                                2108       Świętokrzyskie   \n",
       "Śląskie                                       7218              Śląskie   \n",
       "Kujawsko-Pomorskie                            4013   Kujawsko-Pomorskie   \n",
       "Warmińsko-Mazurskie                           2342  Warmińsko-Mazurskie   \n",
       "Zachodniopomorskie                            2412   Zachodniopomorskie   \n",
       "Mazowieckie                                   7968          Mazowieckie   \n",
       "Małopolskie                                   4310          Małopolskie   \n",
       "Opolskie                                      1430             Opolskie   \n",
       "Podlaskie                                     2150            Podlaskie   \n",
       "Lubelskie                                     4588            Lubelskie   \n",
       "\n",
       "                     Zgony nie w pełni zaszczepionych  \\\n",
       "Województwo                                             \n",
       "Lubuskie                                         1534   \n",
       "Podkarpackie                                     3343   \n",
       "Wielkopolskie                                    4864   \n",
       "Dolnośląskie                                     3328   \n",
       "Pomorskie                                        3207   \n",
       "Łódzkie                                          3864   \n",
       "Świętokrzyskie                                   1969   \n",
       "Śląskie                                          6736   \n",
       "Kujawsko-Pomorskie                               3723   \n",
       "Warmińsko-Mazurskie                              2164   \n",
       "Zachodniopomorskie                               2226   \n",
       "Mazowieckie                                      7313   \n",
       "Małopolskie                                      3933   \n",
       "Opolskie                                         1296   \n",
       "Podlaskie                                        1934   \n",
       "Lubelskie                                        4124   \n",
       "\n",
       "                     Zgony w pełni zaszczepionych  \\\n",
       "Województwo                                         \n",
       "Lubuskie                                       84   \n",
       "Podkarpackie                                  195   \n",
       "Wielkopolskie                                 317   \n",
       "Dolnośląskie                                  222   \n",
       "Pomorskie                                     218   \n",
       "Łódzkie                                       271   \n",
       "Świętokrzyskie                                139   \n",
       "Śląskie                                       482   \n",
       "Kujawsko-Pomorskie                            290   \n",
       "Warmińsko-Mazurskie                           178   \n",
       "Zachodniopomorskie                            186   \n",
       "Mazowieckie                                   655   \n",
       "Małopolskie                                   377   \n",
       "Opolskie                                      134   \n",
       "Podlaskie                                     216   \n",
       "Lubelskie                                     464   \n",
       "\n",
       "                     Zgony nie w pełni zaszczepionych [%]  \\\n",
       "Województwo                                                 \n",
       "Lubuskie                                        94.808405   \n",
       "Podkarpackie                                    94.488412   \n",
       "Wielkopolskie                                   93.881490   \n",
       "Dolnośląskie                                    93.746479   \n",
       "Pomorskie                                       93.635036   \n",
       "Łódzkie                                         93.446191   \n",
       "Świętokrzyskie                                  93.406072   \n",
       "Śląskie                                         93.322250   \n",
       "Kujawsko-Pomorskie                              92.773486   \n",
       "Warmińsko-Mazurskie                             92.399658   \n",
       "Zachodniopomorskie                              92.288557   \n",
       "Mazowieckie                                     91.779618   \n",
       "Małopolskie                                     91.252900   \n",
       "Opolskie                                        90.629371   \n",
       "Podlaskie                                       89.953488   \n",
       "Lubelskie                                       89.886661   \n",
       "\n",
       "                     Zgony w pełni zaszczepionych [%]  \n",
       "Województwo                                            \n",
       "Lubuskie                                     5.191595  \n",
       "Podkarpackie                                 5.511588  \n",
       "Wielkopolskie                                6.118510  \n",
       "Dolnośląskie                                 6.253521  \n",
       "Pomorskie                                    6.364964  \n",
       "Łódzkie                                      6.553809  \n",
       "Świętokrzyskie                               6.593928  \n",
       "Śląskie                                      6.677750  \n",
       "Kujawsko-Pomorskie                           7.226514  \n",
       "Warmińsko-Mazurskie                          7.600342  \n",
       "Zachodniopomorskie                           7.711443  \n",
       "Mazowieckie                                  8.220382  \n",
       "Małopolskie                                  8.747100  \n",
       "Opolskie                                     9.370629  \n",
       "Podlaskie                                   10.046512  \n",
       "Lubelskie                                   10.113339  "
      ]
     },
     "execution_count": 21,
     "metadata": {},
     "output_type": "execute_result"
    }
   ],
   "source": [
    "Q = f'(w_pelni_zaszczepiony == \"N\")'\n",
    "\n",
    "df1_2021 = dfd.query(Q).groupby('Województwo').sum()\n",
    "df1_2021.drop(['wiek', 'teryt_pow', 'teryt_woj'], axis = 'columns' , inplace=True)\n",
    "df2021['Zgony nie w pełni zaszczepionych'] = df1_2021\n",
    "\n",
    "Q = f'(w_pelni_zaszczepiony == \"T\")'\n",
    "\n",
    "df1_2021 = dfd.query(Q).groupby('Województwo').sum()\n",
    "df1_2021.drop(['wiek', 'teryt_pow', 'teryt_woj'], axis = 'columns' , inplace=True)\n",
    "df2021['Zgony w pełni zaszczepionych'] = df1_2021\n",
    "\n",
    "\n",
    "\n",
    "\n",
    "df2021['Zgony nie w pełni zaszczepionych [%]'] = df2021['Zgony nie w pełni zaszczepionych'] / df2021['liczba_zaraportowanych_zgonow'] * 100\n",
    "df2021['Zgony w pełni zaszczepionych [%]'] = df2021['Zgony w pełni zaszczepionych'] / df2021['liczba_zaraportowanych_zgonow'] * 100\n",
    "\n",
    "df2021 = df2021.sort_values(['Zgony nie w pełni zaszczepionych [%]'], ascending=False)\n",
    "df2021"
   ]
  },
  {
   "cell_type": "code",
   "execution_count": 22,
   "metadata": {},
   "outputs": [
    {
     "data": {
      "application/vnd.plotly.v1+json": {
       "config": {
        "plotlyServerURL": "https://plot.ly"
       },
       "data": [
        {
         "name": "Zgony nie w pełni zaszczepionych [%]",
         "offsetgroup": "1",
         "text": [
          94.80840543881335,
          94.48841153193895,
          93.88149005983401,
          93.74647887323944,
          93.63503649635037,
          93.44619105199516,
          93.40607210626186,
          93.32224993072873,
          92.77348616994767,
          92.399658411614,
          92.28855721393035,
          91.77961847389558,
          91.25290023201856,
          90.62937062937063,
          89.95348837209303,
          89.88666085440279
         ],
         "textposition": "outside",
         "texttemplate": "%{text:2.1f}",
         "type": "bar",
         "x": [
          "Lubuskie",
          "Podkarpackie",
          "Wielkopolskie",
          "Dolnośląskie",
          "Pomorskie",
          "Łódzkie",
          "Świętokrzyskie",
          "Śląskie",
          "Kujawsko-Pomorskie",
          "Warmińsko-Mazurskie",
          "Zachodniopomorskie",
          "Mazowieckie",
          "Małopolskie",
          "Opolskie",
          "Podlaskie",
          "Lubelskie"
         ],
         "y": [
          94.80840543881335,
          94.48841153193895,
          93.88149005983401,
          93.74647887323944,
          93.63503649635037,
          93.44619105199516,
          93.40607210626186,
          93.32224993072873,
          92.77348616994767,
          92.399658411614,
          92.28855721393035,
          91.77961847389558,
          91.25290023201856,
          90.62937062937063,
          89.95348837209303,
          89.88666085440279
         ]
        },
        {
         "name": "Zgony w pełni zaszczepionych [%]",
         "offsetgroup": "2",
         "text": [
          5.19159456118665,
          5.511588468061052,
          6.118509940165992,
          6.253521126760564,
          6.364963503649634,
          6.553808948004837,
          6.59392789373814,
          6.677750069271267,
          7.22651383005233,
          7.600341588385994,
          7.711442786069651,
          8.220381526104417,
          8.747099767981439,
          9.37062937062937,
          10.046511627906977,
          10.113339145597209
         ],
         "textposition": "outside",
         "texttemplate": "%{text:2.1f}",
         "type": "bar",
         "x": [
          "Lubuskie",
          "Podkarpackie",
          "Wielkopolskie",
          "Dolnośląskie",
          "Pomorskie",
          "Łódzkie",
          "Świętokrzyskie",
          "Śląskie",
          "Kujawsko-Pomorskie",
          "Warmińsko-Mazurskie",
          "Zachodniopomorskie",
          "Mazowieckie",
          "Małopolskie",
          "Opolskie",
          "Podlaskie",
          "Lubelskie"
         ],
         "y": [
          5.19159456118665,
          5.511588468061052,
          6.118509940165992,
          6.253521126760564,
          6.364963503649634,
          6.553808948004837,
          6.59392789373814,
          6.677750069271267,
          7.22651383005233,
          7.600341588385994,
          7.711442786069651,
          8.220381526104417,
          8.747099767981439,
          9.37062937062937,
          10.046511627906977,
          10.113339145597209
         ]
        }
       ],
       "layout": {
        "barmode": "group",
        "height": 500,
        "legend": {
         "title": {
          "text": ""
         },
         "x": 0.5,
         "xanchor": "center",
         "y": -0.5
        },
        "template": {
         "data": {
          "bar": [
           {
            "error_x": {
             "color": "#2a3f5f"
            },
            "error_y": {
             "color": "#2a3f5f"
            },
            "marker": {
             "line": {
              "color": "#E5ECF6",
              "width": 0.5
             }
            },
            "type": "bar"
           }
          ],
          "barpolar": [
           {
            "marker": {
             "line": {
              "color": "#E5ECF6",
              "width": 0.5
             }
            },
            "type": "barpolar"
           }
          ],
          "carpet": [
           {
            "aaxis": {
             "endlinecolor": "#2a3f5f",
             "gridcolor": "white",
             "linecolor": "white",
             "minorgridcolor": "white",
             "startlinecolor": "#2a3f5f"
            },
            "baxis": {
             "endlinecolor": "#2a3f5f",
             "gridcolor": "white",
             "linecolor": "white",
             "minorgridcolor": "white",
             "startlinecolor": "#2a3f5f"
            },
            "type": "carpet"
           }
          ],
          "choropleth": [
           {
            "colorbar": {
             "outlinewidth": 0,
             "ticks": ""
            },
            "type": "choropleth"
           }
          ],
          "contour": [
           {
            "colorbar": {
             "outlinewidth": 0,
             "ticks": ""
            },
            "colorscale": [
             [
              0,
              "#0d0887"
             ],
             [
              0.1111111111111111,
              "#46039f"
             ],
             [
              0.2222222222222222,
              "#7201a8"
             ],
             [
              0.3333333333333333,
              "#9c179e"
             ],
             [
              0.4444444444444444,
              "#bd3786"
             ],
             [
              0.5555555555555556,
              "#d8576b"
             ],
             [
              0.6666666666666666,
              "#ed7953"
             ],
             [
              0.7777777777777778,
              "#fb9f3a"
             ],
             [
              0.8888888888888888,
              "#fdca26"
             ],
             [
              1,
              "#f0f921"
             ]
            ],
            "type": "contour"
           }
          ],
          "contourcarpet": [
           {
            "colorbar": {
             "outlinewidth": 0,
             "ticks": ""
            },
            "type": "contourcarpet"
           }
          ],
          "heatmap": [
           {
            "colorbar": {
             "outlinewidth": 0,
             "ticks": ""
            },
            "colorscale": [
             [
              0,
              "#0d0887"
             ],
             [
              0.1111111111111111,
              "#46039f"
             ],
             [
              0.2222222222222222,
              "#7201a8"
             ],
             [
              0.3333333333333333,
              "#9c179e"
             ],
             [
              0.4444444444444444,
              "#bd3786"
             ],
             [
              0.5555555555555556,
              "#d8576b"
             ],
             [
              0.6666666666666666,
              "#ed7953"
             ],
             [
              0.7777777777777778,
              "#fb9f3a"
             ],
             [
              0.8888888888888888,
              "#fdca26"
             ],
             [
              1,
              "#f0f921"
             ]
            ],
            "type": "heatmap"
           }
          ],
          "heatmapgl": [
           {
            "colorbar": {
             "outlinewidth": 0,
             "ticks": ""
            },
            "colorscale": [
             [
              0,
              "#0d0887"
             ],
             [
              0.1111111111111111,
              "#46039f"
             ],
             [
              0.2222222222222222,
              "#7201a8"
             ],
             [
              0.3333333333333333,
              "#9c179e"
             ],
             [
              0.4444444444444444,
              "#bd3786"
             ],
             [
              0.5555555555555556,
              "#d8576b"
             ],
             [
              0.6666666666666666,
              "#ed7953"
             ],
             [
              0.7777777777777778,
              "#fb9f3a"
             ],
             [
              0.8888888888888888,
              "#fdca26"
             ],
             [
              1,
              "#f0f921"
             ]
            ],
            "type": "heatmapgl"
           }
          ],
          "histogram": [
           {
            "marker": {
             "colorbar": {
              "outlinewidth": 0,
              "ticks": ""
             }
            },
            "type": "histogram"
           }
          ],
          "histogram2d": [
           {
            "colorbar": {
             "outlinewidth": 0,
             "ticks": ""
            },
            "colorscale": [
             [
              0,
              "#0d0887"
             ],
             [
              0.1111111111111111,
              "#46039f"
             ],
             [
              0.2222222222222222,
              "#7201a8"
             ],
             [
              0.3333333333333333,
              "#9c179e"
             ],
             [
              0.4444444444444444,
              "#bd3786"
             ],
             [
              0.5555555555555556,
              "#d8576b"
             ],
             [
              0.6666666666666666,
              "#ed7953"
             ],
             [
              0.7777777777777778,
              "#fb9f3a"
             ],
             [
              0.8888888888888888,
              "#fdca26"
             ],
             [
              1,
              "#f0f921"
             ]
            ],
            "type": "histogram2d"
           }
          ],
          "histogram2dcontour": [
           {
            "colorbar": {
             "outlinewidth": 0,
             "ticks": ""
            },
            "colorscale": [
             [
              0,
              "#0d0887"
             ],
             [
              0.1111111111111111,
              "#46039f"
             ],
             [
              0.2222222222222222,
              "#7201a8"
             ],
             [
              0.3333333333333333,
              "#9c179e"
             ],
             [
              0.4444444444444444,
              "#bd3786"
             ],
             [
              0.5555555555555556,
              "#d8576b"
             ],
             [
              0.6666666666666666,
              "#ed7953"
             ],
             [
              0.7777777777777778,
              "#fb9f3a"
             ],
             [
              0.8888888888888888,
              "#fdca26"
             ],
             [
              1,
              "#f0f921"
             ]
            ],
            "type": "histogram2dcontour"
           }
          ],
          "mesh3d": [
           {
            "colorbar": {
             "outlinewidth": 0,
             "ticks": ""
            },
            "type": "mesh3d"
           }
          ],
          "parcoords": [
           {
            "line": {
             "colorbar": {
              "outlinewidth": 0,
              "ticks": ""
             }
            },
            "type": "parcoords"
           }
          ],
          "pie": [
           {
            "automargin": true,
            "type": "pie"
           }
          ],
          "scatter": [
           {
            "marker": {
             "colorbar": {
              "outlinewidth": 0,
              "ticks": ""
             }
            },
            "type": "scatter"
           }
          ],
          "scatter3d": [
           {
            "line": {
             "colorbar": {
              "outlinewidth": 0,
              "ticks": ""
             }
            },
            "marker": {
             "colorbar": {
              "outlinewidth": 0,
              "ticks": ""
             }
            },
            "type": "scatter3d"
           }
          ],
          "scattercarpet": [
           {
            "marker": {
             "colorbar": {
              "outlinewidth": 0,
              "ticks": ""
             }
            },
            "type": "scattercarpet"
           }
          ],
          "scattergeo": [
           {
            "marker": {
             "colorbar": {
              "outlinewidth": 0,
              "ticks": ""
             }
            },
            "type": "scattergeo"
           }
          ],
          "scattergl": [
           {
            "marker": {
             "colorbar": {
              "outlinewidth": 0,
              "ticks": ""
             }
            },
            "type": "scattergl"
           }
          ],
          "scattermapbox": [
           {
            "marker": {
             "colorbar": {
              "outlinewidth": 0,
              "ticks": ""
             }
            },
            "type": "scattermapbox"
           }
          ],
          "scatterpolar": [
           {
            "marker": {
             "colorbar": {
              "outlinewidth": 0,
              "ticks": ""
             }
            },
            "type": "scatterpolar"
           }
          ],
          "scatterpolargl": [
           {
            "marker": {
             "colorbar": {
              "outlinewidth": 0,
              "ticks": ""
             }
            },
            "type": "scatterpolargl"
           }
          ],
          "scatterternary": [
           {
            "marker": {
             "colorbar": {
              "outlinewidth": 0,
              "ticks": ""
             }
            },
            "type": "scatterternary"
           }
          ],
          "surface": [
           {
            "colorbar": {
             "outlinewidth": 0,
             "ticks": ""
            },
            "colorscale": [
             [
              0,
              "#0d0887"
             ],
             [
              0.1111111111111111,
              "#46039f"
             ],
             [
              0.2222222222222222,
              "#7201a8"
             ],
             [
              0.3333333333333333,
              "#9c179e"
             ],
             [
              0.4444444444444444,
              "#bd3786"
             ],
             [
              0.5555555555555556,
              "#d8576b"
             ],
             [
              0.6666666666666666,
              "#ed7953"
             ],
             [
              0.7777777777777778,
              "#fb9f3a"
             ],
             [
              0.8888888888888888,
              "#fdca26"
             ],
             [
              1,
              "#f0f921"
             ]
            ],
            "type": "surface"
           }
          ],
          "table": [
           {
            "cells": {
             "fill": {
              "color": "#EBF0F8"
             },
             "line": {
              "color": "white"
             }
            },
            "header": {
             "fill": {
              "color": "#C8D4E3"
             },
             "line": {
              "color": "white"
             }
            },
            "type": "table"
           }
          ]
         },
         "layout": {
          "annotationdefaults": {
           "arrowcolor": "#2a3f5f",
           "arrowhead": 0,
           "arrowwidth": 1
          },
          "coloraxis": {
           "colorbar": {
            "outlinewidth": 0,
            "ticks": ""
           }
          },
          "colorscale": {
           "diverging": [
            [
             0,
             "#8e0152"
            ],
            [
             0.1,
             "#c51b7d"
            ],
            [
             0.2,
             "#de77ae"
            ],
            [
             0.3,
             "#f1b6da"
            ],
            [
             0.4,
             "#fde0ef"
            ],
            [
             0.5,
             "#f7f7f7"
            ],
            [
             0.6,
             "#e6f5d0"
            ],
            [
             0.7,
             "#b8e186"
            ],
            [
             0.8,
             "#7fbc41"
            ],
            [
             0.9,
             "#4d9221"
            ],
            [
             1,
             "#276419"
            ]
           ],
           "sequential": [
            [
             0,
             "#0d0887"
            ],
            [
             0.1111111111111111,
             "#46039f"
            ],
            [
             0.2222222222222222,
             "#7201a8"
            ],
            [
             0.3333333333333333,
             "#9c179e"
            ],
            [
             0.4444444444444444,
             "#bd3786"
            ],
            [
             0.5555555555555556,
             "#d8576b"
            ],
            [
             0.6666666666666666,
             "#ed7953"
            ],
            [
             0.7777777777777778,
             "#fb9f3a"
            ],
            [
             0.8888888888888888,
             "#fdca26"
            ],
            [
             1,
             "#f0f921"
            ]
           ],
           "sequentialminus": [
            [
             0,
             "#0d0887"
            ],
            [
             0.1111111111111111,
             "#46039f"
            ],
            [
             0.2222222222222222,
             "#7201a8"
            ],
            [
             0.3333333333333333,
             "#9c179e"
            ],
            [
             0.4444444444444444,
             "#bd3786"
            ],
            [
             0.5555555555555556,
             "#d8576b"
            ],
            [
             0.6666666666666666,
             "#ed7953"
            ],
            [
             0.7777777777777778,
             "#fb9f3a"
            ],
            [
             0.8888888888888888,
             "#fdca26"
            ],
            [
             1,
             "#f0f921"
            ]
           ]
          },
          "colorway": [
           "#636efa",
           "#EF553B",
           "#00cc96",
           "#ab63fa",
           "#FFA15A",
           "#19d3f3",
           "#FF6692",
           "#B6E880",
           "#FF97FF",
           "#FECB52"
          ],
          "font": {
           "color": "#2a3f5f"
          },
          "geo": {
           "bgcolor": "white",
           "lakecolor": "white",
           "landcolor": "#E5ECF6",
           "showlakes": true,
           "showland": true,
           "subunitcolor": "white"
          },
          "hoverlabel": {
           "align": "left"
          },
          "hovermode": "closest",
          "mapbox": {
           "style": "light"
          },
          "paper_bgcolor": "white",
          "plot_bgcolor": "#E5ECF6",
          "polar": {
           "angularaxis": {
            "gridcolor": "white",
            "linecolor": "white",
            "ticks": ""
           },
           "bgcolor": "#E5ECF6",
           "radialaxis": {
            "gridcolor": "white",
            "linecolor": "white",
            "ticks": ""
           }
          },
          "scene": {
           "xaxis": {
            "backgroundcolor": "#E5ECF6",
            "gridcolor": "white",
            "gridwidth": 2,
            "linecolor": "white",
            "showbackground": true,
            "ticks": "",
            "zerolinecolor": "white"
           },
           "yaxis": {
            "backgroundcolor": "#E5ECF6",
            "gridcolor": "white",
            "gridwidth": 2,
            "linecolor": "white",
            "showbackground": true,
            "ticks": "",
            "zerolinecolor": "white"
           },
           "zaxis": {
            "backgroundcolor": "#E5ECF6",
            "gridcolor": "white",
            "gridwidth": 2,
            "linecolor": "white",
            "showbackground": true,
            "ticks": "",
            "zerolinecolor": "white"
           }
          },
          "shapedefaults": {
           "line": {
            "color": "#2a3f5f"
           }
          },
          "ternary": {
           "aaxis": {
            "gridcolor": "white",
            "linecolor": "white",
            "ticks": ""
           },
           "baxis": {
            "gridcolor": "white",
            "linecolor": "white",
            "ticks": ""
           },
           "bgcolor": "#E5ECF6",
           "caxis": {
            "gridcolor": "white",
            "linecolor": "white",
            "ticks": ""
           }
          },
          "title": {
           "x": 0.05
          },
          "xaxis": {
           "automargin": true,
           "gridcolor": "white",
           "linecolor": "white",
           "ticks": "",
           "title": {
            "standoff": 15
           },
           "zerolinecolor": "white",
           "zerolinewidth": 2
          },
          "yaxis": {
           "automargin": true,
           "gridcolor": "white",
           "linecolor": "white",
           "ticks": "",
           "title": {
            "standoff": 15
           },
           "zerolinecolor": "white",
           "zerolinewidth": 2
          }
         }
        },
        "title": {
         "font": {
          "size": 16
         },
         "text": "Procent spośród zgonów na COVID-19 w województwach<br>    w podziale na w pełni zaszczepionych i nie w pełni zaszczepionych<br>(Od 01.07.2021)",
         "x": 0.5,
         "xanchor": "center"
        },
        "uniformtext": {
         "minsize": 8,
         "mode": "show"
        },
        "width": 800,
        "xaxis": {
         "tickangle": 33
        },
        "yaxis": {
         "title": {
          "text": "Procent spośród zgonów na COVID-19"
         }
        }
       }
      }
     },
     "metadata": {},
     "output_type": "display_data"
    }
   ],
   "source": [
    "\n",
    "fig = go.Figure(\n",
    "    data=[\n",
    "        go.Bar(\n",
    "            name = 'Zgony nie w pełni zaszczepionych [%]', \n",
    "            x=df2021['Województwo'], \n",
    "            y=df2021['Zgony nie w pełni zaszczepionych [%]'], \n",
    "            offsetgroup=1,\n",
    "            text = df2021['Zgony nie w pełni zaszczepionych [%]']\n",
    "            ),\n",
    "        go.Bar(\n",
    "            name = 'Zgony w pełni zaszczepionych [%]', \n",
    "            x=df2021['Województwo'], \n",
    "            y=df2021['Zgony w pełni zaszczepionych [%]'], \n",
    "            offsetgroup=2,\n",
    "            text = df2021['Zgony w pełni zaszczepionych [%]']\n",
    "            )\n",
    "    ]\n",
    ")\n",
    "\n",
    "fig.update_traces(\n",
    "    texttemplate='%{text:2.1f}', \n",
    "    textposition='outside',\n",
    "    )\n",
    "\n",
    "fig.update_layout(\n",
    "    barmode='group', \n",
    "    width=800, \n",
    "    height=500,\n",
    "    title = \"Procent spośród zgonów na COVID-19 w województwach<br>\\\n",
    "    w podziale na w pełni zaszczepionych i nie w pełni zaszczepionych<br>(Od 01.07.2021)\",\n",
    "    yaxis_title=\"Procent spośród zgonów na COVID-19\",\n",
    "    legend_title=\"\",\n",
    "    uniformtext_minsize=8, \n",
    "    uniformtext_mode='show',\n",
    "    legend=dict(\n",
    "        y=-0.5,\n",
    "        xanchor=\"center\",\n",
    "        x=0.5\n",
    "        ),\n",
    "    title_xanchor='center',\n",
    "    title_x = 0.5,\n",
    "    title_font_size=16\n",
    "    )\n",
    "fig.update_xaxes(tickangle=33)\n",
    "fig.show()\n",
    "fig.write_image(os.sep.join([image_dir, 'zgony_szczep_proc_woj_2021.jpg']), scale=4)\n"
   ]
  },
  {
   "cell_type": "markdown",
   "metadata": {},
   "source": [
    "### Liczba zgonów na COVID-19 w województwach <br> w podziale na w pełni zaszczepionych i nie w pełni zaszczepionych<br> (Od 14.07.2021)"
   ]
  },
  {
   "cell_type": "code",
   "execution_count": 23,
   "metadata": {},
   "outputs": [
    {
     "data": {
      "text/html": [
       "<div>\n",
       "<style scoped>\n",
       "    .dataframe tbody tr th:only-of-type {\n",
       "        vertical-align: middle;\n",
       "    }\n",
       "\n",
       "    .dataframe tbody tr th {\n",
       "        vertical-align: top;\n",
       "    }\n",
       "\n",
       "    .dataframe thead th {\n",
       "        text-align: right;\n",
       "    }\n",
       "</style>\n",
       "<table border=\"1\" class=\"dataframe\">\n",
       "  <thead>\n",
       "    <tr style=\"text-align: right;\">\n",
       "      <th></th>\n",
       "      <th>liczba_zaraportowanych_zgonow</th>\n",
       "      <th>Województwo</th>\n",
       "    </tr>\n",
       "    <tr>\n",
       "      <th>Województwo</th>\n",
       "      <th></th>\n",
       "      <th></th>\n",
       "    </tr>\n",
       "  </thead>\n",
       "  <tbody>\n",
       "    <tr>\n",
       "      <th>Dolnośląskie</th>\n",
       "      <td>611</td>\n",
       "      <td>Dolnośląskie</td>\n",
       "    </tr>\n",
       "    <tr>\n",
       "      <th>Kujawsko-Pomorskie</th>\n",
       "      <td>767</td>\n",
       "      <td>Kujawsko-Pomorskie</td>\n",
       "    </tr>\n",
       "    <tr>\n",
       "      <th>Lubelskie</th>\n",
       "      <td>1921</td>\n",
       "      <td>Lubelskie</td>\n",
       "    </tr>\n",
       "    <tr>\n",
       "      <th>Lubuskie</th>\n",
       "      <td>250</td>\n",
       "      <td>Lubuskie</td>\n",
       "    </tr>\n",
       "    <tr>\n",
       "      <th>Mazowieckie</th>\n",
       "      <td>1992</td>\n",
       "      <td>Mazowieckie</td>\n",
       "    </tr>\n",
       "    <tr>\n",
       "      <th>Małopolskie</th>\n",
       "      <td>1121</td>\n",
       "      <td>Małopolskie</td>\n",
       "    </tr>\n",
       "    <tr>\n",
       "      <th>Opolskie</th>\n",
       "      <td>435</td>\n",
       "      <td>Opolskie</td>\n",
       "    </tr>\n",
       "    <tr>\n",
       "      <th>Podkarpackie</th>\n",
       "      <td>943</td>\n",
       "      <td>Podkarpackie</td>\n",
       "    </tr>\n",
       "    <tr>\n",
       "      <th>Podlaskie</th>\n",
       "      <td>872</td>\n",
       "      <td>Podlaskie</td>\n",
       "    </tr>\n",
       "    <tr>\n",
       "      <th>Pomorskie</th>\n",
       "      <td>515</td>\n",
       "      <td>Pomorskie</td>\n",
       "    </tr>\n",
       "    <tr>\n",
       "      <th>Warmińsko-Mazurskie</th>\n",
       "      <td>524</td>\n",
       "      <td>Warmińsko-Mazurskie</td>\n",
       "    </tr>\n",
       "    <tr>\n",
       "      <th>Wielkopolskie</th>\n",
       "      <td>790</td>\n",
       "      <td>Wielkopolskie</td>\n",
       "    </tr>\n",
       "    <tr>\n",
       "      <th>Zachodniopomorskie</th>\n",
       "      <td>520</td>\n",
       "      <td>Zachodniopomorskie</td>\n",
       "    </tr>\n",
       "    <tr>\n",
       "      <th>Łódzkie</th>\n",
       "      <td>911</td>\n",
       "      <td>Łódzkie</td>\n",
       "    </tr>\n",
       "    <tr>\n",
       "      <th>Śląskie</th>\n",
       "      <td>1232</td>\n",
       "      <td>Śląskie</td>\n",
       "    </tr>\n",
       "    <tr>\n",
       "      <th>Świętokrzyskie</th>\n",
       "      <td>461</td>\n",
       "      <td>Świętokrzyskie</td>\n",
       "    </tr>\n",
       "  </tbody>\n",
       "</table>\n",
       "</div>"
      ],
      "text/plain": [
       "                     liczba_zaraportowanych_zgonow          Województwo\n",
       "Województwo                                                            \n",
       "Dolnośląskie                                   611         Dolnośląskie\n",
       "Kujawsko-Pomorskie                             767   Kujawsko-Pomorskie\n",
       "Lubelskie                                     1921            Lubelskie\n",
       "Lubuskie                                       250             Lubuskie\n",
       "Mazowieckie                                   1992          Mazowieckie\n",
       "Małopolskie                                   1121          Małopolskie\n",
       "Opolskie                                       435             Opolskie\n",
       "Podkarpackie                                   943         Podkarpackie\n",
       "Podlaskie                                      872            Podlaskie\n",
       "Pomorskie                                      515            Pomorskie\n",
       "Warmińsko-Mazurskie                            524  Warmińsko-Mazurskie\n",
       "Wielkopolskie                                  790        Wielkopolskie\n",
       "Zachodniopomorskie                             520   Zachodniopomorskie\n",
       "Łódzkie                                        911              Łódzkie\n",
       "Śląskie                                       1232              Śląskie\n",
       "Świętokrzyskie                                 461       Świętokrzyskie"
      ]
     },
     "execution_count": 23,
     "metadata": {},
     "output_type": "execute_result"
    }
   ],
   "source": [
    "df = dfd4.groupby('Województwo').sum()\n",
    "df.drop(['wiek', 'teryt_pow', 'teryt_woj'], axis = 'columns' , inplace=True)\n",
    "df['Województwo'] = df.index\n",
    "df\n"
   ]
  },
  {
   "cell_type": "code",
   "execution_count": 24,
   "metadata": {},
   "outputs": [
    {
     "data": {
      "text/html": [
       "<div>\n",
       "<style scoped>\n",
       "    .dataframe tbody tr th:only-of-type {\n",
       "        vertical-align: middle;\n",
       "    }\n",
       "\n",
       "    .dataframe tbody tr th {\n",
       "        vertical-align: top;\n",
       "    }\n",
       "\n",
       "    .dataframe thead th {\n",
       "        text-align: right;\n",
       "    }\n",
       "</style>\n",
       "<table border=\"1\" class=\"dataframe\">\n",
       "  <thead>\n",
       "    <tr style=\"text-align: right;\">\n",
       "      <th></th>\n",
       "      <th>liczba_zaraportowanych_zgonow</th>\n",
       "      <th>Województwo</th>\n",
       "      <th>Zgony nie w pełni zaszczepionych</th>\n",
       "      <th>Zgony w pełni zaszczepionych</th>\n",
       "      <th>Zgony nie w pełni zaszczepionych [%]</th>\n",
       "      <th>Zgony w pełni zaszczepionych [%]</th>\n",
       "    </tr>\n",
       "    <tr>\n",
       "      <th>Województwo</th>\n",
       "      <th></th>\n",
       "      <th></th>\n",
       "      <th></th>\n",
       "      <th></th>\n",
       "      <th></th>\n",
       "      <th></th>\n",
       "    </tr>\n",
       "  </thead>\n",
       "  <tbody>\n",
       "    <tr>\n",
       "      <th>Lubelskie</th>\n",
       "      <td>1921</td>\n",
       "      <td>Lubelskie</td>\n",
       "      <td>1498</td>\n",
       "      <td>423</td>\n",
       "      <td>77.980219</td>\n",
       "      <td>22.019781</td>\n",
       "    </tr>\n",
       "    <tr>\n",
       "      <th>Mazowieckie</th>\n",
       "      <td>1992</td>\n",
       "      <td>Mazowieckie</td>\n",
       "      <td>1421</td>\n",
       "      <td>571</td>\n",
       "      <td>71.335341</td>\n",
       "      <td>28.664659</td>\n",
       "    </tr>\n",
       "    <tr>\n",
       "      <th>Śląskie</th>\n",
       "      <td>1232</td>\n",
       "      <td>Śląskie</td>\n",
       "      <td>834</td>\n",
       "      <td>398</td>\n",
       "      <td>67.694805</td>\n",
       "      <td>32.305195</td>\n",
       "    </tr>\n",
       "    <tr>\n",
       "      <th>Małopolskie</th>\n",
       "      <td>1121</td>\n",
       "      <td>Małopolskie</td>\n",
       "      <td>799</td>\n",
       "      <td>322</td>\n",
       "      <td>71.275647</td>\n",
       "      <td>28.724353</td>\n",
       "    </tr>\n",
       "    <tr>\n",
       "      <th>Podkarpackie</th>\n",
       "      <td>943</td>\n",
       "      <td>Podkarpackie</td>\n",
       "      <td>779</td>\n",
       "      <td>164</td>\n",
       "      <td>82.608696</td>\n",
       "      <td>17.391304</td>\n",
       "    </tr>\n",
       "    <tr>\n",
       "      <th>Łódzkie</th>\n",
       "      <td>911</td>\n",
       "      <td>Łódzkie</td>\n",
       "      <td>693</td>\n",
       "      <td>218</td>\n",
       "      <td>76.070252</td>\n",
       "      <td>23.929748</td>\n",
       "    </tr>\n",
       "    <tr>\n",
       "      <th>Podlaskie</th>\n",
       "      <td>872</td>\n",
       "      <td>Podlaskie</td>\n",
       "      <td>682</td>\n",
       "      <td>190</td>\n",
       "      <td>78.211009</td>\n",
       "      <td>21.788991</td>\n",
       "    </tr>\n",
       "    <tr>\n",
       "      <th>Wielkopolskie</th>\n",
       "      <td>790</td>\n",
       "      <td>Wielkopolskie</td>\n",
       "      <td>549</td>\n",
       "      <td>241</td>\n",
       "      <td>69.493671</td>\n",
       "      <td>30.506329</td>\n",
       "    </tr>\n",
       "    <tr>\n",
       "      <th>Kujawsko-Pomorskie</th>\n",
       "      <td>767</td>\n",
       "      <td>Kujawsko-Pomorskie</td>\n",
       "      <td>525</td>\n",
       "      <td>242</td>\n",
       "      <td>68.448501</td>\n",
       "      <td>31.551499</td>\n",
       "    </tr>\n",
       "    <tr>\n",
       "      <th>Dolnośląskie</th>\n",
       "      <td>611</td>\n",
       "      <td>Dolnośląskie</td>\n",
       "      <td>448</td>\n",
       "      <td>163</td>\n",
       "      <td>73.322422</td>\n",
       "      <td>26.677578</td>\n",
       "    </tr>\n",
       "    <tr>\n",
       "      <th>Warmińsko-Mazurskie</th>\n",
       "      <td>524</td>\n",
       "      <td>Warmińsko-Mazurskie</td>\n",
       "      <td>366</td>\n",
       "      <td>158</td>\n",
       "      <td>69.847328</td>\n",
       "      <td>30.152672</td>\n",
       "    </tr>\n",
       "    <tr>\n",
       "      <th>Zachodniopomorskie</th>\n",
       "      <td>520</td>\n",
       "      <td>Zachodniopomorskie</td>\n",
       "      <td>359</td>\n",
       "      <td>161</td>\n",
       "      <td>69.038462</td>\n",
       "      <td>30.961538</td>\n",
       "    </tr>\n",
       "    <tr>\n",
       "      <th>Świętokrzyskie</th>\n",
       "      <td>461</td>\n",
       "      <td>Świętokrzyskie</td>\n",
       "      <td>342</td>\n",
       "      <td>119</td>\n",
       "      <td>74.186551</td>\n",
       "      <td>25.813449</td>\n",
       "    </tr>\n",
       "    <tr>\n",
       "      <th>Pomorskie</th>\n",
       "      <td>515</td>\n",
       "      <td>Pomorskie</td>\n",
       "      <td>336</td>\n",
       "      <td>179</td>\n",
       "      <td>65.242718</td>\n",
       "      <td>34.757282</td>\n",
       "    </tr>\n",
       "    <tr>\n",
       "      <th>Opolskie</th>\n",
       "      <td>435</td>\n",
       "      <td>Opolskie</td>\n",
       "      <td>317</td>\n",
       "      <td>118</td>\n",
       "      <td>72.873563</td>\n",
       "      <td>27.126437</td>\n",
       "    </tr>\n",
       "    <tr>\n",
       "      <th>Lubuskie</th>\n",
       "      <td>250</td>\n",
       "      <td>Lubuskie</td>\n",
       "      <td>180</td>\n",
       "      <td>70</td>\n",
       "      <td>72.000000</td>\n",
       "      <td>28.000000</td>\n",
       "    </tr>\n",
       "  </tbody>\n",
       "</table>\n",
       "</div>"
      ],
      "text/plain": [
       "                     liczba_zaraportowanych_zgonow          Województwo  \\\n",
       "Województwo                                                               \n",
       "Lubelskie                                     1921            Lubelskie   \n",
       "Mazowieckie                                   1992          Mazowieckie   \n",
       "Śląskie                                       1232              Śląskie   \n",
       "Małopolskie                                   1121          Małopolskie   \n",
       "Podkarpackie                                   943         Podkarpackie   \n",
       "Łódzkie                                        911              Łódzkie   \n",
       "Podlaskie                                      872            Podlaskie   \n",
       "Wielkopolskie                                  790        Wielkopolskie   \n",
       "Kujawsko-Pomorskie                             767   Kujawsko-Pomorskie   \n",
       "Dolnośląskie                                   611         Dolnośląskie   \n",
       "Warmińsko-Mazurskie                            524  Warmińsko-Mazurskie   \n",
       "Zachodniopomorskie                             520   Zachodniopomorskie   \n",
       "Świętokrzyskie                                 461       Świętokrzyskie   \n",
       "Pomorskie                                      515            Pomorskie   \n",
       "Opolskie                                       435             Opolskie   \n",
       "Lubuskie                                       250             Lubuskie   \n",
       "\n",
       "                     Zgony nie w pełni zaszczepionych  \\\n",
       "Województwo                                             \n",
       "Lubelskie                                        1498   \n",
       "Mazowieckie                                      1421   \n",
       "Śląskie                                           834   \n",
       "Małopolskie                                       799   \n",
       "Podkarpackie                                      779   \n",
       "Łódzkie                                           693   \n",
       "Podlaskie                                         682   \n",
       "Wielkopolskie                                     549   \n",
       "Kujawsko-Pomorskie                                525   \n",
       "Dolnośląskie                                      448   \n",
       "Warmińsko-Mazurskie                               366   \n",
       "Zachodniopomorskie                                359   \n",
       "Świętokrzyskie                                    342   \n",
       "Pomorskie                                         336   \n",
       "Opolskie                                          317   \n",
       "Lubuskie                                          180   \n",
       "\n",
       "                     Zgony w pełni zaszczepionych  \\\n",
       "Województwo                                         \n",
       "Lubelskie                                     423   \n",
       "Mazowieckie                                   571   \n",
       "Śląskie                                       398   \n",
       "Małopolskie                                   322   \n",
       "Podkarpackie                                  164   \n",
       "Łódzkie                                       218   \n",
       "Podlaskie                                     190   \n",
       "Wielkopolskie                                 241   \n",
       "Kujawsko-Pomorskie                            242   \n",
       "Dolnośląskie                                  163   \n",
       "Warmińsko-Mazurskie                           158   \n",
       "Zachodniopomorskie                            161   \n",
       "Świętokrzyskie                                119   \n",
       "Pomorskie                                     179   \n",
       "Opolskie                                      118   \n",
       "Lubuskie                                       70   \n",
       "\n",
       "                     Zgony nie w pełni zaszczepionych [%]  \\\n",
       "Województwo                                                 \n",
       "Lubelskie                                       77.980219   \n",
       "Mazowieckie                                     71.335341   \n",
       "Śląskie                                         67.694805   \n",
       "Małopolskie                                     71.275647   \n",
       "Podkarpackie                                    82.608696   \n",
       "Łódzkie                                         76.070252   \n",
       "Podlaskie                                       78.211009   \n",
       "Wielkopolskie                                   69.493671   \n",
       "Kujawsko-Pomorskie                              68.448501   \n",
       "Dolnośląskie                                    73.322422   \n",
       "Warmińsko-Mazurskie                             69.847328   \n",
       "Zachodniopomorskie                              69.038462   \n",
       "Świętokrzyskie                                  74.186551   \n",
       "Pomorskie                                       65.242718   \n",
       "Opolskie                                        72.873563   \n",
       "Lubuskie                                        72.000000   \n",
       "\n",
       "                     Zgony w pełni zaszczepionych [%]  \n",
       "Województwo                                            \n",
       "Lubelskie                                   22.019781  \n",
       "Mazowieckie                                 28.664659  \n",
       "Śląskie                                     32.305195  \n",
       "Małopolskie                                 28.724353  \n",
       "Podkarpackie                                17.391304  \n",
       "Łódzkie                                     23.929748  \n",
       "Podlaskie                                   21.788991  \n",
       "Wielkopolskie                               30.506329  \n",
       "Kujawsko-Pomorskie                          31.551499  \n",
       "Dolnośląskie                                26.677578  \n",
       "Warmińsko-Mazurskie                         30.152672  \n",
       "Zachodniopomorskie                          30.961538  \n",
       "Świętokrzyskie                              25.813449  \n",
       "Pomorskie                                   34.757282  \n",
       "Opolskie                                    27.126437  \n",
       "Lubuskie                                    28.000000  "
      ]
     },
     "execution_count": 24,
     "metadata": {},
     "output_type": "execute_result"
    }
   ],
   "source": [
    "Q = f'(w_pelni_zaszczepiony == \"N\")'\n",
    "\n",
    "df1 = dfd4.query(Q).groupby('Województwo').sum()\n",
    "df1.drop(['wiek', 'teryt_pow', 'teryt_woj'], axis = 'columns' , inplace=True)\n",
    "df['Zgony nie w pełni zaszczepionych'] = df1\n",
    "\n",
    "Q = f'(w_pelni_zaszczepiony == \"T\")'\n",
    "\n",
    "df1 = dfd4.query(Q).groupby('Województwo').sum()\n",
    "df1.drop(['wiek', 'teryt_pow', 'teryt_woj'], axis = 'columns' , inplace=True)\n",
    "df['Zgony w pełni zaszczepionych'] = df1\n",
    "\n",
    "\n",
    "\n",
    "\n",
    "df['Zgony nie w pełni zaszczepionych [%]'] = df['Zgony nie w pełni zaszczepionych'] / df['liczba_zaraportowanych_zgonow'] * 100\n",
    "df['Zgony w pełni zaszczepionych [%]'] = df['Zgony w pełni zaszczepionych'] / df['liczba_zaraportowanych_zgonow'] * 100\n",
    "\n",
    "df = df.sort_values(['Zgony nie w pełni zaszczepionych'], ascending=False)\n",
    "df"
   ]
  },
  {
   "cell_type": "code",
   "execution_count": 25,
   "metadata": {},
   "outputs": [
    {
     "data": {
      "application/vnd.plotly.v1+json": {
       "config": {
        "plotlyServerURL": "https://plot.ly"
       },
       "data": [
        {
         "name": "Zgony nie w pełni zaszczepionych",
         "offsetgroup": "1",
         "text": [
          1498,
          1421,
          834,
          799,
          779,
          693,
          682,
          549,
          525,
          448,
          366,
          359,
          342,
          336,
          317,
          180
         ],
         "textposition": "outside",
         "texttemplate": "%{text:2.1f}",
         "type": "bar",
         "x": [
          "Lubelskie",
          "Mazowieckie",
          "Śląskie",
          "Małopolskie",
          "Podkarpackie",
          "Łódzkie",
          "Podlaskie",
          "Wielkopolskie",
          "Kujawsko-Pomorskie",
          "Dolnośląskie",
          "Warmińsko-Mazurskie",
          "Zachodniopomorskie",
          "Świętokrzyskie",
          "Pomorskie",
          "Opolskie",
          "Lubuskie"
         ],
         "y": [
          1498,
          1421,
          834,
          799,
          779,
          693,
          682,
          549,
          525,
          448,
          366,
          359,
          342,
          336,
          317,
          180
         ]
        },
        {
         "name": "Zgony w pełni zaszczepionych",
         "offsetgroup": "2",
         "text": [
          423,
          571,
          398,
          322,
          164,
          218,
          190,
          241,
          242,
          163,
          158,
          161,
          119,
          179,
          118,
          70
         ],
         "textposition": "outside",
         "texttemplate": "%{text:2.1f}",
         "type": "bar",
         "x": [
          "Lubelskie",
          "Mazowieckie",
          "Śląskie",
          "Małopolskie",
          "Podkarpackie",
          "Łódzkie",
          "Podlaskie",
          "Wielkopolskie",
          "Kujawsko-Pomorskie",
          "Dolnośląskie",
          "Warmińsko-Mazurskie",
          "Zachodniopomorskie",
          "Świętokrzyskie",
          "Pomorskie",
          "Opolskie",
          "Lubuskie"
         ],
         "y": [
          423,
          571,
          398,
          322,
          164,
          218,
          190,
          241,
          242,
          163,
          158,
          161,
          119,
          179,
          118,
          70
         ]
        }
       ],
       "layout": {
        "barmode": "group",
        "height": 500,
        "legend": {
         "title": {
          "text": ""
         },
         "x": 0.5,
         "xanchor": "center",
         "y": -0.5
        },
        "template": {
         "data": {
          "bar": [
           {
            "error_x": {
             "color": "#2a3f5f"
            },
            "error_y": {
             "color": "#2a3f5f"
            },
            "marker": {
             "line": {
              "color": "#E5ECF6",
              "width": 0.5
             }
            },
            "type": "bar"
           }
          ],
          "barpolar": [
           {
            "marker": {
             "line": {
              "color": "#E5ECF6",
              "width": 0.5
             }
            },
            "type": "barpolar"
           }
          ],
          "carpet": [
           {
            "aaxis": {
             "endlinecolor": "#2a3f5f",
             "gridcolor": "white",
             "linecolor": "white",
             "minorgridcolor": "white",
             "startlinecolor": "#2a3f5f"
            },
            "baxis": {
             "endlinecolor": "#2a3f5f",
             "gridcolor": "white",
             "linecolor": "white",
             "minorgridcolor": "white",
             "startlinecolor": "#2a3f5f"
            },
            "type": "carpet"
           }
          ],
          "choropleth": [
           {
            "colorbar": {
             "outlinewidth": 0,
             "ticks": ""
            },
            "type": "choropleth"
           }
          ],
          "contour": [
           {
            "colorbar": {
             "outlinewidth": 0,
             "ticks": ""
            },
            "colorscale": [
             [
              0,
              "#0d0887"
             ],
             [
              0.1111111111111111,
              "#46039f"
             ],
             [
              0.2222222222222222,
              "#7201a8"
             ],
             [
              0.3333333333333333,
              "#9c179e"
             ],
             [
              0.4444444444444444,
              "#bd3786"
             ],
             [
              0.5555555555555556,
              "#d8576b"
             ],
             [
              0.6666666666666666,
              "#ed7953"
             ],
             [
              0.7777777777777778,
              "#fb9f3a"
             ],
             [
              0.8888888888888888,
              "#fdca26"
             ],
             [
              1,
              "#f0f921"
             ]
            ],
            "type": "contour"
           }
          ],
          "contourcarpet": [
           {
            "colorbar": {
             "outlinewidth": 0,
             "ticks": ""
            },
            "type": "contourcarpet"
           }
          ],
          "heatmap": [
           {
            "colorbar": {
             "outlinewidth": 0,
             "ticks": ""
            },
            "colorscale": [
             [
              0,
              "#0d0887"
             ],
             [
              0.1111111111111111,
              "#46039f"
             ],
             [
              0.2222222222222222,
              "#7201a8"
             ],
             [
              0.3333333333333333,
              "#9c179e"
             ],
             [
              0.4444444444444444,
              "#bd3786"
             ],
             [
              0.5555555555555556,
              "#d8576b"
             ],
             [
              0.6666666666666666,
              "#ed7953"
             ],
             [
              0.7777777777777778,
              "#fb9f3a"
             ],
             [
              0.8888888888888888,
              "#fdca26"
             ],
             [
              1,
              "#f0f921"
             ]
            ],
            "type": "heatmap"
           }
          ],
          "heatmapgl": [
           {
            "colorbar": {
             "outlinewidth": 0,
             "ticks": ""
            },
            "colorscale": [
             [
              0,
              "#0d0887"
             ],
             [
              0.1111111111111111,
              "#46039f"
             ],
             [
              0.2222222222222222,
              "#7201a8"
             ],
             [
              0.3333333333333333,
              "#9c179e"
             ],
             [
              0.4444444444444444,
              "#bd3786"
             ],
             [
              0.5555555555555556,
              "#d8576b"
             ],
             [
              0.6666666666666666,
              "#ed7953"
             ],
             [
              0.7777777777777778,
              "#fb9f3a"
             ],
             [
              0.8888888888888888,
              "#fdca26"
             ],
             [
              1,
              "#f0f921"
             ]
            ],
            "type": "heatmapgl"
           }
          ],
          "histogram": [
           {
            "marker": {
             "colorbar": {
              "outlinewidth": 0,
              "ticks": ""
             }
            },
            "type": "histogram"
           }
          ],
          "histogram2d": [
           {
            "colorbar": {
             "outlinewidth": 0,
             "ticks": ""
            },
            "colorscale": [
             [
              0,
              "#0d0887"
             ],
             [
              0.1111111111111111,
              "#46039f"
             ],
             [
              0.2222222222222222,
              "#7201a8"
             ],
             [
              0.3333333333333333,
              "#9c179e"
             ],
             [
              0.4444444444444444,
              "#bd3786"
             ],
             [
              0.5555555555555556,
              "#d8576b"
             ],
             [
              0.6666666666666666,
              "#ed7953"
             ],
             [
              0.7777777777777778,
              "#fb9f3a"
             ],
             [
              0.8888888888888888,
              "#fdca26"
             ],
             [
              1,
              "#f0f921"
             ]
            ],
            "type": "histogram2d"
           }
          ],
          "histogram2dcontour": [
           {
            "colorbar": {
             "outlinewidth": 0,
             "ticks": ""
            },
            "colorscale": [
             [
              0,
              "#0d0887"
             ],
             [
              0.1111111111111111,
              "#46039f"
             ],
             [
              0.2222222222222222,
              "#7201a8"
             ],
             [
              0.3333333333333333,
              "#9c179e"
             ],
             [
              0.4444444444444444,
              "#bd3786"
             ],
             [
              0.5555555555555556,
              "#d8576b"
             ],
             [
              0.6666666666666666,
              "#ed7953"
             ],
             [
              0.7777777777777778,
              "#fb9f3a"
             ],
             [
              0.8888888888888888,
              "#fdca26"
             ],
             [
              1,
              "#f0f921"
             ]
            ],
            "type": "histogram2dcontour"
           }
          ],
          "mesh3d": [
           {
            "colorbar": {
             "outlinewidth": 0,
             "ticks": ""
            },
            "type": "mesh3d"
           }
          ],
          "parcoords": [
           {
            "line": {
             "colorbar": {
              "outlinewidth": 0,
              "ticks": ""
             }
            },
            "type": "parcoords"
           }
          ],
          "pie": [
           {
            "automargin": true,
            "type": "pie"
           }
          ],
          "scatter": [
           {
            "marker": {
             "colorbar": {
              "outlinewidth": 0,
              "ticks": ""
             }
            },
            "type": "scatter"
           }
          ],
          "scatter3d": [
           {
            "line": {
             "colorbar": {
              "outlinewidth": 0,
              "ticks": ""
             }
            },
            "marker": {
             "colorbar": {
              "outlinewidth": 0,
              "ticks": ""
             }
            },
            "type": "scatter3d"
           }
          ],
          "scattercarpet": [
           {
            "marker": {
             "colorbar": {
              "outlinewidth": 0,
              "ticks": ""
             }
            },
            "type": "scattercarpet"
           }
          ],
          "scattergeo": [
           {
            "marker": {
             "colorbar": {
              "outlinewidth": 0,
              "ticks": ""
             }
            },
            "type": "scattergeo"
           }
          ],
          "scattergl": [
           {
            "marker": {
             "colorbar": {
              "outlinewidth": 0,
              "ticks": ""
             }
            },
            "type": "scattergl"
           }
          ],
          "scattermapbox": [
           {
            "marker": {
             "colorbar": {
              "outlinewidth": 0,
              "ticks": ""
             }
            },
            "type": "scattermapbox"
           }
          ],
          "scatterpolar": [
           {
            "marker": {
             "colorbar": {
              "outlinewidth": 0,
              "ticks": ""
             }
            },
            "type": "scatterpolar"
           }
          ],
          "scatterpolargl": [
           {
            "marker": {
             "colorbar": {
              "outlinewidth": 0,
              "ticks": ""
             }
            },
            "type": "scatterpolargl"
           }
          ],
          "scatterternary": [
           {
            "marker": {
             "colorbar": {
              "outlinewidth": 0,
              "ticks": ""
             }
            },
            "type": "scatterternary"
           }
          ],
          "surface": [
           {
            "colorbar": {
             "outlinewidth": 0,
             "ticks": ""
            },
            "colorscale": [
             [
              0,
              "#0d0887"
             ],
             [
              0.1111111111111111,
              "#46039f"
             ],
             [
              0.2222222222222222,
              "#7201a8"
             ],
             [
              0.3333333333333333,
              "#9c179e"
             ],
             [
              0.4444444444444444,
              "#bd3786"
             ],
             [
              0.5555555555555556,
              "#d8576b"
             ],
             [
              0.6666666666666666,
              "#ed7953"
             ],
             [
              0.7777777777777778,
              "#fb9f3a"
             ],
             [
              0.8888888888888888,
              "#fdca26"
             ],
             [
              1,
              "#f0f921"
             ]
            ],
            "type": "surface"
           }
          ],
          "table": [
           {
            "cells": {
             "fill": {
              "color": "#EBF0F8"
             },
             "line": {
              "color": "white"
             }
            },
            "header": {
             "fill": {
              "color": "#C8D4E3"
             },
             "line": {
              "color": "white"
             }
            },
            "type": "table"
           }
          ]
         },
         "layout": {
          "annotationdefaults": {
           "arrowcolor": "#2a3f5f",
           "arrowhead": 0,
           "arrowwidth": 1
          },
          "coloraxis": {
           "colorbar": {
            "outlinewidth": 0,
            "ticks": ""
           }
          },
          "colorscale": {
           "diverging": [
            [
             0,
             "#8e0152"
            ],
            [
             0.1,
             "#c51b7d"
            ],
            [
             0.2,
             "#de77ae"
            ],
            [
             0.3,
             "#f1b6da"
            ],
            [
             0.4,
             "#fde0ef"
            ],
            [
             0.5,
             "#f7f7f7"
            ],
            [
             0.6,
             "#e6f5d0"
            ],
            [
             0.7,
             "#b8e186"
            ],
            [
             0.8,
             "#7fbc41"
            ],
            [
             0.9,
             "#4d9221"
            ],
            [
             1,
             "#276419"
            ]
           ],
           "sequential": [
            [
             0,
             "#0d0887"
            ],
            [
             0.1111111111111111,
             "#46039f"
            ],
            [
             0.2222222222222222,
             "#7201a8"
            ],
            [
             0.3333333333333333,
             "#9c179e"
            ],
            [
             0.4444444444444444,
             "#bd3786"
            ],
            [
             0.5555555555555556,
             "#d8576b"
            ],
            [
             0.6666666666666666,
             "#ed7953"
            ],
            [
             0.7777777777777778,
             "#fb9f3a"
            ],
            [
             0.8888888888888888,
             "#fdca26"
            ],
            [
             1,
             "#f0f921"
            ]
           ],
           "sequentialminus": [
            [
             0,
             "#0d0887"
            ],
            [
             0.1111111111111111,
             "#46039f"
            ],
            [
             0.2222222222222222,
             "#7201a8"
            ],
            [
             0.3333333333333333,
             "#9c179e"
            ],
            [
             0.4444444444444444,
             "#bd3786"
            ],
            [
             0.5555555555555556,
             "#d8576b"
            ],
            [
             0.6666666666666666,
             "#ed7953"
            ],
            [
             0.7777777777777778,
             "#fb9f3a"
            ],
            [
             0.8888888888888888,
             "#fdca26"
            ],
            [
             1,
             "#f0f921"
            ]
           ]
          },
          "colorway": [
           "#636efa",
           "#EF553B",
           "#00cc96",
           "#ab63fa",
           "#FFA15A",
           "#19d3f3",
           "#FF6692",
           "#B6E880",
           "#FF97FF",
           "#FECB52"
          ],
          "font": {
           "color": "#2a3f5f"
          },
          "geo": {
           "bgcolor": "white",
           "lakecolor": "white",
           "landcolor": "#E5ECF6",
           "showlakes": true,
           "showland": true,
           "subunitcolor": "white"
          },
          "hoverlabel": {
           "align": "left"
          },
          "hovermode": "closest",
          "mapbox": {
           "style": "light"
          },
          "paper_bgcolor": "white",
          "plot_bgcolor": "#E5ECF6",
          "polar": {
           "angularaxis": {
            "gridcolor": "white",
            "linecolor": "white",
            "ticks": ""
           },
           "bgcolor": "#E5ECF6",
           "radialaxis": {
            "gridcolor": "white",
            "linecolor": "white",
            "ticks": ""
           }
          },
          "scene": {
           "xaxis": {
            "backgroundcolor": "#E5ECF6",
            "gridcolor": "white",
            "gridwidth": 2,
            "linecolor": "white",
            "showbackground": true,
            "ticks": "",
            "zerolinecolor": "white"
           },
           "yaxis": {
            "backgroundcolor": "#E5ECF6",
            "gridcolor": "white",
            "gridwidth": 2,
            "linecolor": "white",
            "showbackground": true,
            "ticks": "",
            "zerolinecolor": "white"
           },
           "zaxis": {
            "backgroundcolor": "#E5ECF6",
            "gridcolor": "white",
            "gridwidth": 2,
            "linecolor": "white",
            "showbackground": true,
            "ticks": "",
            "zerolinecolor": "white"
           }
          },
          "shapedefaults": {
           "line": {
            "color": "#2a3f5f"
           }
          },
          "ternary": {
           "aaxis": {
            "gridcolor": "white",
            "linecolor": "white",
            "ticks": ""
           },
           "baxis": {
            "gridcolor": "white",
            "linecolor": "white",
            "ticks": ""
           },
           "bgcolor": "#E5ECF6",
           "caxis": {
            "gridcolor": "white",
            "linecolor": "white",
            "ticks": ""
           }
          },
          "title": {
           "x": 0.05
          },
          "xaxis": {
           "automargin": true,
           "gridcolor": "white",
           "linecolor": "white",
           "ticks": "",
           "title": {
            "standoff": 15
           },
           "zerolinecolor": "white",
           "zerolinewidth": 2
          },
          "yaxis": {
           "automargin": true,
           "gridcolor": "white",
           "linecolor": "white",
           "ticks": "",
           "title": {
            "standoff": 15
           },
           "zerolinecolor": "white",
           "zerolinewidth": 2
          }
         }
        },
        "title": {
         "font": {
          "size": 16
         },
         "text": "Liczba zgonów na COVID-19 w województwach<br>    w podziale na w pełni zaszczepionych i nie w pełni zaszczepionych<br>(Od 14.07.2021)",
         "x": 0.5,
         "xanchor": "center"
        },
        "uniformtext": {
         "minsize": 6,
         "mode": "show"
        },
        "width": 800,
        "xaxis": {
         "tickangle": 33
        },
        "yaxis": {
         "title": {
          "text": "Liczba zgonów"
         }
        }
       }
      }
     },
     "metadata": {},
     "output_type": "display_data"
    }
   ],
   "source": [
    "\n",
    "fig = go.Figure(\n",
    "    data=[\n",
    "        go.Bar(\n",
    "            name = 'Zgony nie w pełni zaszczepionych', \n",
    "            x=df['Województwo'], \n",
    "            y=df['Zgony nie w pełni zaszczepionych'], \n",
    "            offsetgroup=1,\n",
    "            text = df['Zgony nie w pełni zaszczepionych']\n",
    "            ),\n",
    "        go.Bar(\n",
    "            name = 'Zgony w pełni zaszczepionych', \n",
    "            x=df['Województwo'], \n",
    "            y=df['Zgony w pełni zaszczepionych'], \n",
    "            offsetgroup=2,\n",
    "            text = df['Zgony w pełni zaszczepionych']\n",
    "            )\n",
    "    ]\n",
    ")\n",
    "\n",
    "fig.update_traces(\n",
    "    texttemplate='%{text:2.1f}', \n",
    "    textposition='outside',\n",
    "    )\n",
    "\n",
    "fig.update_layout(\n",
    "    barmode='group', \n",
    "    width=800, \n",
    "    height=500,\n",
    "    title = \"Liczba zgonów na COVID-19 w województwach<br>\\\n",
    "    w podziale na w pełni zaszczepionych i nie w pełni zaszczepionych<br>(Od 14.07.2021)\",\n",
    "    yaxis_title=\"Liczba zgonów\",\n",
    "    legend_title=\"\",\n",
    "    uniformtext_minsize=6, \n",
    "    uniformtext_mode='show',\n",
    "    legend=dict(\n",
    "        y=-0.5,\n",
    "        xanchor=\"center\",\n",
    "        x=0.5\n",
    "        ),\n",
    "    title_xanchor='center',\n",
    "    title_x = 0.5,\n",
    "    title_font_size=16\n",
    "    )\n",
    "fig.update_xaxes(tickangle=33)\n",
    "fig.show()\n",
    "fig.write_image(os.sep.join([image_dir, 'zgony_szczep_proc_woj_4fala.jpg']), scale=4)\n"
   ]
  },
  {
   "cell_type": "markdown",
   "metadata": {},
   "source": [
    "### Liczba zgonów na COVID-19 w województwach na 100 tys. mieszkańców<br> w podziale na w pełni zaszczepionych i nie w pełni zaszczepionych<br> (Od 14.07.2021)"
   ]
  },
  {
   "cell_type": "code",
   "execution_count": 26,
   "metadata": {},
   "outputs": [],
   "source": [
    "dfpopwoj = pd.read_csv('/home/ochab/koronawirus_PAN/gov.pl/bitbucket/govpl/GUS/gus_data/wojewodztwa_ludnosc_2021_GUS.csv')"
   ]
  },
  {
   "cell_type": "code",
   "execution_count": 27,
   "metadata": {},
   "outputs": [
    {
     "data": {
      "text/html": [
       "<div>\n",
       "<style scoped>\n",
       "    .dataframe tbody tr th:only-of-type {\n",
       "        vertical-align: middle;\n",
       "    }\n",
       "\n",
       "    .dataframe tbody tr th {\n",
       "        vertical-align: top;\n",
       "    }\n",
       "\n",
       "    .dataframe thead th {\n",
       "        text-align: right;\n",
       "    }\n",
       "</style>\n",
       "<table border=\"1\" class=\"dataframe\">\n",
       "  <thead>\n",
       "    <tr style=\"text-align: right;\">\n",
       "      <th></th>\n",
       "      <th>TERYT</th>\n",
       "      <th>Województwo</th>\n",
       "      <th>Ludność</th>\n",
       "    </tr>\n",
       "  </thead>\n",
       "  <tbody>\n",
       "    <tr>\n",
       "      <th>0</th>\n",
       "      <td>2</td>\n",
       "      <td>Dolnośląskie</td>\n",
       "      <td>2891321</td>\n",
       "    </tr>\n",
       "    <tr>\n",
       "      <th>1</th>\n",
       "      <td>4</td>\n",
       "      <td>Kujawsko-pomorskie</td>\n",
       "      <td>2061942</td>\n",
       "    </tr>\n",
       "    <tr>\n",
       "      <th>2</th>\n",
       "      <td>6</td>\n",
       "      <td>Lubelskie</td>\n",
       "      <td>2095258</td>\n",
       "    </tr>\n",
       "    <tr>\n",
       "      <th>3</th>\n",
       "      <td>8</td>\n",
       "      <td>Lubuskie</td>\n",
       "      <td>1007145</td>\n",
       "    </tr>\n",
       "    <tr>\n",
       "      <th>4</th>\n",
       "      <td>10</td>\n",
       "      <td>Łódzkie</td>\n",
       "      <td>2437970</td>\n",
       "    </tr>\n",
       "    <tr>\n",
       "      <th>5</th>\n",
       "      <td>12</td>\n",
       "      <td>Małopolskie</td>\n",
       "      <td>3410441</td>\n",
       "    </tr>\n",
       "    <tr>\n",
       "      <th>6</th>\n",
       "      <td>14</td>\n",
       "      <td>Mazowieckie</td>\n",
       "      <td>5425028</td>\n",
       "    </tr>\n",
       "    <tr>\n",
       "      <th>7</th>\n",
       "      <td>16</td>\n",
       "      <td>Opolskie</td>\n",
       "      <td>976774</td>\n",
       "    </tr>\n",
       "    <tr>\n",
       "      <th>8</th>\n",
       "      <td>18</td>\n",
       "      <td>Podkarpackie</td>\n",
       "      <td>2121229</td>\n",
       "    </tr>\n",
       "    <tr>\n",
       "      <th>9</th>\n",
       "      <td>20</td>\n",
       "      <td>Podlaskie</td>\n",
       "      <td>1173286</td>\n",
       "    </tr>\n",
       "    <tr>\n",
       "      <th>10</th>\n",
       "      <td>22</td>\n",
       "      <td>Pomorskie</td>\n",
       "      <td>2346671</td>\n",
       "    </tr>\n",
       "    <tr>\n",
       "      <th>11</th>\n",
       "      <td>24</td>\n",
       "      <td>Śląskie</td>\n",
       "      <td>4492330</td>\n",
       "    </tr>\n",
       "    <tr>\n",
       "      <th>12</th>\n",
       "      <td>26</td>\n",
       "      <td>Świętokrzyskie</td>\n",
       "      <td>1224626</td>\n",
       "    </tr>\n",
       "    <tr>\n",
       "      <th>13</th>\n",
       "      <td>28</td>\n",
       "      <td>Warmińsko-mazurskie</td>\n",
       "      <td>1416495</td>\n",
       "    </tr>\n",
       "    <tr>\n",
       "      <th>14</th>\n",
       "      <td>30</td>\n",
       "      <td>Wielkopolskie</td>\n",
       "      <td>3496450</td>\n",
       "    </tr>\n",
       "    <tr>\n",
       "      <th>15</th>\n",
       "      <td>32</td>\n",
       "      <td>Zachodniopomorskie</td>\n",
       "      <td>1688047</td>\n",
       "    </tr>\n",
       "  </tbody>\n",
       "</table>\n",
       "</div>"
      ],
      "text/plain": [
       "    TERYT          Województwo  Ludność\n",
       "0       2         Dolnośląskie  2891321\n",
       "1       4   Kujawsko-pomorskie  2061942\n",
       "2       6            Lubelskie  2095258\n",
       "3       8             Lubuskie  1007145\n",
       "4      10              Łódzkie  2437970\n",
       "5      12          Małopolskie  3410441\n",
       "6      14          Mazowieckie  5425028\n",
       "7      16             Opolskie   976774\n",
       "8      18         Podkarpackie  2121229\n",
       "9      20            Podlaskie  1173286\n",
       "10     22            Pomorskie  2346671\n",
       "11     24              Śląskie  4492330\n",
       "12     26       Świętokrzyskie  1224626\n",
       "13     28  Warmińsko-mazurskie  1416495\n",
       "14     30        Wielkopolskie  3496450\n",
       "15     32   Zachodniopomorskie  1688047"
      ]
     },
     "execution_count": 27,
     "metadata": {},
     "output_type": "execute_result"
    }
   ],
   "source": [
    "dfpopwoj"
   ]
  },
  {
   "cell_type": "code",
   "execution_count": 28,
   "metadata": {},
   "outputs": [
    {
     "data": {
      "text/plain": [
       "{'Dolnośląskie': 2891321,\n",
       " 'Kujawsko-Pomorskie': 2061942,\n",
       " 'Lubelskie': 2095258,\n",
       " 'Lubuskie': 1007145,\n",
       " 'Łódzkie': 2437970,\n",
       " 'Małopolskie': 3410441,\n",
       " 'Mazowieckie': 5425028,\n",
       " 'Opolskie': 976774,\n",
       " 'Podkarpackie': 2121229,\n",
       " 'Podlaskie': 1173286,\n",
       " 'Pomorskie': 2346671,\n",
       " 'Śląskie': 4492330,\n",
       " 'Świętokrzyskie': 1224626,\n",
       " 'Warmińsko-Mazurskie': 1416495,\n",
       " 'Wielkopolskie': 3496450,\n",
       " 'Zachodniopomorskie': 1688047}"
      ]
     },
     "execution_count": 28,
     "metadata": {},
     "output_type": "execute_result"
    }
   ],
   "source": [
    "dfpopwoj = pd.read_csv('/home/ochab/koronawirus_PAN/gov.pl/bitbucket/govpl/GUS/gus_data/wojewodztwa_ludnosc_2021_GUS.csv')\n",
    "dfpopwoj['Województwo'] = dfpopwoj['Województwo'].str.title()\n",
    "dfpopwoj.drop(['TERYT'], axis='columns', inplace=True)\n",
    "dfpopwoj.index = dfpopwoj['Województwo']\n",
    "dfpopwoj.drop(['Województwo'], axis='columns' , inplace = True)\n",
    "pop_dict = dfpopwoj.to_dict()['Ludność']\n",
    "pop_dict"
   ]
  },
  {
   "cell_type": "code",
   "execution_count": 29,
   "metadata": {},
   "outputs": [],
   "source": [
    " def prepare_df(deaths_df: pd.DataFrame, from_date : datetime.date) -> pd.DataFrame:\n",
    "    base_df = deaths_df[deaths_df['data_rap_zgonu'] >= pd.to_datetime(from_date)]\n",
    "\n",
    "    df = base_df.groupby('Województwo').sum()\n",
    "    df.drop(['wiek', 'teryt_pow', 'teryt_woj'], axis = 'columns' , inplace=True)\n",
    "    df['Województwo'] = df.index\n",
    "    df['Ludność'] = df['Województwo'].replace(pop_dict)\n",
    "    # df\n",
    "\n",
    "    Q = f'(w_pelni_zaszczepiony == \"N\")'\n",
    "\n",
    "    df1 = base_df.query(Q).groupby('Województwo').sum()\n",
    "    df1.drop(['wiek', 'teryt_pow', 'teryt_woj'], axis = 'columns' , inplace=True)\n",
    "    df['Zgony nie w pełni zaszczepionych'] = df1\n",
    "\n",
    "    Q = f'(w_pelni_zaszczepiony == \"T\")'\n",
    "\n",
    "    df1 = base_df.query(Q).groupby('Województwo').sum()\n",
    "    df1.drop(['wiek', 'teryt_pow', 'teryt_woj'], axis = 'columns' , inplace=True)\n",
    "    df['Zgony w pełni zaszczepionych'] = df1\n",
    "\n",
    "\n",
    "\n",
    "\n",
    "    df['Zgony nie w pełni zaszczepionych na 100 tys. mieszkańców'] = df['Zgony nie w pełni zaszczepionych'] / df['Ludność'] * 1e5\n",
    "    df['Zgony w pełni zaszczepionych na 100 tys. mieszkańców'] = df['Zgony w pełni zaszczepionych'] / df['Ludność'] * 1e5\n",
    "\n",
    "    df = df.sort_values(['Zgony nie w pełni zaszczepionych na 100 tys. mieszkańców'], ascending=False)\n",
    "    return df"
   ]
  },
  {
   "cell_type": "code",
   "execution_count": 30,
   "metadata": {},
   "outputs": [],
   "source": [
    "def plot_df(from_date : datetime.date, df : pd.DataFrame) -> pd.DataFrame:\n",
    "    nie = 'Zgony nie w pełni zaszczepionych na 100 tys. mieszkańców'\n",
    "    tak = 'Zgony w pełni zaszczepionych na 100 tys. mieszkańców'\n",
    "\n",
    "    fig = go.Figure(\n",
    "        data=[\n",
    "            go.Bar(\n",
    "                name = nie, \n",
    "                x=df['Województwo'], \n",
    "                y=df[nie], \n",
    "                offsetgroup=1,\n",
    "                text = df[nie]\n",
    "                ),\n",
    "            go.Bar(\n",
    "                name = tak, \n",
    "                x=df['Województwo'], \n",
    "                y=df[tak], \n",
    "                offsetgroup=2,\n",
    "                text = df[tak]\n",
    "                )\n",
    "        ]\n",
    "    )\n",
    "\n",
    "    fig.update_traces(\n",
    "        texttemplate='%{text:2.1f}', \n",
    "        textposition='outside',\n",
    "        )\n",
    "\n",
    "    fig.update_layout(\n",
    "        barmode='group', \n",
    "        width=800, \n",
    "        height=500,\n",
    "        title = \"Liczba zgonów na COVID-19 w województwach na 100 tys. mieszkańców<br>\\\n",
    "        w podziale na w pełni zaszczepionych i nie w pełni zaszczepionych<br>(Od \" + str(from_date) + \")\",\n",
    "        yaxis_title=\"Liczba zgonów na 100 tys.\",\n",
    "        legend_title=\"\",\n",
    "        uniformtext_minsize=6, \n",
    "        uniformtext_mode='show',\n",
    "        legend=dict(\n",
    "            y=-0.5,\n",
    "            xanchor=\"center\",\n",
    "            x=0.5\n",
    "            ),\n",
    "        title_xanchor='center',\n",
    "        title_x = 0.5,\n",
    "        title_font_size=16\n",
    "        )\n",
    "    fig.update_xaxes(tickangle=33)\n",
    "    fig.show()\n",
    "    fig.write_image(os.sep.join([image_dir, 'zgony_szczep_1e5_woj_od'+str(from_date)+'.jpg']), scale=4)\n",
    "    return\n"
   ]
  },
  {
   "cell_type": "code",
   "execution_count": 31,
   "metadata": {},
   "outputs": [
    {
     "data": {
      "application/vnd.plotly.v1+json": {
       "config": {
        "plotlyServerURL": "https://plot.ly"
       },
       "data": [
        {
         "name": "Zgony nie w pełni zaszczepionych na 100 tys. mieszkańców",
         "offsetgroup": "1",
         "text": [
          71.49477534508877,
          58.1273449099367,
          36.72399349622318,
          32.453771292028655,
          28.42528825211139,
          27.92689359853539,
          26.193413195286734,
          25.838425126809483,
          25.461433929761363,
          23.4280551987265,
          21.267180356945037,
          18.564976304056025,
          17.872302399356595,
          15.701640235095597,
          15.494647602255164,
          14.318155378406262
         ],
         "textposition": "outside",
         "texttemplate": "%{text:2.1f}",
         "type": "bar",
         "x": [
          "Lubelskie",
          "Podlaskie",
          "Podkarpackie",
          "Opolskie",
          "Łódzkie",
          "Świętokrzyskie",
          "Mazowieckie",
          "Warmińsko-Mazurskie",
          "Kujawsko-Pomorskie",
          "Małopolskie",
          "Zachodniopomorskie",
          "Śląskie",
          "Lubuskie",
          "Wielkopolskie",
          "Dolnośląskie",
          "Pomorskie"
         ],
         "y": [
          71.49477534508877,
          58.1273449099367,
          36.72399349622318,
          32.453771292028655,
          28.42528825211139,
          27.92689359853539,
          26.193413195286734,
          25.838425126809483,
          25.461433929761363,
          23.4280551987265,
          21.267180356945037,
          18.564976304056025,
          17.872302399356595,
          15.701640235095597,
          15.494647602255164,
          14.318155378406262
         ]
        },
        {
         "name": "Zgony w pełni zaszczepionych na 100 tys. mieszkańców",
         "offsetgroup": "2",
         "text": [
          20.188444573412916,
          16.193835092211106,
          7.731367051836458,
          12.080583635518554,
          8.941865568485257,
          9.717252450952373,
          10.525291298035697,
          11.154292814305734,
          11.736508592385237,
          9.441594210250228,
          9.537649129437748,
          8.859545046779733,
          6.95033982197201,
          6.892705458393514,
          5.637561515999088,
          7.627826823615241
         ],
         "textposition": "outside",
         "texttemplate": "%{text:2.1f}",
         "type": "bar",
         "x": [
          "Lubelskie",
          "Podlaskie",
          "Podkarpackie",
          "Opolskie",
          "Łódzkie",
          "Świętokrzyskie",
          "Mazowieckie",
          "Warmińsko-Mazurskie",
          "Kujawsko-Pomorskie",
          "Małopolskie",
          "Zachodniopomorskie",
          "Śląskie",
          "Lubuskie",
          "Wielkopolskie",
          "Dolnośląskie",
          "Pomorskie"
         ],
         "y": [
          20.188444573412916,
          16.193835092211106,
          7.731367051836458,
          12.080583635518554,
          8.941865568485257,
          9.717252450952373,
          10.525291298035697,
          11.154292814305734,
          11.736508592385237,
          9.441594210250228,
          9.537649129437748,
          8.859545046779733,
          6.95033982197201,
          6.892705458393514,
          5.637561515999088,
          7.627826823615241
         ]
        }
       ],
       "layout": {
        "barmode": "group",
        "height": 500,
        "legend": {
         "title": {
          "text": ""
         },
         "x": 0.5,
         "xanchor": "center",
         "y": -0.5
        },
        "template": {
         "data": {
          "bar": [
           {
            "error_x": {
             "color": "#2a3f5f"
            },
            "error_y": {
             "color": "#2a3f5f"
            },
            "marker": {
             "line": {
              "color": "#E5ECF6",
              "width": 0.5
             }
            },
            "type": "bar"
           }
          ],
          "barpolar": [
           {
            "marker": {
             "line": {
              "color": "#E5ECF6",
              "width": 0.5
             }
            },
            "type": "barpolar"
           }
          ],
          "carpet": [
           {
            "aaxis": {
             "endlinecolor": "#2a3f5f",
             "gridcolor": "white",
             "linecolor": "white",
             "minorgridcolor": "white",
             "startlinecolor": "#2a3f5f"
            },
            "baxis": {
             "endlinecolor": "#2a3f5f",
             "gridcolor": "white",
             "linecolor": "white",
             "minorgridcolor": "white",
             "startlinecolor": "#2a3f5f"
            },
            "type": "carpet"
           }
          ],
          "choropleth": [
           {
            "colorbar": {
             "outlinewidth": 0,
             "ticks": ""
            },
            "type": "choropleth"
           }
          ],
          "contour": [
           {
            "colorbar": {
             "outlinewidth": 0,
             "ticks": ""
            },
            "colorscale": [
             [
              0,
              "#0d0887"
             ],
             [
              0.1111111111111111,
              "#46039f"
             ],
             [
              0.2222222222222222,
              "#7201a8"
             ],
             [
              0.3333333333333333,
              "#9c179e"
             ],
             [
              0.4444444444444444,
              "#bd3786"
             ],
             [
              0.5555555555555556,
              "#d8576b"
             ],
             [
              0.6666666666666666,
              "#ed7953"
             ],
             [
              0.7777777777777778,
              "#fb9f3a"
             ],
             [
              0.8888888888888888,
              "#fdca26"
             ],
             [
              1,
              "#f0f921"
             ]
            ],
            "type": "contour"
           }
          ],
          "contourcarpet": [
           {
            "colorbar": {
             "outlinewidth": 0,
             "ticks": ""
            },
            "type": "contourcarpet"
           }
          ],
          "heatmap": [
           {
            "colorbar": {
             "outlinewidth": 0,
             "ticks": ""
            },
            "colorscale": [
             [
              0,
              "#0d0887"
             ],
             [
              0.1111111111111111,
              "#46039f"
             ],
             [
              0.2222222222222222,
              "#7201a8"
             ],
             [
              0.3333333333333333,
              "#9c179e"
             ],
             [
              0.4444444444444444,
              "#bd3786"
             ],
             [
              0.5555555555555556,
              "#d8576b"
             ],
             [
              0.6666666666666666,
              "#ed7953"
             ],
             [
              0.7777777777777778,
              "#fb9f3a"
             ],
             [
              0.8888888888888888,
              "#fdca26"
             ],
             [
              1,
              "#f0f921"
             ]
            ],
            "type": "heatmap"
           }
          ],
          "heatmapgl": [
           {
            "colorbar": {
             "outlinewidth": 0,
             "ticks": ""
            },
            "colorscale": [
             [
              0,
              "#0d0887"
             ],
             [
              0.1111111111111111,
              "#46039f"
             ],
             [
              0.2222222222222222,
              "#7201a8"
             ],
             [
              0.3333333333333333,
              "#9c179e"
             ],
             [
              0.4444444444444444,
              "#bd3786"
             ],
             [
              0.5555555555555556,
              "#d8576b"
             ],
             [
              0.6666666666666666,
              "#ed7953"
             ],
             [
              0.7777777777777778,
              "#fb9f3a"
             ],
             [
              0.8888888888888888,
              "#fdca26"
             ],
             [
              1,
              "#f0f921"
             ]
            ],
            "type": "heatmapgl"
           }
          ],
          "histogram": [
           {
            "marker": {
             "colorbar": {
              "outlinewidth": 0,
              "ticks": ""
             }
            },
            "type": "histogram"
           }
          ],
          "histogram2d": [
           {
            "colorbar": {
             "outlinewidth": 0,
             "ticks": ""
            },
            "colorscale": [
             [
              0,
              "#0d0887"
             ],
             [
              0.1111111111111111,
              "#46039f"
             ],
             [
              0.2222222222222222,
              "#7201a8"
             ],
             [
              0.3333333333333333,
              "#9c179e"
             ],
             [
              0.4444444444444444,
              "#bd3786"
             ],
             [
              0.5555555555555556,
              "#d8576b"
             ],
             [
              0.6666666666666666,
              "#ed7953"
             ],
             [
              0.7777777777777778,
              "#fb9f3a"
             ],
             [
              0.8888888888888888,
              "#fdca26"
             ],
             [
              1,
              "#f0f921"
             ]
            ],
            "type": "histogram2d"
           }
          ],
          "histogram2dcontour": [
           {
            "colorbar": {
             "outlinewidth": 0,
             "ticks": ""
            },
            "colorscale": [
             [
              0,
              "#0d0887"
             ],
             [
              0.1111111111111111,
              "#46039f"
             ],
             [
              0.2222222222222222,
              "#7201a8"
             ],
             [
              0.3333333333333333,
              "#9c179e"
             ],
             [
              0.4444444444444444,
              "#bd3786"
             ],
             [
              0.5555555555555556,
              "#d8576b"
             ],
             [
              0.6666666666666666,
              "#ed7953"
             ],
             [
              0.7777777777777778,
              "#fb9f3a"
             ],
             [
              0.8888888888888888,
              "#fdca26"
             ],
             [
              1,
              "#f0f921"
             ]
            ],
            "type": "histogram2dcontour"
           }
          ],
          "mesh3d": [
           {
            "colorbar": {
             "outlinewidth": 0,
             "ticks": ""
            },
            "type": "mesh3d"
           }
          ],
          "parcoords": [
           {
            "line": {
             "colorbar": {
              "outlinewidth": 0,
              "ticks": ""
             }
            },
            "type": "parcoords"
           }
          ],
          "pie": [
           {
            "automargin": true,
            "type": "pie"
           }
          ],
          "scatter": [
           {
            "marker": {
             "colorbar": {
              "outlinewidth": 0,
              "ticks": ""
             }
            },
            "type": "scatter"
           }
          ],
          "scatter3d": [
           {
            "line": {
             "colorbar": {
              "outlinewidth": 0,
              "ticks": ""
             }
            },
            "marker": {
             "colorbar": {
              "outlinewidth": 0,
              "ticks": ""
             }
            },
            "type": "scatter3d"
           }
          ],
          "scattercarpet": [
           {
            "marker": {
             "colorbar": {
              "outlinewidth": 0,
              "ticks": ""
             }
            },
            "type": "scattercarpet"
           }
          ],
          "scattergeo": [
           {
            "marker": {
             "colorbar": {
              "outlinewidth": 0,
              "ticks": ""
             }
            },
            "type": "scattergeo"
           }
          ],
          "scattergl": [
           {
            "marker": {
             "colorbar": {
              "outlinewidth": 0,
              "ticks": ""
             }
            },
            "type": "scattergl"
           }
          ],
          "scattermapbox": [
           {
            "marker": {
             "colorbar": {
              "outlinewidth": 0,
              "ticks": ""
             }
            },
            "type": "scattermapbox"
           }
          ],
          "scatterpolar": [
           {
            "marker": {
             "colorbar": {
              "outlinewidth": 0,
              "ticks": ""
             }
            },
            "type": "scatterpolar"
           }
          ],
          "scatterpolargl": [
           {
            "marker": {
             "colorbar": {
              "outlinewidth": 0,
              "ticks": ""
             }
            },
            "type": "scatterpolargl"
           }
          ],
          "scatterternary": [
           {
            "marker": {
             "colorbar": {
              "outlinewidth": 0,
              "ticks": ""
             }
            },
            "type": "scatterternary"
           }
          ],
          "surface": [
           {
            "colorbar": {
             "outlinewidth": 0,
             "ticks": ""
            },
            "colorscale": [
             [
              0,
              "#0d0887"
             ],
             [
              0.1111111111111111,
              "#46039f"
             ],
             [
              0.2222222222222222,
              "#7201a8"
             ],
             [
              0.3333333333333333,
              "#9c179e"
             ],
             [
              0.4444444444444444,
              "#bd3786"
             ],
             [
              0.5555555555555556,
              "#d8576b"
             ],
             [
              0.6666666666666666,
              "#ed7953"
             ],
             [
              0.7777777777777778,
              "#fb9f3a"
             ],
             [
              0.8888888888888888,
              "#fdca26"
             ],
             [
              1,
              "#f0f921"
             ]
            ],
            "type": "surface"
           }
          ],
          "table": [
           {
            "cells": {
             "fill": {
              "color": "#EBF0F8"
             },
             "line": {
              "color": "white"
             }
            },
            "header": {
             "fill": {
              "color": "#C8D4E3"
             },
             "line": {
              "color": "white"
             }
            },
            "type": "table"
           }
          ]
         },
         "layout": {
          "annotationdefaults": {
           "arrowcolor": "#2a3f5f",
           "arrowhead": 0,
           "arrowwidth": 1
          },
          "coloraxis": {
           "colorbar": {
            "outlinewidth": 0,
            "ticks": ""
           }
          },
          "colorscale": {
           "diverging": [
            [
             0,
             "#8e0152"
            ],
            [
             0.1,
             "#c51b7d"
            ],
            [
             0.2,
             "#de77ae"
            ],
            [
             0.3,
             "#f1b6da"
            ],
            [
             0.4,
             "#fde0ef"
            ],
            [
             0.5,
             "#f7f7f7"
            ],
            [
             0.6,
             "#e6f5d0"
            ],
            [
             0.7,
             "#b8e186"
            ],
            [
             0.8,
             "#7fbc41"
            ],
            [
             0.9,
             "#4d9221"
            ],
            [
             1,
             "#276419"
            ]
           ],
           "sequential": [
            [
             0,
             "#0d0887"
            ],
            [
             0.1111111111111111,
             "#46039f"
            ],
            [
             0.2222222222222222,
             "#7201a8"
            ],
            [
             0.3333333333333333,
             "#9c179e"
            ],
            [
             0.4444444444444444,
             "#bd3786"
            ],
            [
             0.5555555555555556,
             "#d8576b"
            ],
            [
             0.6666666666666666,
             "#ed7953"
            ],
            [
             0.7777777777777778,
             "#fb9f3a"
            ],
            [
             0.8888888888888888,
             "#fdca26"
            ],
            [
             1,
             "#f0f921"
            ]
           ],
           "sequentialminus": [
            [
             0,
             "#0d0887"
            ],
            [
             0.1111111111111111,
             "#46039f"
            ],
            [
             0.2222222222222222,
             "#7201a8"
            ],
            [
             0.3333333333333333,
             "#9c179e"
            ],
            [
             0.4444444444444444,
             "#bd3786"
            ],
            [
             0.5555555555555556,
             "#d8576b"
            ],
            [
             0.6666666666666666,
             "#ed7953"
            ],
            [
             0.7777777777777778,
             "#fb9f3a"
            ],
            [
             0.8888888888888888,
             "#fdca26"
            ],
            [
             1,
             "#f0f921"
            ]
           ]
          },
          "colorway": [
           "#636efa",
           "#EF553B",
           "#00cc96",
           "#ab63fa",
           "#FFA15A",
           "#19d3f3",
           "#FF6692",
           "#B6E880",
           "#FF97FF",
           "#FECB52"
          ],
          "font": {
           "color": "#2a3f5f"
          },
          "geo": {
           "bgcolor": "white",
           "lakecolor": "white",
           "landcolor": "#E5ECF6",
           "showlakes": true,
           "showland": true,
           "subunitcolor": "white"
          },
          "hoverlabel": {
           "align": "left"
          },
          "hovermode": "closest",
          "mapbox": {
           "style": "light"
          },
          "paper_bgcolor": "white",
          "plot_bgcolor": "#E5ECF6",
          "polar": {
           "angularaxis": {
            "gridcolor": "white",
            "linecolor": "white",
            "ticks": ""
           },
           "bgcolor": "#E5ECF6",
           "radialaxis": {
            "gridcolor": "white",
            "linecolor": "white",
            "ticks": ""
           }
          },
          "scene": {
           "xaxis": {
            "backgroundcolor": "#E5ECF6",
            "gridcolor": "white",
            "gridwidth": 2,
            "linecolor": "white",
            "showbackground": true,
            "ticks": "",
            "zerolinecolor": "white"
           },
           "yaxis": {
            "backgroundcolor": "#E5ECF6",
            "gridcolor": "white",
            "gridwidth": 2,
            "linecolor": "white",
            "showbackground": true,
            "ticks": "",
            "zerolinecolor": "white"
           },
           "zaxis": {
            "backgroundcolor": "#E5ECF6",
            "gridcolor": "white",
            "gridwidth": 2,
            "linecolor": "white",
            "showbackground": true,
            "ticks": "",
            "zerolinecolor": "white"
           }
          },
          "shapedefaults": {
           "line": {
            "color": "#2a3f5f"
           }
          },
          "ternary": {
           "aaxis": {
            "gridcolor": "white",
            "linecolor": "white",
            "ticks": ""
           },
           "baxis": {
            "gridcolor": "white",
            "linecolor": "white",
            "ticks": ""
           },
           "bgcolor": "#E5ECF6",
           "caxis": {
            "gridcolor": "white",
            "linecolor": "white",
            "ticks": ""
           }
          },
          "title": {
           "x": 0.05
          },
          "xaxis": {
           "automargin": true,
           "gridcolor": "white",
           "linecolor": "white",
           "ticks": "",
           "title": {
            "standoff": 15
           },
           "zerolinecolor": "white",
           "zerolinewidth": 2
          },
          "yaxis": {
           "automargin": true,
           "gridcolor": "white",
           "linecolor": "white",
           "ticks": "",
           "title": {
            "standoff": 15
           },
           "zerolinecolor": "white",
           "zerolinewidth": 2
          }
         }
        },
        "title": {
         "font": {
          "size": 16
         },
         "text": "Liczba zgonów na COVID-19 w województwach na 100 tys. mieszkańców<br>        w podziale na w pełni zaszczepionych i nie w pełni zaszczepionych<br>(Od 2021-07-14)",
         "x": 0.5,
         "xanchor": "center"
        },
        "uniformtext": {
         "minsize": 6,
         "mode": "show"
        },
        "width": 800,
        "xaxis": {
         "tickangle": 33
        },
        "yaxis": {
         "title": {
          "text": "Liczba zgonów na 100 tys."
         }
        }
       }
      }
     },
     "metadata": {},
     "output_type": "display_data"
    }
   ],
   "source": [
    "from_date = datetime.date(2021,7,14)\n",
    "\n",
    "df = prepare_df(dfd, from_date)\n",
    "plot_df(from_date, df)"
   ]
  },
  {
   "cell_type": "code",
   "execution_count": 32,
   "metadata": {},
   "outputs": [
    {
     "data": {
      "application/vnd.plotly.v1+json": {
       "config": {
        "plotlyServerURL": "https://plot.ly"
       },
       "data": [
        {
         "name": "Zgony nie w pełni zaszczepionych na 100 tys. mieszkańców",
         "offsetgroup": "1",
         "text": [
          196.8254028859453,
          180.55794003905055,
          164.83619509650674,
          160.7837821506321,
          158.4925163148029,
          157.59731740420293,
          152.77145348201017,
          152.31173267007233,
          149.9444608922319,
          139.11252842168486,
          136.6616794599669,
          134.80114757011393,
          132.6816643358648,
          131.86836622440015,
          115.32232928234208,
          115.10309647389549
         ],
         "textposition": "outside",
         "texttemplate": "%{text:2.1f}",
         "type": "bar",
         "x": [
          "Lubelskie",
          "Kujawsko-Pomorskie",
          "Podlaskie",
          "Świętokrzyskie",
          "Łódzkie",
          "Podkarpackie",
          "Warmińsko-Mazurskie",
          "Lubuskie",
          "Śląskie",
          "Wielkopolskie",
          "Pomorskie",
          "Mazowieckie",
          "Opolskie",
          "Zachodniopomorskie",
          "Małopolskie",
          "Dolnośląskie"
         ],
         "y": [
          196.8254028859453,
          180.55794003905055,
          164.83619509650674,
          160.7837821506321,
          158.4925163148029,
          157.59731740420293,
          152.77145348201017,
          152.31173267007233,
          149.9444608922319,
          139.11252842168486,
          136.6616794599669,
          134.80114757011393,
          132.6816643358648,
          131.86836622440015,
          115.32232928234208,
          115.10309647389549
         ]
        },
        {
         "name": "Zgony w pełni zaszczepionych na 100 tys. mieszkańców",
         "offsetgroup": "2",
         "text": [
          22.145244165634974,
          14.064411123106277,
          18.409833578513677,
          11.350404123381344,
          11.115805362658277,
          9.192783994561642,
          12.56622861358494,
          8.340407786366411,
          10.729398775245807,
          9.06633871498234,
          9.289755572894538,
          12.0736704031758,
          13.718628874232934,
          11.018650547052305,
          11.054288873491727,
          7.678151267188942
         ],
         "textposition": "outside",
         "texttemplate": "%{text:2.1f}",
         "type": "bar",
         "x": [
          "Lubelskie",
          "Kujawsko-Pomorskie",
          "Podlaskie",
          "Świętokrzyskie",
          "Łódzkie",
          "Podkarpackie",
          "Warmińsko-Mazurskie",
          "Lubuskie",
          "Śląskie",
          "Wielkopolskie",
          "Pomorskie",
          "Mazowieckie",
          "Opolskie",
          "Zachodniopomorskie",
          "Małopolskie",
          "Dolnośląskie"
         ],
         "y": [
          22.145244165634974,
          14.064411123106277,
          18.409833578513677,
          11.350404123381344,
          11.115805362658277,
          9.192783994561642,
          12.56622861358494,
          8.340407786366411,
          10.729398775245807,
          9.06633871498234,
          9.289755572894538,
          12.0736704031758,
          13.718628874232934,
          11.018650547052305,
          11.054288873491727,
          7.678151267188942
         ]
        }
       ],
       "layout": {
        "barmode": "group",
        "height": 500,
        "legend": {
         "title": {
          "text": ""
         },
         "x": 0.5,
         "xanchor": "center",
         "y": -0.5
        },
        "template": {
         "data": {
          "bar": [
           {
            "error_x": {
             "color": "#2a3f5f"
            },
            "error_y": {
             "color": "#2a3f5f"
            },
            "marker": {
             "line": {
              "color": "#E5ECF6",
              "width": 0.5
             }
            },
            "type": "bar"
           }
          ],
          "barpolar": [
           {
            "marker": {
             "line": {
              "color": "#E5ECF6",
              "width": 0.5
             }
            },
            "type": "barpolar"
           }
          ],
          "carpet": [
           {
            "aaxis": {
             "endlinecolor": "#2a3f5f",
             "gridcolor": "white",
             "linecolor": "white",
             "minorgridcolor": "white",
             "startlinecolor": "#2a3f5f"
            },
            "baxis": {
             "endlinecolor": "#2a3f5f",
             "gridcolor": "white",
             "linecolor": "white",
             "minorgridcolor": "white",
             "startlinecolor": "#2a3f5f"
            },
            "type": "carpet"
           }
          ],
          "choropleth": [
           {
            "colorbar": {
             "outlinewidth": 0,
             "ticks": ""
            },
            "type": "choropleth"
           }
          ],
          "contour": [
           {
            "colorbar": {
             "outlinewidth": 0,
             "ticks": ""
            },
            "colorscale": [
             [
              0,
              "#0d0887"
             ],
             [
              0.1111111111111111,
              "#46039f"
             ],
             [
              0.2222222222222222,
              "#7201a8"
             ],
             [
              0.3333333333333333,
              "#9c179e"
             ],
             [
              0.4444444444444444,
              "#bd3786"
             ],
             [
              0.5555555555555556,
              "#d8576b"
             ],
             [
              0.6666666666666666,
              "#ed7953"
             ],
             [
              0.7777777777777778,
              "#fb9f3a"
             ],
             [
              0.8888888888888888,
              "#fdca26"
             ],
             [
              1,
              "#f0f921"
             ]
            ],
            "type": "contour"
           }
          ],
          "contourcarpet": [
           {
            "colorbar": {
             "outlinewidth": 0,
             "ticks": ""
            },
            "type": "contourcarpet"
           }
          ],
          "heatmap": [
           {
            "colorbar": {
             "outlinewidth": 0,
             "ticks": ""
            },
            "colorscale": [
             [
              0,
              "#0d0887"
             ],
             [
              0.1111111111111111,
              "#46039f"
             ],
             [
              0.2222222222222222,
              "#7201a8"
             ],
             [
              0.3333333333333333,
              "#9c179e"
             ],
             [
              0.4444444444444444,
              "#bd3786"
             ],
             [
              0.5555555555555556,
              "#d8576b"
             ],
             [
              0.6666666666666666,
              "#ed7953"
             ],
             [
              0.7777777777777778,
              "#fb9f3a"
             ],
             [
              0.8888888888888888,
              "#fdca26"
             ],
             [
              1,
              "#f0f921"
             ]
            ],
            "type": "heatmap"
           }
          ],
          "heatmapgl": [
           {
            "colorbar": {
             "outlinewidth": 0,
             "ticks": ""
            },
            "colorscale": [
             [
              0,
              "#0d0887"
             ],
             [
              0.1111111111111111,
              "#46039f"
             ],
             [
              0.2222222222222222,
              "#7201a8"
             ],
             [
              0.3333333333333333,
              "#9c179e"
             ],
             [
              0.4444444444444444,
              "#bd3786"
             ],
             [
              0.5555555555555556,
              "#d8576b"
             ],
             [
              0.6666666666666666,
              "#ed7953"
             ],
             [
              0.7777777777777778,
              "#fb9f3a"
             ],
             [
              0.8888888888888888,
              "#fdca26"
             ],
             [
              1,
              "#f0f921"
             ]
            ],
            "type": "heatmapgl"
           }
          ],
          "histogram": [
           {
            "marker": {
             "colorbar": {
              "outlinewidth": 0,
              "ticks": ""
             }
            },
            "type": "histogram"
           }
          ],
          "histogram2d": [
           {
            "colorbar": {
             "outlinewidth": 0,
             "ticks": ""
            },
            "colorscale": [
             [
              0,
              "#0d0887"
             ],
             [
              0.1111111111111111,
              "#46039f"
             ],
             [
              0.2222222222222222,
              "#7201a8"
             ],
             [
              0.3333333333333333,
              "#9c179e"
             ],
             [
              0.4444444444444444,
              "#bd3786"
             ],
             [
              0.5555555555555556,
              "#d8576b"
             ],
             [
              0.6666666666666666,
              "#ed7953"
             ],
             [
              0.7777777777777778,
              "#fb9f3a"
             ],
             [
              0.8888888888888888,
              "#fdca26"
             ],
             [
              1,
              "#f0f921"
             ]
            ],
            "type": "histogram2d"
           }
          ],
          "histogram2dcontour": [
           {
            "colorbar": {
             "outlinewidth": 0,
             "ticks": ""
            },
            "colorscale": [
             [
              0,
              "#0d0887"
             ],
             [
              0.1111111111111111,
              "#46039f"
             ],
             [
              0.2222222222222222,
              "#7201a8"
             ],
             [
              0.3333333333333333,
              "#9c179e"
             ],
             [
              0.4444444444444444,
              "#bd3786"
             ],
             [
              0.5555555555555556,
              "#d8576b"
             ],
             [
              0.6666666666666666,
              "#ed7953"
             ],
             [
              0.7777777777777778,
              "#fb9f3a"
             ],
             [
              0.8888888888888888,
              "#fdca26"
             ],
             [
              1,
              "#f0f921"
             ]
            ],
            "type": "histogram2dcontour"
           }
          ],
          "mesh3d": [
           {
            "colorbar": {
             "outlinewidth": 0,
             "ticks": ""
            },
            "type": "mesh3d"
           }
          ],
          "parcoords": [
           {
            "line": {
             "colorbar": {
              "outlinewidth": 0,
              "ticks": ""
             }
            },
            "type": "parcoords"
           }
          ],
          "pie": [
           {
            "automargin": true,
            "type": "pie"
           }
          ],
          "scatter": [
           {
            "marker": {
             "colorbar": {
              "outlinewidth": 0,
              "ticks": ""
             }
            },
            "type": "scatter"
           }
          ],
          "scatter3d": [
           {
            "line": {
             "colorbar": {
              "outlinewidth": 0,
              "ticks": ""
             }
            },
            "marker": {
             "colorbar": {
              "outlinewidth": 0,
              "ticks": ""
             }
            },
            "type": "scatter3d"
           }
          ],
          "scattercarpet": [
           {
            "marker": {
             "colorbar": {
              "outlinewidth": 0,
              "ticks": ""
             }
            },
            "type": "scattercarpet"
           }
          ],
          "scattergeo": [
           {
            "marker": {
             "colorbar": {
              "outlinewidth": 0,
              "ticks": ""
             }
            },
            "type": "scattergeo"
           }
          ],
          "scattergl": [
           {
            "marker": {
             "colorbar": {
              "outlinewidth": 0,
              "ticks": ""
             }
            },
            "type": "scattergl"
           }
          ],
          "scattermapbox": [
           {
            "marker": {
             "colorbar": {
              "outlinewidth": 0,
              "ticks": ""
             }
            },
            "type": "scattermapbox"
           }
          ],
          "scatterpolar": [
           {
            "marker": {
             "colorbar": {
              "outlinewidth": 0,
              "ticks": ""
             }
            },
            "type": "scatterpolar"
           }
          ],
          "scatterpolargl": [
           {
            "marker": {
             "colorbar": {
              "outlinewidth": 0,
              "ticks": ""
             }
            },
            "type": "scatterpolargl"
           }
          ],
          "scatterternary": [
           {
            "marker": {
             "colorbar": {
              "outlinewidth": 0,
              "ticks": ""
             }
            },
            "type": "scatterternary"
           }
          ],
          "surface": [
           {
            "colorbar": {
             "outlinewidth": 0,
             "ticks": ""
            },
            "colorscale": [
             [
              0,
              "#0d0887"
             ],
             [
              0.1111111111111111,
              "#46039f"
             ],
             [
              0.2222222222222222,
              "#7201a8"
             ],
             [
              0.3333333333333333,
              "#9c179e"
             ],
             [
              0.4444444444444444,
              "#bd3786"
             ],
             [
              0.5555555555555556,
              "#d8576b"
             ],
             [
              0.6666666666666666,
              "#ed7953"
             ],
             [
              0.7777777777777778,
              "#fb9f3a"
             ],
             [
              0.8888888888888888,
              "#fdca26"
             ],
             [
              1,
              "#f0f921"
             ]
            ],
            "type": "surface"
           }
          ],
          "table": [
           {
            "cells": {
             "fill": {
              "color": "#EBF0F8"
             },
             "line": {
              "color": "white"
             }
            },
            "header": {
             "fill": {
              "color": "#C8D4E3"
             },
             "line": {
              "color": "white"
             }
            },
            "type": "table"
           }
          ]
         },
         "layout": {
          "annotationdefaults": {
           "arrowcolor": "#2a3f5f",
           "arrowhead": 0,
           "arrowwidth": 1
          },
          "coloraxis": {
           "colorbar": {
            "outlinewidth": 0,
            "ticks": ""
           }
          },
          "colorscale": {
           "diverging": [
            [
             0,
             "#8e0152"
            ],
            [
             0.1,
             "#c51b7d"
            ],
            [
             0.2,
             "#de77ae"
            ],
            [
             0.3,
             "#f1b6da"
            ],
            [
             0.4,
             "#fde0ef"
            ],
            [
             0.5,
             "#f7f7f7"
            ],
            [
             0.6,
             "#e6f5d0"
            ],
            [
             0.7,
             "#b8e186"
            ],
            [
             0.8,
             "#7fbc41"
            ],
            [
             0.9,
             "#4d9221"
            ],
            [
             1,
             "#276419"
            ]
           ],
           "sequential": [
            [
             0,
             "#0d0887"
            ],
            [
             0.1111111111111111,
             "#46039f"
            ],
            [
             0.2222222222222222,
             "#7201a8"
            ],
            [
             0.3333333333333333,
             "#9c179e"
            ],
            [
             0.4444444444444444,
             "#bd3786"
            ],
            [
             0.5555555555555556,
             "#d8576b"
            ],
            [
             0.6666666666666666,
             "#ed7953"
            ],
            [
             0.7777777777777778,
             "#fb9f3a"
            ],
            [
             0.8888888888888888,
             "#fdca26"
            ],
            [
             1,
             "#f0f921"
            ]
           ],
           "sequentialminus": [
            [
             0,
             "#0d0887"
            ],
            [
             0.1111111111111111,
             "#46039f"
            ],
            [
             0.2222222222222222,
             "#7201a8"
            ],
            [
             0.3333333333333333,
             "#9c179e"
            ],
            [
             0.4444444444444444,
             "#bd3786"
            ],
            [
             0.5555555555555556,
             "#d8576b"
            ],
            [
             0.6666666666666666,
             "#ed7953"
            ],
            [
             0.7777777777777778,
             "#fb9f3a"
            ],
            [
             0.8888888888888888,
             "#fdca26"
            ],
            [
             1,
             "#f0f921"
            ]
           ]
          },
          "colorway": [
           "#636efa",
           "#EF553B",
           "#00cc96",
           "#ab63fa",
           "#FFA15A",
           "#19d3f3",
           "#FF6692",
           "#B6E880",
           "#FF97FF",
           "#FECB52"
          ],
          "font": {
           "color": "#2a3f5f"
          },
          "geo": {
           "bgcolor": "white",
           "lakecolor": "white",
           "landcolor": "#E5ECF6",
           "showlakes": true,
           "showland": true,
           "subunitcolor": "white"
          },
          "hoverlabel": {
           "align": "left"
          },
          "hovermode": "closest",
          "mapbox": {
           "style": "light"
          },
          "paper_bgcolor": "white",
          "plot_bgcolor": "#E5ECF6",
          "polar": {
           "angularaxis": {
            "gridcolor": "white",
            "linecolor": "white",
            "ticks": ""
           },
           "bgcolor": "#E5ECF6",
           "radialaxis": {
            "gridcolor": "white",
            "linecolor": "white",
            "ticks": ""
           }
          },
          "scene": {
           "xaxis": {
            "backgroundcolor": "#E5ECF6",
            "gridcolor": "white",
            "gridwidth": 2,
            "linecolor": "white",
            "showbackground": true,
            "ticks": "",
            "zerolinecolor": "white"
           },
           "yaxis": {
            "backgroundcolor": "#E5ECF6",
            "gridcolor": "white",
            "gridwidth": 2,
            "linecolor": "white",
            "showbackground": true,
            "ticks": "",
            "zerolinecolor": "white"
           },
           "zaxis": {
            "backgroundcolor": "#E5ECF6",
            "gridcolor": "white",
            "gridwidth": 2,
            "linecolor": "white",
            "showbackground": true,
            "ticks": "",
            "zerolinecolor": "white"
           }
          },
          "shapedefaults": {
           "line": {
            "color": "#2a3f5f"
           }
          },
          "ternary": {
           "aaxis": {
            "gridcolor": "white",
            "linecolor": "white",
            "ticks": ""
           },
           "baxis": {
            "gridcolor": "white",
            "linecolor": "white",
            "ticks": ""
           },
           "bgcolor": "#E5ECF6",
           "caxis": {
            "gridcolor": "white",
            "linecolor": "white",
            "ticks": ""
           }
          },
          "title": {
           "x": 0.05
          },
          "xaxis": {
           "automargin": true,
           "gridcolor": "white",
           "linecolor": "white",
           "ticks": "",
           "title": {
            "standoff": 15
           },
           "zerolinecolor": "white",
           "zerolinewidth": 2
          },
          "yaxis": {
           "automargin": true,
           "gridcolor": "white",
           "linecolor": "white",
           "ticks": "",
           "title": {
            "standoff": 15
           },
           "zerolinecolor": "white",
           "zerolinewidth": 2
          }
         }
        },
        "title": {
         "font": {
          "size": 16
         },
         "text": "Liczba zgonów na COVID-19 w województwach na 100 tys. mieszkańców<br>        w podziale na w pełni zaszczepionych i nie w pełni zaszczepionych<br>(Od 2021-01-01)",
         "x": 0.5,
         "xanchor": "center"
        },
        "uniformtext": {
         "minsize": 6,
         "mode": "show"
        },
        "width": 800,
        "xaxis": {
         "tickangle": 33
        },
        "yaxis": {
         "title": {
          "text": "Liczba zgonów na 100 tys."
         }
        }
       }
      }
     },
     "metadata": {},
     "output_type": "display_data"
    }
   ],
   "source": [
    "from_date = datetime.date(2021,1,1)\n",
    "\n",
    "df = prepare_df(dfd, from_date)\n",
    "plot_df(from_date, df)"
   ]
  },
  {
   "cell_type": "code",
   "execution_count": 62,
   "metadata": {},
   "outputs": [
    {
     "data": {
      "text/html": [
       "<div>\n",
       "<style scoped>\n",
       "    .dataframe tbody tr th:only-of-type {\n",
       "        vertical-align: middle;\n",
       "    }\n",
       "\n",
       "    .dataframe tbody tr th {\n",
       "        vertical-align: top;\n",
       "    }\n",
       "\n",
       "    .dataframe thead th {\n",
       "        text-align: right;\n",
       "    }\n",
       "</style>\n",
       "<table border=\"1\" class=\"dataframe\">\n",
       "  <thead>\n",
       "    <tr style=\"text-align: right;\">\n",
       "      <th></th>\n",
       "      <th>teryt_woj</th>\n",
       "      <th>teryt_pow</th>\n",
       "      <th>wiek</th>\n",
       "      <th>liczba_zaraportowanych_zgonow</th>\n",
       "    </tr>\n",
       "    <tr>\n",
       "      <th>dawka_ost</th>\n",
       "      <th></th>\n",
       "      <th></th>\n",
       "      <th></th>\n",
       "      <th></th>\n",
       "    </tr>\n",
       "  </thead>\n",
       "  <tbody>\n",
       "    <tr>\n",
       "      <th>jedna_dawka</th>\n",
       "      <td>55094</td>\n",
       "      <td>5612188</td>\n",
       "      <td>252493.0</td>\n",
       "      <td>3269</td>\n",
       "    </tr>\n",
       "    <tr>\n",
       "      <th>pelna_dawka</th>\n",
       "      <td>69738</td>\n",
       "      <td>7105723</td>\n",
       "      <td>332369.0</td>\n",
       "      <td>4304</td>\n",
       "    </tr>\n",
       "    <tr>\n",
       "      <th>przypominajaca</th>\n",
       "      <td>1282</td>\n",
       "      <td>131001</td>\n",
       "      <td>7160.0</td>\n",
       "      <td>88</td>\n",
       "    </tr>\n",
       "    <tr>\n",
       "      <th>uzupełniająca</th>\n",
       "      <td>496</td>\n",
       "      <td>50672</td>\n",
       "      <td>2561.0</td>\n",
       "      <td>36</td>\n",
       "    </tr>\n",
       "  </tbody>\n",
       "</table>\n",
       "</div>"
      ],
      "text/plain": [
       "                teryt_woj  teryt_pow      wiek  liczba_zaraportowanych_zgonow\n",
       "dawka_ost                                                                    \n",
       "jedna_dawka         55094    5612188  252493.0                           3269\n",
       "pelna_dawka         69738    7105723  332369.0                           4304\n",
       "przypominajaca       1282     131001    7160.0                             88\n",
       "uzupełniająca         496      50672    2561.0                             36"
      ]
     },
     "execution_count": 62,
     "metadata": {},
     "output_type": "execute_result"
    }
   ],
   "source": [
    "dfd.groupby(['dawka_ost']).sum()"
   ]
  },
  {
   "cell_type": "code",
   "execution_count": 91,
   "metadata": {},
   "outputs": [
    {
     "data": {
      "text/html": [
       "<div>\n",
       "<style scoped>\n",
       "    .dataframe tbody tr th:only-of-type {\n",
       "        vertical-align: middle;\n",
       "    }\n",
       "\n",
       "    .dataframe tbody tr th {\n",
       "        vertical-align: top;\n",
       "    }\n",
       "\n",
       "    .dataframe thead th {\n",
       "        text-align: right;\n",
       "    }\n",
       "</style>\n",
       "<table border=\"1\" class=\"dataframe\">\n",
       "  <thead>\n",
       "    <tr style=\"text-align: right;\">\n",
       "      <th></th>\n",
       "      <th>0</th>\n",
       "    </tr>\n",
       "  </thead>\n",
       "  <tbody>\n",
       "    <tr>\n",
       "      <th>0</th>\n",
       "      <td>NaN</td>\n",
       "    </tr>\n",
       "    <tr>\n",
       "      <th>1</th>\n",
       "      <td>NaN</td>\n",
       "    </tr>\n",
       "    <tr>\n",
       "      <th>2</th>\n",
       "      <td>NaN</td>\n",
       "    </tr>\n",
       "    <tr>\n",
       "      <th>3</th>\n",
       "      <td>NaN</td>\n",
       "    </tr>\n",
       "    <tr>\n",
       "      <th>4</th>\n",
       "      <td>NaN</td>\n",
       "    </tr>\n",
       "    <tr>\n",
       "      <th>...</th>\n",
       "      <td>...</td>\n",
       "    </tr>\n",
       "    <tr>\n",
       "      <th>58975</th>\n",
       "      <td>NaN</td>\n",
       "    </tr>\n",
       "    <tr>\n",
       "      <th>58976</th>\n",
       "      <td>pelna_dawka</td>\n",
       "    </tr>\n",
       "    <tr>\n",
       "      <th>58977</th>\n",
       "      <td>pelna_dawka</td>\n",
       "    </tr>\n",
       "    <tr>\n",
       "      <th>58978</th>\n",
       "      <td>pelna_dawka</td>\n",
       "    </tr>\n",
       "    <tr>\n",
       "      <th>58979</th>\n",
       "      <td>pelna_dawka</td>\n",
       "    </tr>\n",
       "  </tbody>\n",
       "</table>\n",
       "<p>58980 rows × 1 columns</p>\n",
       "</div>"
      ],
      "text/plain": [
       "                 0\n",
       "0              NaN\n",
       "1              NaN\n",
       "2              NaN\n",
       "3              NaN\n",
       "4              NaN\n",
       "...            ...\n",
       "58975          NaN\n",
       "58976  pelna_dawka\n",
       "58977  pelna_dawka\n",
       "58978  pelna_dawka\n",
       "58979  pelna_dawka\n",
       "\n",
       "[58980 rows x 1 columns]"
      ]
     },
     "execution_count": 91,
     "metadata": {},
     "output_type": "execute_result"
    }
   ],
   "source": [
    "import numpy as np\n",
    "pd.DataFrame(dfd['dawka_ost'].to_numpy())"
   ]
  },
  {
   "cell_type": "code",
   "execution_count": 101,
   "metadata": {},
   "outputs": [
    {
     "data": {
      "text/plain": [
       "float"
      ]
     },
     "execution_count": 101,
     "metadata": {},
     "output_type": "execute_result"
    }
   ],
   "source": [
    "type(dfd['dawka_ost'][0])"
   ]
  },
  {
   "cell_type": "code",
   "execution_count": 114,
   "metadata": {},
   "outputs": [],
   "source": [
    "dfd_test = dfd.copy(deep=True)"
   ]
  },
  {
   "cell_type": "code",
   "execution_count": 116,
   "metadata": {},
   "outputs": [],
   "source": [
    "dfd_test['dawka_ost'] = dfd_test['dawka_ost'].to_string()\n",
    "dfd_test"
   ]
  },
  {
   "cell_type": "code",
   "execution_count": 112,
   "metadata": {},
   "outputs": [
    {
     "data": {
      "text/html": [
       "<div>\n",
       "<style scoped>\n",
       "    .dataframe tbody tr th:only-of-type {\n",
       "        vertical-align: middle;\n",
       "    }\n",
       "\n",
       "    .dataframe tbody tr th {\n",
       "        vertical-align: top;\n",
       "    }\n",
       "\n",
       "    .dataframe thead th {\n",
       "        text-align: right;\n",
       "    }\n",
       "</style>\n",
       "<table border=\"1\" class=\"dataframe\">\n",
       "  <thead>\n",
       "    <tr style=\"text-align: right;\">\n",
       "      <th></th>\n",
       "      <th>data_rap_zgonu</th>\n",
       "      <th>teryt_woj</th>\n",
       "      <th>teryt_pow</th>\n",
       "      <th>plec</th>\n",
       "      <th>wiek</th>\n",
       "      <th>kat_wiek</th>\n",
       "      <th>czy_wspolistniejace</th>\n",
       "      <th>producent</th>\n",
       "      <th>dawka_ost</th>\n",
       "      <th>obniz_odpornosc</th>\n",
       "      <th>liczba_zaraportowanych_zgonow</th>\n",
       "      <th>w_pelni_zaszczepiony</th>\n",
       "      <th>Województwo</th>\n",
       "    </tr>\n",
       "  </thead>\n",
       "  <tbody>\n",
       "  </tbody>\n",
       "</table>\n",
       "</div>"
      ],
      "text/plain": [
       "Empty DataFrame\n",
       "Columns: [data_rap_zgonu, teryt_woj, teryt_pow, plec, wiek, kat_wiek, czy_wspolistniejace, producent, dawka_ost, obniz_odpornosc, liczba_zaraportowanych_zgonow, w_pelni_zaszczepiony, Województwo]\n",
       "Index: []"
      ]
     },
     "execution_count": 112,
     "metadata": {},
     "output_type": "execute_result"
    }
   ],
   "source": [
    "dfd[dfd['dawka_ost'] == 'nan']"
   ]
  },
  {
   "cell_type": "code",
   "execution_count": null,
   "metadata": {},
   "outputs": [],
   "source": [
    " def prepare_df1(deaths_df: pd.DataFrame, from_date : datetime.date) -> pd.DataFrame:\n",
    "    base_df = deaths_df[deaths_df['data_rap_zgonu'] >= pd.to_datetime(from_date)]\n",
    "\n",
    "    df = base_df.groupby('Województwo').sum()\n",
    "    df.drop(['wiek', 'teryt_pow', 'teryt_woj'], axis = 'columns' , inplace=True)\n",
    "    df['Województwo'] = df.index\n",
    "    df['Ludność'] = df['Województwo'].replace(pop_dict)\n",
    "    # df\n",
    "\n",
    "    Q = f'(dawka_ost == \"jedna_dawka\")'\n",
    "\n",
    "    df1 = base_df.query(Q).groupby('Województwo').sum()\n",
    "    df1.drop(['wiek', 'teryt_pow', 'teryt_woj'], axis = 'columns' , inplace=True)\n",
    "    df['Jedna dawka'] = df1\n",
    "\n",
    "    Q = f'(dawka_ost == \"pelna_dawka\")'\n",
    "\n",
    "    df1 = base_df.query(Q).groupby('Województwo').sum()\n",
    "    df1.drop(['wiek', 'teryt_pow', 'teryt_woj'], axis = 'columns' , inplace=True)\n",
    "    df['Pełna dawka'] = df1\n",
    "\n",
    "    Q = f'(dawka_ost == \"przypominajaca\")'\n",
    "\n",
    "    df1 = base_df.query(Q).groupby('Województwo').sum()\n",
    "    df1.drop(['wiek', 'teryt_pow', 'teryt_woj'], axis = 'columns' , inplace=True)\n",
    "    df['Przypominająca'] = df1\n",
    "\n",
    "    Q = f'(dawka_ost == \"uzupełniająca\")'\n",
    "\n",
    "    df1 = base_df.query(Q).groupby('Województwo').sum()\n",
    "    df1.drop(['wiek', 'teryt_pow', 'teryt_woj'], axis = 'columns' , inplace=True)\n",
    "    df['Uzupełniająca'] = df1\n",
    "\n",
    "    df['Zgony po jednej dawce, na 100 tys. mieszkańców'] = df['Jedna dawka'] / df['Ludność'] * 1e5\n",
    "    df['Zgony po pełnej dawce, na 100 tys. mieszkańców'] = df['Pełna dawka'] / df['Ludność'] * 1e5\n",
    "    df['Zgony po dawce przypominającej, na 100 tys. mieszkańców'] = df['Przypominająca'] / df['Ludność'] * 1e5\n",
    "    df['Zgony po dawce uzupełniającej, na 100 tys. mieszkańców'] = df['Uzupełniająca'] / df['Ludność'] * 1e5\n",
    "\n",
    "    df = df.sort_values(['Zgony nie w pełni zaszczepionych na 100 tys. mieszkańców'], ascending=False)\n",
    "    return df"
   ]
  }
 ],
 "metadata": {
  "interpreter": {
   "hash": "77fe7f2921fd5ac1420359629674904b142848c704bee1cb7ff35390d0c22cc9"
  },
  "kernelspec": {
   "display_name": "Python 3.6.10 64-bit ('python3.6': conda)",
   "language": "python",
   "name": "python3"
  },
  "language_info": {
   "codemirror_mode": {
    "name": "ipython",
    "version": 3
   },
   "file_extension": ".py",
   "mimetype": "text/x-python",
   "name": "python",
   "nbconvert_exporter": "python",
   "pygments_lexer": "ipython3",
   "version": "3.6.10"
  },
  "orig_nbformat": 4
 },
 "nbformat": 4,
 "nbformat_minor": 2
}
