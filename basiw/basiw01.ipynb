{
 "cells": [
  {
   "cell_type": "code",
   "execution_count": null,
   "metadata": {},
   "outputs": [],
   "source": []
  }
 ],
 "metadata": {
  "interpreter": {
   "hash": "77fe7f2921fd5ac1420359629674904b142848c704bee1cb7ff35390d0c22cc9"
  },
  "kernelspec": {
   "display_name": "Python 3.6.10 64-bit ('python3.6': conda)",
   "language": "python",
   "name": "python3"
  },
  "language_info": {
   "name": "python",
   "version": "3.6.10"
  },
  "orig_nbformat": 4
 },
 "nbformat": 4,
 "nbformat_minor": 2
}
